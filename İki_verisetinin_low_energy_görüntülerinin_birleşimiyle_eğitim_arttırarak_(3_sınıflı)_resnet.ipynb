{
  "nbformat": 4,
  "nbformat_minor": 0,
  "metadata": {
    "colab": {
      "provenance": [],
      "machine_shape": "hm",
      "gpuType": "T4"
    },
    "kernelspec": {
      "name": "python3",
      "display_name": "Python 3"
    },
    "language_info": {
      "name": "python"
    },
    "accelerator": "GPU"
  },
  "cells": [
    {
      "cell_type": "code",
      "execution_count": 1,
      "metadata": {
        "colab": {
          "base_uri": "https://localhost:8080/"
        },
        "id": "ekFImNh3fkMG",
        "outputId": "6791a6ea-b30a-4572-8d85-d9b3e99b2412"
      },
      "outputs": [
        {
          "output_type": "stream",
          "name": "stdout",
          "text": [
            "Mounted at /content/drive\n"
          ]
        }
      ],
      "source": [
        "from google.colab import drive\n",
        "drive.mount('/content/drive')\n"
      ]
    },
    {
      "cell_type": "code",
      "source": [
        "!wget https://raw.githubusercontent.com/mrdbourke/tensorflow-deep-learning/main/extras/helper_functions.py\n",
        ""
      ],
      "metadata": {
        "colab": {
          "base_uri": "https://localhost:8080/"
        },
        "id": "TzNsQDGAu5IM",
        "outputId": "985c9f48-b4c1-4131-b922-e1ce148f2b58"
      },
      "execution_count": 4,
      "outputs": [
        {
          "output_type": "stream",
          "name": "stdout",
          "text": [
            "--2024-07-31 12:19:59--  https://raw.githubusercontent.com/mrdbourke/tensorflow-deep-learning/main/extras/helper_functions.py\n",
            "Resolving raw.githubusercontent.com (raw.githubusercontent.com)... 185.199.109.133, 185.199.108.133, 185.199.111.133, ...\n",
            "Connecting to raw.githubusercontent.com (raw.githubusercontent.com)|185.199.109.133|:443... connected.\n",
            "HTTP request sent, awaiting response... 200 OK\n",
            "Length: 10246 (10K) [text/plain]\n",
            "Saving to: ‘helper_functions.py’\n",
            "\n",
            "\rhelper_functions.py   0%[                    ]       0  --.-KB/s               \rhelper_functions.py 100%[===================>]  10.01K  --.-KB/s    in 0s      \n",
            "\n",
            "2024-07-31 12:19:59 (113 MB/s) - ‘helper_functions.py’ saved [10246/10246]\n",
            "\n"
          ]
        }
      ]
    },
    {
      "cell_type": "code",
      "source": [
        "from helper_functions import create_tensorboard_callback, plot_loss_curves, unzip_data, walk_through_dir"
      ],
      "metadata": {
        "id": "1P3gvy4nuwuU"
      },
      "execution_count": 5,
      "outputs": []
    },
    {
      "cell_type": "code",
      "source": [
        "\n",
        "import os\n",
        "\n",
        "for dirpath, dirnames, filenames in os.walk(\"/content/drive/MyDrive/Tez Dosyaları/low energy 3 classlı\"):\n",
        "  print(f\"There are {len(dirnames)} directories and {len(filenames)} images in '{dirpath}'.\")\n"
      ],
      "metadata": {
        "colab": {
          "base_uri": "https://localhost:8080/"
        },
        "id": "QmtVvbK-u1Vi",
        "outputId": "cf547a5a-1f74-465b-b5d6-5a71c1c6dfc7"
      },
      "execution_count": 6,
      "outputs": [
        {
          "output_type": "stream",
          "name": "stdout",
          "text": [
            "There are 2 directories and 0 images in '/content/drive/MyDrive/Tez Dosyaları/low energy 3 classlı'.\n",
            "There are 3 directories and 0 images in '/content/drive/MyDrive/Tez Dosyaları/low energy 3 classlı/Train'.\n",
            "There are 0 directories and 655 images in '/content/drive/MyDrive/Tez Dosyaları/low energy 3 classlı/Train/Normal'.\n",
            "There are 0 directories and 420 images in '/content/drive/MyDrive/Tez Dosyaları/low energy 3 classlı/Train/Malignant'.\n",
            "There are 0 directories and 325 images in '/content/drive/MyDrive/Tez Dosyaları/low energy 3 classlı/Train/Benign'.\n",
            "There are 3 directories and 0 images in '/content/drive/MyDrive/Tez Dosyaları/low energy 3 classlı/Test'.\n",
            "There are 0 directories and 72 images in '/content/drive/MyDrive/Tez Dosyaları/low energy 3 classlı/Test/Normal'.\n",
            "There are 0 directories and 50 images in '/content/drive/MyDrive/Tez Dosyaları/low energy 3 classlı/Test/Malignant'.\n",
            "There are 0 directories and 50 images in '/content/drive/MyDrive/Tez Dosyaları/low energy 3 classlı/Test/Benign'.\n"
          ]
        }
      ]
    },
    {
      "cell_type": "code",
      "source": [
        "train_dir = \"/content/drive/MyDrive/Tez Dosyaları/low energy 3 classlı/Train\"\n",
        "test_dir = \"/content/drive/MyDrive/Tez Dosyaları/low energy 3 classlı/Test\""
      ],
      "metadata": {
        "id": "arTgIM8RvdlC"
      },
      "execution_count": 7,
      "outputs": []
    },
    {
      "cell_type": "code",
      "source": [
        "\n",
        "import tensorflow as tf\n",
        "BATCH_SIZE = 32\n",
        "IMG_SIZE = (224, 224)\n",
        "train_data= tf.keras.preprocessing.image_dataset_from_directory(train_dir,\n",
        "                                                          label_mode= \"categorical\",\n",
        "                                                          batch_size=BATCH_SIZE,\n",
        "                                                          image_size=IMG_SIZE)\n",
        "\n",
        "test_data = tf.keras.preprocessing.image_dataset_from_directory(test_dir,\n",
        "                                                          label_mode=\"categorical\",\n",
        "                                                          batch_size=BATCH_SIZE,\n",
        "                                                          image_size=IMG_SIZE)"
      ],
      "metadata": {
        "colab": {
          "base_uri": "https://localhost:8080/"
        },
        "id": "s8Pait4ivigJ",
        "outputId": "2906bccb-ab0c-4381-f5f5-553e92b683a4"
      },
      "execution_count": 8,
      "outputs": [
        {
          "output_type": "stream",
          "name": "stdout",
          "text": [
            "Found 1400 files belonging to 3 classes.\n",
            "Found 172 files belonging to 3 classes.\n"
          ]
        }
      ]
    },
    {
      "cell_type": "code",
      "source": [
        "from tensorflow.keras.preprocessing.image import ImageDataGenerator\n",
        "from tensorflow.keras.preprocessing.image import img_to_array\n",
        "from tensorflow.keras.preprocessing.image import load_img\n",
        "import numpy as np\n",
        "import random\n",
        "import math\n",
        "import csv\n",
        "import cv2\n",
        "import os"
      ],
      "metadata": {
        "id": "jtwBhfaTvj5x"
      },
      "execution_count": 9,
      "outputs": []
    },
    {
      "cell_type": "code",
      "source": [
        "image_width = 224\n",
        "image_height = 224\n",
        "classes = ['Benign', 'Malignant', 'Normal']\n",
        "datagen = ImageDataGenerator(\n",
        "    rescale=1.0/255,\n",
        "    rotation_range=40,\n",
        "    width_shift_range=0.2,\n",
        "    height_shift_range=0.2,\n",
        "    shear_range=0.2,\n",
        "    zoom_range=0.2,\n",
        "    horizontal_flip=True,\n",
        "    fill_mode='nearest'\n",
        ")\n",
        "\n",
        "# Resimleri yüklemek için flow_from_directory kullanın\n",
        "train_generator = datagen.flow_from_directory(\n",
        "    directory=\"/content/drive/MyDrive/Tez Dosyaları/low energy 3 classlı/Train\",\n",
        "    target_size=(image_width, image_height),\n",
        "    batch_size=32,\n",
        "    class_mode='categorical',\n",
        "    subset='training'\n",
        ")\n",
        "\n",
        "# Her sınıf için resimleri ayrı ayrı arttırın\n",
        "for cls in classes:\n",
        "    # Sınıfın resimlerini yüklemek için flow_from_directory kullanın\n",
        "    cls_generator = datagen.flow_from_directory(\n",
        "        directory=\"/content/drive/MyDrive/Tez Dosyaları/low energy 3 classlı/Train\",\n",
        "        target_size=(image_width, image_height),\n",
        "        batch_size=32,\n",
        "        class_mode='categorical',\n",
        "        subset='training',\n",
        "        classes=[cls]\n",
        "    )\n",
        "\n",
        "    # Resimleri arttırın ve kaydedin\n",
        "    i = 0\n",
        "    for batch in cls_generator:\n",
        "        images, labels = batch\n",
        "        for image in images:\n",
        "            # Resmi kaydetmek için imwrite kullanın\n",
        "            cv2.imwrite(os.path.join(\"/content/drive/MyDrive/Tez Dosyaları/low energy 3 classlı/Train\", cls, f\"augmented_{i}.jpg\"), image * 255)\n",
        "            i += 1\n",
        "            if i >= 3000:  # Maksimum resim sayısına ulaşıldığında döngüyü durdur\n",
        "                break\n",
        "        else:\n",
        "            continue\n",
        "        break"
      ],
      "metadata": {
        "colab": {
          "base_uri": "https://localhost:8080/"
        },
        "id": "uf5VQMqJvlud",
        "outputId": "939eab83-8a71-4632-c836-3b156624ed6e"
      },
      "execution_count": 10,
      "outputs": [
        {
          "output_type": "stream",
          "name": "stdout",
          "text": [
            "Found 1400 images belonging to 3 classes.\n",
            "Found 325 images belonging to 1 classes.\n",
            "Found 420 images belonging to 1 classes.\n",
            "Found 655 images belonging to 1 classes.\n"
          ]
        }
      ]
    },
    {
      "cell_type": "code",
      "source": [
        "import tensorflow as tf\n",
        "\n",
        "# 1. create base model with tf.keras.applications\n",
        "base_model = tf.keras.applications.ResNet50(include_top=False)\n",
        "\n",
        "# 2. Freeze the base model\n",
        "base_model.trainable = False\n",
        "\n",
        "# 3. create inputs into our model\n",
        "inputs = tf.keras.layers.Input(shape=(224, 224, 3), name=\"input_layer\")\n",
        "\n",
        "# 4. if using ResNet50V2 you will need to normalize inputs\n",
        "# x = tf.keras.layers.experimental.preprocessing.Rescaling(1./255)(inputs)\n",
        "\n",
        "# 5. pass the inputs to the base_model\n",
        "x = base_model(inputs)\n",
        "print(f\"Shape after passing inputs through base model: {x.shape}\")\n",
        "\n",
        "# 6. average pool the outputs of the base model (aggregate all the most important information, reduce number of computations)\n",
        "x = tf.keras.layers.GlobalAveragePooling2D(name=\"global_average_pooling_layer\")(x)\n",
        "print(f\"Shape after GlobalAveragePooling2D: {x.shape}\")\n",
        "\n",
        "# 7. create the output activation layer for 3 classes\n",
        "outputs = tf.keras.layers.Dense(3, activation=\"softmax\", name=\"output_layer\")(x)\n",
        "model_0 = tf.keras.Model(inputs, outputs)\n",
        "\n",
        "# 8. compile the model for 3 classes\n",
        "model_0.compile(loss=\"categorical_crossentropy\",\n",
        "                optimizer=tf.keras.optimizers.Adam(),\n",
        "                metrics=[\"accuracy\"])\n",
        "\n",
        "# Assuming you have already prepared your train_data and test_data\n",
        "# Make sure that train_data and test_data are prepared with class_mode='categorical'\n",
        "\n",
        "# 9. fit the model\n",
        "history_0 = model_0.fit(train_data,\n",
        "                        epochs=40,\n",
        "                        steps_per_epoch=len(train_data),\n",
        "                        validation_data=test_data,\n",
        "                        validation_steps=int(len(test_data)),\n",
        "                        callbacks=[create_tensorboard_callback(dir_name=\"transfer_learning\",\n",
        "                                                               experiment_name=\"3_class_feature_extraction\")])\n",
        ""
      ],
      "metadata": {
        "colab": {
          "base_uri": "https://localhost:8080/"
        },
        "id": "1L686crgvsCC",
        "outputId": "45bc7ed6-b9c5-444e-e139-ec7b8b3c0f15"
      },
      "execution_count": 26,
      "outputs": [
        {
          "output_type": "stream",
          "name": "stdout",
          "text": [
            "Downloading data from https://storage.googleapis.com/tensorflow/keras-applications/resnet/resnet50_weights_tf_dim_ordering_tf_kernels_notop.h5\n",
            "94765736/94765736 [==============================] - 0s 0us/step\n",
            "Shape after passing inputs through base model: (None, 7, 7, 2048)\n",
            "Shape after GlobalAveragePooling2D: (None, 2048)\n",
            "Saving TensorBoard log files to: transfer_learning/3_class_feature_extraction/20240731-134346\n",
            "Epoch 1/40\n",
            "44/44 [==============================] - 19s 288ms/step - loss: 1.1849 - accuracy: 0.4593 - val_loss: 1.1234 - val_accuracy: 0.4709\n",
            "Epoch 2/40\n",
            "44/44 [==============================] - 10s 200ms/step - loss: 1.0004 - accuracy: 0.5179 - val_loss: 1.0698 - val_accuracy: 0.5000\n",
            "Epoch 3/40\n",
            "44/44 [==============================] - 11s 208ms/step - loss: 0.8989 - accuracy: 0.5771 - val_loss: 1.0422 - val_accuracy: 0.5291\n",
            "Epoch 4/40\n",
            "44/44 [==============================] - 11s 207ms/step - loss: 0.8614 - accuracy: 0.6057 - val_loss: 1.0706 - val_accuracy: 0.5000\n",
            "Epoch 5/40\n",
            "44/44 [==============================] - 10s 201ms/step - loss: 0.8473 - accuracy: 0.6079 - val_loss: 1.1259 - val_accuracy: 0.4709\n",
            "Epoch 6/40\n",
            "44/44 [==============================] - 10s 197ms/step - loss: 0.8513 - accuracy: 0.6000 - val_loss: 1.0117 - val_accuracy: 0.5407\n",
            "Epoch 7/40\n",
            "44/44 [==============================] - 10s 199ms/step - loss: 0.8083 - accuracy: 0.6443 - val_loss: 1.1103 - val_accuracy: 0.4942\n",
            "Epoch 8/40\n",
            "44/44 [==============================] - 10s 200ms/step - loss: 0.7801 - accuracy: 0.6429 - val_loss: 1.1023 - val_accuracy: 0.5000\n",
            "Epoch 9/40\n",
            "44/44 [==============================] - 10s 203ms/step - loss: 0.7548 - accuracy: 0.6586 - val_loss: 1.0647 - val_accuracy: 0.5291\n",
            "Epoch 10/40\n",
            "44/44 [==============================] - 10s 200ms/step - loss: 0.7193 - accuracy: 0.6857 - val_loss: 1.0034 - val_accuracy: 0.5233\n",
            "Epoch 11/40\n",
            "44/44 [==============================] - 10s 196ms/step - loss: 0.7094 - accuracy: 0.6907 - val_loss: 1.0847 - val_accuracy: 0.5174\n",
            "Epoch 12/40\n",
            "44/44 [==============================] - 10s 199ms/step - loss: 0.6925 - accuracy: 0.6957 - val_loss: 1.0773 - val_accuracy: 0.5407\n",
            "Epoch 13/40\n",
            "44/44 [==============================] - 10s 202ms/step - loss: 0.6798 - accuracy: 0.7071 - val_loss: 1.0712 - val_accuracy: 0.5000\n",
            "Epoch 14/40\n",
            "44/44 [==============================] - 10s 202ms/step - loss: 0.6635 - accuracy: 0.7171 - val_loss: 1.1222 - val_accuracy: 0.4942\n",
            "Epoch 15/40\n",
            "44/44 [==============================] - 10s 202ms/step - loss: 0.6349 - accuracy: 0.7400 - val_loss: 1.1129 - val_accuracy: 0.5349\n",
            "Epoch 16/40\n",
            "44/44 [==============================] - 10s 193ms/step - loss: 0.6476 - accuracy: 0.7250 - val_loss: 1.1200 - val_accuracy: 0.5233\n",
            "Epoch 17/40\n",
            "44/44 [==============================] - 10s 199ms/step - loss: 0.6235 - accuracy: 0.7436 - val_loss: 1.1227 - val_accuracy: 0.5058\n",
            "Epoch 18/40\n",
            "44/44 [==============================] - 10s 206ms/step - loss: 0.6065 - accuracy: 0.7479 - val_loss: 1.1110 - val_accuracy: 0.4826\n",
            "Epoch 19/40\n",
            "44/44 [==============================] - 10s 201ms/step - loss: 0.5905 - accuracy: 0.7707 - val_loss: 1.0638 - val_accuracy: 0.5640\n",
            "Epoch 20/40\n",
            "44/44 [==============================] - 10s 196ms/step - loss: 0.5838 - accuracy: 0.7693 - val_loss: 1.0745 - val_accuracy: 0.5291\n",
            "Epoch 21/40\n",
            "44/44 [==============================] - 10s 197ms/step - loss: 0.5667 - accuracy: 0.7843 - val_loss: 1.1034 - val_accuracy: 0.5116\n",
            "Epoch 22/40\n",
            "44/44 [==============================] - 10s 199ms/step - loss: 0.5643 - accuracy: 0.7850 - val_loss: 1.0934 - val_accuracy: 0.5233\n",
            "Epoch 23/40\n",
            "44/44 [==============================] - 10s 202ms/step - loss: 0.5567 - accuracy: 0.7886 - val_loss: 1.1799 - val_accuracy: 0.4709\n",
            "Epoch 24/40\n",
            "44/44 [==============================] - 10s 202ms/step - loss: 0.5425 - accuracy: 0.7943 - val_loss: 1.2109 - val_accuracy: 0.4942\n",
            "Epoch 25/40\n",
            "44/44 [==============================] - 10s 199ms/step - loss: 0.5443 - accuracy: 0.7793 - val_loss: 1.2229 - val_accuracy: 0.5000\n",
            "Epoch 26/40\n",
            "44/44 [==============================] - 10s 194ms/step - loss: 0.5306 - accuracy: 0.8036 - val_loss: 1.1978 - val_accuracy: 0.5058\n",
            "Epoch 27/40\n",
            "44/44 [==============================] - 10s 201ms/step - loss: 0.5162 - accuracy: 0.8236 - val_loss: 1.1498 - val_accuracy: 0.5407\n",
            "Epoch 28/40\n",
            "44/44 [==============================] - 10s 201ms/step - loss: 0.5288 - accuracy: 0.7907 - val_loss: 1.2183 - val_accuracy: 0.4942\n",
            "Epoch 29/40\n",
            "44/44 [==============================] - 10s 203ms/step - loss: 0.4992 - accuracy: 0.8264 - val_loss: 1.1712 - val_accuracy: 0.4942\n",
            "Epoch 30/40\n",
            "44/44 [==============================] - 10s 200ms/step - loss: 0.4859 - accuracy: 0.8400 - val_loss: 1.1978 - val_accuracy: 0.5174\n",
            "Epoch 31/40\n",
            "44/44 [==============================] - 10s 196ms/step - loss: 0.4856 - accuracy: 0.8293 - val_loss: 1.2853 - val_accuracy: 0.4535\n",
            "Epoch 32/40\n",
            "44/44 [==============================] - 10s 198ms/step - loss: 0.4739 - accuracy: 0.8379 - val_loss: 1.1905 - val_accuracy: 0.5000\n",
            "Epoch 33/40\n",
            "44/44 [==============================] - 10s 206ms/step - loss: 0.4786 - accuracy: 0.8293 - val_loss: 1.2363 - val_accuracy: 0.5116\n",
            "Epoch 34/40\n",
            "44/44 [==============================] - 10s 199ms/step - loss: 0.4565 - accuracy: 0.8564 - val_loss: 1.3246 - val_accuracy: 0.5058\n",
            "Epoch 35/40\n",
            "44/44 [==============================] - 10s 199ms/step - loss: 0.4579 - accuracy: 0.8393 - val_loss: 1.2730 - val_accuracy: 0.4477\n",
            "Epoch 36/40\n",
            "44/44 [==============================] - 10s 197ms/step - loss: 0.4475 - accuracy: 0.8479 - val_loss: 1.2197 - val_accuracy: 0.4767\n",
            "Epoch 37/40\n",
            "44/44 [==============================] - 10s 200ms/step - loss: 0.4355 - accuracy: 0.8614 - val_loss: 1.2163 - val_accuracy: 0.5407\n",
            "Epoch 38/40\n",
            "44/44 [==============================] - 10s 202ms/step - loss: 0.4440 - accuracy: 0.8464 - val_loss: 1.3016 - val_accuracy: 0.5116\n",
            "Epoch 39/40\n",
            "44/44 [==============================] - 10s 201ms/step - loss: 0.4372 - accuracy: 0.8600 - val_loss: 1.2835 - val_accuracy: 0.5349\n",
            "Epoch 40/40\n",
            "44/44 [==============================] - 10s 198ms/step - loss: 0.4531 - accuracy: 0.8407 - val_loss: 1.2571 - val_accuracy: 0.5465\n"
          ]
        }
      ]
    },
    {
      "cell_type": "code",
      "source": [
        "# Evaluate the model on the test data\n",
        "results_feature_extraction = model_0.evaluate(test_data)\n",
        "results_feature_extraction"
      ],
      "metadata": {
        "colab": {
          "base_uri": "https://localhost:8080/"
        },
        "id": "1AK-j3Ktvuyc",
        "outputId": "269a521f-5c82-40d9-a601-12d7313958a5"
      },
      "execution_count": 27,
      "outputs": [
        {
          "output_type": "stream",
          "name": "stdout",
          "text": [
            "6/6 [==============================] - 2s 83ms/step - loss: 1.2571 - accuracy: 0.5465\n"
          ]
        },
        {
          "output_type": "execute_result",
          "data": {
            "text/plain": [
              "[1.2571436166763306, 0.5465116500854492]"
            ]
          },
          "metadata": {},
          "execution_count": 27
        }
      ]
    },
    {
      "cell_type": "code",
      "source": [
        "plot_loss_curves(history_0)"
      ],
      "metadata": {
        "colab": {
          "base_uri": "https://localhost:8080/",
          "height": 927
        },
        "id": "k3gmeoENvwI-",
        "outputId": "bdf651e3-9138-4035-9c11-1e8f5014d5ac"
      },
      "execution_count": 28,
      "outputs": [
        {
          "output_type": "display_data",
          "data": {
            "text/plain": [
              "<Figure size 640x480 with 1 Axes>"
            ],
            "image/png": "[encoded data removed]"
          },
          "metadata": {}
        },
        {
          "output_type": "display_data",
          "data": {
            "text/plain": [
              "<Figure size 640x480 with 1 Axes>"
            ],
            "image/png": "[encoded data removed]"
          },
          "metadata": {}
        }
      ]
    },
    {
      "cell_type": "code",
      "source": [
        "\n",
        "from sklearn.metrics import classification_report\n",
        "\n",
        "# Assuming you have true labels for your test data stored in y_true\n",
        "# and predictions from your model stored in y_pred\n",
        "\n",
        "# Convert categorical predictions to class labels\n",
        "y_pred_labels = np.argmax(model_0.predict(test_data), axis=1)\n",
        "\n",
        "# Get true labels from the test dataset\n",
        "y_true_labels = np.concatenate([y for x, y in test_data], axis=0)\n",
        "y_true_labels = np.argmax(y_true_labels, axis=1)\n",
        "\n",
        "# Generate classification report\n",
        "report = classification_report(y_true_labels, y_pred_labels)\n",
        "\n",
        "print(report)"
      ],
      "metadata": {
        "colab": {
          "base_uri": "https://localhost:8080/"
        },
        "id": "B0A7M87Pvxcz",
        "outputId": "9ae77cc9-6477-4c1a-b42a-c399b3c27633"
      },
      "execution_count": 29,
      "outputs": [
        {
          "output_type": "stream",
          "name": "stdout",
          "text": [
            "6/6 [==============================] - 2s 97ms/step\n",
            "              precision    recall  f1-score   support\n",
            "\n",
            "           0       0.39      0.22      0.28        50\n",
            "           1       0.29      0.20      0.24        50\n",
            "           2       0.47      0.71      0.56        72\n",
            "\n",
            "    accuracy                           0.42       172\n",
            "   macro avg       0.38      0.38      0.36       172\n",
            "weighted avg       0.39      0.42      0.39       172\n",
            "\n"
          ]
        }
      ]
    },
    {
      "cell_type": "code",
      "source": [
        "# Eğitim doğruluğunu geçmiş verilerinden al\n",
        "train_accuracy = history_0.history['accuracy']\n",
        "\n",
        "# Son epoch'un eğitim doğruluğunu yazdır\n",
        "print(\"Eğitim doğruluğu:\", train_accuracy[-1])"
      ],
      "metadata": {
        "colab": {
          "base_uri": "https://localhost:8080/"
        },
        "id": "n6ALXz62vy7W",
        "outputId": "e8258e93-97b1-4b14-a1aa-9a60d79fc490"
      },
      "execution_count": 30,
      "outputs": [
        {
          "output_type": "stream",
          "name": "stdout",
          "text": [
            "Eğitim doğruluğu: 0.8407142758369446\n"
          ]
        }
      ]
    },
    {
      "cell_type": "code",
      "source": [],
      "metadata": {
        "id": "SYTEZbD6v0Ln"
      },
      "execution_count": 30,
      "outputs": []
    }
  ]
}