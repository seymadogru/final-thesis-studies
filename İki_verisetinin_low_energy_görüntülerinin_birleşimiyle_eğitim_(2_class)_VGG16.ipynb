{
  "nbformat": 4,
  "nbformat_minor": 0,
  "metadata": {
    "colab": {
      "provenance": [],
      "machine_shape": "hm",
      "gpuType": "T4"
    },
    "kernelspec": {
      "name": "python3",
      "display_name": "Python 3"
    },
    "language_info": {
      "name": "python"
    },
    "accelerator": "GPU"
  },
  "cells": [
    {
      "cell_type": "code",
      "execution_count": 1,
      "metadata": {
        "colab": {
          "base_uri": "https://localhost:8080/"
        },
        "id": "gbnn7I5ppD3v",
        "outputId": "44d67125-7115-46e1-f8d1-0b9e3d62b1b4"
      },
      "outputs": [
        {
          "output_type": "stream",
          "name": "stdout",
          "text": [
            "Mounted at /content/drive\n"
          ]
        }
      ],
      "source": [
        "\n",
        "from google.colab import drive\n",
        "drive.mount('/content/drive')"
      ]
    },
    {
      "cell_type": "code",
      "source": [
        "!wget https://raw.githubusercontent.com/mrdbourke/tensorflow-deep-learning/main/extras/helper_functions.py"
      ],
      "metadata": {
        "colab": {
          "base_uri": "https://localhost:8080/"
        },
        "id": "GEOUS8tkqQ5b",
        "outputId": "e6a0152c-6eee-44b5-e715-bd8d757b78d1"
      },
      "execution_count": 2,
      "outputs": [
        {
          "output_type": "stream",
          "name": "stdout",
          "text": [
            "--2024-07-30 20:08:31--  https://raw.githubusercontent.com/mrdbourke/tensorflow-deep-learning/main/extras/helper_functions.py\n",
            "Resolving raw.githubusercontent.com (raw.githubusercontent.com)... 185.199.108.133, 185.199.109.133, 185.199.110.133, ...\n",
            "Connecting to raw.githubusercontent.com (raw.githubusercontent.com)|185.199.108.133|:443... connected.\n",
            "HTTP request sent, awaiting response... 200 OK\n",
            "Length: 10246 (10K) [text/plain]\n",
            "Saving to: ‘helper_functions.py’\n",
            "\n",
            "helper_functions.py 100%[===================>]  10.01K  --.-KB/s    in 0s      \n",
            "\n",
            "2024-07-30 20:08:32 (126 MB/s) - ‘helper_functions.py’ saved [10246/10246]\n",
            "\n"
          ]
        }
      ]
    },
    {
      "cell_type": "code",
      "source": [
        "#import helper functions we're going to use in this notebook\n",
        "\n",
        "from helper_functions import create_tensorboard_callback, plot_loss_curves, unzip_data, walk_through_dir\n"
      ],
      "metadata": {
        "id": "hK_l2L0iqZKA"
      },
      "execution_count": 3,
      "outputs": []
    },
    {
      "cell_type": "code",
      "source": [
        "import os\n",
        "\n",
        "for dirpath, dirnames, filenames in os.walk(\"/content/drive/MyDrive/Tez Dosyaları/low energy 2 classlı\"):\n",
        "  print(f\"There are {len(dirnames)} directories and {len(filenames)} images in '{dirpath}'.\")\n",
        "\n",
        ""
      ],
      "metadata": {
        "colab": {
          "base_uri": "https://localhost:8080/"
        },
        "id": "CJUXA2gXqa-A",
        "outputId": "3907fc57-0852-4676-91d8-505f489d0b7e"
      },
      "execution_count": 4,
      "outputs": [
        {
          "output_type": "stream",
          "name": "stdout",
          "text": [
            "There are 2 directories and 0 images in '/content/drive/MyDrive/Tez Dosyaları/low energy 2 classlı'.\n",
            "There are 2 directories and 0 images in '/content/drive/MyDrive/Tez Dosyaları/low energy 2 classlı/Train'.\n",
            "There are 0 directories and 420 images in '/content/drive/MyDrive/Tez Dosyaları/low energy 2 classlı/Train/Malignant'.\n",
            "There are 0 directories and 325 images in '/content/drive/MyDrive/Tez Dosyaları/low energy 2 classlı/Train/Benign'.\n",
            "There are 2 directories and 0 images in '/content/drive/MyDrive/Tez Dosyaları/low energy 2 classlı/Test'.\n",
            "There are 0 directories and 50 images in '/content/drive/MyDrive/Tez Dosyaları/low energy 2 classlı/Test/Malignant'.\n",
            "There are 0 directories and 50 images in '/content/drive/MyDrive/Tez Dosyaları/low energy 2 classlı/Test/Benign'.\n"
          ]
        }
      ]
    },
    {
      "cell_type": "code",
      "source": [
        "\n",
        "train_dir = \"/content/drive/MyDrive/Tez Dosyaları/low energy 2 classlı/Train\"\n",
        "test_dir = \"/content/drive/MyDrive/Tez Dosyaları/low energy 2 classlı/Test\""
      ],
      "metadata": {
        "id": "_NzHZ4XuqhBQ"
      },
      "execution_count": 5,
      "outputs": []
    },
    {
      "cell_type": "code",
      "source": [
        "import tensorflow as tf\n",
        "BATCH_SIZE = 32\n",
        "IMG_SIZE = (224, 224)\n",
        "train_data= tf.keras.preprocessing.image_dataset_from_directory(train_dir,\n",
        "                                                          label_mode=\"binary\",\n",
        "                                                          batch_size=BATCH_SIZE,\n",
        "                                                          image_size=IMG_SIZE)\n",
        "\n",
        "test_data = tf.keras.preprocessing.image_dataset_from_directory(test_dir,\n",
        "                                                          label_mode=\"binary\",\n",
        "                                                          batch_size=BATCH_SIZE,\n",
        "                                                          image_size=IMG_SIZE)"
      ],
      "metadata": {
        "colab": {
          "base_uri": "https://localhost:8080/"
        },
        "id": "JSaT6B8wqmGe",
        "outputId": "603f3743-d2c2-40bd-c2b0-8605726a340e"
      },
      "execution_count": 6,
      "outputs": [
        {
          "output_type": "stream",
          "name": "stdout",
          "text": [
            "Found 745 files belonging to 2 classes.\n",
            "Found 100 files belonging to 2 classes.\n"
          ]
        }
      ]
    },
    {
      "cell_type": "code",
      "source": [
        "train_data.class_names"
      ],
      "metadata": {
        "colab": {
          "base_uri": "https://localhost:8080/"
        },
        "id": "z_mae4EUqoa_",
        "outputId": "37e325e8-ec83-4325-ce57-4960afa1b9fb"
      },
      "execution_count": 7,
      "outputs": [
        {
          "output_type": "execute_result",
          "data": {
            "text/plain": [
              "['Benign', 'Malignant']"
            ]
          },
          "metadata": {},
          "execution_count": 7
        }
      ]
    },
    {
      "cell_type": "code",
      "source": [
        "from tensorflow.keras.preprocessing.image import ImageDataGenerator\n",
        "from tensorflow.keras.preprocessing.image import img_to_array\n",
        "from tensorflow.keras.preprocessing.image import load_img\n",
        "import numpy as np\n",
        "import random\n",
        "import math\n",
        "import csv\n",
        "import cv2\n",
        "import os"
      ],
      "metadata": {
        "id": "Gdc0J2uercAH"
      },
      "execution_count": 8,
      "outputs": []
    },
    {
      "cell_type": "code",
      "source": [
        "# 1.  create base model with tf.keras.applications\n",
        "base_model = tf.keras.applications.VGG16(include_top=False)\n",
        "\n",
        "# 2. Freeze the base model\n",
        "base_model.trainable = False\n",
        "\n",
        "# 3. create inputs into our model\n",
        "inputs = tf.keras.layers.Input(shape=(224, 224, 3), name=\"input_layer\")\n",
        "\n",
        "# 4. if using ResNet50V2 you will need to normalize inputs\n",
        "# x = tf.keras.layers.experimental.preprocessing.Rescaling(1./255)(inputs)\n",
        "\n",
        "# 5. pass the inputs to the base_model\n",
        "x = base_model(inputs)\n",
        "print(f\"Shape after passing inputs through base model: {x.shape}\")\n",
        "\n",
        "# 6. average pool the outputs of the base model (aggregate all the most important information, reduce number of computations)\n",
        "x = tf.keras.layers.GlobalAveragePooling2D(name=\"global_average_pooling_layer\")(x)\n",
        "print(f\"Shape after GlobalAveragePooling2D: {x.shape}\")\n",
        "\n",
        "# 7. create the output activation layer\n",
        "outputs = tf.keras.layers.Dense(1, activation=\"sigmoid\", name=\"output_layer\")(x)\n",
        "model_0 = tf.keras.Model(inputs, outputs)\n",
        "\n",
        "# 8. compile the model\n",
        "model_0.compile(loss=\"binary_crossentropy\",\n",
        "                optimizer=tf.keras.optimizers.Adam(),\n",
        "                metrics=[\"accuracy\"])\n",
        "\n",
        "# 9. fit the model\n",
        "history_0 = model_0.fit(train_data,\n",
        "                        epochs=40,\n",
        "                        steps_per_epoch=len(train_data),\n",
        "                        validation_data=test_data,\n",
        "                        validation_steps=int(len(test_data)),\n",
        "                        callbacks=[create_tensorboard_callback(dir_name=\"transfer_learning\",\n",
        "                                                              experiment_name=\"10_percent_feature_extraction\")])\n"
      ],
      "metadata": {
        "colab": {
          "base_uri": "https://localhost:8080/"
        },
        "id": "Twe27qyHrh6F",
        "outputId": "7ca32331-40e7-4fe5-f61d-80dd3383fc5e"
      },
      "execution_count": 9,
      "outputs": [
        {
          "output_type": "stream",
          "name": "stdout",
          "text": [
            "Downloading data from https://storage.googleapis.com/tensorflow/keras-applications/vgg16/vgg16_weights_tf_dim_ordering_tf_kernels_notop.h5\n",
            "58889256/58889256 [==============================] - 2s 0us/step\n",
            "Shape after passing inputs through base model: (None, 7, 7, 512)\n",
            "Shape after GlobalAveragePooling2D: (None, 512)\n",
            "Saving TensorBoard log files to: transfer_learning/10_percent_feature_extraction/20240730-200847\n",
            "Epoch 1/40\n",
            "24/24 [==============================] - 63s 1s/step - loss: 1.3365 - accuracy: 0.5114 - val_loss: 1.1469 - val_accuracy: 0.5400\n",
            "Epoch 2/40\n",
            "24/24 [==============================] - 7s 205ms/step - loss: 1.0130 - accuracy: 0.5168 - val_loss: 1.1823 - val_accuracy: 0.5300\n",
            "Epoch 3/40\n",
            "24/24 [==============================] - 6s 196ms/step - loss: 0.9123 - accuracy: 0.5705 - val_loss: 1.1797 - val_accuracy: 0.5600\n",
            "Epoch 4/40\n",
            "24/24 [==============================] - 6s 199ms/step - loss: 0.8516 - accuracy: 0.5839 - val_loss: 1.1029 - val_accuracy: 0.5500\n",
            "Epoch 5/40\n",
            "24/24 [==============================] - 6s 199ms/step - loss: 0.7967 - accuracy: 0.5960 - val_loss: 1.0794 - val_accuracy: 0.5500\n",
            "Epoch 6/40\n",
            "24/24 [==============================] - 6s 205ms/step - loss: 0.7519 - accuracy: 0.6134 - val_loss: 1.0249 - val_accuracy: 0.5200\n",
            "Epoch 7/40\n",
            "24/24 [==============================] - 6s 197ms/step - loss: 0.7204 - accuracy: 0.6201 - val_loss: 1.0521 - val_accuracy: 0.5300\n",
            "Epoch 8/40\n",
            "24/24 [==============================] - 6s 197ms/step - loss: 0.6797 - accuracy: 0.6456 - val_loss: 1.0089 - val_accuracy: 0.5400\n",
            "Epoch 9/40\n",
            "24/24 [==============================] - 6s 200ms/step - loss: 0.6570 - accuracy: 0.6510 - val_loss: 1.0317 - val_accuracy: 0.5500\n",
            "Epoch 10/40\n",
            "24/24 [==============================] - 6s 196ms/step - loss: 0.6437 - accuracy: 0.6577 - val_loss: 1.0523 - val_accuracy: 0.5200\n",
            "Epoch 11/40\n",
            "24/24 [==============================] - 6s 198ms/step - loss: 0.6147 - accuracy: 0.6698 - val_loss: 1.0219 - val_accuracy: 0.5200\n",
            "Epoch 12/40\n",
            "24/24 [==============================] - 6s 199ms/step - loss: 0.5924 - accuracy: 0.6779 - val_loss: 1.0234 - val_accuracy: 0.5300\n",
            "Epoch 13/40\n",
            "24/24 [==============================] - 6s 194ms/step - loss: 0.5825 - accuracy: 0.6940 - val_loss: 1.0685 - val_accuracy: 0.5800\n",
            "Epoch 14/40\n",
            "24/24 [==============================] - 6s 198ms/step - loss: 0.5671 - accuracy: 0.7087 - val_loss: 1.0168 - val_accuracy: 0.5300\n",
            "Epoch 15/40\n",
            "24/24 [==============================] - 6s 198ms/step - loss: 0.5624 - accuracy: 0.7060 - val_loss: 1.0907 - val_accuracy: 0.5600\n",
            "Epoch 16/40\n",
            "24/24 [==============================] - 6s 204ms/step - loss: 0.5400 - accuracy: 0.7074 - val_loss: 1.0580 - val_accuracy: 0.5300\n",
            "Epoch 17/40\n",
            "24/24 [==============================] - 6s 195ms/step - loss: 0.5283 - accuracy: 0.7329 - val_loss: 1.0276 - val_accuracy: 0.5500\n",
            "Epoch 18/40\n",
            "24/24 [==============================] - 6s 200ms/step - loss: 0.5245 - accuracy: 0.7302 - val_loss: 1.0874 - val_accuracy: 0.5400\n",
            "Epoch 19/40\n",
            "24/24 [==============================] - 6s 196ms/step - loss: 0.5098 - accuracy: 0.7503 - val_loss: 1.0094 - val_accuracy: 0.5400\n",
            "Epoch 20/40\n",
            "24/24 [==============================] - 6s 199ms/step - loss: 0.5071 - accuracy: 0.7369 - val_loss: 1.1286 - val_accuracy: 0.5500\n",
            "Epoch 21/40\n",
            "24/24 [==============================] - 6s 199ms/step - loss: 0.5040 - accuracy: 0.7490 - val_loss: 1.1294 - val_accuracy: 0.5700\n",
            "Epoch 22/40\n",
            "24/24 [==============================] - 6s 202ms/step - loss: 0.4893 - accuracy: 0.7584 - val_loss: 1.0845 - val_accuracy: 0.5500\n",
            "Epoch 23/40\n",
            "24/24 [==============================] - 6s 200ms/step - loss: 0.4804 - accuracy: 0.7678 - val_loss: 1.1598 - val_accuracy: 0.5700\n",
            "Epoch 24/40\n",
            "24/24 [==============================] - 6s 198ms/step - loss: 0.4861 - accuracy: 0.7624 - val_loss: 1.1464 - val_accuracy: 0.5700\n",
            "Epoch 25/40\n",
            "24/24 [==============================] - 6s 199ms/step - loss: 0.4656 - accuracy: 0.7745 - val_loss: 1.1389 - val_accuracy: 0.5700\n",
            "Epoch 26/40\n",
            "24/24 [==============================] - 6s 195ms/step - loss: 0.4813 - accuracy: 0.7624 - val_loss: 1.2157 - val_accuracy: 0.5600\n",
            "Epoch 27/40\n",
            "24/24 [==============================] - 6s 198ms/step - loss: 0.4602 - accuracy: 0.7893 - val_loss: 1.1630 - val_accuracy: 0.5700\n",
            "Epoch 28/40\n",
            "24/24 [==============================] - 6s 196ms/step - loss: 0.4520 - accuracy: 0.7866 - val_loss: 1.0975 - val_accuracy: 0.5700\n",
            "Epoch 29/40\n",
            "24/24 [==============================] - 6s 201ms/step - loss: 0.4704 - accuracy: 0.7678 - val_loss: 1.0714 - val_accuracy: 0.5800\n",
            "Epoch 30/40\n",
            "24/24 [==============================] - 6s 193ms/step - loss: 0.4406 - accuracy: 0.7946 - val_loss: 1.0804 - val_accuracy: 0.5800\n",
            "Epoch 31/40\n",
            "24/24 [==============================] - 6s 204ms/step - loss: 0.4403 - accuracy: 0.7933 - val_loss: 1.1440 - val_accuracy: 0.5800\n",
            "Epoch 32/40\n",
            "24/24 [==============================] - 6s 200ms/step - loss: 0.4327 - accuracy: 0.8121 - val_loss: 1.1883 - val_accuracy: 0.5700\n",
            "Epoch 33/40\n",
            "24/24 [==============================] - 7s 206ms/step - loss: 0.4323 - accuracy: 0.7987 - val_loss: 1.1742 - val_accuracy: 0.5700\n",
            "Epoch 34/40\n",
            "24/24 [==============================] - 6s 195ms/step - loss: 0.4238 - accuracy: 0.8081 - val_loss: 1.1677 - val_accuracy: 0.5900\n",
            "Epoch 35/40\n",
            "24/24 [==============================] - 6s 201ms/step - loss: 0.4168 - accuracy: 0.8161 - val_loss: 1.1729 - val_accuracy: 0.5700\n",
            "Epoch 36/40\n",
            "24/24 [==============================] - 6s 196ms/step - loss: 0.4169 - accuracy: 0.8215 - val_loss: 1.2324 - val_accuracy: 0.5700\n",
            "Epoch 37/40\n",
            "24/24 [==============================] - 6s 208ms/step - loss: 0.4180 - accuracy: 0.8215 - val_loss: 1.2074 - val_accuracy: 0.5800\n",
            "Epoch 38/40\n",
            "24/24 [==============================] - 6s 195ms/step - loss: 0.4095 - accuracy: 0.8161 - val_loss: 1.1734 - val_accuracy: 0.6100\n",
            "Epoch 39/40\n",
            "24/24 [==============================] - 6s 207ms/step - loss: 0.4052 - accuracy: 0.8228 - val_loss: 1.2522 - val_accuracy: 0.5900\n",
            "Epoch 40/40\n",
            "24/24 [==============================] - 6s 197ms/step - loss: 0.3990 - accuracy: 0.8282 - val_loss: 1.2003 - val_accuracy: 0.5800\n"
          ]
        }
      ]
    },
    {
      "cell_type": "code",
      "source": [
        "import matplotlib.pyplot as plt\n",
        "\n",
        "def plot_loss_curves(history):\n",
        "  \"\"\"\n",
        "  Returns separate loss curves for training and validation metrics.\n",
        "  Args:\n",
        "    history: TensorFlow History object.\n",
        "\n",
        "    Returns:\n",
        "    Plots of training/validation loss and accuracy metrics.\n",
        "  \"\"\"\n",
        "  loss = history.history['loss']\n",
        "  val_loss = history.history['val_loss']\n",
        "\n",
        "  accuracy = history.history['accuracy']\n",
        "  val_accuracy = history.history['val_accuracy']\n",
        "\n",
        "  epochs = range(len(history.history['loss']))\n",
        "\n",
        "  #Plot loss\n",
        "\n",
        "  plt.plot(epochs, loss, label='training_loss')\n",
        "  plt.plot(epochs, val_loss, label='val_loss')\n",
        "  plt.title('Loss')\n",
        "  plt.xlabel('Epochs')\n",
        "  plt.legend()\n",
        "\n",
        "  #Plot accuracy\n",
        "  plt.figure()\n",
        "  plt.plot(epochs, accuracy, label='training_accuracy')\n",
        "  plt.plot(epochs, val_accuracy, label='val_accuracy')\n",
        "  plt.title('Accuracy')\n",
        "  plt.xlabel('Epochs')\n",
        "  plt.legend();\n",
        "\n",
        "plot_loss_curves(history_0)"
      ],
      "metadata": {
        "colab": {
          "base_uri": "https://localhost:8080/",
          "height": 927
        },
        "id": "Q-5nt7ajrmxu",
        "outputId": "5763596d-7a0e-4580-b2ec-e0908c1e088a"
      },
      "execution_count": 10,
      "outputs": [
        {
          "output_type": "display_data",
          "data": {
            "text/plain": [
              "<Figure size 640x480 with 1 Axes>"
            ],
            "image/png": "[encoded data removed]"
          },
          "metadata": {}
        },
        {
          "output_type": "display_data",
          "data": {
            "text/plain": [
              "<Figure size 640x480 with 1 Axes>"
            ],
            "image/png": "[encoded data removed]"
          },
          "metadata": {}
        }
      ]
    },
    {
      "cell_type": "code",
      "source": [
        "results_feature_extraction = model_0.evaluate(test_data)\n",
        "results_feature_extraction"
      ],
      "metadata": {
        "colab": {
          "base_uri": "https://localhost:8080/"
        },
        "id": "cG1S28JSrpXa",
        "outputId": "3bc5a2f5-4d8c-4b4b-9df9-7b818be37b8a"
      },
      "execution_count": 11,
      "outputs": [
        {
          "output_type": "stream",
          "name": "stdout",
          "text": [
            "4/4 [==============================] - 1s 88ms/step - loss: 1.2003 - accuracy: 0.5800\n"
          ]
        },
        {
          "output_type": "execute_result",
          "data": {
            "text/plain": [
              "[1.200345754623413, 0.5799999833106995]"
            ]
          },
          "metadata": {},
          "execution_count": 11
        }
      ]
    },
    {
      "cell_type": "code",
      "source": [
        "# Get the predicted probabilities for the test set\n",
        "y_pred_probs = model_0.predict(test_data)\n",
        "\n",
        "# Convert probabilities to binary predictions (0 or 1)\n",
        "y_pred = (y_pred_probs > 0.5).astype(int)\n",
        "\n",
        "# Get the true labels for the test set\n",
        "y_true = np.concatenate([y for x, y in test_data], axis=0)\n",
        "\n",
        "# Calculate precision\n",
        "from sklearn.metrics import precision_score\n",
        "precision = precision_score(y_true, y_pred)\n",
        "print(\"Precision:\", precision)\n",
        ""
      ],
      "metadata": {
        "colab": {
          "base_uri": "https://localhost:8080/"
        },
        "id": "Io8ByLm4rq61",
        "outputId": "50b80fdb-5187-467b-9aab-7eab8a3c6054"
      },
      "execution_count": 12,
      "outputs": [
        {
          "output_type": "stream",
          "name": "stdout",
          "text": [
            "4/4 [==============================] - 1s 111ms/step\n",
            "Precision: 0.5394736842105263\n"
          ]
        }
      ]
    },
    {
      "cell_type": "code",
      "source": [
        "from sklearn.metrics import recall_score\n",
        "\n",
        "# Calculate recall\n",
        "recall = recall_score(y_true, y_pred)\n",
        "print(\"Recall:\", recall)"
      ],
      "metadata": {
        "colab": {
          "base_uri": "https://localhost:8080/"
        },
        "id": "qUnBlENSrtgL",
        "outputId": "0448fae8-47e2-4426-e1f5-18e344e7e459"
      },
      "execution_count": 13,
      "outputs": [
        {
          "output_type": "stream",
          "name": "stdout",
          "text": [
            "Recall: 0.82\n"
          ]
        }
      ]
    },
    {
      "cell_type": "code",
      "source": [
        "from sklearn.metrics import f1_score\n",
        "# Calculate F1-score\n",
        "f1 = f1_score(y_true, y_pred)\n",
        "print(\"F1-score:\", f1)"
      ],
      "metadata": {
        "colab": {
          "base_uri": "https://localhost:8080/"
        },
        "id": "o9oOP8worvAo",
        "outputId": "3d98588d-3bbd-4763-b680-3663d1a374d0"
      },
      "execution_count": 14,
      "outputs": [
        {
          "output_type": "stream",
          "name": "stdout",
          "text": [
            "F1-score: 0.6507936507936507\n"
          ]
        }
      ]
    },
    {
      "cell_type": "code",
      "source": [
        "# Eğitim doğruluğunu elde etmek için history_0 nesnesini kullanın\n",
        "train_accuracy = history_0.history['accuracy']\n",
        "\n",
        "# Son epoch'un eğitim doğruluğunu yazdırın\n",
        "print(\"Eğitim doğruluğu:\", train_accuracy[-1])"
      ],
      "metadata": {
        "colab": {
          "base_uri": "https://localhost:8080/"
        },
        "id": "I1sTbDm7rwf2",
        "outputId": "32094852-7deb-42bf-8abc-de519e8fe9be"
      },
      "execution_count": 15,
      "outputs": [
        {
          "output_type": "stream",
          "name": "stdout",
          "text": [
            "Eğitim doğruluğu: 0.8281879425048828\n"
          ]
        }
      ]
    },
    {
      "cell_type": "code",
      "source": [],
      "metadata": {
        "id": "0RC0fUsCrx8y"
      },
      "execution_count": 15,
      "outputs": []
    }
  ]
}