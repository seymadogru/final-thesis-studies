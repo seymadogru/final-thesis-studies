{
  "nbformat": 4,
  "nbformat_minor": 0,
  "metadata": {
    "colab": {
      "provenance": [],
      "machine_shape": "hm",
      "gpuType": "T4"
    },
    "kernelspec": {
      "name": "python3",
      "display_name": "Python 3"
    },
    "language_info": {
      "name": "python"
    },
    "accelerator": "GPU"
  },
  "cells": [
    {
      "cell_type": "code",
      "execution_count": 1,
      "metadata": {
        "colab": {
          "base_uri": "https://localhost:8080/"
        },
        "id": "AO2q8HIIw_LF",
        "outputId": "78c5cdaa-79d3-450f-ad4b-466a8f63ec24"
      },
      "outputs": [
        {
          "output_type": "stream",
          "name": "stdout",
          "text": [
            "Mounted at /content/drive\n"
          ]
        }
      ],
      "source": [
        "from google.colab import drive\n",
        "drive.mount('/content/drive')"
      ]
    },
    {
      "cell_type": "code",
      "source": [
        "\n",
        "from keras.preprocessing.image import ImageDataGenerator, array_to_img, img_to_array, load_img\n",
        "from keras.models import Sequential\n",
        "from keras.layers import Conv2D, MaxPooling2D, Dense\n",
        "from keras.applications.vgg16 import VGG16\n",
        "import numpy as np\n",
        "import os\n",
        "import matplotlib.pyplot as plt\n",
        "from glob import glob\n",
        "import cv2"
      ],
      "metadata": {
        "id": "mrzkkmBE2H_O"
      },
      "execution_count": 2,
      "outputs": []
    },
    {
      "cell_type": "code",
      "source": [
        "train_dir = \"/content/drive/MyDrive/Tez Dosyaları/recombined 3 classlı/Train\"\n",
        "test_dir = \"/content/drive/MyDrive/Tez Dosyaları/recombined 3 classlı/Test\""
      ],
      "metadata": {
        "id": "wvSiK_Xu2RLx"
      },
      "execution_count": 3,
      "outputs": []
    },
    {
      "cell_type": "code",
      "source": [
        "import tensorflow as tf\n",
        "from tensorflow.keras.applications import EfficientNetB0"
      ],
      "metadata": {
        "id": "eFjtNX0t2aGl"
      },
      "execution_count": 4,
      "outputs": []
    },
    {
      "cell_type": "code",
      "source": [
        "!wget https://raw.githubusercontent.com/mrdbourke/tensorflow-deep-learning/main/extras/helper_functions.py\n"
      ],
      "metadata": {
        "colab": {
          "base_uri": "https://localhost:8080/"
        },
        "id": "Jf3CxvV82bXa",
        "outputId": "68797736-50d5-472d-fc33-fdeb755860e5"
      },
      "execution_count": 5,
      "outputs": [
        {
          "output_type": "stream",
          "name": "stdout",
          "text": [
            "--2024-07-30 13:34:48--  https://raw.githubusercontent.com/mrdbourke/tensorflow-deep-learning/main/extras/helper_functions.py\n",
            "Resolving raw.githubusercontent.com (raw.githubusercontent.com)... 185.199.109.133, 185.199.108.133, 185.199.110.133, ...\n",
            "Connecting to raw.githubusercontent.com (raw.githubusercontent.com)|185.199.109.133|:443... connected.\n",
            "HTTP request sent, awaiting response... 200 OK\n",
            "Length: 10246 (10K) [text/plain]\n",
            "Saving to: ‘helper_functions.py’\n",
            "\n",
            "\rhelper_functions.py   0%[                    ]       0  --.-KB/s               \rhelper_functions.py 100%[===================>]  10.01K  --.-KB/s    in 0s      \n",
            "\n",
            "2024-07-30 13:34:49 (118 MB/s) - ‘helper_functions.py’ saved [10246/10246]\n",
            "\n"
          ]
        }
      ]
    },
    {
      "cell_type": "code",
      "source": [
        "from helper_functions import create_tensorboard_callback, plot_loss_curves, unzip_data, walk_through_dir\n"
      ],
      "metadata": {
        "id": "zuTnwf7a2cu7"
      },
      "execution_count": 6,
      "outputs": []
    },
    {
      "cell_type": "code",
      "source": [
        "import os\n",
        "\n",
        "for dirpath, dirnames, filenames in os.walk(\"/content/drive/MyDrive/Tez Dosyaları/recombined 3 classlı\"):\n",
        "  print(f\"There are {len(dirnames)} directories and {len(filenames)} images in '{dirpath}'.\")\n"
      ],
      "metadata": {
        "colab": {
          "base_uri": "https://localhost:8080/"
        },
        "id": "bmuUGbSh2d_5",
        "outputId": "a206a464-ea54-4900-9450-447fd03a460b"
      },
      "execution_count": 8,
      "outputs": [
        {
          "output_type": "stream",
          "name": "stdout",
          "text": [
            "There are 2 directories and 0 images in '/content/drive/MyDrive/Tez Dosyaları/recombined 3 classlı'.\n",
            "There are 3 directories and 0 images in '/content/drive/MyDrive/Tez Dosyaları/recombined 3 classlı/Train'.\n",
            "There are 0 directories and 702 images in '/content/drive/MyDrive/Tez Dosyaları/recombined 3 classlı/Train/Normal'.\n",
            "There are 0 directories and 418 images in '/content/drive/MyDrive/Tez Dosyaları/recombined 3 classlı/Train/Malignant'.\n",
            "There are 0 directories and 250 images in '/content/drive/MyDrive/Tez Dosyaları/recombined 3 classlı/Train/Benign'.\n",
            "There are 3 directories and 0 images in '/content/drive/MyDrive/Tez Dosyaları/recombined 3 classlı/Test'.\n",
            "There are 0 directories and 100 images in '/content/drive/MyDrive/Tez Dosyaları/recombined 3 classlı/Test/Normal'.\n",
            "There are 0 directories and 52 images in '/content/drive/MyDrive/Tez Dosyaları/recombined 3 classlı/Test/Malignant'.\n",
            "There are 0 directories and 50 images in '/content/drive/MyDrive/Tez Dosyaları/recombined 3 classlı/Test/Benign'.\n"
          ]
        }
      ]
    },
    {
      "cell_type": "code",
      "source": [
        "import tensorflow as tf\n",
        "BATCH_SIZE = 32\n",
        "IMG_SIZE = (224, 224)\n",
        "train_data= tf.keras.preprocessing.image_dataset_from_directory(train_dir,\n",
        "                                                          label_mode= \"categorical\",\n",
        "                                                          batch_size=BATCH_SIZE,\n",
        "                                                          image_size=IMG_SIZE)\n",
        "\n",
        "test_data = tf.keras.preprocessing.image_dataset_from_directory(test_dir,\n",
        "                                                          label_mode=\"categorical\",\n",
        "                                                          batch_size=BATCH_SIZE,\n",
        "                                                          image_size=IMG_SIZE)"
      ],
      "metadata": {
        "colab": {
          "base_uri": "https://localhost:8080/"
        },
        "id": "WoBdwslH2fIX",
        "outputId": "4b44954e-66ef-4903-e764-5def58e1e1fe"
      },
      "execution_count": 9,
      "outputs": [
        {
          "output_type": "stream",
          "name": "stdout",
          "text": [
            "Found 1370 files belonging to 3 classes.\n",
            "Found 202 files belonging to 3 classes.\n"
          ]
        }
      ]
    },
    {
      "cell_type": "code",
      "source": [
        "train_data.class_names"
      ],
      "metadata": {
        "colab": {
          "base_uri": "https://localhost:8080/"
        },
        "id": "31KL0Ilx3DSH",
        "outputId": "ae365423-3e56-447a-a651-b873e7724c7a"
      },
      "execution_count": 10,
      "outputs": [
        {
          "output_type": "execute_result",
          "data": {
            "text/plain": [
              "['Benign', 'Malignant', 'Normal']"
            ]
          },
          "metadata": {},
          "execution_count": 10
        }
      ]
    },
    {
      "cell_type": "code",
      "source": [
        "from tensorflow.keras.preprocessing.image import ImageDataGenerator\n",
        "from tensorflow.keras.preprocessing.image import img_to_array\n",
        "from tensorflow.keras.preprocessing.image import load_img\n",
        "import numpy as np\n",
        "import random\n",
        "import math\n",
        "import csv\n",
        "import cv2\n",
        "import os"
      ],
      "metadata": {
        "id": "YGuYY0_I3F2D"
      },
      "execution_count": 11,
      "outputs": []
    },
    {
      "cell_type": "code",
      "source": [
        "import tensorflow as tf\n",
        "\n",
        "# 1. create base model with tf.keras.applications\n",
        "base_model = tf.keras.applications.ResNet50(include_top=False)\n",
        "\n",
        "# 2. Freeze the base model\n",
        "base_model.trainable = False\n",
        "\n",
        "# 3. create inputs into our model\n",
        "inputs = tf.keras.layers.Input(shape=(224, 224, 3), name=\"input_layer\")\n",
        "\n",
        "# 4. if using ResNet50V2 you will need to normalize inputs\n",
        "# x = tf.keras.layers.experimental.preprocessing.Rescaling(1./255)(inputs)\n",
        "\n",
        "# 5. pass the inputs to the base_model\n",
        "x = base_model(inputs)\n",
        "print(f\"Shape after passing inputs through base model: {x.shape}\")\n",
        "\n",
        "# 6. average pool the outputs of the base model (aggregate all the most important information, reduce number of computations)\n",
        "x = tf.keras.layers.GlobalAveragePooling2D(name=\"global_average_pooling_layer\")(x)\n",
        "print(f\"Shape after GlobalAveragePooling2D: {x.shape}\")\n",
        "\n",
        "# 7. create the output activation layer for 3 classes\n",
        "outputs = tf.keras.layers.Dense(3, activation=\"softmax\", name=\"output_layer\")(x)\n",
        "model_0 = tf.keras.Model(inputs, outputs)\n",
        "\n",
        "# 8. compile the model for 3 classes\n",
        "model_0.compile(loss=\"categorical_crossentropy\",\n",
        "                optimizer=tf.keras.optimizers.Adam(),\n",
        "                metrics=[\"accuracy\"])\n",
        "\n",
        "# Assuming you have already prepared your train_data and test_data\n",
        "# Make sure that train_data and test_data are prepared with class_mode='categorical'\n",
        "\n",
        "# 9. fit the model\n",
        "history_0 = model_0.fit(train_data,\n",
        "                        epochs=40,\n",
        "                        steps_per_epoch=len(train_data),\n",
        "                        validation_data=test_data,\n",
        "                        validation_steps=int(len(test_data)),\n",
        "                        callbacks=[create_tensorboard_callback(dir_name=\"transfer_learning\",\n",
        "                                                               experiment_name=\"3_class_feature_extraction\")])\n",
        "\n"
      ],
      "metadata": {
        "colab": {
          "base_uri": "https://localhost:8080/"
        },
        "id": "ZIz-k0uf3HED",
        "outputId": "ee8d1c5e-7cb9-4b2c-d873-9dab934b775d"
      },
      "execution_count": 28,
      "outputs": [
        {
          "output_type": "stream",
          "name": "stdout",
          "text": [
            "Downloading data from https://storage.googleapis.com/tensorflow/keras-applications/resnet/resnet50_weights_tf_dim_ordering_tf_kernels_notop.h5\n",
            "94765736/94765736 [==============================] - 6s 0us/step\n",
            "Shape after passing inputs through base model: (None, 7, 7, 2048)\n",
            "Shape after GlobalAveragePooling2D: (None, 2048)\n",
            "Saving TensorBoard log files to: transfer_learning/3_class_feature_extraction/20240730-135635\n",
            "Epoch 1/40\n",
            "43/43 [==============================] - 18s 273ms/step - loss: 1.0319 - accuracy: 0.5409 - val_loss: 1.0478 - val_accuracy: 0.5545\n",
            "Epoch 2/40\n",
            "43/43 [==============================] - 9s 188ms/step - loss: 0.8251 - accuracy: 0.6467 - val_loss: 0.9423 - val_accuracy: 0.5446\n",
            "Epoch 3/40\n",
            "43/43 [==============================] - 10s 189ms/step - loss: 0.7732 - accuracy: 0.6518 - val_loss: 0.9238 - val_accuracy: 0.5792\n",
            "Epoch 4/40\n",
            "43/43 [==============================] - 10s 194ms/step - loss: 0.7343 - accuracy: 0.6679 - val_loss: 0.9447 - val_accuracy: 0.5644\n",
            "Epoch 5/40\n",
            "43/43 [==============================] - 10s 190ms/step - loss: 0.7056 - accuracy: 0.6825 - val_loss: 0.9067 - val_accuracy: 0.5842\n",
            "Epoch 6/40\n",
            "43/43 [==============================] - 9s 187ms/step - loss: 0.6813 - accuracy: 0.7080 - val_loss: 0.9611 - val_accuracy: 0.5792\n",
            "Epoch 7/40\n",
            "43/43 [==============================] - 10s 191ms/step - loss: 0.6644 - accuracy: 0.7102 - val_loss: 0.9688 - val_accuracy: 0.5990\n",
            "Epoch 8/40\n",
            "43/43 [==============================] - 10s 192ms/step - loss: 0.6411 - accuracy: 0.7168 - val_loss: 0.9482 - val_accuracy: 0.5842\n",
            "Epoch 9/40\n",
            "43/43 [==============================] - 10s 191ms/step - loss: 0.6188 - accuracy: 0.7358 - val_loss: 0.9364 - val_accuracy: 0.5891\n",
            "Epoch 10/40\n",
            "43/43 [==============================] - 10s 187ms/step - loss: 0.5957 - accuracy: 0.7416 - val_loss: 0.9388 - val_accuracy: 0.5644\n",
            "Epoch 11/40\n",
            "43/43 [==============================] - 9s 190ms/step - loss: 0.5814 - accuracy: 0.7489 - val_loss: 0.9422 - val_accuracy: 0.5594\n",
            "Epoch 12/40\n",
            "43/43 [==============================] - 10s 192ms/step - loss: 0.5975 - accuracy: 0.7606 - val_loss: 0.9353 - val_accuracy: 0.5545\n",
            "Epoch 13/40\n",
            "43/43 [==============================] - 9s 184ms/step - loss: 0.5634 - accuracy: 0.7708 - val_loss: 0.9776 - val_accuracy: 0.5990\n",
            "Epoch 14/40\n",
            "43/43 [==============================] - 10s 187ms/step - loss: 0.5601 - accuracy: 0.7672 - val_loss: 0.9416 - val_accuracy: 0.5446\n",
            "Epoch 15/40\n",
            "43/43 [==============================] - 10s 191ms/step - loss: 0.5256 - accuracy: 0.7869 - val_loss: 0.9566 - val_accuracy: 0.5396\n",
            "Epoch 16/40\n",
            "43/43 [==============================] - 10s 195ms/step - loss: 0.5309 - accuracy: 0.7869 - val_loss: 0.9991 - val_accuracy: 0.5396\n",
            "Epoch 17/40\n",
            "43/43 [==============================] - 9s 188ms/step - loss: 0.5018 - accuracy: 0.8015 - val_loss: 0.9797 - val_accuracy: 0.5693\n",
            "Epoch 18/40\n",
            "43/43 [==============================] - 9s 187ms/step - loss: 0.5074 - accuracy: 0.8029 - val_loss: 0.9437 - val_accuracy: 0.5149\n",
            "Epoch 19/40\n",
            "43/43 [==============================] - 10s 198ms/step - loss: 0.4986 - accuracy: 0.8007 - val_loss: 0.9579 - val_accuracy: 0.5396\n",
            "Epoch 20/40\n",
            "43/43 [==============================] - 9s 189ms/step - loss: 0.5014 - accuracy: 0.8007 - val_loss: 0.9766 - val_accuracy: 0.5248\n",
            "Epoch 21/40\n",
            "43/43 [==============================] - 9s 188ms/step - loss: 0.5111 - accuracy: 0.7803 - val_loss: 1.0159 - val_accuracy: 0.5891\n",
            "Epoch 22/40\n",
            "43/43 [==============================] - 10s 193ms/step - loss: 0.4605 - accuracy: 0.8270 - val_loss: 0.9465 - val_accuracy: 0.5446\n",
            "Epoch 23/40\n",
            "43/43 [==============================] - 10s 191ms/step - loss: 0.4562 - accuracy: 0.8270 - val_loss: 1.0291 - val_accuracy: 0.5891\n",
            "Epoch 24/40\n",
            "43/43 [==============================] - 10s 192ms/step - loss: 0.4458 - accuracy: 0.8380 - val_loss: 0.9711 - val_accuracy: 0.5693\n",
            "Epoch 25/40\n",
            "43/43 [==============================] - 9s 188ms/step - loss: 0.4413 - accuracy: 0.8285 - val_loss: 0.9481 - val_accuracy: 0.5594\n",
            "Epoch 26/40\n",
            "43/43 [==============================] - 10s 197ms/step - loss: 0.4474 - accuracy: 0.8277 - val_loss: 0.9869 - val_accuracy: 0.5594\n",
            "Epoch 27/40\n",
            "43/43 [==============================] - 10s 194ms/step - loss: 0.4221 - accuracy: 0.8453 - val_loss: 1.1184 - val_accuracy: 0.5396\n",
            "Epoch 28/40\n",
            "43/43 [==============================] - 9s 187ms/step - loss: 0.4375 - accuracy: 0.8336 - val_loss: 1.0029 - val_accuracy: 0.5248\n",
            "Epoch 29/40\n",
            "43/43 [==============================] - 9s 188ms/step - loss: 0.4434 - accuracy: 0.8336 - val_loss: 1.0129 - val_accuracy: 0.5743\n",
            "Epoch 30/40\n",
            "43/43 [==============================] - 10s 195ms/step - loss: 0.4017 - accuracy: 0.8562 - val_loss: 0.9798 - val_accuracy: 0.5446\n",
            "Epoch 31/40\n",
            "43/43 [==============================] - 10s 193ms/step - loss: 0.3826 - accuracy: 0.8701 - val_loss: 0.9923 - val_accuracy: 0.5198\n",
            "Epoch 32/40\n",
            "43/43 [==============================] - 9s 187ms/step - loss: 0.3847 - accuracy: 0.8686 - val_loss: 0.9788 - val_accuracy: 0.5297\n",
            "Epoch 33/40\n",
            "43/43 [==============================] - 9s 185ms/step - loss: 0.3868 - accuracy: 0.8657 - val_loss: 1.0117 - val_accuracy: 0.5000\n",
            "Epoch 34/40\n",
            "43/43 [==============================] - 10s 193ms/step - loss: 0.3727 - accuracy: 0.8759 - val_loss: 0.9979 - val_accuracy: 0.5446\n",
            "Epoch 35/40\n",
            "43/43 [==============================] - 9s 189ms/step - loss: 0.3730 - accuracy: 0.8723 - val_loss: 1.0189 - val_accuracy: 0.5743\n",
            "Epoch 36/40\n",
            "43/43 [==============================] - 9s 185ms/step - loss: 0.3594 - accuracy: 0.8905 - val_loss: 0.9889 - val_accuracy: 0.5644\n",
            "Epoch 37/40\n",
            "43/43 [==============================] - 9s 186ms/step - loss: 0.3509 - accuracy: 0.8912 - val_loss: 1.0303 - val_accuracy: 0.5594\n",
            "Epoch 38/40\n",
            "43/43 [==============================] - 10s 192ms/step - loss: 0.3662 - accuracy: 0.8818 - val_loss: 1.0820 - val_accuracy: 0.5000\n",
            "Epoch 39/40\n",
            "43/43 [==============================] - 9s 189ms/step - loss: 0.3517 - accuracy: 0.8810 - val_loss: 1.0250 - val_accuracy: 0.5050\n",
            "Epoch 40/40\n",
            "43/43 [==============================] - 9s 184ms/step - loss: 0.3522 - accuracy: 0.8832 - val_loss: 1.0170 - val_accuracy: 0.5347\n"
          ]
        }
      ]
    },
    {
      "cell_type": "code",
      "source": [
        "\n",
        "plot_loss_curves(history_0)\n",
        ""
      ],
      "metadata": {
        "colab": {
          "base_uri": "https://localhost:8080/",
          "height": 927
        },
        "id": "fb0Aesi_3KOj",
        "outputId": "e6a95b39-dcce-4b62-ee74-dfab09a9c860"
      },
      "execution_count": 29,
      "outputs": [
        {
          "output_type": "display_data",
          "data": {
            "text/plain": [
              "<Figure size 640x480 with 1 Axes>"
            ],
            "image/png": "[encoded data removed]"
          },
          "metadata": {}
        },
        {
          "output_type": "display_data",
          "data": {
            "text/plain": [
              "<Figure size 640x480 with 1 Axes>"
            ],
            "image/png": "[encoded data removed]"
          },
          "metadata": {}
        }
      ]
    },
    {
      "cell_type": "code",
      "source": [
        "\n",
        "from sklearn.metrics import classification_report\n",
        "\n",
        "# Assuming you have true labels for your test data stored in y_true\n",
        "# and predictions from your model stored in y_pred\n",
        "\n",
        "# Convert categorical predictions to class labels\n",
        "y_pred_labels = np.argmax(model_0.predict(test_data), axis=1)\n",
        "\n",
        "# Get true labels from the test dataset\n",
        "y_true_labels = np.concatenate([y for x, y in test_data], axis=0)\n",
        "y_true_labels = np.argmax(y_true_labels, axis=1)\n",
        "\n",
        "# Generate classification report\n",
        "report = classification_report(y_true_labels, y_pred_labels)\n",
        "\n",
        "print(report)\n",
        ""
      ],
      "metadata": {
        "colab": {
          "base_uri": "https://localhost:8080/"
        },
        "id": "upzjrqQj3MOP",
        "outputId": "6be94e1e-f23c-40e6-c5bd-7071b9a28b9e"
      },
      "execution_count": 30,
      "outputs": [
        {
          "output_type": "stream",
          "name": "stdout",
          "text": [
            "7/7 [==============================] - 3s 98ms/step\n",
            "              precision    recall  f1-score   support\n",
            "\n",
            "           0       0.28      0.20      0.23        50\n",
            "           1       0.31      0.31      0.31        52\n",
            "           2       0.48      0.55      0.51       100\n",
            "\n",
            "    accuracy                           0.40       202\n",
            "   macro avg       0.36      0.35      0.35       202\n",
            "weighted avg       0.39      0.40      0.39       202\n",
            "\n"
          ]
        }
      ]
    },
    {
      "cell_type": "code",
      "source": [
        "# Eğitim doğruluğunu geçmiş verilerinden al\n",
        "train_accuracy = history_0.history['accuracy']\n",
        "\n",
        "# Son epoch'un eğitim doğruluğunu yazdır\n",
        "print(\"Eğitim doğruluğu:\", train_accuracy[-1])"
      ],
      "metadata": {
        "colab": {
          "base_uri": "https://localhost:8080/"
        },
        "id": "MsvuBLgN3NjW",
        "outputId": "cdad84db-8d3f-4a71-ca4c-8d96ad39bb8d"
      },
      "execution_count": 31,
      "outputs": [
        {
          "output_type": "stream",
          "name": "stdout",
          "text": [
            "Eğitim doğruluğu: 0.8832116723060608\n"
          ]
        }
      ]
    },
    {
      "cell_type": "code",
      "source": [
        "\n",
        "\n",
        "# test verisinin doğruluğunu hesapla\n",
        "test_loss, test_accuracy = model_0.evaluate(test_data)\n",
        "print(\"Test doğruluğu:\", test_accuracy)\n"
      ],
      "metadata": {
        "colab": {
          "base_uri": "https://localhost:8080/"
        },
        "id": "CS2zqxeS3Ovs",
        "outputId": "77d83866-cfa7-4d20-e675-6b345ffa4fe3"
      },
      "execution_count": 32,
      "outputs": [
        {
          "output_type": "stream",
          "name": "stdout",
          "text": [
            "7/7 [==============================] - 2s 88ms/step - loss: 1.0170 - accuracy: 0.5347\n",
            "Test doğruluğu: 0.5346534848213196\n"
          ]
        }
      ]
    },
    {
      "cell_type": "code",
      "source": [
        "\n",
        "\n",
        "from sklearn.metrics import precision_score\n",
        "\n",
        "# Assuming you have true labels for your test data stored in y_true\n",
        "# and predictions from your model stored in y_pred_labels (as calculated in the previous code)\n",
        "\n",
        "# Calculate precision\n",
        "precision = precision_score(y_true_labels, y_pred_labels, average='macro')  # You can use 'micro' or 'weighted' averaging as well\n",
        "\n",
        "print(\"Precision:\", precision)\n"
      ],
      "metadata": {
        "colab": {
          "base_uri": "https://localhost:8080/"
        },
        "id": "VsQZYAns3QY6",
        "outputId": "4cd2096d-87f4-4bc3-9c0a-49752af147d4"
      },
      "execution_count": 33,
      "outputs": [
        {
          "output_type": "stream",
          "name": "stdout",
          "text": [
            "Precision: 0.35597540860698756\n"
          ]
        }
      ]
    },
    {
      "cell_type": "code",
      "source": [
        "\n",
        "\n",
        "from sklearn.metrics import recall_score\n",
        "\n",
        "# Assuming you have true labels for your test data stored in y_true\n",
        "# and predictions from your model stored in y_pred_labels (as calculated in the previous code)\n",
        "\n",
        "# Calculate recall\n",
        "recall = recall_score(y_true_labels, y_pred_labels, average='macro')  # You can use 'micro' or 'weighted' averaging as well\n",
        "\n",
        "print(\"Recall:\", recall)\n"
      ],
      "metadata": {
        "colab": {
          "base_uri": "https://localhost:8080/"
        },
        "id": "aKFUOWD83T2f",
        "outputId": "d9293b2e-6dda-4936-f2dd-facb880a12e6"
      },
      "execution_count": 34,
      "outputs": [
        {
          "output_type": "stream",
          "name": "stdout",
          "text": [
            "Recall: 0.3525641025641026\n"
          ]
        }
      ]
    },
    {
      "cell_type": "code",
      "source": [
        "\n",
        "from sklearn.metrics import f1_score\n",
        "\n",
        "# Assuming you have true labels for your test data stored in y_true\n",
        "# and predictions from your model stored in y_pred_labels (as calculated in the previous code)\n",
        "\n",
        "# Calculate F1-score\n",
        "f1 = f1_score(y_true_labels, y_pred_labels, average='macro')  # You can use 'micro' or 'weighted' averaging as well\n",
        "\n",
        "print(\"F1-score:\", f1)\n"
      ],
      "metadata": {
        "colab": {
          "base_uri": "https://localhost:8080/"
        },
        "id": "4Strx3L93WZo",
        "outputId": "373b5505-6e62-472b-82b2-9908c7977bf4"
      },
      "execution_count": 35,
      "outputs": [
        {
          "output_type": "stream",
          "name": "stdout",
          "text": [
            "F1-score: 0.3514230462719922\n"
          ]
        }
      ]
    },
    {
      "cell_type": "code",
      "source": [],
      "metadata": {
        "id": "11DMIo5w3Z-7"
      },
      "execution_count": 35,
      "outputs": []
    }
  ]
}