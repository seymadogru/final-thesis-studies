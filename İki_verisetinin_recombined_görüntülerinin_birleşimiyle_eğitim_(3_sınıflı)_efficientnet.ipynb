{
  "nbformat": 4,
  "nbformat_minor": 0,
  "metadata": {
    "colab": {
      "provenance": [],
      "machine_shape": "hm",
      "gpuType": "T4"
    },
    "kernelspec": {
      "name": "python3",
      "display_name": "Python 3"
    },
    "language_info": {
      "name": "python"
    },
    "accelerator": "GPU"
  },
  "cells": [
    {
      "cell_type": "code",
      "execution_count": 1,
      "metadata": {
        "colab": {
          "base_uri": "https://localhost:8080/"
        },
        "id": "AO2q8HIIw_LF",
        "outputId": "78c5cdaa-79d3-450f-ad4b-466a8f63ec24"
      },
      "outputs": [
        {
          "output_type": "stream",
          "name": "stdout",
          "text": [
            "Mounted at /content/drive\n"
          ]
        }
      ],
      "source": [
        "from google.colab import drive\n",
        "drive.mount('/content/drive')"
      ]
    },
    {
      "cell_type": "code",
      "source": [
        "\n",
        "from keras.preprocessing.image import ImageDataGenerator, array_to_img, img_to_array, load_img\n",
        "from keras.models import Sequential\n",
        "from keras.layers import Conv2D, MaxPooling2D, Dense\n",
        "from keras.applications.vgg16 import VGG16\n",
        "import numpy as np\n",
        "import os\n",
        "import matplotlib.pyplot as plt\n",
        "from glob import glob\n",
        "import cv2"
      ],
      "metadata": {
        "id": "mrzkkmBE2H_O"
      },
      "execution_count": 2,
      "outputs": []
    },
    {
      "cell_type": "code",
      "source": [
        "train_dir = \"/content/drive/MyDrive/Tez Dosyaları/recombined 3 classlı/Train\"\n",
        "test_dir = \"/content/drive/MyDrive/Tez Dosyaları/recombined 3 classlı/Test\""
      ],
      "metadata": {
        "id": "wvSiK_Xu2RLx"
      },
      "execution_count": 3,
      "outputs": []
    },
    {
      "cell_type": "code",
      "source": [
        "import tensorflow as tf\n",
        "from tensorflow.keras.applications import EfficientNetB0"
      ],
      "metadata": {
        "id": "eFjtNX0t2aGl"
      },
      "execution_count": 4,
      "outputs": []
    },
    {
      "cell_type": "code",
      "source": [
        "!wget https://raw.githubusercontent.com/mrdbourke/tensorflow-deep-learning/main/extras/helper_functions.py\n"
      ],
      "metadata": {
        "colab": {
          "base_uri": "https://localhost:8080/"
        },
        "id": "Jf3CxvV82bXa",
        "outputId": "68797736-50d5-472d-fc33-fdeb755860e5"
      },
      "execution_count": 5,
      "outputs": [
        {
          "output_type": "stream",
          "name": "stdout",
          "text": [
            "--2024-07-30 13:34:48--  https://raw.githubusercontent.com/mrdbourke/tensorflow-deep-learning/main/extras/helper_functions.py\n",
            "Resolving raw.githubusercontent.com (raw.githubusercontent.com)... 185.199.109.133, 185.199.108.133, 185.199.110.133, ...\n",
            "Connecting to raw.githubusercontent.com (raw.githubusercontent.com)|185.199.109.133|:443... connected.\n",
            "HTTP request sent, awaiting response... 200 OK\n",
            "Length: 10246 (10K) [text/plain]\n",
            "Saving to: ‘helper_functions.py’\n",
            "\n",
            "\rhelper_functions.py   0%[                    ]       0  --.-KB/s               \rhelper_functions.py 100%[===================>]  10.01K  --.-KB/s    in 0s      \n",
            "\n",
            "2024-07-30 13:34:49 (118 MB/s) - ‘helper_functions.py’ saved [10246/10246]\n",
            "\n"
          ]
        }
      ]
    },
    {
      "cell_type": "code",
      "source": [
        "from helper_functions import create_tensorboard_callback, plot_loss_curves, unzip_data, walk_through_dir\n"
      ],
      "metadata": {
        "id": "zuTnwf7a2cu7"
      },
      "execution_count": 6,
      "outputs": []
    },
    {
      "cell_type": "code",
      "source": [
        "import os\n",
        "\n",
        "for dirpath, dirnames, filenames in os.walk(\"/content/drive/MyDrive/Tez Dosyaları/recombined 3 classlı\"):\n",
        "  print(f\"There are {len(dirnames)} directories and {len(filenames)} images in '{dirpath}'.\")\n"
      ],
      "metadata": {
        "colab": {
          "base_uri": "https://localhost:8080/"
        },
        "id": "bmuUGbSh2d_5",
        "outputId": "a206a464-ea54-4900-9450-447fd03a460b"
      },
      "execution_count": 8,
      "outputs": [
        {
          "output_type": "stream",
          "name": "stdout",
          "text": [
            "There are 2 directories and 0 images in '/content/drive/MyDrive/Tez Dosyaları/recombined 3 classlı'.\n",
            "There are 3 directories and 0 images in '/content/drive/MyDrive/Tez Dosyaları/recombined 3 classlı/Train'.\n",
            "There are 0 directories and 702 images in '/content/drive/MyDrive/Tez Dosyaları/recombined 3 classlı/Train/Normal'.\n",
            "There are 0 directories and 418 images in '/content/drive/MyDrive/Tez Dosyaları/recombined 3 classlı/Train/Malignant'.\n",
            "There are 0 directories and 250 images in '/content/drive/MyDrive/Tez Dosyaları/recombined 3 classlı/Train/Benign'.\n",
            "There are 3 directories and 0 images in '/content/drive/MyDrive/Tez Dosyaları/recombined 3 classlı/Test'.\n",
            "There are 0 directories and 100 images in '/content/drive/MyDrive/Tez Dosyaları/recombined 3 classlı/Test/Normal'.\n",
            "There are 0 directories and 52 images in '/content/drive/MyDrive/Tez Dosyaları/recombined 3 classlı/Test/Malignant'.\n",
            "There are 0 directories and 50 images in '/content/drive/MyDrive/Tez Dosyaları/recombined 3 classlı/Test/Benign'.\n"
          ]
        }
      ]
    },
    {
      "cell_type": "code",
      "source": [
        "import tensorflow as tf\n",
        "BATCH_SIZE = 32\n",
        "IMG_SIZE = (224, 224)\n",
        "train_data= tf.keras.preprocessing.image_dataset_from_directory(train_dir,\n",
        "                                                          label_mode= \"categorical\",\n",
        "                                                          batch_size=BATCH_SIZE,\n",
        "                                                          image_size=IMG_SIZE)\n",
        "\n",
        "test_data = tf.keras.preprocessing.image_dataset_from_directory(test_dir,\n",
        "                                                          label_mode=\"categorical\",\n",
        "                                                          batch_size=BATCH_SIZE,\n",
        "                                                          image_size=IMG_SIZE)"
      ],
      "metadata": {
        "colab": {
          "base_uri": "https://localhost:8080/"
        },
        "id": "WoBdwslH2fIX",
        "outputId": "4b44954e-66ef-4903-e764-5def58e1e1fe"
      },
      "execution_count": 9,
      "outputs": [
        {
          "output_type": "stream",
          "name": "stdout",
          "text": [
            "Found 1370 files belonging to 3 classes.\n",
            "Found 202 files belonging to 3 classes.\n"
          ]
        }
      ]
    },
    {
      "cell_type": "code",
      "source": [
        "train_data.class_names"
      ],
      "metadata": {
        "colab": {
          "base_uri": "https://localhost:8080/"
        },
        "id": "31KL0Ilx3DSH",
        "outputId": "ae365423-3e56-447a-a651-b873e7724c7a"
      },
      "execution_count": 10,
      "outputs": [
        {
          "output_type": "execute_result",
          "data": {
            "text/plain": [
              "['Benign', 'Malignant', 'Normal']"
            ]
          },
          "metadata": {},
          "execution_count": 10
        }
      ]
    },
    {
      "cell_type": "code",
      "source": [
        "from tensorflow.keras.preprocessing.image import ImageDataGenerator\n",
        "from tensorflow.keras.preprocessing.image import img_to_array\n",
        "from tensorflow.keras.preprocessing.image import load_img\n",
        "import numpy as np\n",
        "import random\n",
        "import math\n",
        "import csv\n",
        "import cv2\n",
        "import os"
      ],
      "metadata": {
        "id": "YGuYY0_I3F2D"
      },
      "execution_count": 11,
      "outputs": []
    },
    {
      "cell_type": "code",
      "source": [
        "import tensorflow as tf\n",
        "\n",
        "# 1. create base model with tf.keras.applications\n",
        "base_model = tf.keras.applications.EfficientNetB0(include_top=False)\n",
        "\n",
        "# 2. Freeze the base model\n",
        "base_model.trainable = False\n",
        "\n",
        "# 3. create inputs into our model\n",
        "inputs = tf.keras.layers.Input(shape=(224, 224, 3), name=\"input_layer\")\n",
        "\n",
        "# 4. if using ResNet50V2 you will need to normalize inputs\n",
        "# x = tf.keras.layers.experimental.preprocessing.Rescaling(1./255)(inputs)\n",
        "\n",
        "# 5. pass the inputs to the base_model\n",
        "x = base_model(inputs)\n",
        "print(f\"Shape after passing inputs through base model: {x.shape}\")\n",
        "\n",
        "# 6. average pool the outputs of the base model (aggregate all the most important information, reduce number of computations)\n",
        "x = tf.keras.layers.GlobalAveragePooling2D(name=\"global_average_pooling_layer\")(x)\n",
        "print(f\"Shape after GlobalAveragePooling2D: {x.shape}\")\n",
        "\n",
        "# 7. create the output activation layer for 3 classes\n",
        "outputs = tf.keras.layers.Dense(3, activation=\"softmax\", name=\"output_layer\")(x)\n",
        "model_0 = tf.keras.Model(inputs, outputs)\n",
        "\n",
        "# 8. compile the model for 3 classes\n",
        "model_0.compile(loss=\"categorical_crossentropy\",\n",
        "                optimizer=tf.keras.optimizers.Adam(),\n",
        "                metrics=[\"accuracy\"])\n",
        "\n",
        "# Assuming you have already prepared your train_data and test_data\n",
        "# Make sure that train_data and test_data are prepared with class_mode='categorical'\n",
        "\n",
        "# 9. fit the model\n",
        "history_0 = model_0.fit(train_data,\n",
        "                        epochs=40,\n",
        "                        steps_per_epoch=len(train_data),\n",
        "                        validation_data=test_data,\n",
        "                        validation_steps=int(len(test_data)),\n",
        "                        callbacks=[create_tensorboard_callback(dir_name=\"transfer_learning\",\n",
        "                                                               experiment_name=\"3_class_feature_extraction\")])\n",
        "\n"
      ],
      "metadata": {
        "colab": {
          "base_uri": "https://localhost:8080/"
        },
        "id": "ZIz-k0uf3HED",
        "outputId": "4ce675f0-fa4e-428d-f965-f2d9d331de46"
      },
      "execution_count": 12,
      "outputs": [
        {
          "output_type": "stream",
          "name": "stdout",
          "text": [
            "Downloading data from https://storage.googleapis.com/keras-applications/efficientnetb0_notop.h5\n",
            "16705208/16705208 [==============================] - 2s 0us/step\n",
            "Shape after passing inputs through base model: (None, 7, 7, 1280)\n",
            "Shape after GlobalAveragePooling2D: (None, 1280)\n",
            "Saving TensorBoard log files to: transfer_learning/3_class_feature_extraction/20240730-133800\n",
            "Epoch 1/40\n",
            "43/43 [==============================] - 178s 3s/step - loss: 0.9850 - accuracy: 0.5314 - val_loss: 1.0192 - val_accuracy: 0.5396\n",
            "Epoch 2/40\n",
            "43/43 [==============================] - 9s 182ms/step - loss: 0.8536 - accuracy: 0.6190 - val_loss: 0.9585 - val_accuracy: 0.5891\n",
            "Epoch 3/40\n",
            "43/43 [==============================] - 9s 181ms/step - loss: 0.8171 - accuracy: 0.6365 - val_loss: 0.9276 - val_accuracy: 0.5693\n",
            "Epoch 4/40\n",
            "43/43 [==============================] - 9s 177ms/step - loss: 0.7897 - accuracy: 0.6555 - val_loss: 0.9123 - val_accuracy: 0.5693\n",
            "Epoch 5/40\n",
            "43/43 [==============================] - 9s 182ms/step - loss: 0.7764 - accuracy: 0.6591 - val_loss: 0.9237 - val_accuracy: 0.6139\n",
            "Epoch 6/40\n",
            "43/43 [==============================] - 9s 183ms/step - loss: 0.7526 - accuracy: 0.6679 - val_loss: 0.9264 - val_accuracy: 0.6139\n",
            "Epoch 7/40\n",
            "43/43 [==============================] - 9s 176ms/step - loss: 0.7429 - accuracy: 0.6832 - val_loss: 0.8939 - val_accuracy: 0.5941\n",
            "Epoch 8/40\n",
            "43/43 [==============================] - 9s 179ms/step - loss: 0.7312 - accuracy: 0.6847 - val_loss: 0.9134 - val_accuracy: 0.6188\n",
            "Epoch 9/40\n",
            "43/43 [==============================] - 9s 182ms/step - loss: 0.7260 - accuracy: 0.6985 - val_loss: 0.9247 - val_accuracy: 0.6238\n",
            "Epoch 10/40\n",
            "43/43 [==============================] - 9s 174ms/step - loss: 0.7084 - accuracy: 0.7051 - val_loss: 0.8960 - val_accuracy: 0.6040\n",
            "Epoch 11/40\n",
            "43/43 [==============================] - 9s 175ms/step - loss: 0.7051 - accuracy: 0.6971 - val_loss: 0.9104 - val_accuracy: 0.6040\n",
            "Epoch 12/40\n",
            "43/43 [==============================] - 9s 179ms/step - loss: 0.6969 - accuracy: 0.7095 - val_loss: 0.9080 - val_accuracy: 0.6089\n",
            "Epoch 13/40\n",
            "43/43 [==============================] - 9s 177ms/step - loss: 0.6866 - accuracy: 0.7109 - val_loss: 0.9405 - val_accuracy: 0.6337\n",
            "Epoch 14/40\n",
            "43/43 [==============================] - 9s 175ms/step - loss: 0.6903 - accuracy: 0.7197 - val_loss: 0.9072 - val_accuracy: 0.6139\n",
            "Epoch 15/40\n",
            "43/43 [==============================] - 9s 184ms/step - loss: 0.6722 - accuracy: 0.7212 - val_loss: 0.9104 - val_accuracy: 0.6386\n",
            "Epoch 16/40\n",
            "43/43 [==============================] - 9s 188ms/step - loss: 0.6703 - accuracy: 0.7292 - val_loss: 0.9022 - val_accuracy: 0.6287\n",
            "Epoch 17/40\n",
            "43/43 [==============================] - 9s 186ms/step - loss: 0.6552 - accuracy: 0.7175 - val_loss: 0.9082 - val_accuracy: 0.6139\n",
            "Epoch 18/40\n",
            "43/43 [==============================] - 9s 182ms/step - loss: 0.6512 - accuracy: 0.7299 - val_loss: 0.9133 - val_accuracy: 0.6238\n",
            "Epoch 19/40\n",
            "43/43 [==============================] - 9s 176ms/step - loss: 0.6452 - accuracy: 0.7328 - val_loss: 0.9414 - val_accuracy: 0.6188\n",
            "Epoch 20/40\n",
            "43/43 [==============================] - 9s 174ms/step - loss: 0.6487 - accuracy: 0.7299 - val_loss: 0.9109 - val_accuracy: 0.6188\n",
            "Epoch 21/40\n",
            "43/43 [==============================] - 9s 180ms/step - loss: 0.6349 - accuracy: 0.7409 - val_loss: 0.9202 - val_accuracy: 0.6287\n",
            "Epoch 22/40\n",
            "43/43 [==============================] - 9s 180ms/step - loss: 0.6349 - accuracy: 0.7336 - val_loss: 0.9832 - val_accuracy: 0.6337\n",
            "Epoch 23/40\n",
            "43/43 [==============================] - 9s 174ms/step - loss: 0.6266 - accuracy: 0.7387 - val_loss: 0.8998 - val_accuracy: 0.6139\n",
            "Epoch 24/40\n",
            "43/43 [==============================] - 9s 170ms/step - loss: 0.6304 - accuracy: 0.7416 - val_loss: 0.9396 - val_accuracy: 0.6238\n",
            "Epoch 25/40\n",
            "43/43 [==============================] - 9s 186ms/step - loss: 0.6215 - accuracy: 0.7453 - val_loss: 0.9142 - val_accuracy: 0.6287\n",
            "Epoch 26/40\n",
            "43/43 [==============================] - 9s 175ms/step - loss: 0.6169 - accuracy: 0.7474 - val_loss: 0.9363 - val_accuracy: 0.6386\n",
            "Epoch 27/40\n",
            "43/43 [==============================] - 9s 171ms/step - loss: 0.6097 - accuracy: 0.7496 - val_loss: 0.9257 - val_accuracy: 0.6238\n",
            "Epoch 28/40\n",
            "43/43 [==============================] - 9s 180ms/step - loss: 0.6066 - accuracy: 0.7613 - val_loss: 0.9415 - val_accuracy: 0.6436\n",
            "Epoch 29/40\n",
            "43/43 [==============================] - 9s 174ms/step - loss: 0.5988 - accuracy: 0.7569 - val_loss: 0.9469 - val_accuracy: 0.6238\n",
            "Epoch 30/40\n",
            "43/43 [==============================] - 9s 172ms/step - loss: 0.5978 - accuracy: 0.7628 - val_loss: 0.9376 - val_accuracy: 0.6238\n",
            "Epoch 31/40\n",
            "43/43 [==============================] - 9s 176ms/step - loss: 0.5930 - accuracy: 0.7606 - val_loss: 0.9482 - val_accuracy: 0.6337\n",
            "Epoch 32/40\n",
            "43/43 [==============================] - 9s 178ms/step - loss: 0.5857 - accuracy: 0.7759 - val_loss: 0.9452 - val_accuracy: 0.6386\n",
            "Epoch 33/40\n",
            "43/43 [==============================] - 9s 172ms/step - loss: 0.5881 - accuracy: 0.7591 - val_loss: 0.9439 - val_accuracy: 0.6436\n",
            "Epoch 34/40\n",
            "43/43 [==============================] - 9s 174ms/step - loss: 0.5830 - accuracy: 0.7606 - val_loss: 0.9492 - val_accuracy: 0.6436\n",
            "Epoch 35/40\n",
            "43/43 [==============================] - 9s 178ms/step - loss: 0.5805 - accuracy: 0.7679 - val_loss: 0.9302 - val_accuracy: 0.6287\n",
            "Epoch 36/40\n",
            "43/43 [==============================] - 9s 171ms/step - loss: 0.5703 - accuracy: 0.7672 - val_loss: 0.9681 - val_accuracy: 0.6436\n",
            "Epoch 37/40\n",
            "43/43 [==============================] - 9s 174ms/step - loss: 0.5703 - accuracy: 0.7774 - val_loss: 0.9495 - val_accuracy: 0.6287\n",
            "Epoch 38/40\n",
            "43/43 [==============================] - 9s 178ms/step - loss: 0.5702 - accuracy: 0.7701 - val_loss: 0.9317 - val_accuracy: 0.6238\n",
            "Epoch 39/40\n",
            "43/43 [==============================] - 9s 172ms/step - loss: 0.5612 - accuracy: 0.7839 - val_loss: 0.9708 - val_accuracy: 0.6386\n",
            "Epoch 40/40\n",
            "43/43 [==============================] - 9s 175ms/step - loss: 0.5682 - accuracy: 0.7686 - val_loss: 0.9378 - val_accuracy: 0.6188\n"
          ]
        }
      ]
    },
    {
      "cell_type": "code",
      "source": [
        "\n",
        "plot_loss_curves(history_0)\n",
        ""
      ],
      "metadata": {
        "colab": {
          "base_uri": "https://localhost:8080/",
          "height": 927
        },
        "id": "fb0Aesi_3KOj",
        "outputId": "62467fc1-fa23-44af-860c-160b69680086"
      },
      "execution_count": 13,
      "outputs": [
        {
          "output_type": "display_data",
          "data": {
            "text/plain": [
              "<Figure size 640x480 with 1 Axes>"
            ],
            "image/png": "[encoded data removed]"
          },
          "metadata": {}
        },
        {
          "output_type": "display_data",
          "data": {
            "text/plain": [
              "<Figure size 640x480 with 1 Axes>"
            ],
            "image/png": "[encoded data removed]"
          },
          "metadata": {}
        }
      ]
    },
    {
      "cell_type": "code",
      "source": [
        "\n",
        "from sklearn.metrics import classification_report\n",
        "\n",
        "# Assuming you have true labels for your test data stored in y_true\n",
        "# and predictions from your model stored in y_pred\n",
        "\n",
        "# Convert categorical predictions to class labels\n",
        "y_pred_labels = np.argmax(model_0.predict(test_data), axis=1)\n",
        "\n",
        "# Get true labels from the test dataset\n",
        "y_true_labels = np.concatenate([y for x, y in test_data], axis=0)\n",
        "y_true_labels = np.argmax(y_true_labels, axis=1)\n",
        "\n",
        "# Generate classification report\n",
        "report = classification_report(y_true_labels, y_pred_labels)\n",
        "\n",
        "print(report)\n",
        ""
      ],
      "metadata": {
        "colab": {
          "base_uri": "https://localhost:8080/"
        },
        "id": "upzjrqQj3MOP",
        "outputId": "0ae175de-82d5-4af2-d756-9c9512c907a1"
      },
      "execution_count": 14,
      "outputs": [
        {
          "output_type": "stream",
          "name": "stdout",
          "text": [
            "7/7 [==============================] - 3s 66ms/step\n",
            "              precision    recall  f1-score   support\n",
            "\n",
            "           0       0.25      0.12      0.16        50\n",
            "           1       0.33      0.27      0.30        52\n",
            "           2       0.51      0.70      0.59       100\n",
            "\n",
            "    accuracy                           0.45       202\n",
            "   macro avg       0.37      0.36      0.35       202\n",
            "weighted avg       0.40      0.45      0.41       202\n",
            "\n"
          ]
        }
      ]
    },
    {
      "cell_type": "code",
      "source": [
        "# Eğitim doğruluğunu geçmiş verilerinden al\n",
        "train_accuracy = history_0.history['accuracy']\n",
        "\n",
        "# Son epoch'un eğitim doğruluğunu yazdır\n",
        "print(\"Eğitim doğruluğu:\", train_accuracy[-1])"
      ],
      "metadata": {
        "colab": {
          "base_uri": "https://localhost:8080/"
        },
        "id": "MsvuBLgN3NjW",
        "outputId": "75948693-6a7e-497c-be74-ea4ff8de20ba"
      },
      "execution_count": 15,
      "outputs": [
        {
          "output_type": "stream",
          "name": "stdout",
          "text": [
            "Eğitim doğruluğu: 0.7686131596565247\n"
          ]
        }
      ]
    },
    {
      "cell_type": "code",
      "source": [
        "\n",
        "\n",
        "# test verisinin doğruluğunu hesapla\n",
        "test_loss, test_accuracy = model_0.evaluate(test_data)\n",
        "print(\"Test doğruluğu:\", test_accuracy)\n"
      ],
      "metadata": {
        "colab": {
          "base_uri": "https://localhost:8080/"
        },
        "id": "CS2zqxeS3Ovs",
        "outputId": "cdf504de-9e7d-4ef1-96e2-ef7cc63a4bac"
      },
      "execution_count": 16,
      "outputs": [
        {
          "output_type": "stream",
          "name": "stdout",
          "text": [
            "7/7 [==============================] - 2s 58ms/step - loss: 0.9378 - accuracy: 0.6188\n",
            "Test doğruluğu: 0.6188119053840637\n"
          ]
        }
      ]
    },
    {
      "cell_type": "code",
      "source": [
        "\n",
        "\n",
        "from sklearn.metrics import precision_score\n",
        "\n",
        "# Assuming you have true labels for your test data stored in y_true\n",
        "# and predictions from your model stored in y_pred_labels (as calculated in the previous code)\n",
        "\n",
        "# Calculate precision\n",
        "precision = precision_score(y_true_labels, y_pred_labels, average='macro')  # You can use 'micro' or 'weighted' averaging as well\n",
        "\n",
        "print(\"Precision:\", precision)\n"
      ],
      "metadata": {
        "colab": {
          "base_uri": "https://localhost:8080/"
        },
        "id": "VsQZYAns3QY6",
        "outputId": "38699090-7557-4546-8286-a9ddd1601e5f"
      },
      "execution_count": 17,
      "outputs": [
        {
          "output_type": "stream",
          "name": "stdout",
          "text": [
            "Precision: 0.3660130718954248\n"
          ]
        }
      ]
    },
    {
      "cell_type": "code",
      "source": [
        "\n",
        "\n",
        "from sklearn.metrics import recall_score\n",
        "\n",
        "# Assuming you have true labels for your test data stored in y_true\n",
        "# and predictions from your model stored in y_pred_labels (as calculated in the previous code)\n",
        "\n",
        "# Calculate recall\n",
        "recall = recall_score(y_true_labels, y_pred_labels, average='macro')  # You can use 'micro' or 'weighted' averaging as well\n",
        "\n",
        "print(\"Recall:\", recall)\n"
      ],
      "metadata": {
        "colab": {
          "base_uri": "https://localhost:8080/"
        },
        "id": "aKFUOWD83T2f",
        "outputId": "5e2e3771-7f82-4dce-e34c-6d29e2147a04"
      },
      "execution_count": 18,
      "outputs": [
        {
          "output_type": "stream",
          "name": "stdout",
          "text": [
            "Recall: 0.3630769230769231\n"
          ]
        }
      ]
    },
    {
      "cell_type": "code",
      "source": [
        "\n",
        "from sklearn.metrics import f1_score\n",
        "\n",
        "# Assuming you have true labels for your test data stored in y_true\n",
        "# and predictions from your model stored in y_pred_labels (as calculated in the previous code)\n",
        "\n",
        "# Calculate F1-score\n",
        "f1 = f1_score(y_true_labels, y_pred_labels, average='macro')  # You can use 'micro' or 'weighted' averaging as well\n",
        "\n",
        "print(\"F1-score:\", f1)\n"
      ],
      "metadata": {
        "colab": {
          "base_uri": "https://localhost:8080/"
        },
        "id": "4Strx3L93WZo",
        "outputId": "d0404c8f-7328-4a57-e56c-8c4cedfa16a6"
      },
      "execution_count": 19,
      "outputs": [
        {
          "output_type": "stream",
          "name": "stdout",
          "text": [
            "F1-score: 0.35108494719024835\n"
          ]
        }
      ]
    },
    {
      "cell_type": "code",
      "source": [],
      "metadata": {
        "id": "11DMIo5w3Z-7"
      },
      "execution_count": null,
      "outputs": []
    }
  ]
}