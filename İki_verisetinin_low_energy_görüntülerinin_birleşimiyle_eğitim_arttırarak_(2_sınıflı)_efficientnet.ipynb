{
  "nbformat": 4,
  "nbformat_minor": 0,
  "metadata": {
    "colab": {
      "provenance": [],
      "machine_shape": "hm",
      "gpuType": "T4"
    },
    "kernelspec": {
      "name": "python3",
      "display_name": "Python 3"
    },
    "language_info": {
      "name": "python"
    },
    "accelerator": "GPU"
  },
  "cells": [
    {
      "cell_type": "code",
      "execution_count": 1,
      "metadata": {
        "colab": {
          "base_uri": "https://localhost:8080/"
        },
        "id": "UguBp3zvZ7y-",
        "outputId": "9a578723-f872-4205-fae2-aa1a345b212b"
      },
      "outputs": [
        {
          "output_type": "stream",
          "name": "stdout",
          "text": [
            "--2024-07-31 15:30:16--  https://raw.githubusercontent.com/mrdbourke/tensorflow-deep-learning/main/extras/helper_functions.py\n",
            "Resolving raw.githubusercontent.com (raw.githubusercontent.com)... 185.199.108.133, 185.199.111.133, 185.199.109.133, ...\n",
            "Connecting to raw.githubusercontent.com (raw.githubusercontent.com)|185.199.108.133|:443... connected.\n",
            "HTTP request sent, awaiting response... 200 OK\n",
            "Length: 10246 (10K) [text/plain]\n",
            "Saving to: ‘helper_functions.py’\n",
            "\n",
            "\rhelper_functions.py   0%[                    ]       0  --.-KB/s               \rhelper_functions.py 100%[===================>]  10.01K  --.-KB/s    in 0.001s  \n",
            "\n",
            "2024-07-31 15:30:16 (9.09 MB/s) - ‘helper_functions.py’ saved [10246/10246]\n",
            "\n"
          ]
        }
      ],
      "source": [
        "!wget https://raw.githubusercontent.com/mrdbourke/tensorflow-deep-learning/main/extras/helper_functions.py"
      ]
    },
    {
      "cell_type": "code",
      "source": [
        "from helper_functions import create_tensorboard_callback, plot_loss_curves, unzip_data, walk_through_dir\n"
      ],
      "metadata": {
        "id": "5QPBOSuRacwM"
      },
      "execution_count": 2,
      "outputs": []
    },
    {
      "cell_type": "code",
      "source": [
        "import os\n",
        "\n",
        "for dirpath, dirnames, filenames in os.walk(\"/content/drive/MyDrive/Tez Dosyaları/low energy 2 classlı\"):\n",
        "  print(f\"There are {len(dirnames)} directories and {len(filenames)} images in '{dirpath}'.\")\n"
      ],
      "metadata": {
        "colab": {
          "base_uri": "https://localhost:8080/"
        },
        "id": "QtnhUZEQaeHT",
        "outputId": "73eedfc9-d414-4225-b7b3-16fba43a9c4d"
      },
      "execution_count": 3,
      "outputs": [
        {
          "output_type": "stream",
          "name": "stdout",
          "text": [
            "There are 2 directories and 0 images in '/content/drive/MyDrive/Tez Dosyaları/low energy 2 classlı'.\n",
            "There are 2 directories and 0 images in '/content/drive/MyDrive/Tez Dosyaları/low energy 2 classlı/Train'.\n",
            "There are 0 directories and 420 images in '/content/drive/MyDrive/Tez Dosyaları/low energy 2 classlı/Train/Malignant'.\n",
            "There are 0 directories and 325 images in '/content/drive/MyDrive/Tez Dosyaları/low energy 2 classlı/Train/Benign'.\n",
            "There are 2 directories and 0 images in '/content/drive/MyDrive/Tez Dosyaları/low energy 2 classlı/Test'.\n",
            "There are 0 directories and 50 images in '/content/drive/MyDrive/Tez Dosyaları/low energy 2 classlı/Test/Malignant'.\n",
            "There are 0 directories and 50 images in '/content/drive/MyDrive/Tez Dosyaları/low energy 2 classlı/Test/Benign'.\n"
          ]
        }
      ]
    },
    {
      "cell_type": "code",
      "source": [
        "train_dir = \"/content/drive/MyDrive/Tez Dosyaları/low energy 2 classlı/Train\"\n",
        "test_dir = \"/content/drive/MyDrive/Tez Dosyaları/low energy 2 classlı/Test\""
      ],
      "metadata": {
        "id": "R2wiSsjvak9T"
      },
      "execution_count": 4,
      "outputs": []
    },
    {
      "cell_type": "code",
      "source": [
        "import tensorflow as tf\n",
        "BATCH_SIZE = 32\n",
        "IMG_SIZE = (224, 224)\n",
        "train_data= tf.keras.preprocessing.image_dataset_from_directory(train_dir,\n",
        "                                                          label_mode=\"binary\",\n",
        "                                                          batch_size=BATCH_SIZE,\n",
        "                                                          image_size=IMG_SIZE)\n",
        "\n",
        "test_data = tf.keras.preprocessing.image_dataset_from_directory(test_dir,\n",
        "                                                          label_mode=\"binary\",\n",
        "                                                          batch_size=BATCH_SIZE,\n",
        "                                                          image_size=IMG_SIZE)"
      ],
      "metadata": {
        "colab": {
          "base_uri": "https://localhost:8080/"
        },
        "id": "y1kUAJ2XaqFz",
        "outputId": "e37a73c9-087a-4ba0-df80-e80accd5346b"
      },
      "execution_count": 5,
      "outputs": [
        {
          "output_type": "stream",
          "name": "stdout",
          "text": [
            "Found 745 files belonging to 2 classes.\n",
            "Found 100 files belonging to 2 classes.\n"
          ]
        }
      ]
    },
    {
      "cell_type": "code",
      "source": [
        "\n",
        "train_data.class_names"
      ],
      "metadata": {
        "colab": {
          "base_uri": "https://localhost:8080/"
        },
        "id": "he4ZOI7uarVa",
        "outputId": "559a59cc-76fc-43cf-e4e5-4604a6641a8b"
      },
      "execution_count": 6,
      "outputs": [
        {
          "output_type": "execute_result",
          "data": {
            "text/plain": [
              "['Benign', 'Malignant']"
            ]
          },
          "metadata": {},
          "execution_count": 6
        }
      ]
    },
    {
      "cell_type": "code",
      "source": [
        "from tensorflow.keras.preprocessing.image import ImageDataGenerator\n",
        "from tensorflow.keras.preprocessing.image import img_to_array\n",
        "from tensorflow.keras.preprocessing.image import load_img\n",
        "import numpy as np\n",
        "import random\n",
        "import math\n",
        "import csv\n",
        "import cv2\n",
        "import os"
      ],
      "metadata": {
        "id": "5GY3yo0QasvB"
      },
      "execution_count": 7,
      "outputs": []
    },
    {
      "cell_type": "code",
      "source": [
        "image_width = 224\n",
        "image_height = 224\n",
        "classes = ['Benign', 'Malignant']\n",
        "datagen = ImageDataGenerator(\n",
        "    rescale=1.0/255,\n",
        "    rotation_range=40,\n",
        "    width_shift_range=0.2,\n",
        "    height_shift_range=0.2,\n",
        "    shear_range=0.2,\n",
        "    zoom_range=0.2,\n",
        "    horizontal_flip=True,\n",
        "    fill_mode='nearest'\n",
        ")\n",
        "\n",
        "# Resimleri yüklemek için flow_from_directory kullanın\n",
        "train_generator = datagen.flow_from_directory(\n",
        "    directory=\"/content/drive/MyDrive/Tez Dosyaları/low energy 2 classlı/Train\",\n",
        "    target_size=(image_width, image_height),\n",
        "    batch_size=32,\n",
        "    class_mode='categorical',\n",
        "    subset='training'\n",
        ")\n",
        "\n",
        "# Her sınıf için resimleri ayrı ayrı arttırın\n",
        "for cls in classes:\n",
        "    # Sınıfın resimlerini yüklemek için flow_from_directory kullanın\n",
        "    cls_generator = datagen.flow_from_directory(\n",
        "        directory=\"/content/drive/MyDrive/Tez Dosyaları/low energy 2 classlı/Train\",\n",
        "        target_size=(image_width, image_height),\n",
        "        batch_size=32,\n",
        "        class_mode='categorical',\n",
        "        subset='training',\n",
        "        classes=[cls]\n",
        "    )\n",
        "\n",
        "    # Resimleri arttırın ve kaydedin\n",
        "    i = 0\n",
        "    for batch in cls_generator:\n",
        "        images, labels = batch\n",
        "        for image in images:\n",
        "            # Resmi kaydetmek için imwrite kullanın\n",
        "            cv2.imwrite(os.path.join(\"/content/drive/MyDrive/Tez Dosyaları/low energy 2 classlı/Train\", cls, f\"augmented_{i}.jpg\"), image * 255)\n",
        "            i += 1\n",
        "            if i >= 3000:  # Maksimum resim sayısına ulaşıldığında döngüyü durdur\n",
        "                break\n",
        "        else:\n",
        "            continue\n",
        "        break"
      ],
      "metadata": {
        "colab": {
          "base_uri": "https://localhost:8080/"
        },
        "id": "JjrMIs70auCt",
        "outputId": "4d9566cb-be77-413b-d31f-d800d32dd681"
      },
      "execution_count": 8,
      "outputs": [
        {
          "output_type": "stream",
          "name": "stdout",
          "text": [
            "Found 745 images belonging to 2 classes.\n",
            "Found 325 images belonging to 1 classes.\n",
            "Found 420 images belonging to 1 classes.\n"
          ]
        }
      ]
    },
    {
      "cell_type": "code",
      "source": [
        "# Load the augmented images for the malignant class\n",
        "augmented_images = os.listdir(\"/content/drive/MyDrive/Tez Dosyaları/low energy 2 classlı/Train/Malignant\")\n",
        "\n",
        "# Count the number of augmented images\n",
        "num_malignant_images = len(augmented_images)\n",
        "\n",
        "# Print the number of malignant images\n",
        "print(\"Number of malignant images:\", num_malignant_images)\n",
        ""
      ],
      "metadata": {
        "colab": {
          "base_uri": "https://localhost:8080/"
        },
        "id": "XrbBNRc4a1lp",
        "outputId": "60c41357-ed2a-4b78-80cd-a48eadb49f75"
      },
      "execution_count": 9,
      "outputs": [
        {
          "output_type": "stream",
          "name": "stdout",
          "text": [
            "Number of malignant images: 3420\n"
          ]
        }
      ]
    },
    {
      "cell_type": "code",
      "source": [
        "augmented_images3 = os.listdir(\"/content/drive/MyDrive/Tez Dosyaları/low energy 2 classlı/Train/Benign\")\n",
        "\n",
        "# Count the number of augmented images\n",
        "num_benign_images = len(augmented_images3)\n",
        "\n",
        "# Print the number of malignant images\n",
        "print(\"Number of benign images:\", num_benign_images)"
      ],
      "metadata": {
        "colab": {
          "base_uri": "https://localhost:8080/"
        },
        "id": "UqtFRtF7a8cm",
        "outputId": "0af0ec97-ded0-4f36-f5ef-913b2082aeff"
      },
      "execution_count": 10,
      "outputs": [
        {
          "output_type": "stream",
          "name": "stdout",
          "text": [
            "Number of benign images: 3325\n"
          ]
        }
      ]
    },
    {
      "cell_type": "code",
      "source": [
        "import tensorflow as tf\n",
        "BATCH_SIZE = 32\n",
        "IMG_SIZE = (224, 224)\n",
        "train_data= tf.keras.preprocessing.image_dataset_from_directory(train_dir,\n",
        "                                                          label_mode=\"binary\",\n",
        "                                                          batch_size=BATCH_SIZE,\n",
        "                                                          image_size=IMG_SIZE)\n",
        "\n",
        "test_data = tf.keras.preprocessing.image_dataset_from_directory(test_dir,\n",
        "                                                          label_mode=\"binary\",\n",
        "                                                          batch_size=BATCH_SIZE,\n",
        "                                                          image_size=IMG_SIZE)"
      ],
      "metadata": {
        "colab": {
          "base_uri": "https://localhost:8080/"
        },
        "id": "IGhtqCcfbAgP",
        "outputId": "48182f78-36d6-4363-f8c6-b61b31da776f"
      },
      "execution_count": 11,
      "outputs": [
        {
          "output_type": "stream",
          "name": "stdout",
          "text": [
            "Found 6745 files belonging to 2 classes.\n",
            "Found 100 files belonging to 2 classes.\n"
          ]
        }
      ]
    },
    {
      "cell_type": "code",
      "source": [
        "# 1.  create base model with tf.keras.applications\n",
        "base_model = tf.keras.applications.EfficientNetB0(include_top=False)\n",
        "\n",
        "# 2. Freeze the base model\n",
        "base_model.trainable = False\n",
        "\n",
        "# 3. create inputs into our model\n",
        "inputs = tf.keras.layers.Input(shape=(224, 224, 3), name=\"input_layer\")\n",
        "\n",
        "# 4. if using ResNet50V2 you will need to normalize inputs\n",
        "# x = tf.keras.layers.experimental.preprocessing.Rescaling(1./255)(inputs)\n",
        "\n",
        "# 5. pass the inputs to the base_model\n",
        "x = base_model(inputs)\n",
        "print(f\"Shape after passing inputs through base model: {x.shape}\")\n",
        "\n",
        "# 6. average pool the outputs of the base model (aggregate all the most important information, reduce number of computations)\n",
        "x = tf.keras.layers.GlobalAveragePooling2D(name=\"global_average_pooling_layer\")(x)\n",
        "print(f\"Shape after GlobalAveragePooling2D: {x.shape}\")\n",
        "\n",
        "# 7. create the output activation layer\n",
        "outputs = tf.keras.layers.Dense(1, activation=\"sigmoid\", name=\"output_layer\")(x)\n",
        "model_0 = tf.keras.Model(inputs, outputs)\n",
        "\n",
        "# 8. compile the model\n",
        "model_0.compile(loss=\"binary_crossentropy\",\n",
        "                optimizer=tf.keras.optimizers.Adam(),\n",
        "                metrics=[\"accuracy\"])\n",
        "\n",
        "# 9. fit the model\n",
        "history_0 = model_0.fit(train_data,\n",
        "                        epochs=40,\n",
        "                        steps_per_epoch=len(train_data),\n",
        "                        validation_data=test_data,\n",
        "                        validation_steps=int(len(test_data)),\n",
        "                        callbacks=[create_tensorboard_callback(dir_name=\"transfer_learning\",\n",
        "                                                              experiment_name=\"10_percent_feature_extraction\")])\n",
        ""
      ],
      "metadata": {
        "colab": {
          "base_uri": "https://localhost:8080/"
        },
        "id": "FbzT_aM2bCJD",
        "outputId": "2036fb33-0924-4ac9-a294-e95d53b0a5ae"
      },
      "execution_count": 12,
      "outputs": [
        {
          "output_type": "stream",
          "name": "stdout",
          "text": [
            "Downloading data from https://storage.googleapis.com/keras-applications/efficientnetb0_notop.h5\n",
            "16705208/16705208 [==============================] - 1s 0us/step\n",
            "Shape after passing inputs through base model: (None, 7, 7, 1280)\n",
            "Shape after GlobalAveragePooling2D: (None, 1280)\n",
            "Saving TensorBoard log files to: transfer_learning/10_percent_feature_extraction/20240731-153830\n",
            "Epoch 1/40\n",
            "211/211 [==============================] - 72s 154ms/step - loss: 0.6411 - accuracy: 0.6329 - val_loss: 0.6885 - val_accuracy: 0.6400\n",
            "Epoch 2/40\n",
            "211/211 [==============================] - 20s 91ms/step - loss: 0.5930 - accuracy: 0.6850 - val_loss: 0.7131 - val_accuracy: 0.6600\n",
            "Epoch 3/40\n",
            "211/211 [==============================] - 20s 91ms/step - loss: 0.5748 - accuracy: 0.7054 - val_loss: 0.7067 - val_accuracy: 0.6500\n",
            "Epoch 4/40\n",
            "211/211 [==============================] - 20s 92ms/step - loss: 0.5601 - accuracy: 0.7155 - val_loss: 0.7022 - val_accuracy: 0.6600\n",
            "Epoch 5/40\n",
            "211/211 [==============================] - 20s 90ms/step - loss: 0.5549 - accuracy: 0.7193 - val_loss: 0.7492 - val_accuracy: 0.6800\n",
            "Epoch 6/40\n",
            "211/211 [==============================] - 20s 90ms/step - loss: 0.5421 - accuracy: 0.7291 - val_loss: 0.7239 - val_accuracy: 0.6700\n",
            "Epoch 7/40\n",
            "211/211 [==============================] - 20s 91ms/step - loss: 0.5326 - accuracy: 0.7330 - val_loss: 0.7296 - val_accuracy: 0.6700\n",
            "Epoch 8/40\n",
            "211/211 [==============================] - 20s 91ms/step - loss: 0.5292 - accuracy: 0.7342 - val_loss: 0.8472 - val_accuracy: 0.6400\n",
            "Epoch 9/40\n",
            "211/211 [==============================] - 20s 90ms/step - loss: 0.5221 - accuracy: 0.7466 - val_loss: 0.7813 - val_accuracy: 0.6600\n",
            "Epoch 10/40\n",
            "211/211 [==============================] - 20s 91ms/step - loss: 0.5189 - accuracy: 0.7413 - val_loss: 0.7526 - val_accuracy: 0.6700\n",
            "Epoch 11/40\n",
            "211/211 [==============================] - 20s 91ms/step - loss: 0.5104 - accuracy: 0.7505 - val_loss: 0.7853 - val_accuracy: 0.6600\n",
            "Epoch 12/40\n",
            "211/211 [==============================] - 20s 90ms/step - loss: 0.5094 - accuracy: 0.7505 - val_loss: 0.7997 - val_accuracy: 0.6500\n",
            "Epoch 13/40\n",
            "211/211 [==============================] - 20s 91ms/step - loss: 0.5034 - accuracy: 0.7606 - val_loss: 0.7998 - val_accuracy: 0.6500\n",
            "Epoch 14/40\n",
            "211/211 [==============================] - 20s 91ms/step - loss: 0.4985 - accuracy: 0.7580 - val_loss: 0.8151 - val_accuracy: 0.6600\n",
            "Epoch 15/40\n",
            "211/211 [==============================] - 20s 91ms/step - loss: 0.4971 - accuracy: 0.7613 - val_loss: 0.7822 - val_accuracy: 0.6700\n",
            "Epoch 16/40\n",
            "211/211 [==============================] - 20s 91ms/step - loss: 0.4920 - accuracy: 0.7655 - val_loss: 0.7936 - val_accuracy: 0.6600\n",
            "Epoch 17/40\n",
            "211/211 [==============================] - 20s 90ms/step - loss: 0.4910 - accuracy: 0.7652 - val_loss: 0.8154 - val_accuracy: 0.6500\n",
            "Epoch 18/40\n",
            "211/211 [==============================] - 20s 90ms/step - loss: 0.4872 - accuracy: 0.7666 - val_loss: 0.7934 - val_accuracy: 0.6700\n",
            "Epoch 19/40\n",
            "211/211 [==============================] - 19s 89ms/step - loss: 0.4882 - accuracy: 0.7662 - val_loss: 0.8130 - val_accuracy: 0.6500\n",
            "Epoch 20/40\n",
            "211/211 [==============================] - 20s 89ms/step - loss: 0.4840 - accuracy: 0.7705 - val_loss: 0.8405 - val_accuracy: 0.6500\n",
            "Epoch 21/40\n",
            "211/211 [==============================] - 19s 89ms/step - loss: 0.4835 - accuracy: 0.7674 - val_loss: 0.8264 - val_accuracy: 0.6600\n",
            "Epoch 22/40\n",
            "211/211 [==============================] - 20s 89ms/step - loss: 0.4799 - accuracy: 0.7730 - val_loss: 0.8333 - val_accuracy: 0.6500\n",
            "Epoch 23/40\n",
            "211/211 [==============================] - 20s 89ms/step - loss: 0.4741 - accuracy: 0.7791 - val_loss: 0.8580 - val_accuracy: 0.6400\n",
            "Epoch 24/40\n",
            "211/211 [==============================] - 19s 89ms/step - loss: 0.4703 - accuracy: 0.7721 - val_loss: 0.8297 - val_accuracy: 0.6700\n",
            "Epoch 25/40\n",
            "211/211 [==============================] - 20s 89ms/step - loss: 0.4695 - accuracy: 0.7784 - val_loss: 0.8326 - val_accuracy: 0.6500\n",
            "Epoch 26/40\n",
            "211/211 [==============================] - 19s 88ms/step - loss: 0.4679 - accuracy: 0.7787 - val_loss: 0.8647 - val_accuracy: 0.6500\n",
            "Epoch 27/40\n",
            "211/211 [==============================] - 20s 89ms/step - loss: 0.4682 - accuracy: 0.7846 - val_loss: 0.8163 - val_accuracy: 0.6800\n",
            "Epoch 28/40\n",
            "211/211 [==============================] - 19s 88ms/step - loss: 0.4626 - accuracy: 0.7818 - val_loss: 0.8646 - val_accuracy: 0.6500\n",
            "Epoch 29/40\n",
            "211/211 [==============================] - 20s 90ms/step - loss: 0.4628 - accuracy: 0.7828 - val_loss: 0.8488 - val_accuracy: 0.6500\n",
            "Epoch 30/40\n",
            "211/211 [==============================] - 19s 88ms/step - loss: 0.4626 - accuracy: 0.7816 - val_loss: 0.8811 - val_accuracy: 0.6700\n",
            "Epoch 31/40\n",
            "211/211 [==============================] - 20s 89ms/step - loss: 0.4610 - accuracy: 0.7847 - val_loss: 0.8766 - val_accuracy: 0.6500\n",
            "Epoch 32/40\n",
            "211/211 [==============================] - 19s 88ms/step - loss: 0.4578 - accuracy: 0.7846 - val_loss: 0.8941 - val_accuracy: 0.6400\n",
            "Epoch 33/40\n",
            "211/211 [==============================] - 19s 89ms/step - loss: 0.4571 - accuracy: 0.7825 - val_loss: 0.8740 - val_accuracy: 0.6400\n",
            "Epoch 34/40\n",
            "211/211 [==============================] - 19s 88ms/step - loss: 0.4498 - accuracy: 0.7911 - val_loss: 0.8994 - val_accuracy: 0.6400\n",
            "Epoch 35/40\n",
            "211/211 [==============================] - 19s 88ms/step - loss: 0.4567 - accuracy: 0.7804 - val_loss: 0.8928 - val_accuracy: 0.6500\n",
            "Epoch 36/40\n",
            "211/211 [==============================] - 19s 89ms/step - loss: 0.4507 - accuracy: 0.7850 - val_loss: 0.8645 - val_accuracy: 0.6600\n",
            "Epoch 37/40\n",
            "211/211 [==============================] - 20s 89ms/step - loss: 0.4483 - accuracy: 0.7924 - val_loss: 0.8833 - val_accuracy: 0.6600\n",
            "Epoch 38/40\n",
            "211/211 [==============================] - 19s 88ms/step - loss: 0.4541 - accuracy: 0.7875 - val_loss: 0.9076 - val_accuracy: 0.6700\n",
            "Epoch 39/40\n",
            "211/211 [==============================] - 19s 88ms/step - loss: 0.4496 - accuracy: 0.7868 - val_loss: 0.9204 - val_accuracy: 0.6400\n",
            "Epoch 40/40\n",
            "211/211 [==============================] - 19s 89ms/step - loss: 0.4523 - accuracy: 0.7827 - val_loss: 0.9391 - val_accuracy: 0.6600\n"
          ]
        }
      ]
    },
    {
      "cell_type": "code",
      "source": [
        "import matplotlib.pyplot as plt\n",
        "\n",
        "def plot_loss_curves(history):\n",
        "  \"\"\"\n",
        "  Returns separate loss curves for training and validation metrics.\n",
        "  Args:\n",
        "    history: TensorFlow History object.\n",
        "\n",
        "    Returns:\n",
        "    Plots of training/validation loss and accuracy metrics.\n",
        "  \"\"\"\n",
        "  loss = history.history['loss']\n",
        "  val_loss = history.history['val_loss']\n",
        "\n",
        "  accuracy = history.history['accuracy']\n",
        "  val_accuracy = history.history['val_accuracy']\n",
        "\n",
        "  epochs = range(len(history.history['loss']))\n",
        "\n",
        "  #Plot loss\n",
        "\n",
        "  plt.plot(epochs, loss, label='training_loss')\n",
        "  plt.plot(epochs, val_loss, label='val_loss')\n",
        "  plt.title('Loss')\n",
        "  plt.xlabel('Epochs')\n",
        "  plt.legend()\n",
        "\n",
        "  #Plot accuracy\n",
        "  plt.figure()\n",
        "  plt.plot(epochs, accuracy, label='training_accuracy')\n",
        "  plt.plot(epochs, val_accuracy, label='val_accuracy')\n",
        "  plt.title('Accuracy')\n",
        "  plt.xlabel('Epochs')\n",
        "  plt.legend();\n",
        "\n",
        "plot_loss_curves(history_0)"
      ],
      "metadata": {
        "colab": {
          "base_uri": "https://localhost:8080/",
          "height": 927
        },
        "id": "7JRYlH5JbFxU",
        "outputId": "908d95bc-8711-4da3-bb78-d29f89f96947"
      },
      "execution_count": 13,
      "outputs": [
        {
          "output_type": "display_data",
          "data": {
            "text/plain": [
              "<Figure size 640x480 with 1 Axes>"
            ],
            "image/png": "[encoded data removed]"
          },
          "metadata": {}
        },
        {
          "output_type": "display_data",
          "data": {
            "text/plain": [
              "<Figure size 640x480 with 1 Axes>"
            ],
            "image/png": "[encoded data removed]"
          },
          "metadata": {}
        }
      ]
    },
    {
      "cell_type": "code",
      "source": [
        "\n",
        "results_feature_extraction = model_0.evaluate(test_data)\n",
        "results_feature_extraction\n",
        ""
      ],
      "metadata": {
        "colab": {
          "base_uri": "https://localhost:8080/"
        },
        "id": "1gnVgSUAbHlY",
        "outputId": "f567f8af-3cd1-4c7a-e90a-e6d572fe331b"
      },
      "execution_count": 14,
      "outputs": [
        {
          "output_type": "stream",
          "name": "stdout",
          "text": [
            "4/4 [==============================] - 1s 44ms/step - loss: 0.9391 - accuracy: 0.6600\n"
          ]
        },
        {
          "output_type": "execute_result",
          "data": {
            "text/plain": [
              "[0.939100444316864, 0.6600000262260437]"
            ]
          },
          "metadata": {},
          "execution_count": 14
        }
      ]
    },
    {
      "cell_type": "code",
      "source": [
        "# Get the predicted probabilities for the test set\n",
        "y_pred_probs = model_0.predict(test_data)\n",
        "\n",
        "# Convert probabilities to binary predictions (0 or 1)\n",
        "y_pred = (y_pred_probs > 0.5).astype(int)\n",
        "\n",
        "# Get the true labels for the test set\n",
        "y_true = np.concatenate([y for x, y in test_data], axis=0)\n",
        "\n",
        "# Calculate precision\n",
        "from sklearn.metrics import precision_score\n",
        "precision = precision_score(y_true, y_pred)\n",
        "print(\"Precision:\", precision)"
      ],
      "metadata": {
        "colab": {
          "base_uri": "https://localhost:8080/"
        },
        "id": "2LX2XmV6bJCI",
        "outputId": "6e497308-03ab-4cc1-8d60-aefe38817c14"
      },
      "execution_count": 15,
      "outputs": [
        {
          "output_type": "stream",
          "name": "stdout",
          "text": [
            "4/4 [==============================] - 2s 68ms/step\n",
            "Precision: 0.4722222222222222\n"
          ]
        }
      ]
    },
    {
      "cell_type": "code",
      "source": [
        "from sklearn.metrics import recall_score\n",
        "\n",
        "# Calculate recall\n",
        "recall = recall_score(y_true, y_pred)\n",
        "print(\"Recall:\", recall)"
      ],
      "metadata": {
        "colab": {
          "base_uri": "https://localhost:8080/"
        },
        "id": "RPpPZHg0bKP5",
        "outputId": "9b1a2907-2603-4fbd-f1b0-fed8098c5e2b"
      },
      "execution_count": 16,
      "outputs": [
        {
          "output_type": "stream",
          "name": "stdout",
          "text": [
            "Recall: 0.68\n"
          ]
        }
      ]
    },
    {
      "cell_type": "code",
      "source": [
        "from sklearn.metrics import f1_score\n",
        "# Calculate F1-score\n",
        "f1 = f1_score(y_true, y_pred)\n",
        "print(\"F1-score:\", f1)"
      ],
      "metadata": {
        "colab": {
          "base_uri": "https://localhost:8080/"
        },
        "id": "Kph6_JgFbLYR",
        "outputId": "cec0deeb-2a75-4222-dae9-2bc39a148397"
      },
      "execution_count": 17,
      "outputs": [
        {
          "output_type": "stream",
          "name": "stdout",
          "text": [
            "F1-score: 0.5573770491803278\n"
          ]
        }
      ]
    },
    {
      "cell_type": "code",
      "source": [
        "# Eğitim doğruluğunu elde etmek için history_0 nesnesini kullanın\n",
        "train_accuracy = history_0.history['accuracy']\n",
        "\n",
        "# Son epoch'un eğitim doğruluğunu yazdırın\n",
        "print(\"Eğitim doğruluğu:\", train_accuracy[-1])"
      ],
      "metadata": {
        "colab": {
          "base_uri": "https://localhost:8080/"
        },
        "id": "xvmr3rjUbMqu",
        "outputId": "69975659-3c99-4f70-f3ee-515cd12f7406"
      },
      "execution_count": 18,
      "outputs": [
        {
          "output_type": "stream",
          "name": "stdout",
          "text": [
            "Eğitim doğruluğu: 0.78265380859375\n"
          ]
        }
      ]
    },
    {
      "cell_type": "code",
      "source": [],
      "metadata": {
        "id": "qKfXC2albODO"
      },
      "execution_count": null,
      "outputs": []
    }
  ]
}