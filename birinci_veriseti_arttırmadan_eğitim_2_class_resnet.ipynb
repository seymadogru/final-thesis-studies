{
  "nbformat": 4,
  "nbformat_minor": 0,
  "metadata": {
    "colab": {
      "provenance": [],
      "machine_shape": "hm",
      "gpuType": "T4"
    },
    "kernelspec": {
      "name": "python3",
      "display_name": "Python 3"
    },
    "language_info": {
      "name": "python"
    },
    "accelerator": "GPU"
  },
  "cells": [
    {
      "cell_type": "code",
      "execution_count": null,
      "metadata": {
        "id": "gY9CcdelZqaK"
      },
      "outputs": [],
      "source": []
    },
    {
      "cell_type": "code",
      "source": [
        "from google.colab import drive\n",
        "drive.mount('/content/drive')"
      ],
      "metadata": {
        "colab": {
          "base_uri": "https://localhost:8080/"
        },
        "id": "yHph3iBUZ1tk",
        "outputId": "bdd19250-b322-433b-898d-6cf206271711"
      },
      "execution_count": 1,
      "outputs": [
        {
          "output_type": "stream",
          "name": "stdout",
          "text": [
            "Mounted at /content/drive\n"
          ]
        }
      ]
    },
    {
      "cell_type": "code",
      "source": [
        "!wget https://raw.githubusercontent.com/mrdbourke/tensorflow-deep-learning/main/extras/helper_functions.py"
      ],
      "metadata": {
        "colab": {
          "base_uri": "https://localhost:8080/"
        },
        "id": "X71Blx8KaClQ",
        "outputId": "cfa96d19-3397-4d4d-8e9a-9e079b0dd935"
      },
      "execution_count": 2,
      "outputs": [
        {
          "output_type": "stream",
          "name": "stdout",
          "text": [
            "--2024-07-24 06:23:26--  https://raw.githubusercontent.com/mrdbourke/tensorflow-deep-learning/main/extras/helper_functions.py\n",
            "Resolving raw.githubusercontent.com (raw.githubusercontent.com)... 185.199.108.133, 185.199.109.133, 185.199.110.133, ...\n",
            "Connecting to raw.githubusercontent.com (raw.githubusercontent.com)|185.199.108.133|:443... connected.\n",
            "HTTP request sent, awaiting response... 200 OK\n",
            "Length: 10246 (10K) [text/plain]\n",
            "Saving to: ‘helper_functions.py’\n",
            "\n",
            "helper_functions.py 100%[===================>]  10.01K  --.-KB/s    in 0.001s  \n",
            "\n",
            "2024-07-24 06:23:27 (11.7 MB/s) - ‘helper_functions.py’ saved [10246/10246]\n",
            "\n"
          ]
        }
      ]
    },
    {
      "cell_type": "code",
      "source": [
        "from helper_functions import create_tensorboard_callback, plot_loss_curves, unzip_data, walk_through_dir"
      ],
      "metadata": {
        "id": "5bEYo6kLaKvz"
      },
      "execution_count": 3,
      "outputs": []
    },
    {
      "cell_type": "code",
      "source": [
        "import os\n",
        "\n",
        "for dirpath, dirnames, filenames in os.walk(\"/content/drive/MyDrive/Tez Dosyaları/birinci veriseti 2 classlı\"):\n",
        "  print(f\"There are {len(dirnames)} directories and {len(filenames)} images in '{dirpath}'.\")"
      ],
      "metadata": {
        "colab": {
          "base_uri": "https://localhost:8080/"
        },
        "id": "k3lcCFCIaMz7",
        "outputId": "3147e2cd-0315-4a02-a6e6-99ba10835819"
      },
      "execution_count": 4,
      "outputs": [
        {
          "output_type": "stream",
          "name": "stdout",
          "text": [
            "There are 2 directories and 0 images in '/content/drive/MyDrive/Tez Dosyaları/birinci veriseti 2 classlı'.\n",
            "There are 2 directories and 0 images in '/content/drive/MyDrive/Tez Dosyaları/birinci veriseti 2 classlı/Test'.\n",
            "There are 0 directories and 66 images in '/content/drive/MyDrive/Tez Dosyaları/birinci veriseti 2 classlı/Test/Malignant'.\n",
            "There are 0 directories and 60 images in '/content/drive/MyDrive/Tez Dosyaları/birinci veriseti 2 classlı/Test/Benign'.\n",
            "There are 2 directories and 0 images in '/content/drive/MyDrive/Tez Dosyaları/birinci veriseti 2 classlı/Train'.\n",
            "There are 0 directories and 527 images in '/content/drive/MyDrive/Tez Dosyaları/birinci veriseti 2 classlı/Train/Benign'.\n",
            "There are 0 directories and 596 images in '/content/drive/MyDrive/Tez Dosyaları/birinci veriseti 2 classlı/Train/Malignant'.\n"
          ]
        }
      ]
    },
    {
      "cell_type": "code",
      "source": [
        "train_dir = \"/content/drive/MyDrive/Tez Dosyaları/birinci veriseti 2 classlı/Train\"\n",
        "test_dir = \"/content/drive/MyDrive/Tez Dosyaları/birinci veriseti 2 classlı/Test\""
      ],
      "metadata": {
        "id": "UN289A1yaejh"
      },
      "execution_count": 5,
      "outputs": []
    },
    {
      "cell_type": "code",
      "source": [
        "import tensorflow as tf\n",
        "BATCH_SIZE = 32\n",
        "IMG_SIZE = (224, 224)\n",
        "train_data= tf.keras.preprocessing.image_dataset_from_directory(train_dir,\n",
        "                                                          label_mode=\"binary\",\n",
        "                                                          batch_size=BATCH_SIZE,\n",
        "                                                          image_size=IMG_SIZE)\n",
        "\n",
        "test_data = tf.keras.preprocessing.image_dataset_from_directory(test_dir,\n",
        "                                                          label_mode=\"binary\",\n",
        "                                                          batch_size=BATCH_SIZE,\n",
        "                                                          image_size=IMG_SIZE)"
      ],
      "metadata": {
        "colab": {
          "base_uri": "https://localhost:8080/"
        },
        "id": "0q0XlYx9avg9",
        "outputId": "e1e2683b-a4e1-461d-b727-b532a9b34212"
      },
      "execution_count": 6,
      "outputs": [
        {
          "output_type": "stream",
          "name": "stdout",
          "text": [
            "Found 1123 files belonging to 2 classes.\n",
            "Found 126 files belonging to 2 classes.\n"
          ]
        }
      ]
    },
    {
      "cell_type": "code",
      "source": [
        "train_data.class_names"
      ],
      "metadata": {
        "colab": {
          "base_uri": "https://localhost:8080/"
        },
        "id": "YgvNv0niayoK",
        "outputId": "d459603c-181d-40a5-ba11-725f05f7ae6f"
      },
      "execution_count": 7,
      "outputs": [
        {
          "output_type": "execute_result",
          "data": {
            "text/plain": [
              "['Benign', 'Malignant']"
            ]
          },
          "metadata": {},
          "execution_count": 7
        }
      ]
    },
    {
      "cell_type": "code",
      "source": [
        "from tensorflow.keras.preprocessing.image import ImageDataGenerator\n",
        "from tensorflow.keras.preprocessing.image import img_to_array\n",
        "from tensorflow.keras.preprocessing.image import load_img\n",
        "import numpy as np\n",
        "import random\n",
        "import math\n",
        "import csv\n",
        "import cv2\n",
        "import os"
      ],
      "metadata": {
        "id": "T7oMf6GQa0Oc"
      },
      "execution_count": 8,
      "outputs": []
    },
    {
      "cell_type": "code",
      "source": [
        "# 1.  create base model with tf.keras.applications\n",
        "base_model = tf.keras.applications.ResNet50(include_top=False)\n",
        "\n",
        "# 2. Freeze the base model\n",
        "base_model.trainable = False\n",
        "\n",
        "# 3. create inputs into our model\n",
        "inputs = tf.keras.layers.Input(shape=(224, 224, 3), name=\"input_layer\")\n",
        "\n",
        "# 4. if using ResNet50V2 you will need to normalize inputs\n",
        "# x = tf.keras.layers.experimental.preprocessing.Rescaling(1./255)(inputs)\n",
        "\n",
        "# 5. pass the inputs to the base_model\n",
        "x = base_model(inputs)\n",
        "print(f\"Shape after passing inputs through base model: {x.shape}\")\n",
        "\n",
        "# 6. average pool the outputs of the base model (aggregate all the most important information, reduce number of computations)\n",
        "x = tf.keras.layers.GlobalAveragePooling2D(name=\"global_average_pooling_layer\")(x)\n",
        "print(f\"Shape after GlobalAveragePooling2D: {x.shape}\")\n",
        "\n",
        "# 7. create the output activation layer\n",
        "outputs = tf.keras.layers.Dense(1, activation=\"sigmoid\", name=\"output_layer\")(x)\n",
        "model_0 = tf.keras.Model(inputs, outputs)\n",
        "\n",
        "# 8. compile the model\n",
        "model_0.compile(loss=\"binary_crossentropy\",\n",
        "                optimizer=tf.keras.optimizers.Adam(),\n",
        "                metrics=[\"accuracy\"])\n",
        "\n",
        "# 9. fit the model\n",
        "history_0 = model_0.fit(train_data,\n",
        "                        epochs=40,\n",
        "                        steps_per_epoch=len(train_data),\n",
        "                        validation_data=test_data,\n",
        "                        validation_steps=int(len(test_data)),\n",
        "                        callbacks=[create_tensorboard_callback(dir_name=\"transfer_learning\",\n",
        "                                                              experiment_name=\"10_percent_feature_extraction\")])\n",
        ""
      ],
      "metadata": {
        "colab": {
          "base_uri": "https://localhost:8080/"
        },
        "id": "WMK-rfoUa16P",
        "outputId": "6b2d5a92-a142-4eaf-d7f6-55922e110a6e"
      },
      "execution_count": 19,
      "outputs": [
        {
          "output_type": "stream",
          "name": "stdout",
          "text": [
            "Downloading data from https://storage.googleapis.com/tensorflow/keras-applications/resnet/resnet50_weights_tf_dim_ordering_tf_kernels_notop.h5\n",
            "94765736/94765736 [==============================] - 4s 0us/step\n",
            "Shape after passing inputs through base model: (None, 7, 7, 2048)\n",
            "Shape after GlobalAveragePooling2D: (None, 2048)\n",
            "Saving TensorBoard log files to: transfer_learning/10_percent_feature_extraction/20240724-064738\n",
            "Epoch 1/40\n",
            "36/36 [==============================] - 19s 340ms/step - loss: 0.7164 - accuracy: 0.5681 - val_loss: 0.6760 - val_accuracy: 0.5714\n",
            "Epoch 2/40\n",
            "36/36 [==============================] - 8s 179ms/step - loss: 0.6296 - accuracy: 0.6411 - val_loss: 0.6633 - val_accuracy: 0.6032\n",
            "Epoch 3/40\n",
            "36/36 [==============================] - 8s 178ms/step - loss: 0.5999 - accuracy: 0.6679 - val_loss: 0.6486 - val_accuracy: 0.6508\n",
            "Epoch 4/40\n",
            "36/36 [==============================] - 8s 175ms/step - loss: 0.5796 - accuracy: 0.6830 - val_loss: 0.6482 - val_accuracy: 0.6270\n",
            "Epoch 5/40\n",
            "36/36 [==============================] - 8s 180ms/step - loss: 0.5814 - accuracy: 0.6839 - val_loss: 0.6510 - val_accuracy: 0.6429\n",
            "Epoch 6/40\n",
            "36/36 [==============================] - 8s 179ms/step - loss: 0.5511 - accuracy: 0.7150 - val_loss: 0.6442 - val_accuracy: 0.6429\n",
            "Epoch 7/40\n",
            "36/36 [==============================] - 8s 174ms/step - loss: 0.5464 - accuracy: 0.7079 - val_loss: 0.6425 - val_accuracy: 0.6508\n",
            "Epoch 8/40\n",
            "36/36 [==============================] - 8s 174ms/step - loss: 0.5339 - accuracy: 0.7231 - val_loss: 0.6501 - val_accuracy: 0.6508\n",
            "Epoch 9/40\n",
            "36/36 [==============================] - 8s 174ms/step - loss: 0.5249 - accuracy: 0.7329 - val_loss: 0.6503 - val_accuracy: 0.6349\n",
            "Epoch 10/40\n",
            "36/36 [==============================] - 8s 180ms/step - loss: 0.5066 - accuracy: 0.7551 - val_loss: 0.6408 - val_accuracy: 0.6429\n",
            "Epoch 11/40\n",
            "36/36 [==============================] - 8s 175ms/step - loss: 0.4982 - accuracy: 0.7658 - val_loss: 0.6463 - val_accuracy: 0.6270\n",
            "Epoch 12/40\n",
            "36/36 [==============================] - 8s 176ms/step - loss: 0.4945 - accuracy: 0.7747 - val_loss: 0.6493 - val_accuracy: 0.6508\n",
            "Epoch 13/40\n",
            "36/36 [==============================] - 8s 180ms/step - loss: 0.4845 - accuracy: 0.7560 - val_loss: 0.6940 - val_accuracy: 0.5952\n",
            "Epoch 14/40\n",
            "36/36 [==============================] - 8s 173ms/step - loss: 0.4824 - accuracy: 0.7711 - val_loss: 0.6614 - val_accuracy: 0.6111\n",
            "Epoch 15/40\n",
            "36/36 [==============================] - 8s 178ms/step - loss: 0.4801 - accuracy: 0.7792 - val_loss: 0.6567 - val_accuracy: 0.6190\n",
            "Epoch 16/40\n",
            "36/36 [==============================] - 8s 173ms/step - loss: 0.4633 - accuracy: 0.7818 - val_loss: 0.6614 - val_accuracy: 0.6508\n",
            "Epoch 17/40\n",
            "36/36 [==============================] - 8s 174ms/step - loss: 0.4623 - accuracy: 0.7827 - val_loss: 0.6591 - val_accuracy: 0.6429\n",
            "Epoch 18/40\n",
            "36/36 [==============================] - 8s 177ms/step - loss: 0.4659 - accuracy: 0.7836 - val_loss: 0.6554 - val_accuracy: 0.6508\n",
            "Epoch 19/40\n",
            "36/36 [==============================] - 8s 172ms/step - loss: 0.4531 - accuracy: 0.7979 - val_loss: 0.6538 - val_accuracy: 0.6270\n",
            "Epoch 20/40\n",
            "36/36 [==============================] - 8s 183ms/step - loss: 0.4411 - accuracy: 0.7881 - val_loss: 0.7589 - val_accuracy: 0.5873\n",
            "Epoch 21/40\n",
            "36/36 [==============================] - 8s 180ms/step - loss: 0.4467 - accuracy: 0.8023 - val_loss: 0.6990 - val_accuracy: 0.6190\n",
            "Epoch 22/40\n",
            "36/36 [==============================] - 8s 182ms/step - loss: 0.4393 - accuracy: 0.8077 - val_loss: 0.6678 - val_accuracy: 0.6508\n",
            "Epoch 23/40\n",
            "36/36 [==============================] - 8s 180ms/step - loss: 0.4268 - accuracy: 0.8085 - val_loss: 0.6687 - val_accuracy: 0.6190\n",
            "Epoch 24/40\n",
            "36/36 [==============================] - 8s 175ms/step - loss: 0.4288 - accuracy: 0.8166 - val_loss: 0.6824 - val_accuracy: 0.6270\n",
            "Epoch 25/40\n",
            "36/36 [==============================] - 8s 181ms/step - loss: 0.4118 - accuracy: 0.8272 - val_loss: 0.7004 - val_accuracy: 0.6270\n",
            "Epoch 26/40\n",
            "36/36 [==============================] - 8s 174ms/step - loss: 0.4109 - accuracy: 0.8370 - val_loss: 0.6807 - val_accuracy: 0.6349\n",
            "Epoch 27/40\n",
            "36/36 [==============================] - 8s 175ms/step - loss: 0.4008 - accuracy: 0.8370 - val_loss: 0.6975 - val_accuracy: 0.6270\n",
            "Epoch 28/40\n",
            "36/36 [==============================] - 8s 180ms/step - loss: 0.4063 - accuracy: 0.8246 - val_loss: 0.7070 - val_accuracy: 0.6270\n",
            "Epoch 29/40\n",
            "36/36 [==============================] - 8s 176ms/step - loss: 0.3986 - accuracy: 0.8424 - val_loss: 0.7038 - val_accuracy: 0.6190\n",
            "Epoch 30/40\n",
            "36/36 [==============================] - 8s 183ms/step - loss: 0.3972 - accuracy: 0.8406 - val_loss: 0.7440 - val_accuracy: 0.6032\n",
            "Epoch 31/40\n",
            "36/36 [==============================] - 8s 179ms/step - loss: 0.4117 - accuracy: 0.8166 - val_loss: 0.7017 - val_accuracy: 0.6111\n",
            "Epoch 32/40\n",
            "36/36 [==============================] - 8s 178ms/step - loss: 0.4056 - accuracy: 0.8255 - val_loss: 0.6924 - val_accuracy: 0.6190\n",
            "Epoch 33/40\n",
            "36/36 [==============================] - 8s 185ms/step - loss: 0.3812 - accuracy: 0.8459 - val_loss: 0.7069 - val_accuracy: 0.6508\n",
            "Epoch 34/40\n",
            "36/36 [==============================] - 8s 174ms/step - loss: 0.3865 - accuracy: 0.8468 - val_loss: 0.6993 - val_accuracy: 0.6429\n",
            "Epoch 35/40\n",
            "36/36 [==============================] - 8s 180ms/step - loss: 0.3746 - accuracy: 0.8557 - val_loss: 0.7141 - val_accuracy: 0.6190\n",
            "Epoch 36/40\n",
            "36/36 [==============================] - 8s 177ms/step - loss: 0.3679 - accuracy: 0.8593 - val_loss: 0.7221 - val_accuracy: 0.6190\n",
            "Epoch 37/40\n",
            "36/36 [==============================] - 8s 175ms/step - loss: 0.3669 - accuracy: 0.8620 - val_loss: 0.7610 - val_accuracy: 0.6111\n",
            "Epoch 38/40\n",
            "36/36 [==============================] - 8s 182ms/step - loss: 0.3669 - accuracy: 0.8691 - val_loss: 0.7233 - val_accuracy: 0.6032\n",
            "Epoch 39/40\n",
            "36/36 [==============================] - 8s 174ms/step - loss: 0.3692 - accuracy: 0.8566 - val_loss: 0.7040 - val_accuracy: 0.6270\n",
            "Epoch 40/40\n",
            "36/36 [==============================] - 8s 178ms/step - loss: 0.3725 - accuracy: 0.8629 - val_loss: 0.7119 - val_accuracy: 0.6111\n"
          ]
        }
      ]
    },
    {
      "cell_type": "code",
      "source": [
        "import matplotlib.pyplot as plt\n",
        "\n",
        "def plot_loss_curves(history):\n",
        "  \"\"\"\n",
        "  Returns separate loss curves for training and validation metrics.\n",
        "  Args:\n",
        "    history: TensorFlow History object.\n",
        "\n",
        "    Returns:\n",
        "    Plots of training/validation loss and accuracy metrics.\n",
        "  \"\"\"\n",
        "  loss = history.history['loss']\n",
        "  val_loss = history.history['val_loss']\n",
        "\n",
        "  accuracy = history.history['accuracy']\n",
        "  val_accuracy = history.history['val_accuracy']\n",
        "\n",
        "  epochs = range(len(history.history['loss']))\n",
        "\n",
        "  #Plot loss\n",
        "\n",
        "  plt.plot(epochs, loss, label='training_loss')\n",
        "  plt.plot(epochs, val_loss, label='val_loss')\n",
        "  plt.title('Loss')\n",
        "  plt.xlabel('Epochs')\n",
        "  plt.legend()\n",
        "\n",
        "  #Plot accuracy\n",
        "  plt.figure()\n",
        "  plt.plot(epochs, accuracy, label='training_accuracy')\n",
        "  plt.plot(epochs, val_accuracy, label='val_accuracy')\n",
        "  plt.title('Accuracy')\n",
        "  plt.xlabel('Epochs')\n",
        "  plt.legend();\n",
        "\n",
        "plot_loss_curves(history_0)"
      ],
      "metadata": {
        "colab": {
          "base_uri": "https://localhost:8080/",
          "height": 927
        },
        "id": "q5NuN1NRa6vo",
        "outputId": "42c39318-9264-4b3b-ad0b-d827093d7948"
      },
      "execution_count": 20,
      "outputs": [
        {
          "output_type": "display_data",
          "data": {
            "text/plain": [
              "<Figure size 640x480 with 1 Axes>"
            ],
            "image/png": "[encoded data removed]"
          },
          "metadata": {}
        },
        {
          "output_type": "display_data",
          "data": {
            "text/plain": [
              "<Figure size 640x480 with 1 Axes>"
            ],
            "image/png": "[encoded data removed]"
          },
          "metadata": {}
        }
      ]
    },
    {
      "cell_type": "code",
      "source": [
        "results_feature_extraction = model_0.evaluate(test_data)\n",
        "results_feature_extraction"
      ],
      "metadata": {
        "colab": {
          "base_uri": "https://localhost:8080/"
        },
        "id": "mHCVRoDTdbX3",
        "outputId": "96b80856-ab15-4c0c-ece9-1cac6419cf4f"
      },
      "execution_count": 21,
      "outputs": [
        {
          "output_type": "stream",
          "name": "stdout",
          "text": [
            "4/4 [==============================] - 1s 96ms/step - loss: 0.7119 - accuracy: 0.6111\n"
          ]
        },
        {
          "output_type": "execute_result",
          "data": {
            "text/plain": [
              "[0.7118850946426392, 0.6111111044883728]"
            ]
          },
          "metadata": {},
          "execution_count": 21
        }
      ]
    },
    {
      "cell_type": "code",
      "source": [
        "\n",
        "# Get the predicted probabilities for the test set\n",
        "y_pred_probs = model_0.predict(test_data)\n",
        "\n",
        "# Convert probabilities to binary predictions (0 or 1)\n",
        "y_pred = (y_pred_probs > 0.5).astype(int)\n",
        "\n",
        "# Get the true labels for the test set\n",
        "y_true = np.concatenate([y for x, y in test_data], axis=0)\n",
        "\n",
        "# Calculate precision\n",
        "from sklearn.metrics import precision_score\n",
        "precision = precision_score(y_true, y_pred)\n",
        "print(\"Precision:\", precision)\n"
      ],
      "metadata": {
        "colab": {
          "base_uri": "https://localhost:8080/"
        },
        "id": "VyXE_k28eUV0",
        "outputId": "6dc462c7-ed1f-460a-d3f5-b7592b841c4f"
      },
      "execution_count": 22,
      "outputs": [
        {
          "output_type": "stream",
          "name": "stdout",
          "text": [
            "4/4 [==============================] - 2s 92ms/step\n",
            "Precision: 0.4918032786885246\n"
          ]
        }
      ]
    },
    {
      "cell_type": "code",
      "source": [
        "\n",
        "from sklearn.metrics import recall_score\n",
        "\n",
        "# Calculate recall\n",
        "recall = recall_score(y_true, y_pred)\n",
        "print(\"Recall:\", recall)\n"
      ],
      "metadata": {
        "colab": {
          "base_uri": "https://localhost:8080/"
        },
        "id": "b0xf07ioex-O",
        "outputId": "c1fc3c8f-23db-4bf6-a6e8-bf506e449373"
      },
      "execution_count": 23,
      "outputs": [
        {
          "output_type": "stream",
          "name": "stdout",
          "text": [
            "Recall: 0.45454545454545453\n"
          ]
        }
      ]
    },
    {
      "cell_type": "code",
      "source": [
        "\n",
        "from sklearn.metrics import f1_score\n",
        "# Calculate F1-score\n",
        "f1 = f1_score(y_true, y_pred)\n",
        "print(\"F1-score:\", f1)\n"
      ],
      "metadata": {
        "colab": {
          "base_uri": "https://localhost:8080/"
        },
        "id": "Oqhrs8PKe2Zi",
        "outputId": "1a7b73ca-47ef-4710-b3b3-72a2e4ef90b9"
      },
      "execution_count": 24,
      "outputs": [
        {
          "output_type": "stream",
          "name": "stdout",
          "text": [
            "F1-score: 0.47244094488188976\n"
          ]
        }
      ]
    },
    {
      "cell_type": "code",
      "source": [],
      "metadata": {
        "id": "nuvVCILue6ia"
      },
      "execution_count": null,
      "outputs": []
    }
  ]
}