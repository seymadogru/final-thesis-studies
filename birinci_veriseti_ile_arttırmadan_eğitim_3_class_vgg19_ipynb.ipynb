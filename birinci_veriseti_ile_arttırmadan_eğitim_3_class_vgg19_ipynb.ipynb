{
  "nbformat": 4,
  "nbformat_minor": 0,
  "metadata": {
    "colab": {
      "provenance": [],
      "machine_shape": "hm",
      "gpuType": "T4"
    },
    "kernelspec": {
      "name": "python3",
      "display_name": "Python 3"
    },
    "language_info": {
      "name": "python"
    },
    "accelerator": "GPU"
  },
  "cells": [
    {
      "cell_type": "code",
      "execution_count": 18,
      "metadata": {
        "id": "1I7quSlQx20r"
      },
      "outputs": [],
      "source": [
        "from keras.preprocessing.image import ImageDataGenerator, array_to_img, img_to_array, load_img\n",
        "from keras.models import Sequential\n",
        "from keras.layers import Conv2D, MaxPooling2D, Dense\n",
        "from keras.applications.vgg19 import VGG19\n",
        "import numpy as np\n",
        "import os\n",
        "import matplotlib.pyplot as plt\n",
        "from glob import glob\n",
        "import cv2"
      ]
    },
    {
      "cell_type": "code",
      "source": [
        "train_dir = \"/content/drive/MyDrive/Tez Dosyaları/birinci veriseti 3 classlı/Train\"\n",
        "test_dir = \"/content/drive/MyDrive/Tez Dosyaları/birinci veriseti 3 classlı/Test\""
      ],
      "metadata": {
        "id": "sbZRrdmWyEHI"
      },
      "execution_count": 19,
      "outputs": []
    },
    {
      "cell_type": "code",
      "source": [
        "from google.colab import drive\n",
        "drive.mount('/content/drive')"
      ],
      "metadata": {
        "colab": {
          "base_uri": "https://localhost:8080/"
        },
        "id": "nhYnPI1WyXaL",
        "outputId": "492f97bf-a5c9-433f-c348-7a97cf06eae0"
      },
      "execution_count": 20,
      "outputs": [
        {
          "output_type": "stream",
          "name": "stdout",
          "text": [
            "Drive already mounted at /content/drive; to attempt to forcibly remount, call drive.mount(\"/content/drive\", force_remount=True).\n"
          ]
        }
      ]
    },
    {
      "cell_type": "code",
      "source": [
        "numberOfClass = len(glob(train_dir + \"/*\"))"
      ],
      "metadata": {
        "id": "5plwJrjHyclX"
      },
      "execution_count": 21,
      "outputs": []
    },
    {
      "cell_type": "code",
      "source": [
        "import tensorflow as tf"
      ],
      "metadata": {
        "id": "6R9j9Coeynd-"
      },
      "execution_count": 22,
      "outputs": []
    },
    {
      "cell_type": "code",
      "source": [
        "!wget https://raw.githubusercontent.com/mrdbourke/tensorflow-deep-learning/main/extras/helper_functions.py\n",
        ""
      ],
      "metadata": {
        "colab": {
          "base_uri": "https://localhost:8080/"
        },
        "id": "38lmM2wIysmm",
        "outputId": "82956b70-a590-43ae-d36c-e3152de584a9"
      },
      "execution_count": 23,
      "outputs": [
        {
          "output_type": "stream",
          "name": "stdout",
          "text": [
            "--2024-07-23 13:58:24--  https://raw.githubusercontent.com/mrdbourke/tensorflow-deep-learning/main/extras/helper_functions.py\n",
            "Resolving raw.githubusercontent.com (raw.githubusercontent.com)... 185.199.108.133, 185.199.109.133, 185.199.110.133, ...\n",
            "Connecting to raw.githubusercontent.com (raw.githubusercontent.com)|185.199.108.133|:443... connected.\n",
            "HTTP request sent, awaiting response... 200 OK\n",
            "Length: 10246 (10K) [text/plain]\n",
            "Saving to: ‘helper_functions.py.1’\n",
            "\n",
            "helper_functions.py 100%[===================>]  10.01K  --.-KB/s    in 0s      \n",
            "\n",
            "2024-07-23 13:58:25 (127 MB/s) - ‘helper_functions.py.1’ saved [10246/10246]\n",
            "\n"
          ]
        }
      ]
    },
    {
      "cell_type": "code",
      "source": [
        "from helper_functions import create_tensorboard_callback, plot_loss_curves, unzip_data, walk_through_dir\n",
        ""
      ],
      "metadata": {
        "id": "LghzOoCMyvBu"
      },
      "execution_count": 24,
      "outputs": []
    },
    {
      "cell_type": "code",
      "source": [
        "import os\n",
        "\n",
        "for dirpath, dirnames, filenames in os.walk(\"/content/drive/MyDrive/Tez Dosyaları/birinci veriseti 3 classlı\"):\n",
        "  print(f\"There are {len(dirnames)} directories and {len(filenames)} images in '{dirpath}'.\")\n"
      ],
      "metadata": {
        "colab": {
          "base_uri": "https://localhost:8080/"
        },
        "id": "fZ0q2lz-ywjP",
        "outputId": "6b0e67b8-356e-4b7a-f646-50410036770a"
      },
      "execution_count": 25,
      "outputs": [
        {
          "output_type": "stream",
          "name": "stdout",
          "text": [
            "There are 2 directories and 0 images in '/content/drive/MyDrive/Tez Dosyaları/birinci veriseti 3 classlı'.\n",
            "There are 3 directories and 0 images in '/content/drive/MyDrive/Tez Dosyaları/birinci veriseti 3 classlı/Train'.\n",
            "There are 0 directories and 680 images in '/content/drive/MyDrive/Tez Dosyaları/birinci veriseti 3 classlı/Train/Normal'.\n",
            "There are 0 directories and 596 images in '/content/drive/MyDrive/Tez Dosyaları/birinci veriseti 3 classlı/Train/Malignant'.\n",
            "There are 0 directories and 527 images in '/content/drive/MyDrive/Tez Dosyaları/birinci veriseti 3 classlı/Train/Benign'.\n",
            "There are 3 directories and 0 images in '/content/drive/MyDrive/Tez Dosyaları/birinci veriseti 3 classlı/Test'.\n",
            "There are 0 directories and 60 images in '/content/drive/MyDrive/Tez Dosyaları/birinci veriseti 3 classlı/Test/Benign'.\n",
            "There are 0 directories and 66 images in '/content/drive/MyDrive/Tez Dosyaları/birinci veriseti 3 classlı/Test/Malignant'.\n",
            "There are 0 directories and 77 images in '/content/drive/MyDrive/Tez Dosyaları/birinci veriseti 3 classlı/Test/Normal'.\n"
          ]
        }
      ]
    },
    {
      "cell_type": "code",
      "source": [
        "import tensorflow as tf\n",
        "BATCH_SIZE = 32\n",
        "IMG_SIZE = (224, 224)\n",
        "train_data= tf.keras.preprocessing.image_dataset_from_directory(train_dir,\n",
        "                                                          label_mode= \"categorical\",\n",
        "                                                          batch_size=BATCH_SIZE,\n",
        "                                                          image_size=IMG_SIZE)\n",
        "\n",
        "test_data = tf.keras.preprocessing.image_dataset_from_directory(test_dir,\n",
        "                                                          label_mode=\"categorical\",\n",
        "                                                          batch_size=BATCH_SIZE,\n",
        "                                                          image_size=IMG_SIZE)"
      ],
      "metadata": {
        "colab": {
          "base_uri": "https://localhost:8080/"
        },
        "id": "jszK3ocLy11e",
        "outputId": "a82274e4-314c-43c8-d887-dab4bf2a648c"
      },
      "execution_count": 26,
      "outputs": [
        {
          "output_type": "stream",
          "name": "stdout",
          "text": [
            "Found 1803 files belonging to 3 classes.\n",
            "Found 203 files belonging to 3 classes.\n"
          ]
        }
      ]
    },
    {
      "cell_type": "code",
      "source": [
        "train_data.class_names"
      ],
      "metadata": {
        "colab": {
          "base_uri": "https://localhost:8080/"
        },
        "id": "9bChB64Hy3v2",
        "outputId": "09140bf3-5fa0-4e69-f228-29fa7173a13f"
      },
      "execution_count": 27,
      "outputs": [
        {
          "output_type": "execute_result",
          "data": {
            "text/plain": [
              "['Benign', 'Malignant', 'Normal']"
            ]
          },
          "metadata": {},
          "execution_count": 27
        }
      ]
    },
    {
      "cell_type": "code",
      "source": [
        "from tensorflow.keras.preprocessing.image import ImageDataGenerator\n",
        "from tensorflow.keras.preprocessing.image import img_to_array\n",
        "from tensorflow.keras.preprocessing.image import load_img\n",
        "import numpy as np\n",
        "import random\n",
        "import math\n",
        "import csv\n",
        "import cv2\n",
        "import os"
      ],
      "metadata": {
        "id": "OjpNLENDy5HW"
      },
      "execution_count": 28,
      "outputs": []
    },
    {
      "cell_type": "code",
      "source": [
        "import tensorflow as tf\n",
        "\n",
        "# 1. create base model with tf.keras.applications\n",
        "base_model = tf.keras.applications.VGG19(include_top=False)\n",
        "\n",
        "# 2. Freeze the base model\n",
        "base_model.trainable = False\n",
        "\n",
        "# 3. create inputs into our model\n",
        "inputs = tf.keras.layers.Input(shape=(224, 224, 3), name=\"input_layer\")\n",
        "\n",
        "# 4. if using ResNet50V2 you will need to normalize inputs\n",
        "# x = tf.keras.layers.experimental.preprocessing.Rescaling(1./255)(inputs)\n",
        "\n",
        "# 5. pass the inputs to the base_model\n",
        "x = base_model(inputs)\n",
        "print(f\"Shape after passing inputs through base model: {x.shape}\")\n",
        "\n",
        "# 6. average pool the outputs of the base model (aggregate all the most important information, reduce number of computations)\n",
        "x = tf.keras.layers.GlobalAveragePooling2D(name=\"global_average_pooling_layer\")(x)\n",
        "print(f\"Shape after GlobalAveragePooling2D: {x.shape}\")\n",
        "\n",
        "# 7. create the output activation layer for 3 classes\n",
        "outputs = tf.keras.layers.Dense(3, activation=\"softmax\", name=\"output_layer\")(x)\n",
        "model_0 = tf.keras.Model(inputs, outputs)\n",
        "\n",
        "# 8. compile the model for 3 classes\n",
        "model_0.compile(loss=\"categorical_crossentropy\",\n",
        "                optimizer=tf.keras.optimizers.Adam(),\n",
        "                metrics=[\"accuracy\"])\n",
        "\n",
        "# Assuming you have already prepared your train_data and test_data\n",
        "# Make sure that train_data and test_data are prepared with class_mode='categorical'\n",
        "\n",
        "# 9. fit the model\n",
        "history_0 = model_0.fit(train_data,\n",
        "                        epochs=40,\n",
        "                        steps_per_epoch=len(train_data),\n",
        "                        validation_data=test_data,\n",
        "                        validation_steps=int(len(test_data)),\n",
        "                        callbacks=[create_tensorboard_callback(dir_name=\"transfer_learning\",\n",
        "                                                               experiment_name=\"3_class_feature_extraction\")])\n"
      ],
      "metadata": {
        "colab": {
          "base_uri": "https://localhost:8080/"
        },
        "id": "G4awnyM-y6UG",
        "outputId": "18c36dba-12c3-4a79-eb3e-cea04352ddab"
      },
      "execution_count": 29,
      "outputs": [
        {
          "output_type": "stream",
          "name": "stdout",
          "text": [
            "Downloading data from https://storage.googleapis.com/tensorflow/keras-applications/vgg19/vgg19_weights_tf_dim_ordering_tf_kernels_notop.h5\n",
            "80134624/80134624 [==============================] - 0s 0us/step\n",
            "Shape after passing inputs through base model: (None, 7, 7, 512)\n",
            "Shape after GlobalAveragePooling2D: (None, 512)\n",
            "Saving TensorBoard log files to: transfer_learning/3_class_feature_extraction/20240723-135839\n",
            "Epoch 1/40\n",
            "57/57 [==============================] - 15s 199ms/step - loss: 1.7902 - accuracy: 0.3882 - val_loss: 1.6461 - val_accuracy: 0.4089\n",
            "Epoch 2/40\n",
            "57/57 [==============================] - 12s 189ms/step - loss: 1.3655 - accuracy: 0.4443 - val_loss: 1.3984 - val_accuracy: 0.4483\n",
            "Epoch 3/40\n",
            "57/57 [==============================] - 12s 193ms/step - loss: 1.1931 - accuracy: 0.4603 - val_loss: 1.2008 - val_accuracy: 0.4433\n",
            "Epoch 4/40\n",
            "57/57 [==============================] - 12s 191ms/step - loss: 1.1023 - accuracy: 0.4997 - val_loss: 1.1361 - val_accuracy: 0.4680\n",
            "Epoch 5/40\n",
            "57/57 [==============================] - 12s 191ms/step - loss: 1.0458 - accuracy: 0.5225 - val_loss: 1.1223 - val_accuracy: 0.4581\n",
            "Epoch 6/40\n",
            "57/57 [==============================] - 12s 192ms/step - loss: 1.0101 - accuracy: 0.5435 - val_loss: 1.0961 - val_accuracy: 0.5025\n",
            "Epoch 7/40\n",
            "57/57 [==============================] - 12s 196ms/step - loss: 0.9538 - accuracy: 0.5580 - val_loss: 1.0843 - val_accuracy: 0.4680\n",
            "Epoch 8/40\n",
            "57/57 [==============================] - 12s 189ms/step - loss: 0.9257 - accuracy: 0.5735 - val_loss: 1.1515 - val_accuracy: 0.4729\n",
            "Epoch 9/40\n",
            "57/57 [==============================] - 12s 194ms/step - loss: 0.9015 - accuracy: 0.5879 - val_loss: 1.0191 - val_accuracy: 0.4975\n",
            "Epoch 10/40\n",
            "57/57 [==============================] - 12s 189ms/step - loss: 0.8859 - accuracy: 0.5957 - val_loss: 1.0614 - val_accuracy: 0.4975\n",
            "Epoch 11/40\n",
            "57/57 [==============================] - 12s 189ms/step - loss: 0.8630 - accuracy: 0.6045 - val_loss: 1.0165 - val_accuracy: 0.5222\n",
            "Epoch 12/40\n",
            "57/57 [==============================] - 12s 192ms/step - loss: 0.8472 - accuracy: 0.6123 - val_loss: 1.0198 - val_accuracy: 0.5468\n",
            "Epoch 13/40\n",
            "57/57 [==============================] - 12s 192ms/step - loss: 0.8384 - accuracy: 0.6018 - val_loss: 1.0377 - val_accuracy: 0.5172\n",
            "Epoch 14/40\n",
            "57/57 [==============================] - 12s 190ms/step - loss: 0.8149 - accuracy: 0.6118 - val_loss: 1.0191 - val_accuracy: 0.5123\n",
            "Epoch 15/40\n",
            "57/57 [==============================] - 12s 189ms/step - loss: 0.8078 - accuracy: 0.6301 - val_loss: 1.0523 - val_accuracy: 0.5123\n",
            "Epoch 16/40\n",
            "57/57 [==============================] - 12s 188ms/step - loss: 0.7965 - accuracy: 0.6328 - val_loss: 1.0433 - val_accuracy: 0.5172\n",
            "Epoch 17/40\n",
            "57/57 [==============================] - 12s 188ms/step - loss: 0.7802 - accuracy: 0.6428 - val_loss: 1.0259 - val_accuracy: 0.5123\n",
            "Epoch 18/40\n",
            "57/57 [==============================] - 12s 188ms/step - loss: 0.7788 - accuracy: 0.6473 - val_loss: 1.0764 - val_accuracy: 0.5222\n",
            "Epoch 19/40\n",
            "57/57 [==============================] - 12s 188ms/step - loss: 0.7649 - accuracy: 0.6517 - val_loss: 1.0365 - val_accuracy: 0.5419\n",
            "Epoch 20/40\n",
            "57/57 [==============================] - 12s 189ms/step - loss: 0.7640 - accuracy: 0.6484 - val_loss: 1.0735 - val_accuracy: 0.5123\n",
            "Epoch 21/40\n",
            "57/57 [==============================] - 12s 190ms/step - loss: 0.7637 - accuracy: 0.6522 - val_loss: 1.0917 - val_accuracy: 0.5320\n",
            "Epoch 22/40\n",
            "57/57 [==============================] - 12s 190ms/step - loss: 0.7405 - accuracy: 0.6644 - val_loss: 1.0428 - val_accuracy: 0.5123\n",
            "Epoch 23/40\n",
            "57/57 [==============================] - 12s 192ms/step - loss: 0.7510 - accuracy: 0.6689 - val_loss: 1.0773 - val_accuracy: 0.5419\n",
            "Epoch 24/40\n",
            "57/57 [==============================] - 12s 192ms/step - loss: 0.7411 - accuracy: 0.6667 - val_loss: 1.0706 - val_accuracy: 0.5172\n",
            "Epoch 25/40\n",
            "57/57 [==============================] - 12s 192ms/step - loss: 0.7261 - accuracy: 0.6722 - val_loss: 1.1122 - val_accuracy: 0.4926\n",
            "Epoch 26/40\n",
            "57/57 [==============================] - 12s 192ms/step - loss: 0.7273 - accuracy: 0.6705 - val_loss: 1.0771 - val_accuracy: 0.5074\n",
            "Epoch 27/40\n",
            "57/57 [==============================] - 12s 193ms/step - loss: 0.7003 - accuracy: 0.6872 - val_loss: 1.0825 - val_accuracy: 0.5222\n",
            "Epoch 28/40\n",
            "57/57 [==============================] - 12s 194ms/step - loss: 0.7133 - accuracy: 0.6722 - val_loss: 1.1012 - val_accuracy: 0.5172\n",
            "Epoch 29/40\n",
            "57/57 [==============================] - 12s 194ms/step - loss: 0.7016 - accuracy: 0.6927 - val_loss: 1.0884 - val_accuracy: 0.5271\n",
            "Epoch 30/40\n",
            "57/57 [==============================] - 12s 191ms/step - loss: 0.7039 - accuracy: 0.6905 - val_loss: 1.0824 - val_accuracy: 0.5123\n",
            "Epoch 31/40\n",
            "57/57 [==============================] - 12s 193ms/step - loss: 0.7073 - accuracy: 0.6778 - val_loss: 1.1115 - val_accuracy: 0.5369\n",
            "Epoch 32/40\n",
            "57/57 [==============================] - 12s 192ms/step - loss: 0.6955 - accuracy: 0.6844 - val_loss: 1.0955 - val_accuracy: 0.5123\n",
            "Epoch 33/40\n",
            "57/57 [==============================] - 12s 194ms/step - loss: 0.7006 - accuracy: 0.6861 - val_loss: 1.1200 - val_accuracy: 0.4926\n",
            "Epoch 34/40\n",
            "57/57 [==============================] - 12s 191ms/step - loss: 0.6868 - accuracy: 0.6961 - val_loss: 1.1163 - val_accuracy: 0.5025\n",
            "Epoch 35/40\n",
            "57/57 [==============================] - 12s 191ms/step - loss: 0.6767 - accuracy: 0.6955 - val_loss: 1.1259 - val_accuracy: 0.5074\n",
            "Epoch 36/40\n",
            "57/57 [==============================] - 12s 190ms/step - loss: 0.6696 - accuracy: 0.7033 - val_loss: 1.1232 - val_accuracy: 0.5074\n",
            "Epoch 37/40\n",
            "57/57 [==============================] - 12s 190ms/step - loss: 0.6782 - accuracy: 0.7005 - val_loss: 1.1190 - val_accuracy: 0.5123\n",
            "Epoch 38/40\n",
            "57/57 [==============================] - 12s 189ms/step - loss: 0.6735 - accuracy: 0.6983 - val_loss: 1.1492 - val_accuracy: 0.5222\n",
            "Epoch 39/40\n",
            "57/57 [==============================] - 12s 190ms/step - loss: 0.6736 - accuracy: 0.6994 - val_loss: 1.1596 - val_accuracy: 0.5074\n",
            "Epoch 40/40\n",
            "57/57 [==============================] - 12s 191ms/step - loss: 0.6678 - accuracy: 0.7121 - val_loss: 1.1492 - val_accuracy: 0.5172\n"
          ]
        }
      ]
    },
    {
      "cell_type": "code",
      "source": [
        "\n",
        "# Evaluate the model on the test data\n",
        "results_feature_extraction = model_0.evaluate(test_data)\n",
        "results_feature_extraction"
      ],
      "metadata": {
        "colab": {
          "base_uri": "https://localhost:8080/"
        },
        "id": "hADnfljTy_E1",
        "outputId": "35a3c39f-24a3-4cc6-8f70-7aa68dcb672b"
      },
      "execution_count": 30,
      "outputs": [
        {
          "output_type": "stream",
          "name": "stdout",
          "text": [
            "7/7 [==============================] - 2s 137ms/step - loss: 1.1492 - accuracy: 0.5172\n"
          ]
        },
        {
          "output_type": "execute_result",
          "data": {
            "text/plain": [
              "[1.14915132522583, 0.517241358757019]"
            ]
          },
          "metadata": {},
          "execution_count": 30
        }
      ]
    },
    {
      "cell_type": "code",
      "source": [
        "\n",
        "plot_loss_curves(history_0)\n"
      ],
      "metadata": {
        "colab": {
          "base_uri": "https://localhost:8080/",
          "height": 927
        },
        "id": "VXIU3sHEzMRN",
        "outputId": "eef80614-f7bc-481c-f38c-080970bfa9ff"
      },
      "execution_count": 31,
      "outputs": [
        {
          "output_type": "display_data",
          "data": {
            "text/plain": [
              "<Figure size 640x480 with 1 Axes>"
            ],
            "image/png": "[encoded data removed]"
          },
          "metadata": {}
        },
        {
          "output_type": "display_data",
          "data": {
            "text/plain": [
              "<Figure size 640x480 with 1 Axes>"
            ],
            "image/png": "[encoded data removed]"
          },
          "metadata": {}
        }
      ]
    },
    {
      "cell_type": "code",
      "source": [
        "from sklearn.metrics import classification_report\n",
        "\n",
        "# Assuming you have true labels for your test data stored in y_true\n",
        "# and predictions from your model stored in y_pred\n",
        "\n",
        "# Convert categorical predictions to class labels\n",
        "y_pred_labels = np.argmax(model_0.predict(test_data), axis=1)\n",
        "\n",
        "# Get true labels from the test dataset\n",
        "y_true_labels = np.concatenate([y for x, y in test_data], axis=0)\n",
        "y_true_labels = np.argmax(y_true_labels, axis=1)\n",
        "\n",
        "# Generate classification report\n",
        "report = classification_report(y_true_labels, y_pred_labels)\n",
        "\n",
        "print(report)"
      ],
      "metadata": {
        "colab": {
          "base_uri": "https://localhost:8080/"
        },
        "id": "TtHvVD9YzNeH",
        "outputId": "9b6aa106-f801-40ad-e907-90ed0c9d724b"
      },
      "execution_count": 32,
      "outputs": [
        {
          "output_type": "stream",
          "name": "stdout",
          "text": [
            "7/7 [==============================] - 2s 147ms/step\n",
            "              precision    recall  f1-score   support\n",
            "\n",
            "           0       0.25      0.23      0.24        60\n",
            "           1       0.30      0.23      0.26        66\n",
            "           2       0.34      0.43      0.38        77\n",
            "\n",
            "    accuracy                           0.31       203\n",
            "   macro avg       0.30      0.30      0.29       203\n",
            "weighted avg       0.30      0.31      0.30       203\n",
            "\n"
          ]
        }
      ]
    },
    {
      "cell_type": "code",
      "source": [],
      "metadata": {
        "id": "ZG1E8Ge2zPIl"
      },
      "execution_count": null,
      "outputs": []
    }
  ]
}