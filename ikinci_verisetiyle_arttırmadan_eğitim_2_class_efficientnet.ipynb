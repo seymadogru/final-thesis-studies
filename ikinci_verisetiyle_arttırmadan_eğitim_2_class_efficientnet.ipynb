{
  "nbformat": 4,
  "nbformat_minor": 0,
  "metadata": {
    "colab": {
      "provenance": [],
      "machine_shape": "hm",
      "gpuType": "T4"
    },
    "kernelspec": {
      "name": "python3",
      "display_name": "Python 3"
    },
    "language_info": {
      "name": "python"
    },
    "accelerator": "GPU"
  },
  "cells": [
    {
      "cell_type": "code",
      "execution_count": 1,
      "metadata": {
        "colab": {
          "base_uri": "https://localhost:8080/"
        },
        "id": "Ukn8C3kreVCG",
        "outputId": "864bf3ee-06fa-4e84-edb0-e05151e961c8"
      },
      "outputs": [
        {
          "output_type": "stream",
          "name": "stdout",
          "text": [
            "--2024-07-25 06:01:14--  https://raw.githubusercontent.com/mrdbourke/tensorflow-deep-learning/main/extras/helper_functions.py\n",
            "Resolving raw.githubusercontent.com (raw.githubusercontent.com)... 185.199.108.133, 185.199.109.133, 185.199.110.133, ...\n",
            "Connecting to raw.githubusercontent.com (raw.githubusercontent.com)|185.199.108.133|:443... connected.\n",
            "HTTP request sent, awaiting response... 200 OK\n",
            "Length: 10246 (10K) [text/plain]\n",
            "Saving to: ‘helper_functions.py’\n",
            "\n",
            "\rhelper_functions.py   0%[                    ]       0  --.-KB/s               \rhelper_functions.py 100%[===================>]  10.01K  --.-KB/s    in 0s      \n",
            "\n",
            "2024-07-25 06:01:15 (117 MB/s) - ‘helper_functions.py’ saved [10246/10246]\n",
            "\n"
          ]
        }
      ],
      "source": [
        "!wget https://raw.githubusercontent.com/mrdbourke/tensorflow-deep-learning/main/extras/helper_functions.py\n",
        ""
      ]
    },
    {
      "cell_type": "code",
      "source": [
        "from helper_functions import create_tensorboard_callback, plot_loss_curves, unzip_data, walk_through_dir"
      ],
      "metadata": {
        "id": "PDAERQaverZZ"
      },
      "execution_count": 2,
      "outputs": []
    },
    {
      "cell_type": "code",
      "source": [
        "import os\n",
        "\n",
        "for dirpath, dirnames, filenames in os.walk(\"/content/drive/MyDrive/Tez Dosyaları/ikinci veriseti 2 class\"):\n",
        "  print(f\"There are {len(dirnames)} directories and {len(filenames)} images in '{dirpath}'.\")\n",
        ""
      ],
      "metadata": {
        "colab": {
          "base_uri": "https://localhost:8080/"
        },
        "id": "yClEIe23etR0",
        "outputId": "09b59e16-5f49-4e69-ee47-a23b187f4cfd"
      },
      "execution_count": 3,
      "outputs": [
        {
          "output_type": "stream",
          "name": "stdout",
          "text": [
            "There are 2 directories and 0 images in '/content/drive/MyDrive/Tez Dosyaları/ikinci veriseti 2 class'.\n",
            "There are 2 directories and 0 images in '/content/drive/MyDrive/Tez Dosyaları/ikinci veriseti 2 class/Train'.\n",
            "There are 0 directories and 223 images in '/content/drive/MyDrive/Tez Dosyaları/ikinci veriseti 2 class/Train/Malignant'.\n",
            "There are 0 directories and 70 images in '/content/drive/MyDrive/Tez Dosyaları/ikinci veriseti 2 class/Train/Benign'.\n",
            "There are 2 directories and 0 images in '/content/drive/MyDrive/Tez Dosyaları/ikinci veriseti 2 class/Test'.\n",
            "There are 0 directories and 55 images in '/content/drive/MyDrive/Tez Dosyaları/ikinci veriseti 2 class/Test/Malignant'.\n",
            "There are 0 directories and 18 images in '/content/drive/MyDrive/Tez Dosyaları/ikinci veriseti 2 class/Test/Benign'.\n"
          ]
        }
      ]
    },
    {
      "cell_type": "code",
      "source": [
        "train_dir = \"/content/drive/MyDrive/Tez Dosyaları/ikinci veriseti 2 class/Train\"\n",
        "test_dir = \"/content/drive/MyDrive/Tez Dosyaları/ikinci veriseti 2 class/Test\""
      ],
      "metadata": {
        "id": "TCNPwJsGe1Hc"
      },
      "execution_count": 4,
      "outputs": []
    },
    {
      "cell_type": "code",
      "source": [
        "import tensorflow as tf\n",
        "BATCH_SIZE = 32\n",
        "IMG_SIZE = (224, 224)\n",
        "train_data= tf.keras.preprocessing.image_dataset_from_directory(train_dir,\n",
        "                                                          label_mode=\"binary\",\n",
        "                                                          batch_size=BATCH_SIZE,\n",
        "                                                          image_size=IMG_SIZE)\n",
        "\n",
        "test_data = tf.keras.preprocessing.image_dataset_from_directory(test_dir,\n",
        "                                                          label_mode=\"binary\",\n",
        "                                                          batch_size=BATCH_SIZE,\n",
        "                                                          image_size=IMG_SIZE)"
      ],
      "metadata": {
        "colab": {
          "base_uri": "https://localhost:8080/"
        },
        "id": "mJWiSACdfQAg",
        "outputId": "a28d5d41-0e3a-49b2-cd04-8dcccbeaebf7"
      },
      "execution_count": 5,
      "outputs": [
        {
          "output_type": "stream",
          "name": "stdout",
          "text": [
            "Found 293 files belonging to 2 classes.\n",
            "Found 73 files belonging to 2 classes.\n"
          ]
        }
      ]
    },
    {
      "cell_type": "code",
      "source": [
        "train_data.class_names"
      ],
      "metadata": {
        "colab": {
          "base_uri": "https://localhost:8080/"
        },
        "id": "JDY4Vl-NfSWD",
        "outputId": "f2a1ffce-3401-450f-ba61-261da7c2ee14"
      },
      "execution_count": 6,
      "outputs": [
        {
          "output_type": "execute_result",
          "data": {
            "text/plain": [
              "['Benign', 'Malignant']"
            ]
          },
          "metadata": {},
          "execution_count": 6
        }
      ]
    },
    {
      "cell_type": "code",
      "source": [
        "from tensorflow.keras.preprocessing.image import ImageDataGenerator\n",
        "from tensorflow.keras.preprocessing.image import img_to_array\n",
        "from tensorflow.keras.preprocessing.image import load_img\n",
        "import numpy as np\n",
        "import random\n",
        "import math\n",
        "import csv\n",
        "import cv2\n",
        "import os"
      ],
      "metadata": {
        "id": "rt18y_x9fWMs"
      },
      "execution_count": 7,
      "outputs": []
    },
    {
      "cell_type": "code",
      "source": [
        "# 1.  create base model with tf.keras.applications\n",
        "base_model = tf.keras.applications.EfficientNetB0(include_top=False)\n",
        "\n",
        "# 2. Freeze the base model\n",
        "base_model.trainable = False\n",
        "\n",
        "# 3. create inputs into our model\n",
        "inputs = tf.keras.layers.Input(shape=(224, 224, 3), name=\"input_layer\")\n",
        "\n",
        "# 4. if using ResNet50V2 you will need to normalize inputs\n",
        "# x = tf.keras.layers.experimental.preprocessing.Rescaling(1./255)(inputs)\n",
        "\n",
        "# 5. pass the inputs to the base_model\n",
        "x = base_model(inputs)\n",
        "print(f\"Shape after passing inputs through base model: {x.shape}\")\n",
        "\n",
        "# 6. average pool the outputs of the base model (aggregate all the most important information, reduce number of computations)\n",
        "x = tf.keras.layers.GlobalAveragePooling2D(name=\"global_average_pooling_layer\")(x)\n",
        "print(f\"Shape after GlobalAveragePooling2D: {x.shape}\")\n",
        "\n",
        "# 7. create the output activation layer\n",
        "outputs = tf.keras.layers.Dense(1, activation=\"sigmoid\", name=\"output_layer\")(x)\n",
        "model_0 = tf.keras.Model(inputs, outputs)\n",
        "\n",
        "# 8. compile the model\n",
        "model_0.compile(loss=\"binary_crossentropy\",\n",
        "                optimizer=tf.keras.optimizers.Adam(),\n",
        "                metrics=[\"accuracy\"])\n",
        "\n",
        "# 9. fit the model\n",
        "history_0 = model_0.fit(train_data,\n",
        "                        epochs=40,\n",
        "                        steps_per_epoch=len(train_data),\n",
        "                        validation_data=test_data,\n",
        "                        validation_steps=int(len(test_data)),\n",
        "                        callbacks=[create_tensorboard_callback(dir_name=\"transfer_learning\",\n",
        "                                                              experiment_name=\"10_percent_feature_extraction\")])\n",
        "\n",
        ""
      ],
      "metadata": {
        "colab": {
          "base_uri": "https://localhost:8080/"
        },
        "id": "5tm8T63-fX3G",
        "outputId": "d8358c6a-ec45-4fdb-cd9e-dee3e5c68ff6"
      },
      "execution_count": 8,
      "outputs": [
        {
          "output_type": "stream",
          "name": "stdout",
          "text": [
            "Downloading data from https://storage.googleapis.com/keras-applications/efficientnetb0_notop.h5\n",
            "16705208/16705208 [==============================] - 0s 0us/step\n",
            "Shape after passing inputs through base model: (None, 7, 7, 1280)\n",
            "Shape after GlobalAveragePooling2D: (None, 1280)\n",
            "Saving TensorBoard log files to: transfer_learning/10_percent_feature_extraction/20240725-060440\n",
            "Epoch 1/40\n",
            "10/10 [==============================] - 32s 965ms/step - loss: 0.5791 - accuracy: 0.7474 - val_loss: 0.5988 - val_accuracy: 0.7534\n",
            "Epoch 2/40\n",
            "10/10 [==============================] - 3s 139ms/step - loss: 0.5542 - accuracy: 0.7611 - val_loss: 0.5804 - val_accuracy: 0.7534\n",
            "Epoch 3/40\n",
            "10/10 [==============================] - 4s 169ms/step - loss: 0.5360 - accuracy: 0.7611 - val_loss: 0.5719 - val_accuracy: 0.7534\n",
            "Epoch 4/40\n",
            "10/10 [==============================] - 4s 158ms/step - loss: 0.5314 - accuracy: 0.7645 - val_loss: 0.5695 - val_accuracy: 0.7534\n",
            "Epoch 5/40\n",
            "10/10 [==============================] - 4s 148ms/step - loss: 0.5130 - accuracy: 0.7611 - val_loss: 0.5670 - val_accuracy: 0.7534\n",
            "Epoch 6/40\n",
            "10/10 [==============================] - 3s 138ms/step - loss: 0.5015 - accuracy: 0.7611 - val_loss: 0.5637 - val_accuracy: 0.7534\n",
            "Epoch 7/40\n",
            "10/10 [==============================] - 4s 152ms/step - loss: 0.4936 - accuracy: 0.7645 - val_loss: 0.5616 - val_accuracy: 0.7534\n",
            "Epoch 8/40\n",
            "10/10 [==============================] - 4s 154ms/step - loss: 0.4880 - accuracy: 0.7645 - val_loss: 0.5674 - val_accuracy: 0.7534\n",
            "Epoch 9/40\n",
            "10/10 [==============================] - 3s 144ms/step - loss: 0.4813 - accuracy: 0.7747 - val_loss: 0.5658 - val_accuracy: 0.7397\n",
            "Epoch 10/40\n",
            "10/10 [==============================] - 4s 147ms/step - loss: 0.4688 - accuracy: 0.7679 - val_loss: 0.5681 - val_accuracy: 0.7534\n",
            "Epoch 11/40\n",
            "10/10 [==============================] - 4s 148ms/step - loss: 0.4649 - accuracy: 0.7747 - val_loss: 0.5580 - val_accuracy: 0.7534\n",
            "Epoch 12/40\n",
            "10/10 [==============================] - 3s 142ms/step - loss: 0.4594 - accuracy: 0.7747 - val_loss: 0.5566 - val_accuracy: 0.7534\n",
            "Epoch 13/40\n",
            "10/10 [==============================] - 3s 137ms/step - loss: 0.4596 - accuracy: 0.7713 - val_loss: 0.5628 - val_accuracy: 0.7534\n",
            "Epoch 14/40\n",
            "10/10 [==============================] - 3s 147ms/step - loss: 0.4517 - accuracy: 0.7645 - val_loss: 0.5577 - val_accuracy: 0.7534\n",
            "Epoch 15/40\n",
            "10/10 [==============================] - 4s 142ms/step - loss: 0.4488 - accuracy: 0.7884 - val_loss: 0.5529 - val_accuracy: 0.7534\n",
            "Epoch 16/40\n",
            "10/10 [==============================] - 3s 141ms/step - loss: 0.4362 - accuracy: 0.7850 - val_loss: 0.5507 - val_accuracy: 0.7534\n",
            "Epoch 17/40\n",
            "10/10 [==============================] - 3s 143ms/step - loss: 0.4331 - accuracy: 0.7747 - val_loss: 0.5498 - val_accuracy: 0.7534\n",
            "Epoch 18/40\n",
            "10/10 [==============================] - 4s 143ms/step - loss: 0.4334 - accuracy: 0.7850 - val_loss: 0.5517 - val_accuracy: 0.7534\n",
            "Epoch 19/40\n",
            "10/10 [==============================] - 3s 144ms/step - loss: 0.4247 - accuracy: 0.7782 - val_loss: 0.5576 - val_accuracy: 0.7534\n",
            "Epoch 20/40\n",
            "10/10 [==============================] - 3s 141ms/step - loss: 0.4196 - accuracy: 0.7850 - val_loss: 0.5451 - val_accuracy: 0.7534\n",
            "Epoch 21/40\n",
            "10/10 [==============================] - 3s 138ms/step - loss: 0.4201 - accuracy: 0.7952 - val_loss: 0.5534 - val_accuracy: 0.7534\n",
            "Epoch 22/40\n",
            "10/10 [==============================] - 4s 166ms/step - loss: 0.4125 - accuracy: 0.7816 - val_loss: 0.5473 - val_accuracy: 0.7534\n",
            "Epoch 23/40\n",
            "10/10 [==============================] - 3s 142ms/step - loss: 0.4088 - accuracy: 0.8123 - val_loss: 0.5524 - val_accuracy: 0.7534\n",
            "Epoch 24/40\n",
            "10/10 [==============================] - 3s 139ms/step - loss: 0.4025 - accuracy: 0.8089 - val_loss: 0.5679 - val_accuracy: 0.7534\n",
            "Epoch 25/40\n",
            "10/10 [==============================] - 3s 143ms/step - loss: 0.4064 - accuracy: 0.7918 - val_loss: 0.5557 - val_accuracy: 0.7534\n",
            "Epoch 26/40\n",
            "10/10 [==============================] - 4s 142ms/step - loss: 0.3957 - accuracy: 0.8157 - val_loss: 0.5510 - val_accuracy: 0.7534\n",
            "Epoch 27/40\n",
            "10/10 [==============================] - 3s 144ms/step - loss: 0.3950 - accuracy: 0.8157 - val_loss: 0.5582 - val_accuracy: 0.7534\n",
            "Epoch 28/40\n",
            "10/10 [==============================] - 4s 145ms/step - loss: 0.3895 - accuracy: 0.8089 - val_loss: 0.5670 - val_accuracy: 0.7534\n",
            "Epoch 29/40\n",
            "10/10 [==============================] - 3s 148ms/step - loss: 0.3872 - accuracy: 0.8191 - val_loss: 0.5591 - val_accuracy: 0.7397\n",
            "Epoch 30/40\n",
            "10/10 [==============================] - 4s 143ms/step - loss: 0.3793 - accuracy: 0.8259 - val_loss: 0.5688 - val_accuracy: 0.7534\n",
            "Epoch 31/40\n",
            "10/10 [==============================] - 3s 141ms/step - loss: 0.3776 - accuracy: 0.8328 - val_loss: 0.5606 - val_accuracy: 0.7534\n",
            "Epoch 32/40\n",
            "10/10 [==============================] - 3s 136ms/step - loss: 0.3781 - accuracy: 0.8362 - val_loss: 0.5617 - val_accuracy: 0.7534\n",
            "Epoch 33/40\n",
            "10/10 [==============================] - 4s 144ms/step - loss: 0.3669 - accuracy: 0.8259 - val_loss: 0.5671 - val_accuracy: 0.7534\n",
            "Epoch 34/40\n",
            "10/10 [==============================] - 4s 142ms/step - loss: 0.3628 - accuracy: 0.8157 - val_loss: 0.5702 - val_accuracy: 0.7534\n",
            "Epoch 35/40\n",
            "10/10 [==============================] - 3s 142ms/step - loss: 0.3653 - accuracy: 0.8532 - val_loss: 0.5611 - val_accuracy: 0.7534\n",
            "Epoch 36/40\n",
            "10/10 [==============================] - 3s 144ms/step - loss: 0.3658 - accuracy: 0.8362 - val_loss: 0.5623 - val_accuracy: 0.7534\n",
            "Epoch 37/40\n",
            "10/10 [==============================] - 4s 147ms/step - loss: 0.3638 - accuracy: 0.8635 - val_loss: 0.5633 - val_accuracy: 0.7534\n",
            "Epoch 38/40\n",
            "10/10 [==============================] - 3s 138ms/step - loss: 0.3651 - accuracy: 0.8157 - val_loss: 0.5827 - val_accuracy: 0.7534\n",
            "Epoch 39/40\n",
            "10/10 [==============================] - 3s 139ms/step - loss: 0.3646 - accuracy: 0.8430 - val_loss: 0.5622 - val_accuracy: 0.7671\n",
            "Epoch 40/40\n",
            "10/10 [==============================] - 4s 144ms/step - loss: 0.3662 - accuracy: 0.8532 - val_loss: 0.5750 - val_accuracy: 0.7534\n"
          ]
        }
      ]
    },
    {
      "cell_type": "code",
      "source": [
        "import matplotlib.pyplot as plt\n",
        "\n",
        "def plot_loss_curves(history):\n",
        "  \"\"\"\n",
        "  Returns separate loss curves for training and validation metrics.\n",
        "  Args:\n",
        "    history: TensorFlow History object.\n",
        "\n",
        "    Returns:\n",
        "    Plots of training/validation loss and accuracy metrics.\n",
        "  \"\"\"\n",
        "  loss = history.history['loss']\n",
        "  val_loss = history.history['val_loss']\n",
        "\n",
        "  accuracy = history.history['accuracy']\n",
        "  val_accuracy = history.history['val_accuracy']\n",
        "\n",
        "  epochs = range(len(history.history['loss']))\n",
        "\n",
        "  #Plot loss\n",
        "\n",
        "  plt.plot(epochs, loss, label='training_loss')\n",
        "  plt.plot(epochs, val_loss, label='val_loss')\n",
        "  plt.title('Loss')\n",
        "  plt.xlabel('Epochs')\n",
        "  plt.legend()\n",
        "\n",
        "  #Plot accuracy\n",
        "  plt.figure()\n",
        "  plt.plot(epochs, accuracy, label='training_accuracy')\n",
        "  plt.plot(epochs, val_accuracy, label='val_accuracy')\n",
        "  plt.title('Accuracy')\n",
        "  plt.xlabel('Epochs')\n",
        "  plt.legend();\n",
        "\n",
        "plot_loss_curves(history_0)"
      ],
      "metadata": {
        "colab": {
          "base_uri": "https://localhost:8080/",
          "height": 927
        },
        "id": "wN1dWgZyfcgq",
        "outputId": "18048a24-e6bf-4603-e4b2-66d78a6eb173"
      },
      "execution_count": 9,
      "outputs": [
        {
          "output_type": "display_data",
          "data": {
            "text/plain": [
              "<Figure size 640x480 with 1 Axes>"
            ],
            "image/png": "[encoded data removed]"
          },
          "metadata": {}
        },
        {
          "output_type": "display_data",
          "data": {
            "text/plain": [
              "<Figure size 640x480 with 1 Axes>"
            ],
            "image/png": "[encoded data removed]"
          },
          "metadata": {}
        }
      ]
    },
    {
      "cell_type": "code",
      "source": [
        "results_feature_extraction = model_0.evaluate(test_data)\n",
        "results_feature_extraction"
      ],
      "metadata": {
        "colab": {
          "base_uri": "https://localhost:8080/"
        },
        "id": "pEZ1XDVOffJ8",
        "outputId": "ec333748-f019-4946-c9bf-78e279401335"
      },
      "execution_count": 10,
      "outputs": [
        {
          "output_type": "stream",
          "name": "stdout",
          "text": [
            "3/3 [==============================] - 1s 43ms/step - loss: 0.5750 - accuracy: 0.7534\n"
          ]
        },
        {
          "output_type": "execute_result",
          "data": {
            "text/plain": [
              "[0.5750243067741394, 0.7534246444702148]"
            ]
          },
          "metadata": {},
          "execution_count": 10
        }
      ]
    },
    {
      "cell_type": "code",
      "source": [
        "\n",
        "# Get the predicted probabilities for the test set\n",
        "y_pred_probs = model_0.predict(test_data)\n",
        "\n",
        "# Convert probabilities to binary predictions (0 or 1)\n",
        "y_pred = (y_pred_probs > 0.5).astype(int)\n",
        "\n",
        "# Get the true labels for the test set\n",
        "y_true = np.concatenate([y for x, y in test_data], axis=0)\n",
        "\n",
        "# Calculate precision\n",
        "from sklearn.metrics import precision_score\n",
        "precision = precision_score(y_true, y_pred)\n",
        "print(\"Precision:\", precision)\n"
      ],
      "metadata": {
        "colab": {
          "base_uri": "https://localhost:8080/"
        },
        "id": "gJJ9TMWhfhIu",
        "outputId": "d267fb9d-5cfa-444b-97dd-70d21998e52c"
      },
      "execution_count": 11,
      "outputs": [
        {
          "output_type": "stream",
          "name": "stdout",
          "text": [
            "3/3 [==============================] - 2s 74ms/step\n",
            "Precision: 0.7534246575342466\n"
          ]
        }
      ]
    },
    {
      "cell_type": "code",
      "source": [
        "from sklearn.metrics import recall_score\n",
        "\n",
        "# Calculate recall\n",
        "recall = recall_score(y_true, y_pred)\n",
        "print(\"Recall:\", recall)\n"
      ],
      "metadata": {
        "colab": {
          "base_uri": "https://localhost:8080/"
        },
        "id": "7hAe1bMAfjDn",
        "outputId": "52d92ff0-1ea5-41b5-8b6c-6358cd61d11b"
      },
      "execution_count": 12,
      "outputs": [
        {
          "output_type": "stream",
          "name": "stdout",
          "text": [
            "Recall: 1.0\n"
          ]
        }
      ]
    },
    {
      "cell_type": "code",
      "source": [
        "\n",
        "from sklearn.metrics import f1_score\n",
        "# Calculate F1-score\n",
        "f1 = f1_score(y_true, y_pred)\n",
        "print(\"F1-score:\", f1)\n"
      ],
      "metadata": {
        "colab": {
          "base_uri": "https://localhost:8080/"
        },
        "id": "uFvAER5Kfktv",
        "outputId": "0203b9e4-7492-43fc-e10a-9dcbba71faa1"
      },
      "execution_count": 13,
      "outputs": [
        {
          "output_type": "stream",
          "name": "stdout",
          "text": [
            "F1-score: 0.8593750000000001\n"
          ]
        }
      ]
    },
    {
      "cell_type": "code",
      "source": [
        "\n",
        "# Eğitim doğruluğunu elde etmek için history_0 nesnesini kullanın\n",
        "train_accuracy = history_0.history['accuracy']\n",
        "\n",
        "# Son epoch'un eğitim doğruluğunu yazdırın\n",
        "print(\"Eğitim doğruluğu:\", train_accuracy[-1])"
      ],
      "metadata": {
        "colab": {
          "base_uri": "https://localhost:8080/"
        },
        "id": "5Bz5SwYNfmjj",
        "outputId": "1ca0e6ed-ed11-44b1-a4de-6bcdfe5a47db"
      },
      "execution_count": 14,
      "outputs": [
        {
          "output_type": "stream",
          "name": "stdout",
          "text": [
            "Eğitim doğruluğu: 0.8532423377037048\n"
          ]
        }
      ]
    },
    {
      "cell_type": "code",
      "source": [],
      "metadata": {
        "id": "mGHiGdz3ft9e"
      },
      "execution_count": null,
      "outputs": []
    }
  ]
}