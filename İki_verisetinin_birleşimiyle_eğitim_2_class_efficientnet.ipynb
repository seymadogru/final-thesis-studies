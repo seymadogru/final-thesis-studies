{
  "nbformat": 4,
  "nbformat_minor": 0,
  "metadata": {
    "colab": {
      "provenance": [],
      "machine_shape": "hm",
      "gpuType": "T4"
    },
    "kernelspec": {
      "name": "python3",
      "display_name": "Python 3"
    },
    "language_info": {
      "name": "python"
    },
    "accelerator": "GPU"
  },
  "cells": [
    {
      "cell_type": "code",
      "execution_count": 1,
      "metadata": {
        "id": "Qs2OmG64SRk2",
        "colab": {
          "base_uri": "https://localhost:8080/"
        },
        "outputId": "7e8c4d5c-bb56-4396-fbb3-85924e60cb4d"
      },
      "outputs": [
        {
          "output_type": "stream",
          "name": "stdout",
          "text": [
            "--2024-07-25 19:11:18--  https://raw.githubusercontent.com/mrdbourke/tensorflow-deep-learning/main/extras/helper_functions.py\n",
            "Resolving raw.githubusercontent.com (raw.githubusercontent.com)... 185.199.108.133, 185.199.109.133, 185.199.110.133, ...\n",
            "Connecting to raw.githubusercontent.com (raw.githubusercontent.com)|185.199.108.133|:443... connected.\n",
            "HTTP request sent, awaiting response... 200 OK\n",
            "Length: 10246 (10K) [text/plain]\n",
            "Saving to: ‘helper_functions.py’\n",
            "\n",
            "helper_functions.py 100%[===================>]  10.01K  --.-KB/s    in 0s      \n",
            "\n",
            "2024-07-25 19:11:19 (126 MB/s) - ‘helper_functions.py’ saved [10246/10246]\n",
            "\n"
          ]
        }
      ],
      "source": [
        "!wget https://raw.githubusercontent.com/mrdbourke/tensorflow-deep-learning/main/extras/helper_functions.py"
      ]
    },
    {
      "cell_type": "code",
      "source": [
        "from helper_functions import create_tensorboard_callback, plot_loss_curves, unzip_data, walk_through_dir"
      ],
      "metadata": {
        "id": "fQVctMbsTgiw"
      },
      "execution_count": 2,
      "outputs": []
    },
    {
      "cell_type": "code",
      "source": [
        "import os\n",
        "\n",
        "for dirpath, dirnames, filenames in os.walk(\"/content/drive/MyDrive/Tez Dosyaları/birlesik veriseti 2 classli\"):\n",
        "  print(f\"There are {len(dirnames)} directories and {len(filenames)} images in '{dirpath}'.\")"
      ],
      "metadata": {
        "colab": {
          "base_uri": "https://localhost:8080/"
        },
        "id": "YRmfkAzdUBmz",
        "outputId": "ab943cc2-a449-411b-f5fc-5dce65b812a0"
      },
      "execution_count": 3,
      "outputs": [
        {
          "output_type": "stream",
          "name": "stdout",
          "text": [
            "There are 2 directories and 0 images in '/content/drive/MyDrive/Tez Dosyaları/birlesik veriseti 2 classli'.\n",
            "There are 2 directories and 0 images in '/content/drive/MyDrive/Tez Dosyaları/birlesik veriseti 2 classli/Train'.\n",
            "There are 0 directories and 840 images in '/content/drive/MyDrive/Tez Dosyaları/birlesik veriseti 2 classli/Train/Malignant'.\n",
            "There are 0 directories and 575 images in '/content/drive/MyDrive/Tez Dosyaları/birlesik veriseti 2 classli/Train/Benign'.\n",
            "There are 2 directories and 0 images in '/content/drive/MyDrive/Tez Dosyaları/birlesik veriseti 2 classli/Test'.\n",
            "There are 0 directories and 100 images in '/content/drive/MyDrive/Tez Dosyaları/birlesik veriseti 2 classli/Test/Benign'.\n",
            "There are 0 directories and 100 images in '/content/drive/MyDrive/Tez Dosyaları/birlesik veriseti 2 classli/Test/Malignant'.\n"
          ]
        }
      ]
    },
    {
      "cell_type": "code",
      "source": [
        "train_dir = \"/content/drive/MyDrive/Tez Dosyaları/birlesik veriseti 2 classli/Train\"\n",
        "test_dir = \"/content/drive/MyDrive/Tez Dosyaları/birlesik veriseti 2 classli/Test\""
      ],
      "metadata": {
        "id": "vEtHbifxUQRL"
      },
      "execution_count": 4,
      "outputs": []
    },
    {
      "cell_type": "code",
      "source": [
        "import tensorflow as tf\n",
        "BATCH_SIZE = 32\n",
        "IMG_SIZE = (224, 224)\n",
        "train_data= tf.keras.preprocessing.image_dataset_from_directory(train_dir,\n",
        "                                                          label_mode=\"binary\",\n",
        "                                                          batch_size=BATCH_SIZE,\n",
        "                                                          image_size=IMG_SIZE)\n",
        "\n",
        "test_data = tf.keras.preprocessing.image_dataset_from_directory(test_dir,\n",
        "                                                          label_mode=\"binary\",\n",
        "                                                          batch_size=BATCH_SIZE,\n",
        "                                                          image_size=IMG_SIZE)"
      ],
      "metadata": {
        "colab": {
          "base_uri": "https://localhost:8080/"
        },
        "id": "0yk3vHXOUd5Y",
        "outputId": "8a13c073-fd5c-4f92-83db-073c8b95e817"
      },
      "execution_count": 5,
      "outputs": [
        {
          "output_type": "stream",
          "name": "stdout",
          "text": [
            "Found 1415 files belonging to 2 classes.\n",
            "Found 200 files belonging to 2 classes.\n"
          ]
        }
      ]
    },
    {
      "cell_type": "code",
      "source": [
        "train_data.class_names"
      ],
      "metadata": {
        "colab": {
          "base_uri": "https://localhost:8080/"
        },
        "id": "u5mhg7yqUj70",
        "outputId": "9cd59eaf-1554-47fd-ecd0-8f239061cafb"
      },
      "execution_count": 6,
      "outputs": [
        {
          "output_type": "execute_result",
          "data": {
            "text/plain": [
              "['Benign', 'Malignant']"
            ]
          },
          "metadata": {},
          "execution_count": 6
        }
      ]
    },
    {
      "cell_type": "code",
      "source": [
        "from tensorflow.keras.preprocessing.image import ImageDataGenerator\n",
        "from tensorflow.keras.preprocessing.image import img_to_array\n",
        "from tensorflow.keras.preprocessing.image import load_img\n",
        "import numpy as np\n",
        "import random\n",
        "import math\n",
        "import csv\n",
        "import cv2\n",
        "import os"
      ],
      "metadata": {
        "id": "pchuVhrrUp9V"
      },
      "execution_count": 7,
      "outputs": []
    },
    {
      "cell_type": "code",
      "source": [
        "# 1.  create base model with tf.keras.applications\n",
        "base_model = tf.keras.applications.EfficientNetB0(include_top=False)\n",
        "\n",
        "# 2. Freeze the base model\n",
        "base_model.trainable = False\n",
        "\n",
        "# 3. create inputs into our model\n",
        "inputs = tf.keras.layers.Input(shape=(224, 224, 3), name=\"input_layer\")\n",
        "\n",
        "# 4. if using ResNet50V2 you will need to normalize inputs\n",
        "# x = tf.keras.layers.experimental.preprocessing.Rescaling(1./255)(inputs)\n",
        "\n",
        "# 5. pass the inputs to the base_model\n",
        "x = base_model(inputs)\n",
        "print(f\"Shape after passing inputs through base model: {x.shape}\")\n",
        "\n",
        "# 6. average pool the outputs of the base model (aggregate all the most important information, reduce number of computations)\n",
        "x = tf.keras.layers.GlobalAveragePooling2D(name=\"global_average_pooling_layer\")(x)\n",
        "print(f\"Shape after GlobalAveragePooling2D: {x.shape}\")\n",
        "\n",
        "# 7. create the output activation layer\n",
        "outputs = tf.keras.layers.Dense(1, activation=\"sigmoid\", name=\"output_layer\")(x)\n",
        "model_0 = tf.keras.Model(inputs, outputs)\n",
        "\n",
        "# 8. compile the model\n",
        "model_0.compile(loss=\"binary_crossentropy\",\n",
        "                optimizer=tf.keras.optimizers.Adam(),\n",
        "                metrics=[\"accuracy\"])\n",
        "\n",
        "# 9. fit the model\n",
        "history_0 = model_0.fit(train_data,\n",
        "                        epochs=40,\n",
        "                        steps_per_epoch=len(train_data),\n",
        "                        validation_data=test_data,\n",
        "                        validation_steps=int(len(test_data)),\n",
        "                        callbacks=[create_tensorboard_callback(dir_name=\"transfer_learning\",\n",
        "                                                              experiment_name=\"10_percent_feature_extraction\")])\n"
      ],
      "metadata": {
        "colab": {
          "base_uri": "https://localhost:8080/"
        },
        "id": "I3i718QZUsV_",
        "outputId": "d48824de-7ca5-4b60-d4f7-3df53a21ff1f"
      },
      "execution_count": 8,
      "outputs": [
        {
          "output_type": "stream",
          "name": "stdout",
          "text": [
            "Downloading data from https://storage.googleapis.com/keras-applications/efficientnetb0_notop.h5\n",
            "16705208/16705208 [==============================] - 2s 0us/step\n",
            "Shape after passing inputs through base model: (None, 7, 7, 1280)\n",
            "Shape after GlobalAveragePooling2D: (None, 1280)\n",
            "Saving TensorBoard log files to: transfer_learning/10_percent_feature_extraction/20240725-191646\n",
            "Epoch 1/40\n",
            "45/45 [==============================] - 215s 4s/step - loss: 0.6791 - accuracy: 0.5830 - val_loss: 0.6420 - val_accuracy: 0.6050\n",
            "Epoch 2/40\n",
            "45/45 [==============================] - 9s 179ms/step - loss: 0.6325 - accuracy: 0.6481 - val_loss: 0.6159 - val_accuracy: 0.6500\n",
            "Epoch 3/40\n",
            "45/45 [==============================] - 9s 178ms/step - loss: 0.6105 - accuracy: 0.6806 - val_loss: 0.6239 - val_accuracy: 0.6200\n",
            "Epoch 4/40\n",
            "45/45 [==============================] - 10s 179ms/step - loss: 0.5966 - accuracy: 0.6855 - val_loss: 0.6148 - val_accuracy: 0.6300\n",
            "Epoch 5/40\n",
            "45/45 [==============================] - 9s 182ms/step - loss: 0.5869 - accuracy: 0.6919 - val_loss: 0.6042 - val_accuracy: 0.6750\n",
            "Epoch 6/40\n",
            "45/45 [==============================] - 9s 175ms/step - loss: 0.5724 - accuracy: 0.7095 - val_loss: 0.6082 - val_accuracy: 0.6400\n",
            "Epoch 7/40\n",
            "45/45 [==============================] - 9s 178ms/step - loss: 0.5682 - accuracy: 0.7159 - val_loss: 0.6164 - val_accuracy: 0.6300\n",
            "Epoch 8/40\n",
            "45/45 [==============================] - 9s 179ms/step - loss: 0.5670 - accuracy: 0.7095 - val_loss: 0.5942 - val_accuracy: 0.7100\n",
            "Epoch 9/40\n",
            "45/45 [==============================] - 9s 181ms/step - loss: 0.5553 - accuracy: 0.7329 - val_loss: 0.5985 - val_accuracy: 0.6750\n",
            "Epoch 10/40\n",
            "45/45 [==============================] - 9s 179ms/step - loss: 0.5511 - accuracy: 0.7223 - val_loss: 0.6035 - val_accuracy: 0.6500\n",
            "Epoch 11/40\n",
            "45/45 [==============================] - 9s 179ms/step - loss: 0.5425 - accuracy: 0.7343 - val_loss: 0.6223 - val_accuracy: 0.6050\n",
            "Epoch 12/40\n",
            "45/45 [==============================] - 9s 180ms/step - loss: 0.5357 - accuracy: 0.7357 - val_loss: 0.5964 - val_accuracy: 0.6850\n",
            "Epoch 13/40\n",
            "45/45 [==============================] - 9s 180ms/step - loss: 0.5299 - accuracy: 0.7322 - val_loss: 0.5895 - val_accuracy: 0.7100\n",
            "Epoch 14/40\n",
            "45/45 [==============================] - 9s 175ms/step - loss: 0.5343 - accuracy: 0.7371 - val_loss: 0.5929 - val_accuracy: 0.6950\n",
            "Epoch 15/40\n",
            "45/45 [==============================] - 9s 173ms/step - loss: 0.5276 - accuracy: 0.7300 - val_loss: 0.5952 - val_accuracy: 0.6850\n",
            "Epoch 16/40\n",
            "45/45 [==============================] - 10s 189ms/step - loss: 0.5230 - accuracy: 0.7413 - val_loss: 0.5947 - val_accuracy: 0.6950\n",
            "Epoch 17/40\n",
            "45/45 [==============================] - 9s 180ms/step - loss: 0.5160 - accuracy: 0.7569 - val_loss: 0.5826 - val_accuracy: 0.7300\n",
            "Epoch 18/40\n",
            "45/45 [==============================] - 9s 175ms/step - loss: 0.5141 - accuracy: 0.7442 - val_loss: 0.5834 - val_accuracy: 0.7100\n",
            "Epoch 19/40\n",
            "45/45 [==============================] - 9s 179ms/step - loss: 0.5120 - accuracy: 0.7562 - val_loss: 0.5885 - val_accuracy: 0.7000\n",
            "Epoch 20/40\n",
            "45/45 [==============================] - 10s 181ms/step - loss: 0.5044 - accuracy: 0.7583 - val_loss: 0.5846 - val_accuracy: 0.7000\n",
            "Epoch 21/40\n",
            "45/45 [==============================] - 9s 180ms/step - loss: 0.5049 - accuracy: 0.7640 - val_loss: 0.5963 - val_accuracy: 0.7000\n",
            "Epoch 22/40\n",
            "45/45 [==============================] - 9s 174ms/step - loss: 0.5041 - accuracy: 0.7611 - val_loss: 0.6030 - val_accuracy: 0.6700\n",
            "Epoch 23/40\n",
            "45/45 [==============================] - 9s 177ms/step - loss: 0.4996 - accuracy: 0.7682 - val_loss: 0.5897 - val_accuracy: 0.6950\n",
            "Epoch 24/40\n",
            "45/45 [==============================] - 9s 181ms/step - loss: 0.4898 - accuracy: 0.7781 - val_loss: 0.5853 - val_accuracy: 0.7050\n",
            "Epoch 25/40\n",
            "45/45 [==============================] - 9s 178ms/step - loss: 0.4922 - accuracy: 0.7675 - val_loss: 0.5953 - val_accuracy: 0.7150\n",
            "Epoch 26/40\n",
            "45/45 [==============================] - 9s 176ms/step - loss: 0.4900 - accuracy: 0.7654 - val_loss: 0.5924 - val_accuracy: 0.7050\n",
            "Epoch 27/40\n",
            "45/45 [==============================] - 9s 181ms/step - loss: 0.4843 - accuracy: 0.7774 - val_loss: 0.5833 - val_accuracy: 0.7200\n",
            "Epoch 28/40\n",
            "45/45 [==============================] - 9s 179ms/step - loss: 0.4816 - accuracy: 0.7689 - val_loss: 0.5867 - val_accuracy: 0.7050\n",
            "Epoch 29/40\n",
            "45/45 [==============================] - 9s 174ms/step - loss: 0.4872 - accuracy: 0.7647 - val_loss: 0.5970 - val_accuracy: 0.7050\n",
            "Epoch 30/40\n",
            "45/45 [==============================] - 9s 172ms/step - loss: 0.4856 - accuracy: 0.7625 - val_loss: 0.5887 - val_accuracy: 0.7200\n",
            "Epoch 31/40\n",
            "45/45 [==============================] - 9s 182ms/step - loss: 0.4810 - accuracy: 0.7731 - val_loss: 0.5992 - val_accuracy: 0.7250\n",
            "Epoch 32/40\n",
            "45/45 [==============================] - 9s 179ms/step - loss: 0.4724 - accuracy: 0.7753 - val_loss: 0.5969 - val_accuracy: 0.7050\n",
            "Epoch 33/40\n",
            "45/45 [==============================] - 9s 175ms/step - loss: 0.4706 - accuracy: 0.7880 - val_loss: 0.5913 - val_accuracy: 0.7100\n",
            "Epoch 34/40\n",
            "45/45 [==============================] - 9s 178ms/step - loss: 0.4786 - accuracy: 0.7767 - val_loss: 0.5971 - val_accuracy: 0.6900\n",
            "Epoch 35/40\n",
            "45/45 [==============================] - 9s 178ms/step - loss: 0.4744 - accuracy: 0.7830 - val_loss: 0.6020 - val_accuracy: 0.6850\n",
            "Epoch 36/40\n",
            "45/45 [==============================] - 9s 174ms/step - loss: 0.4680 - accuracy: 0.7830 - val_loss: 0.6003 - val_accuracy: 0.6950\n",
            "Epoch 37/40\n",
            "45/45 [==============================] - 9s 179ms/step - loss: 0.4710 - accuracy: 0.7852 - val_loss: 0.5972 - val_accuracy: 0.7200\n",
            "Epoch 38/40\n",
            "45/45 [==============================] - 9s 178ms/step - loss: 0.4689 - accuracy: 0.7894 - val_loss: 0.5986 - val_accuracy: 0.7000\n",
            "Epoch 39/40\n",
            "45/45 [==============================] - 9s 177ms/step - loss: 0.4646 - accuracy: 0.7866 - val_loss: 0.6002 - val_accuracy: 0.7000\n",
            "Epoch 40/40\n",
            "45/45 [==============================] - 9s 179ms/step - loss: 0.4641 - accuracy: 0.7943 - val_loss: 0.6041 - val_accuracy: 0.6800\n"
          ]
        }
      ]
    },
    {
      "cell_type": "code",
      "source": [
        "import matplotlib.pyplot as plt\n",
        "\n",
        "def plot_loss_curves(history):\n",
        "  \"\"\"\n",
        "  Returns separate loss curves for training and validation metrics.\n",
        "  Args:\n",
        "    history: TensorFlow History object.\n",
        "\n",
        "    Returns:\n",
        "    Plots of training/validation loss and accuracy metrics.\n",
        "  \"\"\"\n",
        "  loss = history.history['loss']\n",
        "  val_loss = history.history['val_loss']\n",
        "\n",
        "  accuracy = history.history['accuracy']\n",
        "  val_accuracy = history.history['val_accuracy']\n",
        "\n",
        "  epochs = range(len(history.history['loss']))\n",
        "\n",
        "  #Plot loss\n",
        "\n",
        "  plt.plot(epochs, loss, label='training_loss')\n",
        "  plt.plot(epochs, val_loss, label='val_loss')\n",
        "  plt.title('Loss')\n",
        "  plt.xlabel('Epochs')\n",
        "  plt.legend()\n",
        "\n",
        "  #Plot accuracy\n",
        "  plt.figure()\n",
        "  plt.plot(epochs, accuracy, label='training_accuracy')\n",
        "  plt.plot(epochs, val_accuracy, label='val_accuracy')\n",
        "  plt.title('Accuracy')\n",
        "  plt.xlabel('Epochs')\n",
        "  plt.legend();\n",
        "\n",
        "plot_loss_curves(history_0)"
      ],
      "metadata": {
        "colab": {
          "base_uri": "https://localhost:8080/",
          "height": 927
        },
        "id": "bZwCrUWUUvW-",
        "outputId": "4665e159-2c51-4dc9-be4a-d2384ec9387e"
      },
      "execution_count": 9,
      "outputs": [
        {
          "output_type": "display_data",
          "data": {
            "text/plain": [
              "<Figure size 640x480 with 1 Axes>"
            ],
            "image/png": "[encoded data removed]"
          },
          "metadata": {}
        },
        {
          "output_type": "display_data",
          "data": {
            "text/plain": [
              "<Figure size 640x480 with 1 Axes>"
            ],
            "image/png": "[encoded data removed]"
          },
          "metadata": {}
        }
      ]
    },
    {
      "cell_type": "code",
      "source": [
        "\n",
        "results_feature_extraction = model_0.evaluate(test_data)\n",
        "results_feature_extraction"
      ],
      "metadata": {
        "colab": {
          "base_uri": "https://localhost:8080/"
        },
        "id": "_rruvTnTU3v2",
        "outputId": "84ba4c87-3577-4d46-83a3-0a1863a3879c"
      },
      "execution_count": 10,
      "outputs": [
        {
          "output_type": "stream",
          "name": "stdout",
          "text": [
            "7/7 [==============================] - 2s 58ms/step - loss: 0.6041 - accuracy: 0.6800\n"
          ]
        },
        {
          "output_type": "execute_result",
          "data": {
            "text/plain": [
              "[0.6041311621665955, 0.6800000071525574]"
            ]
          },
          "metadata": {},
          "execution_count": 10
        }
      ]
    },
    {
      "cell_type": "code",
      "source": [
        "# Get the predicted probabilities for the test set\n",
        "y_pred_probs = model_0.predict(test_data)\n",
        "\n",
        "# Convert probabilities to binary predictions (0 or 1)\n",
        "y_pred = (y_pred_probs > 0.5).astype(int)\n",
        "\n",
        "# Get the true labels for the test set\n",
        "y_true = np.concatenate([y for x, y in test_data], axis=0)\n",
        "\n",
        "# Calculate precision\n",
        "from sklearn.metrics import precision_score\n",
        "precision = precision_score(y_true, y_pred)\n",
        "print(\"Precision:\", precision)"
      ],
      "metadata": {
        "colab": {
          "base_uri": "https://localhost:8080/"
        },
        "id": "EfoOV83nU5wm",
        "outputId": "131d916b-1ffd-445e-f1fd-3595f4623336"
      },
      "execution_count": 11,
      "outputs": [
        {
          "output_type": "stream",
          "name": "stdout",
          "text": [
            "7/7 [==============================] - 3s 63ms/step\n",
            "Precision: 0.4909090909090909\n"
          ]
        }
      ]
    },
    {
      "cell_type": "code",
      "source": [
        "\n",
        "from sklearn.metrics import recall_score\n",
        "\n",
        "# Calculate recall\n",
        "recall = recall_score(y_true, y_pred)\n",
        "print(\"Recall:\", recall)\n"
      ],
      "metadata": {
        "colab": {
          "base_uri": "https://localhost:8080/"
        },
        "id": "IV-Ia-8YU7Kb",
        "outputId": "a0a703d1-cee0-4257-addb-b9cac6858500"
      },
      "execution_count": 12,
      "outputs": [
        {
          "output_type": "stream",
          "name": "stdout",
          "text": [
            "Recall: 0.54\n"
          ]
        }
      ]
    },
    {
      "cell_type": "code",
      "source": [
        "from sklearn.metrics import f1_score\n",
        "# Calculate F1-score\n",
        "f1 = f1_score(y_true, y_pred)\n",
        "print(\"F1-score:\", f1)\n"
      ],
      "metadata": {
        "colab": {
          "base_uri": "https://localhost:8080/"
        },
        "id": "rB2akunGU8oO",
        "outputId": "1ec7094b-e2b0-46bb-d17e-10d7b53bfa94"
      },
      "execution_count": 13,
      "outputs": [
        {
          "output_type": "stream",
          "name": "stdout",
          "text": [
            "F1-score: 0.5142857142857142\n"
          ]
        }
      ]
    },
    {
      "cell_type": "code",
      "source": [
        "# Eğitim doğruluğunu elde etmek için history_0 nesnesini kullanın\n",
        "train_accuracy = history_0.history['accuracy']\n",
        "\n",
        "# Son epoch'un eğitim doğruluğunu yazdırın\n",
        "print(\"Eğitim doğruluğu:\", train_accuracy[-1])"
      ],
      "metadata": {
        "colab": {
          "base_uri": "https://localhost:8080/"
        },
        "id": "6-63WHCpU-Po",
        "outputId": "0460b3b3-ce95-49e9-fdf5-f0c60ca4cdfe"
      },
      "execution_count": 14,
      "outputs": [
        {
          "output_type": "stream",
          "name": "stdout",
          "text": [
            "Eğitim doğruluğu: 0.794346272945404\n"
          ]
        }
      ]
    },
    {
      "cell_type": "code",
      "source": [],
      "metadata": {
        "id": "BsfWb3mwU_h7"
      },
      "execution_count": null,
      "outputs": []
    }
  ]
}