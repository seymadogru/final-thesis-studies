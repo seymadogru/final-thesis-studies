{
  "nbformat": 4,
  "nbformat_minor": 0,
  "metadata": {
    "colab": {
      "provenance": [],
      "machine_shape": "hm",
      "gpuType": "T4"
    },
    "kernelspec": {
      "name": "python3",
      "display_name": "Python 3"
    },
    "language_info": {
      "name": "python"
    },
    "accelerator": "GPU"
  },
  "cells": [
    {
      "cell_type": "code",
      "execution_count": null,
      "metadata": {
        "id": "7Bjm5vYAQMB0"
      },
      "outputs": [],
      "source": []
    },
    {
      "cell_type": "code",
      "source": [
        "from google.colab import drive\n",
        "drive.mount('/content/drive')"
      ],
      "metadata": {
        "colab": {
          "base_uri": "https://localhost:8080/"
        },
        "id": "fepPGVJMQXza",
        "outputId": "ce8f0269-7ef9-4bf6-b85a-6804d30bbb40"
      },
      "execution_count": 1,
      "outputs": [
        {
          "output_type": "stream",
          "name": "stdout",
          "text": [
            "Mounted at /content/drive\n"
          ]
        }
      ]
    },
    {
      "cell_type": "code",
      "source": [
        "from keras.preprocessing.image import ImageDataGenerator, array_to_img, img_to_array, load_img\n",
        "from keras.models import Sequential\n",
        "from keras.layers import Conv2D, MaxPooling2D, Dense\n",
        "from keras.applications.vgg16 import VGG16\n",
        "import numpy as np\n",
        "import os\n",
        "import matplotlib.pyplot as plt\n",
        "from glob import glob\n",
        "import cv2"
      ],
      "metadata": {
        "id": "UiZJW3pqQYXp"
      },
      "execution_count": 2,
      "outputs": []
    },
    {
      "cell_type": "code",
      "source": [
        "train_dir = \"/content/drive/MyDrive/Tez Dosyaları/ikinci veriseti 3 class/Train\"\n",
        "test_dir = \"/content/drive/MyDrive/Tez Dosyaları/ikinci veriseti 3 class/Test\""
      ],
      "metadata": {
        "id": "4p2GPIAJQo21"
      },
      "execution_count": 3,
      "outputs": []
    },
    {
      "cell_type": "code",
      "source": [
        "numberOfClass = len(glob(train_dir + \"/*\"))"
      ],
      "metadata": {
        "id": "pe4qjCjgQxpy"
      },
      "execution_count": 4,
      "outputs": []
    },
    {
      "cell_type": "code",
      "source": [
        "\n",
        "import tensorflow as tf\n",
        "from tensorflow.keras.applications import DenseNet121"
      ],
      "metadata": {
        "id": "n615JTQmQzAc"
      },
      "execution_count": 5,
      "outputs": []
    },
    {
      "cell_type": "code",
      "source": [
        "!wget https://raw.githubusercontent.com/mrdbourke/tensorflow-deep-learning/main/extras/helper_functions.py"
      ],
      "metadata": {
        "colab": {
          "base_uri": "https://localhost:8080/"
        },
        "id": "2djoSTaeQ2Cp",
        "outputId": "02a48b31-ebbd-47d2-9e85-40c30b92a7fe"
      },
      "execution_count": 6,
      "outputs": [
        {
          "output_type": "stream",
          "name": "stdout",
          "text": [
            "--2024-07-24 10:22:28--  https://raw.githubusercontent.com/mrdbourke/tensorflow-deep-learning/main/extras/helper_functions.py\n",
            "Resolving raw.githubusercontent.com (raw.githubusercontent.com)... 185.199.108.133, 185.199.111.133, 185.199.110.133, ...\n",
            "Connecting to raw.githubusercontent.com (raw.githubusercontent.com)|185.199.108.133|:443... connected.\n",
            "HTTP request sent, awaiting response... 200 OK\n",
            "Length: 10246 (10K) [text/plain]\n",
            "Saving to: ‘helper_functions.py’\n",
            "\n",
            "helper_functions.py 100%[===================>]  10.01K  --.-KB/s    in 0.001s  \n",
            "\n",
            "2024-07-24 10:22:28 (10.8 MB/s) - ‘helper_functions.py’ saved [10246/10246]\n",
            "\n"
          ]
        }
      ]
    },
    {
      "cell_type": "code",
      "source": [
        "from helper_functions import create_tensorboard_callback, plot_loss_curves, unzip_data, walk_through_dir"
      ],
      "metadata": {
        "id": "gOycu7iAQ3rm"
      },
      "execution_count": 7,
      "outputs": []
    },
    {
      "cell_type": "code",
      "source": [
        "import os\n",
        "\n",
        "for dirpath, dirnames, filenames in os.walk(\"/content/drive/MyDrive/Tez Dosyaları/ikinci veriseti 3 class\"):\n",
        "  print(f\"There are {len(dirnames)} directories and {len(filenames)} images in '{dirpath}'.\")\n"
      ],
      "metadata": {
        "colab": {
          "base_uri": "https://localhost:8080/"
        },
        "id": "dQAfYjAkQ5i-",
        "outputId": "94a460af-fdb1-4764-dcb7-efd0591b2e8f"
      },
      "execution_count": 8,
      "outputs": [
        {
          "output_type": "stream",
          "name": "stdout",
          "text": [
            "There are 2 directories and 0 images in '/content/drive/MyDrive/Tez Dosyaları/ikinci veriseti 3 class'.\n",
            "There are 3 directories and 0 images in '/content/drive/MyDrive/Tez Dosyaları/ikinci veriseti 3 class/Train'.\n",
            "There are 0 directories and 70 images in '/content/drive/MyDrive/Tez Dosyaları/ikinci veriseti 3 class/Train/Benign'.\n",
            "There are 0 directories and 617 images in '/content/drive/MyDrive/Tez Dosyaları/ikinci veriseti 3 class/Train/Normal'.\n",
            "There are 0 directories and 223 images in '/content/drive/MyDrive/Tez Dosyaları/ikinci veriseti 3 class/Train/Malignant'.\n",
            "There are 3 directories and 0 images in '/content/drive/MyDrive/Tez Dosyaları/ikinci veriseti 3 class/Test'.\n",
            "There are 0 directories and 155 images in '/content/drive/MyDrive/Tez Dosyaları/ikinci veriseti 3 class/Test/Normal'.\n",
            "There are 0 directories and 18 images in '/content/drive/MyDrive/Tez Dosyaları/ikinci veriseti 3 class/Test/Benign'.\n",
            "There are 0 directories and 55 images in '/content/drive/MyDrive/Tez Dosyaları/ikinci veriseti 3 class/Test/Malignant'.\n"
          ]
        }
      ]
    },
    {
      "cell_type": "code",
      "source": [
        "import tensorflow as tf\n",
        "BATCH_SIZE = 32\n",
        "IMG_SIZE = (224, 224)\n",
        "train_data= tf.keras.preprocessing.image_dataset_from_directory(train_dir,\n",
        "                                                          label_mode= \"categorical\",\n",
        "                                                          batch_size=BATCH_SIZE,\n",
        "                                                          image_size=IMG_SIZE)\n",
        "\n",
        "test_data = tf.keras.preprocessing.image_dataset_from_directory(test_dir,\n",
        "                                                          label_mode=\"categorical\",\n",
        "                                                          batch_size=BATCH_SIZE,\n",
        "                                                          image_size=IMG_SIZE)"
      ],
      "metadata": {
        "colab": {
          "base_uri": "https://localhost:8080/"
        },
        "id": "Ksd32SKqQ9uj",
        "outputId": "21b150b3-1bc7-4229-da49-15a05273d1d0"
      },
      "execution_count": 9,
      "outputs": [
        {
          "output_type": "stream",
          "name": "stdout",
          "text": [
            "Found 910 files belonging to 3 classes.\n",
            "Found 228 files belonging to 3 classes.\n"
          ]
        }
      ]
    },
    {
      "cell_type": "code",
      "source": [
        "\n",
        "train_data.class_names"
      ],
      "metadata": {
        "colab": {
          "base_uri": "https://localhost:8080/"
        },
        "id": "cMdmKSjyRARc",
        "outputId": "4e883c6c-cf09-4086-f95e-68308e323c03"
      },
      "execution_count": 10,
      "outputs": [
        {
          "output_type": "execute_result",
          "data": {
            "text/plain": [
              "['Benign', 'Malignant', 'Normal']"
            ]
          },
          "metadata": {},
          "execution_count": 10
        }
      ]
    },
    {
      "cell_type": "code",
      "source": [
        "from tensorflow.keras.preprocessing.image import ImageDataGenerator\n",
        "from tensorflow.keras.preprocessing.image import img_to_array\n",
        "from tensorflow.keras.preprocessing.image import load_img\n",
        "import numpy as np\n",
        "import random\n",
        "import math\n",
        "import csv\n",
        "import cv2\n",
        "import os"
      ],
      "metadata": {
        "id": "977gm0OCRCQE"
      },
      "execution_count": 11,
      "outputs": []
    },
    {
      "cell_type": "code",
      "source": [
        "# 1. create base model with tf.keras.applications\n",
        "base_model = tf.keras.applications.VGG19(include_top=False)\n",
        "\n",
        "# 2. Freeze the base model\n",
        "base_model.trainable = False\n",
        "\n",
        "# 3. create inputs into our model\n",
        "inputs = tf.keras.layers.Input(shape=(224, 224, 3), name=\"input_layer\")\n",
        "\n",
        "# 4. if using ResNet50V2 you will need to normalize inputs\n",
        "# x = tf.keras.layers.experimental.preprocessing.Rescaling(1./255)(inputs)\n",
        "\n",
        "# 5. pass the inputs to the base_model\n",
        "x = base_model(inputs)\n",
        "print(f\"Shape after passing inputs through base model: {x.shape}\")\n",
        "\n",
        "# 6. average pool the outputs of the base model (aggregate all the most important information, reduce number of computations)\n",
        "x = tf.keras.layers.GlobalAveragePooling2D(name=\"global_average_pooling_layer\")(x)\n",
        "print(f\"Shape after GlobalAveragePooling2D: {x.shape}\")\n",
        "\n",
        "# 7. create the output activation layer for 3 classes\n",
        "outputs = tf.keras.layers.Dense(3, activation=\"softmax\", name=\"output_layer\")(x)\n",
        "model_0 = tf.keras.Model(inputs, outputs)\n",
        "\n",
        "# 8. compile the model for 3 classes\n",
        "model_0.compile(loss=\"categorical_crossentropy\",\n",
        "                optimizer=tf.keras.optimizers.Adam(),\n",
        "                metrics=[\"accuracy\"])\n",
        "\n",
        "# Assuming you have already prepared your train_data and test_data\n",
        "# Make sure that train_data and test_data are prepared with class_mode='categorical'\n",
        "\n",
        "# 9. fit the model\n",
        "history_0 = model_0.fit(train_data,\n",
        "                        epochs=40,\n",
        "                        steps_per_epoch=len(train_data),\n",
        "                        validation_data=test_data,\n",
        "                        validation_steps=int(len(test_data)),\n",
        "                        callbacks=[create_tensorboard_callback(dir_name=\"transfer_learning\",\n",
        "                                                               experiment_name=\"3_class_feature_extraction\")])\n",
        "\n"
      ],
      "metadata": {
        "colab": {
          "base_uri": "https://localhost:8080/"
        },
        "id": "XvIaUC9bREa6",
        "outputId": "7ecdcf49-e54c-43be-ae8c-211cceb6df8d"
      },
      "execution_count": 33,
      "outputs": [
        {
          "output_type": "stream",
          "name": "stdout",
          "text": [
            "Downloading data from https://storage.googleapis.com/tensorflow/keras-applications/vgg19/vgg19_weights_tf_dim_ordering_tf_kernels_notop.h5\n",
            "80134624/80134624 [==============================] - 3s 0us/step\n",
            "Shape after passing inputs through base model: (None, 7, 7, 512)\n",
            "Shape after GlobalAveragePooling2D: (None, 512)\n",
            "Saving TensorBoard log files to: transfer_learning/3_class_feature_extraction/20240724-111125\n",
            "Epoch 1/40\n",
            "29/29 [==============================] - 11s 283ms/step - loss: 1.9425 - accuracy: 0.5330 - val_loss: 1.1950 - val_accuracy: 0.5351\n",
            "Epoch 2/40\n",
            "29/29 [==============================] - 9s 272ms/step - loss: 1.1491 - accuracy: 0.5681 - val_loss: 1.1418 - val_accuracy: 0.5132\n",
            "Epoch 3/40\n",
            "29/29 [==============================] - 10s 265ms/step - loss: 1.0069 - accuracy: 0.6044 - val_loss: 1.0522 - val_accuracy: 0.5921\n",
            "Epoch 4/40\n",
            "29/29 [==============================] - 10s 271ms/step - loss: 0.9303 - accuracy: 0.6363 - val_loss: 1.0209 - val_accuracy: 0.5877\n",
            "Epoch 5/40\n",
            "29/29 [==============================] - 10s 275ms/step - loss: 0.8593 - accuracy: 0.6451 - val_loss: 0.9833 - val_accuracy: 0.6447\n",
            "Epoch 6/40\n",
            "29/29 [==============================] - 10s 274ms/step - loss: 0.8174 - accuracy: 0.6560 - val_loss: 0.9375 - val_accuracy: 0.6798\n",
            "Epoch 7/40\n",
            "29/29 [==============================] - 10s 265ms/step - loss: 0.7632 - accuracy: 0.6835 - val_loss: 0.9410 - val_accuracy: 0.6579\n",
            "Epoch 8/40\n",
            "29/29 [==============================] - 10s 280ms/step - loss: 0.7384 - accuracy: 0.6758 - val_loss: 0.9459 - val_accuracy: 0.6184\n",
            "Epoch 9/40\n",
            "29/29 [==============================] - 10s 284ms/step - loss: 0.7112 - accuracy: 0.7011 - val_loss: 0.9066 - val_accuracy: 0.6535\n",
            "Epoch 10/40\n",
            "29/29 [==============================] - 9s 263ms/step - loss: 0.7037 - accuracy: 0.7044 - val_loss: 0.8824 - val_accuracy: 0.6930\n",
            "Epoch 11/40\n",
            "29/29 [==============================] - 10s 272ms/step - loss: 0.6631 - accuracy: 0.7099 - val_loss: 0.9698 - val_accuracy: 0.6053\n",
            "Epoch 12/40\n",
            "29/29 [==============================] - 10s 285ms/step - loss: 0.6788 - accuracy: 0.7132 - val_loss: 0.9913 - val_accuracy: 0.5877\n",
            "Epoch 13/40\n",
            "29/29 [==============================] - 10s 276ms/step - loss: 0.6412 - accuracy: 0.7253 - val_loss: 0.8752 - val_accuracy: 0.6930\n",
            "Epoch 14/40\n",
            "29/29 [==============================] - 10s 280ms/step - loss: 0.6008 - accuracy: 0.7462 - val_loss: 0.8781 - val_accuracy: 0.6754\n",
            "Epoch 15/40\n",
            "29/29 [==============================] - 10s 276ms/step - loss: 0.5903 - accuracy: 0.7549 - val_loss: 0.9823 - val_accuracy: 0.6228\n",
            "Epoch 16/40\n",
            "29/29 [==============================] - 10s 289ms/step - loss: 0.5997 - accuracy: 0.7363 - val_loss: 0.9085 - val_accuracy: 0.6754\n",
            "Epoch 17/40\n",
            "29/29 [==============================] - 10s 288ms/step - loss: 0.5711 - accuracy: 0.7703 - val_loss: 0.8811 - val_accuracy: 0.6711\n",
            "Epoch 18/40\n",
            "29/29 [==============================] - 10s 290ms/step - loss: 0.5549 - accuracy: 0.7780 - val_loss: 0.8690 - val_accuracy: 0.7018\n",
            "Epoch 19/40\n",
            "29/29 [==============================] - 10s 280ms/step - loss: 0.5398 - accuracy: 0.7835 - val_loss: 0.9458 - val_accuracy: 0.6447\n",
            "Epoch 20/40\n",
            "29/29 [==============================] - 10s 286ms/step - loss: 0.5443 - accuracy: 0.7714 - val_loss: 0.8717 - val_accuracy: 0.6974\n",
            "Epoch 21/40\n",
            "29/29 [==============================] - 10s 293ms/step - loss: 0.5450 - accuracy: 0.7648 - val_loss: 0.8745 - val_accuracy: 0.6930\n",
            "Epoch 22/40\n",
            "29/29 [==============================] - 10s 285ms/step - loss: 0.5140 - accuracy: 0.7857 - val_loss: 0.9571 - val_accuracy: 0.6228\n",
            "Epoch 23/40\n",
            "29/29 [==============================] - 10s 286ms/step - loss: 0.5238 - accuracy: 0.7670 - val_loss: 0.9294 - val_accuracy: 0.6491\n",
            "Epoch 24/40\n",
            "29/29 [==============================] - 10s 280ms/step - loss: 0.5059 - accuracy: 0.8022 - val_loss: 0.9023 - val_accuracy: 0.6754\n",
            "Epoch 25/40\n",
            "29/29 [==============================] - 10s 280ms/step - loss: 0.4897 - accuracy: 0.8033 - val_loss: 0.8782 - val_accuracy: 0.6886\n",
            "Epoch 26/40\n",
            "29/29 [==============================] - 10s 282ms/step - loss: 0.4718 - accuracy: 0.8077 - val_loss: 0.9245 - val_accuracy: 0.6667\n",
            "Epoch 27/40\n",
            "29/29 [==============================] - 10s 276ms/step - loss: 0.4749 - accuracy: 0.8176 - val_loss: 0.9331 - val_accuracy: 0.6623\n",
            "Epoch 28/40\n",
            "29/29 [==============================] - 10s 280ms/step - loss: 0.4681 - accuracy: 0.8154 - val_loss: 0.8704 - val_accuracy: 0.7237\n",
            "Epoch 29/40\n",
            "29/29 [==============================] - 10s 285ms/step - loss: 0.4575 - accuracy: 0.8209 - val_loss: 0.8693 - val_accuracy: 0.7193\n",
            "Epoch 30/40\n",
            "29/29 [==============================] - 10s 293ms/step - loss: 0.4463 - accuracy: 0.8198 - val_loss: 0.9080 - val_accuracy: 0.6754\n",
            "Epoch 31/40\n",
            "29/29 [==============================] - 10s 279ms/step - loss: 0.4437 - accuracy: 0.8319 - val_loss: 1.0286 - val_accuracy: 0.6096\n",
            "Epoch 32/40\n",
            "29/29 [==============================] - 10s 276ms/step - loss: 0.4511 - accuracy: 0.8220 - val_loss: 0.8769 - val_accuracy: 0.7061\n",
            "Epoch 33/40\n",
            "29/29 [==============================] - 10s 277ms/step - loss: 0.4335 - accuracy: 0.8297 - val_loss: 0.8775 - val_accuracy: 0.7061\n",
            "Epoch 34/40\n",
            "29/29 [==============================] - 10s 289ms/step - loss: 0.4355 - accuracy: 0.8352 - val_loss: 0.9380 - val_accuracy: 0.6579\n",
            "Epoch 35/40\n",
            "29/29 [==============================] - 10s 285ms/step - loss: 0.4272 - accuracy: 0.8275 - val_loss: 0.9282 - val_accuracy: 0.6623\n",
            "Epoch 36/40\n",
            "29/29 [==============================] - 10s 283ms/step - loss: 0.4222 - accuracy: 0.8429 - val_loss: 0.9313 - val_accuracy: 0.6667\n",
            "Epoch 37/40\n",
            "29/29 [==============================] - 10s 281ms/step - loss: 0.4127 - accuracy: 0.8527 - val_loss: 0.9085 - val_accuracy: 0.6667\n",
            "Epoch 38/40\n",
            "29/29 [==============================] - 10s 281ms/step - loss: 0.4115 - accuracy: 0.8462 - val_loss: 0.9167 - val_accuracy: 0.6886\n",
            "Epoch 39/40\n",
            "29/29 [==============================] - 10s 287ms/step - loss: 0.4046 - accuracy: 0.8429 - val_loss: 0.9343 - val_accuracy: 0.6711\n",
            "Epoch 40/40\n",
            "29/29 [==============================] - 10s 278ms/step - loss: 0.3978 - accuracy: 0.8495 - val_loss: 0.9333 - val_accuracy: 0.6579\n"
          ]
        }
      ]
    },
    {
      "cell_type": "code",
      "source": [
        "\n",
        "plot_loss_curves(history_0)"
      ],
      "metadata": {
        "colab": {
          "base_uri": "https://localhost:8080/",
          "height": 927
        },
        "id": "ptp_UI2sRMS0",
        "outputId": "b8444dfc-bf44-4165-ea89-906187249e87"
      },
      "execution_count": 34,
      "outputs": [
        {
          "output_type": "display_data",
          "data": {
            "text/plain": [
              "<Figure size 640x480 with 1 Axes>"
            ],
            "image/png": "[encoded data removed]"
          },
          "metadata": {}
        },
        {
          "output_type": "display_data",
          "data": {
            "text/plain": [
              "<Figure size 640x480 with 1 Axes>"
            ],
            "image/png": "[encoded data removed]"
          },
          "metadata": {}
        }
      ]
    },
    {
      "cell_type": "code",
      "source": [
        "\n",
        "# Evaluate the model on the test data\n",
        "results_feature_extraction = model_0.evaluate(test_data)\n",
        "results_feature_extraction"
      ],
      "metadata": {
        "colab": {
          "base_uri": "https://localhost:8080/"
        },
        "id": "NuI61Q1jRO7n",
        "outputId": "65dab45b-8c14-4408-dbbf-3271c0dc0181"
      },
      "execution_count": 35,
      "outputs": [
        {
          "output_type": "stream",
          "name": "stdout",
          "text": [
            "8/8 [==============================] - 3s 144ms/step - loss: 0.9333 - accuracy: 0.6579\n"
          ]
        },
        {
          "output_type": "execute_result",
          "data": {
            "text/plain": [
              "[0.9332916736602783, 0.6578947305679321]"
            ]
          },
          "metadata": {},
          "execution_count": 35
        }
      ]
    },
    {
      "cell_type": "code",
      "source": [
        "\n",
        "\n",
        "from sklearn.metrics import classification_report\n",
        "\n",
        "# Assuming you have true labels for your test data stored in y_true\n",
        "# and predictions from your model stored in y_pred\n",
        "\n",
        "# Convert categorical predictions to class labels\n",
        "y_pred_labels = np.argmax(model_0.predict(test_data), axis=1)\n",
        "\n",
        "# Get true labels from the test dataset\n",
        "y_true_labels = np.concatenate([y for x, y in test_data], axis=0)\n",
        "y_true_labels = np.argmax(y_true_labels, axis=1)\n",
        "\n",
        "# Generate classification report\n",
        "report = classification_report(y_true_labels, y_pred_labels)\n",
        "\n",
        "print(report)"
      ],
      "metadata": {
        "colab": {
          "base_uri": "https://localhost:8080/"
        },
        "id": "fX6E_KZgRWfN",
        "outputId": "10458003-7b26-45ac-a4dd-d7838945ef0c"
      },
      "execution_count": 36,
      "outputs": [
        {
          "output_type": "stream",
          "name": "stdout",
          "text": [
            "8/8 [==============================] - 3s 154ms/step\n",
            "              precision    recall  f1-score   support\n",
            "\n",
            "           0       0.06      0.06      0.06        18\n",
            "           1       0.20      0.22      0.21        55\n",
            "           2       0.67      0.66      0.66       155\n",
            "\n",
            "    accuracy                           0.50       228\n",
            "   macro avg       0.31      0.31      0.31       228\n",
            "weighted avg       0.51      0.50      0.51       228\n",
            "\n"
          ]
        }
      ]
    },
    {
      "cell_type": "code",
      "source": [
        "\n",
        "\n",
        "# Eğitim doğruluğunu geçmişten al\n",
        "train_accuracy = history_0.history['accuracy']\n",
        "\n",
        "# Son epoch'un eğitim doğruluğunu yazdır\n",
        "print(\"Eğitim Doğruluğu:\", train_accuracy[-1])\n"
      ],
      "metadata": {
        "colab": {
          "base_uri": "https://localhost:8080/"
        },
        "id": "rQjIXXVJRbUc",
        "outputId": "af9a524f-9034-48e2-d559-8cb288d24786"
      },
      "execution_count": 37,
      "outputs": [
        {
          "output_type": "stream",
          "name": "stdout",
          "text": [
            "Eğitim Doğruluğu: 0.8494505286216736\n"
          ]
        }
      ]
    },
    {
      "cell_type": "code",
      "source": [],
      "metadata": {
        "id": "deWAI6wxVWVo"
      },
      "execution_count": 37,
      "outputs": []
    }
  ]
}