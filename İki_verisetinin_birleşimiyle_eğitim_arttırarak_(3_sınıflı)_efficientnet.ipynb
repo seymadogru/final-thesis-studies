{
  "nbformat": 4,
  "nbformat_minor": 0,
  "metadata": {
    "colab": {
      "provenance": [],
      "machine_shape": "hm",
      "gpuType": "T4"
    },
    "kernelspec": {
      "name": "python3",
      "display_name": "Python 3"
    },
    "language_info": {
      "name": "python"
    },
    "accelerator": "GPU"
  },
  "cells": [
    {
      "cell_type": "code",
      "execution_count": 1,
      "metadata": {
        "id": "KZBRaXuYfqmX",
        "colab": {
          "base_uri": "https://localhost:8080/"
        },
        "outputId": "83a0b989-40de-45a2-d621-8f49ba8546f0"
      },
      "outputs": [
        {
          "output_type": "stream",
          "name": "stdout",
          "text": [
            "--2024-07-25 20:14:29--  https://raw.githubusercontent.com/mrdbourke/tensorflow-deep-learning/main/extras/helper_functions.py\n",
            "Resolving raw.githubusercontent.com (raw.githubusercontent.com)... 185.199.108.133, 185.199.111.133, 185.199.110.133, ...\n",
            "Connecting to raw.githubusercontent.com (raw.githubusercontent.com)|185.199.108.133|:443... connected.\n",
            "HTTP request sent, awaiting response... 200 OK\n",
            "Length: 10246 (10K) [text/plain]\n",
            "Saving to: ‘helper_functions.py’\n",
            "\n",
            "helper_functions.py 100%[===================>]  10.01K  --.-KB/s    in 0.001s  \n",
            "\n",
            "2024-07-25 20:14:29 (9.38 MB/s) - ‘helper_functions.py’ saved [10246/10246]\n",
            "\n"
          ]
        }
      ],
      "source": [
        "!wget https://raw.githubusercontent.com/mrdbourke/tensorflow-deep-learning/main/extras/helper_functions.py"
      ]
    },
    {
      "cell_type": "code",
      "source": [
        "from helper_functions import create_tensorboard_callback, plot_loss_curves, unzip_data, walk_through_dir"
      ],
      "metadata": {
        "id": "qzkRpHu8h97R"
      },
      "execution_count": 2,
      "outputs": []
    },
    {
      "cell_type": "code",
      "source": [
        "import os\n",
        "\n",
        "for dirpath, dirnames, filenames in os.walk(\"/content/drive/MyDrive/Tez Dosyaları/birleşik veriseti 3 classlı\"):\n",
        "  print(f\"There are {len(dirnames)} directories and {len(filenames)} images in '{dirpath}'.\")\n"
      ],
      "metadata": {
        "colab": {
          "base_uri": "https://localhost:8080/"
        },
        "id": "QyOgaUD9iARK",
        "outputId": "0408a564-8fdd-4167-c3ba-66a4ef75fc26"
      },
      "execution_count": 3,
      "outputs": [
        {
          "output_type": "stream",
          "name": "stdout",
          "text": [
            "There are 2 directories and 0 images in '/content/drive/MyDrive/Tez Dosyaları/birleşik veriseti 3 classlı'.\n",
            "There are 3 directories and 0 images in '/content/drive/MyDrive/Tez Dosyaları/birleşik veriseti 3 classlı/Test'.\n",
            "There are 0 directories and 100 images in '/content/drive/MyDrive/Tez Dosyaları/birleşik veriseti 3 classlı/Test/Malignant'.\n",
            "There are 0 directories and 100 images in '/content/drive/MyDrive/Tez Dosyaları/birleşik veriseti 3 classlı/Test/Normal'.\n",
            "There are 0 directories and 100 images in '/content/drive/MyDrive/Tez Dosyaları/birleşik veriseti 3 classlı/Test/Benign'.\n",
            "There are 3 directories and 0 images in '/content/drive/MyDrive/Tez Dosyaları/birleşik veriseti 3 classlı/Train'.\n",
            "There are 0 directories and 575 images in '/content/drive/MyDrive/Tez Dosyaları/birleşik veriseti 3 classlı/Train/Benign'.\n",
            "There are 0 directories and 1429 images in '/content/drive/MyDrive/Tez Dosyaları/birleşik veriseti 3 classlı/Train/Normal'.\n",
            "There are 0 directories and 840 images in '/content/drive/MyDrive/Tez Dosyaları/birleşik veriseti 3 classlı/Train/Malignant'.\n"
          ]
        }
      ]
    },
    {
      "cell_type": "code",
      "source": [
        "train_dir = \"/content/drive/MyDrive/Tez Dosyaları/birleşik veriseti 3 classlı/Train\"\n",
        "test_dir = \"/content/drive/MyDrive/Tez Dosyaları/birleşik veriseti 3 classlı/Test\""
      ],
      "metadata": {
        "id": "12AfWzLmiN-t"
      },
      "execution_count": 4,
      "outputs": []
    },
    {
      "cell_type": "code",
      "source": [
        "import tensorflow as tf\n",
        "BATCH_SIZE = 32\n",
        "IMG_SIZE = (224, 224)\n",
        "train_data= tf.keras.preprocessing.image_dataset_from_directory(train_dir,\n",
        "                                                          label_mode= \"categorical\",\n",
        "                                                          batch_size=BATCH_SIZE,\n",
        "                                                          image_size=IMG_SIZE)\n",
        "\n",
        "test_data = tf.keras.preprocessing.image_dataset_from_directory(test_dir,\n",
        "                                                          label_mode=\"categorical\",\n",
        "                                                          batch_size=BATCH_SIZE,\n",
        "                                                          image_size=IMG_SIZE)"
      ],
      "metadata": {
        "colab": {
          "base_uri": "https://localhost:8080/"
        },
        "id": "oumqPjSoiVd8",
        "outputId": "202c465a-32cc-41cf-f8df-9c147f2258a4"
      },
      "execution_count": 5,
      "outputs": [
        {
          "output_type": "stream",
          "name": "stdout",
          "text": [
            "Found 2844 files belonging to 3 classes.\n",
            "Found 300 files belonging to 3 classes.\n"
          ]
        }
      ]
    },
    {
      "cell_type": "code",
      "source": [
        "train_data.class_names"
      ],
      "metadata": {
        "colab": {
          "base_uri": "https://localhost:8080/"
        },
        "id": "kMJJvOg_iX7O",
        "outputId": "f456a2e3-f310-44d0-dea2-88e58edf5fde"
      },
      "execution_count": 6,
      "outputs": [
        {
          "output_type": "execute_result",
          "data": {
            "text/plain": [
              "['Benign', 'Malignant', 'Normal']"
            ]
          },
          "metadata": {},
          "execution_count": 6
        }
      ]
    },
    {
      "cell_type": "code",
      "source": [
        "from tensorflow.keras.preprocessing.image import ImageDataGenerator\n",
        "from tensorflow.keras.preprocessing.image import img_to_array\n",
        "from tensorflow.keras.preprocessing.image import load_img\n",
        "import numpy as np\n",
        "import random\n",
        "import math\n",
        "import csv\n",
        "import cv2\n",
        "import os"
      ],
      "metadata": {
        "id": "1OBRcW0PiaP-"
      },
      "execution_count": 7,
      "outputs": []
    },
    {
      "cell_type": "code",
      "source": [
        "image_width = 224\n",
        "image_height = 224\n",
        "classes = ['Benign', 'Malignant', 'Normal']\n",
        "datagen = ImageDataGenerator(\n",
        "    rescale=1.0/255,\n",
        "    rotation_range=40,\n",
        "    width_shift_range=0.2,\n",
        "    height_shift_range=0.2,\n",
        "    shear_range=0.2,\n",
        "    zoom_range=0.2,\n",
        "    horizontal_flip=True,\n",
        "    fill_mode='nearest'\n",
        ")\n",
        "\n",
        "# Resimleri yüklemek için flow_from_directory kullanın\n",
        "train_generator = datagen.flow_from_directory(\n",
        "    directory=\"/content/drive/MyDrive/Tez Dosyaları/birleşik veriseti 3 classlı/Train\",\n",
        "    target_size=(image_width, image_height),\n",
        "    batch_size=32,\n",
        "    class_mode='categorical',\n",
        "    subset='training'\n",
        ")\n",
        "\n",
        "# Her sınıf için resimleri ayrı ayrı arttırın\n",
        "for cls in classes:\n",
        "    # Sınıfın resimlerini yüklemek için flow_from_directory kullanın\n",
        "    cls_generator = datagen.flow_from_directory(\n",
        "        directory=\"/content/drive/MyDrive/Tez Dosyaları/birleşik veriseti 3 classlı/Train\",\n",
        "        target_size=(image_width, image_height),\n",
        "        batch_size=32,\n",
        "        class_mode='categorical',\n",
        "        subset='training',\n",
        "        classes=[cls]\n",
        "    )\n",
        "\n",
        "    # Resimleri arttırın ve kaydedin\n",
        "    i = 0\n",
        "    for batch in cls_generator:\n",
        "        images, labels = batch\n",
        "        for image in images:\n",
        "            # Resmi kaydetmek için imwrite kullanın\n",
        "            cv2.imwrite(os.path.join(\"/content/drive/MyDrive/Tez Dosyaları/birleşik veriseti 3 classlı/Train\", cls, f\"augmented_{i}.jpg\"), image * 255)\n",
        "            i += 1\n",
        "            if i >= 3000:  # Maksimum resim sayısına ulaşıldığında döngüyü durdur\n",
        "                break\n",
        "        else:\n",
        "            continue\n",
        "        break"
      ],
      "metadata": {
        "colab": {
          "base_uri": "https://localhost:8080/"
        },
        "id": "kmBSPbfxicRH",
        "outputId": "17d984e6-24eb-4c24-ca7e-f9dd3247faa8"
      },
      "execution_count": 8,
      "outputs": [
        {
          "output_type": "stream",
          "name": "stdout",
          "text": [
            "Found 2844 images belonging to 3 classes.\n",
            "Found 575 images belonging to 1 classes.\n",
            "Found 840 images belonging to 1 classes.\n",
            "Found 1429 images belonging to 1 classes.\n"
          ]
        }
      ]
    },
    {
      "cell_type": "code",
      "source": [
        "augmented_images3 = os.listdir(\"/content/drive/MyDrive/Tez Dosyaları/birleşik veriseti 3 classlı/Train/Benign\")\n",
        "\n",
        "# Count the number of augmented images\n",
        "num_benign_images = len(augmented_images3)\n",
        "\n",
        "# Print the number of malignant images\n",
        "print(\"Number of benign images:\", num_benign_images)"
      ],
      "metadata": {
        "colab": {
          "base_uri": "https://localhost:8080/"
        },
        "id": "qPuG1CUbinTy",
        "outputId": "7cf914f3-2ea5-4277-cc65-5f88df02314b"
      },
      "execution_count": 9,
      "outputs": [
        {
          "output_type": "stream",
          "name": "stdout",
          "text": [
            "Number of benign images: 3575\n"
          ]
        }
      ]
    },
    {
      "cell_type": "code",
      "source": [
        "\n",
        "augmented_images2 = os.listdir(\"/content/drive/MyDrive/Tez Dosyaları/birleşik veriseti 3 classlı/Train/Normal\")\n",
        "\n",
        "# Count the number of augmented images\n",
        "num_normal_images = len(augmented_images2)\n",
        "\n",
        "# Print the number of malignant images\n",
        "print(\"Number of normal images:\", num_normal_images)"
      ],
      "metadata": {
        "colab": {
          "base_uri": "https://localhost:8080/"
        },
        "id": "Ni-FGioek-P6",
        "outputId": "3a933b8f-2412-4e3f-ac75-6bfc9b1b43ea"
      },
      "execution_count": 10,
      "outputs": [
        {
          "output_type": "stream",
          "name": "stdout",
          "text": [
            "Number of normal images: 4429\n"
          ]
        }
      ]
    },
    {
      "cell_type": "code",
      "source": [
        "# Load the augmented images for the malignant class\n",
        "augmented_images = os.listdir(\"/content/drive/MyDrive/Tez Dosyaları/birleşik veriseti 3 classlı/Train/Malignant\")\n",
        "\n",
        "# Count the number of augmented images\n",
        "num_malignant_images = len(augmented_images)\n",
        "\n",
        "# Print the number of malignant images\n",
        "print(\"Number of malignant images:\", num_malignant_images)"
      ],
      "metadata": {
        "colab": {
          "base_uri": "https://localhost:8080/"
        },
        "id": "Jz6I1lG0lDyT",
        "outputId": "b0ca72c7-cffe-48a0-d971-89d92b35dd1a"
      },
      "execution_count": 11,
      "outputs": [
        {
          "output_type": "stream",
          "name": "stdout",
          "text": [
            "Number of malignant images: 3840\n"
          ]
        }
      ]
    },
    {
      "cell_type": "code",
      "source": [
        "for dirpath, dirnames, filenames in os.walk(\"/content/drive/MyDrive/Tez Dosyaları/birleşik veriseti 3 classlı\"):\n",
        "  print(f\"There are {len(dirnames)} directories and {len(filenames)} images in '{dirpath}'.\")"
      ],
      "metadata": {
        "colab": {
          "base_uri": "https://localhost:8080/"
        },
        "id": "_l7EnjpGlKTg",
        "outputId": "13b7a147-23ad-4716-920f-7bfca8c88982"
      },
      "execution_count": 12,
      "outputs": [
        {
          "output_type": "stream",
          "name": "stdout",
          "text": [
            "There are 2 directories and 0 images in '/content/drive/MyDrive/Tez Dosyaları/birleşik veriseti 3 classlı'.\n",
            "There are 3 directories and 0 images in '/content/drive/MyDrive/Tez Dosyaları/birleşik veriseti 3 classlı/Test'.\n",
            "There are 0 directories and 100 images in '/content/drive/MyDrive/Tez Dosyaları/birleşik veriseti 3 classlı/Test/Malignant'.\n",
            "There are 0 directories and 100 images in '/content/drive/MyDrive/Tez Dosyaları/birleşik veriseti 3 classlı/Test/Normal'.\n",
            "There are 0 directories and 100 images in '/content/drive/MyDrive/Tez Dosyaları/birleşik veriseti 3 classlı/Test/Benign'.\n",
            "There are 3 directories and 0 images in '/content/drive/MyDrive/Tez Dosyaları/birleşik veriseti 3 classlı/Train'.\n",
            "There are 0 directories and 3575 images in '/content/drive/MyDrive/Tez Dosyaları/birleşik veriseti 3 classlı/Train/Benign'.\n",
            "There are 0 directories and 4429 images in '/content/drive/MyDrive/Tez Dosyaları/birleşik veriseti 3 classlı/Train/Normal'.\n",
            "There are 0 directories and 3840 images in '/content/drive/MyDrive/Tez Dosyaları/birleşik veriseti 3 classlı/Train/Malignant'.\n"
          ]
        }
      ]
    },
    {
      "cell_type": "code",
      "source": [
        "\n",
        "import tensorflow as tf\n",
        "\n",
        "# 1. create base model with tf.keras.applications\n",
        "base_model = tf.keras.applications.EfficientNetB0(include_top=False)\n",
        "\n",
        "# 2. Freeze the base model\n",
        "base_model.trainable = False\n",
        "\n",
        "# 3. create inputs into our model\n",
        "inputs = tf.keras.layers.Input(shape=(224, 224, 3), name=\"input_layer\")\n",
        "\n",
        "# 4. if using ResNet50V2 you will need to normalize inputs\n",
        "# x = tf.keras.layers.experimental.preprocessing.Rescaling(1./255)(inputs)\n",
        "\n",
        "# 5. pass the inputs to the base_model\n",
        "x = base_model(inputs)\n",
        "print(f\"Shape after passing inputs through base model: {x.shape}\")\n",
        "\n",
        "# 6. average pool the outputs of the base model (aggregate all the most important information, reduce number of computations)\n",
        "x = tf.keras.layers.GlobalAveragePooling2D(name=\"global_average_pooling_layer\")(x)\n",
        "print(f\"Shape after GlobalAveragePooling2D: {x.shape}\")\n",
        "\n",
        "# 7. create the output activation layer for 3 classes\n",
        "outputs = tf.keras.layers.Dense(3, activation=\"softmax\", name=\"output_layer\")(x)\n",
        "model_0 = tf.keras.Model(inputs, outputs)\n",
        "\n",
        "# 8. compile the model for 3 classes\n",
        "model_0.compile(loss=\"categorical_crossentropy\",\n",
        "                optimizer=tf.keras.optimizers.Adam(),\n",
        "                metrics=[\"accuracy\"])\n",
        "\n",
        "# Assuming you have already prepared your train_data and test_data\n",
        "# Make sure that train_data and test_data are prepared with class_mode='categorical'\n",
        "\n",
        "# 9. fit the model\n",
        "history_0 = model_0.fit(train_data,\n",
        "                        epochs=40,\n",
        "                        steps_per_epoch=len(train_data),\n",
        "                        validation_data=test_data,\n",
        "                        validation_steps=int(len(test_data)),\n",
        "                        callbacks=[create_tensorboard_callback(dir_name=\"transfer_learning\",\n",
        "                                                               experiment_name=\"3_class_feature_extraction\")])"
      ],
      "metadata": {
        "colab": {
          "base_uri": "https://localhost:8080/"
        },
        "id": "0bdAhqR1lSv2",
        "outputId": "cae4bb89-a6e2-4800-b933-8aa63635cf58"
      },
      "execution_count": 13,
      "outputs": [
        {
          "output_type": "stream",
          "name": "stdout",
          "text": [
            "Downloading data from https://storage.googleapis.com/keras-applications/efficientnetb0_notop.h5\n",
            "16705208/16705208 [==============================] - 1s 0us/step\n",
            "Shape after passing inputs through base model: (None, 7, 7, 1280)\n",
            "Shape after GlobalAveragePooling2D: (None, 1280)\n",
            "Saving TensorBoard log files to: transfer_learning/3_class_feature_extraction/20240725-202923\n",
            "Epoch 1/40\n",
            "89/89 [==============================] - 100s 564ms/step - loss: 0.9909 - accuracy: 0.5218 - val_loss: 1.1636 - val_accuracy: 0.4133\n",
            "Epoch 2/40\n",
            "89/89 [==============================] - 19s 197ms/step - loss: 0.8895 - accuracy: 0.6013 - val_loss: 1.1242 - val_accuracy: 0.4300\n",
            "Epoch 3/40\n",
            "89/89 [==============================] - 19s 193ms/step - loss: 0.8578 - accuracy: 0.6006 - val_loss: 1.1232 - val_accuracy: 0.4333\n",
            "Epoch 4/40\n",
            "89/89 [==============================] - 19s 197ms/step - loss: 0.8337 - accuracy: 0.6301 - val_loss: 1.0731 - val_accuracy: 0.4267\n",
            "Epoch 5/40\n",
            "89/89 [==============================] - 18s 191ms/step - loss: 0.8205 - accuracy: 0.6343 - val_loss: 1.1424 - val_accuracy: 0.4433\n",
            "Epoch 6/40\n",
            "89/89 [==============================] - 18s 193ms/step - loss: 0.8001 - accuracy: 0.6438 - val_loss: 1.1428 - val_accuracy: 0.4267\n",
            "Epoch 7/40\n",
            "89/89 [==============================] - 19s 192ms/step - loss: 0.7954 - accuracy: 0.6459 - val_loss: 1.1296 - val_accuracy: 0.4367\n",
            "Epoch 8/40\n",
            "89/89 [==============================] - 18s 192ms/step - loss: 0.7847 - accuracy: 0.6628 - val_loss: 1.2040 - val_accuracy: 0.4367\n",
            "Epoch 9/40\n",
            "89/89 [==============================] - 18s 190ms/step - loss: 0.7706 - accuracy: 0.6705 - val_loss: 1.1133 - val_accuracy: 0.4233\n",
            "Epoch 10/40\n",
            "89/89 [==============================] - 19s 195ms/step - loss: 0.7505 - accuracy: 0.6797 - val_loss: 1.1174 - val_accuracy: 0.4400\n",
            "Epoch 11/40\n",
            "89/89 [==============================] - 19s 192ms/step - loss: 0.7537 - accuracy: 0.6779 - val_loss: 1.1161 - val_accuracy: 0.4467\n",
            "Epoch 12/40\n",
            "89/89 [==============================] - 18s 190ms/step - loss: 0.7426 - accuracy: 0.6871 - val_loss: 1.1677 - val_accuracy: 0.4267\n",
            "Epoch 13/40\n",
            "89/89 [==============================] - 18s 192ms/step - loss: 0.7350 - accuracy: 0.6885 - val_loss: 1.1145 - val_accuracy: 0.4333\n",
            "Epoch 14/40\n",
            "89/89 [==============================] - 19s 193ms/step - loss: 0.7303 - accuracy: 0.6881 - val_loss: 1.1463 - val_accuracy: 0.4500\n",
            "Epoch 15/40\n",
            "89/89 [==============================] - 18s 191ms/step - loss: 0.7281 - accuracy: 0.6902 - val_loss: 1.0936 - val_accuracy: 0.4100\n",
            "Epoch 16/40\n",
            "89/89 [==============================] - 19s 194ms/step - loss: 0.7160 - accuracy: 0.6997 - val_loss: 1.2144 - val_accuracy: 0.4500\n",
            "Epoch 17/40\n",
            "89/89 [==============================] - 19s 193ms/step - loss: 0.7134 - accuracy: 0.6966 - val_loss: 1.0905 - val_accuracy: 0.4367\n",
            "Epoch 18/40\n",
            "89/89 [==============================] - 18s 189ms/step - loss: 0.7116 - accuracy: 0.7036 - val_loss: 1.1808 - val_accuracy: 0.4133\n",
            "Epoch 19/40\n",
            "89/89 [==============================] - 19s 194ms/step - loss: 0.7086 - accuracy: 0.6994 - val_loss: 1.1438 - val_accuracy: 0.4367\n",
            "Epoch 20/40\n",
            "89/89 [==============================] - 18s 190ms/step - loss: 0.6952 - accuracy: 0.7060 - val_loss: 1.1934 - val_accuracy: 0.4333\n",
            "Epoch 21/40\n",
            "89/89 [==============================] - 18s 191ms/step - loss: 0.6999 - accuracy: 0.7029 - val_loss: 1.1705 - val_accuracy: 0.4533\n",
            "Epoch 22/40\n",
            "89/89 [==============================] - 19s 192ms/step - loss: 0.6948 - accuracy: 0.7089 - val_loss: 1.1894 - val_accuracy: 0.4233\n",
            "Epoch 23/40\n",
            "89/89 [==============================] - 18s 190ms/step - loss: 0.6908 - accuracy: 0.7096 - val_loss: 1.1466 - val_accuracy: 0.4467\n",
            "Epoch 24/40\n",
            "89/89 [==============================] - 19s 191ms/step - loss: 0.6814 - accuracy: 0.7184 - val_loss: 1.1832 - val_accuracy: 0.4233\n",
            "Epoch 25/40\n",
            "89/89 [==============================] - 19s 198ms/step - loss: 0.6724 - accuracy: 0.7226 - val_loss: 1.1842 - val_accuracy: 0.4333\n",
            "Epoch 26/40\n",
            "89/89 [==============================] - 19s 193ms/step - loss: 0.6786 - accuracy: 0.7124 - val_loss: 1.2406 - val_accuracy: 0.4167\n",
            "Epoch 27/40\n",
            "89/89 [==============================] - 18s 190ms/step - loss: 0.6835 - accuracy: 0.7131 - val_loss: 1.2692 - val_accuracy: 0.4267\n",
            "Epoch 28/40\n",
            "89/89 [==============================] - 18s 193ms/step - loss: 0.6667 - accuracy: 0.7236 - val_loss: 1.1752 - val_accuracy: 0.4300\n",
            "Epoch 29/40\n",
            "89/89 [==============================] - 18s 187ms/step - loss: 0.6716 - accuracy: 0.7289 - val_loss: 1.1945 - val_accuracy: 0.4333\n",
            "Epoch 30/40\n",
            "89/89 [==============================] - 18s 188ms/step - loss: 0.6636 - accuracy: 0.7271 - val_loss: 1.1777 - val_accuracy: 0.4633\n",
            "Epoch 31/40\n",
            "89/89 [==============================] - 18s 190ms/step - loss: 0.6592 - accuracy: 0.7317 - val_loss: 1.1505 - val_accuracy: 0.4500\n",
            "Epoch 32/40\n",
            "89/89 [==============================] - 18s 187ms/step - loss: 0.6623 - accuracy: 0.7275 - val_loss: 1.2067 - val_accuracy: 0.4300\n",
            "Epoch 33/40\n",
            "89/89 [==============================] - 18s 189ms/step - loss: 0.6530 - accuracy: 0.7324 - val_loss: 1.1836 - val_accuracy: 0.4700\n",
            "Epoch 34/40\n",
            "89/89 [==============================] - 18s 189ms/step - loss: 0.6621 - accuracy: 0.7187 - val_loss: 1.1732 - val_accuracy: 0.4400\n",
            "Epoch 35/40\n",
            "89/89 [==============================] - 18s 190ms/step - loss: 0.6637 - accuracy: 0.7219 - val_loss: 1.2250 - val_accuracy: 0.4567\n",
            "Epoch 36/40\n",
            "89/89 [==============================] - 19s 192ms/step - loss: 0.6540 - accuracy: 0.7275 - val_loss: 1.2003 - val_accuracy: 0.4633\n",
            "Epoch 37/40\n",
            "89/89 [==============================] - 19s 195ms/step - loss: 0.6453 - accuracy: 0.7236 - val_loss: 1.2568 - val_accuracy: 0.4233\n",
            "Epoch 38/40\n",
            "89/89 [==============================] - 18s 191ms/step - loss: 0.6426 - accuracy: 0.7380 - val_loss: 1.2108 - val_accuracy: 0.4300\n",
            "Epoch 39/40\n",
            "89/89 [==============================] - 18s 189ms/step - loss: 0.6351 - accuracy: 0.7419 - val_loss: 1.1833 - val_accuracy: 0.4667\n",
            "Epoch 40/40\n",
            "89/89 [==============================] - 18s 189ms/step - loss: 0.6425 - accuracy: 0.7370 - val_loss: 1.2178 - val_accuracy: 0.4633\n"
          ]
        }
      ]
    },
    {
      "cell_type": "code",
      "source": [
        "# Evaluate the model on the test data\n",
        "results_feature_extraction = model_0.evaluate(test_data)\n",
        "results_feature_extraction"
      ],
      "metadata": {
        "colab": {
          "base_uri": "https://localhost:8080/"
        },
        "id": "23yt0lsalXAl",
        "outputId": "66862cf9-0333-427b-e3a2-bb176d964ba6"
      },
      "execution_count": 14,
      "outputs": [
        {
          "output_type": "stream",
          "name": "stdout",
          "text": [
            "10/10 [==============================] - 2s 64ms/step - loss: 1.2178 - accuracy: 0.4633\n"
          ]
        },
        {
          "output_type": "execute_result",
          "data": {
            "text/plain": [
              "[1.2177724838256836, 0.4633333384990692]"
            ]
          },
          "metadata": {},
          "execution_count": 14
        }
      ]
    },
    {
      "cell_type": "code",
      "source": [
        "plot_loss_curves(history_0)"
      ],
      "metadata": {
        "colab": {
          "base_uri": "https://localhost:8080/",
          "height": 927
        },
        "id": "risL9Xudleem",
        "outputId": "87959bd9-5497-4034-f911-1dbbba63e9cb"
      },
      "execution_count": 15,
      "outputs": [
        {
          "output_type": "display_data",
          "data": {
            "text/plain": [
              "<Figure size 640x480 with 1 Axes>"
            ],
            "image/png": "[encoded data removed]"
          },
          "metadata": {}
        },
        {
          "output_type": "display_data",
          "data": {
            "text/plain": [
              "<Figure size 640x480 with 1 Axes>"
            ],
            "image/png": "[encoded data removed]"
          },
          "metadata": {}
        }
      ]
    },
    {
      "cell_type": "code",
      "source": [
        "from sklearn.metrics import classification_report\n",
        "\n",
        "# Assuming you have true labels for your test data stored in y_true\n",
        "# and predictions from your model stored in y_pred\n",
        "\n",
        "# Convert categorical predictions to class labels\n",
        "y_pred_labels = np.argmax(model_0.predict(test_data), axis=1)\n",
        "\n",
        "# Get true labels from the test dataset\n",
        "y_true_labels = np.concatenate([y for x, y in test_data], axis=0)\n",
        "y_true_labels = np.argmax(y_true_labels, axis=1)\n",
        "\n",
        "# Generate classification report\n",
        "report = classification_report(y_true_labels, y_pred_labels)\n",
        "\n",
        "print(report)"
      ],
      "metadata": {
        "colab": {
          "base_uri": "https://localhost:8080/"
        },
        "id": "Mjp3CL2YlhU3",
        "outputId": "9b397a30-269d-43a9-ce09-b0c15baa24e3"
      },
      "execution_count": 16,
      "outputs": [
        {
          "output_type": "stream",
          "name": "stdout",
          "text": [
            "10/10 [==============================] - 4s 64ms/step\n",
            "              precision    recall  f1-score   support\n",
            "\n",
            "           0       0.44      0.12      0.19       100\n",
            "           1       0.37      0.32      0.34       100\n",
            "           2       0.33      0.62      0.43       100\n",
            "\n",
            "    accuracy                           0.35       300\n",
            "   macro avg       0.38      0.35      0.32       300\n",
            "weighted avg       0.38      0.35      0.32       300\n",
            "\n"
          ]
        }
      ]
    },
    {
      "cell_type": "code",
      "source": [
        "\n",
        "# Eğitim doğruluğunu geçmiş verilerinden al\n",
        "train_accuracy = history_0.history['accuracy']\n",
        "\n",
        "# Son epoch'un eğitim doğruluğunu yazdır\n",
        "print(\"Eğitim doğruluğu:\", train_accuracy[-1])"
      ],
      "metadata": {
        "colab": {
          "base_uri": "https://localhost:8080/"
        },
        "id": "-tDUPJ1Wljo8",
        "outputId": "c07ff80b-8e64-4fde-a2d1-85d10840f6aa"
      },
      "execution_count": 17,
      "outputs": [
        {
          "output_type": "stream",
          "name": "stdout",
          "text": [
            "Eğitim doğruluğu: 0.7369901537895203\n"
          ]
        }
      ]
    },
    {
      "cell_type": "code",
      "source": [],
      "metadata": {
        "id": "QPBRawmIll35"
      },
      "execution_count": null,
      "outputs": []
    }
  ]
}