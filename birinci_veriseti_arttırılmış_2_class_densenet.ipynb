{
  "nbformat": 4,
  "nbformat_minor": 0,
  "metadata": {
    "colab": {
      "provenance": [],
      "machine_shape": "hm",
      "gpuType": "T4"
    },
    "kernelspec": {
      "name": "python3",
      "display_name": "Python 3"
    },
    "language_info": {
      "name": "python"
    },
    "accelerator": "GPU"
  },
  "cells": [
    {
      "cell_type": "code",
      "execution_count": 1,
      "metadata": {
        "colab": {
          "base_uri": "https://localhost:8080/"
        },
        "id": "7zYufOz9oa_N",
        "outputId": "3f102e2a-2459-44fa-d14b-2bd2f6010740"
      },
      "outputs": [
        {
          "output_type": "stream",
          "name": "stdout",
          "text": [
            "--2024-07-24 07:27:35--  https://raw.githubusercontent.com/mrdbourke/tensorflow-deep-learning/main/extras/helper_functions.py\n",
            "Resolving raw.githubusercontent.com (raw.githubusercontent.com)... 185.199.108.133, 185.199.109.133, 185.199.110.133, ...\n",
            "Connecting to raw.githubusercontent.com (raw.githubusercontent.com)|185.199.108.133|:443... connected.\n",
            "HTTP request sent, awaiting response... 200 OK\n",
            "Length: 10246 (10K) [text/plain]\n",
            "Saving to: ‘helper_functions.py’\n",
            "\n",
            "helper_functions.py 100%[===================>]  10.01K  --.-KB/s    in 0s      \n",
            "\n",
            "2024-07-24 07:27:35 (88.0 MB/s) - ‘helper_functions.py’ saved [10246/10246]\n",
            "\n"
          ]
        }
      ],
      "source": [
        "#Transfer Learning with Tensorflow\n",
        "\n",
        "!wget https://raw.githubusercontent.com/mrdbourke/tensorflow-deep-learning/main/extras/helper_functions.py\n"
      ]
    },
    {
      "cell_type": "code",
      "source": [
        "#import helper functions we're going to use in this notebook\n",
        "\n",
        "from helper_functions import create_tensorboard_callback, plot_loss_curves, unzip_data, walk_through_dir\n"
      ],
      "metadata": {
        "id": "O_qnA4gdo2O8"
      },
      "execution_count": 2,
      "outputs": []
    },
    {
      "cell_type": "code",
      "source": [
        "import os\n",
        "\n",
        "for dirpath, dirnames, filenames in os.walk(\"/content/drive/MyDrive/Tez Dosyaları/birinci veriseti 2 classlı\"):\n",
        "  print(f\"There are {len(dirnames)} directories and {len(filenames)} images in '{dirpath}'.\")\n"
      ],
      "metadata": {
        "colab": {
          "base_uri": "https://localhost:8080/"
        },
        "id": "5UG9jTYqo4WG",
        "outputId": "0a86e57f-5d3d-42a5-b679-62a8f518d515"
      },
      "execution_count": 3,
      "outputs": [
        {
          "output_type": "stream",
          "name": "stdout",
          "text": [
            "There are 2 directories and 0 images in '/content/drive/MyDrive/Tez Dosyaları/birinci veriseti 2 classlı'.\n",
            "There are 2 directories and 0 images in '/content/drive/MyDrive/Tez Dosyaları/birinci veriseti 2 classlı/Test'.\n",
            "There are 0 directories and 66 images in '/content/drive/MyDrive/Tez Dosyaları/birinci veriseti 2 classlı/Test/Malignant'.\n",
            "There are 0 directories and 60 images in '/content/drive/MyDrive/Tez Dosyaları/birinci veriseti 2 classlı/Test/Benign'.\n",
            "There are 2 directories and 0 images in '/content/drive/MyDrive/Tez Dosyaları/birinci veriseti 2 classlı/Train'.\n",
            "There are 0 directories and 527 images in '/content/drive/MyDrive/Tez Dosyaları/birinci veriseti 2 classlı/Train/Benign'.\n",
            "There are 0 directories and 596 images in '/content/drive/MyDrive/Tez Dosyaları/birinci veriseti 2 classlı/Train/Malignant'.\n"
          ]
        }
      ]
    },
    {
      "cell_type": "code",
      "source": [
        "train_dir = \"/content/drive/MyDrive/Tez Dosyaları/birinci veriseti 2 classlı/Train\"\n",
        "test_dir = \"/content/drive/MyDrive/Tez Dosyaları/birinci veriseti 2 classlı/Test\""
      ],
      "metadata": {
        "id": "sUP8hSUbo_uV"
      },
      "execution_count": 5,
      "outputs": []
    },
    {
      "cell_type": "code",
      "source": [
        "import tensorflow as tf\n",
        "BATCH_SIZE = 32\n",
        "IMG_SIZE = (224, 224)\n",
        "train_data= tf.keras.preprocessing.image_dataset_from_directory(train_dir,\n",
        "                                                          label_mode=\"binary\",\n",
        "                                                          batch_size=BATCH_SIZE,\n",
        "                                                          image_size=IMG_SIZE)\n",
        "\n",
        "test_data = tf.keras.preprocessing.image_dataset_from_directory(test_dir,\n",
        "                                                          label_mode=\"binary\",\n",
        "                                                          batch_size=BATCH_SIZE,\n",
        "                                                          image_size=IMG_SIZE)"
      ],
      "metadata": {
        "colab": {
          "base_uri": "https://localhost:8080/"
        },
        "id": "21jyZv6-pC1g",
        "outputId": "ad9c78e5-0292-45d9-9b8b-5bf027c6ac72"
      },
      "execution_count": 6,
      "outputs": [
        {
          "output_type": "stream",
          "name": "stdout",
          "text": [
            "Found 1123 files belonging to 2 classes.\n",
            "Found 126 files belonging to 2 classes.\n"
          ]
        }
      ]
    },
    {
      "cell_type": "code",
      "source": [
        "train_data.class_names"
      ],
      "metadata": {
        "colab": {
          "base_uri": "https://localhost:8080/"
        },
        "id": "evlYqBN4pSZC",
        "outputId": "01a9dd5a-91cc-489a-e858-4a9cc81f7e87"
      },
      "execution_count": 7,
      "outputs": [
        {
          "output_type": "execute_result",
          "data": {
            "text/plain": [
              "['Benign', 'Malignant']"
            ]
          },
          "metadata": {},
          "execution_count": 7
        }
      ]
    },
    {
      "cell_type": "code",
      "source": [
        "\n",
        "from tensorflow.keras.preprocessing.image import ImageDataGenerator\n",
        "from tensorflow.keras.preprocessing.image import img_to_array\n",
        "from tensorflow.keras.preprocessing.image import load_img\n",
        "import numpy as np\n",
        "import random\n",
        "import math\n",
        "import csv\n",
        "import cv2\n",
        "import os"
      ],
      "metadata": {
        "id": "5ZcLeIhapXfH"
      },
      "execution_count": 8,
      "outputs": []
    },
    {
      "cell_type": "code",
      "source": [
        "image_width = 224\n",
        "image_height = 224\n",
        "classes = ['Benign', 'Malignant']\n",
        "datagen = ImageDataGenerator(\n",
        "    rescale=1.0/255,\n",
        "    rotation_range=40,\n",
        "    width_shift_range=0.2,\n",
        "    height_shift_range=0.2,\n",
        "    shear_range=0.2,\n",
        "    zoom_range=0.2,\n",
        "    horizontal_flip=True,\n",
        "    fill_mode='nearest'\n",
        ")\n",
        "\n",
        "# Resimleri yüklemek için flow_from_directory kullanın\n",
        "train_generator = datagen.flow_from_directory(\n",
        "    directory=\"/content/drive/MyDrive/Tez Dosyaları/birinci veriseti 2 classlı/Train\",\n",
        "    target_size=(image_width, image_height),\n",
        "    batch_size=32,\n",
        "    class_mode='categorical',\n",
        "    subset='training'\n",
        ")\n",
        "\n",
        "# Her sınıf için resimleri ayrı ayrı arttırın\n",
        "for cls in classes:\n",
        "    # Sınıfın resimlerini yüklemek için flow_from_directory kullanın\n",
        "    cls_generator = datagen.flow_from_directory(\n",
        "        directory=\"/content/drive/MyDrive/Tez Dosyaları/birinci veriseti 2 classlı/Train\",\n",
        "        target_size=(image_width, image_height),\n",
        "        batch_size=32,\n",
        "        class_mode='categorical',\n",
        "        subset='training',\n",
        "        classes=[cls]\n",
        "    )\n",
        "\n",
        "    # Resimleri arttırın ve kaydedin\n",
        "    i = 0\n",
        "    for batch in cls_generator:\n",
        "        images, labels = batch\n",
        "        for image in images:\n",
        "            # Resmi kaydetmek için imwrite kullanın\n",
        "            cv2.imwrite(os.path.join(\"/content/drive/MyDrive/Tez Dosyaları/birinci veriseti 2 classlı/Train\", cls, f\"augmented_{i}.jpg\"), image * 255)\n",
        "            i += 1\n",
        "            if i >= 3000:  # Maksimum resim sayısına ulaşıldığında döngüyü durdur\n",
        "                break\n",
        "        else:\n",
        "            continue\n",
        "        break"
      ],
      "metadata": {
        "colab": {
          "base_uri": "https://localhost:8080/"
        },
        "id": "PnPkrlO0pZyE",
        "outputId": "4dd1cf52-7cc7-4085-c41b-8a027018c4ee"
      },
      "execution_count": 9,
      "outputs": [
        {
          "output_type": "stream",
          "name": "stdout",
          "text": [
            "Found 1123 images belonging to 2 classes.\n",
            "Found 527 images belonging to 1 classes.\n",
            "Found 596 images belonging to 1 classes.\n"
          ]
        }
      ]
    },
    {
      "cell_type": "code",
      "source": [
        "\n",
        "# Load the augmented images for the malignant class\n",
        "augmented_images = os.listdir(\"/content/drive/MyDrive/Tez Dosyaları/birinci veriseti 2 classlı/Train/Malignant\")\n",
        "\n",
        "# Count the number of augmented images\n",
        "num_malignant_images = len(augmented_images)\n",
        "\n",
        "# Print the number of malignant images\n",
        "print(\"Number of malignant images:\", num_malignant_images)"
      ],
      "metadata": {
        "colab": {
          "base_uri": "https://localhost:8080/"
        },
        "id": "mcQHH8capsOF",
        "outputId": "2cb5bbfe-0377-47d1-9169-14fa52963764"
      },
      "execution_count": 10,
      "outputs": [
        {
          "output_type": "stream",
          "name": "stdout",
          "text": [
            "Number of malignant images: 3596\n"
          ]
        }
      ]
    },
    {
      "cell_type": "code",
      "source": [
        "augmented_images3 = os.listdir(\"/content/drive/MyDrive/Tez Dosyaları/birinci veriseti 2 classlı/Train/Benign\")\n",
        "\n",
        "# Count the number of augmented images\n",
        "num_benign_images = len(augmented_images3)\n",
        "\n",
        "# Print the number of malignant images\n",
        "print(\"Number of benign images:\", num_benign_images)"
      ],
      "metadata": {
        "colab": {
          "base_uri": "https://localhost:8080/"
        },
        "id": "I2xK1CadpxCX",
        "outputId": "d59749ef-adc6-438a-c924-2b5437b2fc5b"
      },
      "execution_count": 11,
      "outputs": [
        {
          "output_type": "stream",
          "name": "stdout",
          "text": [
            "Number of benign images: 3527\n"
          ]
        }
      ]
    },
    {
      "cell_type": "code",
      "source": [
        "import tensorflow as tf\n",
        "BATCH_SIZE = 32\n",
        "IMG_SIZE = (224, 224)\n",
        "train_data= tf.keras.preprocessing.image_dataset_from_directory(train_dir,\n",
        "                                                          label_mode=\"binary\",\n",
        "                                                          batch_size=BATCH_SIZE,\n",
        "                                                          image_size=IMG_SIZE)\n",
        "\n",
        "test_data = tf.keras.preprocessing.image_dataset_from_directory(test_dir,\n",
        "                                                          label_mode=\"binary\",\n",
        "                                                          batch_size=BATCH_SIZE,\n",
        "                                                          image_size=IMG_SIZE)"
      ],
      "metadata": {
        "colab": {
          "base_uri": "https://localhost:8080/"
        },
        "id": "Qy5s7nkMqJHL",
        "outputId": "4d25657a-45bb-4738-b565-99aea1954d15"
      },
      "execution_count": 15,
      "outputs": [
        {
          "output_type": "stream",
          "name": "stdout",
          "text": [
            "Found 7123 files belonging to 2 classes.\n",
            "Found 126 files belonging to 2 classes.\n"
          ]
        }
      ]
    },
    {
      "cell_type": "code",
      "source": [
        "\n",
        "# 1.  create base model with tf.keras.applications\n",
        "base_model = tf.keras.applications.DenseNet121(include_top=False)\n",
        "\n",
        "# 2. Freeze the base model\n",
        "base_model.trainable = False\n",
        "\n",
        "# 3. create inputs into our model\n",
        "inputs = tf.keras.layers.Input(shape=(224, 224, 3), name=\"input_layer\")\n",
        "\n",
        "# 4. if using ResNet50V2 you will need to normalize inputs\n",
        "# x = tf.keras.layers.experimental.preprocessing.Rescaling(1./255)(inputs)\n",
        "\n",
        "# 5. pass the inputs to the base_model\n",
        "x = base_model(inputs)\n",
        "print(f\"Shape after passing inputs through base model: {x.shape}\")\n",
        "\n",
        "# 6. average pool the outputs of the base model (aggregate all the most important information, reduce number of computations)\n",
        "x = tf.keras.layers.GlobalAveragePooling2D(name=\"global_average_pooling_layer\")(x)\n",
        "print(f\"Shape after GlobalAveragePooling2D: {x.shape}\")\n",
        "\n",
        "# 7. create the output activation layer\n",
        "outputs = tf.keras.layers.Dense(1, activation=\"sigmoid\", name=\"output_layer\")(x)\n",
        "model_0 = tf.keras.Model(inputs, outputs)\n",
        "\n",
        "# 8. compile the model\n",
        "model_0.compile(loss=\"binary_crossentropy\",\n",
        "                optimizer=tf.keras.optimizers.Adam(),\n",
        "                metrics=[\"accuracy\"])\n",
        "\n",
        "# 9. fit the model\n",
        "history_0 = model_0.fit(train_data,\n",
        "                        epochs=40,\n",
        "                        steps_per_epoch=len(train_data),\n",
        "                        validation_data=test_data,\n",
        "                        validation_steps=int(len(test_data)),\n",
        "                        callbacks=[create_tensorboard_callback(dir_name=\"transfer_learning\",\n",
        "                                                              experiment_name=\"10_percent_feature_extraction\")])\n",
        ""
      ],
      "metadata": {
        "colab": {
          "base_uri": "https://localhost:8080/"
        },
        "id": "OfQ9rZKCqPf2",
        "outputId": "b6709e2f-8191-4b4e-cfe7-648f78efa009"
      },
      "execution_count": 31,
      "outputs": [
        {
          "output_type": "stream",
          "name": "stdout",
          "text": [
            "Downloading data from https://storage.googleapis.com/tensorflow/keras-applications/densenet/densenet121_weights_tf_dim_ordering_tf_kernels_notop.h5\n",
            "29084464/29084464 [==============================] - 2s 0us/step\n",
            "Shape after passing inputs through base model: (None, 7, 7, 1024)\n",
            "Shape after GlobalAveragePooling2D: (None, 1024)\n",
            "Saving TensorBoard log files to: transfer_learning/10_percent_feature_extraction/20240724-083813\n",
            "Epoch 1/40\n",
            "223/223 [==============================] - 42s 139ms/step - loss: 0.7301 - accuracy: 0.5557 - val_loss: 0.7528 - val_accuracy: 0.5000\n",
            "Epoch 2/40\n",
            "223/223 [==============================] - 23s 100ms/step - loss: 0.6671 - accuracy: 0.6040 - val_loss: 0.8528 - val_accuracy: 0.5079\n",
            "Epoch 3/40\n",
            "223/223 [==============================] - 23s 99ms/step - loss: 0.6489 - accuracy: 0.6288 - val_loss: 0.7566 - val_accuracy: 0.5397\n",
            "Epoch 4/40\n",
            "223/223 [==============================] - 23s 99ms/step - loss: 0.6268 - accuracy: 0.6440 - val_loss: 0.7507 - val_accuracy: 0.5556\n",
            "Epoch 5/40\n",
            "223/223 [==============================] - 23s 99ms/step - loss: 0.6224 - accuracy: 0.6559 - val_loss: 0.6863 - val_accuracy: 0.5714\n",
            "Epoch 6/40\n",
            "223/223 [==============================] - 23s 99ms/step - loss: 0.6187 - accuracy: 0.6560 - val_loss: 0.6855 - val_accuracy: 0.6032\n",
            "Epoch 7/40\n",
            "223/223 [==============================] - 23s 99ms/step - loss: 0.6051 - accuracy: 0.6669 - val_loss: 0.6687 - val_accuracy: 0.5952\n",
            "Epoch 8/40\n",
            "223/223 [==============================] - 23s 99ms/step - loss: 0.6120 - accuracy: 0.6598 - val_loss: 0.7055 - val_accuracy: 0.5952\n",
            "Epoch 9/40\n",
            "223/223 [==============================] - 23s 99ms/step - loss: 0.6004 - accuracy: 0.6750 - val_loss: 0.6813 - val_accuracy: 0.6111\n",
            "Epoch 10/40\n",
            "223/223 [==============================] - 23s 99ms/step - loss: 0.6009 - accuracy: 0.6711 - val_loss: 0.6718 - val_accuracy: 0.6349\n",
            "Epoch 11/40\n",
            "223/223 [==============================] - 23s 99ms/step - loss: 0.5923 - accuracy: 0.6836 - val_loss: 0.7093 - val_accuracy: 0.6111\n",
            "Epoch 12/40\n",
            "223/223 [==============================] - 23s 98ms/step - loss: 0.5909 - accuracy: 0.6809 - val_loss: 0.6674 - val_accuracy: 0.5873\n",
            "Epoch 13/40\n",
            "223/223 [==============================] - 23s 99ms/step - loss: 0.5953 - accuracy: 0.6782 - val_loss: 0.7019 - val_accuracy: 0.6190\n",
            "Epoch 14/40\n",
            "223/223 [==============================] - 23s 99ms/step - loss: 0.5882 - accuracy: 0.6837 - val_loss: 0.6661 - val_accuracy: 0.6032\n",
            "Epoch 15/40\n",
            "223/223 [==============================] - 23s 99ms/step - loss: 0.5892 - accuracy: 0.6836 - val_loss: 0.6668 - val_accuracy: 0.6111\n",
            "Epoch 16/40\n",
            "223/223 [==============================] - 23s 98ms/step - loss: 0.5843 - accuracy: 0.6843 - val_loss: 0.6828 - val_accuracy: 0.6190\n",
            "Epoch 17/40\n",
            "223/223 [==============================] - 23s 99ms/step - loss: 0.5865 - accuracy: 0.6876 - val_loss: 0.6747 - val_accuracy: 0.5873\n",
            "Epoch 18/40\n",
            "223/223 [==============================] - 23s 99ms/step - loss: 0.5789 - accuracy: 0.6897 - val_loss: 0.6681 - val_accuracy: 0.6508\n",
            "Epoch 19/40\n",
            "223/223 [==============================] - 23s 99ms/step - loss: 0.5759 - accuracy: 0.6979 - val_loss: 0.6606 - val_accuracy: 0.6429\n",
            "Epoch 20/40\n",
            "223/223 [==============================] - 23s 98ms/step - loss: 0.5737 - accuracy: 0.6959 - val_loss: 0.6650 - val_accuracy: 0.6111\n",
            "Epoch 21/40\n",
            "223/223 [==============================] - 23s 99ms/step - loss: 0.5844 - accuracy: 0.6868 - val_loss: 0.6921 - val_accuracy: 0.6429\n",
            "Epoch 22/40\n",
            "223/223 [==============================] - 23s 99ms/step - loss: 0.5745 - accuracy: 0.6982 - val_loss: 0.7029 - val_accuracy: 0.6111\n",
            "Epoch 23/40\n",
            "223/223 [==============================] - 23s 99ms/step - loss: 0.5822 - accuracy: 0.6871 - val_loss: 0.6611 - val_accuracy: 0.6349\n",
            "Epoch 24/40\n",
            "223/223 [==============================] - 23s 100ms/step - loss: 0.5755 - accuracy: 0.6959 - val_loss: 0.6601 - val_accuracy: 0.6508\n",
            "Epoch 25/40\n",
            "223/223 [==============================] - 23s 98ms/step - loss: 0.5741 - accuracy: 0.7021 - val_loss: 0.6703 - val_accuracy: 0.6587\n",
            "Epoch 26/40\n",
            "223/223 [==============================] - 23s 99ms/step - loss: 0.5760 - accuracy: 0.6892 - val_loss: 0.7649 - val_accuracy: 0.6032\n",
            "Epoch 27/40\n",
            "223/223 [==============================] - 23s 98ms/step - loss: 0.5699 - accuracy: 0.7004 - val_loss: 0.6559 - val_accuracy: 0.6349\n",
            "Epoch 28/40\n",
            "223/223 [==============================] - 23s 99ms/step - loss: 0.5674 - accuracy: 0.7018 - val_loss: 0.7055 - val_accuracy: 0.6349\n",
            "Epoch 29/40\n",
            "223/223 [==============================] - 23s 99ms/step - loss: 0.5761 - accuracy: 0.6982 - val_loss: 0.6570 - val_accuracy: 0.6349\n",
            "Epoch 30/40\n",
            "223/223 [==============================] - 23s 99ms/step - loss: 0.5650 - accuracy: 0.7049 - val_loss: 0.6579 - val_accuracy: 0.6508\n",
            "Epoch 31/40\n",
            "223/223 [==============================] - 23s 99ms/step - loss: 0.5679 - accuracy: 0.7025 - val_loss: 0.6711 - val_accuracy: 0.6746\n",
            "Epoch 32/40\n",
            "223/223 [==============================] - 23s 99ms/step - loss: 0.5646 - accuracy: 0.7039 - val_loss: 0.7150 - val_accuracy: 0.6190\n",
            "Epoch 33/40\n",
            "223/223 [==============================] - 23s 99ms/step - loss: 0.5652 - accuracy: 0.7085 - val_loss: 0.6552 - val_accuracy: 0.6349\n",
            "Epoch 34/40\n",
            "223/223 [==============================] - 23s 99ms/step - loss: 0.5699 - accuracy: 0.6983 - val_loss: 0.6511 - val_accuracy: 0.6508\n",
            "Epoch 35/40\n",
            "223/223 [==============================] - 23s 98ms/step - loss: 0.5671 - accuracy: 0.7015 - val_loss: 0.6546 - val_accuracy: 0.6508\n",
            "Epoch 36/40\n",
            "223/223 [==============================] - 23s 99ms/step - loss: 0.5720 - accuracy: 0.7038 - val_loss: 0.6861 - val_accuracy: 0.6587\n",
            "Epoch 37/40\n",
            "223/223 [==============================] - 23s 99ms/step - loss: 0.5715 - accuracy: 0.6972 - val_loss: 0.6653 - val_accuracy: 0.6746\n",
            "Epoch 38/40\n",
            "223/223 [==============================] - 23s 98ms/step - loss: 0.5645 - accuracy: 0.7036 - val_loss: 0.6819 - val_accuracy: 0.6587\n",
            "Epoch 39/40\n",
            "223/223 [==============================] - 23s 99ms/step - loss: 0.5687 - accuracy: 0.7038 - val_loss: 0.6589 - val_accuracy: 0.6270\n",
            "Epoch 40/40\n",
            "223/223 [==============================] - 23s 99ms/step - loss: 0.5640 - accuracy: 0.7088 - val_loss: 0.7289 - val_accuracy: 0.6429\n"
          ]
        }
      ]
    },
    {
      "cell_type": "code",
      "source": [
        "import matplotlib.pyplot as plt\n",
        "\n",
        "def plot_loss_curves(history):\n",
        "  \"\"\"\n",
        "  Returns separate loss curves for training and validation metrics.\n",
        "  Args:\n",
        "    history: TensorFlow History object.\n",
        "\n",
        "    Returns:\n",
        "    Plots of training/validation loss and accuracy metrics.\n",
        "  \"\"\"\n",
        "  loss = history.history['loss']\n",
        "  val_loss = history.history['val_loss']\n",
        "\n",
        "  accuracy = history.history['accuracy']\n",
        "  val_accuracy = history.history['val_accuracy']\n",
        "\n",
        "  epochs = range(len(history.history['loss']))\n",
        "\n",
        "  #Plot loss\n",
        "\n",
        "  plt.plot(epochs, loss, label='training_loss')\n",
        "  plt.plot(epochs, val_loss, label='val_loss')\n",
        "  plt.title('Loss')\n",
        "  plt.xlabel('Epochs')\n",
        "  plt.legend()\n",
        "\n",
        "  #Plot accuracy\n",
        "  plt.figure()\n",
        "  plt.plot(epochs, accuracy, label='training_accuracy')\n",
        "  plt.plot(epochs, val_accuracy, label='val_accuracy')\n",
        "  plt.title('Accuracy')\n",
        "  plt.xlabel('Epochs')\n",
        "  plt.legend();\n",
        "\n",
        "plot_loss_curves(history_0)"
      ],
      "metadata": {
        "colab": {
          "base_uri": "https://localhost:8080/",
          "height": 927
        },
        "id": "tte_JyETrL4t",
        "outputId": "81296b33-a23e-4d1e-c06d-c7e3dce199ce"
      },
      "execution_count": 32,
      "outputs": [
        {
          "output_type": "display_data",
          "data": {
            "text/plain": [
              "<Figure size 640x480 with 1 Axes>"
            ],
            "image/png": "[encoded data removed]"
          },
          "metadata": {}
        },
        {
          "output_type": "display_data",
          "data": {
            "text/plain": [
              "<Figure size 640x480 with 1 Axes>"
            ],
            "image/png": "[encoded data removed]"
          },
          "metadata": {}
        }
      ]
    },
    {
      "cell_type": "code",
      "source": [
        "results_feature_extraction = model_0.evaluate(test_data)\n",
        "results_feature_extraction"
      ],
      "metadata": {
        "colab": {
          "base_uri": "https://localhost:8080/"
        },
        "id": "_DMYml8RrvDL",
        "outputId": "b29385a0-b687-4083-f7fa-384e834480fa"
      },
      "execution_count": 33,
      "outputs": [
        {
          "output_type": "stream",
          "name": "stdout",
          "text": [
            "4/4 [==============================] - 1s 91ms/step - loss: 0.7289 - accuracy: 0.6429\n"
          ]
        },
        {
          "output_type": "execute_result",
          "data": {
            "text/plain": [
              "[0.7288660407066345, 0.6428571343421936]"
            ]
          },
          "metadata": {},
          "execution_count": 33
        }
      ]
    },
    {
      "cell_type": "code",
      "source": [
        "# Get the predicted probabilities for the test set\n",
        "y_pred_probs = model_0.predict(test_data)\n",
        "\n",
        "# Convert probabilities to binary predictions (0 or 1)\n",
        "y_pred = (y_pred_probs > 0.5).astype(int)\n",
        "\n",
        "# Get the true labels for the test set\n",
        "y_true = np.concatenate([y for x, y in test_data], axis=0)\n",
        "\n",
        "# Calculate precision\n",
        "from sklearn.metrics import precision_score\n",
        "precision = precision_score(y_true, y_pred)\n",
        "print(\"Precision:\", precision)"
      ],
      "metadata": {
        "colab": {
          "base_uri": "https://localhost:8080/"
        },
        "id": "k2ezfPwarykg",
        "outputId": "1330824a-c2df-4bf2-e171-a1528be28286"
      },
      "execution_count": 34,
      "outputs": [
        {
          "output_type": "stream",
          "name": "stdout",
          "text": [
            "4/4 [==============================] - 3s 111ms/step\n",
            "Precision: 0.5714285714285714\n"
          ]
        }
      ]
    },
    {
      "cell_type": "code",
      "source": [
        "from sklearn.metrics import recall_score\n",
        "\n",
        "# Calculate recall\n",
        "recall = recall_score(y_true, y_pred)\n",
        "print(\"Recall:\", recall)"
      ],
      "metadata": {
        "colab": {
          "base_uri": "https://localhost:8080/"
        },
        "id": "MKfH1rukr0mL",
        "outputId": "a53995d8-5cbd-4f8c-c839-c7fed0e4e203"
      },
      "execution_count": 35,
      "outputs": [
        {
          "output_type": "stream",
          "name": "stdout",
          "text": [
            "Recall: 0.30303030303030304\n"
          ]
        }
      ]
    },
    {
      "cell_type": "code",
      "source": [
        "\n",
        "\n",
        "from sklearn.metrics import f1_score\n",
        "# Calculate F1-score\n",
        "f1 = f1_score(y_true, y_pred)\n",
        "print(\"F1-score:\", f1)"
      ],
      "metadata": {
        "colab": {
          "base_uri": "https://localhost:8080/"
        },
        "id": "26rnMe33r2LC",
        "outputId": "8cc4ab49-0a39-4718-8ec1-912a47d7dcc2"
      },
      "execution_count": 36,
      "outputs": [
        {
          "output_type": "stream",
          "name": "stdout",
          "text": [
            "F1-score: 0.39603960396039606\n"
          ]
        }
      ]
    },
    {
      "cell_type": "code",
      "source": [
        "\n",
        "\n",
        "# Eğitim doğruluğunu elde etmek için history_0 nesnesini kullanın\n",
        "train_accuracy = history_0.history['accuracy']\n",
        "\n",
        "# Son epoch'un eğitim doğruluğunu yazdırın\n",
        "print(\"Eğitim doğruluğu:\", train_accuracy[-1])\n"
      ],
      "metadata": {
        "colab": {
          "base_uri": "https://localhost:8080/"
        },
        "id": "LExpMqkfr37k",
        "outputId": "4e3b13c1-bd7d-4867-ef70-efb9ca5e304f"
      },
      "execution_count": 37,
      "outputs": [
        {
          "output_type": "stream",
          "name": "stdout",
          "text": [
            "Eğitim doğruluğu: 0.7088305354118347\n"
          ]
        }
      ]
    },
    {
      "cell_type": "code",
      "source": [],
      "metadata": {
        "id": "08VAWlOuvm_N"
      },
      "execution_count": 30,
      "outputs": []
    }
  ]
}