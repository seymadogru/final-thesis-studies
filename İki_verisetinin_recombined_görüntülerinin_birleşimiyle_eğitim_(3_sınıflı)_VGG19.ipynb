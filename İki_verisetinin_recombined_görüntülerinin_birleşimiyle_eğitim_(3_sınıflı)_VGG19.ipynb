{
  "nbformat": 4,
  "nbformat_minor": 0,
  "metadata": {
    "colab": {
      "provenance": [],
      "machine_shape": "hm",
      "gpuType": "T4"
    },
    "kernelspec": {
      "name": "python3",
      "display_name": "Python 3"
    },
    "language_info": {
      "name": "python"
    },
    "accelerator": "GPU"
  },
  "cells": [
    {
      "cell_type": "code",
      "execution_count": 1,
      "metadata": {
        "colab": {
          "base_uri": "https://localhost:8080/"
        },
        "id": "AO2q8HIIw_LF",
        "outputId": "78c5cdaa-79d3-450f-ad4b-466a8f63ec24"
      },
      "outputs": [
        {
          "output_type": "stream",
          "name": "stdout",
          "text": [
            "Mounted at /content/drive\n"
          ]
        }
      ],
      "source": [
        "from google.colab import drive\n",
        "drive.mount('/content/drive')"
      ]
    },
    {
      "cell_type": "code",
      "source": [
        "\n",
        "from keras.preprocessing.image import ImageDataGenerator, array_to_img, img_to_array, load_img\n",
        "from keras.models import Sequential\n",
        "from keras.layers import Conv2D, MaxPooling2D, Dense\n",
        "from keras.applications.vgg16 import VGG16\n",
        "import numpy as np\n",
        "import os\n",
        "import matplotlib.pyplot as plt\n",
        "from glob import glob\n",
        "import cv2"
      ],
      "metadata": {
        "id": "mrzkkmBE2H_O"
      },
      "execution_count": 2,
      "outputs": []
    },
    {
      "cell_type": "code",
      "source": [
        "train_dir = \"/content/drive/MyDrive/Tez Dosyaları/recombined 3 classlı/Train\"\n",
        "test_dir = \"/content/drive/MyDrive/Tez Dosyaları/recombined 3 classlı/Test\""
      ],
      "metadata": {
        "id": "wvSiK_Xu2RLx"
      },
      "execution_count": 3,
      "outputs": []
    },
    {
      "cell_type": "code",
      "source": [
        "import tensorflow as tf\n",
        "from tensorflow.keras.applications import EfficientNetB0"
      ],
      "metadata": {
        "id": "eFjtNX0t2aGl"
      },
      "execution_count": 4,
      "outputs": []
    },
    {
      "cell_type": "code",
      "source": [
        "!wget https://raw.githubusercontent.com/mrdbourke/tensorflow-deep-learning/main/extras/helper_functions.py\n"
      ],
      "metadata": {
        "colab": {
          "base_uri": "https://localhost:8080/"
        },
        "id": "Jf3CxvV82bXa",
        "outputId": "68797736-50d5-472d-fc33-fdeb755860e5"
      },
      "execution_count": 5,
      "outputs": [
        {
          "output_type": "stream",
          "name": "stdout",
          "text": [
            "--2024-07-30 13:34:48--  https://raw.githubusercontent.com/mrdbourke/tensorflow-deep-learning/main/extras/helper_functions.py\n",
            "Resolving raw.githubusercontent.com (raw.githubusercontent.com)... 185.199.109.133, 185.199.108.133, 185.199.110.133, ...\n",
            "Connecting to raw.githubusercontent.com (raw.githubusercontent.com)|185.199.109.133|:443... connected.\n",
            "HTTP request sent, awaiting response... 200 OK\n",
            "Length: 10246 (10K) [text/plain]\n",
            "Saving to: ‘helper_functions.py’\n",
            "\n",
            "\rhelper_functions.py   0%[                    ]       0  --.-KB/s               \rhelper_functions.py 100%[===================>]  10.01K  --.-KB/s    in 0s      \n",
            "\n",
            "2024-07-30 13:34:49 (118 MB/s) - ‘helper_functions.py’ saved [10246/10246]\n",
            "\n"
          ]
        }
      ]
    },
    {
      "cell_type": "code",
      "source": [
        "from helper_functions import create_tensorboard_callback, plot_loss_curves, unzip_data, walk_through_dir\n"
      ],
      "metadata": {
        "id": "zuTnwf7a2cu7"
      },
      "execution_count": 6,
      "outputs": []
    },
    {
      "cell_type": "code",
      "source": [
        "import os\n",
        "\n",
        "for dirpath, dirnames, filenames in os.walk(\"/content/drive/MyDrive/Tez Dosyaları/recombined 3 classlı\"):\n",
        "  print(f\"There are {len(dirnames)} directories and {len(filenames)} images in '{dirpath}'.\")\n"
      ],
      "metadata": {
        "colab": {
          "base_uri": "https://localhost:8080/"
        },
        "id": "bmuUGbSh2d_5",
        "outputId": "a206a464-ea54-4900-9450-447fd03a460b"
      },
      "execution_count": 8,
      "outputs": [
        {
          "output_type": "stream",
          "name": "stdout",
          "text": [
            "There are 2 directories and 0 images in '/content/drive/MyDrive/Tez Dosyaları/recombined 3 classlı'.\n",
            "There are 3 directories and 0 images in '/content/drive/MyDrive/Tez Dosyaları/recombined 3 classlı/Train'.\n",
            "There are 0 directories and 702 images in '/content/drive/MyDrive/Tez Dosyaları/recombined 3 classlı/Train/Normal'.\n",
            "There are 0 directories and 418 images in '/content/drive/MyDrive/Tez Dosyaları/recombined 3 classlı/Train/Malignant'.\n",
            "There are 0 directories and 250 images in '/content/drive/MyDrive/Tez Dosyaları/recombined 3 classlı/Train/Benign'.\n",
            "There are 3 directories and 0 images in '/content/drive/MyDrive/Tez Dosyaları/recombined 3 classlı/Test'.\n",
            "There are 0 directories and 100 images in '/content/drive/MyDrive/Tez Dosyaları/recombined 3 classlı/Test/Normal'.\n",
            "There are 0 directories and 52 images in '/content/drive/MyDrive/Tez Dosyaları/recombined 3 classlı/Test/Malignant'.\n",
            "There are 0 directories and 50 images in '/content/drive/MyDrive/Tez Dosyaları/recombined 3 classlı/Test/Benign'.\n"
          ]
        }
      ]
    },
    {
      "cell_type": "code",
      "source": [
        "import tensorflow as tf\n",
        "BATCH_SIZE = 32\n",
        "IMG_SIZE = (224, 224)\n",
        "train_data= tf.keras.preprocessing.image_dataset_from_directory(train_dir,\n",
        "                                                          label_mode= \"categorical\",\n",
        "                                                          batch_size=BATCH_SIZE,\n",
        "                                                          image_size=IMG_SIZE)\n",
        "\n",
        "test_data = tf.keras.preprocessing.image_dataset_from_directory(test_dir,\n",
        "                                                          label_mode=\"categorical\",\n",
        "                                                          batch_size=BATCH_SIZE,\n",
        "                                                          image_size=IMG_SIZE)"
      ],
      "metadata": {
        "colab": {
          "base_uri": "https://localhost:8080/"
        },
        "id": "WoBdwslH2fIX",
        "outputId": "4b44954e-66ef-4903-e764-5def58e1e1fe"
      },
      "execution_count": 9,
      "outputs": [
        {
          "output_type": "stream",
          "name": "stdout",
          "text": [
            "Found 1370 files belonging to 3 classes.\n",
            "Found 202 files belonging to 3 classes.\n"
          ]
        }
      ]
    },
    {
      "cell_type": "code",
      "source": [
        "train_data.class_names"
      ],
      "metadata": {
        "colab": {
          "base_uri": "https://localhost:8080/"
        },
        "id": "31KL0Ilx3DSH",
        "outputId": "ae365423-3e56-447a-a651-b873e7724c7a"
      },
      "execution_count": 10,
      "outputs": [
        {
          "output_type": "execute_result",
          "data": {
            "text/plain": [
              "['Benign', 'Malignant', 'Normal']"
            ]
          },
          "metadata": {},
          "execution_count": 10
        }
      ]
    },
    {
      "cell_type": "code",
      "source": [
        "from tensorflow.keras.preprocessing.image import ImageDataGenerator\n",
        "from tensorflow.keras.preprocessing.image import img_to_array\n",
        "from tensorflow.keras.preprocessing.image import load_img\n",
        "import numpy as np\n",
        "import random\n",
        "import math\n",
        "import csv\n",
        "import cv2\n",
        "import os"
      ],
      "metadata": {
        "id": "YGuYY0_I3F2D"
      },
      "execution_count": 11,
      "outputs": []
    },
    {
      "cell_type": "code",
      "source": [
        "import tensorflow as tf\n",
        "\n",
        "# 1. create base model with tf.keras.applications\n",
        "base_model = tf.keras.applications.VGG19(include_top=False)\n",
        "\n",
        "# 2. Freeze the base model\n",
        "base_model.trainable = False\n",
        "\n",
        "# 3. create inputs into our model\n",
        "inputs = tf.keras.layers.Input(shape=(224, 224, 3), name=\"input_layer\")\n",
        "\n",
        "# 4. if using ResNet50V2 you will need to normalize inputs\n",
        "# x = tf.keras.layers.experimental.preprocessing.Rescaling(1./255)(inputs)\n",
        "\n",
        "# 5. pass the inputs to the base_model\n",
        "x = base_model(inputs)\n",
        "print(f\"Shape after passing inputs through base model: {x.shape}\")\n",
        "\n",
        "# 6. average pool the outputs of the base model (aggregate all the most important information, reduce number of computations)\n",
        "x = tf.keras.layers.GlobalAveragePooling2D(name=\"global_average_pooling_layer\")(x)\n",
        "print(f\"Shape after GlobalAveragePooling2D: {x.shape}\")\n",
        "\n",
        "# 7. create the output activation layer for 3 classes\n",
        "outputs = tf.keras.layers.Dense(3, activation=\"softmax\", name=\"output_layer\")(x)\n",
        "model_0 = tf.keras.Model(inputs, outputs)\n",
        "\n",
        "# 8. compile the model for 3 classes\n",
        "model_0.compile(loss=\"categorical_crossentropy\",\n",
        "                optimizer=tf.keras.optimizers.Adam(),\n",
        "                metrics=[\"accuracy\"])\n",
        "\n",
        "# Assuming you have already prepared your train_data and test_data\n",
        "# Make sure that train_data and test_data are prepared with class_mode='categorical'\n",
        "\n",
        "# 9. fit the model\n",
        "history_0 = model_0.fit(train_data,\n",
        "                        epochs=40,\n",
        "                        steps_per_epoch=len(train_data),\n",
        "                        validation_data=test_data,\n",
        "                        validation_steps=int(len(test_data)),\n",
        "                        callbacks=[create_tensorboard_callback(dir_name=\"transfer_learning\",\n",
        "                                                               experiment_name=\"3_class_feature_extraction\")])\n",
        "\n"
      ],
      "metadata": {
        "colab": {
          "base_uri": "https://localhost:8080/"
        },
        "id": "ZIz-k0uf3HED",
        "outputId": "1713f47d-c097-4110-be63-7246cbd3f130"
      },
      "execution_count": 44,
      "outputs": [
        {
          "output_type": "stream",
          "name": "stdout",
          "text": [
            "Downloading data from https://storage.googleapis.com/tensorflow/keras-applications/vgg19/vgg19_weights_tf_dim_ordering_tf_kernels_notop.h5\n",
            "80134624/80134624 [==============================] - 5s 0us/step\n",
            "Shape after passing inputs through base model: (None, 7, 7, 512)\n",
            "Shape after GlobalAveragePooling2D: (None, 512)\n",
            "Saving TensorBoard log files to: transfer_learning/3_class_feature_extraction/20240730-141233\n",
            "Epoch 1/40\n",
            "43/43 [==============================] - 11s 214ms/step - loss: 1.6278 - accuracy: 0.4073 - val_loss: 1.2287 - val_accuracy: 0.5495\n",
            "Epoch 2/40\n",
            "43/43 [==============================] - 10s 213ms/step - loss: 1.1180 - accuracy: 0.5474 - val_loss: 1.1780 - val_accuracy: 0.4752\n",
            "Epoch 3/40\n",
            "43/43 [==============================] - 10s 207ms/step - loss: 1.0081 - accuracy: 0.5964 - val_loss: 1.2193 - val_accuracy: 0.5000\n",
            "Epoch 4/40\n",
            "43/43 [==============================] - 11s 223ms/step - loss: 0.9422 - accuracy: 0.6095 - val_loss: 1.2029 - val_accuracy: 0.5000\n",
            "Epoch 5/40\n",
            "43/43 [==============================] - 11s 216ms/step - loss: 0.8917 - accuracy: 0.6277 - val_loss: 1.1971 - val_accuracy: 0.5000\n",
            "Epoch 6/40\n",
            "43/43 [==============================] - 11s 217ms/step - loss: 0.8611 - accuracy: 0.6401 - val_loss: 1.2000 - val_accuracy: 0.4752\n",
            "Epoch 7/40\n",
            "43/43 [==============================] - 11s 211ms/step - loss: 0.8317 - accuracy: 0.6467 - val_loss: 1.2261 - val_accuracy: 0.5248\n",
            "Epoch 8/40\n",
            "43/43 [==============================] - 10s 209ms/step - loss: 0.7891 - accuracy: 0.6715 - val_loss: 1.2174 - val_accuracy: 0.5248\n",
            "Epoch 9/40\n",
            "43/43 [==============================] - 11s 217ms/step - loss: 0.7780 - accuracy: 0.6620 - val_loss: 1.2015 - val_accuracy: 0.4950\n",
            "Epoch 10/40\n",
            "43/43 [==============================] - 11s 216ms/step - loss: 0.7511 - accuracy: 0.6642 - val_loss: 1.2136 - val_accuracy: 0.5149\n",
            "Epoch 11/40\n",
            "43/43 [==============================] - 10s 211ms/step - loss: 0.7363 - accuracy: 0.6781 - val_loss: 1.2222 - val_accuracy: 0.5149\n",
            "Epoch 12/40\n",
            "43/43 [==============================] - 10s 211ms/step - loss: 0.7135 - accuracy: 0.7007 - val_loss: 1.1704 - val_accuracy: 0.5099\n",
            "Epoch 13/40\n",
            "43/43 [==============================] - 10s 209ms/step - loss: 0.7110 - accuracy: 0.6956 - val_loss: 1.2233 - val_accuracy: 0.5050\n",
            "Epoch 14/40\n",
            "43/43 [==============================] - 11s 211ms/step - loss: 0.6892 - accuracy: 0.7036 - val_loss: 1.2245 - val_accuracy: 0.5248\n",
            "Epoch 15/40\n",
            "43/43 [==============================] - 11s 213ms/step - loss: 0.6706 - accuracy: 0.7153 - val_loss: 1.1904 - val_accuracy: 0.5248\n",
            "Epoch 16/40\n",
            "43/43 [==============================] - 10s 209ms/step - loss: 0.6609 - accuracy: 0.7219 - val_loss: 1.1870 - val_accuracy: 0.5297\n",
            "Epoch 17/40\n",
            "43/43 [==============================] - 10s 210ms/step - loss: 0.6615 - accuracy: 0.7153 - val_loss: 1.1943 - val_accuracy: 0.5248\n",
            "Epoch 18/40\n",
            "43/43 [==============================] - 10s 206ms/step - loss: 0.6494 - accuracy: 0.7204 - val_loss: 1.1802 - val_accuracy: 0.5248\n",
            "Epoch 19/40\n",
            "43/43 [==============================] - 10s 208ms/step - loss: 0.6567 - accuracy: 0.7190 - val_loss: 1.2086 - val_accuracy: 0.5297\n",
            "Epoch 20/40\n",
            "43/43 [==============================] - 11s 217ms/step - loss: 0.6279 - accuracy: 0.7394 - val_loss: 1.1773 - val_accuracy: 0.5297\n",
            "Epoch 21/40\n",
            "43/43 [==============================] - 11s 215ms/step - loss: 0.6336 - accuracy: 0.7321 - val_loss: 1.2232 - val_accuracy: 0.5347\n",
            "Epoch 22/40\n",
            "43/43 [==============================] - 10s 209ms/step - loss: 0.6203 - accuracy: 0.7365 - val_loss: 1.1898 - val_accuracy: 0.5347\n",
            "Epoch 23/40\n",
            "43/43 [==============================] - 10s 205ms/step - loss: 0.6022 - accuracy: 0.7562 - val_loss: 1.2186 - val_accuracy: 0.5347\n",
            "Epoch 24/40\n",
            "43/43 [==============================] - 10s 207ms/step - loss: 0.5944 - accuracy: 0.7504 - val_loss: 1.2169 - val_accuracy: 0.5396\n",
            "Epoch 25/40\n",
            "43/43 [==============================] - 11s 215ms/step - loss: 0.6066 - accuracy: 0.7511 - val_loss: 1.2361 - val_accuracy: 0.5396\n",
            "Epoch 26/40\n",
            "43/43 [==============================] - 11s 215ms/step - loss: 0.5817 - accuracy: 0.7518 - val_loss: 1.1810 - val_accuracy: 0.5248\n",
            "Epoch 27/40\n",
            "43/43 [==============================] - 10s 209ms/step - loss: 0.5918 - accuracy: 0.7526 - val_loss: 1.2388 - val_accuracy: 0.5396\n",
            "Epoch 28/40\n",
            "43/43 [==============================] - 10s 207ms/step - loss: 0.5807 - accuracy: 0.7555 - val_loss: 1.2490 - val_accuracy: 0.5396\n",
            "Epoch 29/40\n",
            "43/43 [==============================] - 11s 213ms/step - loss: 0.5800 - accuracy: 0.7708 - val_loss: 1.2680 - val_accuracy: 0.5347\n",
            "Epoch 30/40\n",
            "43/43 [==============================] - 11s 215ms/step - loss: 0.5705 - accuracy: 0.7664 - val_loss: 1.2115 - val_accuracy: 0.5594\n",
            "Epoch 31/40\n",
            "43/43 [==============================] - 11s 214ms/step - loss: 0.5579 - accuracy: 0.7759 - val_loss: 1.2120 - val_accuracy: 0.5495\n",
            "Epoch 32/40\n",
            "43/43 [==============================] - 10s 211ms/step - loss: 0.5646 - accuracy: 0.7642 - val_loss: 1.2051 - val_accuracy: 0.5396\n",
            "Epoch 33/40\n",
            "43/43 [==============================] - 10s 210ms/step - loss: 0.5610 - accuracy: 0.7693 - val_loss: 1.2463 - val_accuracy: 0.5545\n",
            "Epoch 34/40\n",
            "43/43 [==============================] - 11s 215ms/step - loss: 0.5567 - accuracy: 0.7766 - val_loss: 1.2613 - val_accuracy: 0.5495\n",
            "Epoch 35/40\n",
            "43/43 [==============================] - 11s 214ms/step - loss: 0.5486 - accuracy: 0.7803 - val_loss: 1.2472 - val_accuracy: 0.5149\n",
            "Epoch 36/40\n",
            "43/43 [==============================] - 11s 214ms/step - loss: 0.5761 - accuracy: 0.7591 - val_loss: 1.2371 - val_accuracy: 0.5446\n",
            "Epoch 37/40\n",
            "43/43 [==============================] - 11s 213ms/step - loss: 0.5357 - accuracy: 0.7781 - val_loss: 1.2113 - val_accuracy: 0.5545\n",
            "Epoch 38/40\n",
            "43/43 [==============================] - 11s 214ms/step - loss: 0.5347 - accuracy: 0.7818 - val_loss: 1.2215 - val_accuracy: 0.5495\n",
            "Epoch 39/40\n",
            "43/43 [==============================] - 11s 214ms/step - loss: 0.5419 - accuracy: 0.7781 - val_loss: 1.2309 - val_accuracy: 0.5545\n",
            "Epoch 40/40\n",
            "43/43 [==============================] - 11s 211ms/step - loss: 0.5283 - accuracy: 0.7927 - val_loss: 1.2663 - val_accuracy: 0.5594\n"
          ]
        }
      ]
    },
    {
      "cell_type": "code",
      "source": [
        "\n",
        "plot_loss_curves(history_0)\n",
        ""
      ],
      "metadata": {
        "colab": {
          "base_uri": "https://localhost:8080/",
          "height": 927
        },
        "id": "fb0Aesi_3KOj",
        "outputId": "ed52e144-5fad-4617-fb9e-f259d192c051"
      },
      "execution_count": 45,
      "outputs": [
        {
          "output_type": "display_data",
          "data": {
            "text/plain": [
              "<Figure size 640x480 with 1 Axes>"
            ],
            "image/png": "[encoded data removed]"
          },
          "metadata": {}
        },
        {
          "output_type": "display_data",
          "data": {
            "text/plain": [
              "<Figure size 640x480 with 1 Axes>"
            ],
            "image/png": "[encoded data removed]"
          },
          "metadata": {}
        }
      ]
    },
    {
      "cell_type": "code",
      "source": [
        "\n",
        "from sklearn.metrics import classification_report\n",
        "\n",
        "# Assuming you have true labels for your test data stored in y_true\n",
        "# and predictions from your model stored in y_pred\n",
        "\n",
        "# Convert categorical predictions to class labels\n",
        "y_pred_labels = np.argmax(model_0.predict(test_data), axis=1)\n",
        "\n",
        "# Get true labels from the test dataset\n",
        "y_true_labels = np.concatenate([y for x, y in test_data], axis=0)\n",
        "y_true_labels = np.argmax(y_true_labels, axis=1)\n",
        "\n",
        "# Generate classification report\n",
        "report = classification_report(y_true_labels, y_pred_labels)\n",
        "\n",
        "print(report)\n",
        ""
      ],
      "metadata": {
        "colab": {
          "base_uri": "https://localhost:8080/"
        },
        "id": "upzjrqQj3MOP",
        "outputId": "8d5d00e0-bfc0-462e-9203-9a1e95fe26e0"
      },
      "execution_count": 46,
      "outputs": [
        {
          "output_type": "stream",
          "name": "stdout",
          "text": [
            "7/7 [==============================] - 2s 150ms/step\n",
            "              precision    recall  f1-score   support\n",
            "\n",
            "           0       0.15      0.08      0.11        50\n",
            "           1       0.34      0.21      0.26        52\n",
            "           2       0.51      0.74      0.61       100\n",
            "\n",
            "    accuracy                           0.44       202\n",
            "   macro avg       0.34      0.34      0.32       202\n",
            "weighted avg       0.38      0.44      0.39       202\n",
            "\n"
          ]
        }
      ]
    },
    {
      "cell_type": "code",
      "source": [
        "# Eğitim doğruluğunu geçmiş verilerinden al\n",
        "train_accuracy = history_0.history['accuracy']\n",
        "\n",
        "# Son epoch'un eğitim doğruluğunu yazdır\n",
        "print(\"Eğitim doğruluğu:\", train_accuracy[-1])"
      ],
      "metadata": {
        "colab": {
          "base_uri": "https://localhost:8080/"
        },
        "id": "MsvuBLgN3NjW",
        "outputId": "cd032cb8-ae04-4467-b38c-8678893e55cb"
      },
      "execution_count": 47,
      "outputs": [
        {
          "output_type": "stream",
          "name": "stdout",
          "text": [
            "Eğitim doğruluğu: 0.7927007079124451\n"
          ]
        }
      ]
    },
    {
      "cell_type": "code",
      "source": [
        "\n",
        "\n",
        "# test verisinin doğruluğunu hesapla\n",
        "test_loss, test_accuracy = model_0.evaluate(test_data)\n",
        "print(\"Test doğruluğu:\", test_accuracy)\n"
      ],
      "metadata": {
        "colab": {
          "base_uri": "https://localhost:8080/"
        },
        "id": "CS2zqxeS3Ovs",
        "outputId": "29e580ac-4737-4b26-a12c-b3c179f0536e"
      },
      "execution_count": 48,
      "outputs": [
        {
          "output_type": "stream",
          "name": "stdout",
          "text": [
            "7/7 [==============================] - 2s 133ms/step - loss: 1.2663 - accuracy: 0.5594\n",
            "Test doğruluğu: 0.5594059228897095\n"
          ]
        }
      ]
    },
    {
      "cell_type": "code",
      "source": [
        "\n",
        "\n",
        "from sklearn.metrics import precision_score\n",
        "\n",
        "# Assuming you have true labels for your test data stored in y_true\n",
        "# and predictions from your model stored in y_pred_labels (as calculated in the previous code)\n",
        "\n",
        "# Calculate precision\n",
        "precision = precision_score(y_true_labels, y_pred_labels, average='macro')  # You can use 'micro' or 'weighted' averaging as well\n",
        "\n",
        "print(\"Precision:\", precision)\n"
      ],
      "metadata": {
        "colab": {
          "base_uri": "https://localhost:8080/"
        },
        "id": "VsQZYAns3QY6",
        "outputId": "dae30332-d102-45b3-8361-5a89201369cb"
      },
      "execution_count": 49,
      "outputs": [
        {
          "output_type": "stream",
          "name": "stdout",
          "text": [
            "Precision: 0.33716168091168086\n"
          ]
        }
      ]
    },
    {
      "cell_type": "code",
      "source": [
        "\n",
        "\n",
        "from sklearn.metrics import recall_score\n",
        "\n",
        "# Assuming you have true labels for your test data stored in y_true\n",
        "# and predictions from your model stored in y_pred_labels (as calculated in the previous code)\n",
        "\n",
        "# Calculate recall\n",
        "recall = recall_score(y_true_labels, y_pred_labels, average='macro')  # You can use 'micro' or 'weighted' averaging as well\n",
        "\n",
        "print(\"Recall:\", recall)\n"
      ],
      "metadata": {
        "colab": {
          "base_uri": "https://localhost:8080/"
        },
        "id": "aKFUOWD83T2f",
        "outputId": "1f7da904-72c1-4763-f694-04b6a4e64b26"
      },
      "execution_count": 50,
      "outputs": [
        {
          "output_type": "stream",
          "name": "stdout",
          "text": [
            "Recall: 0.34384615384615386\n"
          ]
        }
      ]
    },
    {
      "cell_type": "code",
      "source": [
        "\n",
        "from sklearn.metrics import f1_score\n",
        "\n",
        "# Assuming you have true labels for your test data stored in y_true\n",
        "# and predictions from your model stored in y_pred_labels (as calculated in the previous code)\n",
        "\n",
        "# Calculate F1-score\n",
        "f1 = f1_score(y_true_labels, y_pred_labels, average='macro')  # You can use 'micro' or 'weighted' averaging as well\n",
        "\n",
        "print(\"F1-score:\", f1)\n"
      ],
      "metadata": {
        "colab": {
          "base_uri": "https://localhost:8080/"
        },
        "id": "4Strx3L93WZo",
        "outputId": "4c9f093f-6de8-454f-b424-e2c98a6ac8df"
      },
      "execution_count": 51,
      "outputs": [
        {
          "output_type": "stream",
          "name": "stdout",
          "text": [
            "F1-score: 0.32457509894955966\n"
          ]
        }
      ]
    },
    {
      "cell_type": "code",
      "source": [],
      "metadata": {
        "id": "11DMIo5w3Z-7"
      },
      "execution_count": 51,
      "outputs": []
    }
  ]
}