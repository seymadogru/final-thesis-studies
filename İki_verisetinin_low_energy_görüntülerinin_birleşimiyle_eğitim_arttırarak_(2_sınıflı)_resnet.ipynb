{
  "nbformat": 4,
  "nbformat_minor": 0,
  "metadata": {
    "colab": {
      "provenance": [],
      "machine_shape": "hm",
      "gpuType": "T4"
    },
    "kernelspec": {
      "name": "python3",
      "display_name": "Python 3"
    },
    "language_info": {
      "name": "python"
    },
    "accelerator": "GPU"
  },
  "cells": [
    {
      "cell_type": "code",
      "execution_count": 1,
      "metadata": {
        "colab": {
          "base_uri": "https://localhost:8080/"
        },
        "id": "UguBp3zvZ7y-",
        "outputId": "9a578723-f872-4205-fae2-aa1a345b212b"
      },
      "outputs": [
        {
          "output_type": "stream",
          "name": "stdout",
          "text": [
            "--2024-07-31 15:30:16--  https://raw.githubusercontent.com/mrdbourke/tensorflow-deep-learning/main/extras/helper_functions.py\n",
            "Resolving raw.githubusercontent.com (raw.githubusercontent.com)... 185.199.108.133, 185.199.111.133, 185.199.109.133, ...\n",
            "Connecting to raw.githubusercontent.com (raw.githubusercontent.com)|185.199.108.133|:443... connected.\n",
            "HTTP request sent, awaiting response... 200 OK\n",
            "Length: 10246 (10K) [text/plain]\n",
            "Saving to: ‘helper_functions.py’\n",
            "\n",
            "\rhelper_functions.py   0%[                    ]       0  --.-KB/s               \rhelper_functions.py 100%[===================>]  10.01K  --.-KB/s    in 0.001s  \n",
            "\n",
            "2024-07-31 15:30:16 (9.09 MB/s) - ‘helper_functions.py’ saved [10246/10246]\n",
            "\n"
          ]
        }
      ],
      "source": [
        "!wget https://raw.githubusercontent.com/mrdbourke/tensorflow-deep-learning/main/extras/helper_functions.py"
      ]
    },
    {
      "cell_type": "code",
      "source": [
        "from helper_functions import create_tensorboard_callback, plot_loss_curves, unzip_data, walk_through_dir\n"
      ],
      "metadata": {
        "id": "5QPBOSuRacwM"
      },
      "execution_count": 2,
      "outputs": []
    },
    {
      "cell_type": "code",
      "source": [
        "import os\n",
        "\n",
        "for dirpath, dirnames, filenames in os.walk(\"/content/drive/MyDrive/Tez Dosyaları/low energy 2 classlı\"):\n",
        "  print(f\"There are {len(dirnames)} directories and {len(filenames)} images in '{dirpath}'.\")\n"
      ],
      "metadata": {
        "colab": {
          "base_uri": "https://localhost:8080/"
        },
        "id": "QtnhUZEQaeHT",
        "outputId": "73eedfc9-d414-4225-b7b3-16fba43a9c4d"
      },
      "execution_count": 3,
      "outputs": [
        {
          "output_type": "stream",
          "name": "stdout",
          "text": [
            "There are 2 directories and 0 images in '/content/drive/MyDrive/Tez Dosyaları/low energy 2 classlı'.\n",
            "There are 2 directories and 0 images in '/content/drive/MyDrive/Tez Dosyaları/low energy 2 classlı/Train'.\n",
            "There are 0 directories and 420 images in '/content/drive/MyDrive/Tez Dosyaları/low energy 2 classlı/Train/Malignant'.\n",
            "There are 0 directories and 325 images in '/content/drive/MyDrive/Tez Dosyaları/low energy 2 classlı/Train/Benign'.\n",
            "There are 2 directories and 0 images in '/content/drive/MyDrive/Tez Dosyaları/low energy 2 classlı/Test'.\n",
            "There are 0 directories and 50 images in '/content/drive/MyDrive/Tez Dosyaları/low energy 2 classlı/Test/Malignant'.\n",
            "There are 0 directories and 50 images in '/content/drive/MyDrive/Tez Dosyaları/low energy 2 classlı/Test/Benign'.\n"
          ]
        }
      ]
    },
    {
      "cell_type": "code",
      "source": [
        "train_dir = \"/content/drive/MyDrive/Tez Dosyaları/low energy 2 classlı/Train\"\n",
        "test_dir = \"/content/drive/MyDrive/Tez Dosyaları/low energy 2 classlı/Test\""
      ],
      "metadata": {
        "id": "R2wiSsjvak9T"
      },
      "execution_count": 4,
      "outputs": []
    },
    {
      "cell_type": "code",
      "source": [
        "import tensorflow as tf\n",
        "BATCH_SIZE = 32\n",
        "IMG_SIZE = (224, 224)\n",
        "train_data= tf.keras.preprocessing.image_dataset_from_directory(train_dir,\n",
        "                                                          label_mode=\"binary\",\n",
        "                                                          batch_size=BATCH_SIZE,\n",
        "                                                          image_size=IMG_SIZE)\n",
        "\n",
        "test_data = tf.keras.preprocessing.image_dataset_from_directory(test_dir,\n",
        "                                                          label_mode=\"binary\",\n",
        "                                                          batch_size=BATCH_SIZE,\n",
        "                                                          image_size=IMG_SIZE)"
      ],
      "metadata": {
        "colab": {
          "base_uri": "https://localhost:8080/"
        },
        "id": "y1kUAJ2XaqFz",
        "outputId": "e37a73c9-087a-4ba0-df80-e80accd5346b"
      },
      "execution_count": 5,
      "outputs": [
        {
          "output_type": "stream",
          "name": "stdout",
          "text": [
            "Found 745 files belonging to 2 classes.\n",
            "Found 100 files belonging to 2 classes.\n"
          ]
        }
      ]
    },
    {
      "cell_type": "code",
      "source": [
        "\n",
        "train_data.class_names"
      ],
      "metadata": {
        "colab": {
          "base_uri": "https://localhost:8080/"
        },
        "id": "he4ZOI7uarVa",
        "outputId": "559a59cc-76fc-43cf-e4e5-4604a6641a8b"
      },
      "execution_count": 6,
      "outputs": [
        {
          "output_type": "execute_result",
          "data": {
            "text/plain": [
              "['Benign', 'Malignant']"
            ]
          },
          "metadata": {},
          "execution_count": 6
        }
      ]
    },
    {
      "cell_type": "code",
      "source": [
        "from tensorflow.keras.preprocessing.image import ImageDataGenerator\n",
        "from tensorflow.keras.preprocessing.image import img_to_array\n",
        "from tensorflow.keras.preprocessing.image import load_img\n",
        "import numpy as np\n",
        "import random\n",
        "import math\n",
        "import csv\n",
        "import cv2\n",
        "import os"
      ],
      "metadata": {
        "id": "5GY3yo0QasvB"
      },
      "execution_count": 7,
      "outputs": []
    },
    {
      "cell_type": "code",
      "source": [
        "image_width = 224\n",
        "image_height = 224\n",
        "classes = ['Benign', 'Malignant']\n",
        "datagen = ImageDataGenerator(\n",
        "    rescale=1.0/255,\n",
        "    rotation_range=40,\n",
        "    width_shift_range=0.2,\n",
        "    height_shift_range=0.2,\n",
        "    shear_range=0.2,\n",
        "    zoom_range=0.2,\n",
        "    horizontal_flip=True,\n",
        "    fill_mode='nearest'\n",
        ")\n",
        "\n",
        "# Resimleri yüklemek için flow_from_directory kullanın\n",
        "train_generator = datagen.flow_from_directory(\n",
        "    directory=\"/content/drive/MyDrive/Tez Dosyaları/low energy 2 classlı/Train\",\n",
        "    target_size=(image_width, image_height),\n",
        "    batch_size=32,\n",
        "    class_mode='categorical',\n",
        "    subset='training'\n",
        ")\n",
        "\n",
        "# Her sınıf için resimleri ayrı ayrı arttırın\n",
        "for cls in classes:\n",
        "    # Sınıfın resimlerini yüklemek için flow_from_directory kullanın\n",
        "    cls_generator = datagen.flow_from_directory(\n",
        "        directory=\"/content/drive/MyDrive/Tez Dosyaları/low energy 2 classlı/Train\",\n",
        "        target_size=(image_width, image_height),\n",
        "        batch_size=32,\n",
        "        class_mode='categorical',\n",
        "        subset='training',\n",
        "        classes=[cls]\n",
        "    )\n",
        "\n",
        "    # Resimleri arttırın ve kaydedin\n",
        "    i = 0\n",
        "    for batch in cls_generator:\n",
        "        images, labels = batch\n",
        "        for image in images:\n",
        "            # Resmi kaydetmek için imwrite kullanın\n",
        "            cv2.imwrite(os.path.join(\"/content/drive/MyDrive/Tez Dosyaları/low energy 2 classlı/Train\", cls, f\"augmented_{i}.jpg\"), image * 255)\n",
        "            i += 1\n",
        "            if i >= 3000:  # Maksimum resim sayısına ulaşıldığında döngüyü durdur\n",
        "                break\n",
        "        else:\n",
        "            continue\n",
        "        break"
      ],
      "metadata": {
        "colab": {
          "base_uri": "https://localhost:8080/"
        },
        "id": "JjrMIs70auCt",
        "outputId": "4d9566cb-be77-413b-d31f-d800d32dd681"
      },
      "execution_count": 8,
      "outputs": [
        {
          "output_type": "stream",
          "name": "stdout",
          "text": [
            "Found 745 images belonging to 2 classes.\n",
            "Found 325 images belonging to 1 classes.\n",
            "Found 420 images belonging to 1 classes.\n"
          ]
        }
      ]
    },
    {
      "cell_type": "code",
      "source": [
        "# Load the augmented images for the malignant class\n",
        "augmented_images = os.listdir(\"/content/drive/MyDrive/Tez Dosyaları/low energy 2 classlı/Train/Malignant\")\n",
        "\n",
        "# Count the number of augmented images\n",
        "num_malignant_images = len(augmented_images)\n",
        "\n",
        "# Print the number of malignant images\n",
        "print(\"Number of malignant images:\", num_malignant_images)\n",
        ""
      ],
      "metadata": {
        "colab": {
          "base_uri": "https://localhost:8080/"
        },
        "id": "XrbBNRc4a1lp",
        "outputId": "60c41357-ed2a-4b78-80cd-a48eadb49f75"
      },
      "execution_count": 9,
      "outputs": [
        {
          "output_type": "stream",
          "name": "stdout",
          "text": [
            "Number of malignant images: 3420\n"
          ]
        }
      ]
    },
    {
      "cell_type": "code",
      "source": [
        "augmented_images3 = os.listdir(\"/content/drive/MyDrive/Tez Dosyaları/low energy 2 classlı/Train/Benign\")\n",
        "\n",
        "# Count the number of augmented images\n",
        "num_benign_images = len(augmented_images3)\n",
        "\n",
        "# Print the number of malignant images\n",
        "print(\"Number of benign images:\", num_benign_images)"
      ],
      "metadata": {
        "colab": {
          "base_uri": "https://localhost:8080/"
        },
        "id": "UqtFRtF7a8cm",
        "outputId": "0af0ec97-ded0-4f36-f5ef-913b2082aeff"
      },
      "execution_count": 10,
      "outputs": [
        {
          "output_type": "stream",
          "name": "stdout",
          "text": [
            "Number of benign images: 3325\n"
          ]
        }
      ]
    },
    {
      "cell_type": "code",
      "source": [
        "import tensorflow as tf\n",
        "BATCH_SIZE = 32\n",
        "IMG_SIZE = (224, 224)\n",
        "train_data= tf.keras.preprocessing.image_dataset_from_directory(train_dir,\n",
        "                                                          label_mode=\"binary\",\n",
        "                                                          batch_size=BATCH_SIZE,\n",
        "                                                          image_size=IMG_SIZE)\n",
        "\n",
        "test_data = tf.keras.preprocessing.image_dataset_from_directory(test_dir,\n",
        "                                                          label_mode=\"binary\",\n",
        "                                                          batch_size=BATCH_SIZE,\n",
        "                                                          image_size=IMG_SIZE)"
      ],
      "metadata": {
        "colab": {
          "base_uri": "https://localhost:8080/"
        },
        "id": "IGhtqCcfbAgP",
        "outputId": "48182f78-36d6-4363-f8c6-b61b31da776f"
      },
      "execution_count": 11,
      "outputs": [
        {
          "output_type": "stream",
          "name": "stdout",
          "text": [
            "Found 6745 files belonging to 2 classes.\n",
            "Found 100 files belonging to 2 classes.\n"
          ]
        }
      ]
    },
    {
      "cell_type": "code",
      "source": [
        "# 1.  create base model with tf.keras.applications\n",
        "base_model = tf.keras.applications.ResNet50(include_top=False)\n",
        "\n",
        "# 2. Freeze the base model\n",
        "base_model.trainable = False\n",
        "\n",
        "# 3. create inputs into our model\n",
        "inputs = tf.keras.layers.Input(shape=(224, 224, 3), name=\"input_layer\")\n",
        "\n",
        "# 4. if using ResNet50V2 you will need to normalize inputs\n",
        "# x = tf.keras.layers.experimental.preprocessing.Rescaling(1./255)(inputs)\n",
        "\n",
        "# 5. pass the inputs to the base_model\n",
        "x = base_model(inputs)\n",
        "print(f\"Shape after passing inputs through base model: {x.shape}\")\n",
        "\n",
        "# 6. average pool the outputs of the base model (aggregate all the most important information, reduce number of computations)\n",
        "x = tf.keras.layers.GlobalAveragePooling2D(name=\"global_average_pooling_layer\")(x)\n",
        "print(f\"Shape after GlobalAveragePooling2D: {x.shape}\")\n",
        "\n",
        "# 7. create the output activation layer\n",
        "outputs = tf.keras.layers.Dense(1, activation=\"sigmoid\", name=\"output_layer\")(x)\n",
        "model_0 = tf.keras.Model(inputs, outputs)\n",
        "\n",
        "# 8. compile the model\n",
        "model_0.compile(loss=\"binary_crossentropy\",\n",
        "                optimizer=tf.keras.optimizers.Adam(),\n",
        "                metrics=[\"accuracy\"])\n",
        "\n",
        "# 9. fit the model\n",
        "history_0 = model_0.fit(train_data,\n",
        "                        epochs=40,\n",
        "                        steps_per_epoch=len(train_data),\n",
        "                        validation_data=test_data,\n",
        "                        validation_steps=int(len(test_data)),\n",
        "                        callbacks=[create_tensorboard_callback(dir_name=\"transfer_learning\",\n",
        "                                                              experiment_name=\"10_percent_feature_extraction\")])\n",
        ""
      ],
      "metadata": {
        "colab": {
          "base_uri": "https://localhost:8080/"
        },
        "id": "FbzT_aM2bCJD",
        "outputId": "ac26e5b4-86f5-41dd-c979-baaa8054781c"
      },
      "execution_count": 19,
      "outputs": [
        {
          "output_type": "stream",
          "name": "stdout",
          "text": [
            "Downloading data from https://storage.googleapis.com/tensorflow/keras-applications/resnet/resnet50_weights_tf_dim_ordering_tf_kernels_notop.h5\n",
            "94765736/94765736 [==============================] - 4s 0us/step\n",
            "Shape after passing inputs through base model: (None, 7, 7, 2048)\n",
            "Shape after GlobalAveragePooling2D: (None, 2048)\n",
            "Saving TensorBoard log files to: transfer_learning/10_percent_feature_extraction/20240731-155329\n",
            "Epoch 1/40\n",
            "211/211 [==============================] - 29s 111ms/step - loss: 0.6435 - accuracy: 0.6457 - val_loss: 0.6599 - val_accuracy: 0.6400\n",
            "Epoch 2/40\n",
            "211/211 [==============================] - 21s 96ms/step - loss: 0.5843 - accuracy: 0.6907 - val_loss: 0.6832 - val_accuracy: 0.6500\n",
            "Epoch 3/40\n",
            "211/211 [==============================] - 21s 96ms/step - loss: 0.5526 - accuracy: 0.7189 - val_loss: 0.6797 - val_accuracy: 0.6700\n",
            "Epoch 4/40\n",
            "211/211 [==============================] - 21s 96ms/step - loss: 0.5269 - accuracy: 0.7391 - val_loss: 0.6724 - val_accuracy: 0.6600\n",
            "Epoch 5/40\n",
            "211/211 [==============================] - 21s 97ms/step - loss: 0.5133 - accuracy: 0.7474 - val_loss: 0.7635 - val_accuracy: 0.6100\n",
            "Epoch 6/40\n",
            "211/211 [==============================] - 21s 97ms/step - loss: 0.4999 - accuracy: 0.7564 - val_loss: 0.6712 - val_accuracy: 0.6500\n",
            "Epoch 7/40\n",
            "211/211 [==============================] - 21s 97ms/step - loss: 0.4890 - accuracy: 0.7656 - val_loss: 0.7574 - val_accuracy: 0.6300\n",
            "Epoch 8/40\n",
            "211/211 [==============================] - 21s 98ms/step - loss: 0.4733 - accuracy: 0.7755 - val_loss: 0.7487 - val_accuracy: 0.6600\n",
            "Epoch 9/40\n",
            "211/211 [==============================] - 21s 97ms/step - loss: 0.4707 - accuracy: 0.7752 - val_loss: 0.6675 - val_accuracy: 0.6500\n",
            "Epoch 10/40\n",
            "211/211 [==============================] - 21s 98ms/step - loss: 0.4662 - accuracy: 0.7834 - val_loss: 0.7012 - val_accuracy: 0.6500\n",
            "Epoch 11/40\n",
            "211/211 [==============================] - 21s 98ms/step - loss: 0.4490 - accuracy: 0.7927 - val_loss: 0.7822 - val_accuracy: 0.6600\n",
            "Epoch 12/40\n",
            "211/211 [==============================] - 21s 98ms/step - loss: 0.4461 - accuracy: 0.7944 - val_loss: 0.6986 - val_accuracy: 0.6500\n",
            "Epoch 13/40\n",
            "211/211 [==============================] - 21s 98ms/step - loss: 0.4361 - accuracy: 0.8004 - val_loss: 0.8070 - val_accuracy: 0.6600\n",
            "Epoch 14/40\n",
            "211/211 [==============================] - 21s 98ms/step - loss: 0.4302 - accuracy: 0.8025 - val_loss: 0.7589 - val_accuracy: 0.6500\n",
            "Epoch 15/40\n",
            "211/211 [==============================] - 22s 98ms/step - loss: 0.4261 - accuracy: 0.8070 - val_loss: 0.7273 - val_accuracy: 0.6400\n",
            "Epoch 16/40\n",
            "211/211 [==============================] - 22s 98ms/step - loss: 0.4230 - accuracy: 0.8068 - val_loss: 0.7658 - val_accuracy: 0.6600\n",
            "Epoch 17/40\n",
            "211/211 [==============================] - 21s 98ms/step - loss: 0.4148 - accuracy: 0.8145 - val_loss: 0.7741 - val_accuracy: 0.6500\n",
            "Epoch 18/40\n",
            "211/211 [==============================] - 22s 98ms/step - loss: 0.4143 - accuracy: 0.8157 - val_loss: 0.7593 - val_accuracy: 0.6500\n",
            "Epoch 19/40\n",
            "211/211 [==============================] - 21s 98ms/step - loss: 0.4016 - accuracy: 0.8208 - val_loss: 0.8344 - val_accuracy: 0.6700\n",
            "Epoch 20/40\n",
            "211/211 [==============================] - 22s 99ms/step - loss: 0.4058 - accuracy: 0.8130 - val_loss: 0.9076 - val_accuracy: 0.6500\n",
            "Epoch 21/40\n",
            "211/211 [==============================] - 21s 98ms/step - loss: 0.3971 - accuracy: 0.8237 - val_loss: 0.8182 - val_accuracy: 0.6400\n",
            "Epoch 22/40\n",
            "211/211 [==============================] - 21s 98ms/step - loss: 0.3935 - accuracy: 0.8245 - val_loss: 0.7470 - val_accuracy: 0.6500\n",
            "Epoch 23/40\n",
            "211/211 [==============================] - 22s 99ms/step - loss: 0.3908 - accuracy: 0.8259 - val_loss: 0.7816 - val_accuracy: 0.6600\n",
            "Epoch 24/40\n",
            "211/211 [==============================] - 22s 98ms/step - loss: 0.3869 - accuracy: 0.8252 - val_loss: 0.8131 - val_accuracy: 0.6300\n",
            "Epoch 25/40\n",
            "211/211 [==============================] - 22s 99ms/step - loss: 0.3794 - accuracy: 0.8316 - val_loss: 0.8660 - val_accuracy: 0.6600\n",
            "Epoch 26/40\n",
            "211/211 [==============================] - 22s 98ms/step - loss: 0.3813 - accuracy: 0.8313 - val_loss: 0.7676 - val_accuracy: 0.6400\n",
            "Epoch 27/40\n",
            "211/211 [==============================] - 22s 99ms/step - loss: 0.3797 - accuracy: 0.8271 - val_loss: 0.8687 - val_accuracy: 0.6300\n",
            "Epoch 28/40\n",
            "211/211 [==============================] - 22s 99ms/step - loss: 0.3773 - accuracy: 0.8334 - val_loss: 0.8362 - val_accuracy: 0.6400\n",
            "Epoch 29/40\n",
            "211/211 [==============================] - 21s 98ms/step - loss: 0.3732 - accuracy: 0.8365 - val_loss: 0.8709 - val_accuracy: 0.6300\n",
            "Epoch 30/40\n",
            "211/211 [==============================] - 22s 99ms/step - loss: 0.3682 - accuracy: 0.8391 - val_loss: 0.8599 - val_accuracy: 0.6300\n",
            "Epoch 31/40\n",
            "211/211 [==============================] - 22s 98ms/step - loss: 0.3643 - accuracy: 0.8409 - val_loss: 0.8021 - val_accuracy: 0.6500\n",
            "Epoch 32/40\n",
            "211/211 [==============================] - 22s 99ms/step - loss: 0.3645 - accuracy: 0.8399 - val_loss: 0.8308 - val_accuracy: 0.6600\n",
            "Epoch 33/40\n",
            "211/211 [==============================] - 22s 99ms/step - loss: 0.3629 - accuracy: 0.8428 - val_loss: 0.8406 - val_accuracy: 0.6600\n",
            "Epoch 34/40\n",
            "211/211 [==============================] - 22s 99ms/step - loss: 0.3565 - accuracy: 0.8460 - val_loss: 0.9274 - val_accuracy: 0.6400\n",
            "Epoch 35/40\n",
            "211/211 [==============================] - 22s 100ms/step - loss: 0.3544 - accuracy: 0.8480 - val_loss: 0.9535 - val_accuracy: 0.6500\n",
            "Epoch 36/40\n",
            "211/211 [==============================] - 22s 99ms/step - loss: 0.3523 - accuracy: 0.8492 - val_loss: 0.8451 - val_accuracy: 0.6600\n",
            "Epoch 37/40\n",
            "211/211 [==============================] - 22s 98ms/step - loss: 0.3545 - accuracy: 0.8485 - val_loss: 0.8377 - val_accuracy: 0.6700\n",
            "Epoch 38/40\n",
            "211/211 [==============================] - 22s 99ms/step - loss: 0.3514 - accuracy: 0.8483 - val_loss: 0.8636 - val_accuracy: 0.6600\n",
            "Epoch 39/40\n",
            "211/211 [==============================] - 22s 99ms/step - loss: 0.3486 - accuracy: 0.8479 - val_loss: 0.8267 - val_accuracy: 0.6600\n",
            "Epoch 40/40\n",
            "211/211 [==============================] - 22s 99ms/step - loss: 0.3529 - accuracy: 0.8468 - val_loss: 0.8951 - val_accuracy: 0.6500\n"
          ]
        }
      ]
    },
    {
      "cell_type": "code",
      "source": [
        "import matplotlib.pyplot as plt\n",
        "\n",
        "def plot_loss_curves(history):\n",
        "  \"\"\"\n",
        "  Returns separate loss curves for training and validation metrics.\n",
        "  Args:\n",
        "    history: TensorFlow History object.\n",
        "\n",
        "    Returns:\n",
        "    Plots of training/validation loss and accuracy metrics.\n",
        "  \"\"\"\n",
        "  loss = history.history['loss']\n",
        "  val_loss = history.history['val_loss']\n",
        "\n",
        "  accuracy = history.history['accuracy']\n",
        "  val_accuracy = history.history['val_accuracy']\n",
        "\n",
        "  epochs = range(len(history.history['loss']))\n",
        "\n",
        "  #Plot loss\n",
        "\n",
        "  plt.plot(epochs, loss, label='training_loss')\n",
        "  plt.plot(epochs, val_loss, label='val_loss')\n",
        "  plt.title('Loss')\n",
        "  plt.xlabel('Epochs')\n",
        "  plt.legend()\n",
        "\n",
        "  #Plot accuracy\n",
        "  plt.figure()\n",
        "  plt.plot(epochs, accuracy, label='training_accuracy')\n",
        "  plt.plot(epochs, val_accuracy, label='val_accuracy')\n",
        "  plt.title('Accuracy')\n",
        "  plt.xlabel('Epochs')\n",
        "  plt.legend();\n",
        "\n",
        "plot_loss_curves(history_0)"
      ],
      "metadata": {
        "colab": {
          "base_uri": "https://localhost:8080/",
          "height": 927
        },
        "id": "7JRYlH5JbFxU",
        "outputId": "54da09d1-f9f9-4c17-f429-e9286e0fd3c0"
      },
      "execution_count": 20,
      "outputs": [
        {
          "output_type": "display_data",
          "data": {
            "text/plain": [
              "<Figure size 640x480 with 1 Axes>"
            ],
            "image/png": "[encoded data removed]"
          },
          "metadata": {}
        },
        {
          "output_type": "display_data",
          "data": {
            "text/plain": [
              "<Figure size 640x480 with 1 Axes>"
            ],
            "image/png": "[encoded data removed]"
          },
          "metadata": {}
        }
      ]
    },
    {
      "cell_type": "code",
      "source": [
        "\n",
        "results_feature_extraction = model_0.evaluate(test_data)\n",
        "results_feature_extraction\n",
        ""
      ],
      "metadata": {
        "colab": {
          "base_uri": "https://localhost:8080/"
        },
        "id": "1gnVgSUAbHlY",
        "outputId": "44ce6b5a-dc66-46da-f6ab-18accb487f93"
      },
      "execution_count": 21,
      "outputs": [
        {
          "output_type": "stream",
          "name": "stdout",
          "text": [
            "4/4 [==============================] - 1s 69ms/step - loss: 0.8951 - accuracy: 0.6500\n"
          ]
        },
        {
          "output_type": "execute_result",
          "data": {
            "text/plain": [
              "[0.8951238393783569, 0.6499999761581421]"
            ]
          },
          "metadata": {},
          "execution_count": 21
        }
      ]
    },
    {
      "cell_type": "code",
      "source": [
        "# Get the predicted probabilities for the test set\n",
        "y_pred_probs = model_0.predict(test_data)\n",
        "\n",
        "# Convert probabilities to binary predictions (0 or 1)\n",
        "y_pred = (y_pred_probs > 0.5).astype(int)\n",
        "\n",
        "# Get the true labels for the test set\n",
        "y_true = np.concatenate([y for x, y in test_data], axis=0)\n",
        "\n",
        "# Calculate precision\n",
        "from sklearn.metrics import precision_score\n",
        "precision = precision_score(y_true, y_pred)\n",
        "print(\"Precision:\", precision)"
      ],
      "metadata": {
        "colab": {
          "base_uri": "https://localhost:8080/"
        },
        "id": "2LX2XmV6bJCI",
        "outputId": "5c5d547a-ee82-4766-9a49-cd15a382e4e7"
      },
      "execution_count": 22,
      "outputs": [
        {
          "output_type": "stream",
          "name": "stdout",
          "text": [
            "4/4 [==============================] - 2s 87ms/step\n",
            "Precision: 0.49206349206349204\n"
          ]
        }
      ]
    },
    {
      "cell_type": "code",
      "source": [
        "from sklearn.metrics import recall_score\n",
        "\n",
        "# Calculate recall\n",
        "recall = recall_score(y_true, y_pred)\n",
        "print(\"Recall:\", recall)"
      ],
      "metadata": {
        "colab": {
          "base_uri": "https://localhost:8080/"
        },
        "id": "RPpPZHg0bKP5",
        "outputId": "662171c2-cf6e-4288-a396-2ed7ce27d9be"
      },
      "execution_count": 23,
      "outputs": [
        {
          "output_type": "stream",
          "name": "stdout",
          "text": [
            "Recall: 0.62\n"
          ]
        }
      ]
    },
    {
      "cell_type": "code",
      "source": [
        "from sklearn.metrics import f1_score\n",
        "# Calculate F1-score\n",
        "f1 = f1_score(y_true, y_pred)\n",
        "print(\"F1-score:\", f1)"
      ],
      "metadata": {
        "colab": {
          "base_uri": "https://localhost:8080/"
        },
        "id": "Kph6_JgFbLYR",
        "outputId": "03891b2e-ca41-47d9-f0e9-fcef9db4e0dd"
      },
      "execution_count": 24,
      "outputs": [
        {
          "output_type": "stream",
          "name": "stdout",
          "text": [
            "F1-score: 0.5486725663716814\n"
          ]
        }
      ]
    },
    {
      "cell_type": "code",
      "source": [
        "# Eğitim doğruluğunu elde etmek için history_0 nesnesini kullanın\n",
        "train_accuracy = history_0.history['accuracy']\n",
        "\n",
        "# Son epoch'un eğitim doğruluğunu yazdırın\n",
        "print(\"Eğitim doğruluğu:\", train_accuracy[-1])"
      ],
      "metadata": {
        "colab": {
          "base_uri": "https://localhost:8080/"
        },
        "id": "xvmr3rjUbMqu",
        "outputId": "8796294c-6860-4c93-cdfc-66151b254dff"
      },
      "execution_count": 25,
      "outputs": [
        {
          "output_type": "stream",
          "name": "stdout",
          "text": [
            "Eğitim doğruluğu: 0.8468495011329651\n"
          ]
        }
      ]
    },
    {
      "cell_type": "code",
      "source": [],
      "metadata": {
        "id": "qKfXC2albODO"
      },
      "execution_count": null,
      "outputs": []
    }
  ]
}