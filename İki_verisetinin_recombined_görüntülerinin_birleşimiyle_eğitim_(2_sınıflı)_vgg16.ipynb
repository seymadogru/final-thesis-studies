{
  "nbformat": 4,
  "nbformat_minor": 0,
  "metadata": {
    "colab": {
      "provenance": [],
      "machine_shape": "hm",
      "gpuType": "T4"
    },
    "kernelspec": {
      "name": "python3",
      "display_name": "Python 3"
    },
    "language_info": {
      "name": "python"
    },
    "accelerator": "GPU"
  },
  "cells": [
    {
      "cell_type": "code",
      "execution_count": 1,
      "metadata": {
        "colab": {
          "base_uri": "https://localhost:8080/"
        },
        "id": "FwQZwRqhZBeY",
        "outputId": "db9d1b5a-54f2-4cb1-cb7f-c93d5890cd95"
      },
      "outputs": [
        {
          "output_type": "stream",
          "name": "stdout",
          "text": [
            "Mounted at /content/drive\n"
          ]
        }
      ],
      "source": [
        "from google.colab import drive\n",
        "drive.mount('/content/drive')"
      ]
    },
    {
      "cell_type": "code",
      "source": [
        "!wget https://raw.githubusercontent.com/mrdbourke/tensorflow-deep-learning/main/extras/helper_functions.py"
      ],
      "metadata": {
        "colab": {
          "base_uri": "https://localhost:8080/"
        },
        "id": "RjJAGDkrZdKW",
        "outputId": "cb6ab471-8276-4d41-eb5d-9a6635d199bd"
      },
      "execution_count": 2,
      "outputs": [
        {
          "output_type": "stream",
          "name": "stdout",
          "text": [
            "--2024-07-31 10:47:04--  https://raw.githubusercontent.com/mrdbourke/tensorflow-deep-learning/main/extras/helper_functions.py\n",
            "Resolving raw.githubusercontent.com (raw.githubusercontent.com)... 185.199.108.133, 185.199.109.133, 185.199.110.133, ...\n",
            "Connecting to raw.githubusercontent.com (raw.githubusercontent.com)|185.199.108.133|:443... connected.\n",
            "HTTP request sent, awaiting response... 200 OK\n",
            "Length: 10246 (10K) [text/plain]\n",
            "Saving to: ‘helper_functions.py’\n",
            "\n",
            "helper_functions.py 100%[===================>]  10.01K  --.-KB/s    in 0.001s  \n",
            "\n",
            "2024-07-31 10:47:04 (10.4 MB/s) - ‘helper_functions.py’ saved [10246/10246]\n",
            "\n"
          ]
        }
      ]
    },
    {
      "cell_type": "code",
      "source": [
        "#import helper functions we're going to use in this notebook\n",
        "\n",
        "from helper_functions import create_tensorboard_callback, plot_loss_curves, unzip_data, walk_through_dir\n"
      ],
      "metadata": {
        "id": "6sBn0RMfZoW9"
      },
      "execution_count": 3,
      "outputs": []
    },
    {
      "cell_type": "code",
      "source": [
        "import os\n",
        "\n",
        "for dirpath, dirnames, filenames in os.walk(\"/content/drive/MyDrive/Tez Dosyaları/recombined 2 classlı\"):\n",
        "  print(f\"There are {len(dirnames)} directories and {len(filenames)} images in '{dirpath}'.\")\n"
      ],
      "metadata": {
        "colab": {
          "base_uri": "https://localhost:8080/"
        },
        "id": "RAm--8T3Zp73",
        "outputId": "7e496f15-5552-4b6b-d220-f61accd5165d"
      },
      "execution_count": 4,
      "outputs": [
        {
          "output_type": "stream",
          "name": "stdout",
          "text": [
            "There are 2 directories and 0 images in '/content/drive/MyDrive/Tez Dosyaları/recombined 2 classlı'.\n",
            "There are 2 directories and 0 images in '/content/drive/MyDrive/Tez Dosyaları/recombined 2 classlı/Test'.\n",
            "There are 0 directories and 50 images in '/content/drive/MyDrive/Tez Dosyaları/recombined 2 classlı/Test/Malignant'.\n",
            "There are 0 directories and 50 images in '/content/drive/MyDrive/Tez Dosyaları/recombined 2 classlı/Test/Benign'.\n",
            "There are 2 directories and 0 images in '/content/drive/MyDrive/Tez Dosyaları/recombined 2 classlı/Train'.\n",
            "There are 0 directories and 420 images in '/content/drive/MyDrive/Tez Dosyaları/recombined 2 classlı/Train/Malignant'.\n",
            "There are 0 directories and 250 images in '/content/drive/MyDrive/Tez Dosyaları/recombined 2 classlı/Train/Benign'.\n"
          ]
        }
      ]
    },
    {
      "cell_type": "code",
      "source": [
        "train_dir = \"/content/drive/MyDrive/Tez Dosyaları/recombined 2 classlı/Train\"\n",
        "test_dir = \"/content/drive/MyDrive/Tez Dosyaları/recombined 2 classlı/Test\""
      ],
      "metadata": {
        "id": "6riLqEDnZwiF"
      },
      "execution_count": 5,
      "outputs": []
    },
    {
      "cell_type": "code",
      "source": [
        "import tensorflow as tf\n",
        "BATCH_SIZE = 32\n",
        "IMG_SIZE = (224, 224)\n",
        "train_data= tf.keras.preprocessing.image_dataset_from_directory(train_dir,\n",
        "                                                          label_mode=\"binary\",\n",
        "                                                          batch_size=BATCH_SIZE,\n",
        "                                                          image_size=IMG_SIZE)\n",
        "\n",
        "test_data = tf.keras.preprocessing.image_dataset_from_directory(test_dir,\n",
        "                                                          label_mode=\"binary\",\n",
        "                                                          batch_size=BATCH_SIZE,\n",
        "                                                          image_size=IMG_SIZE)"
      ],
      "metadata": {
        "colab": {
          "base_uri": "https://localhost:8080/"
        },
        "id": "6QVvqopmZ0zV",
        "outputId": "89908eb4-14fc-4401-b329-e97bd71b0e22"
      },
      "execution_count": 6,
      "outputs": [
        {
          "output_type": "stream",
          "name": "stdout",
          "text": [
            "Found 670 files belonging to 2 classes.\n",
            "Found 100 files belonging to 2 classes.\n"
          ]
        }
      ]
    },
    {
      "cell_type": "code",
      "source": [
        "train_data.class_names"
      ],
      "metadata": {
        "colab": {
          "base_uri": "https://localhost:8080/"
        },
        "id": "Nc4UzCRAZ2ci",
        "outputId": "dc5d1e31-0996-4cfc-a53c-3e95604004c8"
      },
      "execution_count": 7,
      "outputs": [
        {
          "output_type": "execute_result",
          "data": {
            "text/plain": [
              "['Benign', 'Malignant']"
            ]
          },
          "metadata": {},
          "execution_count": 7
        }
      ]
    },
    {
      "cell_type": "code",
      "source": [
        "from tensorflow.keras.preprocessing.image import ImageDataGenerator\n",
        "from tensorflow.keras.preprocessing.image import img_to_array\n",
        "from tensorflow.keras.preprocessing.image import load_img\n",
        "import numpy as np\n",
        "import random\n",
        "import math\n",
        "import csv\n",
        "import cv2\n",
        "import os"
      ],
      "metadata": {
        "id": "lLxBnhpLZ311"
      },
      "execution_count": 8,
      "outputs": []
    },
    {
      "cell_type": "code",
      "source": [
        "# 1.  create base model with tf.keras.applications\n",
        "base_model = tf.keras.applications.VGG16(include_top=False)\n",
        "\n",
        "# 2. Freeze the base model\n",
        "base_model.trainable = False\n",
        "\n",
        "# 3. create inputs into our model\n",
        "inputs = tf.keras.layers.Input(shape=(224, 224, 3), name=\"input_layer\")\n",
        "\n",
        "# 4. if using ResNet50V2 you will need to normalize inputs\n",
        "# x = tf.keras.layers.experimental.preprocessing.Rescaling(1./255)(inputs)\n",
        "\n",
        "# 5. pass the inputs to the base_model\n",
        "x = base_model(inputs)\n",
        "print(f\"Shape after passing inputs through base model: {x.shape}\")\n",
        "\n",
        "# 6. average pool the outputs of the base model (aggregate all the most important information, reduce number of computations)\n",
        "x = tf.keras.layers.GlobalAveragePooling2D(name=\"global_average_pooling_layer\")(x)\n",
        "print(f\"Shape after GlobalAveragePooling2D: {x.shape}\")\n",
        "\n",
        "# 7. create the output activation layer\n",
        "outputs = tf.keras.layers.Dense(1, activation=\"sigmoid\", name=\"output_layer\")(x)\n",
        "model_0 = tf.keras.Model(inputs, outputs)\n",
        "\n",
        "# 8. compile the model\n",
        "model_0.compile(loss=\"binary_crossentropy\",\n",
        "                optimizer=tf.keras.optimizers.Adam(),\n",
        "                metrics=[\"accuracy\"])\n",
        "\n",
        "# 9. fit the model\n",
        "history_0 = model_0.fit(train_data,\n",
        "                        epochs=40,\n",
        "                        steps_per_epoch=len(train_data),\n",
        "                        validation_data=test_data,\n",
        "                        validation_steps=int(len(test_data)),\n",
        "                        callbacks=[create_tensorboard_callback(dir_name=\"transfer_learning\",\n",
        "                                                              experiment_name=\"10_percent_feature_extraction\")])\n",
        "\n",
        ""
      ],
      "metadata": {
        "colab": {
          "base_uri": "https://localhost:8080/"
        },
        "id": "WUCMRH9QZ5Jv",
        "outputId": "28129dbf-f3b7-4217-fc07-9ed72ff34a27"
      },
      "execution_count": 30,
      "outputs": [
        {
          "output_type": "stream",
          "name": "stdout",
          "text": [
            "Downloading data from https://storage.googleapis.com/tensorflow/keras-applications/vgg16/vgg16_weights_tf_dim_ordering_tf_kernels_notop.h5\n",
            "58889256/58889256 [==============================] - 3s 0us/step\n",
            "Shape after passing inputs through base model: (None, 7, 7, 512)\n",
            "Shape after GlobalAveragePooling2D: (None, 512)\n",
            "Saving TensorBoard log files to: transfer_learning/10_percent_feature_extraction/20240731-110300\n",
            "Epoch 1/40\n",
            "21/21 [==============================] - 21s 604ms/step - loss: 1.1958 - accuracy: 0.5224 - val_loss: 1.0124 - val_accuracy: 0.5700\n",
            "Epoch 2/40\n",
            "21/21 [==============================] - 5s 198ms/step - loss: 0.8952 - accuracy: 0.5328 - val_loss: 0.8627 - val_accuracy: 0.5700\n",
            "Epoch 3/40\n",
            "21/21 [==============================] - 6s 213ms/step - loss: 0.7726 - accuracy: 0.5910 - val_loss: 0.7454 - val_accuracy: 0.5700\n",
            "Epoch 4/40\n",
            "21/21 [==============================] - 5s 200ms/step - loss: 0.7056 - accuracy: 0.6090 - val_loss: 0.7142 - val_accuracy: 0.5700\n",
            "Epoch 5/40\n",
            "21/21 [==============================] - 6s 203ms/step - loss: 0.6639 - accuracy: 0.6418 - val_loss: 0.6587 - val_accuracy: 0.6100\n",
            "Epoch 6/40\n",
            "21/21 [==============================] - 5s 196ms/step - loss: 0.6398 - accuracy: 0.6582 - val_loss: 0.6541 - val_accuracy: 0.6300\n",
            "Epoch 7/40\n",
            "21/21 [==============================] - 5s 199ms/step - loss: 0.6175 - accuracy: 0.6672 - val_loss: 0.6332 - val_accuracy: 0.6300\n",
            "Epoch 8/40\n",
            "21/21 [==============================] - 5s 196ms/step - loss: 0.5969 - accuracy: 0.6851 - val_loss: 0.6376 - val_accuracy: 0.6100\n",
            "Epoch 9/40\n",
            "21/21 [==============================] - 5s 195ms/step - loss: 0.5738 - accuracy: 0.6896 - val_loss: 0.6452 - val_accuracy: 0.6300\n",
            "Epoch 10/40\n",
            "21/21 [==============================] - 6s 197ms/step - loss: 0.5586 - accuracy: 0.7045 - val_loss: 0.6660 - val_accuracy: 0.6500\n",
            "Epoch 11/40\n",
            "21/21 [==============================] - 5s 194ms/step - loss: 0.5435 - accuracy: 0.7194 - val_loss: 0.6386 - val_accuracy: 0.6700\n",
            "Epoch 12/40\n",
            "21/21 [==============================] - 5s 201ms/step - loss: 0.5392 - accuracy: 0.7134 - val_loss: 0.6433 - val_accuracy: 0.6600\n",
            "Epoch 13/40\n",
            "21/21 [==============================] - 5s 193ms/step - loss: 0.5319 - accuracy: 0.7284 - val_loss: 0.6034 - val_accuracy: 0.7000\n",
            "Epoch 14/40\n",
            "21/21 [==============================] - 5s 200ms/step - loss: 0.5334 - accuracy: 0.7254 - val_loss: 0.6136 - val_accuracy: 0.6900\n",
            "Epoch 15/40\n",
            "21/21 [==============================] - 5s 194ms/step - loss: 0.5150 - accuracy: 0.7328 - val_loss: 0.6233 - val_accuracy: 0.7100\n",
            "Epoch 16/40\n",
            "21/21 [==============================] - 5s 197ms/step - loss: 0.5049 - accuracy: 0.7343 - val_loss: 0.6124 - val_accuracy: 0.7100\n",
            "Epoch 17/40\n",
            "21/21 [==============================] - 6s 206ms/step - loss: 0.4916 - accuracy: 0.7418 - val_loss: 0.6307 - val_accuracy: 0.7100\n",
            "Epoch 18/40\n",
            "21/21 [==============================] - 5s 196ms/step - loss: 0.4835 - accuracy: 0.7522 - val_loss: 0.6430 - val_accuracy: 0.7100\n",
            "Epoch 19/40\n",
            "21/21 [==============================] - 6s 201ms/step - loss: 0.4774 - accuracy: 0.7537 - val_loss: 0.6046 - val_accuracy: 0.7200\n",
            "Epoch 20/40\n",
            "21/21 [==============================] - 5s 194ms/step - loss: 0.4792 - accuracy: 0.7657 - val_loss: 0.6037 - val_accuracy: 0.7200\n",
            "Epoch 21/40\n",
            "21/21 [==============================] - 5s 198ms/step - loss: 0.4667 - accuracy: 0.7672 - val_loss: 0.6348 - val_accuracy: 0.7200\n",
            "Epoch 22/40\n",
            "21/21 [==============================] - 5s 192ms/step - loss: 0.4603 - accuracy: 0.7716 - val_loss: 0.5972 - val_accuracy: 0.7200\n",
            "Epoch 23/40\n",
            "21/21 [==============================] - 5s 193ms/step - loss: 0.4593 - accuracy: 0.7761 - val_loss: 0.6136 - val_accuracy: 0.7100\n",
            "Epoch 24/40\n",
            "21/21 [==============================] - 6s 204ms/step - loss: 0.4490 - accuracy: 0.7716 - val_loss: 0.6114 - val_accuracy: 0.7100\n",
            "Epoch 25/40\n",
            "21/21 [==============================] - 5s 195ms/step - loss: 0.4423 - accuracy: 0.7821 - val_loss: 0.6038 - val_accuracy: 0.7200\n",
            "Epoch 26/40\n",
            "21/21 [==============================] - 5s 199ms/step - loss: 0.4415 - accuracy: 0.7836 - val_loss: 0.6258 - val_accuracy: 0.7300\n",
            "Epoch 27/40\n",
            "21/21 [==============================] - 5s 192ms/step - loss: 0.4289 - accuracy: 0.8030 - val_loss: 0.6528 - val_accuracy: 0.7400\n",
            "Epoch 28/40\n",
            "21/21 [==============================] - 5s 197ms/step - loss: 0.4313 - accuracy: 0.7881 - val_loss: 0.6053 - val_accuracy: 0.7100\n",
            "Epoch 29/40\n",
            "21/21 [==============================] - 5s 194ms/step - loss: 0.4282 - accuracy: 0.7940 - val_loss: 0.6340 - val_accuracy: 0.7200\n",
            "Epoch 30/40\n",
            "21/21 [==============================] - 5s 191ms/step - loss: 0.4198 - accuracy: 0.8000 - val_loss: 0.6238 - val_accuracy: 0.7100\n",
            "Epoch 31/40\n",
            "21/21 [==============================] - 6s 201ms/step - loss: 0.4108 - accuracy: 0.8075 - val_loss: 0.6031 - val_accuracy: 0.7200\n",
            "Epoch 32/40\n",
            "21/21 [==============================] - 5s 194ms/step - loss: 0.4137 - accuracy: 0.8015 - val_loss: 0.6139 - val_accuracy: 0.7200\n",
            "Epoch 33/40\n",
            "21/21 [==============================] - 6s 199ms/step - loss: 0.4043 - accuracy: 0.8164 - val_loss: 0.6246 - val_accuracy: 0.7200\n",
            "Epoch 34/40\n",
            "21/21 [==============================] - 5s 194ms/step - loss: 0.4017 - accuracy: 0.8179 - val_loss: 0.6424 - val_accuracy: 0.7100\n",
            "Epoch 35/40\n",
            "21/21 [==============================] - 5s 197ms/step - loss: 0.3984 - accuracy: 0.8239 - val_loss: 0.6211 - val_accuracy: 0.7200\n",
            "Epoch 36/40\n",
            "21/21 [==============================] - 6s 197ms/step - loss: 0.3930 - accuracy: 0.8239 - val_loss: 0.6177 - val_accuracy: 0.7100\n",
            "Epoch 37/40\n",
            "21/21 [==============================] - 5s 193ms/step - loss: 0.3993 - accuracy: 0.8269 - val_loss: 0.6277 - val_accuracy: 0.7200\n",
            "Epoch 38/40\n",
            "21/21 [==============================] - 6s 209ms/step - loss: 0.3883 - accuracy: 0.8299 - val_loss: 0.6318 - val_accuracy: 0.7200\n",
            "Epoch 39/40\n",
            "21/21 [==============================] - 5s 193ms/step - loss: 0.3860 - accuracy: 0.8328 - val_loss: 0.6059 - val_accuracy: 0.7100\n",
            "Epoch 40/40\n",
            "21/21 [==============================] - 5s 197ms/step - loss: 0.3883 - accuracy: 0.8284 - val_loss: 0.5883 - val_accuracy: 0.7200\n"
          ]
        }
      ]
    },
    {
      "cell_type": "code",
      "source": [
        "import matplotlib.pyplot as plt\n",
        "\n",
        "def plot_loss_curves(history):\n",
        "  \"\"\"\n",
        "  Returns separate loss curves for training and validation metrics.\n",
        "  Args:\n",
        "    history: TensorFlow History object.\n",
        "\n",
        "    Returns:\n",
        "    Plots of training/validation loss and accuracy metrics.\n",
        "  \"\"\"\n",
        "  loss = history.history['loss']\n",
        "  val_loss = history.history['val_loss']\n",
        "\n",
        "  accuracy = history.history['accuracy']\n",
        "  val_accuracy = history.history['val_accuracy']\n",
        "\n",
        "  epochs = range(len(history.history['loss']))\n",
        "\n",
        "  #Plot loss\n",
        "\n",
        "  plt.plot(epochs, loss, label='training_loss')\n",
        "  plt.plot(epochs, val_loss, label='val_loss')\n",
        "  plt.title('Loss')\n",
        "  plt.xlabel('Epochs')\n",
        "  plt.legend()\n",
        "\n",
        "  #Plot accuracy\n",
        "  plt.figure()\n",
        "  plt.plot(epochs, accuracy, label='training_accuracy')\n",
        "  plt.plot(epochs, val_accuracy, label='val_accuracy')\n",
        "  plt.title('Accuracy')\n",
        "  plt.xlabel('Epochs')\n",
        "  plt.legend();\n",
        "\n",
        "plot_loss_curves(history_0)\n",
        ""
      ],
      "metadata": {
        "colab": {
          "base_uri": "https://localhost:8080/",
          "height": 927
        },
        "id": "CiLh22PHZ6yV",
        "outputId": "8daaf803-9350-4a9c-8fee-b23fbc1458c0"
      },
      "execution_count": 31,
      "outputs": [
        {
          "output_type": "display_data",
          "data": {
            "text/plain": [
              "<Figure size 640x480 with 1 Axes>"
            ],
            "image/png": "[encoded data removed]"
          },
          "metadata": {}
        },
        {
          "output_type": "display_data",
          "data": {
            "text/plain": [
              "<Figure size 640x480 with 1 Axes>"
            ],
            "image/png": "[encoded data removed]"
          },
          "metadata": {}
        }
      ]
    },
    {
      "cell_type": "code",
      "source": [
        "\n",
        "results_feature_extraction = model_0.evaluate(test_data)\n",
        "results_feature_extraction"
      ],
      "metadata": {
        "colab": {
          "base_uri": "https://localhost:8080/"
        },
        "id": "mO6SYZ8cZ80a",
        "outputId": "0a51b735-d615-4f6b-83f5-00c8a5db2ded"
      },
      "execution_count": 32,
      "outputs": [
        {
          "output_type": "stream",
          "name": "stdout",
          "text": [
            "4/4 [==============================] - 1s 96ms/step - loss: 0.5883 - accuracy: 0.7200\n"
          ]
        },
        {
          "output_type": "execute_result",
          "data": {
            "text/plain": [
              "[0.5882670879364014, 0.7200000286102295]"
            ]
          },
          "metadata": {},
          "execution_count": 32
        }
      ]
    },
    {
      "cell_type": "code",
      "source": [
        "# Get the predicted probabilities for the test set\n",
        "y_pred_probs = model_0.predict(test_data)\n",
        "\n",
        "# Convert probabilities to binary predictions (0 or 1)\n",
        "y_pred = (y_pred_probs > 0.5).astype(int)\n",
        "\n",
        "# Get the true labels for the test set\n",
        "y_true = np.concatenate([y for x, y in test_data], axis=0)\n",
        "\n",
        "# Calculate precision\n",
        "from sklearn.metrics import precision_score\n",
        "precision = precision_score(y_true, y_pred)\n",
        "print(\"Precision:\", precision)"
      ],
      "metadata": {
        "colab": {
          "base_uri": "https://localhost:8080/"
        },
        "id": "cgS46QYoZ-Q-",
        "outputId": "e2c0d0ca-dee7-4447-948b-233295bccf69"
      },
      "execution_count": 33,
      "outputs": [
        {
          "output_type": "stream",
          "name": "stdout",
          "text": [
            "4/4 [==============================] - 1s 122ms/step\n",
            "Precision: 0.5535714285714286\n"
          ]
        }
      ]
    },
    {
      "cell_type": "code",
      "source": [
        "from sklearn.metrics import recall_score\n",
        "\n",
        "# Calculate recall\n",
        "recall = recall_score(y_true, y_pred)\n",
        "print(\"Recall:\", recall)"
      ],
      "metadata": {
        "colab": {
          "base_uri": "https://localhost:8080/"
        },
        "id": "eHBu7bz0aADC",
        "outputId": "29151f17-b0b2-4a5f-80ae-c3fa0a9b2938"
      },
      "execution_count": 34,
      "outputs": [
        {
          "output_type": "stream",
          "name": "stdout",
          "text": [
            "Recall: 0.62\n"
          ]
        }
      ]
    },
    {
      "cell_type": "code",
      "source": [
        "from sklearn.metrics import f1_score\n",
        "# Calculate F1-score\n",
        "f1 = f1_score(y_true, y_pred)\n",
        "print(\"F1-score:\", f1)\n",
        ""
      ],
      "metadata": {
        "colab": {
          "base_uri": "https://localhost:8080/"
        },
        "id": "ECJSkSRVaBSe",
        "outputId": "99911e44-7331-4b60-a9b1-61beaf91b4e7"
      },
      "execution_count": 35,
      "outputs": [
        {
          "output_type": "stream",
          "name": "stdout",
          "text": [
            "F1-score: 0.5849056603773586\n"
          ]
        }
      ]
    },
    {
      "cell_type": "code",
      "source": [
        "\n",
        "# Eğitim doğruluğunu elde etmek için history_0 nesnesini kullanın\n",
        "train_accuracy = history_0.history['accuracy']\n",
        "\n",
        "# Son epoch'un eğitim doğruluğunu yazdırın\n",
        "print(\"Eğitim doğruluğu:\", train_accuracy[-1])\n",
        ""
      ],
      "metadata": {
        "colab": {
          "base_uri": "https://localhost:8080/"
        },
        "id": "VlHbt-AMaCX6",
        "outputId": "1ad33d22-4f0d-4559-a62d-7a8f93032828"
      },
      "execution_count": 36,
      "outputs": [
        {
          "output_type": "stream",
          "name": "stdout",
          "text": [
            "Eğitim doğruluğu: 0.8283582329750061\n"
          ]
        }
      ]
    },
    {
      "cell_type": "code",
      "source": [],
      "metadata": {
        "id": "t3vcbM96aECn"
      },
      "execution_count": 36,
      "outputs": []
    },
    {
      "cell_type": "code",
      "source": [],
      "metadata": {
        "id": "QT_vFS9bdIck"
      },
      "execution_count": null,
      "outputs": []
    }
  ]
}