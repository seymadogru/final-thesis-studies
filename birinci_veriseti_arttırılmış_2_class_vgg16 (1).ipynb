{
  "nbformat": 4,
  "nbformat_minor": 0,
  "metadata": {
    "colab": {
      "provenance": [],
      "machine_shape": "hm",
      "gpuType": "T4"
    },
    "kernelspec": {
      "name": "python3",
      "display_name": "Python 3"
    },
    "language_info": {
      "name": "python"
    },
    "accelerator": "GPU"
  },
  "cells": [
    {
      "cell_type": "code",
      "execution_count": 1,
      "metadata": {
        "colab": {
          "base_uri": "https://localhost:8080/"
        },
        "id": "7zYufOz9oa_N",
        "outputId": "3f102e2a-2459-44fa-d14b-2bd2f6010740"
      },
      "outputs": [
        {
          "output_type": "stream",
          "name": "stdout",
          "text": [
            "--2024-07-24 07:27:35--  https://raw.githubusercontent.com/mrdbourke/tensorflow-deep-learning/main/extras/helper_functions.py\n",
            "Resolving raw.githubusercontent.com (raw.githubusercontent.com)... 185.199.108.133, 185.199.109.133, 185.199.110.133, ...\n",
            "Connecting to raw.githubusercontent.com (raw.githubusercontent.com)|185.199.108.133|:443... connected.\n",
            "HTTP request sent, awaiting response... 200 OK\n",
            "Length: 10246 (10K) [text/plain]\n",
            "Saving to: ‘helper_functions.py’\n",
            "\n",
            "helper_functions.py 100%[===================>]  10.01K  --.-KB/s    in 0s      \n",
            "\n",
            "2024-07-24 07:27:35 (88.0 MB/s) - ‘helper_functions.py’ saved [10246/10246]\n",
            "\n"
          ]
        }
      ],
      "source": [
        "#Transfer Learning with Tensorflow\n",
        "\n",
        "!wget https://raw.githubusercontent.com/mrdbourke/tensorflow-deep-learning/main/extras/helper_functions.py\n"
      ]
    },
    {
      "cell_type": "code",
      "source": [
        "#import helper functions we're going to use in this notebook\n",
        "\n",
        "from helper_functions import create_tensorboard_callback, plot_loss_curves, unzip_data, walk_through_dir\n"
      ],
      "metadata": {
        "id": "O_qnA4gdo2O8"
      },
      "execution_count": 2,
      "outputs": []
    },
    {
      "cell_type": "code",
      "source": [
        "import os\n",
        "\n",
        "for dirpath, dirnames, filenames in os.walk(\"/content/drive/MyDrive/Tez Dosyaları/birinci veriseti 2 classlı\"):\n",
        "  print(f\"There are {len(dirnames)} directories and {len(filenames)} images in '{dirpath}'.\")\n"
      ],
      "metadata": {
        "colab": {
          "base_uri": "https://localhost:8080/"
        },
        "id": "5UG9jTYqo4WG",
        "outputId": "0a86e57f-5d3d-42a5-b679-62a8f518d515"
      },
      "execution_count": 3,
      "outputs": [
        {
          "output_type": "stream",
          "name": "stdout",
          "text": [
            "There are 2 directories and 0 images in '/content/drive/MyDrive/Tez Dosyaları/birinci veriseti 2 classlı'.\n",
            "There are 2 directories and 0 images in '/content/drive/MyDrive/Tez Dosyaları/birinci veriseti 2 classlı/Test'.\n",
            "There are 0 directories and 66 images in '/content/drive/MyDrive/Tez Dosyaları/birinci veriseti 2 classlı/Test/Malignant'.\n",
            "There are 0 directories and 60 images in '/content/drive/MyDrive/Tez Dosyaları/birinci veriseti 2 classlı/Test/Benign'.\n",
            "There are 2 directories and 0 images in '/content/drive/MyDrive/Tez Dosyaları/birinci veriseti 2 classlı/Train'.\n",
            "There are 0 directories and 527 images in '/content/drive/MyDrive/Tez Dosyaları/birinci veriseti 2 classlı/Train/Benign'.\n",
            "There are 0 directories and 596 images in '/content/drive/MyDrive/Tez Dosyaları/birinci veriseti 2 classlı/Train/Malignant'.\n"
          ]
        }
      ]
    },
    {
      "cell_type": "code",
      "source": [
        "train_dir = \"/content/drive/MyDrive/Tez Dosyaları/birinci veriseti 2 classlı/Train\"\n",
        "test_dir = \"/content/drive/MyDrive/Tez Dosyaları/birinci veriseti 2 classlı/Test\""
      ],
      "metadata": {
        "id": "sUP8hSUbo_uV"
      },
      "execution_count": 5,
      "outputs": []
    },
    {
      "cell_type": "code",
      "source": [
        "import tensorflow as tf\n",
        "BATCH_SIZE = 32\n",
        "IMG_SIZE = (224, 224)\n",
        "train_data= tf.keras.preprocessing.image_dataset_from_directory(train_dir,\n",
        "                                                          label_mode=\"binary\",\n",
        "                                                          batch_size=BATCH_SIZE,\n",
        "                                                          image_size=IMG_SIZE)\n",
        "\n",
        "test_data = tf.keras.preprocessing.image_dataset_from_directory(test_dir,\n",
        "                                                          label_mode=\"binary\",\n",
        "                                                          batch_size=BATCH_SIZE,\n",
        "                                                          image_size=IMG_SIZE)"
      ],
      "metadata": {
        "colab": {
          "base_uri": "https://localhost:8080/"
        },
        "id": "21jyZv6-pC1g",
        "outputId": "ad9c78e5-0292-45d9-9b8b-5bf027c6ac72"
      },
      "execution_count": 6,
      "outputs": [
        {
          "output_type": "stream",
          "name": "stdout",
          "text": [
            "Found 1123 files belonging to 2 classes.\n",
            "Found 126 files belonging to 2 classes.\n"
          ]
        }
      ]
    },
    {
      "cell_type": "code",
      "source": [
        "train_data.class_names"
      ],
      "metadata": {
        "colab": {
          "base_uri": "https://localhost:8080/"
        },
        "id": "evlYqBN4pSZC",
        "outputId": "01a9dd5a-91cc-489a-e858-4a9cc81f7e87"
      },
      "execution_count": 7,
      "outputs": [
        {
          "output_type": "execute_result",
          "data": {
            "text/plain": [
              "['Benign', 'Malignant']"
            ]
          },
          "metadata": {},
          "execution_count": 7
        }
      ]
    },
    {
      "cell_type": "code",
      "source": [
        "\n",
        "from tensorflow.keras.preprocessing.image import ImageDataGenerator\n",
        "from tensorflow.keras.preprocessing.image import img_to_array\n",
        "from tensorflow.keras.preprocessing.image import load_img\n",
        "import numpy as np\n",
        "import random\n",
        "import math\n",
        "import csv\n",
        "import cv2\n",
        "import os"
      ],
      "metadata": {
        "id": "5ZcLeIhapXfH"
      },
      "execution_count": 8,
      "outputs": []
    },
    {
      "cell_type": "code",
      "source": [
        "image_width = 224\n",
        "image_height = 224\n",
        "classes = ['Benign', 'Malignant']\n",
        "datagen = ImageDataGenerator(\n",
        "    rescale=1.0/255,\n",
        "    rotation_range=40,\n",
        "    width_shift_range=0.2,\n",
        "    height_shift_range=0.2,\n",
        "    shear_range=0.2,\n",
        "    zoom_range=0.2,\n",
        "    horizontal_flip=True,\n",
        "    fill_mode='nearest'\n",
        ")\n",
        "\n",
        "# Resimleri yüklemek için flow_from_directory kullanın\n",
        "train_generator = datagen.flow_from_directory(\n",
        "    directory=\"/content/drive/MyDrive/Tez Dosyaları/birinci veriseti 2 classlı/Train\",\n",
        "    target_size=(image_width, image_height),\n",
        "    batch_size=32,\n",
        "    class_mode='categorical',\n",
        "    subset='training'\n",
        ")\n",
        "\n",
        "# Her sınıf için resimleri ayrı ayrı arttırın\n",
        "for cls in classes:\n",
        "    # Sınıfın resimlerini yüklemek için flow_from_directory kullanın\n",
        "    cls_generator = datagen.flow_from_directory(\n",
        "        directory=\"/content/drive/MyDrive/Tez Dosyaları/birinci veriseti 2 classlı/Train\",\n",
        "        target_size=(image_width, image_height),\n",
        "        batch_size=32,\n",
        "        class_mode='categorical',\n",
        "        subset='training',\n",
        "        classes=[cls]\n",
        "    )\n",
        "\n",
        "    # Resimleri arttırın ve kaydedin\n",
        "    i = 0\n",
        "    for batch in cls_generator:\n",
        "        images, labels = batch\n",
        "        for image in images:\n",
        "            # Resmi kaydetmek için imwrite kullanın\n",
        "            cv2.imwrite(os.path.join(\"/content/drive/MyDrive/Tez Dosyaları/birinci veriseti 2 classlı/Train\", cls, f\"augmented_{i}.jpg\"), image * 255)\n",
        "            i += 1\n",
        "            if i >= 3000:  # Maksimum resim sayısına ulaşıldığında döngüyü durdur\n",
        "                break\n",
        "        else:\n",
        "            continue\n",
        "        break"
      ],
      "metadata": {
        "colab": {
          "base_uri": "https://localhost:8080/"
        },
        "id": "PnPkrlO0pZyE",
        "outputId": "4dd1cf52-7cc7-4085-c41b-8a027018c4ee"
      },
      "execution_count": 9,
      "outputs": [
        {
          "output_type": "stream",
          "name": "stdout",
          "text": [
            "Found 1123 images belonging to 2 classes.\n",
            "Found 527 images belonging to 1 classes.\n",
            "Found 596 images belonging to 1 classes.\n"
          ]
        }
      ]
    },
    {
      "cell_type": "code",
      "source": [
        "\n",
        "# Load the augmented images for the malignant class\n",
        "augmented_images = os.listdir(\"/content/drive/MyDrive/Tez Dosyaları/birinci veriseti 2 classlı/Train/Malignant\")\n",
        "\n",
        "# Count the number of augmented images\n",
        "num_malignant_images = len(augmented_images)\n",
        "\n",
        "# Print the number of malignant images\n",
        "print(\"Number of malignant images:\", num_malignant_images)"
      ],
      "metadata": {
        "colab": {
          "base_uri": "https://localhost:8080/"
        },
        "id": "mcQHH8capsOF",
        "outputId": "2cb5bbfe-0377-47d1-9169-14fa52963764"
      },
      "execution_count": 10,
      "outputs": [
        {
          "output_type": "stream",
          "name": "stdout",
          "text": [
            "Number of malignant images: 3596\n"
          ]
        }
      ]
    },
    {
      "cell_type": "code",
      "source": [
        "augmented_images3 = os.listdir(\"/content/drive/MyDrive/Tez Dosyaları/birinci veriseti 2 classlı/Train/Benign\")\n",
        "\n",
        "# Count the number of augmented images\n",
        "num_benign_images = len(augmented_images3)\n",
        "\n",
        "# Print the number of malignant images\n",
        "print(\"Number of benign images:\", num_benign_images)"
      ],
      "metadata": {
        "colab": {
          "base_uri": "https://localhost:8080/"
        },
        "id": "I2xK1CadpxCX",
        "outputId": "d59749ef-adc6-438a-c924-2b5437b2fc5b"
      },
      "execution_count": 11,
      "outputs": [
        {
          "output_type": "stream",
          "name": "stdout",
          "text": [
            "Number of benign images: 3527\n"
          ]
        }
      ]
    },
    {
      "cell_type": "code",
      "source": [
        "import tensorflow as tf\n",
        "BATCH_SIZE = 32\n",
        "IMG_SIZE = (224, 224)\n",
        "train_data= tf.keras.preprocessing.image_dataset_from_directory(train_dir,\n",
        "                                                          label_mode=\"binary\",\n",
        "                                                          batch_size=BATCH_SIZE,\n",
        "                                                          image_size=IMG_SIZE)\n",
        "\n",
        "test_data = tf.keras.preprocessing.image_dataset_from_directory(test_dir,\n",
        "                                                          label_mode=\"binary\",\n",
        "                                                          batch_size=BATCH_SIZE,\n",
        "                                                          image_size=IMG_SIZE)"
      ],
      "metadata": {
        "colab": {
          "base_uri": "https://localhost:8080/"
        },
        "id": "Qy5s7nkMqJHL",
        "outputId": "4d25657a-45bb-4738-b565-99aea1954d15"
      },
      "execution_count": 15,
      "outputs": [
        {
          "output_type": "stream",
          "name": "stdout",
          "text": [
            "Found 7123 files belonging to 2 classes.\n",
            "Found 126 files belonging to 2 classes.\n"
          ]
        }
      ]
    },
    {
      "cell_type": "code",
      "source": [
        "\n",
        "# 1.  create base model with tf.keras.applications\n",
        "base_model = tf.keras.applications.VGG19(include_top=False)\n",
        "\n",
        "# 2. Freeze the base model\n",
        "base_model.trainable = False\n",
        "\n",
        "# 3. create inputs into our model\n",
        "inputs = tf.keras.layers.Input(shape=(224, 224, 3), name=\"input_layer\")\n",
        "\n",
        "# 4. if using ResNet50V2 you will need to normalize inputs\n",
        "# x = tf.keras.layers.experimental.preprocessing.Rescaling(1./255)(inputs)\n",
        "\n",
        "# 5. pass the inputs to the base_model\n",
        "x = base_model(inputs)\n",
        "print(f\"Shape after passing inputs through base model: {x.shape}\")\n",
        "\n",
        "# 6. average pool the outputs of the base model (aggregate all the most important information, reduce number of computations)\n",
        "x = tf.keras.layers.GlobalAveragePooling2D(name=\"global_average_pooling_layer\")(x)\n",
        "print(f\"Shape after GlobalAveragePooling2D: {x.shape}\")\n",
        "\n",
        "# 7. create the output activation layer\n",
        "outputs = tf.keras.layers.Dense(1, activation=\"sigmoid\", name=\"output_layer\")(x)\n",
        "model_0 = tf.keras.Model(inputs, outputs)\n",
        "\n",
        "# 8. compile the model\n",
        "model_0.compile(loss=\"binary_crossentropy\",\n",
        "                optimizer=tf.keras.optimizers.Adam(),\n",
        "                metrics=[\"accuracy\"])\n",
        "\n",
        "# 9. fit the model\n",
        "history_0 = model_0.fit(train_data,\n",
        "                        epochs=40,\n",
        "                        steps_per_epoch=len(train_data),\n",
        "                        validation_data=test_data,\n",
        "                        validation_steps=int(len(test_data)),\n",
        "                        callbacks=[create_tensorboard_callback(dir_name=\"transfer_learning\",\n",
        "                                                              experiment_name=\"10_percent_feature_extraction\")])\n",
        ""
      ],
      "metadata": {
        "colab": {
          "base_uri": "https://localhost:8080/"
        },
        "id": "OfQ9rZKCqPf2",
        "outputId": "290ee084-6a87-4bdf-d01e-92a94bd3c69f"
      },
      "execution_count": 45,
      "outputs": [
        {
          "output_type": "stream",
          "name": "stdout",
          "text": [
            "Downloading data from https://storage.googleapis.com/tensorflow/keras-applications/vgg19/vgg19_weights_tf_dim_ordering_tf_kernels_notop.h5\n",
            "80134624/80134624 [==============================] - 4s 0us/step\n",
            "Shape after passing inputs through base model: (None, 7, 7, 512)\n",
            "Shape after GlobalAveragePooling2D: (None, 512)\n",
            "Saving TensorBoard log files to: transfer_learning/10_percent_feature_extraction/20240724-093221\n",
            "Epoch 1/40\n",
            "223/223 [==============================] - 40s 172ms/step - loss: 0.8140 - accuracy: 0.5614 - val_loss: 0.6498 - val_accuracy: 0.6190\n",
            "Epoch 2/40\n",
            "223/223 [==============================] - 36s 160ms/step - loss: 0.6682 - accuracy: 0.6341 - val_loss: 0.6224 - val_accuracy: 0.6587\n",
            "Epoch 3/40\n",
            "223/223 [==============================] - 38s 166ms/step - loss: 0.6304 - accuracy: 0.6569 - val_loss: 0.6179 - val_accuracy: 0.6587\n",
            "Epoch 4/40\n",
            "223/223 [==============================] - 37s 164ms/step - loss: 0.6077 - accuracy: 0.6683 - val_loss: 0.6502 - val_accuracy: 0.6349\n",
            "Epoch 5/40\n",
            "223/223 [==============================] - 37s 164ms/step - loss: 0.5923 - accuracy: 0.6851 - val_loss: 0.6182 - val_accuracy: 0.6429\n",
            "Epoch 6/40\n",
            "223/223 [==============================] - 37s 165ms/step - loss: 0.5847 - accuracy: 0.6874 - val_loss: 0.6318 - val_accuracy: 0.6508\n",
            "Epoch 7/40\n",
            "223/223 [==============================] - 37s 165ms/step - loss: 0.5770 - accuracy: 0.6945 - val_loss: 0.6225 - val_accuracy: 0.6429\n",
            "Epoch 8/40\n",
            "223/223 [==============================] - 37s 164ms/step - loss: 0.5668 - accuracy: 0.6980 - val_loss: 0.6303 - val_accuracy: 0.6508\n",
            "Epoch 9/40\n",
            "223/223 [==============================] - 37s 165ms/step - loss: 0.5639 - accuracy: 0.7036 - val_loss: 0.6711 - val_accuracy: 0.6587\n",
            "Epoch 10/40\n",
            "223/223 [==============================] - 37s 165ms/step - loss: 0.5625 - accuracy: 0.7003 - val_loss: 0.6276 - val_accuracy: 0.6587\n",
            "Epoch 11/40\n",
            "223/223 [==============================] - 37s 165ms/step - loss: 0.5569 - accuracy: 0.7069 - val_loss: 0.6290 - val_accuracy: 0.6667\n",
            "Epoch 12/40\n",
            "223/223 [==============================] - 37s 164ms/step - loss: 0.5572 - accuracy: 0.7101 - val_loss: 0.6311 - val_accuracy: 0.6746\n",
            "Epoch 13/40\n",
            "223/223 [==============================] - 37s 164ms/step - loss: 0.5513 - accuracy: 0.7132 - val_loss: 0.6285 - val_accuracy: 0.6746\n",
            "Epoch 14/40\n",
            "223/223 [==============================] - 37s 164ms/step - loss: 0.5501 - accuracy: 0.7121 - val_loss: 0.6343 - val_accuracy: 0.6667\n",
            "Epoch 15/40\n",
            "223/223 [==============================] - 37s 164ms/step - loss: 0.5469 - accuracy: 0.7189 - val_loss: 0.6455 - val_accuracy: 0.6349\n",
            "Epoch 16/40\n",
            "223/223 [==============================] - 37s 165ms/step - loss: 0.5432 - accuracy: 0.7182 - val_loss: 0.6592 - val_accuracy: 0.6349\n",
            "Epoch 17/40\n",
            "223/223 [==============================] - 37s 164ms/step - loss: 0.5429 - accuracy: 0.7178 - val_loss: 0.6418 - val_accuracy: 0.6587\n",
            "Epoch 18/40\n",
            "223/223 [==============================] - 37s 164ms/step - loss: 0.5403 - accuracy: 0.7216 - val_loss: 0.6413 - val_accuracy: 0.6667\n",
            "Epoch 19/40\n",
            "223/223 [==============================] - 38s 165ms/step - loss: 0.5467 - accuracy: 0.7142 - val_loss: 0.6534 - val_accuracy: 0.6587\n",
            "Epoch 20/40\n",
            "223/223 [==============================] - 37s 164ms/step - loss: 0.5421 - accuracy: 0.7217 - val_loss: 0.6448 - val_accuracy: 0.6746\n",
            "Epoch 21/40\n",
            "223/223 [==============================] - 37s 164ms/step - loss: 0.5400 - accuracy: 0.7234 - val_loss: 0.6588 - val_accuracy: 0.6349\n",
            "Epoch 22/40\n",
            "223/223 [==============================] - 37s 164ms/step - loss: 0.5406 - accuracy: 0.7173 - val_loss: 0.6424 - val_accuracy: 0.6587\n",
            "Epoch 23/40\n",
            "223/223 [==============================] - 37s 164ms/step - loss: 0.5409 - accuracy: 0.7251 - val_loss: 0.6445 - val_accuracy: 0.6825\n",
            "Epoch 24/40\n",
            "223/223 [==============================] - 37s 165ms/step - loss: 0.5397 - accuracy: 0.7220 - val_loss: 0.6448 - val_accuracy: 0.6825\n",
            "Epoch 25/40\n",
            "223/223 [==============================] - 37s 165ms/step - loss: 0.5438 - accuracy: 0.7171 - val_loss: 0.6792 - val_accuracy: 0.6190\n",
            "Epoch 26/40\n",
            "223/223 [==============================] - 37s 165ms/step - loss: 0.5403 - accuracy: 0.7233 - val_loss: 0.6505 - val_accuracy: 0.6587\n",
            "Epoch 27/40\n",
            "223/223 [==============================] - 37s 165ms/step - loss: 0.5427 - accuracy: 0.7227 - val_loss: 0.6505 - val_accuracy: 0.6746\n",
            "Epoch 28/40\n",
            "223/223 [==============================] - 37s 165ms/step - loss: 0.5377 - accuracy: 0.7254 - val_loss: 0.6494 - val_accuracy: 0.6667\n",
            "Epoch 29/40\n",
            "223/223 [==============================] - 37s 164ms/step - loss: 0.5438 - accuracy: 0.7216 - val_loss: 0.6778 - val_accuracy: 0.6508\n",
            "Epoch 30/40\n",
            "223/223 [==============================] - 37s 165ms/step - loss: 0.5359 - accuracy: 0.7237 - val_loss: 0.6499 - val_accuracy: 0.6667\n",
            "Epoch 31/40\n",
            "223/223 [==============================] - 37s 164ms/step - loss: 0.5399 - accuracy: 0.7236 - val_loss: 0.6740 - val_accuracy: 0.6587\n",
            "Epoch 32/40\n",
            "223/223 [==============================] - 37s 164ms/step - loss: 0.5404 - accuracy: 0.7246 - val_loss: 0.6701 - val_accuracy: 0.6746\n",
            "Epoch 33/40\n",
            "223/223 [==============================] - 37s 164ms/step - loss: 0.5395 - accuracy: 0.7205 - val_loss: 0.6530 - val_accuracy: 0.6508\n",
            "Epoch 34/40\n",
            "223/223 [==============================] - 37s 165ms/step - loss: 0.5331 - accuracy: 0.7282 - val_loss: 0.6891 - val_accuracy: 0.6429\n",
            "Epoch 35/40\n",
            "223/223 [==============================] - 37s 164ms/step - loss: 0.5342 - accuracy: 0.7254 - val_loss: 0.6551 - val_accuracy: 0.6587\n",
            "Epoch 36/40\n",
            "223/223 [==============================] - 37s 165ms/step - loss: 0.5341 - accuracy: 0.7265 - val_loss: 0.6668 - val_accuracy: 0.6587\n",
            "Epoch 37/40\n",
            "223/223 [==============================] - 38s 165ms/step - loss: 0.5397 - accuracy: 0.7208 - val_loss: 0.6583 - val_accuracy: 0.6667\n",
            "Epoch 38/40\n",
            "223/223 [==============================] - 37s 165ms/step - loss: 0.5337 - accuracy: 0.7229 - val_loss: 0.6933 - val_accuracy: 0.6508\n",
            "Epoch 39/40\n",
            "223/223 [==============================] - 37s 165ms/step - loss: 0.5388 - accuracy: 0.7205 - val_loss: 0.6573 - val_accuracy: 0.6587\n",
            "Epoch 40/40\n",
            "223/223 [==============================] - 37s 165ms/step - loss: 0.5370 - accuracy: 0.7247 - val_loss: 0.6594 - val_accuracy: 0.6667\n"
          ]
        }
      ]
    },
    {
      "cell_type": "code",
      "source": [
        "import matplotlib.pyplot as plt\n",
        "\n",
        "def plot_loss_curves(history):\n",
        "  \"\"\"\n",
        "  Returns separate loss curves for training and validation metrics.\n",
        "  Args:\n",
        "    history: TensorFlow History object.\n",
        "\n",
        "    Returns:\n",
        "    Plots of training/validation loss and accuracy metrics.\n",
        "  \"\"\"\n",
        "  loss = history.history['loss']\n",
        "  val_loss = history.history['val_loss']\n",
        "\n",
        "  accuracy = history.history['accuracy']\n",
        "  val_accuracy = history.history['val_accuracy']\n",
        "\n",
        "  epochs = range(len(history.history['loss']))\n",
        "\n",
        "  #Plot loss\n",
        "\n",
        "  plt.plot(epochs, loss, label='training_loss')\n",
        "  plt.plot(epochs, val_loss, label='val_loss')\n",
        "  plt.title('Loss')\n",
        "  plt.xlabel('Epochs')\n",
        "  plt.legend()\n",
        "\n",
        "  #Plot accuracy\n",
        "  plt.figure()\n",
        "  plt.plot(epochs, accuracy, label='training_accuracy')\n",
        "  plt.plot(epochs, val_accuracy, label='val_accuracy')\n",
        "  plt.title('Accuracy')\n",
        "  plt.xlabel('Epochs')\n",
        "  plt.legend();\n",
        "\n",
        "plot_loss_curves(history_0)"
      ],
      "metadata": {
        "colab": {
          "base_uri": "https://localhost:8080/",
          "height": 927
        },
        "id": "tte_JyETrL4t",
        "outputId": "3d5ff335-457c-4b8b-9350-4e81dc914529"
      },
      "execution_count": 46,
      "outputs": [
        {
          "output_type": "display_data",
          "data": {
            "text/plain": [
              "<Figure size 640x480 with 1 Axes>"
            ],
            "image/png": "[encoded data removed]"
          },
          "metadata": {}
        },
        {
          "output_type": "display_data",
          "data": {
            "text/plain": [
              "<Figure size 640x480 with 1 Axes>"
            ],
            "image/png": "[encoded data removed]"
          },
          "metadata": {}
        }
      ]
    },
    {
      "cell_type": "code",
      "source": [
        "results_feature_extraction = model_0.evaluate(test_data)\n",
        "results_feature_extraction"
      ],
      "metadata": {
        "colab": {
          "base_uri": "https://localhost:8080/"
        },
        "id": "_DMYml8RrvDL",
        "outputId": "19e7f3ef-3e6e-473c-f81a-ae9d20196ab4"
      },
      "execution_count": 47,
      "outputs": [
        {
          "output_type": "stream",
          "name": "stdout",
          "text": [
            "4/4 [==============================] - 1s 156ms/step - loss: 0.6594 - accuracy: 0.6667\n"
          ]
        },
        {
          "output_type": "execute_result",
          "data": {
            "text/plain": [
              "[0.6593539118766785, 0.6666666865348816]"
            ]
          },
          "metadata": {},
          "execution_count": 47
        }
      ]
    },
    {
      "cell_type": "code",
      "source": [
        "# Get the predicted probabilities for the test set\n",
        "y_pred_probs = model_0.predict(test_data)\n",
        "\n",
        "# Convert probabilities to binary predictions (0 or 1)\n",
        "y_pred = (y_pred_probs > 0.5).astype(int)\n",
        "\n",
        "# Get the true labels for the test set\n",
        "y_true = np.concatenate([y for x, y in test_data], axis=0)\n",
        "\n",
        "# Calculate precision\n",
        "from sklearn.metrics import precision_score\n",
        "precision = precision_score(y_true, y_pred)\n",
        "print(\"Precision:\", precision)"
      ],
      "metadata": {
        "colab": {
          "base_uri": "https://localhost:8080/"
        },
        "id": "k2ezfPwarykg",
        "outputId": "fc358cde-fb05-4166-e42d-6d8831a3a18c"
      },
      "execution_count": 48,
      "outputs": [
        {
          "output_type": "stream",
          "name": "stdout",
          "text": [
            "4/4 [==============================] - 1s 154ms/step\n",
            "Precision: 0.5147058823529411\n"
          ]
        }
      ]
    },
    {
      "cell_type": "code",
      "source": [
        "from sklearn.metrics import recall_score\n",
        "\n",
        "# Calculate recall\n",
        "recall = recall_score(y_true, y_pred)\n",
        "print(\"Recall:\", recall)"
      ],
      "metadata": {
        "colab": {
          "base_uri": "https://localhost:8080/"
        },
        "id": "MKfH1rukr0mL",
        "outputId": "98d3f146-a1e8-4582-ea45-155965670e54"
      },
      "execution_count": 49,
      "outputs": [
        {
          "output_type": "stream",
          "name": "stdout",
          "text": [
            "Recall: 0.5303030303030303\n"
          ]
        }
      ]
    },
    {
      "cell_type": "code",
      "source": [
        "\n",
        "\n",
        "from sklearn.metrics import f1_score\n",
        "# Calculate F1-score\n",
        "f1 = f1_score(y_true, y_pred)\n",
        "print(\"F1-score:\", f1)"
      ],
      "metadata": {
        "colab": {
          "base_uri": "https://localhost:8080/"
        },
        "id": "26rnMe33r2LC",
        "outputId": "cd4a1c12-a6fd-44b1-bf28-90884e291742"
      },
      "execution_count": 50,
      "outputs": [
        {
          "output_type": "stream",
          "name": "stdout",
          "text": [
            "F1-score: 0.5223880597014925\n"
          ]
        }
      ]
    },
    {
      "cell_type": "code",
      "source": [
        "\n",
        "\n",
        "# Eğitim doğruluğunu elde etmek için history_0 nesnesini kullanın\n",
        "train_accuracy = history_0.history['accuracy']\n",
        "\n",
        "# Son epoch'un eğitim doğruluğunu yazdırın\n",
        "print(\"Eğitim doğruluğu:\", train_accuracy[-1])\n"
      ],
      "metadata": {
        "colab": {
          "base_uri": "https://localhost:8080/"
        },
        "id": "LExpMqkfr37k",
        "outputId": "d68fad44-2064-46ca-e8b5-4938fc9c21d9"
      },
      "execution_count": 51,
      "outputs": [
        {
          "output_type": "stream",
          "name": "stdout",
          "text": [
            "Eğitim doğruluğu: 0.7246946692466736\n"
          ]
        }
      ]
    },
    {
      "cell_type": "code",
      "source": [],
      "metadata": {
        "id": "08VAWlOuvm_N"
      },
      "execution_count": 51,
      "outputs": []
    }
  ]
}