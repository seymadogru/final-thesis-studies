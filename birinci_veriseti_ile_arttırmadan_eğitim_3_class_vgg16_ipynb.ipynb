{
  "nbformat": 4,
  "nbformat_minor": 0,
  "metadata": {
    "colab": {
      "provenance": [],
      "machine_shape": "hm",
      "gpuType": "T4"
    },
    "kernelspec": {
      "name": "python3",
      "display_name": "Python 3"
    },
    "language_info": {
      "name": "python"
    },
    "accelerator": "GPU"
  },
  "cells": [
    {
      "cell_type": "code",
      "execution_count": 2,
      "metadata": {
        "id": "1I7quSlQx20r"
      },
      "outputs": [],
      "source": [
        "from keras.preprocessing.image import ImageDataGenerator, array_to_img, img_to_array, load_img\n",
        "from keras.models import Sequential\n",
        "from keras.layers import Conv2D, MaxPooling2D, Dense\n",
        "from keras.applications.vgg16 import VGG16\n",
        "import numpy as np\n",
        "import os\n",
        "import matplotlib.pyplot as plt\n",
        "from glob import glob\n",
        "import cv2"
      ]
    },
    {
      "cell_type": "code",
      "source": [
        "train_dir = \"/content/drive/MyDrive/Tez Dosyaları/birinci veriseti 3 classlı/Train\"\n",
        "test_dir = \"/content/drive/MyDrive/Tez Dosyaları/birinci veriseti 3 classlı/Test\""
      ],
      "metadata": {
        "id": "sbZRrdmWyEHI"
      },
      "execution_count": 3,
      "outputs": []
    },
    {
      "cell_type": "code",
      "source": [
        "from google.colab import drive\n",
        "drive.mount('/content/drive')"
      ],
      "metadata": {
        "colab": {
          "base_uri": "https://localhost:8080/"
        },
        "id": "nhYnPI1WyXaL",
        "outputId": "e834b6a4-dd23-421e-967b-d4dbfa00d801"
      },
      "execution_count": 1,
      "outputs": [
        {
          "output_type": "stream",
          "name": "stdout",
          "text": [
            "Mounted at /content/drive\n"
          ]
        }
      ]
    },
    {
      "cell_type": "code",
      "source": [
        "numberOfClass = len(glob(train_dir + \"/*\"))"
      ],
      "metadata": {
        "id": "5plwJrjHyclX"
      },
      "execution_count": 4,
      "outputs": []
    },
    {
      "cell_type": "code",
      "source": [
        "import tensorflow as tf"
      ],
      "metadata": {
        "id": "6R9j9Coeynd-"
      },
      "execution_count": 6,
      "outputs": []
    },
    {
      "cell_type": "code",
      "source": [
        "!wget https://raw.githubusercontent.com/mrdbourke/tensorflow-deep-learning/main/extras/helper_functions.py\n",
        ""
      ],
      "metadata": {
        "colab": {
          "base_uri": "https://localhost:8080/"
        },
        "id": "38lmM2wIysmm",
        "outputId": "fef0ef0e-81d0-409d-b84c-0a7d67488373"
      },
      "execution_count": 7,
      "outputs": [
        {
          "output_type": "stream",
          "name": "stdout",
          "text": [
            "--2024-07-23 13:32:18--  https://raw.githubusercontent.com/mrdbourke/tensorflow-deep-learning/main/extras/helper_functions.py\n",
            "Resolving raw.githubusercontent.com (raw.githubusercontent.com)... 185.199.109.133, 185.199.110.133, 185.199.111.133, ...\n",
            "Connecting to raw.githubusercontent.com (raw.githubusercontent.com)|185.199.109.133|:443... connected.\n",
            "HTTP request sent, awaiting response... 200 OK\n",
            "Length: 10246 (10K) [text/plain]\n",
            "Saving to: ‘helper_functions.py’\n",
            "\n",
            "\rhelper_functions.py   0%[                    ]       0  --.-KB/s               \rhelper_functions.py 100%[===================>]  10.01K  --.-KB/s    in 0s      \n",
            "\n",
            "2024-07-23 13:32:19 (138 MB/s) - ‘helper_functions.py’ saved [10246/10246]\n",
            "\n"
          ]
        }
      ]
    },
    {
      "cell_type": "code",
      "source": [
        "from helper_functions import create_tensorboard_callback, plot_loss_curves, unzip_data, walk_through_dir\n",
        ""
      ],
      "metadata": {
        "id": "LghzOoCMyvBu"
      },
      "execution_count": 8,
      "outputs": []
    },
    {
      "cell_type": "code",
      "source": [
        "import os\n",
        "\n",
        "for dirpath, dirnames, filenames in os.walk(\"/content/drive/MyDrive/Tez Dosyaları/birinci veriseti 3 classlı\"):\n",
        "  print(f\"There are {len(dirnames)} directories and {len(filenames)} images in '{dirpath}'.\")\n"
      ],
      "metadata": {
        "colab": {
          "base_uri": "https://localhost:8080/"
        },
        "id": "fZ0q2lz-ywjP",
        "outputId": "b3b1359d-ed35-4851-9007-4c0b29d02d51"
      },
      "execution_count": 9,
      "outputs": [
        {
          "output_type": "stream",
          "name": "stdout",
          "text": [
            "There are 2 directories and 0 images in '/content/drive/MyDrive/Tez Dosyaları/birinci veriseti 3 classlı'.\n",
            "There are 3 directories and 0 images in '/content/drive/MyDrive/Tez Dosyaları/birinci veriseti 3 classlı/Train'.\n",
            "There are 0 directories and 680 images in '/content/drive/MyDrive/Tez Dosyaları/birinci veriseti 3 classlı/Train/Normal'.\n",
            "There are 0 directories and 596 images in '/content/drive/MyDrive/Tez Dosyaları/birinci veriseti 3 classlı/Train/Malignant'.\n",
            "There are 0 directories and 527 images in '/content/drive/MyDrive/Tez Dosyaları/birinci veriseti 3 classlı/Train/Benign'.\n",
            "There are 3 directories and 0 images in '/content/drive/MyDrive/Tez Dosyaları/birinci veriseti 3 classlı/Test'.\n",
            "There are 0 directories and 60 images in '/content/drive/MyDrive/Tez Dosyaları/birinci veriseti 3 classlı/Test/Benign'.\n",
            "There are 0 directories and 66 images in '/content/drive/MyDrive/Tez Dosyaları/birinci veriseti 3 classlı/Test/Malignant'.\n",
            "There are 0 directories and 77 images in '/content/drive/MyDrive/Tez Dosyaları/birinci veriseti 3 classlı/Test/Normal'.\n"
          ]
        }
      ]
    },
    {
      "cell_type": "code",
      "source": [
        "import tensorflow as tf\n",
        "BATCH_SIZE = 32\n",
        "IMG_SIZE = (224, 224)\n",
        "train_data= tf.keras.preprocessing.image_dataset_from_directory(train_dir,\n",
        "                                                          label_mode= \"categorical\",\n",
        "                                                          batch_size=BATCH_SIZE,\n",
        "                                                          image_size=IMG_SIZE)\n",
        "\n",
        "test_data = tf.keras.preprocessing.image_dataset_from_directory(test_dir,\n",
        "                                                          label_mode=\"categorical\",\n",
        "                                                          batch_size=BATCH_SIZE,\n",
        "                                                          image_size=IMG_SIZE)"
      ],
      "metadata": {
        "colab": {
          "base_uri": "https://localhost:8080/"
        },
        "id": "jszK3ocLy11e",
        "outputId": "84ea0703-028a-4581-f268-c22a8c8adc6e"
      },
      "execution_count": 10,
      "outputs": [
        {
          "output_type": "stream",
          "name": "stdout",
          "text": [
            "Found 1803 files belonging to 3 classes.\n",
            "Found 203 files belonging to 3 classes.\n"
          ]
        }
      ]
    },
    {
      "cell_type": "code",
      "source": [
        "train_data.class_names"
      ],
      "metadata": {
        "colab": {
          "base_uri": "https://localhost:8080/"
        },
        "id": "9bChB64Hy3v2",
        "outputId": "9178cfee-196d-4593-941a-57f4ed501ee9"
      },
      "execution_count": 11,
      "outputs": [
        {
          "output_type": "execute_result",
          "data": {
            "text/plain": [
              "['Benign', 'Malignant', 'Normal']"
            ]
          },
          "metadata": {},
          "execution_count": 11
        }
      ]
    },
    {
      "cell_type": "code",
      "source": [
        "from tensorflow.keras.preprocessing.image import ImageDataGenerator\n",
        "from tensorflow.keras.preprocessing.image import img_to_array\n",
        "from tensorflow.keras.preprocessing.image import load_img\n",
        "import numpy as np\n",
        "import random\n",
        "import math\n",
        "import csv\n",
        "import cv2\n",
        "import os"
      ],
      "metadata": {
        "id": "OjpNLENDy5HW"
      },
      "execution_count": 12,
      "outputs": []
    },
    {
      "cell_type": "code",
      "source": [
        "import tensorflow as tf\n",
        "\n",
        "# 1. create base model with tf.keras.applications\n",
        "base_model = tf.keras.applications.VGG16(include_top=False)\n",
        "\n",
        "# 2. Freeze the base model\n",
        "base_model.trainable = False\n",
        "\n",
        "# 3. create inputs into our model\n",
        "inputs = tf.keras.layers.Input(shape=(224, 224, 3), name=\"input_layer\")\n",
        "\n",
        "# 4. if using ResNet50V2 you will need to normalize inputs\n",
        "# x = tf.keras.layers.experimental.preprocessing.Rescaling(1./255)(inputs)\n",
        "\n",
        "# 5. pass the inputs to the base_model\n",
        "x = base_model(inputs)\n",
        "print(f\"Shape after passing inputs through base model: {x.shape}\")\n",
        "\n",
        "# 6. average pool the outputs of the base model (aggregate all the most important information, reduce number of computations)\n",
        "x = tf.keras.layers.GlobalAveragePooling2D(name=\"global_average_pooling_layer\")(x)\n",
        "print(f\"Shape after GlobalAveragePooling2D: {x.shape}\")\n",
        "\n",
        "# 7. create the output activation layer for 3 classes\n",
        "outputs = tf.keras.layers.Dense(3, activation=\"softmax\", name=\"output_layer\")(x)\n",
        "model_0 = tf.keras.Model(inputs, outputs)\n",
        "\n",
        "# 8. compile the model for 3 classes\n",
        "model_0.compile(loss=\"categorical_crossentropy\",\n",
        "                optimizer=tf.keras.optimizers.Adam(),\n",
        "                metrics=[\"accuracy\"])\n",
        "\n",
        "# Assuming you have already prepared your train_data and test_data\n",
        "# Make sure that train_data and test_data are prepared with class_mode='categorical'\n",
        "\n",
        "# 9. fit the model\n",
        "history_0 = model_0.fit(train_data,\n",
        "                        epochs=40,\n",
        "                        steps_per_epoch=len(train_data),\n",
        "                        validation_data=test_data,\n",
        "                        validation_steps=int(len(test_data)),\n",
        "                        callbacks=[create_tensorboard_callback(dir_name=\"transfer_learning\",\n",
        "                                                               experiment_name=\"3_class_feature_extraction\")])\n"
      ],
      "metadata": {
        "colab": {
          "base_uri": "https://localhost:8080/"
        },
        "id": "G4awnyM-y6UG",
        "outputId": "528b4f51-065a-415c-9ad6-3c42482dd218"
      },
      "execution_count": 13,
      "outputs": [
        {
          "output_type": "stream",
          "name": "stdout",
          "text": [
            "Downloading data from https://storage.googleapis.com/tensorflow/keras-applications/vgg16/vgg16_weights_tf_dim_ordering_tf_kernels_notop.h5\n",
            "58889256/58889256 [==============================] - 0s 0us/step\n",
            "Shape after passing inputs through base model: (None, 7, 7, 512)\n",
            "Shape after GlobalAveragePooling2D: (None, 512)\n",
            "Saving TensorBoard log files to: transfer_learning/3_class_feature_extraction/20240723-133325\n",
            "Epoch 1/40\n",
            "57/57 [==============================] - 119s 2s/step - loss: 1.7681 - accuracy: 0.3333 - val_loss: 1.2562 - val_accuracy: 0.4335\n",
            "Epoch 2/40\n",
            "57/57 [==============================] - 12s 186ms/step - loss: 1.3275 - accuracy: 0.4276 - val_loss: 1.1112 - val_accuracy: 0.4680\n",
            "Epoch 3/40\n",
            "57/57 [==============================] - 12s 183ms/step - loss: 1.2056 - accuracy: 0.4725 - val_loss: 1.1556 - val_accuracy: 0.4975\n",
            "Epoch 4/40\n",
            "57/57 [==============================] - 12s 184ms/step - loss: 1.1194 - accuracy: 0.5019 - val_loss: 1.1898 - val_accuracy: 0.5025\n",
            "Epoch 5/40\n",
            "57/57 [==============================] - 12s 189ms/step - loss: 1.0413 - accuracy: 0.5275 - val_loss: 1.0937 - val_accuracy: 0.5123\n",
            "Epoch 6/40\n",
            "57/57 [==============================] - 12s 180ms/step - loss: 0.9932 - accuracy: 0.5408 - val_loss: 1.0698 - val_accuracy: 0.5271\n",
            "Epoch 7/40\n",
            "57/57 [==============================] - 12s 184ms/step - loss: 0.9428 - accuracy: 0.5729 - val_loss: 1.1078 - val_accuracy: 0.4778\n",
            "Epoch 8/40\n",
            "57/57 [==============================] - 12s 186ms/step - loss: 0.9045 - accuracy: 0.5779 - val_loss: 1.1150 - val_accuracy: 0.5222\n",
            "Epoch 9/40\n",
            "57/57 [==============================] - 12s 194ms/step - loss: 0.8857 - accuracy: 0.5840 - val_loss: 1.0760 - val_accuracy: 0.5074\n",
            "Epoch 10/40\n",
            "57/57 [==============================] - 13s 197ms/step - loss: 0.8741 - accuracy: 0.5912 - val_loss: 1.1101 - val_accuracy: 0.5271\n",
            "Epoch 11/40\n",
            "57/57 [==============================] - 12s 194ms/step - loss: 0.8505 - accuracy: 0.6073 - val_loss: 1.1012 - val_accuracy: 0.5369\n",
            "Epoch 12/40\n",
            "57/57 [==============================] - 13s 199ms/step - loss: 0.8172 - accuracy: 0.6195 - val_loss: 1.0729 - val_accuracy: 0.5517\n",
            "Epoch 13/40\n",
            "57/57 [==============================] - 13s 197ms/step - loss: 0.8261 - accuracy: 0.6151 - val_loss: 1.1048 - val_accuracy: 0.5517\n",
            "Epoch 14/40\n",
            "57/57 [==============================] - 12s 192ms/step - loss: 0.8008 - accuracy: 0.6351 - val_loss: 1.1591 - val_accuracy: 0.4680\n",
            "Epoch 15/40\n",
            "57/57 [==============================] - 12s 193ms/step - loss: 0.7836 - accuracy: 0.6450 - val_loss: 1.1439 - val_accuracy: 0.5025\n",
            "Epoch 16/40\n",
            "57/57 [==============================] - 12s 190ms/step - loss: 0.7763 - accuracy: 0.6378 - val_loss: 1.1485 - val_accuracy: 0.5320\n",
            "Epoch 17/40\n",
            "57/57 [==============================] - 12s 188ms/step - loss: 0.7664 - accuracy: 0.6423 - val_loss: 1.1390 - val_accuracy: 0.5271\n",
            "Epoch 18/40\n",
            "57/57 [==============================] - 12s 188ms/step - loss: 0.7608 - accuracy: 0.6572 - val_loss: 1.1080 - val_accuracy: 0.5419\n",
            "Epoch 19/40\n",
            "57/57 [==============================] - 12s 186ms/step - loss: 0.7523 - accuracy: 0.6600 - val_loss: 1.1337 - val_accuracy: 0.5517\n",
            "Epoch 20/40\n",
            "57/57 [==============================] - 12s 189ms/step - loss: 0.7385 - accuracy: 0.6561 - val_loss: 1.1644 - val_accuracy: 0.4926\n",
            "Epoch 21/40\n",
            "57/57 [==============================] - 12s 188ms/step - loss: 0.7301 - accuracy: 0.6717 - val_loss: 1.1302 - val_accuracy: 0.5320\n",
            "Epoch 22/40\n",
            "57/57 [==============================] - 12s 186ms/step - loss: 0.7342 - accuracy: 0.6583 - val_loss: 1.1834 - val_accuracy: 0.5271\n",
            "Epoch 23/40\n",
            "57/57 [==============================] - 12s 184ms/step - loss: 0.7236 - accuracy: 0.6816 - val_loss: 1.1760 - val_accuracy: 0.5074\n",
            "Epoch 24/40\n",
            "57/57 [==============================] - 12s 191ms/step - loss: 0.7164 - accuracy: 0.6739 - val_loss: 1.1799 - val_accuracy: 0.4975\n",
            "Epoch 25/40\n",
            "57/57 [==============================] - 12s 188ms/step - loss: 0.6945 - accuracy: 0.6872 - val_loss: 1.1757 - val_accuracy: 0.5074\n",
            "Epoch 26/40\n",
            "57/57 [==============================] - 12s 188ms/step - loss: 0.6976 - accuracy: 0.6855 - val_loss: 1.1978 - val_accuracy: 0.4926\n",
            "Epoch 27/40\n",
            "57/57 [==============================] - 12s 188ms/step - loss: 0.6899 - accuracy: 0.6922 - val_loss: 1.2074 - val_accuracy: 0.5123\n",
            "Epoch 28/40\n",
            "57/57 [==============================] - 12s 187ms/step - loss: 0.6835 - accuracy: 0.6927 - val_loss: 1.2308 - val_accuracy: 0.4975\n",
            "Epoch 29/40\n",
            "57/57 [==============================] - 12s 189ms/step - loss: 0.6905 - accuracy: 0.6900 - val_loss: 1.2689 - val_accuracy: 0.4975\n",
            "Epoch 30/40\n",
            "57/57 [==============================] - 12s 189ms/step - loss: 0.7010 - accuracy: 0.6883 - val_loss: 1.2236 - val_accuracy: 0.4975\n",
            "Epoch 31/40\n",
            "57/57 [==============================] - 12s 188ms/step - loss: 0.6701 - accuracy: 0.7121 - val_loss: 1.2224 - val_accuracy: 0.5025\n",
            "Epoch 32/40\n",
            "57/57 [==============================] - 12s 185ms/step - loss: 0.6617 - accuracy: 0.7083 - val_loss: 1.2505 - val_accuracy: 0.5074\n",
            "Epoch 33/40\n",
            "57/57 [==============================] - 12s 180ms/step - loss: 0.6626 - accuracy: 0.7116 - val_loss: 1.2546 - val_accuracy: 0.4926\n",
            "Epoch 34/40\n",
            "57/57 [==============================] - 11s 178ms/step - loss: 0.6671 - accuracy: 0.7027 - val_loss: 1.2395 - val_accuracy: 0.4926\n",
            "Epoch 35/40\n",
            "57/57 [==============================] - 12s 179ms/step - loss: 0.6608 - accuracy: 0.7016 - val_loss: 1.2650 - val_accuracy: 0.5074\n",
            "Epoch 36/40\n",
            "57/57 [==============================] - 12s 178ms/step - loss: 0.6588 - accuracy: 0.7066 - val_loss: 1.2709 - val_accuracy: 0.4877\n",
            "Epoch 37/40\n",
            "57/57 [==============================] - 12s 182ms/step - loss: 0.6493 - accuracy: 0.7116 - val_loss: 1.2615 - val_accuracy: 0.4926\n",
            "Epoch 38/40\n",
            "57/57 [==============================] - 12s 189ms/step - loss: 0.6513 - accuracy: 0.7160 - val_loss: 1.2687 - val_accuracy: 0.4975\n",
            "Epoch 39/40\n",
            "57/57 [==============================] - 12s 189ms/step - loss: 0.6433 - accuracy: 0.7238 - val_loss: 1.2889 - val_accuracy: 0.4926\n",
            "Epoch 40/40\n",
            "57/57 [==============================] - 12s 185ms/step - loss: 0.6456 - accuracy: 0.7144 - val_loss: 1.2906 - val_accuracy: 0.4828\n"
          ]
        }
      ]
    },
    {
      "cell_type": "code",
      "source": [
        "\n",
        "# Evaluate the model on the test data\n",
        "results_feature_extraction = model_0.evaluate(test_data)\n",
        "results_feature_extraction"
      ],
      "metadata": {
        "colab": {
          "base_uri": "https://localhost:8080/"
        },
        "id": "hADnfljTy_E1",
        "outputId": "2c88f1ba-47a8-4113-c896-cb6bb46d35cc"
      },
      "execution_count": 14,
      "outputs": [
        {
          "output_type": "stream",
          "name": "stdout",
          "text": [
            "7/7 [==============================] - 2s 112ms/step - loss: 1.2906 - accuracy: 0.4828\n"
          ]
        },
        {
          "output_type": "execute_result",
          "data": {
            "text/plain": [
              "[1.2905908823013306, 0.48275861144065857]"
            ]
          },
          "metadata": {},
          "execution_count": 14
        }
      ]
    },
    {
      "cell_type": "code",
      "source": [
        "\n",
        "plot_loss_curves(history_0)\n"
      ],
      "metadata": {
        "colab": {
          "base_uri": "https://localhost:8080/",
          "height": 927
        },
        "id": "VXIU3sHEzMRN",
        "outputId": "58bdb777-b71a-45a3-8fd3-a4d2b45d18aa"
      },
      "execution_count": 15,
      "outputs": [
        {
          "output_type": "display_data",
          "data": {
            "text/plain": [
              "<Figure size 640x480 with 1 Axes>"
            ],
            "image/png": "[encoded data removed]"
          },
          "metadata": {}
        },
        {
          "output_type": "display_data",
          "data": {
            "text/plain": [
              "<Figure size 640x480 with 1 Axes>"
            ],
            "image/png": "[encoded data removed]"
          },
          "metadata": {}
        }
      ]
    },
    {
      "cell_type": "code",
      "source": [
        "from sklearn.metrics import classification_report\n",
        "\n",
        "# Assuming you have true labels for your test data stored in y_true\n",
        "# and predictions from your model stored in y_pred\n",
        "\n",
        "# Convert categorical predictions to class labels\n",
        "y_pred_labels = np.argmax(model_0.predict(test_data), axis=1)\n",
        "\n",
        "# Get true labels from the test dataset\n",
        "y_true_labels = np.concatenate([y for x, y in test_data], axis=0)\n",
        "y_true_labels = np.argmax(y_true_labels, axis=1)\n",
        "\n",
        "# Generate classification report\n",
        "report = classification_report(y_true_labels, y_pred_labels)\n",
        "\n",
        "print(report)"
      ],
      "metadata": {
        "colab": {
          "base_uri": "https://localhost:8080/"
        },
        "id": "TtHvVD9YzNeH",
        "outputId": "e2fa744f-106d-4ef1-85de-4eace8154aea"
      },
      "execution_count": 16,
      "outputs": [
        {
          "output_type": "stream",
          "name": "stdout",
          "text": [
            "7/7 [==============================] - 2s 119ms/step\n",
            "              precision    recall  f1-score   support\n",
            "\n",
            "           0       0.33      0.27      0.29        60\n",
            "           1       0.28      0.27      0.27        66\n",
            "           2       0.39      0.45      0.42        77\n",
            "\n",
            "    accuracy                           0.34       203\n",
            "   macro avg       0.33      0.33      0.33       203\n",
            "weighted avg       0.34      0.34      0.34       203\n",
            "\n"
          ]
        }
      ]
    },
    {
      "cell_type": "code",
      "source": [],
      "metadata": {
        "id": "ZG1E8Ge2zPIl"
      },
      "execution_count": null,
      "outputs": []
    }
  ]
}