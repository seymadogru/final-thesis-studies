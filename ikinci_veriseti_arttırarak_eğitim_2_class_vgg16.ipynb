{
  "nbformat": 4,
  "nbformat_minor": 0,
  "metadata": {
    "colab": {
      "provenance": [],
      "machine_shape": "hm",
      "gpuType": "T4"
    },
    "kernelspec": {
      "name": "python3",
      "display_name": "Python 3"
    },
    "language_info": {
      "name": "python"
    },
    "accelerator": "GPU"
  },
  "cells": [
    {
      "cell_type": "code",
      "execution_count": 1,
      "metadata": {
        "colab": {
          "base_uri": "https://localhost:8080/"
        },
        "id": "TKfDB0C4LjO-",
        "outputId": "b0842b41-820b-4b81-8685-59b77aeadce1"
      },
      "outputs": [
        {
          "output_type": "stream",
          "name": "stdout",
          "text": [
            "--2024-07-25 14:00:17--  https://raw.githubusercontent.com/mrdbourke/tensorflow-deep-learning/main/extras/helper_functions.py\n",
            "Resolving raw.githubusercontent.com (raw.githubusercontent.com)... 185.199.108.133, 185.199.109.133, 185.199.110.133, ...\n",
            "Connecting to raw.githubusercontent.com (raw.githubusercontent.com)|185.199.108.133|:443... connected.\n",
            "HTTP request sent, awaiting response... 200 OK\n",
            "Length: 10246 (10K) [text/plain]\n",
            "Saving to: ‘helper_functions.py’\n",
            "\n",
            "helper_functions.py 100%[===================>]  10.01K  --.-KB/s    in 0s      \n",
            "\n",
            "2024-07-25 14:00:17 (126 MB/s) - ‘helper_functions.py’ saved [10246/10246]\n",
            "\n"
          ]
        }
      ],
      "source": [
        "!wget https://raw.githubusercontent.com/mrdbourke/tensorflow-deep-learning/main/extras/helper_functions.py"
      ]
    },
    {
      "cell_type": "code",
      "source": [
        "#import helper functions we're going to use in this notebook\n",
        "\n",
        "from helper_functions import create_tensorboard_callback, plot_loss_curves, unzip_data, walk_through_dir\n"
      ],
      "metadata": {
        "id": "dSoktlWSMUTj"
      },
      "execution_count": 2,
      "outputs": []
    },
    {
      "cell_type": "code",
      "source": [
        "import os\n",
        "\n",
        "for dirpath, dirnames, filenames in os.walk(\"/content/drive/MyDrive/Tez Dosyaları/ikinci veriseti 2 class\"):\n",
        "  print(f\"There are {len(dirnames)} directories and {len(filenames)} images in '{dirpath}'.\")\n"
      ],
      "metadata": {
        "colab": {
          "base_uri": "https://localhost:8080/"
        },
        "id": "ZUP_XHxgMWzu",
        "outputId": "abe2d522-ad8b-4c0f-ea97-d23e3314d0ef"
      },
      "execution_count": 3,
      "outputs": [
        {
          "output_type": "stream",
          "name": "stdout",
          "text": [
            "There are 2 directories and 0 images in '/content/drive/MyDrive/Tez Dosyaları/ikinci veriseti 2 class'.\n",
            "There are 2 directories and 0 images in '/content/drive/MyDrive/Tez Dosyaları/ikinci veriseti 2 class/Train'.\n",
            "There are 0 directories and 223 images in '/content/drive/MyDrive/Tez Dosyaları/ikinci veriseti 2 class/Train/Malignant'.\n",
            "There are 0 directories and 70 images in '/content/drive/MyDrive/Tez Dosyaları/ikinci veriseti 2 class/Train/Benign'.\n",
            "There are 2 directories and 0 images in '/content/drive/MyDrive/Tez Dosyaları/ikinci veriseti 2 class/Test'.\n",
            "There are 0 directories and 55 images in '/content/drive/MyDrive/Tez Dosyaları/ikinci veriseti 2 class/Test/Malignant'.\n",
            "There are 0 directories and 18 images in '/content/drive/MyDrive/Tez Dosyaları/ikinci veriseti 2 class/Test/Benign'.\n"
          ]
        }
      ]
    },
    {
      "cell_type": "code",
      "source": [
        "train_dir = \"/content/drive/MyDrive/Tez Dosyaları/ikinci veriseti 2 class/Train\"\n",
        "test_dir = \"/content/drive/MyDrive/Tez Dosyaları/ikinci veriseti 2 class/Test\""
      ],
      "metadata": {
        "id": "QYwDJW1pMgLH"
      },
      "execution_count": 4,
      "outputs": []
    },
    {
      "cell_type": "code",
      "source": [
        "import tensorflow as tf\n",
        "BATCH_SIZE = 32\n",
        "IMG_SIZE = (224, 224)\n",
        "train_data= tf.keras.preprocessing.image_dataset_from_directory(train_dir,\n",
        "                                                          label_mode=\"binary\",\n",
        "                                                          batch_size=BATCH_SIZE,\n",
        "                                                          image_size=IMG_SIZE)\n",
        "\n",
        "test_data = tf.keras.preprocessing.image_dataset_from_directory(test_dir,\n",
        "                                                          label_mode=\"binary\",\n",
        "                                                          batch_size=BATCH_SIZE,\n",
        "                                                          image_size=IMG_SIZE)"
      ],
      "metadata": {
        "colab": {
          "base_uri": "https://localhost:8080/"
        },
        "id": "TJ4l3_DaMp_4",
        "outputId": "a734aa88-3e9a-4dae-8c89-e1f20a1bfe08"
      },
      "execution_count": 5,
      "outputs": [
        {
          "output_type": "stream",
          "name": "stdout",
          "text": [
            "Found 293 files belonging to 2 classes.\n",
            "Found 73 files belonging to 2 classes.\n"
          ]
        }
      ]
    },
    {
      "cell_type": "code",
      "source": [
        "train_data.class_names"
      ],
      "metadata": {
        "colab": {
          "base_uri": "https://localhost:8080/"
        },
        "id": "6_e-yBAFMsrV",
        "outputId": "e8bc1a3a-969c-41f3-eefd-0d9a97bd8d20"
      },
      "execution_count": 6,
      "outputs": [
        {
          "output_type": "execute_result",
          "data": {
            "text/plain": [
              "['Benign', 'Malignant']"
            ]
          },
          "metadata": {},
          "execution_count": 6
        }
      ]
    },
    {
      "cell_type": "code",
      "source": [
        "from tensorflow.keras.preprocessing.image import ImageDataGenerator\n",
        "from tensorflow.keras.preprocessing.image import img_to_array\n",
        "from tensorflow.keras.preprocessing.image import load_img\n",
        "import numpy as np\n",
        "import random\n",
        "import math\n",
        "import csv\n",
        "import cv2\n",
        "import os"
      ],
      "metadata": {
        "id": "RDuShM4lMvBT"
      },
      "execution_count": 7,
      "outputs": []
    },
    {
      "cell_type": "code",
      "source": [
        "image_width = 224\n",
        "image_height = 224\n",
        "classes = ['Benign', 'Malignant']\n",
        "datagen = ImageDataGenerator(\n",
        "    rescale=1.0/255,\n",
        "    rotation_range=40,\n",
        "    width_shift_range=0.2,\n",
        "    height_shift_range=0.2,\n",
        "    shear_range=0.2,\n",
        "    zoom_range=0.2,\n",
        "    horizontal_flip=True,\n",
        "    fill_mode='nearest'\n",
        ")\n",
        "\n",
        "# Resimleri yüklemek için flow_from_directory kullanın\n",
        "train_generator = datagen.flow_from_directory(\n",
        "    directory=\"/content/drive/MyDrive/Tez Dosyaları/ikinci veriseti 2 class/Train\",\n",
        "    target_size=(image_width, image_height),\n",
        "    batch_size=32,\n",
        "    class_mode='categorical',\n",
        "    subset='training'\n",
        ")\n",
        "\n",
        "# Her sınıf için resimleri ayrı ayrı arttırın\n",
        "for cls in classes:\n",
        "    # Sınıfın resimlerini yüklemek için flow_from_directory kullanın\n",
        "    cls_generator = datagen.flow_from_directory(\n",
        "        directory=\"/content/drive/MyDrive/Tez Dosyaları/ikinci veriseti 2 class/Train\",\n",
        "        target_size=(image_width, image_height),\n",
        "        batch_size=32,\n",
        "        class_mode='categorical',\n",
        "        subset='training',\n",
        "        classes=[cls]\n",
        "    )\n",
        "\n",
        "    # Resimleri arttırın ve kaydedin\n",
        "    i = 0\n",
        "    for batch in cls_generator:\n",
        "        images, labels = batch\n",
        "        for image in images:\n",
        "            # Resmi kaydetmek için imwrite kullanın\n",
        "            cv2.imwrite(os.path.join(\"/content/drive/MyDrive/Tez Dosyaları/ikinci veriseti 2 class/Train\", cls, f\"augmented_{i}.jpg\"), image * 255)\n",
        "            i += 1\n",
        "            if i >= 3000:  # Maksimum resim sayısına ulaşıldığında döngüyü durdur\n",
        "                break\n",
        "        else:\n",
        "            continue\n",
        "        break"
      ],
      "metadata": {
        "colab": {
          "base_uri": "https://localhost:8080/"
        },
        "id": "3m4eao6OMxRZ",
        "outputId": "9f2be923-ba22-41be-ac90-6ad8e7c91837"
      },
      "execution_count": 8,
      "outputs": [
        {
          "output_type": "stream",
          "name": "stdout",
          "text": [
            "Found 293 images belonging to 2 classes.\n",
            "Found 70 images belonging to 1 classes.\n",
            "Found 223 images belonging to 1 classes.\n"
          ]
        }
      ]
    },
    {
      "cell_type": "code",
      "source": [
        "# Load the augmented images for the malignant class\n",
        "augmented_images = os.listdir(\"/content/drive/MyDrive/Tez Dosyaları/ikinci veriseti 2 class/Train/Malignant\")\n",
        "\n",
        "# Count the number of augmented images\n",
        "num_malignant_images = len(augmented_images)\n",
        "\n",
        "# Print the number of malignant images\n",
        "print(\"Number of malignant images:\", num_malignant_images)"
      ],
      "metadata": {
        "colab": {
          "base_uri": "https://localhost:8080/"
        },
        "id": "vqPXeQQlM9Fl",
        "outputId": "a6619da8-8b3e-4f90-9e6f-5a5a8c7dd647"
      },
      "execution_count": 9,
      "outputs": [
        {
          "output_type": "stream",
          "name": "stdout",
          "text": [
            "Number of malignant images: 3223\n"
          ]
        }
      ]
    },
    {
      "cell_type": "code",
      "source": [
        "augmented_images3 = os.listdir(\"/content/drive/MyDrive/Tez Dosyaları/ikinci veriseti 2 class/Train/Benign\")\n",
        "\n",
        "# Count the number of augmented images\n",
        "num_benign_images = len(augmented_images3)\n",
        "\n",
        "# Print the number of malignant images\n",
        "print(\"Number of benign images:\", num_benign_images)"
      ],
      "metadata": {
        "colab": {
          "base_uri": "https://localhost:8080/"
        },
        "id": "NFinnKe0NkS0",
        "outputId": "c9ad3be5-d2bf-4a17-f35b-1d28680f020c"
      },
      "execution_count": 10,
      "outputs": [
        {
          "output_type": "stream",
          "name": "stdout",
          "text": [
            "Number of benign images: 3070\n"
          ]
        }
      ]
    },
    {
      "cell_type": "code",
      "source": [
        "import tensorflow as tf\n",
        "BATCH_SIZE = 32\n",
        "IMG_SIZE = (224, 224)\n",
        "train_data= tf.keras.preprocessing.image_dataset_from_directory(train_dir,\n",
        "                                                          label_mode=\"binary\",\n",
        "                                                          batch_size=BATCH_SIZE,\n",
        "                                                          image_size=IMG_SIZE)\n",
        "\n",
        "test_data = tf.keras.preprocessing.image_dataset_from_directory(test_dir,\n",
        "                                                          label_mode=\"binary\",\n",
        "                                                          batch_size=BATCH_SIZE,\n",
        "                                                          image_size=IMG_SIZE)"
      ],
      "metadata": {
        "colab": {
          "base_uri": "https://localhost:8080/"
        },
        "id": "kMwLF8RUNph8",
        "outputId": "4773c1ce-1256-4095-91a6-b7f7eb6c2cb0"
      },
      "execution_count": 11,
      "outputs": [
        {
          "output_type": "stream",
          "name": "stdout",
          "text": [
            "Found 6293 files belonging to 2 classes.\n",
            "Found 73 files belonging to 2 classes.\n"
          ]
        }
      ]
    },
    {
      "cell_type": "code",
      "source": [
        "# 1.  create base model with tf.keras.applications\n",
        "base_model = tf.keras.applications.VGG16(include_top=False)\n",
        "\n",
        "# 2. Freeze the base model\n",
        "base_model.trainable = False\n",
        "\n",
        "# 3. create inputs into our model\n",
        "inputs = tf.keras.layers.Input(shape=(224, 224, 3), name=\"input_layer\")\n",
        "\n",
        "# 4. if using ResNet50V2 you will need to normalize inputs\n",
        "# x = tf.keras.layers.experimental.preprocessing.Rescaling(1./255)(inputs)\n",
        "\n",
        "# 5. pass the inputs to the base_model\n",
        "x = base_model(inputs)\n",
        "print(f\"Shape after passing inputs through base model: {x.shape}\")\n",
        "\n",
        "# 6. average pool the outputs of the base model (aggregate all the most important information, reduce number of computations)\n",
        "x = tf.keras.layers.GlobalAveragePooling2D(name=\"global_average_pooling_layer\")(x)\n",
        "print(f\"Shape after GlobalAveragePooling2D: {x.shape}\")\n",
        "\n",
        "# 7. create the output activation layer\n",
        "outputs = tf.keras.layers.Dense(1, activation=\"sigmoid\", name=\"output_layer\")(x)\n",
        "model_0 = tf.keras.Model(inputs, outputs)\n",
        "\n",
        "# 8. compile the model\n",
        "model_0.compile(loss=\"binary_crossentropy\",\n",
        "                optimizer=tf.keras.optimizers.Adam(),\n",
        "                metrics=[\"accuracy\"])\n",
        "\n",
        "# 9. fit the model\n",
        "history_0 = model_0.fit(train_data,\n",
        "                        epochs=40,\n",
        "                        steps_per_epoch=len(train_data),\n",
        "                        validation_data=test_data,\n",
        "                        validation_steps=int(len(test_data)),\n",
        "                        callbacks=[create_tensorboard_callback(dir_name=\"transfer_learning\",\n",
        "                                                              experiment_name=\"10_percent_feature_extraction\")])"
      ],
      "metadata": {
        "colab": {
          "base_uri": "https://localhost:8080/"
        },
        "id": "os8M6ER8NscB",
        "outputId": "e318a33d-3be0-4cc0-82db-78007a18d6e4"
      },
      "execution_count": 34,
      "outputs": [
        {
          "output_type": "stream",
          "name": "stdout",
          "text": [
            "Downloading data from https://storage.googleapis.com/tensorflow/keras-applications/vgg16/vgg16_weights_tf_dim_ordering_tf_kernels_notop.h5\n",
            "58889256/58889256 [==============================] - 4s 0us/step\n",
            "Shape after passing inputs through base model: (None, 7, 7, 512)\n",
            "Shape after GlobalAveragePooling2D: (None, 512)\n",
            "Saving TensorBoard log files to: transfer_learning/10_percent_feature_extraction/20240725-152414\n",
            "Epoch 1/40\n",
            "197/197 [==============================] - 44s 181ms/step - loss: 0.7346 - accuracy: 0.5843 - val_loss: 0.8560 - val_accuracy: 0.4110\n",
            "Epoch 2/40\n",
            "197/197 [==============================] - 26s 130ms/step - loss: 0.5849 - accuracy: 0.6782 - val_loss: 0.7929 - val_accuracy: 0.4658\n",
            "Epoch 3/40\n",
            "197/197 [==============================] - 27s 135ms/step - loss: 0.5247 - accuracy: 0.7273 - val_loss: 0.7611 - val_accuracy: 0.5205\n",
            "Epoch 4/40\n",
            "197/197 [==============================] - 27s 136ms/step - loss: 0.4854 - accuracy: 0.7593 - val_loss: 0.7371 - val_accuracy: 0.6301\n",
            "Epoch 5/40\n",
            "197/197 [==============================] - 27s 133ms/step - loss: 0.4635 - accuracy: 0.7729 - val_loss: 0.7464 - val_accuracy: 0.6164\n",
            "Epoch 6/40\n",
            "197/197 [==============================] - 27s 135ms/step - loss: 0.4429 - accuracy: 0.7877 - val_loss: 0.7541 - val_accuracy: 0.6164\n",
            "Epoch 7/40\n",
            "197/197 [==============================] - 27s 136ms/step - loss: 0.4286 - accuracy: 0.7972 - val_loss: 0.7601 - val_accuracy: 0.6712\n",
            "Epoch 8/40\n",
            "197/197 [==============================] - 27s 134ms/step - loss: 0.4189 - accuracy: 0.8004 - val_loss: 0.7656 - val_accuracy: 0.6712\n",
            "Epoch 9/40\n",
            "197/197 [==============================] - 27s 135ms/step - loss: 0.4093 - accuracy: 0.8130 - val_loss: 0.7776 - val_accuracy: 0.6986\n",
            "Epoch 10/40\n",
            "197/197 [==============================] - 27s 136ms/step - loss: 0.3986 - accuracy: 0.8168 - val_loss: 0.7904 - val_accuracy: 0.6849\n",
            "Epoch 11/40\n",
            "197/197 [==============================] - 27s 135ms/step - loss: 0.3904 - accuracy: 0.8214 - val_loss: 0.8004 - val_accuracy: 0.6849\n",
            "Epoch 12/40\n",
            "197/197 [==============================] - 27s 135ms/step - loss: 0.3883 - accuracy: 0.8246 - val_loss: 0.8171 - val_accuracy: 0.6986\n",
            "Epoch 13/40\n",
            "197/197 [==============================] - 27s 136ms/step - loss: 0.3825 - accuracy: 0.8301 - val_loss: 0.8231 - val_accuracy: 0.6986\n",
            "Epoch 14/40\n",
            "197/197 [==============================] - 27s 135ms/step - loss: 0.3782 - accuracy: 0.8282 - val_loss: 0.8369 - val_accuracy: 0.6986\n",
            "Epoch 15/40\n",
            "197/197 [==============================] - 27s 135ms/step - loss: 0.3709 - accuracy: 0.8303 - val_loss: 0.8466 - val_accuracy: 0.6986\n",
            "Epoch 16/40\n",
            "197/197 [==============================] - 27s 135ms/step - loss: 0.3670 - accuracy: 0.8343 - val_loss: 0.8670 - val_accuracy: 0.6986\n",
            "Epoch 17/40\n",
            "197/197 [==============================] - 27s 136ms/step - loss: 0.3660 - accuracy: 0.8338 - val_loss: 0.8695 - val_accuracy: 0.7123\n",
            "Epoch 18/40\n",
            "197/197 [==============================] - 27s 136ms/step - loss: 0.3619 - accuracy: 0.8330 - val_loss: 0.8853 - val_accuracy: 0.6986\n",
            "Epoch 19/40\n",
            "197/197 [==============================] - 27s 135ms/step - loss: 0.3593 - accuracy: 0.8362 - val_loss: 0.9154 - val_accuracy: 0.6849\n",
            "Epoch 20/40\n",
            "197/197 [==============================] - 27s 135ms/step - loss: 0.3562 - accuracy: 0.8390 - val_loss: 0.9234 - val_accuracy: 0.6849\n",
            "Epoch 21/40\n",
            "197/197 [==============================] - 27s 135ms/step - loss: 0.3524 - accuracy: 0.8430 - val_loss: 0.9116 - val_accuracy: 0.7123\n",
            "Epoch 22/40\n",
            "197/197 [==============================] - 27s 136ms/step - loss: 0.3502 - accuracy: 0.8406 - val_loss: 0.9445 - val_accuracy: 0.6849\n",
            "Epoch 23/40\n",
            "197/197 [==============================] - 27s 135ms/step - loss: 0.3479 - accuracy: 0.8433 - val_loss: 0.9471 - val_accuracy: 0.6849\n",
            "Epoch 24/40\n",
            "197/197 [==============================] - 27s 135ms/step - loss: 0.3489 - accuracy: 0.8425 - val_loss: 0.9438 - val_accuracy: 0.7123\n",
            "Epoch 25/40\n",
            "197/197 [==============================] - 27s 135ms/step - loss: 0.3438 - accuracy: 0.8427 - val_loss: 0.9569 - val_accuracy: 0.7123\n",
            "Epoch 26/40\n",
            "197/197 [==============================] - 27s 135ms/step - loss: 0.3436 - accuracy: 0.8467 - val_loss: 0.9664 - val_accuracy: 0.7123\n",
            "Epoch 27/40\n",
            "197/197 [==============================] - 27s 136ms/step - loss: 0.3412 - accuracy: 0.8449 - val_loss: 0.9797 - val_accuracy: 0.6849\n",
            "Epoch 28/40\n",
            "197/197 [==============================] - 27s 135ms/step - loss: 0.3418 - accuracy: 0.8465 - val_loss: 0.9660 - val_accuracy: 0.6849\n",
            "Epoch 29/40\n",
            "197/197 [==============================] - 27s 135ms/step - loss: 0.3401 - accuracy: 0.8495 - val_loss: 0.9859 - val_accuracy: 0.7123\n",
            "Epoch 30/40\n",
            "197/197 [==============================] - 27s 135ms/step - loss: 0.3395 - accuracy: 0.8462 - val_loss: 0.9837 - val_accuracy: 0.7123\n",
            "Epoch 31/40\n",
            "197/197 [==============================] - 27s 135ms/step - loss: 0.3401 - accuracy: 0.8435 - val_loss: 0.9870 - val_accuracy: 0.7123\n",
            "Epoch 32/40\n",
            "197/197 [==============================] - 27s 136ms/step - loss: 0.3379 - accuracy: 0.8443 - val_loss: 1.0201 - val_accuracy: 0.6986\n",
            "Epoch 33/40\n",
            "197/197 [==============================] - 27s 135ms/step - loss: 0.3399 - accuracy: 0.8459 - val_loss: 1.0233 - val_accuracy: 0.7123\n",
            "Epoch 34/40\n",
            "197/197 [==============================] - 27s 135ms/step - loss: 0.3355 - accuracy: 0.8474 - val_loss: 1.0235 - val_accuracy: 0.7123\n",
            "Epoch 35/40\n",
            "197/197 [==============================] - 27s 135ms/step - loss: 0.3338 - accuracy: 0.8459 - val_loss: 1.0288 - val_accuracy: 0.7123\n",
            "Epoch 36/40\n",
            "197/197 [==============================] - 27s 135ms/step - loss: 0.3309 - accuracy: 0.8524 - val_loss: 1.0448 - val_accuracy: 0.6986\n",
            "Epoch 37/40\n",
            "197/197 [==============================] - 27s 136ms/step - loss: 0.3301 - accuracy: 0.8516 - val_loss: 1.0500 - val_accuracy: 0.6986\n",
            "Epoch 38/40\n",
            "197/197 [==============================] - 27s 135ms/step - loss: 0.3337 - accuracy: 0.8465 - val_loss: 1.0501 - val_accuracy: 0.6986\n",
            "Epoch 39/40\n",
            "197/197 [==============================] - 27s 135ms/step - loss: 0.3286 - accuracy: 0.8521 - val_loss: 1.0553 - val_accuracy: 0.7123\n",
            "Epoch 40/40\n",
            "197/197 [==============================] - 27s 135ms/step - loss: 0.3313 - accuracy: 0.8517 - val_loss: 1.0580 - val_accuracy: 0.7123\n"
          ]
        }
      ]
    },
    {
      "cell_type": "code",
      "source": [
        "import matplotlib.pyplot as plt\n",
        "\n",
        "def plot_loss_curves(history):\n",
        "  \"\"\"\n",
        "  Returns separate loss curves for training and validation metrics.\n",
        "  Args:\n",
        "    history: TensorFlow History object.\n",
        "\n",
        "    Returns:\n",
        "    Plots of training/validation loss and accuracy metrics.\n",
        "  \"\"\"\n",
        "  loss = history.history['loss']\n",
        "  val_loss = history.history['val_loss']\n",
        "\n",
        "  accuracy = history.history['accuracy']\n",
        "  val_accuracy = history.history['val_accuracy']\n",
        "\n",
        "  epochs = range(len(history.history['loss']))\n",
        "\n",
        "  #Plot loss\n",
        "\n",
        "  plt.plot(epochs, loss, label='training_loss')\n",
        "  plt.plot(epochs, val_loss, label='val_loss')\n",
        "  plt.title('Loss')\n",
        "  plt.xlabel('Epochs')\n",
        "  plt.legend()\n",
        "\n",
        "  #Plot accuracy\n",
        "  plt.figure()\n",
        "  plt.plot(epochs, accuracy, label='training_accuracy')\n",
        "  plt.plot(epochs, val_accuracy, label='val_accuracy')\n",
        "  plt.title('Accuracy')\n",
        "  plt.xlabel('Epochs')\n",
        "  plt.legend();\n",
        "\n",
        "plot_loss_curves(history_0)"
      ],
      "metadata": {
        "colab": {
          "base_uri": "https://localhost:8080/",
          "height": 927
        },
        "id": "i_jGghbjNwx9",
        "outputId": "a59b6044-cb11-4cc5-f859-60233b229289"
      },
      "execution_count": 35,
      "outputs": [
        {
          "output_type": "display_data",
          "data": {
            "text/plain": [
              "<Figure size 640x480 with 1 Axes>"
            ],
            "image/png": "[encoded data removed]"
          },
          "metadata": {}
        },
        {
          "output_type": "display_data",
          "data": {
            "text/plain": [
              "<Figure size 640x480 with 1 Axes>"
            ],
            "image/png": "[encoded data removed]"
          },
          "metadata": {}
        }
      ]
    },
    {
      "cell_type": "code",
      "source": [
        "results_feature_extraction = model_0.evaluate(test_data)\n",
        "results_feature_extraction"
      ],
      "metadata": {
        "colab": {
          "base_uri": "https://localhost:8080/"
        },
        "id": "h9t4Ez5jNzkD",
        "outputId": "979522df-bdff-43a1-c4df-8e3bd1f1cd3f"
      },
      "execution_count": 36,
      "outputs": [
        {
          "output_type": "stream",
          "name": "stdout",
          "text": [
            "3/3 [==============================] - 1s 94ms/step - loss: 1.0580 - accuracy: 0.7123\n"
          ]
        },
        {
          "output_type": "execute_result",
          "data": {
            "text/plain": [
              "[1.0580165386199951, 0.7123287916183472]"
            ]
          },
          "metadata": {},
          "execution_count": 36
        }
      ]
    },
    {
      "cell_type": "code",
      "source": [
        "# Get the predicted probabilities for the test set\n",
        "y_pred_probs = model_0.predict(test_data)\n",
        "\n",
        "# Convert probabilities to binary predictions (0 or 1)\n",
        "y_pred = (y_pred_probs > 0.5).astype(int)\n",
        "\n",
        "# Get the true labels for the test set\n",
        "y_true = np.concatenate([y for x, y in test_data], axis=0)\n",
        "\n",
        "# Calculate precision\n",
        "from sklearn.metrics import precision_score\n",
        "precision = precision_score(y_true, y_pred)\n",
        "print(\"Precision:\", precision)"
      ],
      "metadata": {
        "colab": {
          "base_uri": "https://localhost:8080/"
        },
        "id": "uglZxXduN1wv",
        "outputId": "c8b3c0c0-5571-42d8-d6a1-73358cdcb7ec"
      },
      "execution_count": 37,
      "outputs": [
        {
          "output_type": "stream",
          "name": "stdout",
          "text": [
            "3/3 [==============================] - 1s 119ms/step\n",
            "Precision: 0.7741935483870968\n"
          ]
        }
      ]
    },
    {
      "cell_type": "code",
      "source": [
        "from sklearn.metrics import recall_score\n",
        "\n",
        "# Calculate recall\n",
        "recall = recall_score(y_true, y_pred)\n",
        "print(\"Recall:\", recall)"
      ],
      "metadata": {
        "colab": {
          "base_uri": "https://localhost:8080/"
        },
        "id": "_NOWLRLZN306",
        "outputId": "66fa23c2-62b8-4010-b938-e14ac9a38df3"
      },
      "execution_count": 38,
      "outputs": [
        {
          "output_type": "stream",
          "name": "stdout",
          "text": [
            "Recall: 0.8727272727272727\n"
          ]
        }
      ]
    },
    {
      "cell_type": "code",
      "source": [
        "from sklearn.metrics import f1_score\n",
        "# Calculate F1-score\n",
        "f1 = f1_score(y_true, y_pred)\n",
        "print(\"F1-score:\", f1)"
      ],
      "metadata": {
        "colab": {
          "base_uri": "https://localhost:8080/"
        },
        "id": "oyvMVrfON5tc",
        "outputId": "c73eaf4d-6465-46c7-8dba-7244f90a8dcd"
      },
      "execution_count": 39,
      "outputs": [
        {
          "output_type": "stream",
          "name": "stdout",
          "text": [
            "F1-score: 0.8205128205128205\n"
          ]
        }
      ]
    },
    {
      "cell_type": "code",
      "source": [
        "# Eğitim doğruluğunu elde etmek için history_0 nesnesini kullanın\n",
        "train_accuracy = history_0.history['accuracy']\n",
        "\n",
        "# Son epoch'un eğitim doğruluğunu yazdırın\n",
        "print(\"Eğitim doğruluğu:\", train_accuracy[-1])"
      ],
      "metadata": {
        "colab": {
          "base_uri": "https://localhost:8080/"
        },
        "id": "N27ZVDkYN7oz",
        "outputId": "316067c5-6bc1-4edd-f584-8a03b47a22fd"
      },
      "execution_count": 40,
      "outputs": [
        {
          "output_type": "stream",
          "name": "stdout",
          "text": [
            "Eğitim doğruluğu: 0.8517400026321411\n"
          ]
        }
      ]
    }
  ]
}