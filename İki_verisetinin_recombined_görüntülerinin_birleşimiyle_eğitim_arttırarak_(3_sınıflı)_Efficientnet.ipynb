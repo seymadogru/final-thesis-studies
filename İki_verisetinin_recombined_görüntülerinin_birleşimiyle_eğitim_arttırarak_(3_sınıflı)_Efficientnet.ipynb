{
  "nbformat": 4,
  "nbformat_minor": 0,
  "metadata": {
    "colab": {
      "provenance": [],
      "machine_shape": "hm",
      "gpuType": "T4"
    },
    "kernelspec": {
      "name": "python3",
      "display_name": "Python 3"
    },
    "language_info": {
      "name": "python"
    },
    "accelerator": "GPU"
  },
  "cells": [
    {
      "cell_type": "code",
      "execution_count": 1,
      "metadata": {
        "colab": {
          "base_uri": "https://localhost:8080/"
        },
        "id": "ui-zZAPcKz83",
        "outputId": "46ddc0a5-c6ea-4031-a504-ebe6efa4eec5"
      },
      "outputs": [
        {
          "output_type": "stream",
          "name": "stdout",
          "text": [
            "--2024-07-31 14:24:58--  https://raw.githubusercontent.com/mrdbourke/tensorflow-deep-learning/main/extras/helper_functions.py\n",
            "Resolving raw.githubusercontent.com (raw.githubusercontent.com)... 185.199.109.133, 185.199.111.133, 185.199.108.133, ...\n",
            "Connecting to raw.githubusercontent.com (raw.githubusercontent.com)|185.199.109.133|:443... connected.\n",
            "HTTP request sent, awaiting response... 200 OK\n",
            "Length: 10246 (10K) [text/plain]\n",
            "Saving to: ‘helper_functions.py’\n",
            "\n",
            "\rhelper_functions.py   0%[                    ]       0  --.-KB/s               \rhelper_functions.py 100%[===================>]  10.01K  --.-KB/s    in 0s      \n",
            "\n",
            "2024-07-31 14:24:58 (113 MB/s) - ‘helper_functions.py’ saved [10246/10246]\n",
            "\n"
          ]
        }
      ],
      "source": [
        "!wget https://raw.githubusercontent.com/mrdbourke/tensorflow-deep-learning/main/extras/helper_functions.py\n",
        ""
      ]
    },
    {
      "cell_type": "code",
      "source": [
        "from helper_functions import create_tensorboard_callback, plot_loss_curves, unzip_data, walk_through_dir\n",
        ""
      ],
      "metadata": {
        "id": "0t-4zDVMLgSz"
      },
      "execution_count": 2,
      "outputs": []
    },
    {
      "cell_type": "code",
      "source": [
        "import os\n",
        "\n",
        "for dirpath, dirnames, filenames in os.walk(\"/content/drive/MyDrive/Tez Dosyaları/recombined 3 classlı\"):\n",
        "  print(f\"There are {len(dirnames)} directories and {len(filenames)} images in '{dirpath}'.\")\n"
      ],
      "metadata": {
        "colab": {
          "base_uri": "https://localhost:8080/"
        },
        "id": "srKAIl5kLhvA",
        "outputId": "adbd7204-405c-4d97-9bbe-b8a35802989a"
      },
      "execution_count": 3,
      "outputs": [
        {
          "output_type": "stream",
          "name": "stdout",
          "text": [
            "There are 2 directories and 0 images in '/content/drive/MyDrive/Tez Dosyaları/recombined 3 classlı'.\n",
            "There are 3 directories and 0 images in '/content/drive/MyDrive/Tez Dosyaları/recombined 3 classlı/Train'.\n",
            "There are 0 directories and 702 images in '/content/drive/MyDrive/Tez Dosyaları/recombined 3 classlı/Train/Normal'.\n",
            "There are 0 directories and 418 images in '/content/drive/MyDrive/Tez Dosyaları/recombined 3 classlı/Train/Malignant'.\n",
            "There are 0 directories and 250 images in '/content/drive/MyDrive/Tez Dosyaları/recombined 3 classlı/Train/Benign'.\n",
            "There are 3 directories and 0 images in '/content/drive/MyDrive/Tez Dosyaları/recombined 3 classlı/Test'.\n",
            "There are 0 directories and 100 images in '/content/drive/MyDrive/Tez Dosyaları/recombined 3 classlı/Test/Normal'.\n",
            "There are 0 directories and 52 images in '/content/drive/MyDrive/Tez Dosyaları/recombined 3 classlı/Test/Malignant'.\n",
            "There are 0 directories and 50 images in '/content/drive/MyDrive/Tez Dosyaları/recombined 3 classlı/Test/Benign'.\n"
          ]
        }
      ]
    },
    {
      "cell_type": "code",
      "source": [
        "train_dir = \"/content/drive/MyDrive/Tez Dosyaları/recombined 3 classlı/Train\"\n",
        "test_dir = \"/content/drive/MyDrive/Tez Dosyaları/recombined 3 classlı/Test\""
      ],
      "metadata": {
        "id": "L3MFKHtuLna4"
      },
      "execution_count": 4,
      "outputs": []
    },
    {
      "cell_type": "code",
      "source": [
        "\n",
        "import tensorflow as tf\n",
        "BATCH_SIZE = 32\n",
        "IMG_SIZE = (224, 224)\n",
        "train_data= tf.keras.preprocessing.image_dataset_from_directory(train_dir,\n",
        "                                                          label_mode= \"categorical\",\n",
        "                                                          batch_size=BATCH_SIZE,\n",
        "                                                          image_size=IMG_SIZE)\n",
        "\n",
        "test_data = tf.keras.preprocessing.image_dataset_from_directory(test_dir,\n",
        "                                                          label_mode=\"categorical\",\n",
        "                                                          batch_size=BATCH_SIZE,\n",
        "                                                          image_size=IMG_SIZE)"
      ],
      "metadata": {
        "colab": {
          "base_uri": "https://localhost:8080/"
        },
        "id": "erHUZWKWLs1g",
        "outputId": "cab1838d-66e7-4fe8-804d-ee4c41795e59"
      },
      "execution_count": 5,
      "outputs": [
        {
          "output_type": "stream",
          "name": "stdout",
          "text": [
            "Found 1370 files belonging to 3 classes.\n",
            "Found 202 files belonging to 3 classes.\n"
          ]
        }
      ]
    },
    {
      "cell_type": "code",
      "source": [
        "from tensorflow.keras.preprocessing.image import ImageDataGenerator\n",
        "from tensorflow.keras.preprocessing.image import img_to_array\n",
        "from tensorflow.keras.preprocessing.image import load_img\n",
        "import numpy as np\n",
        "import random\n",
        "import math\n",
        "import csv\n",
        "import cv2\n",
        "import os"
      ],
      "metadata": {
        "id": "3mKexcbBLuUu"
      },
      "execution_count": 6,
      "outputs": []
    },
    {
      "cell_type": "code",
      "source": [
        "image_width = 224\n",
        "image_height = 224\n",
        "classes = ['Benign', 'Malignant', 'Normal']\n",
        "datagen = ImageDataGenerator(\n",
        "    rescale=1.0/255,\n",
        "    rotation_range=40,\n",
        "    width_shift_range=0.2,\n",
        "    height_shift_range=0.2,\n",
        "    shear_range=0.2,\n",
        "    zoom_range=0.2,\n",
        "    horizontal_flip=True,\n",
        "    fill_mode='nearest'\n",
        ")\n",
        "\n",
        "# Resimleri yüklemek için flow_from_directory kullanın\n",
        "train_generator = datagen.flow_from_directory(\n",
        "    directory=\"/content/drive/MyDrive/Tez Dosyaları/recombined 3 classlı/Train\",\n",
        "    target_size=(image_width, image_height),\n",
        "    batch_size=32,\n",
        "    class_mode='categorical',\n",
        "    subset='training'\n",
        ")\n",
        "\n",
        "# Her sınıf için resimleri ayrı ayrı arttırın\n",
        "for cls in classes:\n",
        "    # Sınıfın resimlerini yüklemek için flow_from_directory kullanın\n",
        "    cls_generator = datagen.flow_from_directory(\n",
        "        directory=\"/content/drive/MyDrive/Tez Dosyaları/recombined 3 classlı/Train\",\n",
        "        target_size=(image_width, image_height),\n",
        "        batch_size=32,\n",
        "        class_mode='categorical',\n",
        "        subset='training',\n",
        "        classes=[cls]\n",
        "    )\n",
        "\n",
        "    # Resimleri arttırın ve kaydedin\n",
        "    i = 0\n",
        "    for batch in cls_generator:\n",
        "        images, labels = batch\n",
        "        for image in images:\n",
        "            # Resmi kaydetmek için imwrite kullanın\n",
        "            cv2.imwrite(os.path.join(\"/content/drive/MyDrive/Tez Dosyaları/recombined 3 classlı/Train\", cls, f\"augmented_{i}.jpg\"), image * 255)\n",
        "            i += 1\n",
        "            if i >= 3000:  # Maksimum resim sayısına ulaşıldığında döngüyü durdur\n",
        "                break\n",
        "        else:\n",
        "            continue\n",
        "        break"
      ],
      "metadata": {
        "colab": {
          "base_uri": "https://localhost:8080/"
        },
        "id": "jC0OjbNKLyOX",
        "outputId": "38a3202b-ffa9-4aaf-8b33-2e51240df6e2"
      },
      "execution_count": 7,
      "outputs": [
        {
          "output_type": "stream",
          "name": "stdout",
          "text": [
            "Found 1370 images belonging to 3 classes.\n",
            "Found 250 images belonging to 1 classes.\n",
            "Found 418 images belonging to 1 classes.\n",
            "Found 702 images belonging to 1 classes.\n"
          ]
        }
      ]
    },
    {
      "cell_type": "code",
      "source": [
        "augmented_images3 = os.listdir(\"/content/drive/MyDrive/Tez Dosyaları/recombined 3 classlı/Train/Benign\")\n",
        "\n",
        "# Count the number of augmented images\n",
        "num_benign_images = len(augmented_images3)\n",
        "\n",
        "# Print the number of malignant images\n",
        "print(\"Number of benign images:\", num_benign_images)"
      ],
      "metadata": {
        "colab": {
          "base_uri": "https://localhost:8080/"
        },
        "id": "Q0skfbqNL4Jq",
        "outputId": "408a56a2-0301-4dd3-c1f6-2102030f17e9"
      },
      "execution_count": 8,
      "outputs": [
        {
          "output_type": "stream",
          "name": "stdout",
          "text": [
            "Number of benign images: 3250\n"
          ]
        }
      ]
    },
    {
      "cell_type": "code",
      "source": [
        "augmented_images2 = os.listdir(\"/content/drive/MyDrive/Tez Dosyaları/recombined 3 classlı/Train/Normal\")\n",
        "\n",
        "# Count the number of augmented images\n",
        "num_normal_images = len(augmented_images2)\n",
        "\n",
        "# Print the number of malignant images\n",
        "print(\"Number of normal images:\", num_normal_images)"
      ],
      "metadata": {
        "colab": {
          "base_uri": "https://localhost:8080/"
        },
        "id": "_BKEGTWjL8V0",
        "outputId": "d88bd91e-2208-41d3-95c9-acac92c36c10"
      },
      "execution_count": 9,
      "outputs": [
        {
          "output_type": "stream",
          "name": "stdout",
          "text": [
            "Number of normal images: 3702\n"
          ]
        }
      ]
    },
    {
      "cell_type": "code",
      "source": [
        "\n",
        "# Load the augmented images for the malignant class\n",
        "augmented_images = os.listdir(\"/content/drive/MyDrive/Tez Dosyaları/recombined 3 classlı/Train/Malignant\")\n",
        "\n",
        "# Count the number of augmented images\n",
        "num_malignant_images = len(augmented_images)\n",
        "\n",
        "# Print the number of malignant images\n",
        "print(\"Number of malignant images:\", num_malignant_images)"
      ],
      "metadata": {
        "colab": {
          "base_uri": "https://localhost:8080/"
        },
        "id": "4n5Y7WorL_N3",
        "outputId": "a2445e2c-99b3-4aa2-b495-e0db8a893436"
      },
      "execution_count": 10,
      "outputs": [
        {
          "output_type": "stream",
          "name": "stdout",
          "text": [
            "Number of malignant images: 3418\n"
          ]
        }
      ]
    },
    {
      "cell_type": "code",
      "source": [
        "\n",
        "import tensorflow as tf\n",
        "\n",
        "# 1. create base model with tf.keras.applications\n",
        "base_model = tf.keras.applications.EfficientNetB0(include_top=False)\n",
        "\n",
        "# 2. Freeze the base model\n",
        "base_model.trainable = False\n",
        "\n",
        "# 3. create inputs into our model\n",
        "inputs = tf.keras.layers.Input(shape=(224, 224, 3), name=\"input_layer\")\n",
        "\n",
        "# 4. if using ResNet50V2 you will need to normalize inputs\n",
        "# x = tf.keras.layers.experimental.preprocessing.Rescaling(1./255)(inputs)\n",
        "\n",
        "# 5. pass the inputs to the base_model\n",
        "x = base_model(inputs)\n",
        "print(f\"Shape after passing inputs through base model: {x.shape}\")\n",
        "\n",
        "# 6. average pool the outputs of the base model (aggregate all the most important information, reduce number of computations)\n",
        "x = tf.keras.layers.GlobalAveragePooling2D(name=\"global_average_pooling_layer\")(x)\n",
        "print(f\"Shape after GlobalAveragePooling2D: {x.shape}\")\n",
        "\n",
        "# 7. create the output activation layer for 3 classes\n",
        "outputs = tf.keras.layers.Dense(3, activation=\"softmax\", name=\"output_layer\")(x)\n",
        "model_0 = tf.keras.Model(inputs, outputs)\n",
        "\n",
        "# 8. compile the model for 3 classes\n",
        "model_0.compile(loss=\"categorical_crossentropy\",\n",
        "                optimizer=tf.keras.optimizers.Adam(),\n",
        "                metrics=[\"accuracy\"])\n",
        "\n",
        "# Assuming you have already prepared your train_data and test_data\n",
        "# Make sure that train_data and test_data are prepared with class_mode='categorical'\n",
        "\n",
        "# 9. fit the model\n",
        "history_0 = model_0.fit(train_data,\n",
        "                        epochs=40,\n",
        "                        steps_per_epoch=len(train_data),\n",
        "                        validation_data=test_data,\n",
        "                        validation_steps=int(len(test_data)),\n",
        "                        callbacks=[create_tensorboard_callback(dir_name=\"transfer_learning\",\n",
        "                                                               experiment_name=\"3_class_feature_extraction\")])\n",
        ""
      ],
      "metadata": {
        "colab": {
          "base_uri": "https://localhost:8080/"
        },
        "id": "Sqt37xV8MEAa",
        "outputId": "06b773a2-c67c-4465-ebc2-488298bb9238"
      },
      "execution_count": 11,
      "outputs": [
        {
          "output_type": "stream",
          "name": "stdout",
          "text": [
            "Downloading data from https://storage.googleapis.com/keras-applications/efficientnetb0_notop.h5\n",
            "16705208/16705208 [==============================] - 1s 0us/step\n",
            "Shape after passing inputs through base model: (None, 7, 7, 1280)\n",
            "Shape after GlobalAveragePooling2D: (None, 1280)\n",
            "Saving TensorBoard log files to: transfer_learning/3_class_feature_extraction/20240731-143603\n",
            "Epoch 1/40\n",
            "43/43 [==============================] - 73s 716ms/step - loss: 0.9532 - accuracy: 0.5496 - val_loss: 1.0689 - val_accuracy: 0.5446\n",
            "Epoch 2/40\n",
            "43/43 [==============================] - 9s 175ms/step - loss: 0.8548 - accuracy: 0.6263 - val_loss: 0.9526 - val_accuracy: 0.5891\n",
            "Epoch 3/40\n",
            "43/43 [==============================] - 9s 185ms/step - loss: 0.8098 - accuracy: 0.6453 - val_loss: 0.9520 - val_accuracy: 0.6040\n",
            "Epoch 4/40\n",
            "43/43 [==============================] - 9s 185ms/step - loss: 0.7831 - accuracy: 0.6526 - val_loss: 0.9393 - val_accuracy: 0.5941\n",
            "Epoch 5/40\n",
            "43/43 [==============================] - 9s 178ms/step - loss: 0.7672 - accuracy: 0.6708 - val_loss: 0.9344 - val_accuracy: 0.6089\n",
            "Epoch 6/40\n",
            "43/43 [==============================] - 9s 178ms/step - loss: 0.7547 - accuracy: 0.6657 - val_loss: 0.9677 - val_accuracy: 0.5990\n",
            "Epoch 7/40\n",
            "43/43 [==============================] - 9s 185ms/step - loss: 0.7420 - accuracy: 0.6752 - val_loss: 0.9237 - val_accuracy: 0.6040\n",
            "Epoch 8/40\n",
            "43/43 [==============================] - 9s 186ms/step - loss: 0.7228 - accuracy: 0.6920 - val_loss: 0.9614 - val_accuracy: 0.6238\n",
            "Epoch 9/40\n",
            "43/43 [==============================] - 9s 178ms/step - loss: 0.7174 - accuracy: 0.6985 - val_loss: 0.9065 - val_accuracy: 0.6139\n",
            "Epoch 10/40\n",
            "43/43 [==============================] - 9s 183ms/step - loss: 0.7083 - accuracy: 0.7058 - val_loss: 0.9381 - val_accuracy: 0.6238\n",
            "Epoch 11/40\n",
            "43/43 [==============================] - 9s 181ms/step - loss: 0.7011 - accuracy: 0.6978 - val_loss: 0.9565 - val_accuracy: 0.6139\n",
            "Epoch 12/40\n",
            "43/43 [==============================] - 9s 175ms/step - loss: 0.6911 - accuracy: 0.7212 - val_loss: 0.9500 - val_accuracy: 0.6040\n",
            "Epoch 13/40\n",
            "43/43 [==============================] - 9s 185ms/step - loss: 0.6878 - accuracy: 0.7153 - val_loss: 0.9685 - val_accuracy: 0.6089\n",
            "Epoch 14/40\n",
            "43/43 [==============================] - 9s 177ms/step - loss: 0.6834 - accuracy: 0.7175 - val_loss: 0.9342 - val_accuracy: 0.6089\n",
            "Epoch 15/40\n",
            "43/43 [==============================] - 9s 178ms/step - loss: 0.6727 - accuracy: 0.7153 - val_loss: 0.9449 - val_accuracy: 0.6089\n",
            "Epoch 16/40\n",
            "43/43 [==============================] - 9s 179ms/step - loss: 0.6610 - accuracy: 0.7277 - val_loss: 0.9777 - val_accuracy: 0.6139\n",
            "Epoch 17/40\n",
            "43/43 [==============================] - 9s 181ms/step - loss: 0.6630 - accuracy: 0.7401 - val_loss: 0.9087 - val_accuracy: 0.6040\n",
            "Epoch 18/40\n",
            "43/43 [==============================] - 9s 171ms/step - loss: 0.6435 - accuracy: 0.7358 - val_loss: 0.9225 - val_accuracy: 0.6238\n",
            "Epoch 19/40\n",
            "43/43 [==============================] - 9s 182ms/step - loss: 0.6374 - accuracy: 0.7321 - val_loss: 0.9390 - val_accuracy: 0.6287\n",
            "Epoch 20/40\n",
            "43/43 [==============================] - 9s 183ms/step - loss: 0.6422 - accuracy: 0.7314 - val_loss: 0.9306 - val_accuracy: 0.6089\n",
            "Epoch 21/40\n",
            "43/43 [==============================] - 9s 176ms/step - loss: 0.6405 - accuracy: 0.7394 - val_loss: 0.9688 - val_accuracy: 0.6089\n",
            "Epoch 22/40\n",
            "43/43 [==============================] - 9s 178ms/step - loss: 0.6335 - accuracy: 0.7350 - val_loss: 0.9193 - val_accuracy: 0.6139\n",
            "Epoch 23/40\n",
            "43/43 [==============================] - 9s 185ms/step - loss: 0.6271 - accuracy: 0.7394 - val_loss: 0.9306 - val_accuracy: 0.6188\n",
            "Epoch 24/40\n",
            "43/43 [==============================] - 9s 177ms/step - loss: 0.6115 - accuracy: 0.7606 - val_loss: 0.9523 - val_accuracy: 0.6238\n",
            "Epoch 25/40\n",
            "43/43 [==============================] - 9s 180ms/step - loss: 0.6352 - accuracy: 0.7343 - val_loss: 0.9488 - val_accuracy: 0.6238\n",
            "Epoch 26/40\n",
            "43/43 [==============================] - 9s 184ms/step - loss: 0.6086 - accuracy: 0.7540 - val_loss: 0.9544 - val_accuracy: 0.6238\n",
            "Epoch 27/40\n",
            "43/43 [==============================] - 9s 182ms/step - loss: 0.6094 - accuracy: 0.7431 - val_loss: 0.9394 - val_accuracy: 0.6188\n",
            "Epoch 28/40\n",
            "43/43 [==============================] - 9s 174ms/step - loss: 0.6003 - accuracy: 0.7577 - val_loss: 0.9466 - val_accuracy: 0.6139\n",
            "Epoch 29/40\n",
            "43/43 [==============================] - 9s 182ms/step - loss: 0.5989 - accuracy: 0.7569 - val_loss: 0.9657 - val_accuracy: 0.6287\n",
            "Epoch 30/40\n",
            "43/43 [==============================] - 9s 186ms/step - loss: 0.5914 - accuracy: 0.7628 - val_loss: 0.9849 - val_accuracy: 0.6238\n",
            "Epoch 31/40\n",
            "43/43 [==============================] - 9s 179ms/step - loss: 0.5939 - accuracy: 0.7635 - val_loss: 0.9663 - val_accuracy: 0.6287\n",
            "Epoch 32/40\n",
            "43/43 [==============================] - 9s 185ms/step - loss: 0.5845 - accuracy: 0.7693 - val_loss: 0.9291 - val_accuracy: 0.6238\n",
            "Epoch 33/40\n",
            "43/43 [==============================] - 9s 183ms/step - loss: 0.5774 - accuracy: 0.7730 - val_loss: 0.9756 - val_accuracy: 0.6238\n",
            "Epoch 34/40\n",
            "43/43 [==============================] - 9s 176ms/step - loss: 0.5793 - accuracy: 0.7715 - val_loss: 0.9735 - val_accuracy: 0.6238\n",
            "Epoch 35/40\n",
            "43/43 [==============================] - 9s 180ms/step - loss: 0.5819 - accuracy: 0.7591 - val_loss: 0.9899 - val_accuracy: 0.6287\n",
            "Epoch 36/40\n",
            "43/43 [==============================] - 9s 186ms/step - loss: 0.5673 - accuracy: 0.7854 - val_loss: 0.9561 - val_accuracy: 0.6337\n",
            "Epoch 37/40\n",
            "43/43 [==============================] - 9s 178ms/step - loss: 0.5703 - accuracy: 0.7672 - val_loss: 0.9586 - val_accuracy: 0.6337\n",
            "Epoch 38/40\n",
            "43/43 [==============================] - 9s 178ms/step - loss: 0.5617 - accuracy: 0.7825 - val_loss: 0.9593 - val_accuracy: 0.6287\n",
            "Epoch 39/40\n",
            "43/43 [==============================] - 9s 189ms/step - loss: 0.5650 - accuracy: 0.7759 - val_loss: 0.9767 - val_accuracy: 0.6337\n",
            "Epoch 40/40\n",
            "43/43 [==============================] - 9s 180ms/step - loss: 0.5599 - accuracy: 0.7759 - val_loss: 0.9540 - val_accuracy: 0.6188\n"
          ]
        }
      ]
    },
    {
      "cell_type": "code",
      "source": [
        "# Evaluate the model on the test data\n",
        "results_feature_extraction = model_0.evaluate(test_data)\n",
        "results_feature_extraction"
      ],
      "metadata": {
        "colab": {
          "base_uri": "https://localhost:8080/"
        },
        "id": "3RyQKC5aMK8c",
        "outputId": "11ee04b6-30ed-4f7d-9c18-5e94518f453e"
      },
      "execution_count": 12,
      "outputs": [
        {
          "output_type": "stream",
          "name": "stdout",
          "text": [
            "7/7 [==============================] - 2s 55ms/step - loss: 0.9540 - accuracy: 0.6188\n"
          ]
        },
        {
          "output_type": "execute_result",
          "data": {
            "text/plain": [
              "[0.9540340900421143, 0.6188119053840637]"
            ]
          },
          "metadata": {},
          "execution_count": 12
        }
      ]
    },
    {
      "cell_type": "code",
      "source": [
        "\n",
        "plot_loss_curves(history_0)"
      ],
      "metadata": {
        "colab": {
          "base_uri": "https://localhost:8080/",
          "height": 927
        },
        "id": "mO3v1RY0MM8b",
        "outputId": "e6809146-3431-49a3-b1a5-bbad6fb109d0"
      },
      "execution_count": 13,
      "outputs": [
        {
          "output_type": "display_data",
          "data": {
            "text/plain": [
              "<Figure size 640x480 with 1 Axes>"
            ],
            "image/png": "[encoded data removed]"
          },
          "metadata": {}
        },
        {
          "output_type": "display_data",
          "data": {
            "text/plain": [
              "<Figure size 640x480 with 1 Axes>"
            ],
            "image/png": "[encoded data removed]"
          },
          "metadata": {}
        }
      ]
    },
    {
      "cell_type": "code",
      "source": [
        "from sklearn.metrics import classification_report\n",
        "\n",
        "# Assuming you have true labels for your test data stored in y_true\n",
        "# and predictions from your model stored in y_pred\n",
        "\n",
        "# Convert categorical predictions to class labels\n",
        "y_pred_labels = np.argmax(model_0.predict(test_data), axis=1)\n",
        "\n",
        "# Get true labels from the test dataset\n",
        "y_true_labels = np.concatenate([y for x, y in test_data], axis=0)\n",
        "y_true_labels = np.argmax(y_true_labels, axis=1)\n",
        "\n",
        "# Generate classification report\n",
        "report = classification_report(y_true_labels, y_pred_labels)\n",
        "\n",
        "print(report)"
      ],
      "metadata": {
        "colab": {
          "base_uri": "https://localhost:8080/"
        },
        "id": "ZSTS-0jDMN5u",
        "outputId": "a8c9eb87-9dc5-4448-8b07-d829dee199fd"
      },
      "execution_count": 14,
      "outputs": [
        {
          "output_type": "stream",
          "name": "stdout",
          "text": [
            "7/7 [==============================] - 3s 65ms/step\n",
            "              precision    recall  f1-score   support\n",
            "\n",
            "           0       0.29      0.08      0.12        50\n",
            "           1       0.31      0.31      0.31        52\n",
            "           2       0.51      0.70      0.59       100\n",
            "\n",
            "    accuracy                           0.45       202\n",
            "   macro avg       0.37      0.36      0.34       202\n",
            "weighted avg       0.40      0.45      0.40       202\n",
            "\n"
          ]
        }
      ]
    },
    {
      "cell_type": "code",
      "source": [
        "\n",
        "# Eğitim doğruluğunu geçmiş verilerinden al\n",
        "train_accuracy = history_0.history['accuracy']\n",
        "\n",
        "# Son epoch'un eğitim doğruluğunu yazdır\n",
        "print(\"Eğitim doğruluğu:\", train_accuracy[-1])\n",
        ""
      ],
      "metadata": {
        "colab": {
          "base_uri": "https://localhost:8080/"
        },
        "id": "1Bq9h55OMPjJ",
        "outputId": "2491a5d9-adbe-475d-b140-f2d67ca9240f"
      },
      "execution_count": 15,
      "outputs": [
        {
          "output_type": "stream",
          "name": "stdout",
          "text": [
            "Eğitim doğruluğu: 0.7759124040603638\n"
          ]
        }
      ]
    },
    {
      "cell_type": "code",
      "source": [],
      "metadata": {
        "id": "rFI8nEd2MQsf"
      },
      "execution_count": null,
      "outputs": []
    }
  ]
}