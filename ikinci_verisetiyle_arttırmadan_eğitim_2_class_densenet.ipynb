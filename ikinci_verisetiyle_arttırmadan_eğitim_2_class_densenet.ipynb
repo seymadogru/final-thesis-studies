{
  "nbformat": 4,
  "nbformat_minor": 0,
  "metadata": {
    "colab": {
      "provenance": [],
      "machine_shape": "hm",
      "gpuType": "T4"
    },
    "kernelspec": {
      "name": "python3",
      "display_name": "Python 3"
    },
    "language_info": {
      "name": "python"
    },
    "accelerator": "GPU"
  },
  "cells": [
    {
      "cell_type": "code",
      "execution_count": 1,
      "metadata": {
        "colab": {
          "base_uri": "https://localhost:8080/"
        },
        "id": "Ukn8C3kreVCG",
        "outputId": "864bf3ee-06fa-4e84-edb0-e05151e961c8"
      },
      "outputs": [
        {
          "output_type": "stream",
          "name": "stdout",
          "text": [
            "--2024-07-25 06:01:14--  https://raw.githubusercontent.com/mrdbourke/tensorflow-deep-learning/main/extras/helper_functions.py\n",
            "Resolving raw.githubusercontent.com (raw.githubusercontent.com)... 185.199.108.133, 185.199.109.133, 185.199.110.133, ...\n",
            "Connecting to raw.githubusercontent.com (raw.githubusercontent.com)|185.199.108.133|:443... connected.\n",
            "HTTP request sent, awaiting response... 200 OK\n",
            "Length: 10246 (10K) [text/plain]\n",
            "Saving to: ‘helper_functions.py’\n",
            "\n",
            "\rhelper_functions.py   0%[                    ]       0  --.-KB/s               \rhelper_functions.py 100%[===================>]  10.01K  --.-KB/s    in 0s      \n",
            "\n",
            "2024-07-25 06:01:15 (117 MB/s) - ‘helper_functions.py’ saved [10246/10246]\n",
            "\n"
          ]
        }
      ],
      "source": [
        "!wget https://raw.githubusercontent.com/mrdbourke/tensorflow-deep-learning/main/extras/helper_functions.py\n",
        ""
      ]
    },
    {
      "cell_type": "code",
      "source": [
        "from helper_functions import create_tensorboard_callback, plot_loss_curves, unzip_data, walk_through_dir"
      ],
      "metadata": {
        "id": "PDAERQaverZZ"
      },
      "execution_count": 2,
      "outputs": []
    },
    {
      "cell_type": "code",
      "source": [
        "import os\n",
        "\n",
        "for dirpath, dirnames, filenames in os.walk(\"/content/drive/MyDrive/Tez Dosyaları/ikinci veriseti 2 class\"):\n",
        "  print(f\"There are {len(dirnames)} directories and {len(filenames)} images in '{dirpath}'.\")\n",
        ""
      ],
      "metadata": {
        "colab": {
          "base_uri": "https://localhost:8080/"
        },
        "id": "yClEIe23etR0",
        "outputId": "09b59e16-5f49-4e69-ee47-a23b187f4cfd"
      },
      "execution_count": 3,
      "outputs": [
        {
          "output_type": "stream",
          "name": "stdout",
          "text": [
            "There are 2 directories and 0 images in '/content/drive/MyDrive/Tez Dosyaları/ikinci veriseti 2 class'.\n",
            "There are 2 directories and 0 images in '/content/drive/MyDrive/Tez Dosyaları/ikinci veriseti 2 class/Train'.\n",
            "There are 0 directories and 223 images in '/content/drive/MyDrive/Tez Dosyaları/ikinci veriseti 2 class/Train/Malignant'.\n",
            "There are 0 directories and 70 images in '/content/drive/MyDrive/Tez Dosyaları/ikinci veriseti 2 class/Train/Benign'.\n",
            "There are 2 directories and 0 images in '/content/drive/MyDrive/Tez Dosyaları/ikinci veriseti 2 class/Test'.\n",
            "There are 0 directories and 55 images in '/content/drive/MyDrive/Tez Dosyaları/ikinci veriseti 2 class/Test/Malignant'.\n",
            "There are 0 directories and 18 images in '/content/drive/MyDrive/Tez Dosyaları/ikinci veriseti 2 class/Test/Benign'.\n"
          ]
        }
      ]
    },
    {
      "cell_type": "code",
      "source": [
        "train_dir = \"/content/drive/MyDrive/Tez Dosyaları/ikinci veriseti 2 class/Train\"\n",
        "test_dir = \"/content/drive/MyDrive/Tez Dosyaları/ikinci veriseti 2 class/Test\""
      ],
      "metadata": {
        "id": "TCNPwJsGe1Hc"
      },
      "execution_count": 4,
      "outputs": []
    },
    {
      "cell_type": "code",
      "source": [
        "import tensorflow as tf\n",
        "BATCH_SIZE = 32\n",
        "IMG_SIZE = (224, 224)\n",
        "train_data= tf.keras.preprocessing.image_dataset_from_directory(train_dir,\n",
        "                                                          label_mode=\"binary\",\n",
        "                                                          batch_size=BATCH_SIZE,\n",
        "                                                          image_size=IMG_SIZE)\n",
        "\n",
        "test_data = tf.keras.preprocessing.image_dataset_from_directory(test_dir,\n",
        "                                                          label_mode=\"binary\",\n",
        "                                                          batch_size=BATCH_SIZE,\n",
        "                                                          image_size=IMG_SIZE)"
      ],
      "metadata": {
        "colab": {
          "base_uri": "https://localhost:8080/"
        },
        "id": "mJWiSACdfQAg",
        "outputId": "a28d5d41-0e3a-49b2-cd04-8dcccbeaebf7"
      },
      "execution_count": 5,
      "outputs": [
        {
          "output_type": "stream",
          "name": "stdout",
          "text": [
            "Found 293 files belonging to 2 classes.\n",
            "Found 73 files belonging to 2 classes.\n"
          ]
        }
      ]
    },
    {
      "cell_type": "code",
      "source": [
        "train_data.class_names"
      ],
      "metadata": {
        "colab": {
          "base_uri": "https://localhost:8080/"
        },
        "id": "JDY4Vl-NfSWD",
        "outputId": "f2a1ffce-3401-450f-ba61-261da7c2ee14"
      },
      "execution_count": 6,
      "outputs": [
        {
          "output_type": "execute_result",
          "data": {
            "text/plain": [
              "['Benign', 'Malignant']"
            ]
          },
          "metadata": {},
          "execution_count": 6
        }
      ]
    },
    {
      "cell_type": "code",
      "source": [
        "from tensorflow.keras.preprocessing.image import ImageDataGenerator\n",
        "from tensorflow.keras.preprocessing.image import img_to_array\n",
        "from tensorflow.keras.preprocessing.image import load_img\n",
        "import numpy as np\n",
        "import random\n",
        "import math\n",
        "import csv\n",
        "import cv2\n",
        "import os"
      ],
      "metadata": {
        "id": "rt18y_x9fWMs"
      },
      "execution_count": 7,
      "outputs": []
    },
    {
      "cell_type": "code",
      "source": [
        "# 1.  create base model with tf.keras.applications\n",
        "base_model = tf.keras.applications.DenseNet121(include_top=False)\n",
        "\n",
        "# 2. Freeze the base model\n",
        "base_model.trainable = False\n",
        "\n",
        "# 3. create inputs into our model\n",
        "inputs = tf.keras.layers.Input(shape=(224, 224, 3), name=\"input_layer\")\n",
        "\n",
        "# 4. if using ResNet50V2 you will need to normalize inputs\n",
        "# x = tf.keras.layers.experimental.preprocessing.Rescaling(1./255)(inputs)\n",
        "\n",
        "# 5. pass the inputs to the base_model\n",
        "x = base_model(inputs)\n",
        "print(f\"Shape after passing inputs through base model: {x.shape}\")\n",
        "\n",
        "# 6. average pool the outputs of the base model (aggregate all the most important information, reduce number of computations)\n",
        "x = tf.keras.layers.GlobalAveragePooling2D(name=\"global_average_pooling_layer\")(x)\n",
        "print(f\"Shape after GlobalAveragePooling2D: {x.shape}\")\n",
        "\n",
        "# 7. create the output activation layer\n",
        "outputs = tf.keras.layers.Dense(1, activation=\"sigmoid\", name=\"output_layer\")(x)\n",
        "model_0 = tf.keras.Model(inputs, outputs)\n",
        "\n",
        "# 8. compile the model\n",
        "model_0.compile(loss=\"binary_crossentropy\",\n",
        "                optimizer=tf.keras.optimizers.Adam(),\n",
        "                metrics=[\"accuracy\"])\n",
        "\n",
        "# 9. fit the model\n",
        "history_0 = model_0.fit(train_data,\n",
        "                        epochs=40,\n",
        "                        steps_per_epoch=len(train_data),\n",
        "                        validation_data=test_data,\n",
        "                        validation_steps=int(len(test_data)),\n",
        "                        callbacks=[create_tensorboard_callback(dir_name=\"transfer_learning\",\n",
        "                                                              experiment_name=\"10_percent_feature_extraction\")])\n",
        "\n",
        ""
      ],
      "metadata": {
        "colab": {
          "base_uri": "https://localhost:8080/"
        },
        "id": "5tm8T63-fX3G",
        "outputId": "249fd2df-647e-4a9c-9fb3-ee0bc4ec8ad4"
      },
      "execution_count": 22,
      "outputs": [
        {
          "output_type": "stream",
          "name": "stdout",
          "text": [
            "Downloading data from https://storage.googleapis.com/tensorflow/keras-applications/densenet/densenet121_weights_tf_dim_ordering_tf_kernels_notop.h5\n",
            "29084464/29084464 [==============================] - 0s 0us/step\n",
            "Shape after passing inputs through base model: (None, 7, 7, 1024)\n",
            "Shape after GlobalAveragePooling2D: (None, 1024)\n",
            "Saving TensorBoard log files to: transfer_learning/10_percent_feature_extraction/20240725-061318\n",
            "Epoch 1/40\n",
            "10/10 [==============================] - 22s 956ms/step - loss: 0.7099 - accuracy: 0.6553 - val_loss: 0.6675 - val_accuracy: 0.7534\n",
            "Epoch 2/40\n",
            "10/10 [==============================] - 4s 180ms/step - loss: 0.5906 - accuracy: 0.7611 - val_loss: 0.5747 - val_accuracy: 0.7397\n",
            "Epoch 3/40\n",
            "10/10 [==============================] - 4s 175ms/step - loss: 0.5989 - accuracy: 0.7474 - val_loss: 0.5684 - val_accuracy: 0.7534\n",
            "Epoch 4/40\n",
            "10/10 [==============================] - 4s 180ms/step - loss: 0.5586 - accuracy: 0.7543 - val_loss: 0.5523 - val_accuracy: 0.7534\n",
            "Epoch 5/40\n",
            "10/10 [==============================] - 4s 180ms/step - loss: 0.5504 - accuracy: 0.7509 - val_loss: 0.5487 - val_accuracy: 0.7534\n",
            "Epoch 6/40\n",
            "10/10 [==============================] - 4s 176ms/step - loss: 0.5386 - accuracy: 0.7577 - val_loss: 0.5454 - val_accuracy: 0.7534\n",
            "Epoch 7/40\n",
            "10/10 [==============================] - 4s 177ms/step - loss: 0.5334 - accuracy: 0.7611 - val_loss: 0.5318 - val_accuracy: 0.7534\n",
            "Epoch 8/40\n",
            "10/10 [==============================] - 4s 188ms/step - loss: 0.5201 - accuracy: 0.7577 - val_loss: 0.5374 - val_accuracy: 0.7534\n",
            "Epoch 9/40\n",
            "10/10 [==============================] - 4s 174ms/step - loss: 0.5094 - accuracy: 0.7645 - val_loss: 0.5213 - val_accuracy: 0.7534\n",
            "Epoch 10/40\n",
            "10/10 [==============================] - 4s 177ms/step - loss: 0.5029 - accuracy: 0.7543 - val_loss: 0.5320 - val_accuracy: 0.7534\n",
            "Epoch 11/40\n",
            "10/10 [==============================] - 4s 187ms/step - loss: 0.5027 - accuracy: 0.7645 - val_loss: 0.5142 - val_accuracy: 0.7534\n",
            "Epoch 12/40\n",
            "10/10 [==============================] - 4s 182ms/step - loss: 0.4916 - accuracy: 0.7713 - val_loss: 0.5110 - val_accuracy: 0.7534\n",
            "Epoch 13/40\n",
            "10/10 [==============================] - 4s 171ms/step - loss: 0.4821 - accuracy: 0.7645 - val_loss: 0.5023 - val_accuracy: 0.7397\n",
            "Epoch 14/40\n",
            "10/10 [==============================] - 4s 176ms/step - loss: 0.4737 - accuracy: 0.7611 - val_loss: 0.5177 - val_accuracy: 0.7534\n",
            "Epoch 15/40\n",
            "10/10 [==============================] - 4s 177ms/step - loss: 0.4676 - accuracy: 0.7816 - val_loss: 0.5036 - val_accuracy: 0.7534\n",
            "Epoch 16/40\n",
            "10/10 [==============================] - 4s 179ms/step - loss: 0.4657 - accuracy: 0.7782 - val_loss: 0.5156 - val_accuracy: 0.7534\n",
            "Epoch 17/40\n",
            "10/10 [==============================] - 4s 178ms/step - loss: 0.4614 - accuracy: 0.7747 - val_loss: 0.4985 - val_accuracy: 0.7534\n",
            "Epoch 18/40\n",
            "10/10 [==============================] - 4s 183ms/step - loss: 0.4505 - accuracy: 0.7850 - val_loss: 0.5059 - val_accuracy: 0.7534\n",
            "Epoch 19/40\n",
            "10/10 [==============================] - 4s 174ms/step - loss: 0.4502 - accuracy: 0.7713 - val_loss: 0.4967 - val_accuracy: 0.7534\n",
            "Epoch 20/40\n",
            "10/10 [==============================] - 4s 180ms/step - loss: 0.4569 - accuracy: 0.8020 - val_loss: 0.5160 - val_accuracy: 0.7534\n",
            "Epoch 21/40\n",
            "10/10 [==============================] - 4s 185ms/step - loss: 0.4483 - accuracy: 0.7713 - val_loss: 0.5044 - val_accuracy: 0.7534\n",
            "Epoch 22/40\n",
            "10/10 [==============================] - 4s 179ms/step - loss: 0.4339 - accuracy: 0.7986 - val_loss: 0.4930 - val_accuracy: 0.7534\n",
            "Epoch 23/40\n",
            "10/10 [==============================] - 4s 181ms/step - loss: 0.4356 - accuracy: 0.7679 - val_loss: 0.4910 - val_accuracy: 0.7534\n",
            "Epoch 24/40\n",
            "10/10 [==============================] - 4s 180ms/step - loss: 0.4297 - accuracy: 0.8362 - val_loss: 0.4968 - val_accuracy: 0.7534\n",
            "Epoch 25/40\n",
            "10/10 [==============================] - 4s 178ms/step - loss: 0.4229 - accuracy: 0.7884 - val_loss: 0.5024 - val_accuracy: 0.7534\n",
            "Epoch 26/40\n",
            "10/10 [==============================] - 4s 178ms/step - loss: 0.4143 - accuracy: 0.7952 - val_loss: 0.4867 - val_accuracy: 0.7671\n",
            "Epoch 27/40\n",
            "10/10 [==============================] - 4s 181ms/step - loss: 0.4129 - accuracy: 0.7986 - val_loss: 0.4961 - val_accuracy: 0.7534\n",
            "Epoch 28/40\n",
            "10/10 [==============================] - 4s 188ms/step - loss: 0.4118 - accuracy: 0.8259 - val_loss: 0.4926 - val_accuracy: 0.7534\n",
            "Epoch 29/40\n",
            "10/10 [==============================] - 4s 175ms/step - loss: 0.4050 - accuracy: 0.8020 - val_loss: 0.4878 - val_accuracy: 0.7534\n",
            "Epoch 30/40\n",
            "10/10 [==============================] - 4s 182ms/step - loss: 0.4007 - accuracy: 0.8157 - val_loss: 0.4854 - val_accuracy: 0.7671\n",
            "Epoch 31/40\n",
            "10/10 [==============================] - 4s 180ms/step - loss: 0.4136 - accuracy: 0.8498 - val_loss: 0.5144 - val_accuracy: 0.7534\n",
            "Epoch 32/40\n",
            "10/10 [==============================] - 4s 175ms/step - loss: 0.4025 - accuracy: 0.7782 - val_loss: 0.4841 - val_accuracy: 0.7671\n",
            "Epoch 33/40\n",
            "10/10 [==============================] - 4s 176ms/step - loss: 0.3998 - accuracy: 0.8567 - val_loss: 0.5008 - val_accuracy: 0.7671\n",
            "Epoch 34/40\n",
            "10/10 [==============================] - 4s 180ms/step - loss: 0.4004 - accuracy: 0.8055 - val_loss: 0.4958 - val_accuracy: 0.7671\n",
            "Epoch 35/40\n",
            "10/10 [==============================] - 4s 185ms/step - loss: 0.3838 - accuracy: 0.8157 - val_loss: 0.4919 - val_accuracy: 0.7534\n",
            "Epoch 36/40\n",
            "10/10 [==============================] - 4s 176ms/step - loss: 0.3809 - accuracy: 0.8498 - val_loss: 0.5011 - val_accuracy: 0.7671\n",
            "Epoch 37/40\n",
            "10/10 [==============================] - 4s 177ms/step - loss: 0.3791 - accuracy: 0.8225 - val_loss: 0.4907 - val_accuracy: 0.7397\n",
            "Epoch 38/40\n",
            "10/10 [==============================] - 4s 188ms/step - loss: 0.3843 - accuracy: 0.8805 - val_loss: 0.4961 - val_accuracy: 0.7671\n",
            "Epoch 39/40\n",
            "10/10 [==============================] - 4s 175ms/step - loss: 0.3705 - accuracy: 0.8362 - val_loss: 0.5022 - val_accuracy: 0.7671\n",
            "Epoch 40/40\n",
            "10/10 [==============================] - 4s 177ms/step - loss: 0.3685 - accuracy: 0.8430 - val_loss: 0.4903 - val_accuracy: 0.7534\n"
          ]
        }
      ]
    },
    {
      "cell_type": "code",
      "source": [
        "import matplotlib.pyplot as plt\n",
        "\n",
        "def plot_loss_curves(history):\n",
        "  \"\"\"\n",
        "  Returns separate loss curves for training and validation metrics.\n",
        "  Args:\n",
        "    history: TensorFlow History object.\n",
        "\n",
        "    Returns:\n",
        "    Plots of training/validation loss and accuracy metrics.\n",
        "  \"\"\"\n",
        "  loss = history.history['loss']\n",
        "  val_loss = history.history['val_loss']\n",
        "\n",
        "  accuracy = history.history['accuracy']\n",
        "  val_accuracy = history.history['val_accuracy']\n",
        "\n",
        "  epochs = range(len(history.history['loss']))\n",
        "\n",
        "  #Plot loss\n",
        "\n",
        "  plt.plot(epochs, loss, label='training_loss')\n",
        "  plt.plot(epochs, val_loss, label='val_loss')\n",
        "  plt.title('Loss')\n",
        "  plt.xlabel('Epochs')\n",
        "  plt.legend()\n",
        "\n",
        "  #Plot accuracy\n",
        "  plt.figure()\n",
        "  plt.plot(epochs, accuracy, label='training_accuracy')\n",
        "  plt.plot(epochs, val_accuracy, label='val_accuracy')\n",
        "  plt.title('Accuracy')\n",
        "  plt.xlabel('Epochs')\n",
        "  plt.legend();\n",
        "\n",
        "plot_loss_curves(history_0)"
      ],
      "metadata": {
        "colab": {
          "base_uri": "https://localhost:8080/",
          "height": 927
        },
        "id": "wN1dWgZyfcgq",
        "outputId": "8bc53faa-41c5-4693-98ea-2bdd61031698"
      },
      "execution_count": 23,
      "outputs": [
        {
          "output_type": "display_data",
          "data": {
            "text/plain": [
              "<Figure size 640x480 with 1 Axes>"
            ],
            "image/png": "[encoded data removed]"
          },
          "metadata": {}
        },
        {
          "output_type": "display_data",
          "data": {
            "text/plain": [
              "<Figure size 640x480 with 1 Axes>"
            ],
            "image/png": "[encoded data removed]"
          },
          "metadata": {}
        }
      ]
    },
    {
      "cell_type": "code",
      "source": [
        "results_feature_extraction = model_0.evaluate(test_data)\n",
        "results_feature_extraction"
      ],
      "metadata": {
        "colab": {
          "base_uri": "https://localhost:8080/"
        },
        "id": "pEZ1XDVOffJ8",
        "outputId": "06e81829-e552-40af-b77b-c2847b32a3a2"
      },
      "execution_count": 24,
      "outputs": [
        {
          "output_type": "stream",
          "name": "stdout",
          "text": [
            "3/3 [==============================] - 1s 65ms/step - loss: 0.4903 - accuracy: 0.7534\n"
          ]
        },
        {
          "output_type": "execute_result",
          "data": {
            "text/plain": [
              "[0.49029064178466797, 0.7534246444702148]"
            ]
          },
          "metadata": {},
          "execution_count": 24
        }
      ]
    },
    {
      "cell_type": "code",
      "source": [
        "\n",
        "# Get the predicted probabilities for the test set\n",
        "y_pred_probs = model_0.predict(test_data)\n",
        "\n",
        "# Convert probabilities to binary predictions (0 or 1)\n",
        "y_pred = (y_pred_probs > 0.5).astype(int)\n",
        "\n",
        "# Get the true labels for the test set\n",
        "y_true = np.concatenate([y for x, y in test_data], axis=0)\n",
        "\n",
        "# Calculate precision\n",
        "from sklearn.metrics import precision_score\n",
        "precision = precision_score(y_true, y_pred)\n",
        "print(\"Precision:\", precision)\n"
      ],
      "metadata": {
        "colab": {
          "base_uri": "https://localhost:8080/"
        },
        "id": "gJJ9TMWhfhIu",
        "outputId": "4a381638-66fe-48e6-ccd6-d8eae6dabd14"
      },
      "execution_count": 25,
      "outputs": [
        {
          "output_type": "stream",
          "name": "stdout",
          "text": [
            "3/3 [==============================] - 3s 107ms/step\n",
            "Precision: 0.7605633802816901\n"
          ]
        }
      ]
    },
    {
      "cell_type": "code",
      "source": [
        "from sklearn.metrics import recall_score\n",
        "\n",
        "# Calculate recall\n",
        "recall = recall_score(y_true, y_pred)\n",
        "print(\"Recall:\", recall)\n"
      ],
      "metadata": {
        "colab": {
          "base_uri": "https://localhost:8080/"
        },
        "id": "7hAe1bMAfjDn",
        "outputId": "c60dca65-925c-4aa6-d36a-bb293358d696"
      },
      "execution_count": 26,
      "outputs": [
        {
          "output_type": "stream",
          "name": "stdout",
          "text": [
            "Recall: 0.9818181818181818\n"
          ]
        }
      ]
    },
    {
      "cell_type": "code",
      "source": [
        "\n",
        "from sklearn.metrics import f1_score\n",
        "# Calculate F1-score\n",
        "f1 = f1_score(y_true, y_pred)\n",
        "print(\"F1-score:\", f1)\n"
      ],
      "metadata": {
        "colab": {
          "base_uri": "https://localhost:8080/"
        },
        "id": "uFvAER5Kfktv",
        "outputId": "22ed2b3f-fef9-4f63-9552-6d50bfc33bbd"
      },
      "execution_count": 27,
      "outputs": [
        {
          "output_type": "stream",
          "name": "stdout",
          "text": [
            "F1-score: 0.8571428571428571\n"
          ]
        }
      ]
    },
    {
      "cell_type": "code",
      "source": [
        "\n",
        "# Eğitim doğruluğunu elde etmek için history_0 nesnesini kullanın\n",
        "train_accuracy = history_0.history['accuracy']\n",
        "\n",
        "# Son epoch'un eğitim doğruluğunu yazdırın\n",
        "print(\"Eğitim doğruluğu:\", train_accuracy[-1])"
      ],
      "metadata": {
        "colab": {
          "base_uri": "https://localhost:8080/"
        },
        "id": "5Bz5SwYNfmjj",
        "outputId": "c485fad3-93ff-473e-c36d-f502f20e5169"
      },
      "execution_count": 28,
      "outputs": [
        {
          "output_type": "stream",
          "name": "stdout",
          "text": [
            "Eğitim doğruluğu: 0.8430033922195435\n"
          ]
        }
      ]
    },
    {
      "cell_type": "code",
      "source": [],
      "metadata": {
        "id": "mGHiGdz3ft9e"
      },
      "execution_count": 28,
      "outputs": []
    }
  ]
}