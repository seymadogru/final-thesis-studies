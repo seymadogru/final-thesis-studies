{
  "nbformat": 4,
  "nbformat_minor": 0,
  "metadata": {
    "colab": {
      "provenance": [],
      "machine_shape": "hm",
      "gpuType": "T4"
    },
    "kernelspec": {
      "name": "python3",
      "display_name": "Python 3"
    },
    "language_info": {
      "name": "python"
    },
    "accelerator": "GPU"
  },
  "cells": [
    {
      "cell_type": "code",
      "execution_count": 1,
      "metadata": {
        "colab": {
          "base_uri": "https://localhost:8080/"
        },
        "id": "Ukn8C3kreVCG",
        "outputId": "864bf3ee-06fa-4e84-edb0-e05151e961c8"
      },
      "outputs": [
        {
          "output_type": "stream",
          "name": "stdout",
          "text": [
            "--2024-07-25 06:01:14--  https://raw.githubusercontent.com/mrdbourke/tensorflow-deep-learning/main/extras/helper_functions.py\n",
            "Resolving raw.githubusercontent.com (raw.githubusercontent.com)... 185.199.108.133, 185.199.109.133, 185.199.110.133, ...\n",
            "Connecting to raw.githubusercontent.com (raw.githubusercontent.com)|185.199.108.133|:443... connected.\n",
            "HTTP request sent, awaiting response... 200 OK\n",
            "Length: 10246 (10K) [text/plain]\n",
            "Saving to: ‘helper_functions.py’\n",
            "\n",
            "\rhelper_functions.py   0%[                    ]       0  --.-KB/s               \rhelper_functions.py 100%[===================>]  10.01K  --.-KB/s    in 0s      \n",
            "\n",
            "2024-07-25 06:01:15 (117 MB/s) - ‘helper_functions.py’ saved [10246/10246]\n",
            "\n"
          ]
        }
      ],
      "source": [
        "!wget https://raw.githubusercontent.com/mrdbourke/tensorflow-deep-learning/main/extras/helper_functions.py\n",
        ""
      ]
    },
    {
      "cell_type": "code",
      "source": [
        "from helper_functions import create_tensorboard_callback, plot_loss_curves, unzip_data, walk_through_dir"
      ],
      "metadata": {
        "id": "PDAERQaverZZ"
      },
      "execution_count": 2,
      "outputs": []
    },
    {
      "cell_type": "code",
      "source": [
        "import os\n",
        "\n",
        "for dirpath, dirnames, filenames in os.walk(\"/content/drive/MyDrive/Tez Dosyaları/ikinci veriseti 2 class\"):\n",
        "  print(f\"There are {len(dirnames)} directories and {len(filenames)} images in '{dirpath}'.\")\n",
        ""
      ],
      "metadata": {
        "colab": {
          "base_uri": "https://localhost:8080/"
        },
        "id": "yClEIe23etR0",
        "outputId": "09b59e16-5f49-4e69-ee47-a23b187f4cfd"
      },
      "execution_count": 3,
      "outputs": [
        {
          "output_type": "stream",
          "name": "stdout",
          "text": [
            "There are 2 directories and 0 images in '/content/drive/MyDrive/Tez Dosyaları/ikinci veriseti 2 class'.\n",
            "There are 2 directories and 0 images in '/content/drive/MyDrive/Tez Dosyaları/ikinci veriseti 2 class/Train'.\n",
            "There are 0 directories and 223 images in '/content/drive/MyDrive/Tez Dosyaları/ikinci veriseti 2 class/Train/Malignant'.\n",
            "There are 0 directories and 70 images in '/content/drive/MyDrive/Tez Dosyaları/ikinci veriseti 2 class/Train/Benign'.\n",
            "There are 2 directories and 0 images in '/content/drive/MyDrive/Tez Dosyaları/ikinci veriseti 2 class/Test'.\n",
            "There are 0 directories and 55 images in '/content/drive/MyDrive/Tez Dosyaları/ikinci veriseti 2 class/Test/Malignant'.\n",
            "There are 0 directories and 18 images in '/content/drive/MyDrive/Tez Dosyaları/ikinci veriseti 2 class/Test/Benign'.\n"
          ]
        }
      ]
    },
    {
      "cell_type": "code",
      "source": [
        "train_dir = \"/content/drive/MyDrive/Tez Dosyaları/ikinci veriseti 2 class/Train\"\n",
        "test_dir = \"/content/drive/MyDrive/Tez Dosyaları/ikinci veriseti 2 class/Test\""
      ],
      "metadata": {
        "id": "TCNPwJsGe1Hc"
      },
      "execution_count": 4,
      "outputs": []
    },
    {
      "cell_type": "code",
      "source": [
        "import tensorflow as tf\n",
        "BATCH_SIZE = 32\n",
        "IMG_SIZE = (224, 224)\n",
        "train_data= tf.keras.preprocessing.image_dataset_from_directory(train_dir,\n",
        "                                                          label_mode=\"binary\",\n",
        "                                                          batch_size=BATCH_SIZE,\n",
        "                                                          image_size=IMG_SIZE)\n",
        "\n",
        "test_data = tf.keras.preprocessing.image_dataset_from_directory(test_dir,\n",
        "                                                          label_mode=\"binary\",\n",
        "                                                          batch_size=BATCH_SIZE,\n",
        "                                                          image_size=IMG_SIZE)"
      ],
      "metadata": {
        "colab": {
          "base_uri": "https://localhost:8080/"
        },
        "id": "mJWiSACdfQAg",
        "outputId": "a28d5d41-0e3a-49b2-cd04-8dcccbeaebf7"
      },
      "execution_count": 5,
      "outputs": [
        {
          "output_type": "stream",
          "name": "stdout",
          "text": [
            "Found 293 files belonging to 2 classes.\n",
            "Found 73 files belonging to 2 classes.\n"
          ]
        }
      ]
    },
    {
      "cell_type": "code",
      "source": [
        "train_data.class_names"
      ],
      "metadata": {
        "colab": {
          "base_uri": "https://localhost:8080/"
        },
        "id": "JDY4Vl-NfSWD",
        "outputId": "f2a1ffce-3401-450f-ba61-261da7c2ee14"
      },
      "execution_count": 6,
      "outputs": [
        {
          "output_type": "execute_result",
          "data": {
            "text/plain": [
              "['Benign', 'Malignant']"
            ]
          },
          "metadata": {},
          "execution_count": 6
        }
      ]
    },
    {
      "cell_type": "code",
      "source": [
        "from tensorflow.keras.preprocessing.image import ImageDataGenerator\n",
        "from tensorflow.keras.preprocessing.image import img_to_array\n",
        "from tensorflow.keras.preprocessing.image import load_img\n",
        "import numpy as np\n",
        "import random\n",
        "import math\n",
        "import csv\n",
        "import cv2\n",
        "import os"
      ],
      "metadata": {
        "id": "rt18y_x9fWMs"
      },
      "execution_count": 7,
      "outputs": []
    },
    {
      "cell_type": "code",
      "source": [
        "# 1.  create base model with tf.keras.applications\n",
        "base_model = tf.keras.applications.VGG19(include_top=False)\n",
        "\n",
        "# 2. Freeze the base model\n",
        "base_model.trainable = False\n",
        "\n",
        "# 3. create inputs into our model\n",
        "inputs = tf.keras.layers.Input(shape=(224, 224, 3), name=\"input_layer\")\n",
        "\n",
        "# 4. if using ResNet50V2 you will need to normalize inputs\n",
        "# x = tf.keras.layers.experimental.preprocessing.Rescaling(1./255)(inputs)\n",
        "\n",
        "# 5. pass the inputs to the base_model\n",
        "x = base_model(inputs)\n",
        "print(f\"Shape after passing inputs through base model: {x.shape}\")\n",
        "\n",
        "# 6. average pool the outputs of the base model (aggregate all the most important information, reduce number of computations)\n",
        "x = tf.keras.layers.GlobalAveragePooling2D(name=\"global_average_pooling_layer\")(x)\n",
        "print(f\"Shape after GlobalAveragePooling2D: {x.shape}\")\n",
        "\n",
        "# 7. create the output activation layer\n",
        "outputs = tf.keras.layers.Dense(1, activation=\"sigmoid\", name=\"output_layer\")(x)\n",
        "model_0 = tf.keras.Model(inputs, outputs)\n",
        "\n",
        "# 8. compile the model\n",
        "model_0.compile(loss=\"binary_crossentropy\",\n",
        "                optimizer=tf.keras.optimizers.Adam(),\n",
        "                metrics=[\"accuracy\"])\n",
        "\n",
        "# 9. fit the model\n",
        "history_0 = model_0.fit(train_data,\n",
        "                        epochs=40,\n",
        "                        steps_per_epoch=len(train_data),\n",
        "                        validation_data=test_data,\n",
        "                        validation_steps=int(len(test_data)),\n",
        "                        callbacks=[create_tensorboard_callback(dir_name=\"transfer_learning\",\n",
        "                                                              experiment_name=\"10_percent_feature_extraction\")])\n",
        "\n",
        ""
      ],
      "metadata": {
        "colab": {
          "base_uri": "https://localhost:8080/"
        },
        "id": "5tm8T63-fX3G",
        "outputId": "2735913a-43a7-4180-851f-2e7a330c2630"
      },
      "execution_count": 36,
      "outputs": [
        {
          "output_type": "stream",
          "name": "stdout",
          "text": [
            "Downloading data from https://storage.googleapis.com/tensorflow/keras-applications/vgg19/vgg19_weights_tf_dim_ordering_tf_kernels_notop.h5\n",
            "80134624/80134624 [==============================] - 1s 0us/step\n",
            "Shape after passing inputs through base model: (None, 7, 7, 512)\n",
            "Shape after GlobalAveragePooling2D: (None, 512)\n",
            "Saving TensorBoard log files to: transfer_learning/10_percent_feature_extraction/20240725-062207\n",
            "Epoch 1/40\n",
            "10/10 [==============================] - 6s 263ms/step - loss: 0.8411 - accuracy: 0.6553 - val_loss: 0.9049 - val_accuracy: 0.6438\n",
            "Epoch 2/40\n",
            "10/10 [==============================] - 5s 234ms/step - loss: 0.7610 - accuracy: 0.6962 - val_loss: 0.8646 - val_accuracy: 0.6438\n",
            "Epoch 3/40\n",
            "10/10 [==============================] - 4s 243ms/step - loss: 0.6969 - accuracy: 0.6826 - val_loss: 0.8362 - val_accuracy: 0.6301\n",
            "Epoch 4/40\n",
            "10/10 [==============================] - 5s 246ms/step - loss: 0.6552 - accuracy: 0.7235 - val_loss: 0.8132 - val_accuracy: 0.6849\n",
            "Epoch 5/40\n",
            "10/10 [==============================] - 5s 243ms/step - loss: 0.6210 - accuracy: 0.7201 - val_loss: 0.7987 - val_accuracy: 0.6438\n",
            "Epoch 6/40\n",
            "10/10 [==============================] - 4s 244ms/step - loss: 0.5804 - accuracy: 0.7372 - val_loss: 0.7857 - val_accuracy: 0.6712\n",
            "Epoch 7/40\n",
            "10/10 [==============================] - 5s 257ms/step - loss: 0.5595 - accuracy: 0.7440 - val_loss: 0.7709 - val_accuracy: 0.7123\n",
            "Epoch 8/40\n",
            "10/10 [==============================] - 5s 243ms/step - loss: 0.5327 - accuracy: 0.7645 - val_loss: 0.7641 - val_accuracy: 0.6986\n",
            "Epoch 9/40\n",
            "10/10 [==============================] - 5s 245ms/step - loss: 0.5145 - accuracy: 0.7611 - val_loss: 0.7588 - val_accuracy: 0.6986\n",
            "Epoch 10/40\n",
            "10/10 [==============================] - 5s 245ms/step - loss: 0.4900 - accuracy: 0.7611 - val_loss: 0.7575 - val_accuracy: 0.6575\n",
            "Epoch 11/40\n",
            "10/10 [==============================] - 5s 242ms/step - loss: 0.4845 - accuracy: 0.7645 - val_loss: 0.7539 - val_accuracy: 0.6986\n",
            "Epoch 12/40\n",
            "10/10 [==============================] - 5s 240ms/step - loss: 0.4646 - accuracy: 0.7782 - val_loss: 0.7465 - val_accuracy: 0.6986\n",
            "Epoch 13/40\n",
            "10/10 [==============================] - 5s 250ms/step - loss: 0.4571 - accuracy: 0.7782 - val_loss: 0.7484 - val_accuracy: 0.6986\n",
            "Epoch 14/40\n",
            "10/10 [==============================] - 4s 241ms/step - loss: 0.4673 - accuracy: 0.7884 - val_loss: 0.7555 - val_accuracy: 0.7123\n",
            "Epoch 15/40\n",
            "10/10 [==============================] - 5s 240ms/step - loss: 0.4218 - accuracy: 0.7986 - val_loss: 0.7418 - val_accuracy: 0.7123\n",
            "Epoch 16/40\n",
            "10/10 [==============================] - 5s 237ms/step - loss: 0.4115 - accuracy: 0.8055 - val_loss: 0.7432 - val_accuracy: 0.7123\n",
            "Epoch 17/40\n",
            "10/10 [==============================] - 5s 240ms/step - loss: 0.3993 - accuracy: 0.8123 - val_loss: 0.7412 - val_accuracy: 0.7123\n",
            "Epoch 18/40\n",
            "10/10 [==============================] - 4s 240ms/step - loss: 0.3915 - accuracy: 0.8157 - val_loss: 0.7469 - val_accuracy: 0.7123\n",
            "Epoch 19/40\n",
            "10/10 [==============================] - 5s 243ms/step - loss: 0.3971 - accuracy: 0.8020 - val_loss: 0.7458 - val_accuracy: 0.7260\n",
            "Epoch 20/40\n",
            "10/10 [==============================] - 5s 242ms/step - loss: 0.3728 - accuracy: 0.8191 - val_loss: 0.7356 - val_accuracy: 0.7123\n",
            "Epoch 21/40\n",
            "10/10 [==============================] - 5s 242ms/step - loss: 0.3683 - accuracy: 0.8567 - val_loss: 0.7392 - val_accuracy: 0.6986\n",
            "Epoch 22/40\n",
            "10/10 [==============================] - 5s 237ms/step - loss: 0.3632 - accuracy: 0.8123 - val_loss: 0.7422 - val_accuracy: 0.7123\n",
            "Epoch 23/40\n",
            "10/10 [==============================] - 5s 240ms/step - loss: 0.3583 - accuracy: 0.8567 - val_loss: 0.7406 - val_accuracy: 0.6986\n",
            "Epoch 24/40\n",
            "10/10 [==============================] - 4s 247ms/step - loss: 0.3483 - accuracy: 0.8328 - val_loss: 0.7545 - val_accuracy: 0.7260\n",
            "Epoch 25/40\n",
            "10/10 [==============================] - 5s 248ms/step - loss: 0.3388 - accuracy: 0.8737 - val_loss: 0.7404 - val_accuracy: 0.7260\n",
            "Epoch 26/40\n",
            "10/10 [==============================] - 4s 242ms/step - loss: 0.3363 - accuracy: 0.8328 - val_loss: 0.7550 - val_accuracy: 0.7260\n",
            "Epoch 27/40\n",
            "10/10 [==============================] - 4s 249ms/step - loss: 0.3231 - accuracy: 0.8840 - val_loss: 0.7349 - val_accuracy: 0.7260\n",
            "Epoch 28/40\n",
            "10/10 [==============================] - 5s 242ms/step - loss: 0.3213 - accuracy: 0.8908 - val_loss: 0.7565 - val_accuracy: 0.7260\n",
            "Epoch 29/40\n",
            "10/10 [==============================] - 5s 244ms/step - loss: 0.3214 - accuracy: 0.8464 - val_loss: 0.7428 - val_accuracy: 0.7123\n",
            "Epoch 30/40\n",
            "10/10 [==============================] - 4s 245ms/step - loss: 0.3090 - accuracy: 0.8942 - val_loss: 0.7474 - val_accuracy: 0.6986\n",
            "Epoch 31/40\n",
            "10/10 [==============================] - 5s 241ms/step - loss: 0.3063 - accuracy: 0.8942 - val_loss: 0.7516 - val_accuracy: 0.6986\n",
            "Epoch 32/40\n",
            "10/10 [==============================] - 4s 241ms/step - loss: 0.3024 - accuracy: 0.8771 - val_loss: 0.7667 - val_accuracy: 0.7260\n",
            "Epoch 33/40\n",
            "10/10 [==============================] - 4s 247ms/step - loss: 0.2989 - accuracy: 0.8908 - val_loss: 0.7478 - val_accuracy: 0.7260\n",
            "Epoch 34/40\n",
            "10/10 [==============================] - 4s 239ms/step - loss: 0.2907 - accuracy: 0.8976 - val_loss: 0.7576 - val_accuracy: 0.7260\n",
            "Epoch 35/40\n",
            "10/10 [==============================] - 4s 238ms/step - loss: 0.2869 - accuracy: 0.8908 - val_loss: 0.7468 - val_accuracy: 0.7123\n",
            "Epoch 36/40\n",
            "10/10 [==============================] - 5s 249ms/step - loss: 0.2827 - accuracy: 0.9010 - val_loss: 0.7430 - val_accuracy: 0.6986\n",
            "Epoch 37/40\n",
            "10/10 [==============================] - 5s 242ms/step - loss: 0.2767 - accuracy: 0.9010 - val_loss: 0.7667 - val_accuracy: 0.7260\n",
            "Epoch 38/40\n",
            "10/10 [==============================] - 5s 246ms/step - loss: 0.2763 - accuracy: 0.8976 - val_loss: 0.7428 - val_accuracy: 0.7123\n",
            "Epoch 39/40\n",
            "10/10 [==============================] - 5s 243ms/step - loss: 0.2725 - accuracy: 0.9078 - val_loss: 0.7544 - val_accuracy: 0.7123\n",
            "Epoch 40/40\n",
            "10/10 [==============================] - 5s 243ms/step - loss: 0.2661 - accuracy: 0.9113 - val_loss: 0.7491 - val_accuracy: 0.7260\n"
          ]
        }
      ]
    },
    {
      "cell_type": "code",
      "source": [
        "import matplotlib.pyplot as plt\n",
        "\n",
        "def plot_loss_curves(history):\n",
        "  \"\"\"\n",
        "  Returns separate loss curves for training and validation metrics.\n",
        "  Args:\n",
        "    history: TensorFlow History object.\n",
        "\n",
        "    Returns:\n",
        "    Plots of training/validation loss and accuracy metrics.\n",
        "  \"\"\"\n",
        "  loss = history.history['loss']\n",
        "  val_loss = history.history['val_loss']\n",
        "\n",
        "  accuracy = history.history['accuracy']\n",
        "  val_accuracy = history.history['val_accuracy']\n",
        "\n",
        "  epochs = range(len(history.history['loss']))\n",
        "\n",
        "  #Plot loss\n",
        "\n",
        "  plt.plot(epochs, loss, label='training_loss')\n",
        "  plt.plot(epochs, val_loss, label='val_loss')\n",
        "  plt.title('Loss')\n",
        "  plt.xlabel('Epochs')\n",
        "  plt.legend()\n",
        "\n",
        "  #Plot accuracy\n",
        "  plt.figure()\n",
        "  plt.plot(epochs, accuracy, label='training_accuracy')\n",
        "  plt.plot(epochs, val_accuracy, label='val_accuracy')\n",
        "  plt.title('Accuracy')\n",
        "  plt.xlabel('Epochs')\n",
        "  plt.legend();\n",
        "\n",
        "plot_loss_curves(history_0)"
      ],
      "metadata": {
        "colab": {
          "base_uri": "https://localhost:8080/",
          "height": 927
        },
        "id": "wN1dWgZyfcgq",
        "outputId": "d9a204c5-7eb0-48ef-964a-26caf5daa27c"
      },
      "execution_count": 37,
      "outputs": [
        {
          "output_type": "display_data",
          "data": {
            "text/plain": [
              "<Figure size 640x480 with 1 Axes>"
            ],
            "image/png": "[encoded data removed]"
          },
          "metadata": {}
        },
        {
          "output_type": "display_data",
          "data": {
            "text/plain": [
              "<Figure size 640x480 with 1 Axes>"
            ],
            "image/png": "[encoded data removed]"
          },
          "metadata": {}
        }
      ]
    },
    {
      "cell_type": "code",
      "source": [
        "results_feature_extraction = model_0.evaluate(test_data)\n",
        "results_feature_extraction"
      ],
      "metadata": {
        "colab": {
          "base_uri": "https://localhost:8080/"
        },
        "id": "pEZ1XDVOffJ8",
        "outputId": "24dce173-1f4a-4041-d3c5-6209b2f9b7ac"
      },
      "execution_count": 38,
      "outputs": [
        {
          "output_type": "stream",
          "name": "stdout",
          "text": [
            "3/3 [==============================] - 1s 108ms/step - loss: 0.7491 - accuracy: 0.7260\n"
          ]
        },
        {
          "output_type": "execute_result",
          "data": {
            "text/plain": [
              "[0.7491064667701721, 0.7260273694992065]"
            ]
          },
          "metadata": {},
          "execution_count": 38
        }
      ]
    },
    {
      "cell_type": "code",
      "source": [
        "\n",
        "# Get the predicted probabilities for the test set\n",
        "y_pred_probs = model_0.predict(test_data)\n",
        "\n",
        "# Convert probabilities to binary predictions (0 or 1)\n",
        "y_pred = (y_pred_probs > 0.5).astype(int)\n",
        "\n",
        "# Get the true labels for the test set\n",
        "y_true = np.concatenate([y for x, y in test_data], axis=0)\n",
        "\n",
        "# Calculate precision\n",
        "from sklearn.metrics import precision_score\n",
        "precision = precision_score(y_true, y_pred)\n",
        "print(\"Precision:\", precision)\n"
      ],
      "metadata": {
        "colab": {
          "base_uri": "https://localhost:8080/"
        },
        "id": "gJJ9TMWhfhIu",
        "outputId": "eeeeedce-cb97-46b7-8730-71698ff9aee5"
      },
      "execution_count": 39,
      "outputs": [
        {
          "output_type": "stream",
          "name": "stderr",
          "text": [
            "WARNING:tensorflow:5 out of the last 13 calls to <function Model.make_predict_function.<locals>.predict_function at 0x7e4be861c040> triggered tf.function retracing. Tracing is expensive and the excessive number of tracings could be due to (1) creating @tf.function repeatedly in a loop, (2) passing tensors with different shapes, (3) passing Python objects instead of tensors. For (1), please define your @tf.function outside of the loop. For (2), @tf.function has reduce_retracing=True option that can avoid unnecessary retracing. For (3), please refer to https://www.tensorflow.org/guide/function#controlling_retracing and https://www.tensorflow.org/api_docs/python/tf/function for  more details.\n"
          ]
        },
        {
          "output_type": "stream",
          "name": "stdout",
          "text": [
            "3/3 [==============================] - 1s 137ms/step\n",
            "Precision: 0.7681159420289855\n"
          ]
        }
      ]
    },
    {
      "cell_type": "code",
      "source": [
        "from sklearn.metrics import recall_score\n",
        "\n",
        "# Calculate recall\n",
        "recall = recall_score(y_true, y_pred)\n",
        "print(\"Recall:\", recall)\n"
      ],
      "metadata": {
        "colab": {
          "base_uri": "https://localhost:8080/"
        },
        "id": "7hAe1bMAfjDn",
        "outputId": "eea28cc3-cd9d-4bf4-ba73-bf28ce354893"
      },
      "execution_count": 40,
      "outputs": [
        {
          "output_type": "stream",
          "name": "stdout",
          "text": [
            "Recall: 0.9636363636363636\n"
          ]
        }
      ]
    },
    {
      "cell_type": "code",
      "source": [
        "\n",
        "from sklearn.metrics import f1_score\n",
        "# Calculate F1-score\n",
        "f1 = f1_score(y_true, y_pred)\n",
        "print(\"F1-score:\", f1)\n"
      ],
      "metadata": {
        "colab": {
          "base_uri": "https://localhost:8080/"
        },
        "id": "uFvAER5Kfktv",
        "outputId": "e1bf34f7-ed91-4052-b1a1-43671bd4e201"
      },
      "execution_count": 41,
      "outputs": [
        {
          "output_type": "stream",
          "name": "stdout",
          "text": [
            "F1-score: 0.8548387096774193\n"
          ]
        }
      ]
    },
    {
      "cell_type": "code",
      "source": [
        "\n",
        "# Eğitim doğruluğunu elde etmek için history_0 nesnesini kullanın\n",
        "train_accuracy = history_0.history['accuracy']\n",
        "\n",
        "# Son epoch'un eğitim doğruluğunu yazdırın\n",
        "print(\"Eğitim doğruluğu:\", train_accuracy[-1])"
      ],
      "metadata": {
        "colab": {
          "base_uri": "https://localhost:8080/"
        },
        "id": "5Bz5SwYNfmjj",
        "outputId": "0841490a-c6bc-4d38-fffd-7916aefad24f"
      },
      "execution_count": 42,
      "outputs": [
        {
          "output_type": "stream",
          "name": "stdout",
          "text": [
            "Eğitim doğruluğu: 0.9112628102302551\n"
          ]
        }
      ]
    },
    {
      "cell_type": "code",
      "source": [],
      "metadata": {
        "id": "mGHiGdz3ft9e"
      },
      "execution_count": 28,
      "outputs": []
    }
  ]
}