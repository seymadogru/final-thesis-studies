{
  "nbformat": 4,
  "nbformat_minor": 0,
  "metadata": {
    "colab": {
      "provenance": [],
      "machine_shape": "hm",
      "gpuType": "T4"
    },
    "kernelspec": {
      "name": "python3",
      "display_name": "Python 3"
    },
    "language_info": {
      "name": "python"
    },
    "accelerator": "GPU"
  },
  "cells": [
    {
      "cell_type": "code",
      "execution_count": 1,
      "metadata": {
        "colab": {
          "base_uri": "https://localhost:8080/"
        },
        "id": "TKfDB0C4LjO-",
        "outputId": "b0842b41-820b-4b81-8685-59b77aeadce1"
      },
      "outputs": [
        {
          "output_type": "stream",
          "name": "stdout",
          "text": [
            "--2024-07-25 14:00:17--  https://raw.githubusercontent.com/mrdbourke/tensorflow-deep-learning/main/extras/helper_functions.py\n",
            "Resolving raw.githubusercontent.com (raw.githubusercontent.com)... 185.199.108.133, 185.199.109.133, 185.199.110.133, ...\n",
            "Connecting to raw.githubusercontent.com (raw.githubusercontent.com)|185.199.108.133|:443... connected.\n",
            "HTTP request sent, awaiting response... 200 OK\n",
            "Length: 10246 (10K) [text/plain]\n",
            "Saving to: ‘helper_functions.py’\n",
            "\n",
            "helper_functions.py 100%[===================>]  10.01K  --.-KB/s    in 0s      \n",
            "\n",
            "2024-07-25 14:00:17 (126 MB/s) - ‘helper_functions.py’ saved [10246/10246]\n",
            "\n"
          ]
        }
      ],
      "source": [
        "!wget https://raw.githubusercontent.com/mrdbourke/tensorflow-deep-learning/main/extras/helper_functions.py"
      ]
    },
    {
      "cell_type": "code",
      "source": [
        "#import helper functions we're going to use in this notebook\n",
        "\n",
        "from helper_functions import create_tensorboard_callback, plot_loss_curves, unzip_data, walk_through_dir\n"
      ],
      "metadata": {
        "id": "dSoktlWSMUTj"
      },
      "execution_count": 2,
      "outputs": []
    },
    {
      "cell_type": "code",
      "source": [
        "import os\n",
        "\n",
        "for dirpath, dirnames, filenames in os.walk(\"/content/drive/MyDrive/Tez Dosyaları/ikinci veriseti 2 class\"):\n",
        "  print(f\"There are {len(dirnames)} directories and {len(filenames)} images in '{dirpath}'.\")\n"
      ],
      "metadata": {
        "colab": {
          "base_uri": "https://localhost:8080/"
        },
        "id": "ZUP_XHxgMWzu",
        "outputId": "abe2d522-ad8b-4c0f-ea97-d23e3314d0ef"
      },
      "execution_count": 3,
      "outputs": [
        {
          "output_type": "stream",
          "name": "stdout",
          "text": [
            "There are 2 directories and 0 images in '/content/drive/MyDrive/Tez Dosyaları/ikinci veriseti 2 class'.\n",
            "There are 2 directories and 0 images in '/content/drive/MyDrive/Tez Dosyaları/ikinci veriseti 2 class/Train'.\n",
            "There are 0 directories and 223 images in '/content/drive/MyDrive/Tez Dosyaları/ikinci veriseti 2 class/Train/Malignant'.\n",
            "There are 0 directories and 70 images in '/content/drive/MyDrive/Tez Dosyaları/ikinci veriseti 2 class/Train/Benign'.\n",
            "There are 2 directories and 0 images in '/content/drive/MyDrive/Tez Dosyaları/ikinci veriseti 2 class/Test'.\n",
            "There are 0 directories and 55 images in '/content/drive/MyDrive/Tez Dosyaları/ikinci veriseti 2 class/Test/Malignant'.\n",
            "There are 0 directories and 18 images in '/content/drive/MyDrive/Tez Dosyaları/ikinci veriseti 2 class/Test/Benign'.\n"
          ]
        }
      ]
    },
    {
      "cell_type": "code",
      "source": [
        "train_dir = \"/content/drive/MyDrive/Tez Dosyaları/ikinci veriseti 2 class/Train\"\n",
        "test_dir = \"/content/drive/MyDrive/Tez Dosyaları/ikinci veriseti 2 class/Test\""
      ],
      "metadata": {
        "id": "QYwDJW1pMgLH"
      },
      "execution_count": 4,
      "outputs": []
    },
    {
      "cell_type": "code",
      "source": [
        "import tensorflow as tf\n",
        "BATCH_SIZE = 32\n",
        "IMG_SIZE = (224, 224)\n",
        "train_data= tf.keras.preprocessing.image_dataset_from_directory(train_dir,\n",
        "                                                          label_mode=\"binary\",\n",
        "                                                          batch_size=BATCH_SIZE,\n",
        "                                                          image_size=IMG_SIZE)\n",
        "\n",
        "test_data = tf.keras.preprocessing.image_dataset_from_directory(test_dir,\n",
        "                                                          label_mode=\"binary\",\n",
        "                                                          batch_size=BATCH_SIZE,\n",
        "                                                          image_size=IMG_SIZE)"
      ],
      "metadata": {
        "colab": {
          "base_uri": "https://localhost:8080/"
        },
        "id": "TJ4l3_DaMp_4",
        "outputId": "a734aa88-3e9a-4dae-8c89-e1f20a1bfe08"
      },
      "execution_count": 5,
      "outputs": [
        {
          "output_type": "stream",
          "name": "stdout",
          "text": [
            "Found 293 files belonging to 2 classes.\n",
            "Found 73 files belonging to 2 classes.\n"
          ]
        }
      ]
    },
    {
      "cell_type": "code",
      "source": [
        "train_data.class_names"
      ],
      "metadata": {
        "colab": {
          "base_uri": "https://localhost:8080/"
        },
        "id": "6_e-yBAFMsrV",
        "outputId": "e8bc1a3a-969c-41f3-eefd-0d9a97bd8d20"
      },
      "execution_count": 6,
      "outputs": [
        {
          "output_type": "execute_result",
          "data": {
            "text/plain": [
              "['Benign', 'Malignant']"
            ]
          },
          "metadata": {},
          "execution_count": 6
        }
      ]
    },
    {
      "cell_type": "code",
      "source": [
        "from tensorflow.keras.preprocessing.image import ImageDataGenerator\n",
        "from tensorflow.keras.preprocessing.image import img_to_array\n",
        "from tensorflow.keras.preprocessing.image import load_img\n",
        "import numpy as np\n",
        "import random\n",
        "import math\n",
        "import csv\n",
        "import cv2\n",
        "import os"
      ],
      "metadata": {
        "id": "RDuShM4lMvBT"
      },
      "execution_count": 7,
      "outputs": []
    },
    {
      "cell_type": "code",
      "source": [
        "image_width = 224\n",
        "image_height = 224\n",
        "classes = ['Benign', 'Malignant']\n",
        "datagen = ImageDataGenerator(\n",
        "    rescale=1.0/255,\n",
        "    rotation_range=40,\n",
        "    width_shift_range=0.2,\n",
        "    height_shift_range=0.2,\n",
        "    shear_range=0.2,\n",
        "    zoom_range=0.2,\n",
        "    horizontal_flip=True,\n",
        "    fill_mode='nearest'\n",
        ")\n",
        "\n",
        "# Resimleri yüklemek için flow_from_directory kullanın\n",
        "train_generator = datagen.flow_from_directory(\n",
        "    directory=\"/content/drive/MyDrive/Tez Dosyaları/ikinci veriseti 2 class/Train\",\n",
        "    target_size=(image_width, image_height),\n",
        "    batch_size=32,\n",
        "    class_mode='categorical',\n",
        "    subset='training'\n",
        ")\n",
        "\n",
        "# Her sınıf için resimleri ayrı ayrı arttırın\n",
        "for cls in classes:\n",
        "    # Sınıfın resimlerini yüklemek için flow_from_directory kullanın\n",
        "    cls_generator = datagen.flow_from_directory(\n",
        "        directory=\"/content/drive/MyDrive/Tez Dosyaları/ikinci veriseti 2 class/Train\",\n",
        "        target_size=(image_width, image_height),\n",
        "        batch_size=32,\n",
        "        class_mode='categorical',\n",
        "        subset='training',\n",
        "        classes=[cls]\n",
        "    )\n",
        "\n",
        "    # Resimleri arttırın ve kaydedin\n",
        "    i = 0\n",
        "    for batch in cls_generator:\n",
        "        images, labels = batch\n",
        "        for image in images:\n",
        "            # Resmi kaydetmek için imwrite kullanın\n",
        "            cv2.imwrite(os.path.join(\"/content/drive/MyDrive/Tez Dosyaları/ikinci veriseti 2 class/Train\", cls, f\"augmented_{i}.jpg\"), image * 255)\n",
        "            i += 1\n",
        "            if i >= 3000:  # Maksimum resim sayısına ulaşıldığında döngüyü durdur\n",
        "                break\n",
        "        else:\n",
        "            continue\n",
        "        break"
      ],
      "metadata": {
        "colab": {
          "base_uri": "https://localhost:8080/"
        },
        "id": "3m4eao6OMxRZ",
        "outputId": "9f2be923-ba22-41be-ac90-6ad8e7c91837"
      },
      "execution_count": 8,
      "outputs": [
        {
          "output_type": "stream",
          "name": "stdout",
          "text": [
            "Found 293 images belonging to 2 classes.\n",
            "Found 70 images belonging to 1 classes.\n",
            "Found 223 images belonging to 1 classes.\n"
          ]
        }
      ]
    },
    {
      "cell_type": "code",
      "source": [
        "# Load the augmented images for the malignant class\n",
        "augmented_images = os.listdir(\"/content/drive/MyDrive/Tez Dosyaları/ikinci veriseti 2 class/Train/Malignant\")\n",
        "\n",
        "# Count the number of augmented images\n",
        "num_malignant_images = len(augmented_images)\n",
        "\n",
        "# Print the number of malignant images\n",
        "print(\"Number of malignant images:\", num_malignant_images)"
      ],
      "metadata": {
        "colab": {
          "base_uri": "https://localhost:8080/"
        },
        "id": "vqPXeQQlM9Fl",
        "outputId": "a6619da8-8b3e-4f90-9e6f-5a5a8c7dd647"
      },
      "execution_count": 9,
      "outputs": [
        {
          "output_type": "stream",
          "name": "stdout",
          "text": [
            "Number of malignant images: 3223\n"
          ]
        }
      ]
    },
    {
      "cell_type": "code",
      "source": [
        "augmented_images3 = os.listdir(\"/content/drive/MyDrive/Tez Dosyaları/ikinci veriseti 2 class/Train/Benign\")\n",
        "\n",
        "# Count the number of augmented images\n",
        "num_benign_images = len(augmented_images3)\n",
        "\n",
        "# Print the number of malignant images\n",
        "print(\"Number of benign images:\", num_benign_images)"
      ],
      "metadata": {
        "colab": {
          "base_uri": "https://localhost:8080/"
        },
        "id": "NFinnKe0NkS0",
        "outputId": "c9ad3be5-d2bf-4a17-f35b-1d28680f020c"
      },
      "execution_count": 10,
      "outputs": [
        {
          "output_type": "stream",
          "name": "stdout",
          "text": [
            "Number of benign images: 3070\n"
          ]
        }
      ]
    },
    {
      "cell_type": "code",
      "source": [
        "import tensorflow as tf\n",
        "BATCH_SIZE = 32\n",
        "IMG_SIZE = (224, 224)\n",
        "train_data= tf.keras.preprocessing.image_dataset_from_directory(train_dir,\n",
        "                                                          label_mode=\"binary\",\n",
        "                                                          batch_size=BATCH_SIZE,\n",
        "                                                          image_size=IMG_SIZE)\n",
        "\n",
        "test_data = tf.keras.preprocessing.image_dataset_from_directory(test_dir,\n",
        "                                                          label_mode=\"binary\",\n",
        "                                                          batch_size=BATCH_SIZE,\n",
        "                                                          image_size=IMG_SIZE)"
      ],
      "metadata": {
        "colab": {
          "base_uri": "https://localhost:8080/"
        },
        "id": "kMwLF8RUNph8",
        "outputId": "4773c1ce-1256-4095-91a6-b7f7eb6c2cb0"
      },
      "execution_count": 11,
      "outputs": [
        {
          "output_type": "stream",
          "name": "stdout",
          "text": [
            "Found 6293 files belonging to 2 classes.\n",
            "Found 73 files belonging to 2 classes.\n"
          ]
        }
      ]
    },
    {
      "cell_type": "code",
      "source": [
        "# 1.  create base model with tf.keras.applications\n",
        "base_model = tf.keras.applications.DenseNet121(include_top=False)\n",
        "\n",
        "# 2. Freeze the base model\n",
        "base_model.trainable = False\n",
        "\n",
        "# 3. create inputs into our model\n",
        "inputs = tf.keras.layers.Input(shape=(224, 224, 3), name=\"input_layer\")\n",
        "\n",
        "# 4. if using ResNet50V2 you will need to normalize inputs\n",
        "# x = tf.keras.layers.experimental.preprocessing.Rescaling(1./255)(inputs)\n",
        "\n",
        "# 5. pass the inputs to the base_model\n",
        "x = base_model(inputs)\n",
        "print(f\"Shape after passing inputs through base model: {x.shape}\")\n",
        "\n",
        "# 6. average pool the outputs of the base model (aggregate all the most important information, reduce number of computations)\n",
        "x = tf.keras.layers.GlobalAveragePooling2D(name=\"global_average_pooling_layer\")(x)\n",
        "print(f\"Shape after GlobalAveragePooling2D: {x.shape}\")\n",
        "\n",
        "# 7. create the output activation layer\n",
        "outputs = tf.keras.layers.Dense(1, activation=\"sigmoid\", name=\"output_layer\")(x)\n",
        "model_0 = tf.keras.Model(inputs, outputs)\n",
        "\n",
        "# 8. compile the model\n",
        "model_0.compile(loss=\"binary_crossentropy\",\n",
        "                optimizer=tf.keras.optimizers.Adam(),\n",
        "                metrics=[\"accuracy\"])\n",
        "\n",
        "# 9. fit the model\n",
        "history_0 = model_0.fit(train_data,\n",
        "                        epochs=40,\n",
        "                        steps_per_epoch=len(train_data),\n",
        "                        validation_data=test_data,\n",
        "                        validation_steps=int(len(test_data)),\n",
        "                        callbacks=[create_tensorboard_callback(dir_name=\"transfer_learning\",\n",
        "                                                              experiment_name=\"10_percent_feature_extraction\")])"
      ],
      "metadata": {
        "colab": {
          "base_uri": "https://localhost:8080/"
        },
        "id": "os8M6ER8NscB",
        "outputId": "909b40c5-1d29-48c7-c807-b23413f49e5a"
      },
      "execution_count": 26,
      "outputs": [
        {
          "output_type": "stream",
          "name": "stdout",
          "text": [
            "Downloading data from https://storage.googleapis.com/tensorflow/keras-applications/densenet/densenet121_weights_tf_dim_ordering_tf_kernels_notop.h5\n",
            "29084464/29084464 [==============================] - 2s 0us/step\n",
            "Shape after passing inputs through base model: (None, 7, 7, 1024)\n",
            "Shape after GlobalAveragePooling2D: (None, 1024)\n",
            "Saving TensorBoard log files to: transfer_learning/10_percent_feature_extraction/20240725-150851\n",
            "Epoch 1/40\n",
            "197/197 [==============================] - 37s 136ms/step - loss: 0.7427 - accuracy: 0.5280 - val_loss: 0.6185 - val_accuracy: 0.6712\n",
            "Epoch 2/40\n",
            "197/197 [==============================] - 20s 97ms/step - loss: 0.6485 - accuracy: 0.6240 - val_loss: 0.6294 - val_accuracy: 0.6712\n",
            "Epoch 3/40\n",
            "197/197 [==============================] - 20s 96ms/step - loss: 0.6119 - accuracy: 0.6630 - val_loss: 0.6324 - val_accuracy: 0.6575\n",
            "Epoch 4/40\n",
            "197/197 [==============================] - 20s 96ms/step - loss: 0.5879 - accuracy: 0.6785 - val_loss: 0.6628 - val_accuracy: 0.6027\n",
            "Epoch 5/40\n",
            "197/197 [==============================] - 20s 96ms/step - loss: 0.5714 - accuracy: 0.7040 - val_loss: 0.6478 - val_accuracy: 0.6438\n",
            "Epoch 6/40\n",
            "197/197 [==============================] - 20s 97ms/step - loss: 0.5575 - accuracy: 0.7084 - val_loss: 0.6499 - val_accuracy: 0.6986\n",
            "Epoch 7/40\n",
            "197/197 [==============================] - 20s 96ms/step - loss: 0.5487 - accuracy: 0.7179 - val_loss: 0.6571 - val_accuracy: 0.6712\n",
            "Epoch 8/40\n",
            "197/197 [==============================] - 20s 96ms/step - loss: 0.5394 - accuracy: 0.7219 - val_loss: 0.6777 - val_accuracy: 0.6301\n",
            "Epoch 9/40\n",
            "197/197 [==============================] - 20s 96ms/step - loss: 0.5300 - accuracy: 0.7305 - val_loss: 0.6612 - val_accuracy: 0.6986\n",
            "Epoch 10/40\n",
            "197/197 [==============================] - 20s 96ms/step - loss: 0.5249 - accuracy: 0.7341 - val_loss: 0.6725 - val_accuracy: 0.7123\n",
            "Epoch 11/40\n",
            "197/197 [==============================] - 20s 96ms/step - loss: 0.5200 - accuracy: 0.7432 - val_loss: 0.6683 - val_accuracy: 0.7260\n",
            "Epoch 12/40\n",
            "197/197 [==============================] - 20s 96ms/step - loss: 0.5149 - accuracy: 0.7465 - val_loss: 0.6717 - val_accuracy: 0.6712\n",
            "Epoch 13/40\n",
            "197/197 [==============================] - 20s 96ms/step - loss: 0.5104 - accuracy: 0.7473 - val_loss: 0.6703 - val_accuracy: 0.6849\n",
            "Epoch 14/40\n",
            "197/197 [==============================] - 20s 97ms/step - loss: 0.5109 - accuracy: 0.7445 - val_loss: 0.6851 - val_accuracy: 0.6712\n",
            "Epoch 15/40\n",
            "197/197 [==============================] - 20s 96ms/step - loss: 0.5031 - accuracy: 0.7504 - val_loss: 0.6725 - val_accuracy: 0.7123\n",
            "Epoch 16/40\n",
            "197/197 [==============================] - 20s 96ms/step - loss: 0.5021 - accuracy: 0.7508 - val_loss: 0.6792 - val_accuracy: 0.6986\n",
            "Epoch 17/40\n",
            "197/197 [==============================] - 20s 96ms/step - loss: 0.4967 - accuracy: 0.7577 - val_loss: 0.6885 - val_accuracy: 0.6986\n",
            "Epoch 18/40\n",
            "197/197 [==============================] - 20s 96ms/step - loss: 0.4930 - accuracy: 0.7581 - val_loss: 0.6988 - val_accuracy: 0.6849\n",
            "Epoch 19/40\n",
            "197/197 [==============================] - 19s 96ms/step - loss: 0.4909 - accuracy: 0.7642 - val_loss: 0.6934 - val_accuracy: 0.6986\n",
            "Epoch 20/40\n",
            "197/197 [==============================] - 20s 96ms/step - loss: 0.4920 - accuracy: 0.7597 - val_loss: 0.7020 - val_accuracy: 0.6986\n",
            "Epoch 21/40\n",
            "197/197 [==============================] - 20s 96ms/step - loss: 0.4858 - accuracy: 0.7628 - val_loss: 0.7045 - val_accuracy: 0.6849\n",
            "Epoch 22/40\n",
            "197/197 [==============================] - 20s 97ms/step - loss: 0.4900 - accuracy: 0.7626 - val_loss: 0.7002 - val_accuracy: 0.7123\n",
            "Epoch 23/40\n",
            "197/197 [==============================] - 20s 96ms/step - loss: 0.4845 - accuracy: 0.7704 - val_loss: 0.7033 - val_accuracy: 0.6986\n",
            "Epoch 24/40\n",
            "197/197 [==============================] - 20s 96ms/step - loss: 0.4813 - accuracy: 0.7642 - val_loss: 0.6928 - val_accuracy: 0.6986\n",
            "Epoch 25/40\n",
            "197/197 [==============================] - 20s 99ms/step - loss: 0.4829 - accuracy: 0.7656 - val_loss: 0.6974 - val_accuracy: 0.6986\n",
            "Epoch 26/40\n",
            "197/197 [==============================] - 20s 96ms/step - loss: 0.4761 - accuracy: 0.7710 - val_loss: 0.7030 - val_accuracy: 0.7123\n",
            "Epoch 27/40\n",
            "197/197 [==============================] - 20s 97ms/step - loss: 0.4766 - accuracy: 0.7699 - val_loss: 0.7040 - val_accuracy: 0.7123\n",
            "Epoch 28/40\n",
            "197/197 [==============================] - 20s 97ms/step - loss: 0.4742 - accuracy: 0.7736 - val_loss: 0.7188 - val_accuracy: 0.6849\n",
            "Epoch 29/40\n",
            "197/197 [==============================] - 20s 97ms/step - loss: 0.4775 - accuracy: 0.7724 - val_loss: 0.7025 - val_accuracy: 0.7123\n",
            "Epoch 30/40\n",
            "197/197 [==============================] - 20s 96ms/step - loss: 0.4744 - accuracy: 0.7724 - val_loss: 0.7099 - val_accuracy: 0.7260\n",
            "Epoch 31/40\n",
            "197/197 [==============================] - 20s 96ms/step - loss: 0.4735 - accuracy: 0.7732 - val_loss: 0.7160 - val_accuracy: 0.6986\n",
            "Epoch 32/40\n",
            "197/197 [==============================] - 20s 96ms/step - loss: 0.4713 - accuracy: 0.7744 - val_loss: 0.7051 - val_accuracy: 0.7123\n",
            "Epoch 33/40\n",
            "197/197 [==============================] - 20s 96ms/step - loss: 0.4690 - accuracy: 0.7761 - val_loss: 0.7151 - val_accuracy: 0.7123\n",
            "Epoch 34/40\n",
            "197/197 [==============================] - 20s 96ms/step - loss: 0.4714 - accuracy: 0.7791 - val_loss: 0.7227 - val_accuracy: 0.6849\n",
            "Epoch 35/40\n",
            "197/197 [==============================] - 20s 96ms/step - loss: 0.4713 - accuracy: 0.7761 - val_loss: 0.7056 - val_accuracy: 0.7123\n",
            "Epoch 36/40\n",
            "197/197 [==============================] - 20s 97ms/step - loss: 0.4646 - accuracy: 0.7825 - val_loss: 0.7241 - val_accuracy: 0.6849\n",
            "Epoch 37/40\n",
            "197/197 [==============================] - 20s 96ms/step - loss: 0.4657 - accuracy: 0.7786 - val_loss: 0.7087 - val_accuracy: 0.7123\n",
            "Epoch 38/40\n",
            "197/197 [==============================] - 20s 97ms/step - loss: 0.4657 - accuracy: 0.7794 - val_loss: 0.7149 - val_accuracy: 0.7123\n",
            "Epoch 39/40\n",
            "197/197 [==============================] - 20s 96ms/step - loss: 0.4629 - accuracy: 0.7798 - val_loss: 0.7142 - val_accuracy: 0.7123\n",
            "Epoch 40/40\n",
            "197/197 [==============================] - 20s 97ms/step - loss: 0.4627 - accuracy: 0.7842 - val_loss: 0.7146 - val_accuracy: 0.7123\n"
          ]
        }
      ]
    },
    {
      "cell_type": "code",
      "source": [
        "import matplotlib.pyplot as plt\n",
        "\n",
        "def plot_loss_curves(history):\n",
        "  \"\"\"\n",
        "  Returns separate loss curves for training and validation metrics.\n",
        "  Args:\n",
        "    history: TensorFlow History object.\n",
        "\n",
        "    Returns:\n",
        "    Plots of training/validation loss and accuracy metrics.\n",
        "  \"\"\"\n",
        "  loss = history.history['loss']\n",
        "  val_loss = history.history['val_loss']\n",
        "\n",
        "  accuracy = history.history['accuracy']\n",
        "  val_accuracy = history.history['val_accuracy']\n",
        "\n",
        "  epochs = range(len(history.history['loss']))\n",
        "\n",
        "  #Plot loss\n",
        "\n",
        "  plt.plot(epochs, loss, label='training_loss')\n",
        "  plt.plot(epochs, val_loss, label='val_loss')\n",
        "  plt.title('Loss')\n",
        "  plt.xlabel('Epochs')\n",
        "  plt.legend()\n",
        "\n",
        "  #Plot accuracy\n",
        "  plt.figure()\n",
        "  plt.plot(epochs, accuracy, label='training_accuracy')\n",
        "  plt.plot(epochs, val_accuracy, label='val_accuracy')\n",
        "  plt.title('Accuracy')\n",
        "  plt.xlabel('Epochs')\n",
        "  plt.legend();\n",
        "\n",
        "plot_loss_curves(history_0)"
      ],
      "metadata": {
        "colab": {
          "base_uri": "https://localhost:8080/",
          "height": 927
        },
        "id": "i_jGghbjNwx9",
        "outputId": "59279ec6-5982-440b-9a6c-fe202160fb7b"
      },
      "execution_count": 27,
      "outputs": [
        {
          "output_type": "display_data",
          "data": {
            "text/plain": [
              "<Figure size 640x480 with 1 Axes>"
            ],
            "image/png": "[encoded data removed]"
          },
          "metadata": {}
        },
        {
          "output_type": "display_data",
          "data": {
            "text/plain": [
              "<Figure size 640x480 with 1 Axes>"
            ],
            "image/png": "[encoded data removed]"
          },
          "metadata": {}
        }
      ]
    },
    {
      "cell_type": "code",
      "source": [
        "results_feature_extraction = model_0.evaluate(test_data)\n",
        "results_feature_extraction"
      ],
      "metadata": {
        "colab": {
          "base_uri": "https://localhost:8080/"
        },
        "id": "h9t4Ez5jNzkD",
        "outputId": "b16e6014-8f3b-4549-f159-9087cfb56f49"
      },
      "execution_count": 28,
      "outputs": [
        {
          "output_type": "stream",
          "name": "stdout",
          "text": [
            "3/3 [==============================] - 1s 64ms/step - loss: 0.7146 - accuracy: 0.7123\n"
          ]
        },
        {
          "output_type": "execute_result",
          "data": {
            "text/plain": [
              "[0.7145517468452454, 0.7123287916183472]"
            ]
          },
          "metadata": {},
          "execution_count": 28
        }
      ]
    },
    {
      "cell_type": "code",
      "source": [
        "# Get the predicted probabilities for the test set\n",
        "y_pred_probs = model_0.predict(test_data)\n",
        "\n",
        "# Convert probabilities to binary predictions (0 or 1)\n",
        "y_pred = (y_pred_probs > 0.5).astype(int)\n",
        "\n",
        "# Get the true labels for the test set\n",
        "y_true = np.concatenate([y for x, y in test_data], axis=0)\n",
        "\n",
        "# Calculate precision\n",
        "from sklearn.metrics import precision_score\n",
        "precision = precision_score(y_true, y_pred)\n",
        "print(\"Precision:\", precision)"
      ],
      "metadata": {
        "colab": {
          "base_uri": "https://localhost:8080/"
        },
        "id": "uglZxXduN1wv",
        "outputId": "b43180b4-c790-4d2e-ae6c-39690003fc2d"
      },
      "execution_count": 29,
      "outputs": [
        {
          "output_type": "stream",
          "name": "stdout",
          "text": [
            "3/3 [==============================] - 2s 108ms/step\n",
            "Precision: 0.7758620689655172\n"
          ]
        }
      ]
    },
    {
      "cell_type": "code",
      "source": [
        "from sklearn.metrics import recall_score\n",
        "\n",
        "# Calculate recall\n",
        "recall = recall_score(y_true, y_pred)\n",
        "print(\"Recall:\", recall)"
      ],
      "metadata": {
        "colab": {
          "base_uri": "https://localhost:8080/"
        },
        "id": "_NOWLRLZN306",
        "outputId": "ed673865-75b5-44af-b075-01236e0849db"
      },
      "execution_count": 30,
      "outputs": [
        {
          "output_type": "stream",
          "name": "stdout",
          "text": [
            "Recall: 0.8181818181818182\n"
          ]
        }
      ]
    },
    {
      "cell_type": "code",
      "source": [
        "from sklearn.metrics import f1_score\n",
        "# Calculate F1-score\n",
        "f1 = f1_score(y_true, y_pred)\n",
        "print(\"F1-score:\", f1)"
      ],
      "metadata": {
        "colab": {
          "base_uri": "https://localhost:8080/"
        },
        "id": "oyvMVrfON5tc",
        "outputId": "b7675be7-f64a-4d9c-d52e-47cbbc9313f2"
      },
      "execution_count": 31,
      "outputs": [
        {
          "output_type": "stream",
          "name": "stdout",
          "text": [
            "F1-score: 0.7964601769911505\n"
          ]
        }
      ]
    },
    {
      "cell_type": "code",
      "source": [
        "# Eğitim doğruluğunu elde etmek için history_0 nesnesini kullanın\n",
        "train_accuracy = history_0.history['accuracy']\n",
        "\n",
        "# Son epoch'un eğitim doğruluğunu yazdırın\n",
        "print(\"Eğitim doğruluğu:\", train_accuracy[-1])"
      ],
      "metadata": {
        "colab": {
          "base_uri": "https://localhost:8080/"
        },
        "id": "N27ZVDkYN7oz",
        "outputId": "26a684b2-e505-4264-a28e-f89643e4f073"
      },
      "execution_count": 32,
      "outputs": [
        {
          "output_type": "stream",
          "name": "stdout",
          "text": [
            "Eğitim doğruluğu: 0.7842046618461609\n"
          ]
        }
      ]
    },
    {
      "cell_type": "code",
      "source": [],
      "metadata": {
        "id": "bWf8pphcb_bU"
      },
      "execution_count": null,
      "outputs": []
    }
  ]
}