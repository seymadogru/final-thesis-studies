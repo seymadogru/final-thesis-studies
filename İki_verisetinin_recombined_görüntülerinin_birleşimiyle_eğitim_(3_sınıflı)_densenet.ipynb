{
  "nbformat": 4,
  "nbformat_minor": 0,
  "metadata": {
    "colab": {
      "provenance": [],
      "machine_shape": "hm",
      "gpuType": "T4"
    },
    "kernelspec": {
      "name": "python3",
      "display_name": "Python 3"
    },
    "language_info": {
      "name": "python"
    },
    "accelerator": "GPU"
  },
  "cells": [
    {
      "cell_type": "code",
      "execution_count": 1,
      "metadata": {
        "colab": {
          "base_uri": "https://localhost:8080/"
        },
        "id": "AO2q8HIIw_LF",
        "outputId": "78c5cdaa-79d3-450f-ad4b-466a8f63ec24"
      },
      "outputs": [
        {
          "output_type": "stream",
          "name": "stdout",
          "text": [
            "Mounted at /content/drive\n"
          ]
        }
      ],
      "source": [
        "from google.colab import drive\n",
        "drive.mount('/content/drive')"
      ]
    },
    {
      "cell_type": "code",
      "source": [
        "\n",
        "from keras.preprocessing.image import ImageDataGenerator, array_to_img, img_to_array, load_img\n",
        "from keras.models import Sequential\n",
        "from keras.layers import Conv2D, MaxPooling2D, Dense\n",
        "from keras.applications.vgg16 import VGG16\n",
        "import numpy as np\n",
        "import os\n",
        "import matplotlib.pyplot as plt\n",
        "from glob import glob\n",
        "import cv2"
      ],
      "metadata": {
        "id": "mrzkkmBE2H_O"
      },
      "execution_count": 2,
      "outputs": []
    },
    {
      "cell_type": "code",
      "source": [
        "train_dir = \"/content/drive/MyDrive/Tez Dosyaları/recombined 3 classlı/Train\"\n",
        "test_dir = \"/content/drive/MyDrive/Tez Dosyaları/recombined 3 classlı/Test\""
      ],
      "metadata": {
        "id": "wvSiK_Xu2RLx"
      },
      "execution_count": 3,
      "outputs": []
    },
    {
      "cell_type": "code",
      "source": [
        "import tensorflow as tf\n",
        "from tensorflow.keras.applications import EfficientNetB0"
      ],
      "metadata": {
        "id": "eFjtNX0t2aGl"
      },
      "execution_count": 4,
      "outputs": []
    },
    {
      "cell_type": "code",
      "source": [
        "!wget https://raw.githubusercontent.com/mrdbourke/tensorflow-deep-learning/main/extras/helper_functions.py\n"
      ],
      "metadata": {
        "colab": {
          "base_uri": "https://localhost:8080/"
        },
        "id": "Jf3CxvV82bXa",
        "outputId": "68797736-50d5-472d-fc33-fdeb755860e5"
      },
      "execution_count": 5,
      "outputs": [
        {
          "output_type": "stream",
          "name": "stdout",
          "text": [
            "--2024-07-30 13:34:48--  https://raw.githubusercontent.com/mrdbourke/tensorflow-deep-learning/main/extras/helper_functions.py\n",
            "Resolving raw.githubusercontent.com (raw.githubusercontent.com)... 185.199.109.133, 185.199.108.133, 185.199.110.133, ...\n",
            "Connecting to raw.githubusercontent.com (raw.githubusercontent.com)|185.199.109.133|:443... connected.\n",
            "HTTP request sent, awaiting response... 200 OK\n",
            "Length: 10246 (10K) [text/plain]\n",
            "Saving to: ‘helper_functions.py’\n",
            "\n",
            "\rhelper_functions.py   0%[                    ]       0  --.-KB/s               \rhelper_functions.py 100%[===================>]  10.01K  --.-KB/s    in 0s      \n",
            "\n",
            "2024-07-30 13:34:49 (118 MB/s) - ‘helper_functions.py’ saved [10246/10246]\n",
            "\n"
          ]
        }
      ]
    },
    {
      "cell_type": "code",
      "source": [
        "from helper_functions import create_tensorboard_callback, plot_loss_curves, unzip_data, walk_through_dir\n"
      ],
      "metadata": {
        "id": "zuTnwf7a2cu7"
      },
      "execution_count": 6,
      "outputs": []
    },
    {
      "cell_type": "code",
      "source": [
        "import os\n",
        "\n",
        "for dirpath, dirnames, filenames in os.walk(\"/content/drive/MyDrive/Tez Dosyaları/recombined 3 classlı\"):\n",
        "  print(f\"There are {len(dirnames)} directories and {len(filenames)} images in '{dirpath}'.\")\n"
      ],
      "metadata": {
        "colab": {
          "base_uri": "https://localhost:8080/"
        },
        "id": "bmuUGbSh2d_5",
        "outputId": "a206a464-ea54-4900-9450-447fd03a460b"
      },
      "execution_count": 8,
      "outputs": [
        {
          "output_type": "stream",
          "name": "stdout",
          "text": [
            "There are 2 directories and 0 images in '/content/drive/MyDrive/Tez Dosyaları/recombined 3 classlı'.\n",
            "There are 3 directories and 0 images in '/content/drive/MyDrive/Tez Dosyaları/recombined 3 classlı/Train'.\n",
            "There are 0 directories and 702 images in '/content/drive/MyDrive/Tez Dosyaları/recombined 3 classlı/Train/Normal'.\n",
            "There are 0 directories and 418 images in '/content/drive/MyDrive/Tez Dosyaları/recombined 3 classlı/Train/Malignant'.\n",
            "There are 0 directories and 250 images in '/content/drive/MyDrive/Tez Dosyaları/recombined 3 classlı/Train/Benign'.\n",
            "There are 3 directories and 0 images in '/content/drive/MyDrive/Tez Dosyaları/recombined 3 classlı/Test'.\n",
            "There are 0 directories and 100 images in '/content/drive/MyDrive/Tez Dosyaları/recombined 3 classlı/Test/Normal'.\n",
            "There are 0 directories and 52 images in '/content/drive/MyDrive/Tez Dosyaları/recombined 3 classlı/Test/Malignant'.\n",
            "There are 0 directories and 50 images in '/content/drive/MyDrive/Tez Dosyaları/recombined 3 classlı/Test/Benign'.\n"
          ]
        }
      ]
    },
    {
      "cell_type": "code",
      "source": [
        "import tensorflow as tf\n",
        "BATCH_SIZE = 32\n",
        "IMG_SIZE = (224, 224)\n",
        "train_data= tf.keras.preprocessing.image_dataset_from_directory(train_dir,\n",
        "                                                          label_mode= \"categorical\",\n",
        "                                                          batch_size=BATCH_SIZE,\n",
        "                                                          image_size=IMG_SIZE)\n",
        "\n",
        "test_data = tf.keras.preprocessing.image_dataset_from_directory(test_dir,\n",
        "                                                          label_mode=\"categorical\",\n",
        "                                                          batch_size=BATCH_SIZE,\n",
        "                                                          image_size=IMG_SIZE)"
      ],
      "metadata": {
        "colab": {
          "base_uri": "https://localhost:8080/"
        },
        "id": "WoBdwslH2fIX",
        "outputId": "4b44954e-66ef-4903-e764-5def58e1e1fe"
      },
      "execution_count": 9,
      "outputs": [
        {
          "output_type": "stream",
          "name": "stdout",
          "text": [
            "Found 1370 files belonging to 3 classes.\n",
            "Found 202 files belonging to 3 classes.\n"
          ]
        }
      ]
    },
    {
      "cell_type": "code",
      "source": [
        "train_data.class_names"
      ],
      "metadata": {
        "colab": {
          "base_uri": "https://localhost:8080/"
        },
        "id": "31KL0Ilx3DSH",
        "outputId": "ae365423-3e56-447a-a651-b873e7724c7a"
      },
      "execution_count": 10,
      "outputs": [
        {
          "output_type": "execute_result",
          "data": {
            "text/plain": [
              "['Benign', 'Malignant', 'Normal']"
            ]
          },
          "metadata": {},
          "execution_count": 10
        }
      ]
    },
    {
      "cell_type": "code",
      "source": [
        "from tensorflow.keras.preprocessing.image import ImageDataGenerator\n",
        "from tensorflow.keras.preprocessing.image import img_to_array\n",
        "from tensorflow.keras.preprocessing.image import load_img\n",
        "import numpy as np\n",
        "import random\n",
        "import math\n",
        "import csv\n",
        "import cv2\n",
        "import os"
      ],
      "metadata": {
        "id": "YGuYY0_I3F2D"
      },
      "execution_count": 11,
      "outputs": []
    },
    {
      "cell_type": "code",
      "source": [
        "import tensorflow as tf\n",
        "\n",
        "# 1. create base model with tf.keras.applications\n",
        "base_model = tf.keras.applications.DenseNet121(include_top=False)\n",
        "\n",
        "# 2. Freeze the base model\n",
        "base_model.trainable = False\n",
        "\n",
        "# 3. create inputs into our model\n",
        "inputs = tf.keras.layers.Input(shape=(224, 224, 3), name=\"input_layer\")\n",
        "\n",
        "# 4. if using ResNet50V2 you will need to normalize inputs\n",
        "# x = tf.keras.layers.experimental.preprocessing.Rescaling(1./255)(inputs)\n",
        "\n",
        "# 5. pass the inputs to the base_model\n",
        "x = base_model(inputs)\n",
        "print(f\"Shape after passing inputs through base model: {x.shape}\")\n",
        "\n",
        "# 6. average pool the outputs of the base model (aggregate all the most important information, reduce number of computations)\n",
        "x = tf.keras.layers.GlobalAveragePooling2D(name=\"global_average_pooling_layer\")(x)\n",
        "print(f\"Shape after GlobalAveragePooling2D: {x.shape}\")\n",
        "\n",
        "# 7. create the output activation layer for 3 classes\n",
        "outputs = tf.keras.layers.Dense(3, activation=\"softmax\", name=\"output_layer\")(x)\n",
        "model_0 = tf.keras.Model(inputs, outputs)\n",
        "\n",
        "# 8. compile the model for 3 classes\n",
        "model_0.compile(loss=\"categorical_crossentropy\",\n",
        "                optimizer=tf.keras.optimizers.Adam(),\n",
        "                metrics=[\"accuracy\"])\n",
        "\n",
        "# Assuming you have already prepared your train_data and test_data\n",
        "# Make sure that train_data and test_data are prepared with class_mode='categorical'\n",
        "\n",
        "# 9. fit the model\n",
        "history_0 = model_0.fit(train_data,\n",
        "                        epochs=40,\n",
        "                        steps_per_epoch=len(train_data),\n",
        "                        validation_data=test_data,\n",
        "                        validation_steps=int(len(test_data)),\n",
        "                        callbacks=[create_tensorboard_callback(dir_name=\"transfer_learning\",\n",
        "                                                               experiment_name=\"3_class_feature_extraction\")])\n",
        "\n"
      ],
      "metadata": {
        "colab": {
          "base_uri": "https://localhost:8080/"
        },
        "id": "ZIz-k0uf3HED",
        "outputId": "3ad2b803-6d0b-4c41-c652-d1b2d288789a"
      },
      "execution_count": 20,
      "outputs": [
        {
          "output_type": "stream",
          "name": "stdout",
          "text": [
            "Downloading data from https://storage.googleapis.com/tensorflow/keras-applications/densenet/densenet121_weights_tf_dim_ordering_tf_kernels_notop.h5\n",
            "29084464/29084464 [==============================] - 3s 0us/step\n",
            "Shape after passing inputs through base model: (None, 7, 7, 1024)\n",
            "Shape after GlobalAveragePooling2D: (None, 1024)\n",
            "Saving TensorBoard log files to: transfer_learning/3_class_feature_extraction/20240730-134858\n",
            "Epoch 1/40\n",
            "43/43 [==============================] - 27s 373ms/step - loss: 1.2733 - accuracy: 0.4095 - val_loss: 1.1711 - val_accuracy: 0.4208\n",
            "Epoch 2/40\n",
            "43/43 [==============================] - 10s 193ms/step - loss: 1.0606 - accuracy: 0.5255 - val_loss: 1.1291 - val_accuracy: 0.4158\n",
            "Epoch 3/40\n",
            "43/43 [==============================] - 9s 186ms/step - loss: 1.0211 - accuracy: 0.5380 - val_loss: 1.1297 - val_accuracy: 0.4950\n",
            "Epoch 4/40\n",
            "43/43 [==============================] - 10s 196ms/step - loss: 0.9598 - accuracy: 0.5657 - val_loss: 1.1154 - val_accuracy: 0.5644\n",
            "Epoch 5/40\n",
            "43/43 [==============================] - 10s 196ms/step - loss: 0.9112 - accuracy: 0.5956 - val_loss: 1.0035 - val_accuracy: 0.5693\n",
            "Epoch 6/40\n",
            "43/43 [==============================] - 10s 190ms/step - loss: 0.8906 - accuracy: 0.6000 - val_loss: 0.9660 - val_accuracy: 0.5545\n",
            "Epoch 7/40\n",
            "43/43 [==============================] - 9s 190ms/step - loss: 0.8709 - accuracy: 0.6044 - val_loss: 0.9716 - val_accuracy: 0.5396\n",
            "Epoch 8/40\n",
            "43/43 [==============================] - 10s 191ms/step - loss: 0.8730 - accuracy: 0.6066 - val_loss: 0.9674 - val_accuracy: 0.5990\n",
            "Epoch 9/40\n",
            "43/43 [==============================] - 10s 196ms/step - loss: 0.8543 - accuracy: 0.6146 - val_loss: 0.9865 - val_accuracy: 0.5842\n",
            "Epoch 10/40\n",
            "43/43 [==============================] - 10s 190ms/step - loss: 0.8430 - accuracy: 0.6270 - val_loss: 0.9572 - val_accuracy: 0.6089\n",
            "Epoch 11/40\n",
            "43/43 [==============================] - 9s 187ms/step - loss: 0.8297 - accuracy: 0.6350 - val_loss: 0.9750 - val_accuracy: 0.5842\n",
            "Epoch 12/40\n",
            "43/43 [==============================] - 9s 188ms/step - loss: 0.8021 - accuracy: 0.6423 - val_loss: 1.0135 - val_accuracy: 0.5396\n",
            "Epoch 13/40\n",
            "43/43 [==============================] - 9s 190ms/step - loss: 0.8109 - accuracy: 0.6453 - val_loss: 1.0410 - val_accuracy: 0.5990\n",
            "Epoch 14/40\n",
            "43/43 [==============================] - 9s 187ms/step - loss: 0.7955 - accuracy: 0.6460 - val_loss: 0.9627 - val_accuracy: 0.5693\n",
            "Epoch 15/40\n",
            "43/43 [==============================] - 10s 189ms/step - loss: 0.7736 - accuracy: 0.6526 - val_loss: 0.9563 - val_accuracy: 0.6139\n",
            "Epoch 16/40\n",
            "43/43 [==============================] - 10s 193ms/step - loss: 0.7823 - accuracy: 0.6606 - val_loss: 0.9578 - val_accuracy: 0.5396\n",
            "Epoch 17/40\n",
            "43/43 [==============================] - 9s 190ms/step - loss: 0.7826 - accuracy: 0.6482 - val_loss: 1.0245 - val_accuracy: 0.6188\n",
            "Epoch 18/40\n",
            "43/43 [==============================] - 9s 184ms/step - loss: 0.8096 - accuracy: 0.6336 - val_loss: 1.0351 - val_accuracy: 0.5644\n",
            "Epoch 19/40\n",
            "43/43 [==============================] - 10s 191ms/step - loss: 0.7463 - accuracy: 0.6752 - val_loss: 0.9662 - val_accuracy: 0.5693\n",
            "Epoch 20/40\n",
            "43/43 [==============================] - 10s 194ms/step - loss: 0.7370 - accuracy: 0.6832 - val_loss: 1.0523 - val_accuracy: 0.6040\n",
            "Epoch 21/40\n",
            "43/43 [==============================] - 9s 190ms/step - loss: 0.7328 - accuracy: 0.6796 - val_loss: 0.9812 - val_accuracy: 0.6040\n",
            "Epoch 22/40\n",
            "43/43 [==============================] - 9s 184ms/step - loss: 0.7339 - accuracy: 0.6737 - val_loss: 0.9602 - val_accuracy: 0.5743\n",
            "Epoch 23/40\n",
            "43/43 [==============================] - 10s 191ms/step - loss: 0.7413 - accuracy: 0.6730 - val_loss: 0.9640 - val_accuracy: 0.6089\n",
            "Epoch 24/40\n",
            "43/43 [==============================] - 10s 190ms/step - loss: 0.7388 - accuracy: 0.6759 - val_loss: 0.9979 - val_accuracy: 0.6139\n",
            "Epoch 25/40\n",
            "43/43 [==============================] - 9s 184ms/step - loss: 0.7065 - accuracy: 0.6861 - val_loss: 0.9948 - val_accuracy: 0.6139\n",
            "Epoch 26/40\n",
            "43/43 [==============================] - 10s 190ms/step - loss: 0.7039 - accuracy: 0.6993 - val_loss: 0.9687 - val_accuracy: 0.5347\n",
            "Epoch 27/40\n",
            "43/43 [==============================] - 10s 194ms/step - loss: 0.7084 - accuracy: 0.6920 - val_loss: 0.9846 - val_accuracy: 0.5743\n",
            "Epoch 28/40\n",
            "43/43 [==============================] - 9s 187ms/step - loss: 0.7017 - accuracy: 0.6964 - val_loss: 0.9957 - val_accuracy: 0.5198\n",
            "Epoch 29/40\n",
            "43/43 [==============================] - 9s 186ms/step - loss: 0.7005 - accuracy: 0.6934 - val_loss: 1.0661 - val_accuracy: 0.5743\n",
            "Epoch 30/40\n",
            "43/43 [==============================] - 10s 190ms/step - loss: 0.6884 - accuracy: 0.7029 - val_loss: 0.9899 - val_accuracy: 0.6040\n",
            "Epoch 31/40\n",
            "43/43 [==============================] - 10s 192ms/step - loss: 0.6904 - accuracy: 0.7161 - val_loss: 1.0033 - val_accuracy: 0.5446\n",
            "Epoch 32/40\n",
            "43/43 [==============================] - 9s 187ms/step - loss: 0.6850 - accuracy: 0.7102 - val_loss: 0.9917 - val_accuracy: 0.5545\n",
            "Epoch 33/40\n",
            "43/43 [==============================] - 9s 185ms/step - loss: 0.6787 - accuracy: 0.7088 - val_loss: 1.0564 - val_accuracy: 0.5891\n",
            "Epoch 34/40\n",
            "43/43 [==============================] - 10s 194ms/step - loss: 0.6663 - accuracy: 0.7109 - val_loss: 1.0100 - val_accuracy: 0.5792\n",
            "Epoch 35/40\n",
            "43/43 [==============================] - 10s 191ms/step - loss: 0.6784 - accuracy: 0.7139 - val_loss: 0.9781 - val_accuracy: 0.5446\n",
            "Epoch 36/40\n",
            "43/43 [==============================] - 9s 184ms/step - loss: 0.6842 - accuracy: 0.7161 - val_loss: 1.0089 - val_accuracy: 0.5941\n",
            "Epoch 37/40\n",
            "43/43 [==============================] - 9s 187ms/step - loss: 0.6881 - accuracy: 0.6942 - val_loss: 1.0368 - val_accuracy: 0.6139\n",
            "Epoch 38/40\n",
            "43/43 [==============================] - 10s 191ms/step - loss: 0.6562 - accuracy: 0.7255 - val_loss: 1.0095 - val_accuracy: 0.5198\n",
            "Epoch 39/40\n",
            "43/43 [==============================] - 9s 186ms/step - loss: 0.6972 - accuracy: 0.6964 - val_loss: 1.0215 - val_accuracy: 0.5149\n",
            "Epoch 40/40\n",
            "43/43 [==============================] - 9s 185ms/step - loss: 0.6829 - accuracy: 0.7131 - val_loss: 1.0177 - val_accuracy: 0.5297\n"
          ]
        }
      ]
    },
    {
      "cell_type": "code",
      "source": [
        "\n",
        "plot_loss_curves(history_0)\n",
        ""
      ],
      "metadata": {
        "colab": {
          "base_uri": "https://localhost:8080/",
          "height": 927
        },
        "id": "fb0Aesi_3KOj",
        "outputId": "e09b614d-36dc-486f-b4cc-6ea3570857ad"
      },
      "execution_count": 21,
      "outputs": [
        {
          "output_type": "display_data",
          "data": {
            "text/plain": [
              "<Figure size 640x480 with 1 Axes>"
            ],
            "image/png": "[encoded data removed]"
          },
          "metadata": {}
        },
        {
          "output_type": "display_data",
          "data": {
            "text/plain": [
              "<Figure size 640x480 with 1 Axes>"
            ],
            "image/png": "[encoded data removed]"
          },
          "metadata": {}
        }
      ]
    },
    {
      "cell_type": "code",
      "source": [
        "\n",
        "from sklearn.metrics import classification_report\n",
        "\n",
        "# Assuming you have true labels for your test data stored in y_true\n",
        "# and predictions from your model stored in y_pred\n",
        "\n",
        "# Convert categorical predictions to class labels\n",
        "y_pred_labels = np.argmax(model_0.predict(test_data), axis=1)\n",
        "\n",
        "# Get true labels from the test dataset\n",
        "y_true_labels = np.concatenate([y for x, y in test_data], axis=0)\n",
        "y_true_labels = np.argmax(y_true_labels, axis=1)\n",
        "\n",
        "# Generate classification report\n",
        "report = classification_report(y_true_labels, y_pred_labels)\n",
        "\n",
        "print(report)\n",
        ""
      ],
      "metadata": {
        "colab": {
          "base_uri": "https://localhost:8080/"
        },
        "id": "upzjrqQj3MOP",
        "outputId": "4806bf13-f75a-4af3-952b-43d19471a3ae"
      },
      "execution_count": 22,
      "outputs": [
        {
          "output_type": "stream",
          "name": "stdout",
          "text": [
            "7/7 [==============================] - 4s 92ms/step\n",
            "              precision    recall  f1-score   support\n",
            "\n",
            "           0       0.20      0.20      0.20        50\n",
            "           1       0.31      0.31      0.31        52\n",
            "           2       0.46      0.46      0.46       100\n",
            "\n",
            "    accuracy                           0.36       202\n",
            "   macro avg       0.32      0.32      0.32       202\n",
            "weighted avg       0.36      0.36      0.36       202\n",
            "\n"
          ]
        }
      ]
    },
    {
      "cell_type": "code",
      "source": [
        "# Eğitim doğruluğunu geçmiş verilerinden al\n",
        "train_accuracy = history_0.history['accuracy']\n",
        "\n",
        "# Son epoch'un eğitim doğruluğunu yazdır\n",
        "print(\"Eğitim doğruluğu:\", train_accuracy[-1])"
      ],
      "metadata": {
        "colab": {
          "base_uri": "https://localhost:8080/"
        },
        "id": "MsvuBLgN3NjW",
        "outputId": "f8514edc-1ab2-431c-b73f-c21021105ed5"
      },
      "execution_count": 23,
      "outputs": [
        {
          "output_type": "stream",
          "name": "stdout",
          "text": [
            "Eğitim doğruluğu: 0.7131386995315552\n"
          ]
        }
      ]
    },
    {
      "cell_type": "code",
      "source": [
        "\n",
        "\n",
        "# test verisinin doğruluğunu hesapla\n",
        "test_loss, test_accuracy = model_0.evaluate(test_data)\n",
        "print(\"Test doğruluğu:\", test_accuracy)\n"
      ],
      "metadata": {
        "colab": {
          "base_uri": "https://localhost:8080/"
        },
        "id": "CS2zqxeS3Ovs",
        "outputId": "994fc334-f8e1-4cd4-c6c6-9ea25b689654"
      },
      "execution_count": 24,
      "outputs": [
        {
          "output_type": "stream",
          "name": "stdout",
          "text": [
            "7/7 [==============================] - 2s 84ms/step - loss: 1.0177 - accuracy: 0.5297\n",
            "Test doğruluğu: 0.5297029614448547\n"
          ]
        }
      ]
    },
    {
      "cell_type": "code",
      "source": [
        "\n",
        "\n",
        "from sklearn.metrics import precision_score\n",
        "\n",
        "# Assuming you have true labels for your test data stored in y_true\n",
        "# and predictions from your model stored in y_pred_labels (as calculated in the previous code)\n",
        "\n",
        "# Calculate precision\n",
        "precision = precision_score(y_true_labels, y_pred_labels, average='macro')  # You can use 'micro' or 'weighted' averaging as well\n",
        "\n",
        "print(\"Precision:\", precision)\n"
      ],
      "metadata": {
        "colab": {
          "base_uri": "https://localhost:8080/"
        },
        "id": "VsQZYAns3QY6",
        "outputId": "1c5eca4d-6b95-4c56-9730-05cae83f2f69"
      },
      "execution_count": 25,
      "outputs": [
        {
          "output_type": "stream",
          "name": "stdout",
          "text": [
            "Precision: 0.32305701158351124\n"
          ]
        }
      ]
    },
    {
      "cell_type": "code",
      "source": [
        "\n",
        "\n",
        "from sklearn.metrics import recall_score\n",
        "\n",
        "# Assuming you have true labels for your test data stored in y_true\n",
        "# and predictions from your model stored in y_pred_labels (as calculated in the previous code)\n",
        "\n",
        "# Calculate recall\n",
        "recall = recall_score(y_true_labels, y_pred_labels, average='macro')  # You can use 'micro' or 'weighted' averaging as well\n",
        "\n",
        "print(\"Recall:\", recall)\n"
      ],
      "metadata": {
        "colab": {
          "base_uri": "https://localhost:8080/"
        },
        "id": "aKFUOWD83T2f",
        "outputId": "37fd1d97-e119-4a0e-a0b2-183eeab84395"
      },
      "execution_count": 26,
      "outputs": [
        {
          "output_type": "stream",
          "name": "stdout",
          "text": [
            "Recall: 0.32256410256410256\n"
          ]
        }
      ]
    },
    {
      "cell_type": "code",
      "source": [
        "\n",
        "from sklearn.metrics import f1_score\n",
        "\n",
        "# Assuming you have true labels for your test data stored in y_true\n",
        "# and predictions from your model stored in y_pred_labels (as calculated in the previous code)\n",
        "\n",
        "# Calculate F1-score\n",
        "f1 = f1_score(y_true_labels, y_pred_labels, average='macro')  # You can use 'micro' or 'weighted' averaging as well\n",
        "\n",
        "print(\"F1-score:\", f1)\n"
      ],
      "metadata": {
        "colab": {
          "base_uri": "https://localhost:8080/"
        },
        "id": "4Strx3L93WZo",
        "outputId": "0b27e081-333f-4715-98fb-4819795e25de"
      },
      "execution_count": 27,
      "outputs": [
        {
          "output_type": "stream",
          "name": "stdout",
          "text": [
            "F1-score: 0.32279701814551837\n"
          ]
        }
      ]
    },
    {
      "cell_type": "code",
      "source": [],
      "metadata": {
        "id": "11DMIo5w3Z-7"
      },
      "execution_count": null,
      "outputs": []
    }
  ]
}