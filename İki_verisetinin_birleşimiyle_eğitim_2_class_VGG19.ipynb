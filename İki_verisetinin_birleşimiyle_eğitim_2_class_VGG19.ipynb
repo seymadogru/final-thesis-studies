{
  "nbformat": 4,
  "nbformat_minor": 0,
  "metadata": {
    "colab": {
      "provenance": [],
      "machine_shape": "hm",
      "gpuType": "T4"
    },
    "kernelspec": {
      "name": "python3",
      "display_name": "Python 3"
    },
    "language_info": {
      "name": "python"
    },
    "accelerator": "GPU"
  },
  "cells": [
    {
      "cell_type": "code",
      "execution_count": 1,
      "metadata": {
        "id": "Qs2OmG64SRk2",
        "colab": {
          "base_uri": "https://localhost:8080/"
        },
        "outputId": "7e8c4d5c-bb56-4396-fbb3-85924e60cb4d"
      },
      "outputs": [
        {
          "output_type": "stream",
          "name": "stdout",
          "text": [
            "--2024-07-25 19:11:18--  https://raw.githubusercontent.com/mrdbourke/tensorflow-deep-learning/main/extras/helper_functions.py\n",
            "Resolving raw.githubusercontent.com (raw.githubusercontent.com)... 185.199.108.133, 185.199.109.133, 185.199.110.133, ...\n",
            "Connecting to raw.githubusercontent.com (raw.githubusercontent.com)|185.199.108.133|:443... connected.\n",
            "HTTP request sent, awaiting response... 200 OK\n",
            "Length: 10246 (10K) [text/plain]\n",
            "Saving to: ‘helper_functions.py’\n",
            "\n",
            "helper_functions.py 100%[===================>]  10.01K  --.-KB/s    in 0s      \n",
            "\n",
            "2024-07-25 19:11:19 (126 MB/s) - ‘helper_functions.py’ saved [10246/10246]\n",
            "\n"
          ]
        }
      ],
      "source": [
        "!wget https://raw.githubusercontent.com/mrdbourke/tensorflow-deep-learning/main/extras/helper_functions.py"
      ]
    },
    {
      "cell_type": "code",
      "source": [
        "from helper_functions import create_tensorboard_callback, plot_loss_curves, unzip_data, walk_through_dir"
      ],
      "metadata": {
        "id": "fQVctMbsTgiw"
      },
      "execution_count": 2,
      "outputs": []
    },
    {
      "cell_type": "code",
      "source": [
        "import os\n",
        "\n",
        "for dirpath, dirnames, filenames in os.walk(\"/content/drive/MyDrive/Tez Dosyaları/birlesik veriseti 2 classli\"):\n",
        "  print(f\"There are {len(dirnames)} directories and {len(filenames)} images in '{dirpath}'.\")"
      ],
      "metadata": {
        "colab": {
          "base_uri": "https://localhost:8080/"
        },
        "id": "YRmfkAzdUBmz",
        "outputId": "ab943cc2-a449-411b-f5fc-5dce65b812a0"
      },
      "execution_count": 3,
      "outputs": [
        {
          "output_type": "stream",
          "name": "stdout",
          "text": [
            "There are 2 directories and 0 images in '/content/drive/MyDrive/Tez Dosyaları/birlesik veriseti 2 classli'.\n",
            "There are 2 directories and 0 images in '/content/drive/MyDrive/Tez Dosyaları/birlesik veriseti 2 classli/Train'.\n",
            "There are 0 directories and 840 images in '/content/drive/MyDrive/Tez Dosyaları/birlesik veriseti 2 classli/Train/Malignant'.\n",
            "There are 0 directories and 575 images in '/content/drive/MyDrive/Tez Dosyaları/birlesik veriseti 2 classli/Train/Benign'.\n",
            "There are 2 directories and 0 images in '/content/drive/MyDrive/Tez Dosyaları/birlesik veriseti 2 classli/Test'.\n",
            "There are 0 directories and 100 images in '/content/drive/MyDrive/Tez Dosyaları/birlesik veriseti 2 classli/Test/Benign'.\n",
            "There are 0 directories and 100 images in '/content/drive/MyDrive/Tez Dosyaları/birlesik veriseti 2 classli/Test/Malignant'.\n"
          ]
        }
      ]
    },
    {
      "cell_type": "code",
      "source": [
        "train_dir = \"/content/drive/MyDrive/Tez Dosyaları/birlesik veriseti 2 classli/Train\"\n",
        "test_dir = \"/content/drive/MyDrive/Tez Dosyaları/birlesik veriseti 2 classli/Test\""
      ],
      "metadata": {
        "id": "vEtHbifxUQRL"
      },
      "execution_count": 4,
      "outputs": []
    },
    {
      "cell_type": "code",
      "source": [
        "import tensorflow as tf\n",
        "BATCH_SIZE = 32\n",
        "IMG_SIZE = (224, 224)\n",
        "train_data= tf.keras.preprocessing.image_dataset_from_directory(train_dir,\n",
        "                                                          label_mode=\"binary\",\n",
        "                                                          batch_size=BATCH_SIZE,\n",
        "                                                          image_size=IMG_SIZE)\n",
        "\n",
        "test_data = tf.keras.preprocessing.image_dataset_from_directory(test_dir,\n",
        "                                                          label_mode=\"binary\",\n",
        "                                                          batch_size=BATCH_SIZE,\n",
        "                                                          image_size=IMG_SIZE)"
      ],
      "metadata": {
        "colab": {
          "base_uri": "https://localhost:8080/"
        },
        "id": "0yk3vHXOUd5Y",
        "outputId": "8a13c073-fd5c-4f92-83db-073c8b95e817"
      },
      "execution_count": 5,
      "outputs": [
        {
          "output_type": "stream",
          "name": "stdout",
          "text": [
            "Found 1415 files belonging to 2 classes.\n",
            "Found 200 files belonging to 2 classes.\n"
          ]
        }
      ]
    },
    {
      "cell_type": "code",
      "source": [
        "train_data.class_names"
      ],
      "metadata": {
        "colab": {
          "base_uri": "https://localhost:8080/"
        },
        "id": "u5mhg7yqUj70",
        "outputId": "9cd59eaf-1554-47fd-ecd0-8f239061cafb"
      },
      "execution_count": 6,
      "outputs": [
        {
          "output_type": "execute_result",
          "data": {
            "text/plain": [
              "['Benign', 'Malignant']"
            ]
          },
          "metadata": {},
          "execution_count": 6
        }
      ]
    },
    {
      "cell_type": "code",
      "source": [
        "from tensorflow.keras.preprocessing.image import ImageDataGenerator\n",
        "from tensorflow.keras.preprocessing.image import img_to_array\n",
        "from tensorflow.keras.preprocessing.image import load_img\n",
        "import numpy as np\n",
        "import random\n",
        "import math\n",
        "import csv\n",
        "import cv2\n",
        "import os"
      ],
      "metadata": {
        "id": "pchuVhrrUp9V"
      },
      "execution_count": 7,
      "outputs": []
    },
    {
      "cell_type": "code",
      "source": [
        "# 1.  create base model with tf.keras.applications\n",
        "base_model = tf.keras.applications.VGG19(include_top=False)\n",
        "\n",
        "# 2. Freeze the base model\n",
        "base_model.trainable = False\n",
        "\n",
        "# 3. create inputs into our model\n",
        "inputs = tf.keras.layers.Input(shape=(224, 224, 3), name=\"input_layer\")\n",
        "\n",
        "# 4. if using ResNet50V2 you will need to normalize inputs\n",
        "# x = tf.keras.layers.experimental.preprocessing.Rescaling(1./255)(inputs)\n",
        "\n",
        "# 5. pass the inputs to the base_model\n",
        "x = base_model(inputs)\n",
        "print(f\"Shape after passing inputs through base model: {x.shape}\")\n",
        "\n",
        "# 6. average pool the outputs of the base model (aggregate all the most important information, reduce number of computations)\n",
        "x = tf.keras.layers.GlobalAveragePooling2D(name=\"global_average_pooling_layer\")(x)\n",
        "print(f\"Shape after GlobalAveragePooling2D: {x.shape}\")\n",
        "\n",
        "# 7. create the output activation layer\n",
        "outputs = tf.keras.layers.Dense(1, activation=\"sigmoid\", name=\"output_layer\")(x)\n",
        "model_0 = tf.keras.Model(inputs, outputs)\n",
        "\n",
        "# 8. compile the model\n",
        "model_0.compile(loss=\"binary_crossentropy\",\n",
        "                optimizer=tf.keras.optimizers.Adam(),\n",
        "                metrics=[\"accuracy\"])\n",
        "\n",
        "# 9. fit the model\n",
        "history_0 = model_0.fit(train_data,\n",
        "                        epochs=40,\n",
        "                        steps_per_epoch=len(train_data),\n",
        "                        validation_data=test_data,\n",
        "                        validation_steps=int(len(test_data)),\n",
        "                        callbacks=[create_tensorboard_callback(dir_name=\"transfer_learning\",\n",
        "                                                              experiment_name=\"10_percent_feature_extraction\")])\n"
      ],
      "metadata": {
        "colab": {
          "base_uri": "https://localhost:8080/"
        },
        "id": "I3i718QZUsV_",
        "outputId": "8d7e183e-b774-405b-a828-7d11961fc2e3"
      },
      "execution_count": 36,
      "outputs": [
        {
          "output_type": "stream",
          "name": "stdout",
          "text": [
            "Downloading data from https://storage.googleapis.com/tensorflow/keras-applications/vgg19/vgg19_weights_tf_dim_ordering_tf_kernels_notop.h5\n",
            "80134624/80134624 [==============================] - 5s 0us/step\n",
            "Shape after passing inputs through base model: (None, 7, 7, 512)\n",
            "Shape after GlobalAveragePooling2D: (None, 512)\n",
            "Saving TensorBoard log files to: transfer_learning/10_percent_feature_extraction/20240725-195444\n",
            "Epoch 1/40\n",
            "45/45 [==============================] - 12s 227ms/step - loss: 1.0386 - accuracy: 0.5435 - val_loss: 0.8393 - val_accuracy: 0.5800\n",
            "Epoch 2/40\n",
            "45/45 [==============================] - 11s 221ms/step - loss: 0.8220 - accuracy: 0.5852 - val_loss: 0.7762 - val_accuracy: 0.5650\n",
            "Epoch 3/40\n",
            "45/45 [==============================] - 11s 216ms/step - loss: 0.7301 - accuracy: 0.6269 - val_loss: 0.7087 - val_accuracy: 0.6050\n",
            "Epoch 4/40\n",
            "45/45 [==============================] - 11s 216ms/step - loss: 0.6899 - accuracy: 0.6459 - val_loss: 0.6921 - val_accuracy: 0.6250\n",
            "Epoch 5/40\n",
            "45/45 [==============================] - 11s 212ms/step - loss: 0.6515 - accuracy: 0.6608 - val_loss: 0.7066 - val_accuracy: 0.6000\n",
            "Epoch 6/40\n",
            "45/45 [==============================] - 11s 211ms/step - loss: 0.6263 - accuracy: 0.6968 - val_loss: 0.7196 - val_accuracy: 0.5850\n",
            "Epoch 7/40\n",
            "45/45 [==============================] - 11s 218ms/step - loss: 0.6066 - accuracy: 0.6982 - val_loss: 0.6576 - val_accuracy: 0.6750\n",
            "Epoch 8/40\n",
            "45/45 [==============================] - 11s 220ms/step - loss: 0.5917 - accuracy: 0.7011 - val_loss: 0.6800 - val_accuracy: 0.6150\n",
            "Epoch 9/40\n",
            "45/45 [==============================] - 11s 221ms/step - loss: 0.5784 - accuracy: 0.7152 - val_loss: 0.6585 - val_accuracy: 0.6700\n",
            "Epoch 10/40\n",
            "45/45 [==============================] - 11s 220ms/step - loss: 0.5650 - accuracy: 0.7145 - val_loss: 0.6895 - val_accuracy: 0.6200\n",
            "Epoch 11/40\n",
            "45/45 [==============================] - 11s 219ms/step - loss: 0.5657 - accuracy: 0.7272 - val_loss: 0.6604 - val_accuracy: 0.6600\n",
            "Epoch 12/40\n",
            "45/45 [==============================] - 11s 217ms/step - loss: 0.5542 - accuracy: 0.7307 - val_loss: 0.6499 - val_accuracy: 0.6450\n",
            "Epoch 13/40\n",
            "45/45 [==============================] - 11s 216ms/step - loss: 0.5548 - accuracy: 0.7223 - val_loss: 0.6530 - val_accuracy: 0.6700\n",
            "Epoch 14/40\n",
            "45/45 [==============================] - 11s 213ms/step - loss: 0.5372 - accuracy: 0.7357 - val_loss: 0.6811 - val_accuracy: 0.6300\n",
            "Epoch 15/40\n",
            "45/45 [==============================] - 11s 217ms/step - loss: 0.5289 - accuracy: 0.7420 - val_loss: 0.6476 - val_accuracy: 0.6550\n",
            "Epoch 16/40\n",
            "45/45 [==============================] - 11s 216ms/step - loss: 0.5237 - accuracy: 0.7498 - val_loss: 0.7093 - val_accuracy: 0.6200\n",
            "Epoch 17/40\n",
            "45/45 [==============================] - 11s 218ms/step - loss: 0.5270 - accuracy: 0.7336 - val_loss: 0.6628 - val_accuracy: 0.6500\n",
            "Epoch 18/40\n",
            "45/45 [==============================] - 11s 218ms/step - loss: 0.5134 - accuracy: 0.7519 - val_loss: 0.7099 - val_accuracy: 0.6250\n",
            "Epoch 19/40\n",
            "45/45 [==============================] - 11s 215ms/step - loss: 0.5096 - accuracy: 0.7590 - val_loss: 0.6674 - val_accuracy: 0.6400\n",
            "Epoch 20/40\n",
            "45/45 [==============================] - 11s 223ms/step - loss: 0.5023 - accuracy: 0.7527 - val_loss: 0.6712 - val_accuracy: 0.6300\n",
            "Epoch 21/40\n",
            "45/45 [==============================] - 11s 215ms/step - loss: 0.4984 - accuracy: 0.7562 - val_loss: 0.6468 - val_accuracy: 0.6550\n",
            "Epoch 22/40\n",
            "45/45 [==============================] - 11s 212ms/step - loss: 0.4910 - accuracy: 0.7618 - val_loss: 0.6533 - val_accuracy: 0.6600\n",
            "Epoch 23/40\n",
            "45/45 [==============================] - 11s 217ms/step - loss: 0.4937 - accuracy: 0.7548 - val_loss: 0.6517 - val_accuracy: 0.6750\n",
            "Epoch 24/40\n",
            "45/45 [==============================] - 11s 215ms/step - loss: 0.4966 - accuracy: 0.7534 - val_loss: 0.6941 - val_accuracy: 0.6250\n",
            "Epoch 25/40\n",
            "45/45 [==============================] - 11s 221ms/step - loss: 0.4985 - accuracy: 0.7463 - val_loss: 0.6551 - val_accuracy: 0.6650\n",
            "Epoch 26/40\n",
            "45/45 [==============================] - 11s 217ms/step - loss: 0.4793 - accuracy: 0.7597 - val_loss: 0.6768 - val_accuracy: 0.6400\n",
            "Epoch 27/40\n",
            "45/45 [==============================] - 11s 218ms/step - loss: 0.4785 - accuracy: 0.7661 - val_loss: 0.6876 - val_accuracy: 0.6450\n",
            "Epoch 28/40\n",
            "45/45 [==============================] - 11s 212ms/step - loss: 0.4792 - accuracy: 0.7703 - val_loss: 0.6485 - val_accuracy: 0.6500\n",
            "Epoch 29/40\n",
            "45/45 [==============================] - 11s 218ms/step - loss: 0.4809 - accuracy: 0.7654 - val_loss: 0.6915 - val_accuracy: 0.6500\n",
            "Epoch 30/40\n",
            "45/45 [==============================] - 11s 212ms/step - loss: 0.4775 - accuracy: 0.7647 - val_loss: 0.7010 - val_accuracy: 0.6500\n",
            "Epoch 31/40\n",
            "45/45 [==============================] - 11s 212ms/step - loss: 0.4778 - accuracy: 0.7774 - val_loss: 0.6515 - val_accuracy: 0.6500\n",
            "Epoch 32/40\n",
            "45/45 [==============================] - 11s 214ms/step - loss: 0.4724 - accuracy: 0.7767 - val_loss: 0.6552 - val_accuracy: 0.6550\n",
            "Epoch 33/40\n",
            "45/45 [==============================] - 11s 216ms/step - loss: 0.4589 - accuracy: 0.7859 - val_loss: 0.6869 - val_accuracy: 0.6550\n",
            "Epoch 34/40\n",
            "45/45 [==============================] - 11s 219ms/step - loss: 0.4619 - accuracy: 0.7689 - val_loss: 0.6544 - val_accuracy: 0.6500\n",
            "Epoch 35/40\n",
            "45/45 [==============================] - 11s 214ms/step - loss: 0.4690 - accuracy: 0.7717 - val_loss: 0.6639 - val_accuracy: 0.6400\n",
            "Epoch 36/40\n",
            "45/45 [==============================] - 11s 215ms/step - loss: 0.4559 - accuracy: 0.7781 - val_loss: 0.6629 - val_accuracy: 0.6550\n",
            "Epoch 37/40\n",
            "45/45 [==============================] - 11s 220ms/step - loss: 0.4608 - accuracy: 0.7731 - val_loss: 0.6708 - val_accuracy: 0.6400\n",
            "Epoch 38/40\n",
            "45/45 [==============================] - 11s 217ms/step - loss: 0.4642 - accuracy: 0.7668 - val_loss: 0.6702 - val_accuracy: 0.6600\n",
            "Epoch 39/40\n",
            "45/45 [==============================] - 11s 211ms/step - loss: 0.4542 - accuracy: 0.7802 - val_loss: 0.6808 - val_accuracy: 0.6700\n",
            "Epoch 40/40\n",
            "45/45 [==============================] - 11s 213ms/step - loss: 0.4512 - accuracy: 0.7823 - val_loss: 0.6505 - val_accuracy: 0.6600\n"
          ]
        }
      ]
    },
    {
      "cell_type": "code",
      "source": [
        "import matplotlib.pyplot as plt\n",
        "\n",
        "def plot_loss_curves(history):\n",
        "  \"\"\"\n",
        "  Returns separate loss curves for training and validation metrics.\n",
        "  Args:\n",
        "    history: TensorFlow History object.\n",
        "\n",
        "    Returns:\n",
        "    Plots of training/validation loss and accuracy metrics.\n",
        "  \"\"\"\n",
        "  loss = history.history['loss']\n",
        "  val_loss = history.history['val_loss']\n",
        "\n",
        "  accuracy = history.history['accuracy']\n",
        "  val_accuracy = history.history['val_accuracy']\n",
        "\n",
        "  epochs = range(len(history.history['loss']))\n",
        "\n",
        "  #Plot loss\n",
        "\n",
        "  plt.plot(epochs, loss, label='training_loss')\n",
        "  plt.plot(epochs, val_loss, label='val_loss')\n",
        "  plt.title('Loss')\n",
        "  plt.xlabel('Epochs')\n",
        "  plt.legend()\n",
        "\n",
        "  #Plot accuracy\n",
        "  plt.figure()\n",
        "  plt.plot(epochs, accuracy, label='training_accuracy')\n",
        "  plt.plot(epochs, val_accuracy, label='val_accuracy')\n",
        "  plt.title('Accuracy')\n",
        "  plt.xlabel('Epochs')\n",
        "  plt.legend();\n",
        "\n",
        "plot_loss_curves(history_0)"
      ],
      "metadata": {
        "colab": {
          "base_uri": "https://localhost:8080/",
          "height": 927
        },
        "id": "bZwCrUWUUvW-",
        "outputId": "c36e43e7-7e51-4dfb-f730-bc064cce2889"
      },
      "execution_count": 37,
      "outputs": [
        {
          "output_type": "display_data",
          "data": {
            "text/plain": [
              "<Figure size 640x480 with 1 Axes>"
            ],
            "image/png": "[encoded data removed]"
          },
          "metadata": {}
        },
        {
          "output_type": "display_data",
          "data": {
            "text/plain": [
              "<Figure size 640x480 with 1 Axes>"
            ],
            "image/png": "[encoded data removed]"
          },
          "metadata": {}
        }
      ]
    },
    {
      "cell_type": "code",
      "source": [
        "\n",
        "results_feature_extraction = model_0.evaluate(test_data)\n",
        "results_feature_extraction"
      ],
      "metadata": {
        "colab": {
          "base_uri": "https://localhost:8080/"
        },
        "id": "_rruvTnTU3v2",
        "outputId": "cdcc3310-befb-44f2-ef3d-9a717501cbab"
      },
      "execution_count": 38,
      "outputs": [
        {
          "output_type": "stream",
          "name": "stdout",
          "text": [
            "7/7 [==============================] - 2s 148ms/step - loss: 0.6505 - accuracy: 0.6600\n"
          ]
        },
        {
          "output_type": "execute_result",
          "data": {
            "text/plain": [
              "[0.650503396987915, 0.6600000262260437]"
            ]
          },
          "metadata": {},
          "execution_count": 38
        }
      ]
    },
    {
      "cell_type": "code",
      "source": [
        "# Get the predicted probabilities for the test set\n",
        "y_pred_probs = model_0.predict(test_data)\n",
        "\n",
        "# Convert probabilities to binary predictions (0 or 1)\n",
        "y_pred = (y_pred_probs > 0.5).astype(int)\n",
        "\n",
        "# Get the true labels for the test set\n",
        "y_true = np.concatenate([y for x, y in test_data], axis=0)\n",
        "\n",
        "# Calculate precision\n",
        "from sklearn.metrics import precision_score\n",
        "precision = precision_score(y_true, y_pred)\n",
        "print(\"Precision:\", precision)"
      ],
      "metadata": {
        "colab": {
          "base_uri": "https://localhost:8080/"
        },
        "id": "EfoOV83nU5wm",
        "outputId": "444eed1d-1430-478b-b9fd-b7270a5c258f"
      },
      "execution_count": 39,
      "outputs": [
        {
          "output_type": "stream",
          "name": "stdout",
          "text": [
            "7/7 [==============================] - 2s 163ms/step\n",
            "Precision: 0.46938775510204084\n"
          ]
        }
      ]
    },
    {
      "cell_type": "code",
      "source": [
        "\n",
        "from sklearn.metrics import recall_score\n",
        "\n",
        "# Calculate recall\n",
        "recall = recall_score(y_true, y_pred)\n",
        "print(\"Recall:\", recall)\n"
      ],
      "metadata": {
        "colab": {
          "base_uri": "https://localhost:8080/"
        },
        "id": "IV-Ia-8YU7Kb",
        "outputId": "f6955c46-c64d-478e-9d5b-e1f2bcf828f2"
      },
      "execution_count": 40,
      "outputs": [
        {
          "output_type": "stream",
          "name": "stdout",
          "text": [
            "Recall: 0.46\n"
          ]
        }
      ]
    },
    {
      "cell_type": "code",
      "source": [
        "from sklearn.metrics import f1_score\n",
        "# Calculate F1-score\n",
        "f1 = f1_score(y_true, y_pred)\n",
        "print(\"F1-score:\", f1)\n"
      ],
      "metadata": {
        "colab": {
          "base_uri": "https://localhost:8080/"
        },
        "id": "rB2akunGU8oO",
        "outputId": "eab5dc52-b913-4541-f1f3-fcda420e707b"
      },
      "execution_count": 41,
      "outputs": [
        {
          "output_type": "stream",
          "name": "stdout",
          "text": [
            "F1-score: 0.46464646464646464\n"
          ]
        }
      ]
    },
    {
      "cell_type": "code",
      "source": [
        "# Eğitim doğruluğunu elde etmek için history_0 nesnesini kullanın\n",
        "train_accuracy = history_0.history['accuracy']\n",
        "\n",
        "# Son epoch'un eğitim doğruluğunu yazdırın\n",
        "print(\"Eğitim doğruluğu:\", train_accuracy[-1])"
      ],
      "metadata": {
        "colab": {
          "base_uri": "https://localhost:8080/"
        },
        "id": "6-63WHCpU-Po",
        "outputId": "dc52d32e-6d3d-47b2-8ca8-db1a40ebbf42"
      },
      "execution_count": 42,
      "outputs": [
        {
          "output_type": "stream",
          "name": "stdout",
          "text": [
            "Eğitim doğruluğu: 0.782332181930542\n"
          ]
        }
      ]
    },
    {
      "cell_type": "code",
      "source": [],
      "metadata": {
        "id": "BsfWb3mwU_h7"
      },
      "execution_count": 35,
      "outputs": []
    }
  ]
}