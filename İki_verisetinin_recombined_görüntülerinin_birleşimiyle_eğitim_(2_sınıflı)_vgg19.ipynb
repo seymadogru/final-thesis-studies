{
  "nbformat": 4,
  "nbformat_minor": 0,
  "metadata": {
    "colab": {
      "provenance": [],
      "machine_shape": "hm",
      "gpuType": "T4"
    },
    "kernelspec": {
      "name": "python3",
      "display_name": "Python 3"
    },
    "language_info": {
      "name": "python"
    },
    "accelerator": "GPU"
  },
  "cells": [
    {
      "cell_type": "code",
      "execution_count": 1,
      "metadata": {
        "colab": {
          "base_uri": "https://localhost:8080/"
        },
        "id": "FwQZwRqhZBeY",
        "outputId": "db9d1b5a-54f2-4cb1-cb7f-c93d5890cd95"
      },
      "outputs": [
        {
          "output_type": "stream",
          "name": "stdout",
          "text": [
            "Mounted at /content/drive\n"
          ]
        }
      ],
      "source": [
        "from google.colab import drive\n",
        "drive.mount('/content/drive')"
      ]
    },
    {
      "cell_type": "code",
      "source": [
        "!wget https://raw.githubusercontent.com/mrdbourke/tensorflow-deep-learning/main/extras/helper_functions.py"
      ],
      "metadata": {
        "colab": {
          "base_uri": "https://localhost:8080/"
        },
        "id": "RjJAGDkrZdKW",
        "outputId": "cb6ab471-8276-4d41-eb5d-9a6635d199bd"
      },
      "execution_count": 2,
      "outputs": [
        {
          "output_type": "stream",
          "name": "stdout",
          "text": [
            "--2024-07-31 10:47:04--  https://raw.githubusercontent.com/mrdbourke/tensorflow-deep-learning/main/extras/helper_functions.py\n",
            "Resolving raw.githubusercontent.com (raw.githubusercontent.com)... 185.199.108.133, 185.199.109.133, 185.199.110.133, ...\n",
            "Connecting to raw.githubusercontent.com (raw.githubusercontent.com)|185.199.108.133|:443... connected.\n",
            "HTTP request sent, awaiting response... 200 OK\n",
            "Length: 10246 (10K) [text/plain]\n",
            "Saving to: ‘helper_functions.py’\n",
            "\n",
            "helper_functions.py 100%[===================>]  10.01K  --.-KB/s    in 0.001s  \n",
            "\n",
            "2024-07-31 10:47:04 (10.4 MB/s) - ‘helper_functions.py’ saved [10246/10246]\n",
            "\n"
          ]
        }
      ]
    },
    {
      "cell_type": "code",
      "source": [
        "#import helper functions we're going to use in this notebook\n",
        "\n",
        "from helper_functions import create_tensorboard_callback, plot_loss_curves, unzip_data, walk_through_dir\n"
      ],
      "metadata": {
        "id": "6sBn0RMfZoW9"
      },
      "execution_count": 3,
      "outputs": []
    },
    {
      "cell_type": "code",
      "source": [
        "import os\n",
        "\n",
        "for dirpath, dirnames, filenames in os.walk(\"/content/drive/MyDrive/Tez Dosyaları/recombined 2 classlı\"):\n",
        "  print(f\"There are {len(dirnames)} directories and {len(filenames)} images in '{dirpath}'.\")\n"
      ],
      "metadata": {
        "colab": {
          "base_uri": "https://localhost:8080/"
        },
        "id": "RAm--8T3Zp73",
        "outputId": "7e496f15-5552-4b6b-d220-f61accd5165d"
      },
      "execution_count": 4,
      "outputs": [
        {
          "output_type": "stream",
          "name": "stdout",
          "text": [
            "There are 2 directories and 0 images in '/content/drive/MyDrive/Tez Dosyaları/recombined 2 classlı'.\n",
            "There are 2 directories and 0 images in '/content/drive/MyDrive/Tez Dosyaları/recombined 2 classlı/Test'.\n",
            "There are 0 directories and 50 images in '/content/drive/MyDrive/Tez Dosyaları/recombined 2 classlı/Test/Malignant'.\n",
            "There are 0 directories and 50 images in '/content/drive/MyDrive/Tez Dosyaları/recombined 2 classlı/Test/Benign'.\n",
            "There are 2 directories and 0 images in '/content/drive/MyDrive/Tez Dosyaları/recombined 2 classlı/Train'.\n",
            "There are 0 directories and 420 images in '/content/drive/MyDrive/Tez Dosyaları/recombined 2 classlı/Train/Malignant'.\n",
            "There are 0 directories and 250 images in '/content/drive/MyDrive/Tez Dosyaları/recombined 2 classlı/Train/Benign'.\n"
          ]
        }
      ]
    },
    {
      "cell_type": "code",
      "source": [
        "train_dir = \"/content/drive/MyDrive/Tez Dosyaları/recombined 2 classlı/Train\"\n",
        "test_dir = \"/content/drive/MyDrive/Tez Dosyaları/recombined 2 classlı/Test\""
      ],
      "metadata": {
        "id": "6riLqEDnZwiF"
      },
      "execution_count": 5,
      "outputs": []
    },
    {
      "cell_type": "code",
      "source": [
        "import tensorflow as tf\n",
        "BATCH_SIZE = 32\n",
        "IMG_SIZE = (224, 224)\n",
        "train_data= tf.keras.preprocessing.image_dataset_from_directory(train_dir,\n",
        "                                                          label_mode=\"binary\",\n",
        "                                                          batch_size=BATCH_SIZE,\n",
        "                                                          image_size=IMG_SIZE)\n",
        "\n",
        "test_data = tf.keras.preprocessing.image_dataset_from_directory(test_dir,\n",
        "                                                          label_mode=\"binary\",\n",
        "                                                          batch_size=BATCH_SIZE,\n",
        "                                                          image_size=IMG_SIZE)"
      ],
      "metadata": {
        "colab": {
          "base_uri": "https://localhost:8080/"
        },
        "id": "6QVvqopmZ0zV",
        "outputId": "89908eb4-14fc-4401-b329-e97bd71b0e22"
      },
      "execution_count": 6,
      "outputs": [
        {
          "output_type": "stream",
          "name": "stdout",
          "text": [
            "Found 670 files belonging to 2 classes.\n",
            "Found 100 files belonging to 2 classes.\n"
          ]
        }
      ]
    },
    {
      "cell_type": "code",
      "source": [
        "train_data.class_names"
      ],
      "metadata": {
        "colab": {
          "base_uri": "https://localhost:8080/"
        },
        "id": "Nc4UzCRAZ2ci",
        "outputId": "dc5d1e31-0996-4cfc-a53c-3e95604004c8"
      },
      "execution_count": 7,
      "outputs": [
        {
          "output_type": "execute_result",
          "data": {
            "text/plain": [
              "['Benign', 'Malignant']"
            ]
          },
          "metadata": {},
          "execution_count": 7
        }
      ]
    },
    {
      "cell_type": "code",
      "source": [
        "from tensorflow.keras.preprocessing.image import ImageDataGenerator\n",
        "from tensorflow.keras.preprocessing.image import img_to_array\n",
        "from tensorflow.keras.preprocessing.image import load_img\n",
        "import numpy as np\n",
        "import random\n",
        "import math\n",
        "import csv\n",
        "import cv2\n",
        "import os"
      ],
      "metadata": {
        "id": "lLxBnhpLZ311"
      },
      "execution_count": 8,
      "outputs": []
    },
    {
      "cell_type": "code",
      "source": [
        "# 1.  create base model with tf.keras.applications\n",
        "base_model = tf.keras.applications.VGG19(include_top=False)\n",
        "\n",
        "# 2. Freeze the base model\n",
        "base_model.trainable = False\n",
        "\n",
        "# 3. create inputs into our model\n",
        "inputs = tf.keras.layers.Input(shape=(224, 224, 3), name=\"input_layer\")\n",
        "\n",
        "# 4. if using ResNet50V2 you will need to normalize inputs\n",
        "# x = tf.keras.layers.experimental.preprocessing.Rescaling(1./255)(inputs)\n",
        "\n",
        "# 5. pass the inputs to the base_model\n",
        "x = base_model(inputs)\n",
        "print(f\"Shape after passing inputs through base model: {x.shape}\")\n",
        "\n",
        "# 6. average pool the outputs of the base model (aggregate all the most important information, reduce number of computations)\n",
        "x = tf.keras.layers.GlobalAveragePooling2D(name=\"global_average_pooling_layer\")(x)\n",
        "print(f\"Shape after GlobalAveragePooling2D: {x.shape}\")\n",
        "\n",
        "# 7. create the output activation layer\n",
        "outputs = tf.keras.layers.Dense(1, activation=\"sigmoid\", name=\"output_layer\")(x)\n",
        "model_0 = tf.keras.Model(inputs, outputs)\n",
        "\n",
        "# 8. compile the model\n",
        "model_0.compile(loss=\"binary_crossentropy\",\n",
        "                optimizer=tf.keras.optimizers.Adam(),\n",
        "                metrics=[\"accuracy\"])\n",
        "\n",
        "# 9. fit the model\n",
        "history_0 = model_0.fit(train_data,\n",
        "                        epochs=40,\n",
        "                        steps_per_epoch=len(train_data),\n",
        "                        validation_data=test_data,\n",
        "                        validation_steps=int(len(test_data)),\n",
        "                        callbacks=[create_tensorboard_callback(dir_name=\"transfer_learning\",\n",
        "                                                              experiment_name=\"10_percent_feature_extraction\")])\n",
        "\n",
        ""
      ],
      "metadata": {
        "colab": {
          "base_uri": "https://localhost:8080/"
        },
        "id": "WUCMRH9QZ5Jv",
        "outputId": "98ecb36f-9ff7-43ea-c014-efa3d66b3b9e"
      },
      "execution_count": 37,
      "outputs": [
        {
          "output_type": "stream",
          "name": "stdout",
          "text": [
            "Downloading data from https://storage.googleapis.com/tensorflow/keras-applications/vgg19/vgg19_weights_tf_dim_ordering_tf_kernels_notop.h5\n",
            "80134624/80134624 [==============================] - 3s 0us/step\n",
            "Shape after passing inputs through base model: (None, 7, 7, 512)\n",
            "Shape after GlobalAveragePooling2D: (None, 512)\n",
            "Saving TensorBoard log files to: transfer_learning/10_percent_feature_extraction/20240731-110748\n",
            "Epoch 1/40\n",
            "21/21 [==============================] - 7s 233ms/step - loss: 0.9343 - accuracy: 0.5597 - val_loss: 0.7197 - val_accuracy: 0.6200\n",
            "Epoch 2/40\n",
            "21/21 [==============================] - 6s 213ms/step - loss: 0.7785 - accuracy: 0.6119 - val_loss: 0.6582 - val_accuracy: 0.5900\n",
            "Epoch 3/40\n",
            "21/21 [==============================] - 6s 221ms/step - loss: 0.7047 - accuracy: 0.6358 - val_loss: 0.6333 - val_accuracy: 0.6100\n",
            "Epoch 4/40\n",
            "21/21 [==============================] - 6s 219ms/step - loss: 0.6591 - accuracy: 0.6507 - val_loss: 0.6206 - val_accuracy: 0.6600\n",
            "Epoch 5/40\n",
            "21/21 [==============================] - 6s 219ms/step - loss: 0.6344 - accuracy: 0.6642 - val_loss: 0.6093 - val_accuracy: 0.6500\n",
            "Epoch 6/40\n",
            "21/21 [==============================] - 6s 219ms/step - loss: 0.6061 - accuracy: 0.6821 - val_loss: 0.5916 - val_accuracy: 0.6000\n",
            "Epoch 7/40\n",
            "21/21 [==============================] - 6s 219ms/step - loss: 0.5919 - accuracy: 0.6821 - val_loss: 0.6179 - val_accuracy: 0.6600\n",
            "Epoch 8/40\n",
            "21/21 [==============================] - 6s 219ms/step - loss: 0.5727 - accuracy: 0.6881 - val_loss: 0.5955 - val_accuracy: 0.6500\n",
            "Epoch 9/40\n",
            "21/21 [==============================] - 6s 214ms/step - loss: 0.5664 - accuracy: 0.6985 - val_loss: 0.5811 - val_accuracy: 0.6300\n",
            "Epoch 10/40\n",
            "21/21 [==============================] - 6s 219ms/step - loss: 0.5525 - accuracy: 0.7194 - val_loss: 0.6337 - val_accuracy: 0.6400\n",
            "Epoch 11/40\n",
            "21/21 [==============================] - 6s 213ms/step - loss: 0.5339 - accuracy: 0.7269 - val_loss: 0.6418 - val_accuracy: 0.6500\n",
            "Epoch 12/40\n",
            "21/21 [==============================] - 6s 215ms/step - loss: 0.5241 - accuracy: 0.7239 - val_loss: 0.6428 - val_accuracy: 0.6300\n",
            "Epoch 13/40\n",
            "21/21 [==============================] - 6s 210ms/step - loss: 0.5166 - accuracy: 0.7299 - val_loss: 0.6222 - val_accuracy: 0.6400\n",
            "Epoch 14/40\n",
            "21/21 [==============================] - 6s 213ms/step - loss: 0.5058 - accuracy: 0.7567 - val_loss: 0.6248 - val_accuracy: 0.6500\n",
            "Epoch 15/40\n",
            "21/21 [==============================] - 6s 220ms/step - loss: 0.4937 - accuracy: 0.7612 - val_loss: 0.6170 - val_accuracy: 0.6200\n",
            "Epoch 16/40\n",
            "21/21 [==============================] - 6s 214ms/step - loss: 0.4901 - accuracy: 0.7672 - val_loss: 0.6319 - val_accuracy: 0.6200\n",
            "Epoch 17/40\n",
            "21/21 [==============================] - 6s 214ms/step - loss: 0.4813 - accuracy: 0.7627 - val_loss: 0.6102 - val_accuracy: 0.6600\n",
            "Epoch 18/40\n",
            "21/21 [==============================] - 6s 214ms/step - loss: 0.4800 - accuracy: 0.7746 - val_loss: 0.6070 - val_accuracy: 0.6600\n",
            "Epoch 19/40\n",
            "21/21 [==============================] - 6s 216ms/step - loss: 0.4798 - accuracy: 0.7687 - val_loss: 0.6167 - val_accuracy: 0.6600\n",
            "Epoch 20/40\n",
            "21/21 [==============================] - 6s 215ms/step - loss: 0.4728 - accuracy: 0.7791 - val_loss: 0.6274 - val_accuracy: 0.6600\n",
            "Epoch 21/40\n",
            "21/21 [==============================] - 6s 218ms/step - loss: 0.4663 - accuracy: 0.7746 - val_loss: 0.6400 - val_accuracy: 0.6500\n",
            "Epoch 22/40\n",
            "21/21 [==============================] - 6s 213ms/step - loss: 0.4584 - accuracy: 0.7821 - val_loss: 0.6448 - val_accuracy: 0.6600\n",
            "Epoch 23/40\n",
            "21/21 [==============================] - 6s 222ms/step - loss: 0.4430 - accuracy: 0.7881 - val_loss: 0.6191 - val_accuracy: 0.6400\n",
            "Epoch 24/40\n",
            "21/21 [==============================] - 6s 215ms/step - loss: 0.4634 - accuracy: 0.7612 - val_loss: 0.6442 - val_accuracy: 0.6700\n",
            "Epoch 25/40\n",
            "21/21 [==============================] - 6s 222ms/step - loss: 0.4415 - accuracy: 0.7970 - val_loss: 0.6233 - val_accuracy: 0.6500\n",
            "Epoch 26/40\n",
            "21/21 [==============================] - 6s 214ms/step - loss: 0.4417 - accuracy: 0.7821 - val_loss: 0.6523 - val_accuracy: 0.6500\n",
            "Epoch 27/40\n",
            "21/21 [==============================] - 6s 215ms/step - loss: 0.4328 - accuracy: 0.8015 - val_loss: 0.6477 - val_accuracy: 0.6600\n",
            "Epoch 28/40\n",
            "21/21 [==============================] - 6s 214ms/step - loss: 0.4270 - accuracy: 0.8134 - val_loss: 0.6747 - val_accuracy: 0.6300\n",
            "Epoch 29/40\n",
            "21/21 [==============================] - 6s 217ms/step - loss: 0.4246 - accuracy: 0.8060 - val_loss: 0.6510 - val_accuracy: 0.6600\n",
            "Epoch 30/40\n",
            "21/21 [==============================] - 6s 212ms/step - loss: 0.4215 - accuracy: 0.8075 - val_loss: 0.6672 - val_accuracy: 0.6500\n",
            "Epoch 31/40\n",
            "21/21 [==============================] - 6s 217ms/step - loss: 0.4166 - accuracy: 0.8224 - val_loss: 0.6496 - val_accuracy: 0.6600\n",
            "Epoch 32/40\n",
            "21/21 [==============================] - 6s 215ms/step - loss: 0.4341 - accuracy: 0.7940 - val_loss: 0.6474 - val_accuracy: 0.6400\n",
            "Epoch 33/40\n",
            "21/21 [==============================] - 6s 214ms/step - loss: 0.4203 - accuracy: 0.7925 - val_loss: 0.6887 - val_accuracy: 0.6400\n",
            "Epoch 34/40\n",
            "21/21 [==============================] - 6s 215ms/step - loss: 0.4050 - accuracy: 0.8209 - val_loss: 0.7157 - val_accuracy: 0.6200\n",
            "Epoch 35/40\n",
            "21/21 [==============================] - 6s 215ms/step - loss: 0.4021 - accuracy: 0.8224 - val_loss: 0.6892 - val_accuracy: 0.6600\n",
            "Epoch 36/40\n",
            "21/21 [==============================] - 6s 221ms/step - loss: 0.3967 - accuracy: 0.8269 - val_loss: 0.7147 - val_accuracy: 0.6200\n",
            "Epoch 37/40\n",
            "21/21 [==============================] - 6s 213ms/step - loss: 0.3932 - accuracy: 0.8328 - val_loss: 0.7113 - val_accuracy: 0.6200\n",
            "Epoch 38/40\n",
            "21/21 [==============================] - 6s 218ms/step - loss: 0.3918 - accuracy: 0.8224 - val_loss: 0.7289 - val_accuracy: 0.6200\n",
            "Epoch 39/40\n",
            "21/21 [==============================] - 6s 213ms/step - loss: 0.3880 - accuracy: 0.8463 - val_loss: 0.7547 - val_accuracy: 0.6500\n",
            "Epoch 40/40\n",
            "21/21 [==============================] - 6s 215ms/step - loss: 0.3927 - accuracy: 0.8164 - val_loss: 0.7235 - val_accuracy: 0.6300\n"
          ]
        }
      ]
    },
    {
      "cell_type": "code",
      "source": [
        "import matplotlib.pyplot as plt\n",
        "\n",
        "def plot_loss_curves(history):\n",
        "  \"\"\"\n",
        "  Returns separate loss curves for training and validation metrics.\n",
        "  Args:\n",
        "    history: TensorFlow History object.\n",
        "\n",
        "    Returns:\n",
        "    Plots of training/validation loss and accuracy metrics.\n",
        "  \"\"\"\n",
        "  loss = history.history['loss']\n",
        "  val_loss = history.history['val_loss']\n",
        "\n",
        "  accuracy = history.history['accuracy']\n",
        "  val_accuracy = history.history['val_accuracy']\n",
        "\n",
        "  epochs = range(len(history.history['loss']))\n",
        "\n",
        "  #Plot loss\n",
        "\n",
        "  plt.plot(epochs, loss, label='training_loss')\n",
        "  plt.plot(epochs, val_loss, label='val_loss')\n",
        "  plt.title('Loss')\n",
        "  plt.xlabel('Epochs')\n",
        "  plt.legend()\n",
        "\n",
        "  #Plot accuracy\n",
        "  plt.figure()\n",
        "  plt.plot(epochs, accuracy, label='training_accuracy')\n",
        "  plt.plot(epochs, val_accuracy, label='val_accuracy')\n",
        "  plt.title('Accuracy')\n",
        "  plt.xlabel('Epochs')\n",
        "  plt.legend();\n",
        "\n",
        "plot_loss_curves(history_0)\n",
        ""
      ],
      "metadata": {
        "colab": {
          "base_uri": "https://localhost:8080/",
          "height": 927
        },
        "id": "CiLh22PHZ6yV",
        "outputId": "12ab11de-d2e0-4dad-f8d0-22a166fe1460"
      },
      "execution_count": 38,
      "outputs": [
        {
          "output_type": "display_data",
          "data": {
            "text/plain": [
              "<Figure size 640x480 with 1 Axes>"
            ],
            "image/png": "[encoded data removed]"
          },
          "metadata": {}
        },
        {
          "output_type": "display_data",
          "data": {
            "text/plain": [
              "<Figure size 640x480 with 1 Axes>"
            ],
            "image/png": "[encoded data removed]"
          },
          "metadata": {}
        }
      ]
    },
    {
      "cell_type": "code",
      "source": [
        "\n",
        "results_feature_extraction = model_0.evaluate(test_data)\n",
        "results_feature_extraction"
      ],
      "metadata": {
        "colab": {
          "base_uri": "https://localhost:8080/"
        },
        "id": "mO6SYZ8cZ80a",
        "outputId": "e248fd3a-37a1-4d16-f8c5-8670b5982262"
      },
      "execution_count": 39,
      "outputs": [
        {
          "output_type": "stream",
          "name": "stdout",
          "text": [
            "4/4 [==============================] - 1s 116ms/step - loss: 0.7235 - accuracy: 0.6300\n"
          ]
        },
        {
          "output_type": "execute_result",
          "data": {
            "text/plain": [
              "[0.723514199256897, 0.6299999952316284]"
            ]
          },
          "metadata": {},
          "execution_count": 39
        }
      ]
    },
    {
      "cell_type": "code",
      "source": [
        "# Get the predicted probabilities for the test set\n",
        "y_pred_probs = model_0.predict(test_data)\n",
        "\n",
        "# Convert probabilities to binary predictions (0 or 1)\n",
        "y_pred = (y_pred_probs > 0.5).astype(int)\n",
        "\n",
        "# Get the true labels for the test set\n",
        "y_true = np.concatenate([y for x, y in test_data], axis=0)\n",
        "\n",
        "# Calculate precision\n",
        "from sklearn.metrics import precision_score\n",
        "precision = precision_score(y_true, y_pred)\n",
        "print(\"Precision:\", precision)"
      ],
      "metadata": {
        "colab": {
          "base_uri": "https://localhost:8080/"
        },
        "id": "cgS46QYoZ-Q-",
        "outputId": "83eb80e9-68c4-431e-ddfa-c76353d11375"
      },
      "execution_count": 40,
      "outputs": [
        {
          "output_type": "stream",
          "name": "stdout",
          "text": [
            "4/4 [==============================] - 1s 149ms/step\n",
            "Precision: 0.5633802816901409\n"
          ]
        }
      ]
    },
    {
      "cell_type": "code",
      "source": [
        "from sklearn.metrics import recall_score\n",
        "\n",
        "# Calculate recall\n",
        "recall = recall_score(y_true, y_pred)\n",
        "print(\"Recall:\", recall)"
      ],
      "metadata": {
        "colab": {
          "base_uri": "https://localhost:8080/"
        },
        "id": "eHBu7bz0aADC",
        "outputId": "96f58104-5200-4d8c-ac38-33d900e2117a"
      },
      "execution_count": 41,
      "outputs": [
        {
          "output_type": "stream",
          "name": "stdout",
          "text": [
            "Recall: 0.8\n"
          ]
        }
      ]
    },
    {
      "cell_type": "code",
      "source": [
        "from sklearn.metrics import f1_score\n",
        "# Calculate F1-score\n",
        "f1 = f1_score(y_true, y_pred)\n",
        "print(\"F1-score:\", f1)\n",
        ""
      ],
      "metadata": {
        "colab": {
          "base_uri": "https://localhost:8080/"
        },
        "id": "ECJSkSRVaBSe",
        "outputId": "6e6018ca-904f-407e-c434-7c632a63fdae"
      },
      "execution_count": 42,
      "outputs": [
        {
          "output_type": "stream",
          "name": "stdout",
          "text": [
            "F1-score: 0.6611570247933886\n"
          ]
        }
      ]
    },
    {
      "cell_type": "code",
      "source": [
        "\n",
        "# Eğitim doğruluğunu elde etmek için history_0 nesnesini kullanın\n",
        "train_accuracy = history_0.history['accuracy']\n",
        "\n",
        "# Son epoch'un eğitim doğruluğunu yazdırın\n",
        "print(\"Eğitim doğruluğu:\", train_accuracy[-1])\n",
        ""
      ],
      "metadata": {
        "colab": {
          "base_uri": "https://localhost:8080/"
        },
        "id": "VlHbt-AMaCX6",
        "outputId": "60f26c3a-572b-48de-e8f2-e7dc2b006457"
      },
      "execution_count": 43,
      "outputs": [
        {
          "output_type": "stream",
          "name": "stdout",
          "text": [
            "Eğitim doğruluğu: 0.816417932510376\n"
          ]
        }
      ]
    },
    {
      "cell_type": "code",
      "source": [],
      "metadata": {
        "id": "t3vcbM96aECn"
      },
      "execution_count": 36,
      "outputs": []
    },
    {
      "cell_type": "code",
      "source": [],
      "metadata": {
        "id": "QT_vFS9bdIck"
      },
      "execution_count": null,
      "outputs": []
    }
  ]
}