{
  "nbformat": 4,
  "nbformat_minor": 0,
  "metadata": {
    "colab": {
      "provenance": [],
      "machine_shape": "hm",
      "gpuType": "T4"
    },
    "kernelspec": {
      "name": "python3",
      "display_name": "Python 3"
    },
    "language_info": {
      "name": "python"
    },
    "accelerator": "GPU"
  },
  "cells": [
    {
      "cell_type": "code",
      "execution_count": 1,
      "metadata": {
        "colab": {
          "base_uri": "https://localhost:8080/"
        },
        "id": "vi6bPyJwl3AE",
        "outputId": "9091f9ef-6841-4a7f-d470-41425e872140"
      },
      "outputs": [
        {
          "output_type": "stream",
          "name": "stdout",
          "text": [
            "--2024-07-25 06:41:36--  https://raw.githubusercontent.com/mrdbourke/tensorflow-deep-learning/main/extras/helper_functions.py\n",
            "Resolving raw.githubusercontent.com (raw.githubusercontent.com)... 185.199.108.133, 185.199.109.133, 185.199.110.133, ...\n",
            "Connecting to raw.githubusercontent.com (raw.githubusercontent.com)|185.199.108.133|:443... connected.\n",
            "HTTP request sent, awaiting response... 200 OK\n",
            "Length: 10246 (10K) [text/plain]\n",
            "Saving to: ‘helper_functions.py’\n",
            "\n",
            "\rhelper_functions.py   0%[                    ]       0  --.-KB/s               \rhelper_functions.py 100%[===================>]  10.01K  --.-KB/s    in 0s      \n",
            "\n",
            "2024-07-25 06:41:36 (109 MB/s) - ‘helper_functions.py’ saved [10246/10246]\n",
            "\n"
          ]
        }
      ],
      "source": [
        "!wget https://raw.githubusercontent.com/mrdbourke/tensorflow-deep-learning/main/extras/helper_functions.py"
      ]
    },
    {
      "cell_type": "code",
      "source": [
        "from helper_functions import create_tensorboard_callback, plot_loss_curves, unzip_data, walk_through_dir"
      ],
      "metadata": {
        "id": "f9Zfr5gtn6iJ"
      },
      "execution_count": 2,
      "outputs": []
    },
    {
      "cell_type": "code",
      "source": [
        "import os\n",
        "\n",
        "for dirpath, dirnames, filenames in os.walk(\"/content/drive/MyDrive/Tez Dosyaları/ikinci veriseti 3 class\"):\n",
        "  print(f\"There are {len(dirnames)} directories and {len(filenames)} images in '{dirpath}'.\")\n"
      ],
      "metadata": {
        "colab": {
          "base_uri": "https://localhost:8080/"
        },
        "id": "67wKElDWoBxH",
        "outputId": "122ec1ee-f095-40a9-9d4c-e64d2fcf3302"
      },
      "execution_count": 3,
      "outputs": [
        {
          "output_type": "stream",
          "name": "stdout",
          "text": [
            "There are 2 directories and 0 images in '/content/drive/MyDrive/Tez Dosyaları/ikinci veriseti 3 class'.\n",
            "There are 3 directories and 0 images in '/content/drive/MyDrive/Tez Dosyaları/ikinci veriseti 3 class/Train'.\n",
            "There are 0 directories and 70 images in '/content/drive/MyDrive/Tez Dosyaları/ikinci veriseti 3 class/Train/Benign'.\n",
            "There are 0 directories and 617 images in '/content/drive/MyDrive/Tez Dosyaları/ikinci veriseti 3 class/Train/Normal'.\n",
            "There are 0 directories and 223 images in '/content/drive/MyDrive/Tez Dosyaları/ikinci veriseti 3 class/Train/Malignant'.\n",
            "There are 3 directories and 0 images in '/content/drive/MyDrive/Tez Dosyaları/ikinci veriseti 3 class/Test'.\n",
            "There are 0 directories and 155 images in '/content/drive/MyDrive/Tez Dosyaları/ikinci veriseti 3 class/Test/Normal'.\n",
            "There are 0 directories and 18 images in '/content/drive/MyDrive/Tez Dosyaları/ikinci veriseti 3 class/Test/Benign'.\n",
            "There are 0 directories and 55 images in '/content/drive/MyDrive/Tez Dosyaları/ikinci veriseti 3 class/Test/Malignant'.\n"
          ]
        }
      ]
    },
    {
      "cell_type": "code",
      "source": [
        "train_dir = \"/content/drive/MyDrive/Tez Dosyaları/ikinci veriseti 3 class/Train\"\n",
        "test_dir = \"/content/drive/MyDrive/Tez Dosyaları/ikinci veriseti 3 class/Test\""
      ],
      "metadata": {
        "id": "zPRT65AZoRb-"
      },
      "execution_count": 4,
      "outputs": []
    },
    {
      "cell_type": "code",
      "source": [
        "import tensorflow as tf\n",
        "BATCH_SIZE = 32\n",
        "IMG_SIZE = (224, 224)\n",
        "train_data= tf.keras.preprocessing.image_dataset_from_directory(train_dir,\n",
        "                                                          label_mode= \"categorical\",\n",
        "                                                          batch_size=BATCH_SIZE,\n",
        "                                                          image_size=IMG_SIZE)\n",
        "\n",
        "test_data = tf.keras.preprocessing.image_dataset_from_directory(test_dir,\n",
        "                                                          label_mode=\"categorical\",\n",
        "                                                          batch_size=BATCH_SIZE,\n",
        "                                                          image_size=IMG_SIZE)"
      ],
      "metadata": {
        "colab": {
          "base_uri": "https://localhost:8080/"
        },
        "id": "SKx143mioZT-",
        "outputId": "d153417a-8a0f-485d-ddb0-84e49c0b36d9"
      },
      "execution_count": 5,
      "outputs": [
        {
          "output_type": "stream",
          "name": "stdout",
          "text": [
            "Found 910 files belonging to 3 classes.\n",
            "Found 228 files belonging to 3 classes.\n"
          ]
        }
      ]
    },
    {
      "cell_type": "code",
      "source": [
        "train_data.class_names"
      ],
      "metadata": {
        "colab": {
          "base_uri": "https://localhost:8080/"
        },
        "id": "F_dcXMVFoboa",
        "outputId": "e76445d8-c6a2-499f-ba35-43759cf1bdcd"
      },
      "execution_count": 6,
      "outputs": [
        {
          "output_type": "execute_result",
          "data": {
            "text/plain": [
              "['Benign', 'Malignant', 'Normal']"
            ]
          },
          "metadata": {},
          "execution_count": 6
        }
      ]
    },
    {
      "cell_type": "code",
      "source": [
        "from tensorflow.keras.preprocessing.image import ImageDataGenerator\n",
        "from tensorflow.keras.preprocessing.image import img_to_array\n",
        "from tensorflow.keras.preprocessing.image import load_img\n",
        "import numpy as np\n",
        "import random\n",
        "import math\n",
        "import csv\n",
        "import cv2\n",
        "import os"
      ],
      "metadata": {
        "id": "d7dSIeOcodac"
      },
      "execution_count": 7,
      "outputs": []
    },
    {
      "cell_type": "code",
      "source": [
        "image_width = 224\n",
        "image_height = 224\n",
        "classes = ['Benign', 'Malignant', 'Normal']\n",
        "datagen = ImageDataGenerator(\n",
        "    rescale=1.0/255,\n",
        "    rotation_range=40,\n",
        "    width_shift_range=0.2,\n",
        "    height_shift_range=0.2,\n",
        "    shear_range=0.2,\n",
        "    zoom_range=0.2,\n",
        "    horizontal_flip=True,\n",
        "    fill_mode='nearest'\n",
        ")\n",
        "\n",
        "# Resimleri yüklemek için flow_from_directory kullanın\n",
        "train_generator = datagen.flow_from_directory(\n",
        "    directory=\"/content/drive/MyDrive/Tez Dosyaları/ikinci veriseti 3 class/Train\",\n",
        "    target_size=(image_width, image_height),\n",
        "    batch_size=32,\n",
        "    class_mode='categorical',\n",
        "    subset='training'\n",
        ")\n",
        "\n",
        "# Her sınıf için resimleri ayrı ayrı arttırın\n",
        "for cls in classes:\n",
        "    # Sınıfın resimlerini yüklemek için flow_from_directory kullanın\n",
        "    cls_generator = datagen.flow_from_directory(\n",
        "        directory=\"/content/drive/MyDrive/Tez Dosyaları/ikinci veriseti 3 class/Train\",\n",
        "        target_size=(image_width, image_height),\n",
        "        batch_size=32,\n",
        "        class_mode='categorical',\n",
        "        subset='training',\n",
        "        classes=[cls]\n",
        "    )\n",
        "\n",
        "    # Resimleri arttırın ve kaydedin\n",
        "    i = 0\n",
        "    for batch in cls_generator:\n",
        "        images, labels = batch\n",
        "        for image in images:\n",
        "            # Resmi kaydetmek için imwrite kullanın\n",
        "            cv2.imwrite(os.path.join(\"/content/drive/MyDrive/Tez Dosyaları/ikinci veriseti 3 class/Train\", cls, f\"augmented_{i}.jpg\"), image * 255)\n",
        "            i += 1\n",
        "            if i >= 3000:  # Maksimum resim sayısına ulaşıldığında döngüyü durdur\n",
        "                break\n",
        "        else:\n",
        "            continue\n",
        "        break\n",
        ""
      ],
      "metadata": {
        "colab": {
          "base_uri": "https://localhost:8080/"
        },
        "id": "WXSokJcVohei",
        "outputId": "4d4b9402-9d4e-4a45-e21b-b33f1e2e2cc6"
      },
      "execution_count": 9,
      "outputs": [
        {
          "output_type": "stream",
          "name": "stdout",
          "text": [
            "Found 910 images belonging to 3 classes.\n",
            "Found 70 images belonging to 1 classes.\n",
            "Found 223 images belonging to 1 classes.\n",
            "Found 617 images belonging to 1 classes.\n"
          ]
        }
      ]
    },
    {
      "cell_type": "code",
      "source": [
        "augmented_images3 = os.listdir(\"/content/drive/MyDrive/Tez Dosyaları/ikinci veriseti 3 class/Train/Benign\")\n",
        "\n",
        "# Count the number of augmented images\n",
        "num_benign_images = len(augmented_images3)\n",
        "\n",
        "# Print the number of malignant images\n",
        "print(\"Number of benign images:\", num_benign_images)"
      ],
      "metadata": {
        "colab": {
          "base_uri": "https://localhost:8080/"
        },
        "id": "7qqPMd-4qlKt",
        "outputId": "08bac561-f924-4b46-d177-adb9f530fa83"
      },
      "execution_count": 12,
      "outputs": [
        {
          "output_type": "stream",
          "name": "stdout",
          "text": [
            "Number of benign images: 3070\n"
          ]
        }
      ]
    },
    {
      "cell_type": "code",
      "source": [
        "augmented_images2 = os.listdir(\"/content/drive/MyDrive/Tez Dosyaları/ikinci veriseti 3 class/Train/Normal\")\n",
        "\n",
        "# Count the number of augmented images\n",
        "num_normal_images = len(augmented_images2)\n",
        "\n",
        "# Print the number of malignant images\n",
        "print(\"Number of normal images:\", num_normal_images)"
      ],
      "metadata": {
        "colab": {
          "base_uri": "https://localhost:8080/"
        },
        "id": "bS7o-CVIrGTM",
        "outputId": "ae7cc452-07d1-4773-e912-ce4335c23b25"
      },
      "execution_count": 13,
      "outputs": [
        {
          "output_type": "stream",
          "name": "stdout",
          "text": [
            "Number of normal images: 3617\n"
          ]
        }
      ]
    },
    {
      "cell_type": "code",
      "source": [
        "# Load the augmented images for the malignant class\n",
        "augmented_images = os.listdir(\"/content/drive/MyDrive/Tez Dosyaları/ikinci veriseti 3 class/Train/Malignant\")\n",
        "\n",
        "# Count the number of augmented images\n",
        "num_malignant_images = len(augmented_images)\n",
        "\n",
        "# Print the number of malignant images\n",
        "print(\"Number of malignant images:\", num_malignant_images)"
      ],
      "metadata": {
        "colab": {
          "base_uri": "https://localhost:8080/"
        },
        "id": "SyLISaMbrNP4",
        "outputId": "147ea0cf-27b7-4461-f010-aeb21e941e6f"
      },
      "execution_count": 14,
      "outputs": [
        {
          "output_type": "stream",
          "name": "stdout",
          "text": [
            "Number of malignant images: 3223\n"
          ]
        }
      ]
    },
    {
      "cell_type": "code",
      "source": [
        "for dirpath, dirnames, filenames in os.walk(\"/content/drive/MyDrive/Tez Dosyaları/ikinci veriseti 3 class\"):\n",
        "  print(f\"There are {len(dirnames)} directories and {len(filenames)} images in '{dirpath}'.\")"
      ],
      "metadata": {
        "colab": {
          "base_uri": "https://localhost:8080/"
        },
        "id": "cPtqltFPrVr-",
        "outputId": "250c53c8-9d0f-44ba-a563-a671504996bf"
      },
      "execution_count": 15,
      "outputs": [
        {
          "output_type": "stream",
          "name": "stdout",
          "text": [
            "There are 2 directories and 0 images in '/content/drive/MyDrive/Tez Dosyaları/ikinci veriseti 3 class'.\n",
            "There are 3 directories and 0 images in '/content/drive/MyDrive/Tez Dosyaları/ikinci veriseti 3 class/Train'.\n",
            "There are 0 directories and 3070 images in '/content/drive/MyDrive/Tez Dosyaları/ikinci veriseti 3 class/Train/Benign'.\n",
            "There are 0 directories and 3617 images in '/content/drive/MyDrive/Tez Dosyaları/ikinci veriseti 3 class/Train/Normal'.\n",
            "There are 0 directories and 3223 images in '/content/drive/MyDrive/Tez Dosyaları/ikinci veriseti 3 class/Train/Malignant'.\n",
            "There are 3 directories and 0 images in '/content/drive/MyDrive/Tez Dosyaları/ikinci veriseti 3 class/Test'.\n",
            "There are 0 directories and 155 images in '/content/drive/MyDrive/Tez Dosyaları/ikinci veriseti 3 class/Test/Normal'.\n",
            "There are 0 directories and 18 images in '/content/drive/MyDrive/Tez Dosyaları/ikinci veriseti 3 class/Test/Benign'.\n",
            "There are 0 directories and 55 images in '/content/drive/MyDrive/Tez Dosyaları/ikinci veriseti 3 class/Test/Malignant'.\n"
          ]
        }
      ]
    },
    {
      "cell_type": "code",
      "source": [
        "import tensorflow as tf\n",
        "\n",
        "# 1. create base model with tf.keras.applications\n",
        "base_model = tf.keras.applications.VGG19(include_top=False)\n",
        "\n",
        "# 2. Freeze the base model\n",
        "base_model.trainable = False\n",
        "\n",
        "# 3. create inputs into our model\n",
        "inputs = tf.keras.layers.Input(shape=(224, 224, 3), name=\"input_layer\")\n",
        "\n",
        "# 4. if using ResNet50V2 you will need to normalize inputs\n",
        "# x = tf.keras.layers.experimental.preprocessing.Rescaling(1./255)(inputs)\n",
        "\n",
        "# 5. pass the inputs to the base_model\n",
        "x = base_model(inputs)\n",
        "print(f\"Shape after passing inputs through base model: {x.shape}\")\n",
        "\n",
        "# 6. average pool the outputs of the base model (aggregate all the most important information, reduce number of computations)\n",
        "x = tf.keras.layers.GlobalAveragePooling2D(name=\"global_average_pooling_layer\")(x)\n",
        "print(f\"Shape after GlobalAveragePooling2D: {x.shape}\")\n",
        "\n",
        "# 7. create the output activation layer for 3 classes\n",
        "outputs = tf.keras.layers.Dense(3, activation=\"softmax\", name=\"output_layer\")(x)\n",
        "model_0 = tf.keras.Model(inputs, outputs)\n",
        "\n",
        "# 8. compile the model for 3 classes\n",
        "model_0.compile(loss=\"categorical_crossentropy\",\n",
        "                optimizer=tf.keras.optimizers.Adam(),\n",
        "                metrics=[\"accuracy\"])\n",
        "\n",
        "# Assuming you have already prepared your train_data and test_data\n",
        "# Make sure that train_data and test_data are prepared with class_mode='categorical'\n",
        "\n",
        "# 9. fit the model\n",
        "history_0 = model_0.fit(train_data,\n",
        "                        epochs=40,\n",
        "                        steps_per_epoch=len(train_data),\n",
        "                        validation_data=test_data,\n",
        "                        validation_steps=int(len(test_data)),\n",
        "                        callbacks=[create_tensorboard_callback(dir_name=\"transfer_learning\",\n",
        "                                                               experiment_name=\"3_class_feature_extraction\")])\n"
      ],
      "metadata": {
        "colab": {
          "base_uri": "https://localhost:8080/"
        },
        "id": "VexH60OPraw_",
        "outputId": "e2e7633e-a3bd-47a3-ce7a-664a74033e3a"
      },
      "execution_count": 38,
      "outputs": [
        {
          "output_type": "stream",
          "name": "stdout",
          "text": [
            "Downloading data from https://storage.googleapis.com/tensorflow/keras-applications/vgg19/vgg19_weights_tf_dim_ordering_tf_kernels_notop.h5\n",
            "80134624/80134624 [==============================] - 0s 0us/step\n",
            "Shape after passing inputs through base model: (None, 7, 7, 512)\n",
            "Shape after GlobalAveragePooling2D: (None, 512)\n",
            "Saving TensorBoard log files to: transfer_learning/3_class_feature_extraction/20240725-080730\n",
            "Epoch 1/40\n",
            "29/29 [==============================] - 11s 279ms/step - loss: 1.3680 - accuracy: 0.5736 - val_loss: 1.1300 - val_accuracy: 0.6623\n",
            "Epoch 2/40\n",
            "29/29 [==============================] - 10s 272ms/step - loss: 1.0510 - accuracy: 0.6275 - val_loss: 1.0116 - val_accuracy: 0.6798\n",
            "Epoch 3/40\n",
            "29/29 [==============================] - 10s 277ms/step - loss: 0.9238 - accuracy: 0.6582 - val_loss: 0.9401 - val_accuracy: 0.6184\n",
            "Epoch 4/40\n",
            "29/29 [==============================] - 10s 279ms/step - loss: 0.8550 - accuracy: 0.6648 - val_loss: 0.9069 - val_accuracy: 0.6447\n",
            "Epoch 5/40\n",
            "29/29 [==============================] - 10s 277ms/step - loss: 0.7955 - accuracy: 0.6879 - val_loss: 0.8940 - val_accuracy: 0.6930\n",
            "Epoch 6/40\n",
            "29/29 [==============================] - 10s 283ms/step - loss: 0.7624 - accuracy: 0.6923 - val_loss: 0.8869 - val_accuracy: 0.6886\n",
            "Epoch 7/40\n",
            "29/29 [==============================] - 10s 273ms/step - loss: 0.7372 - accuracy: 0.6989 - val_loss: 0.9889 - val_accuracy: 0.5746\n",
            "Epoch 8/40\n",
            "29/29 [==============================] - 10s 282ms/step - loss: 0.6872 - accuracy: 0.7187 - val_loss: 0.9072 - val_accuracy: 0.6053\n",
            "Epoch 9/40\n",
            "29/29 [==============================] - 10s 278ms/step - loss: 0.6793 - accuracy: 0.7154 - val_loss: 0.8694 - val_accuracy: 0.7018\n",
            "Epoch 10/40\n",
            "29/29 [==============================] - 10s 279ms/step - loss: 0.6274 - accuracy: 0.7495 - val_loss: 0.9119 - val_accuracy: 0.6228\n",
            "Epoch 11/40\n",
            "29/29 [==============================] - 10s 276ms/step - loss: 0.6178 - accuracy: 0.7407 - val_loss: 0.9292 - val_accuracy: 0.5877\n",
            "Epoch 12/40\n",
            "29/29 [==============================] - 10s 276ms/step - loss: 0.6239 - accuracy: 0.7385 - val_loss: 0.9001 - val_accuracy: 0.6316\n",
            "Epoch 13/40\n",
            "29/29 [==============================] - 10s 297ms/step - loss: 0.5910 - accuracy: 0.7516 - val_loss: 0.9222 - val_accuracy: 0.6228\n",
            "Epoch 14/40\n",
            "29/29 [==============================] - 10s 287ms/step - loss: 0.5739 - accuracy: 0.7582 - val_loss: 0.8927 - val_accuracy: 0.6711\n",
            "Epoch 15/40\n",
            "29/29 [==============================] - 10s 282ms/step - loss: 0.5639 - accuracy: 0.7670 - val_loss: 1.0137 - val_accuracy: 0.5965\n",
            "Epoch 16/40\n",
            "29/29 [==============================] - 10s 280ms/step - loss: 0.5463 - accuracy: 0.7780 - val_loss: 0.9148 - val_accuracy: 0.6404\n",
            "Epoch 17/40\n",
            "29/29 [==============================] - 10s 277ms/step - loss: 0.5291 - accuracy: 0.7758 - val_loss: 0.8970 - val_accuracy: 0.6711\n",
            "Epoch 18/40\n",
            "29/29 [==============================] - 10s 271ms/step - loss: 0.5281 - accuracy: 0.7747 - val_loss: 0.8969 - val_accuracy: 0.6579\n",
            "Epoch 19/40\n",
            "29/29 [==============================] - 10s 274ms/step - loss: 0.5198 - accuracy: 0.7725 - val_loss: 0.9353 - val_accuracy: 0.6184\n",
            "Epoch 20/40\n",
            "29/29 [==============================] - 10s 276ms/step - loss: 0.5088 - accuracy: 0.7846 - val_loss: 0.9131 - val_accuracy: 0.6579\n",
            "Epoch 21/40\n",
            "29/29 [==============================] - 10s 279ms/step - loss: 0.5055 - accuracy: 0.8000 - val_loss: 0.8893 - val_accuracy: 0.6754\n",
            "Epoch 22/40\n",
            "29/29 [==============================] - 10s 290ms/step - loss: 0.5092 - accuracy: 0.7923 - val_loss: 0.9057 - val_accuracy: 0.6886\n",
            "Epoch 23/40\n",
            "29/29 [==============================] - 10s 284ms/step - loss: 0.5025 - accuracy: 0.7901 - val_loss: 1.0358 - val_accuracy: 0.6228\n",
            "Epoch 24/40\n",
            "29/29 [==============================] - 10s 278ms/step - loss: 0.4810 - accuracy: 0.7934 - val_loss: 0.9537 - val_accuracy: 0.6360\n",
            "Epoch 25/40\n",
            "29/29 [==============================] - 10s 282ms/step - loss: 0.4631 - accuracy: 0.8088 - val_loss: 0.9322 - val_accuracy: 0.6447\n",
            "Epoch 26/40\n",
            "29/29 [==============================] - 10s 290ms/step - loss: 0.4710 - accuracy: 0.8011 - val_loss: 0.9647 - val_accuracy: 0.6316\n",
            "Epoch 27/40\n",
            "29/29 [==============================] - 10s 285ms/step - loss: 0.4587 - accuracy: 0.8220 - val_loss: 0.9117 - val_accuracy: 0.6667\n",
            "Epoch 28/40\n",
            "29/29 [==============================] - 9s 270ms/step - loss: 0.4513 - accuracy: 0.8044 - val_loss: 1.0020 - val_accuracy: 0.6228\n",
            "Epoch 29/40\n",
            "29/29 [==============================] - 10s 283ms/step - loss: 0.4426 - accuracy: 0.8253 - val_loss: 0.9163 - val_accuracy: 0.6711\n",
            "Epoch 30/40\n",
            "29/29 [==============================] - 10s 286ms/step - loss: 0.4367 - accuracy: 0.8220 - val_loss: 0.9201 - val_accuracy: 0.6491\n",
            "Epoch 31/40\n",
            "29/29 [==============================] - 10s 291ms/step - loss: 0.4278 - accuracy: 0.8319 - val_loss: 0.9476 - val_accuracy: 0.6447\n",
            "Epoch 32/40\n",
            "29/29 [==============================] - 10s 281ms/step - loss: 0.4199 - accuracy: 0.8396 - val_loss: 0.9558 - val_accuracy: 0.6447\n",
            "Epoch 33/40\n",
            "29/29 [==============================] - 10s 274ms/step - loss: 0.4207 - accuracy: 0.8319 - val_loss: 0.9288 - val_accuracy: 0.6447\n",
            "Epoch 34/40\n",
            "29/29 [==============================] - 10s 284ms/step - loss: 0.4098 - accuracy: 0.8440 - val_loss: 0.9430 - val_accuracy: 0.6360\n",
            "Epoch 35/40\n",
            "29/29 [==============================] - 10s 283ms/step - loss: 0.3985 - accuracy: 0.8473 - val_loss: 0.9378 - val_accuracy: 0.6535\n",
            "Epoch 36/40\n",
            "29/29 [==============================] - 10s 277ms/step - loss: 0.4189 - accuracy: 0.8275 - val_loss: 0.9880 - val_accuracy: 0.6535\n",
            "Epoch 37/40\n",
            "29/29 [==============================] - 10s 277ms/step - loss: 0.4010 - accuracy: 0.8407 - val_loss: 0.9582 - val_accuracy: 0.6579\n",
            "Epoch 38/40\n",
            "29/29 [==============================] - 10s 287ms/step - loss: 0.3953 - accuracy: 0.8462 - val_loss: 0.9759 - val_accuracy: 0.6623\n",
            "Epoch 39/40\n",
            "29/29 [==============================] - 10s 280ms/step - loss: 0.4009 - accuracy: 0.8473 - val_loss: 0.9402 - val_accuracy: 0.6535\n",
            "Epoch 40/40\n",
            "29/29 [==============================] - 10s 284ms/step - loss: 0.3840 - accuracy: 0.8538 - val_loss: 0.9752 - val_accuracy: 0.6535\n"
          ]
        }
      ]
    },
    {
      "cell_type": "code",
      "source": [
        "\n",
        "# Evaluate the model on the test data\n",
        "results_feature_extraction = model_0.evaluate(test_data)\n",
        "results_feature_extraction"
      ],
      "metadata": {
        "colab": {
          "base_uri": "https://localhost:8080/"
        },
        "id": "4BMo98Dqrd5b",
        "outputId": "d004f969-43bb-4aef-bc7b-9d63749171b6"
      },
      "execution_count": 39,
      "outputs": [
        {
          "output_type": "stream",
          "name": "stdout",
          "text": [
            "8/8 [==============================] - 2s 126ms/step - loss: 0.9752 - accuracy: 0.6535\n"
          ]
        },
        {
          "output_type": "execute_result",
          "data": {
            "text/plain": [
              "[0.9751855731010437, 0.6535087823867798]"
            ]
          },
          "metadata": {},
          "execution_count": 39
        }
      ]
    },
    {
      "cell_type": "code",
      "source": [
        "\n",
        "plot_loss_curves(history_0)"
      ],
      "metadata": {
        "colab": {
          "base_uri": "https://localhost:8080/",
          "height": 927
        },
        "id": "IIcm_isNrgIB",
        "outputId": "92a858f3-f8c3-4ea3-bf35-f950528009a6"
      },
      "execution_count": 40,
      "outputs": [
        {
          "output_type": "display_data",
          "data": {
            "text/plain": [
              "<Figure size 640x480 with 1 Axes>"
            ],
            "image/png": "[encoded data removed]"
          },
          "metadata": {}
        },
        {
          "output_type": "display_data",
          "data": {
            "text/plain": [
              "<Figure size 640x480 with 1 Axes>"
            ],
            "image/png": "[encoded data removed]"
          },
          "metadata": {}
        }
      ]
    },
    {
      "cell_type": "code",
      "source": [
        "from sklearn.metrics import classification_report\n",
        "\n",
        "# Assuming you have true labels for your test data stored in y_true\n",
        "# and predictions from your model stored in y_pred\n",
        "\n",
        "# Convert categorical predictions to class labels\n",
        "y_pred_labels = np.argmax(model_0.predict(test_data), axis=1)\n",
        "\n",
        "# Get true labels from the test dataset\n",
        "y_true_labels = np.concatenate([y for x, y in test_data], axis=0)\n",
        "y_true_labels = np.argmax(y_true_labels, axis=1)\n",
        "\n",
        "# Generate classification report\n",
        "report = classification_report(y_true_labels, y_pred_labels)\n",
        "\n",
        "print(report)"
      ],
      "metadata": {
        "colab": {
          "base_uri": "https://localhost:8080/"
        },
        "id": "Wv5AIlWcrhVm",
        "outputId": "662d5082-ac2f-4b8d-f2f2-72c46d990d92"
      },
      "execution_count": 41,
      "outputs": [
        {
          "output_type": "stream",
          "name": "stdout",
          "text": [
            "8/8 [==============================] - 3s 146ms/step\n",
            "              precision    recall  f1-score   support\n",
            "\n",
            "           0       0.00      0.00      0.00        18\n",
            "           1       0.25      0.33      0.28        55\n",
            "           2       0.69      0.66      0.68       155\n",
            "\n",
            "    accuracy                           0.53       228\n",
            "   macro avg       0.31      0.33      0.32       228\n",
            "weighted avg       0.53      0.53      0.53       228\n",
            "\n"
          ]
        }
      ]
    },
    {
      "cell_type": "code",
      "source": [
        "# Eğitim doğruluğunu geçmiş verilerinden al\n",
        "train_accuracy = history_0.history['accuracy']\n",
        "\n",
        "# Son epoch'un eğitim doğruluğunu yazdır\n",
        "print(\"Eğitim doğruluğu:\", train_accuracy[-1])\n"
      ],
      "metadata": {
        "colab": {
          "base_uri": "https://localhost:8080/"
        },
        "id": "0rosPnLTrkg2",
        "outputId": "09f3a8af-e499-412e-ed84-ff9c975f530c"
      },
      "execution_count": 42,
      "outputs": [
        {
          "output_type": "stream",
          "name": "stdout",
          "text": [
            "Eğitim doğruluğu: 0.8538461327552795\n"
          ]
        }
      ]
    },
    {
      "cell_type": "code",
      "source": [],
      "metadata": {
        "id": "sOV_I5zCtbr7"
      },
      "execution_count": 42,
      "outputs": []
    }
  ]
}