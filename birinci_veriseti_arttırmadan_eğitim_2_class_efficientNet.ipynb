{
  "nbformat": 4,
  "nbformat_minor": 0,
  "metadata": {
    "colab": {
      "provenance": [],
      "machine_shape": "hm",
      "gpuType": "T4"
    },
    "kernelspec": {
      "name": "python3",
      "display_name": "Python 3"
    },
    "language_info": {
      "name": "python"
    },
    "accelerator": "GPU"
  },
  "cells": [
    {
      "cell_type": "code",
      "execution_count": null,
      "metadata": {
        "id": "gY9CcdelZqaK"
      },
      "outputs": [],
      "source": []
    },
    {
      "cell_type": "code",
      "source": [
        "from google.colab import drive\n",
        "drive.mount('/content/drive')"
      ],
      "metadata": {
        "colab": {
          "base_uri": "https://localhost:8080/"
        },
        "id": "yHph3iBUZ1tk",
        "outputId": "bdd19250-b322-433b-898d-6cf206271711"
      },
      "execution_count": 1,
      "outputs": [
        {
          "output_type": "stream",
          "name": "stdout",
          "text": [
            "Mounted at /content/drive\n"
          ]
        }
      ]
    },
    {
      "cell_type": "code",
      "source": [
        "!wget https://raw.githubusercontent.com/mrdbourke/tensorflow-deep-learning/main/extras/helper_functions.py"
      ],
      "metadata": {
        "colab": {
          "base_uri": "https://localhost:8080/"
        },
        "id": "X71Blx8KaClQ",
        "outputId": "cfa96d19-3397-4d4d-8e9a-9e079b0dd935"
      },
      "execution_count": 2,
      "outputs": [
        {
          "output_type": "stream",
          "name": "stdout",
          "text": [
            "--2024-07-24 06:23:26--  https://raw.githubusercontent.com/mrdbourke/tensorflow-deep-learning/main/extras/helper_functions.py\n",
            "Resolving raw.githubusercontent.com (raw.githubusercontent.com)... 185.199.108.133, 185.199.109.133, 185.199.110.133, ...\n",
            "Connecting to raw.githubusercontent.com (raw.githubusercontent.com)|185.199.108.133|:443... connected.\n",
            "HTTP request sent, awaiting response... 200 OK\n",
            "Length: 10246 (10K) [text/plain]\n",
            "Saving to: ‘helper_functions.py’\n",
            "\n",
            "helper_functions.py 100%[===================>]  10.01K  --.-KB/s    in 0.001s  \n",
            "\n",
            "2024-07-24 06:23:27 (11.7 MB/s) - ‘helper_functions.py’ saved [10246/10246]\n",
            "\n"
          ]
        }
      ]
    },
    {
      "cell_type": "code",
      "source": [
        "from helper_functions import create_tensorboard_callback, plot_loss_curves, unzip_data, walk_through_dir"
      ],
      "metadata": {
        "id": "5bEYo6kLaKvz"
      },
      "execution_count": 3,
      "outputs": []
    },
    {
      "cell_type": "code",
      "source": [
        "import os\n",
        "\n",
        "for dirpath, dirnames, filenames in os.walk(\"/content/drive/MyDrive/Tez Dosyaları/birinci veriseti 2 classlı\"):\n",
        "  print(f\"There are {len(dirnames)} directories and {len(filenames)} images in '{dirpath}'.\")"
      ],
      "metadata": {
        "colab": {
          "base_uri": "https://localhost:8080/"
        },
        "id": "k3lcCFCIaMz7",
        "outputId": "3147e2cd-0315-4a02-a6e6-99ba10835819"
      },
      "execution_count": 4,
      "outputs": [
        {
          "output_type": "stream",
          "name": "stdout",
          "text": [
            "There are 2 directories and 0 images in '/content/drive/MyDrive/Tez Dosyaları/birinci veriseti 2 classlı'.\n",
            "There are 2 directories and 0 images in '/content/drive/MyDrive/Tez Dosyaları/birinci veriseti 2 classlı/Test'.\n",
            "There are 0 directories and 66 images in '/content/drive/MyDrive/Tez Dosyaları/birinci veriseti 2 classlı/Test/Malignant'.\n",
            "There are 0 directories and 60 images in '/content/drive/MyDrive/Tez Dosyaları/birinci veriseti 2 classlı/Test/Benign'.\n",
            "There are 2 directories and 0 images in '/content/drive/MyDrive/Tez Dosyaları/birinci veriseti 2 classlı/Train'.\n",
            "There are 0 directories and 527 images in '/content/drive/MyDrive/Tez Dosyaları/birinci veriseti 2 classlı/Train/Benign'.\n",
            "There are 0 directories and 596 images in '/content/drive/MyDrive/Tez Dosyaları/birinci veriseti 2 classlı/Train/Malignant'.\n"
          ]
        }
      ]
    },
    {
      "cell_type": "code",
      "source": [
        "train_dir = \"/content/drive/MyDrive/Tez Dosyaları/birinci veriseti 2 classlı/Train\"\n",
        "test_dir = \"/content/drive/MyDrive/Tez Dosyaları/birinci veriseti 2 classlı/Test\""
      ],
      "metadata": {
        "id": "UN289A1yaejh"
      },
      "execution_count": 5,
      "outputs": []
    },
    {
      "cell_type": "code",
      "source": [
        "import tensorflow as tf\n",
        "BATCH_SIZE = 32\n",
        "IMG_SIZE = (224, 224)\n",
        "train_data= tf.keras.preprocessing.image_dataset_from_directory(train_dir,\n",
        "                                                          label_mode=\"binary\",\n",
        "                                                          batch_size=BATCH_SIZE,\n",
        "                                                          image_size=IMG_SIZE)\n",
        "\n",
        "test_data = tf.keras.preprocessing.image_dataset_from_directory(test_dir,\n",
        "                                                          label_mode=\"binary\",\n",
        "                                                          batch_size=BATCH_SIZE,\n",
        "                                                          image_size=IMG_SIZE)"
      ],
      "metadata": {
        "colab": {
          "base_uri": "https://localhost:8080/"
        },
        "id": "0q0XlYx9avg9",
        "outputId": "e1e2683b-a4e1-461d-b727-b532a9b34212"
      },
      "execution_count": 6,
      "outputs": [
        {
          "output_type": "stream",
          "name": "stdout",
          "text": [
            "Found 1123 files belonging to 2 classes.\n",
            "Found 126 files belonging to 2 classes.\n"
          ]
        }
      ]
    },
    {
      "cell_type": "code",
      "source": [
        "train_data.class_names"
      ],
      "metadata": {
        "colab": {
          "base_uri": "https://localhost:8080/"
        },
        "id": "YgvNv0niayoK",
        "outputId": "d459603c-181d-40a5-ba11-725f05f7ae6f"
      },
      "execution_count": 7,
      "outputs": [
        {
          "output_type": "execute_result",
          "data": {
            "text/plain": [
              "['Benign', 'Malignant']"
            ]
          },
          "metadata": {},
          "execution_count": 7
        }
      ]
    },
    {
      "cell_type": "code",
      "source": [
        "from tensorflow.keras.preprocessing.image import ImageDataGenerator\n",
        "from tensorflow.keras.preprocessing.image import img_to_array\n",
        "from tensorflow.keras.preprocessing.image import load_img\n",
        "import numpy as np\n",
        "import random\n",
        "import math\n",
        "import csv\n",
        "import cv2\n",
        "import os"
      ],
      "metadata": {
        "id": "T7oMf6GQa0Oc"
      },
      "execution_count": 8,
      "outputs": []
    },
    {
      "cell_type": "code",
      "source": [
        "# 1.  create base model with tf.keras.applications\n",
        "base_model = tf.keras.applications.EfficientNetB0(include_top=False)\n",
        "\n",
        "# 2. Freeze the base model\n",
        "base_model.trainable = False\n",
        "\n",
        "# 3. create inputs into our model\n",
        "inputs = tf.keras.layers.Input(shape=(224, 224, 3), name=\"input_layer\")\n",
        "\n",
        "# 4. if using ResNet50V2 you will need to normalize inputs\n",
        "# x = tf.keras.layers.experimental.preprocessing.Rescaling(1./255)(inputs)\n",
        "\n",
        "# 5. pass the inputs to the base_model\n",
        "x = base_model(inputs)\n",
        "print(f\"Shape after passing inputs through base model: {x.shape}\")\n",
        "\n",
        "# 6. average pool the outputs of the base model (aggregate all the most important information, reduce number of computations)\n",
        "x = tf.keras.layers.GlobalAveragePooling2D(name=\"global_average_pooling_layer\")(x)\n",
        "print(f\"Shape after GlobalAveragePooling2D: {x.shape}\")\n",
        "\n",
        "# 7. create the output activation layer\n",
        "outputs = tf.keras.layers.Dense(1, activation=\"sigmoid\", name=\"output_layer\")(x)\n",
        "model_0 = tf.keras.Model(inputs, outputs)\n",
        "\n",
        "# 8. compile the model\n",
        "model_0.compile(loss=\"binary_crossentropy\",\n",
        "                optimizer=tf.keras.optimizers.Adam(),\n",
        "                metrics=[\"accuracy\"])\n",
        "\n",
        "# 9. fit the model\n",
        "history_0 = model_0.fit(train_data,\n",
        "                        epochs=40,\n",
        "                        steps_per_epoch=len(train_data),\n",
        "                        validation_data=test_data,\n",
        "                        validation_steps=int(len(test_data)),\n",
        "                        callbacks=[create_tensorboard_callback(dir_name=\"transfer_learning\",\n",
        "                                                              experiment_name=\"10_percent_feature_extraction\")])\n",
        ""
      ],
      "metadata": {
        "colab": {
          "base_uri": "https://localhost:8080/"
        },
        "id": "WMK-rfoUa16P",
        "outputId": "08fcff09-af51-4cdc-fd75-4243efdea8ad"
      },
      "execution_count": 9,
      "outputs": [
        {
          "output_type": "stream",
          "name": "stdout",
          "text": [
            "Downloading data from https://storage.googleapis.com/keras-applications/efficientnetb0_notop.h5\n",
            "16705208/16705208 [==============================] - 1s 0us/step\n",
            "Shape after passing inputs through base model: (None, 7, 7, 1280)\n",
            "Shape after GlobalAveragePooling2D: (None, 1280)\n",
            "Saving TensorBoard log files to: transfer_learning/10_percent_feature_extraction/20240724-062648\n",
            "Epoch 1/40\n",
            "36/36 [==============================] - 153s 3s/step - loss: 0.6955 - accuracy: 0.5450 - val_loss: 0.6961 - val_accuracy: 0.5476\n",
            "Epoch 2/40\n",
            "36/36 [==============================] - 7s 160ms/step - loss: 0.6580 - accuracy: 0.6153 - val_loss: 0.6887 - val_accuracy: 0.5317\n",
            "Epoch 3/40\n",
            "36/36 [==============================] - 7s 170ms/step - loss: 0.6363 - accuracy: 0.6465 - val_loss: 0.6848 - val_accuracy: 0.5397\n",
            "Epoch 4/40\n",
            "36/36 [==============================] - 7s 163ms/step - loss: 0.6170 - accuracy: 0.6696 - val_loss: 0.6815 - val_accuracy: 0.5317\n",
            "Epoch 5/40\n",
            "36/36 [==============================] - 7s 167ms/step - loss: 0.6135 - accuracy: 0.6705 - val_loss: 0.6692 - val_accuracy: 0.5635\n",
            "Epoch 6/40\n",
            "36/36 [==============================] - 7s 162ms/step - loss: 0.5965 - accuracy: 0.6901 - val_loss: 0.6642 - val_accuracy: 0.6032\n",
            "Epoch 7/40\n",
            "36/36 [==============================] - 7s 159ms/step - loss: 0.5888 - accuracy: 0.7026 - val_loss: 0.6605 - val_accuracy: 0.6349\n",
            "Epoch 8/40\n",
            "36/36 [==============================] - 7s 162ms/step - loss: 0.5744 - accuracy: 0.7142 - val_loss: 0.6561 - val_accuracy: 0.6270\n",
            "Epoch 9/40\n",
            "36/36 [==============================] - 7s 162ms/step - loss: 0.5754 - accuracy: 0.7061 - val_loss: 0.6580 - val_accuracy: 0.6111\n",
            "Epoch 10/40\n",
            "36/36 [==============================] - 7s 165ms/step - loss: 0.5750 - accuracy: 0.7088 - val_loss: 0.6532 - val_accuracy: 0.6349\n",
            "Epoch 11/40\n",
            "36/36 [==============================] - 7s 161ms/step - loss: 0.5590 - accuracy: 0.7142 - val_loss: 0.6506 - val_accuracy: 0.6587\n",
            "Epoch 12/40\n",
            "36/36 [==============================] - 7s 165ms/step - loss: 0.5573 - accuracy: 0.7115 - val_loss: 0.6522 - val_accuracy: 0.6587\n",
            "Epoch 13/40\n",
            "36/36 [==============================] - 7s 157ms/step - loss: 0.5526 - accuracy: 0.7275 - val_loss: 0.6479 - val_accuracy: 0.6667\n",
            "Epoch 14/40\n",
            "36/36 [==============================] - 7s 163ms/step - loss: 0.5441 - accuracy: 0.7195 - val_loss: 0.6464 - val_accuracy: 0.6746\n",
            "Epoch 15/40\n",
            "36/36 [==============================] - 7s 162ms/step - loss: 0.5407 - accuracy: 0.7337 - val_loss: 0.6512 - val_accuracy: 0.6905\n",
            "Epoch 16/40\n",
            "36/36 [==============================] - 7s 160ms/step - loss: 0.5430 - accuracy: 0.7346 - val_loss: 0.6482 - val_accuracy: 0.6984\n",
            "Epoch 17/40\n",
            "36/36 [==============================] - 8s 171ms/step - loss: 0.5334 - accuracy: 0.7507 - val_loss: 0.6462 - val_accuracy: 0.6746\n",
            "Epoch 18/40\n",
            "36/36 [==============================] - 7s 157ms/step - loss: 0.5354 - accuracy: 0.7311 - val_loss: 0.6478 - val_accuracy: 0.6905\n",
            "Epoch 19/40\n",
            "36/36 [==============================] - 7s 169ms/step - loss: 0.5305 - accuracy: 0.7480 - val_loss: 0.6482 - val_accuracy: 0.6349\n",
            "Epoch 20/40\n",
            "36/36 [==============================] - 7s 155ms/step - loss: 0.5228 - accuracy: 0.7524 - val_loss: 0.6491 - val_accuracy: 0.6984\n",
            "Epoch 21/40\n",
            "36/36 [==============================] - 7s 165ms/step - loss: 0.5304 - accuracy: 0.7427 - val_loss: 0.6499 - val_accuracy: 0.6825\n",
            "Epoch 22/40\n",
            "36/36 [==============================] - 7s 166ms/step - loss: 0.5137 - accuracy: 0.7605 - val_loss: 0.6628 - val_accuracy: 0.6587\n",
            "Epoch 23/40\n",
            "36/36 [==============================] - 7s 161ms/step - loss: 0.5189 - accuracy: 0.7578 - val_loss: 0.6506 - val_accuracy: 0.6905\n",
            "Epoch 24/40\n",
            "36/36 [==============================] - 7s 168ms/step - loss: 0.5092 - accuracy: 0.7667 - val_loss: 0.6547 - val_accuracy: 0.6825\n",
            "Epoch 25/40\n",
            "36/36 [==============================] - 7s 160ms/step - loss: 0.5037 - accuracy: 0.7703 - val_loss: 0.6470 - val_accuracy: 0.6746\n",
            "Epoch 26/40\n",
            "36/36 [==============================] - 7s 163ms/step - loss: 0.5135 - accuracy: 0.7569 - val_loss: 0.6462 - val_accuracy: 0.6825\n",
            "Epoch 27/40\n",
            "36/36 [==============================] - 7s 158ms/step - loss: 0.4991 - accuracy: 0.7631 - val_loss: 0.6470 - val_accuracy: 0.6825\n",
            "Epoch 28/40\n",
            "36/36 [==============================] - 7s 162ms/step - loss: 0.5010 - accuracy: 0.7703 - val_loss: 0.6468 - val_accuracy: 0.6984\n",
            "Epoch 29/40\n",
            "36/36 [==============================] - 7s 163ms/step - loss: 0.4965 - accuracy: 0.7809 - val_loss: 0.6454 - val_accuracy: 0.7063\n",
            "Epoch 30/40\n",
            "36/36 [==============================] - 7s 158ms/step - loss: 0.5053 - accuracy: 0.7614 - val_loss: 0.6466 - val_accuracy: 0.6746\n",
            "Epoch 31/40\n",
            "36/36 [==============================] - 7s 167ms/step - loss: 0.4996 - accuracy: 0.7560 - val_loss: 0.6459 - val_accuracy: 0.6587\n",
            "Epoch 32/40\n",
            "36/36 [==============================] - 7s 163ms/step - loss: 0.4945 - accuracy: 0.7640 - val_loss: 0.6601 - val_accuracy: 0.6825\n",
            "Epoch 33/40\n",
            "36/36 [==============================] - 8s 170ms/step - loss: 0.4934 - accuracy: 0.7756 - val_loss: 0.6519 - val_accuracy: 0.7143\n",
            "Epoch 34/40\n",
            "36/36 [==============================] - 7s 163ms/step - loss: 0.4932 - accuracy: 0.7765 - val_loss: 0.6553 - val_accuracy: 0.6825\n",
            "Epoch 35/40\n",
            "36/36 [==============================] - 7s 166ms/step - loss: 0.4846 - accuracy: 0.7765 - val_loss: 0.6571 - val_accuracy: 0.6667\n",
            "Epoch 36/40\n",
            "36/36 [==============================] - 7s 162ms/step - loss: 0.4890 - accuracy: 0.7676 - val_loss: 0.6554 - val_accuracy: 0.6746\n",
            "Epoch 37/40\n",
            "36/36 [==============================] - 7s 162ms/step - loss: 0.4746 - accuracy: 0.7845 - val_loss: 0.6705 - val_accuracy: 0.6508\n",
            "Epoch 38/40\n",
            "36/36 [==============================] - 7s 166ms/step - loss: 0.4850 - accuracy: 0.7809 - val_loss: 0.6637 - val_accuracy: 0.6746\n",
            "Epoch 39/40\n",
            "36/36 [==============================] - 7s 158ms/step - loss: 0.4796 - accuracy: 0.7809 - val_loss: 0.6566 - val_accuracy: 0.6667\n",
            "Epoch 40/40\n",
            "36/36 [==============================] - 8s 171ms/step - loss: 0.4801 - accuracy: 0.7818 - val_loss: 0.6560 - val_accuracy: 0.6825\n"
          ]
        }
      ]
    },
    {
      "cell_type": "code",
      "source": [
        "import matplotlib.pyplot as plt\n",
        "\n",
        "def plot_loss_curves(history):\n",
        "  \"\"\"\n",
        "  Returns separate loss curves for training and validation metrics.\n",
        "  Args:\n",
        "    history: TensorFlow History object.\n",
        "\n",
        "    Returns:\n",
        "    Plots of training/validation loss and accuracy metrics.\n",
        "  \"\"\"\n",
        "  loss = history.history['loss']\n",
        "  val_loss = history.history['val_loss']\n",
        "\n",
        "  accuracy = history.history['accuracy']\n",
        "  val_accuracy = history.history['val_accuracy']\n",
        "\n",
        "  epochs = range(len(history.history['loss']))\n",
        "\n",
        "  #Plot loss\n",
        "\n",
        "  plt.plot(epochs, loss, label='training_loss')\n",
        "  plt.plot(epochs, val_loss, label='val_loss')\n",
        "  plt.title('Loss')\n",
        "  plt.xlabel('Epochs')\n",
        "  plt.legend()\n",
        "\n",
        "  #Plot accuracy\n",
        "  plt.figure()\n",
        "  plt.plot(epochs, accuracy, label='training_accuracy')\n",
        "  plt.plot(epochs, val_accuracy, label='val_accuracy')\n",
        "  plt.title('Accuracy')\n",
        "  plt.xlabel('Epochs')\n",
        "  plt.legend();\n",
        "\n",
        "plot_loss_curves(history_0)"
      ],
      "metadata": {
        "colab": {
          "base_uri": "https://localhost:8080/",
          "height": 927
        },
        "id": "q5NuN1NRa6vo",
        "outputId": "e086b5c2-0e6a-4b09-f11d-dd109123ee48"
      },
      "execution_count": 10,
      "outputs": [
        {
          "output_type": "display_data",
          "data": {
            "text/plain": [
              "<Figure size 640x480 with 1 Axes>"
            ],
            "image/png": "[encoded data removed]"
          },
          "metadata": {}
        },
        {
          "output_type": "display_data",
          "data": {
            "text/plain": [
              "<Figure size 640x480 with 1 Axes>"
            ],
            "image/png": "[encoded data removed]"
          },
          "metadata": {}
        }
      ]
    },
    {
      "cell_type": "code",
      "source": [
        "results_feature_extraction = model_0.evaluate(test_data)\n",
        "results_feature_extraction"
      ],
      "metadata": {
        "colab": {
          "base_uri": "https://localhost:8080/"
        },
        "id": "mHCVRoDTdbX3",
        "outputId": "51c14099-431d-493e-9b27-3457f0b75715"
      },
      "execution_count": 11,
      "outputs": [
        {
          "output_type": "stream",
          "name": "stdout",
          "text": [
            "4/4 [==============================] - 1s 75ms/step - loss: 0.6560 - accuracy: 0.6825\n"
          ]
        },
        {
          "output_type": "execute_result",
          "data": {
            "text/plain": [
              "[0.6559562087059021, 0.682539701461792]"
            ]
          },
          "metadata": {},
          "execution_count": 11
        }
      ]
    },
    {
      "cell_type": "code",
      "source": [
        "\n",
        "# Get the predicted probabilities for the test set\n",
        "y_pred_probs = model_0.predict(test_data)\n",
        "\n",
        "# Convert probabilities to binary predictions (0 or 1)\n",
        "y_pred = (y_pred_probs > 0.5).astype(int)\n",
        "\n",
        "# Get the true labels for the test set\n",
        "y_true = np.concatenate([y for x, y in test_data], axis=0)\n",
        "\n",
        "# Calculate precision\n",
        "from sklearn.metrics import precision_score\n",
        "precision = precision_score(y_true, y_pred)\n",
        "print(\"Precision:\", precision)\n"
      ],
      "metadata": {
        "colab": {
          "base_uri": "https://localhost:8080/"
        },
        "id": "VyXE_k28eUV0",
        "outputId": "801eeed6-e012-4dc4-8b65-a07e9da4e15f"
      },
      "execution_count": 16,
      "outputs": [
        {
          "output_type": "stream",
          "name": "stdout",
          "text": [
            "4/4 [==============================] - 1s 73ms/step\n",
            "Precision: 0.5\n"
          ]
        }
      ]
    },
    {
      "cell_type": "code",
      "source": [
        "\n",
        "from sklearn.metrics import recall_score\n",
        "\n",
        "# Calculate recall\n",
        "recall = recall_score(y_true, y_pred)\n",
        "print(\"Recall:\", recall)\n"
      ],
      "metadata": {
        "colab": {
          "base_uri": "https://localhost:8080/"
        },
        "id": "b0xf07ioex-O",
        "outputId": "4ae29320-86b5-4e6c-8b23-34517fbc4b7b"
      },
      "execution_count": 17,
      "outputs": [
        {
          "output_type": "stream",
          "name": "stdout",
          "text": [
            "Recall: 0.4393939393939394\n"
          ]
        }
      ]
    },
    {
      "cell_type": "code",
      "source": [
        "\n",
        "from sklearn.metrics import f1_score\n",
        "# Calculate F1-score\n",
        "f1 = f1_score(y_true, y_pred)\n",
        "print(\"F1-score:\", f1)\n"
      ],
      "metadata": {
        "colab": {
          "base_uri": "https://localhost:8080/"
        },
        "id": "Oqhrs8PKe2Zi",
        "outputId": "6b71da16-843e-472c-8944-6cb141ddddac"
      },
      "execution_count": 18,
      "outputs": [
        {
          "output_type": "stream",
          "name": "stdout",
          "text": [
            "F1-score: 0.46774193548387094\n"
          ]
        }
      ]
    },
    {
      "cell_type": "code",
      "source": [],
      "metadata": {
        "id": "nuvVCILue6ia"
      },
      "execution_count": null,
      "outputs": []
    }
  ]
}