{
  "nbformat": 4,
  "nbformat_minor": 0,
  "metadata": {
    "colab": {
      "provenance": [],
      "machine_shape": "hm",
      "gpuType": "T4"
    },
    "kernelspec": {
      "name": "python3",
      "display_name": "Python 3"
    },
    "language_info": {
      "name": "python"
    },
    "accelerator": "GPU"
  },
  "cells": [
    {
      "cell_type": "code",
      "execution_count": 1,
      "metadata": {
        "colab": {
          "base_uri": "https://localhost:8080/"
        },
        "id": "TKfDB0C4LjO-",
        "outputId": "b0842b41-820b-4b81-8685-59b77aeadce1"
      },
      "outputs": [
        {
          "output_type": "stream",
          "name": "stdout",
          "text": [
            "--2024-07-25 14:00:17--  https://raw.githubusercontent.com/mrdbourke/tensorflow-deep-learning/main/extras/helper_functions.py\n",
            "Resolving raw.githubusercontent.com (raw.githubusercontent.com)... 185.199.108.133, 185.199.109.133, 185.199.110.133, ...\n",
            "Connecting to raw.githubusercontent.com (raw.githubusercontent.com)|185.199.108.133|:443... connected.\n",
            "HTTP request sent, awaiting response... 200 OK\n",
            "Length: 10246 (10K) [text/plain]\n",
            "Saving to: ‘helper_functions.py’\n",
            "\n",
            "helper_functions.py 100%[===================>]  10.01K  --.-KB/s    in 0s      \n",
            "\n",
            "2024-07-25 14:00:17 (126 MB/s) - ‘helper_functions.py’ saved [10246/10246]\n",
            "\n"
          ]
        }
      ],
      "source": [
        "!wget https://raw.githubusercontent.com/mrdbourke/tensorflow-deep-learning/main/extras/helper_functions.py"
      ]
    },
    {
      "cell_type": "code",
      "source": [
        "#import helper functions we're going to use in this notebook\n",
        "\n",
        "from helper_functions import create_tensorboard_callback, plot_loss_curves, unzip_data, walk_through_dir\n"
      ],
      "metadata": {
        "id": "dSoktlWSMUTj"
      },
      "execution_count": 2,
      "outputs": []
    },
    {
      "cell_type": "code",
      "source": [
        "import os\n",
        "\n",
        "for dirpath, dirnames, filenames in os.walk(\"/content/drive/MyDrive/Tez Dosyaları/ikinci veriseti 2 class\"):\n",
        "  print(f\"There are {len(dirnames)} directories and {len(filenames)} images in '{dirpath}'.\")\n"
      ],
      "metadata": {
        "colab": {
          "base_uri": "https://localhost:8080/"
        },
        "id": "ZUP_XHxgMWzu",
        "outputId": "abe2d522-ad8b-4c0f-ea97-d23e3314d0ef"
      },
      "execution_count": 3,
      "outputs": [
        {
          "output_type": "stream",
          "name": "stdout",
          "text": [
            "There are 2 directories and 0 images in '/content/drive/MyDrive/Tez Dosyaları/ikinci veriseti 2 class'.\n",
            "There are 2 directories and 0 images in '/content/drive/MyDrive/Tez Dosyaları/ikinci veriseti 2 class/Train'.\n",
            "There are 0 directories and 223 images in '/content/drive/MyDrive/Tez Dosyaları/ikinci veriseti 2 class/Train/Malignant'.\n",
            "There are 0 directories and 70 images in '/content/drive/MyDrive/Tez Dosyaları/ikinci veriseti 2 class/Train/Benign'.\n",
            "There are 2 directories and 0 images in '/content/drive/MyDrive/Tez Dosyaları/ikinci veriseti 2 class/Test'.\n",
            "There are 0 directories and 55 images in '/content/drive/MyDrive/Tez Dosyaları/ikinci veriseti 2 class/Test/Malignant'.\n",
            "There are 0 directories and 18 images in '/content/drive/MyDrive/Tez Dosyaları/ikinci veriseti 2 class/Test/Benign'.\n"
          ]
        }
      ]
    },
    {
      "cell_type": "code",
      "source": [
        "train_dir = \"/content/drive/MyDrive/Tez Dosyaları/ikinci veriseti 2 class/Train\"\n",
        "test_dir = \"/content/drive/MyDrive/Tez Dosyaları/ikinci veriseti 2 class/Test\""
      ],
      "metadata": {
        "id": "QYwDJW1pMgLH"
      },
      "execution_count": 4,
      "outputs": []
    },
    {
      "cell_type": "code",
      "source": [
        "import tensorflow as tf\n",
        "BATCH_SIZE = 32\n",
        "IMG_SIZE = (224, 224)\n",
        "train_data= tf.keras.preprocessing.image_dataset_from_directory(train_dir,\n",
        "                                                          label_mode=\"binary\",\n",
        "                                                          batch_size=BATCH_SIZE,\n",
        "                                                          image_size=IMG_SIZE)\n",
        "\n",
        "test_data = tf.keras.preprocessing.image_dataset_from_directory(test_dir,\n",
        "                                                          label_mode=\"binary\",\n",
        "                                                          batch_size=BATCH_SIZE,\n",
        "                                                          image_size=IMG_SIZE)"
      ],
      "metadata": {
        "colab": {
          "base_uri": "https://localhost:8080/"
        },
        "id": "TJ4l3_DaMp_4",
        "outputId": "a734aa88-3e9a-4dae-8c89-e1f20a1bfe08"
      },
      "execution_count": 5,
      "outputs": [
        {
          "output_type": "stream",
          "name": "stdout",
          "text": [
            "Found 293 files belonging to 2 classes.\n",
            "Found 73 files belonging to 2 classes.\n"
          ]
        }
      ]
    },
    {
      "cell_type": "code",
      "source": [
        "train_data.class_names"
      ],
      "metadata": {
        "colab": {
          "base_uri": "https://localhost:8080/"
        },
        "id": "6_e-yBAFMsrV",
        "outputId": "e8bc1a3a-969c-41f3-eefd-0d9a97bd8d20"
      },
      "execution_count": 6,
      "outputs": [
        {
          "output_type": "execute_result",
          "data": {
            "text/plain": [
              "['Benign', 'Malignant']"
            ]
          },
          "metadata": {},
          "execution_count": 6
        }
      ]
    },
    {
      "cell_type": "code",
      "source": [
        "from tensorflow.keras.preprocessing.image import ImageDataGenerator\n",
        "from tensorflow.keras.preprocessing.image import img_to_array\n",
        "from tensorflow.keras.preprocessing.image import load_img\n",
        "import numpy as np\n",
        "import random\n",
        "import math\n",
        "import csv\n",
        "import cv2\n",
        "import os"
      ],
      "metadata": {
        "id": "RDuShM4lMvBT"
      },
      "execution_count": 7,
      "outputs": []
    },
    {
      "cell_type": "code",
      "source": [
        "image_width = 224\n",
        "image_height = 224\n",
        "classes = ['Benign', 'Malignant']\n",
        "datagen = ImageDataGenerator(\n",
        "    rescale=1.0/255,\n",
        "    rotation_range=40,\n",
        "    width_shift_range=0.2,\n",
        "    height_shift_range=0.2,\n",
        "    shear_range=0.2,\n",
        "    zoom_range=0.2,\n",
        "    horizontal_flip=True,\n",
        "    fill_mode='nearest'\n",
        ")\n",
        "\n",
        "# Resimleri yüklemek için flow_from_directory kullanın\n",
        "train_generator = datagen.flow_from_directory(\n",
        "    directory=\"/content/drive/MyDrive/Tez Dosyaları/ikinci veriseti 2 class/Train\",\n",
        "    target_size=(image_width, image_height),\n",
        "    batch_size=32,\n",
        "    class_mode='categorical',\n",
        "    subset='training'\n",
        ")\n",
        "\n",
        "# Her sınıf için resimleri ayrı ayrı arttırın\n",
        "for cls in classes:\n",
        "    # Sınıfın resimlerini yüklemek için flow_from_directory kullanın\n",
        "    cls_generator = datagen.flow_from_directory(\n",
        "        directory=\"/content/drive/MyDrive/Tez Dosyaları/ikinci veriseti 2 class/Train\",\n",
        "        target_size=(image_width, image_height),\n",
        "        batch_size=32,\n",
        "        class_mode='categorical',\n",
        "        subset='training',\n",
        "        classes=[cls]\n",
        "    )\n",
        "\n",
        "    # Resimleri arttırın ve kaydedin\n",
        "    i = 0\n",
        "    for batch in cls_generator:\n",
        "        images, labels = batch\n",
        "        for image in images:\n",
        "            # Resmi kaydetmek için imwrite kullanın\n",
        "            cv2.imwrite(os.path.join(\"/content/drive/MyDrive/Tez Dosyaları/ikinci veriseti 2 class/Train\", cls, f\"augmented_{i}.jpg\"), image * 255)\n",
        "            i += 1\n",
        "            if i >= 3000:  # Maksimum resim sayısına ulaşıldığında döngüyü durdur\n",
        "                break\n",
        "        else:\n",
        "            continue\n",
        "        break"
      ],
      "metadata": {
        "colab": {
          "base_uri": "https://localhost:8080/"
        },
        "id": "3m4eao6OMxRZ",
        "outputId": "9f2be923-ba22-41be-ac90-6ad8e7c91837"
      },
      "execution_count": 8,
      "outputs": [
        {
          "output_type": "stream",
          "name": "stdout",
          "text": [
            "Found 293 images belonging to 2 classes.\n",
            "Found 70 images belonging to 1 classes.\n",
            "Found 223 images belonging to 1 classes.\n"
          ]
        }
      ]
    },
    {
      "cell_type": "code",
      "source": [
        "# Load the augmented images for the malignant class\n",
        "augmented_images = os.listdir(\"/content/drive/MyDrive/Tez Dosyaları/ikinci veriseti 2 class/Train/Malignant\")\n",
        "\n",
        "# Count the number of augmented images\n",
        "num_malignant_images = len(augmented_images)\n",
        "\n",
        "# Print the number of malignant images\n",
        "print(\"Number of malignant images:\", num_malignant_images)"
      ],
      "metadata": {
        "colab": {
          "base_uri": "https://localhost:8080/"
        },
        "id": "vqPXeQQlM9Fl",
        "outputId": "a6619da8-8b3e-4f90-9e6f-5a5a8c7dd647"
      },
      "execution_count": 9,
      "outputs": [
        {
          "output_type": "stream",
          "name": "stdout",
          "text": [
            "Number of malignant images: 3223\n"
          ]
        }
      ]
    },
    {
      "cell_type": "code",
      "source": [
        "augmented_images3 = os.listdir(\"/content/drive/MyDrive/Tez Dosyaları/ikinci veriseti 2 class/Train/Benign\")\n",
        "\n",
        "# Count the number of augmented images\n",
        "num_benign_images = len(augmented_images3)\n",
        "\n",
        "# Print the number of malignant images\n",
        "print(\"Number of benign images:\", num_benign_images)"
      ],
      "metadata": {
        "colab": {
          "base_uri": "https://localhost:8080/"
        },
        "id": "NFinnKe0NkS0",
        "outputId": "c9ad3be5-d2bf-4a17-f35b-1d28680f020c"
      },
      "execution_count": 10,
      "outputs": [
        {
          "output_type": "stream",
          "name": "stdout",
          "text": [
            "Number of benign images: 3070\n"
          ]
        }
      ]
    },
    {
      "cell_type": "code",
      "source": [
        "import tensorflow as tf\n",
        "BATCH_SIZE = 32\n",
        "IMG_SIZE = (224, 224)\n",
        "train_data= tf.keras.preprocessing.image_dataset_from_directory(train_dir,\n",
        "                                                          label_mode=\"binary\",\n",
        "                                                          batch_size=BATCH_SIZE,\n",
        "                                                          image_size=IMG_SIZE)\n",
        "\n",
        "test_data = tf.keras.preprocessing.image_dataset_from_directory(test_dir,\n",
        "                                                          label_mode=\"binary\",\n",
        "                                                          batch_size=BATCH_SIZE,\n",
        "                                                          image_size=IMG_SIZE)"
      ],
      "metadata": {
        "colab": {
          "base_uri": "https://localhost:8080/"
        },
        "id": "kMwLF8RUNph8",
        "outputId": "4773c1ce-1256-4095-91a6-b7f7eb6c2cb0"
      },
      "execution_count": 11,
      "outputs": [
        {
          "output_type": "stream",
          "name": "stdout",
          "text": [
            "Found 6293 files belonging to 2 classes.\n",
            "Found 73 files belonging to 2 classes.\n"
          ]
        }
      ]
    },
    {
      "cell_type": "code",
      "source": [
        "# 1.  create base model with tf.keras.applications\n",
        "base_model = tf.keras.applications.VGG19(include_top=False)\n",
        "\n",
        "# 2. Freeze the base model\n",
        "base_model.trainable = False\n",
        "\n",
        "# 3. create inputs into our model\n",
        "inputs = tf.keras.layers.Input(shape=(224, 224, 3), name=\"input_layer\")\n",
        "\n",
        "# 4. if using ResNet50V2 you will need to normalize inputs\n",
        "# x = tf.keras.layers.experimental.preprocessing.Rescaling(1./255)(inputs)\n",
        "\n",
        "# 5. pass the inputs to the base_model\n",
        "x = base_model(inputs)\n",
        "print(f\"Shape after passing inputs through base model: {x.shape}\")\n",
        "\n",
        "# 6. average pool the outputs of the base model (aggregate all the most important information, reduce number of computations)\n",
        "x = tf.keras.layers.GlobalAveragePooling2D(name=\"global_average_pooling_layer\")(x)\n",
        "print(f\"Shape after GlobalAveragePooling2D: {x.shape}\")\n",
        "\n",
        "# 7. create the output activation layer\n",
        "outputs = tf.keras.layers.Dense(1, activation=\"sigmoid\", name=\"output_layer\")(x)\n",
        "model_0 = tf.keras.Model(inputs, outputs)\n",
        "\n",
        "# 8. compile the model\n",
        "model_0.compile(loss=\"binary_crossentropy\",\n",
        "                optimizer=tf.keras.optimizers.Adam(),\n",
        "                metrics=[\"accuracy\"])\n",
        "\n",
        "# 9. fit the model\n",
        "history_0 = model_0.fit(train_data,\n",
        "                        epochs=40,\n",
        "                        steps_per_epoch=len(train_data),\n",
        "                        validation_data=test_data,\n",
        "                        validation_steps=int(len(test_data)),\n",
        "                        callbacks=[create_tensorboard_callback(dir_name=\"transfer_learning\",\n",
        "                                                              experiment_name=\"10_percent_feature_extraction\")])"
      ],
      "metadata": {
        "colab": {
          "base_uri": "https://localhost:8080/"
        },
        "id": "os8M6ER8NscB",
        "outputId": "ba03beae-414b-4e25-cf25-6d36e333b793"
      },
      "execution_count": 41,
      "outputs": [
        {
          "output_type": "stream",
          "name": "stdout",
          "text": [
            "Downloading data from https://storage.googleapis.com/tensorflow/keras-applications/vgg19/vgg19_weights_tf_dim_ordering_tf_kernels_notop.h5\n",
            "80134624/80134624 [==============================] - 4s 0us/step\n",
            "Shape after passing inputs through base model: (None, 7, 7, 512)\n",
            "Shape after GlobalAveragePooling2D: (None, 512)\n",
            "Saving TensorBoard log files to: transfer_learning/10_percent_feature_extraction/20240725-154337\n",
            "Epoch 1/40\n",
            "197/197 [==============================] - 35s 170ms/step - loss: 0.7122 - accuracy: 0.5895 - val_loss: 0.7454 - val_accuracy: 0.5616\n",
            "Epoch 2/40\n",
            "197/197 [==============================] - 33s 166ms/step - loss: 0.5867 - accuracy: 0.6909 - val_loss: 0.7469 - val_accuracy: 0.6438\n",
            "Epoch 3/40\n",
            "197/197 [==============================] - 33s 165ms/step - loss: 0.5325 - accuracy: 0.7303 - val_loss: 0.7531 - val_accuracy: 0.6712\n",
            "Epoch 4/40\n",
            "197/197 [==============================] - 33s 167ms/step - loss: 0.5019 - accuracy: 0.7581 - val_loss: 0.7691 - val_accuracy: 0.6712\n",
            "Epoch 5/40\n",
            "197/197 [==============================] - 33s 166ms/step - loss: 0.4761 - accuracy: 0.7737 - val_loss: 0.8072 - val_accuracy: 0.5479\n",
            "Epoch 6/40\n",
            "197/197 [==============================] - 33s 166ms/step - loss: 0.4633 - accuracy: 0.7829 - val_loss: 0.7861 - val_accuracy: 0.6712\n",
            "Epoch 7/40\n",
            "197/197 [==============================] - 33s 166ms/step - loss: 0.4444 - accuracy: 0.7933 - val_loss: 0.7994 - val_accuracy: 0.7123\n",
            "Epoch 8/40\n",
            "197/197 [==============================] - 33s 166ms/step - loss: 0.4345 - accuracy: 0.7995 - val_loss: 0.8112 - val_accuracy: 0.6438\n",
            "Epoch 9/40\n",
            "197/197 [==============================] - 34s 166ms/step - loss: 0.4279 - accuracy: 0.8034 - val_loss: 0.8154 - val_accuracy: 0.6575\n",
            "Epoch 10/40\n",
            "197/197 [==============================] - 33s 166ms/step - loss: 0.4228 - accuracy: 0.8034 - val_loss: 0.8269 - val_accuracy: 0.7123\n",
            "Epoch 11/40\n",
            "197/197 [==============================] - 33s 166ms/step - loss: 0.4140 - accuracy: 0.8101 - val_loss: 0.8368 - val_accuracy: 0.6986\n",
            "Epoch 12/40\n",
            "197/197 [==============================] - 33s 166ms/step - loss: 0.4076 - accuracy: 0.8131 - val_loss: 0.8464 - val_accuracy: 0.6849\n",
            "Epoch 13/40\n",
            "197/197 [==============================] - 33s 166ms/step - loss: 0.4037 - accuracy: 0.8111 - val_loss: 0.8567 - val_accuracy: 0.6849\n",
            "Epoch 14/40\n",
            "197/197 [==============================] - 33s 167ms/step - loss: 0.4019 - accuracy: 0.8161 - val_loss: 0.8569 - val_accuracy: 0.6986\n",
            "Epoch 15/40\n",
            "197/197 [==============================] - 33s 166ms/step - loss: 0.3946 - accuracy: 0.8182 - val_loss: 0.8753 - val_accuracy: 0.6986\n",
            "Epoch 16/40\n",
            "197/197 [==============================] - 33s 166ms/step - loss: 0.3939 - accuracy: 0.8214 - val_loss: 0.8699 - val_accuracy: 0.7123\n",
            "Epoch 17/40\n",
            "197/197 [==============================] - 33s 166ms/step - loss: 0.3874 - accuracy: 0.8228 - val_loss: 0.8824 - val_accuracy: 0.7123\n",
            "Epoch 18/40\n",
            "197/197 [==============================] - 33s 166ms/step - loss: 0.3853 - accuracy: 0.8257 - val_loss: 0.8934 - val_accuracy: 0.7260\n",
            "Epoch 19/40\n",
            "197/197 [==============================] - 33s 167ms/step - loss: 0.3859 - accuracy: 0.8239 - val_loss: 0.8997 - val_accuracy: 0.7123\n",
            "Epoch 20/40\n",
            "197/197 [==============================] - 33s 166ms/step - loss: 0.3864 - accuracy: 0.8254 - val_loss: 0.9031 - val_accuracy: 0.6712\n",
            "Epoch 21/40\n",
            "197/197 [==============================] - 33s 167ms/step - loss: 0.3785 - accuracy: 0.8246 - val_loss: 0.9231 - val_accuracy: 0.6986\n",
            "Epoch 22/40\n",
            "197/197 [==============================] - 33s 166ms/step - loss: 0.3798 - accuracy: 0.8271 - val_loss: 0.9127 - val_accuracy: 0.7123\n",
            "Epoch 23/40\n",
            "197/197 [==============================] - 33s 166ms/step - loss: 0.3765 - accuracy: 0.8295 - val_loss: 0.9203 - val_accuracy: 0.6986\n",
            "Epoch 24/40\n",
            "197/197 [==============================] - 33s 166ms/step - loss: 0.3762 - accuracy: 0.8273 - val_loss: 0.9258 - val_accuracy: 0.7123\n",
            "Epoch 25/40\n",
            "197/197 [==============================] - 33s 166ms/step - loss: 0.3732 - accuracy: 0.8273 - val_loss: 0.9335 - val_accuracy: 0.6986\n",
            "Epoch 26/40\n",
            "197/197 [==============================] - 33s 166ms/step - loss: 0.3712 - accuracy: 0.8277 - val_loss: 0.9345 - val_accuracy: 0.7123\n",
            "Epoch 27/40\n",
            "197/197 [==============================] - 33s 166ms/step - loss: 0.3715 - accuracy: 0.8285 - val_loss: 0.9471 - val_accuracy: 0.7123\n",
            "Epoch 28/40\n",
            "197/197 [==============================] - 33s 166ms/step - loss: 0.3683 - accuracy: 0.8306 - val_loss: 0.9524 - val_accuracy: 0.7123\n",
            "Epoch 29/40\n",
            "197/197 [==============================] - 33s 166ms/step - loss: 0.3671 - accuracy: 0.8373 - val_loss: 0.9584 - val_accuracy: 0.7123\n",
            "Epoch 30/40\n",
            "197/197 [==============================] - 33s 166ms/step - loss: 0.3670 - accuracy: 0.8362 - val_loss: 0.9598 - val_accuracy: 0.6849\n",
            "Epoch 31/40\n",
            "197/197 [==============================] - 33s 166ms/step - loss: 0.3661 - accuracy: 0.8346 - val_loss: 0.9699 - val_accuracy: 0.7123\n",
            "Epoch 32/40\n",
            "197/197 [==============================] - 33s 166ms/step - loss: 0.3674 - accuracy: 0.8289 - val_loss: 0.9907 - val_accuracy: 0.6164\n",
            "Epoch 33/40\n",
            "197/197 [==============================] - 33s 166ms/step - loss: 0.3641 - accuracy: 0.8347 - val_loss: 0.9925 - val_accuracy: 0.7123\n",
            "Epoch 34/40\n",
            "197/197 [==============================] - 33s 167ms/step - loss: 0.3607 - accuracy: 0.8378 - val_loss: 0.9821 - val_accuracy: 0.7123\n",
            "Epoch 35/40\n",
            "197/197 [==============================] - 34s 167ms/step - loss: 0.3615 - accuracy: 0.8363 - val_loss: 1.0052 - val_accuracy: 0.7123\n",
            "Epoch 36/40\n",
            "197/197 [==============================] - 33s 166ms/step - loss: 0.3615 - accuracy: 0.8368 - val_loss: 0.9976 - val_accuracy: 0.7260\n",
            "Epoch 37/40\n",
            "197/197 [==============================] - 33s 167ms/step - loss: 0.3605 - accuracy: 0.8386 - val_loss: 0.9956 - val_accuracy: 0.7260\n",
            "Epoch 38/40\n",
            "197/197 [==============================] - 33s 166ms/step - loss: 0.3609 - accuracy: 0.8346 - val_loss: 0.9985 - val_accuracy: 0.7123\n",
            "Epoch 39/40\n",
            "197/197 [==============================] - 33s 166ms/step - loss: 0.3593 - accuracy: 0.8381 - val_loss: 1.0208 - val_accuracy: 0.7123\n",
            "Epoch 40/40\n",
            "197/197 [==============================] - 33s 166ms/step - loss: 0.3613 - accuracy: 0.8349 - val_loss: 0.9999 - val_accuracy: 0.6986\n"
          ]
        }
      ]
    },
    {
      "cell_type": "code",
      "source": [
        "import matplotlib.pyplot as plt\n",
        "\n",
        "def plot_loss_curves(history):\n",
        "  \"\"\"\n",
        "  Returns separate loss curves for training and validation metrics.\n",
        "  Args:\n",
        "    history: TensorFlow History object.\n",
        "\n",
        "    Returns:\n",
        "    Plots of training/validation loss and accuracy metrics.\n",
        "  \"\"\"\n",
        "  loss = history.history['loss']\n",
        "  val_loss = history.history['val_loss']\n",
        "\n",
        "  accuracy = history.history['accuracy']\n",
        "  val_accuracy = history.history['val_accuracy']\n",
        "\n",
        "  epochs = range(len(history.history['loss']))\n",
        "\n",
        "  #Plot loss\n",
        "\n",
        "  plt.plot(epochs, loss, label='training_loss')\n",
        "  plt.plot(epochs, val_loss, label='val_loss')\n",
        "  plt.title('Loss')\n",
        "  plt.xlabel('Epochs')\n",
        "  plt.legend()\n",
        "\n",
        "  #Plot accuracy\n",
        "  plt.figure()\n",
        "  plt.plot(epochs, accuracy, label='training_accuracy')\n",
        "  plt.plot(epochs, val_accuracy, label='val_accuracy')\n",
        "  plt.title('Accuracy')\n",
        "  plt.xlabel('Epochs')\n",
        "  plt.legend();\n",
        "\n",
        "plot_loss_curves(history_0)"
      ],
      "metadata": {
        "colab": {
          "base_uri": "https://localhost:8080/",
          "height": 927
        },
        "id": "i_jGghbjNwx9",
        "outputId": "389bee82-ea8b-464a-e081-8e70adf24e14"
      },
      "execution_count": 42,
      "outputs": [
        {
          "output_type": "display_data",
          "data": {
            "text/plain": [
              "<Figure size 640x480 with 1 Axes>"
            ],
            "image/png": "[encoded data removed]"
          },
          "metadata": {}
        },
        {
          "output_type": "display_data",
          "data": {
            "text/plain": [
              "<Figure size 640x480 with 1 Axes>"
            ],
            "image/png": "[encoded data removed]"
          },
          "metadata": {}
        }
      ]
    },
    {
      "cell_type": "code",
      "source": [
        "results_feature_extraction = model_0.evaluate(test_data)\n",
        "results_feature_extraction"
      ],
      "metadata": {
        "colab": {
          "base_uri": "https://localhost:8080/"
        },
        "id": "h9t4Ez5jNzkD",
        "outputId": "7d5f89ac-5afa-4692-b95f-effef44fc67c"
      },
      "execution_count": 43,
      "outputs": [
        {
          "output_type": "stream",
          "name": "stdout",
          "text": [
            "3/3 [==============================] - 1s 116ms/step - loss: 0.9999 - accuracy: 0.6986\n"
          ]
        },
        {
          "output_type": "execute_result",
          "data": {
            "text/plain": [
              "[0.9999182820320129, 0.698630154132843]"
            ]
          },
          "metadata": {},
          "execution_count": 43
        }
      ]
    },
    {
      "cell_type": "code",
      "source": [
        "# Get the predicted probabilities for the test set\n",
        "y_pred_probs = model_0.predict(test_data)\n",
        "\n",
        "# Convert probabilities to binary predictions (0 or 1)\n",
        "y_pred = (y_pred_probs > 0.5).astype(int)\n",
        "\n",
        "# Get the true labels for the test set\n",
        "y_true = np.concatenate([y for x, y in test_data], axis=0)\n",
        "\n",
        "# Calculate precision\n",
        "from sklearn.metrics import precision_score\n",
        "precision = precision_score(y_true, y_pred)\n",
        "print(\"Precision:\", precision)"
      ],
      "metadata": {
        "colab": {
          "base_uri": "https://localhost:8080/"
        },
        "id": "uglZxXduN1wv",
        "outputId": "8bd1fb6c-80a4-40c0-d5fd-cb6dffba1c5c"
      },
      "execution_count": 44,
      "outputs": [
        {
          "output_type": "stream",
          "name": "stderr",
          "text": [
            "WARNING:tensorflow:5 out of the last 13 calls to <function Model.make_predict_function.<locals>.predict_function at 0x7b737a242a70> triggered tf.function retracing. Tracing is expensive and the excessive number of tracings could be due to (1) creating @tf.function repeatedly in a loop, (2) passing tensors with different shapes, (3) passing Python objects instead of tensors. For (1), please define your @tf.function outside of the loop. For (2), @tf.function has reduce_retracing=True option that can avoid unnecessary retracing. For (3), please refer to https://www.tensorflow.org/guide/function#controlling_retracing and https://www.tensorflow.org/api_docs/python/tf/function for  more details.\n"
          ]
        },
        {
          "output_type": "stream",
          "name": "stdout",
          "text": [
            "3/3 [==============================] - 1s 148ms/step\n",
            "Precision: 0.7636363636363637\n"
          ]
        }
      ]
    },
    {
      "cell_type": "code",
      "source": [
        "from sklearn.metrics import recall_score\n",
        "\n",
        "# Calculate recall\n",
        "recall = recall_score(y_true, y_pred)\n",
        "print(\"Recall:\", recall)"
      ],
      "metadata": {
        "colab": {
          "base_uri": "https://localhost:8080/"
        },
        "id": "_NOWLRLZN306",
        "outputId": "a10f06b0-ed11-49d7-db9e-f09ab89e836e"
      },
      "execution_count": 45,
      "outputs": [
        {
          "output_type": "stream",
          "name": "stdout",
          "text": [
            "Recall: 0.7636363636363637\n"
          ]
        }
      ]
    },
    {
      "cell_type": "code",
      "source": [
        "from sklearn.metrics import f1_score\n",
        "# Calculate F1-score\n",
        "f1 = f1_score(y_true, y_pred)\n",
        "print(\"F1-score:\", f1)"
      ],
      "metadata": {
        "colab": {
          "base_uri": "https://localhost:8080/"
        },
        "id": "oyvMVrfON5tc",
        "outputId": "22b80574-6c15-4573-b806-78d06b8484e2"
      },
      "execution_count": 46,
      "outputs": [
        {
          "output_type": "stream",
          "name": "stdout",
          "text": [
            "F1-score: 0.7636363636363637\n"
          ]
        }
      ]
    },
    {
      "cell_type": "code",
      "source": [
        "# Eğitim doğruluğunu elde etmek için history_0 nesnesini kullanın\n",
        "train_accuracy = history_0.history['accuracy']\n",
        "\n",
        "# Son epoch'un eğitim doğruluğunu yazdırın\n",
        "print(\"Eğitim doğruluğu:\", train_accuracy[-1])"
      ],
      "metadata": {
        "colab": {
          "base_uri": "https://localhost:8080/"
        },
        "id": "N27ZVDkYN7oz",
        "outputId": "6fdcf42c-8a0d-4bb6-ea87-3bd6426d3258"
      },
      "execution_count": 47,
      "outputs": [
        {
          "output_type": "stream",
          "name": "stdout",
          "text": [
            "Eğitim doğruluğu: 0.83489590883255\n"
          ]
        }
      ]
    },
    {
      "cell_type": "code",
      "source": [],
      "metadata": {
        "id": "xI9vh2Ddj9rr"
      },
      "execution_count": null,
      "outputs": []
    }
  ]
}