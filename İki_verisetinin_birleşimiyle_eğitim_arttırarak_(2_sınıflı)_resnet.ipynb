{
  "nbformat": 4,
  "nbformat_minor": 0,
  "metadata": {
    "colab": {
      "provenance": [],
      "machine_shape": "hm",
      "gpuType": "T4"
    },
    "kernelspec": {
      "name": "python3",
      "display_name": "Python 3"
    },
    "language_info": {
      "name": "python"
    },
    "accelerator": "GPU"
  },
  "cells": [
    {
      "cell_type": "code",
      "source": [
        "from google.colab import drive\n",
        "drive.mount('/content/drive')\n"
      ],
      "metadata": {
        "colab": {
          "base_uri": "https://localhost:8080/"
        },
        "id": "HAaqQEtk5DEc",
        "outputId": "f5e14526-3610-4c3a-f76d-233486124627"
      },
      "execution_count": 1,
      "outputs": [
        {
          "output_type": "stream",
          "name": "stdout",
          "text": [
            "Mounted at /content/drive\n"
          ]
        }
      ]
    },
    {
      "cell_type": "code",
      "execution_count": 2,
      "metadata": {
        "colab": {
          "base_uri": "https://localhost:8080/"
        },
        "id": "3TyQmDKo38Yi",
        "outputId": "88b384f8-cbd6-4332-dc4a-cebbd390657d"
      },
      "outputs": [
        {
          "output_type": "stream",
          "name": "stdout",
          "text": [
            "--2024-07-25 21:56:59--  https://raw.githubusercontent.com/mrdbourke/tensorflow-deep-learning/main/extras/helper_functions.py\n",
            "Resolving raw.githubusercontent.com (raw.githubusercontent.com)... 185.199.108.133, 185.199.109.133, 185.199.110.133, ...\n",
            "Connecting to raw.githubusercontent.com (raw.githubusercontent.com)|185.199.108.133|:443... connected.\n",
            "HTTP request sent, awaiting response... 200 OK\n",
            "Length: 10246 (10K) [text/plain]\n",
            "Saving to: ‘helper_functions.py’\n",
            "\n",
            "\rhelper_functions.py   0%[                    ]       0  --.-KB/s               \rhelper_functions.py 100%[===================>]  10.01K  --.-KB/s    in 0s      \n",
            "\n",
            "2024-07-25 21:56:59 (80.9 MB/s) - ‘helper_functions.py’ saved [10246/10246]\n",
            "\n"
          ]
        }
      ],
      "source": [
        "!wget https://raw.githubusercontent.com/mrdbourke/tensorflow-deep-learning/main/extras/helper_functions.py"
      ]
    },
    {
      "cell_type": "code",
      "source": [
        "#import helper functions we're going to use in this notebook\n",
        "\n",
        "from helper_functions import create_tensorboard_callback, plot_loss_curves, unzip_data, walk_through_dir\n"
      ],
      "metadata": {
        "id": "kzvTfhWY4wSk"
      },
      "execution_count": 3,
      "outputs": []
    },
    {
      "cell_type": "code",
      "source": [
        "import os\n",
        "\n",
        "for dirpath, dirnames, filenames in os.walk(\"/content/drive/MyDrive/Tez Dosyaları/birlesik veriseti 2 classli\"):\n",
        "  print(f\"There are {len(dirnames)} directories and {len(filenames)} images in '{dirpath}'.\")\n"
      ],
      "metadata": {
        "colab": {
          "base_uri": "https://localhost:8080/"
        },
        "id": "n4b6E7wd4y-u",
        "outputId": "af411ca2-f385-4343-f6bd-362c6bb89250"
      },
      "execution_count": 4,
      "outputs": [
        {
          "output_type": "stream",
          "name": "stdout",
          "text": [
            "There are 2 directories and 0 images in '/content/drive/MyDrive/Tez Dosyaları/birlesik veriseti 2 classli'.\n",
            "There are 2 directories and 0 images in '/content/drive/MyDrive/Tez Dosyaları/birlesik veriseti 2 classli/Train'.\n",
            "There are 0 directories and 840 images in '/content/drive/MyDrive/Tez Dosyaları/birlesik veriseti 2 classli/Train/Malignant'.\n",
            "There are 0 directories and 575 images in '/content/drive/MyDrive/Tez Dosyaları/birlesik veriseti 2 classli/Train/Benign'.\n",
            "There are 2 directories and 0 images in '/content/drive/MyDrive/Tez Dosyaları/birlesik veriseti 2 classli/Test'.\n",
            "There are 0 directories and 100 images in '/content/drive/MyDrive/Tez Dosyaları/birlesik veriseti 2 classli/Test/Benign'.\n",
            "There are 0 directories and 100 images in '/content/drive/MyDrive/Tez Dosyaları/birlesik veriseti 2 classli/Test/Malignant'.\n"
          ]
        }
      ]
    },
    {
      "cell_type": "code",
      "source": [
        "train_dir = \"/content/drive/MyDrive/Tez Dosyaları/birlesik veriseti 2 classli/Train\"\n",
        "test_dir = \"/content/drive/MyDrive/Tez Dosyaları/birlesik veriseti 2 classli/Test\""
      ],
      "metadata": {
        "id": "h6b_5PUj5lKD"
      },
      "execution_count": 5,
      "outputs": []
    },
    {
      "cell_type": "code",
      "source": [
        "import tensorflow as tf\n",
        "BATCH_SIZE = 32\n",
        "IMG_SIZE = (224, 224)\n",
        "train_data= tf.keras.preprocessing.image_dataset_from_directory(train_dir,\n",
        "                                                          label_mode=\"binary\",\n",
        "                                                          batch_size=BATCH_SIZE,\n",
        "                                                          image_size=IMG_SIZE)\n",
        "\n",
        "test_data = tf.keras.preprocessing.image_dataset_from_directory(test_dir,\n",
        "                                                          label_mode=\"binary\",\n",
        "                                                          batch_size=BATCH_SIZE,\n",
        "                                                          image_size=IMG_SIZE)\n",
        ""
      ],
      "metadata": {
        "colab": {
          "base_uri": "https://localhost:8080/"
        },
        "id": "79Ad5a0G54NR",
        "outputId": "b02b2314-11e8-4aa1-b27f-371690a66de2"
      },
      "execution_count": 6,
      "outputs": [
        {
          "output_type": "stream",
          "name": "stdout",
          "text": [
            "Found 1415 files belonging to 2 classes.\n",
            "Found 200 files belonging to 2 classes.\n"
          ]
        }
      ]
    },
    {
      "cell_type": "code",
      "source": [
        "\n",
        "train_data.class_names"
      ],
      "metadata": {
        "colab": {
          "base_uri": "https://localhost:8080/"
        },
        "id": "WV-Zhdec56Bt",
        "outputId": "6d9e6c6a-91c5-4071-86a2-27a1d2f98a47"
      },
      "execution_count": 7,
      "outputs": [
        {
          "output_type": "execute_result",
          "data": {
            "text/plain": [
              "['Benign', 'Malignant']"
            ]
          },
          "metadata": {},
          "execution_count": 7
        }
      ]
    },
    {
      "cell_type": "code",
      "source": [
        "from tensorflow.keras.preprocessing.image import ImageDataGenerator\n",
        "from tensorflow.keras.preprocessing.image import img_to_array\n",
        "from tensorflow.keras.preprocessing.image import load_img\n",
        "import numpy as np\n",
        "import random\n",
        "import math\n",
        "import csv\n",
        "import cv2\n",
        "import os"
      ],
      "metadata": {
        "id": "s8Oei0l158Ny"
      },
      "execution_count": 8,
      "outputs": []
    },
    {
      "cell_type": "code",
      "source": [
        "image_width = 224\n",
        "image_height = 224\n",
        "classes = ['Benign', 'Malignant']\n",
        "datagen = ImageDataGenerator(\n",
        "    rescale=1.0/255,\n",
        "    rotation_range=40,\n",
        "    width_shift_range=0.2,\n",
        "    height_shift_range=0.2,\n",
        "    shear_range=0.2,\n",
        "    zoom_range=0.2,\n",
        "    horizontal_flip=True,\n",
        "    fill_mode='nearest'\n",
        ")\n",
        "\n",
        "# Resimleri yüklemek için flow_from_directory kullanın\n",
        "train_generator = datagen.flow_from_directory(\n",
        "    directory=\"/content/drive/MyDrive/Tez Dosyaları/birlesik veriseti 2 classli/Train\",\n",
        "    target_size=(image_width, image_height),\n",
        "    batch_size=32,\n",
        "    class_mode='categorical',\n",
        "    subset='training'\n",
        ")\n",
        "\n",
        "# Her sınıf için resimleri ayrı ayrı arttırın\n",
        "for cls in classes:\n",
        "    # Sınıfın resimlerini yüklemek için flow_from_directory kullanın\n",
        "    cls_generator = datagen.flow_from_directory(\n",
        "        directory=\"/content/drive/MyDrive/Tez Dosyaları/birlesik veriseti 2 classli/Train\",\n",
        "        target_size=(image_width, image_height),\n",
        "        batch_size=32,\n",
        "        class_mode='categorical',\n",
        "        subset='training',\n",
        "        classes=[cls]\n",
        "    )\n",
        "\n",
        "    # Resimleri arttırın ve kaydedin\n",
        "    i = 0\n",
        "    for batch in cls_generator:\n",
        "        images, labels = batch\n",
        "        for image in images:\n",
        "            # Resmi kaydetmek için imwrite kullanın\n",
        "            cv2.imwrite(os.path.join(\"/content/drive/MyDrive/Tez Dosyaları/birlesik veriseti 2 classli/Train\", cls, f\"augmented_{i}.jpg\"), image * 255)\n",
        "            i += 1\n",
        "            if i >= 3000:  # Maksimum resim sayısına ulaşıldığında döngüyü durdur\n",
        "                break\n",
        "        else:\n",
        "            continue\n",
        "        break"
      ],
      "metadata": {
        "colab": {
          "base_uri": "https://localhost:8080/"
        },
        "id": "o9J17lKK6ZVF",
        "outputId": "4f578dbb-9d5c-4fe0-827f-6e6af4728865"
      },
      "execution_count": 10,
      "outputs": [
        {
          "output_type": "stream",
          "name": "stdout",
          "text": [
            "Found 1415 images belonging to 2 classes.\n",
            "Found 575 images belonging to 1 classes.\n",
            "Found 840 images belonging to 1 classes.\n"
          ]
        }
      ]
    },
    {
      "cell_type": "code",
      "source": [
        "# Load the augmented images for the malignant class\n",
        "augmented_images = os.listdir(\"/content/drive/MyDrive/Tez Dosyaları/birlesik veriseti 2 classli/Train/Malignant\")\n",
        "\n",
        "# Count the number of augmented images\n",
        "num_malignant_images = len(augmented_images)\n",
        "\n",
        "# Print the number of malignant images\n",
        "print(\"Number of malignant images:\", num_malignant_images)"
      ],
      "metadata": {
        "colab": {
          "base_uri": "https://localhost:8080/"
        },
        "id": "N6pedKVd6pUp",
        "outputId": "17334b86-1675-44cf-df01-59058bb675f2"
      },
      "execution_count": 11,
      "outputs": [
        {
          "output_type": "stream",
          "name": "stdout",
          "text": [
            "Number of malignant images: 3840\n"
          ]
        }
      ]
    },
    {
      "cell_type": "code",
      "source": [
        "augmented_images3 = os.listdir(\"/content/drive/MyDrive/Tez Dosyaları/birlesik veriseti 2 classli/Train/Benign\")\n",
        "\n",
        "# Count the number of augmented images\n",
        "num_benign_images = len(augmented_images3)\n",
        "\n",
        "# Print the number of malignant images\n",
        "print(\"Number of benign images:\", num_benign_images)"
      ],
      "metadata": {
        "colab": {
          "base_uri": "https://localhost:8080/"
        },
        "id": "km4NgH1x6uN6",
        "outputId": "7b24d003-2f82-453c-83ff-d876a25a6973"
      },
      "execution_count": 12,
      "outputs": [
        {
          "output_type": "stream",
          "name": "stdout",
          "text": [
            "Number of benign images: 3575\n"
          ]
        }
      ]
    },
    {
      "cell_type": "code",
      "source": [
        "import tensorflow as tf\n",
        "BATCH_SIZE = 32\n",
        "IMG_SIZE = (224, 224)\n",
        "train_data= tf.keras.preprocessing.image_dataset_from_directory(train_dir,\n",
        "                                                          label_mode=\"binary\",\n",
        "                                                          batch_size=BATCH_SIZE,\n",
        "                                                          image_size=IMG_SIZE)\n",
        "\n",
        "test_data = tf.keras.preprocessing.image_dataset_from_directory(test_dir,\n",
        "                                                          label_mode=\"binary\",\n",
        "                                                          batch_size=BATCH_SIZE,\n",
        "                                                          image_size=IMG_SIZE)"
      ],
      "metadata": {
        "colab": {
          "base_uri": "https://localhost:8080/"
        },
        "id": "3V4aJFaE6ysQ",
        "outputId": "c4202ffd-e95f-4dc8-c6e8-401b70eb0d7e"
      },
      "execution_count": 13,
      "outputs": [
        {
          "output_type": "stream",
          "name": "stdout",
          "text": [
            "Found 7415 files belonging to 2 classes.\n",
            "Found 200 files belonging to 2 classes.\n"
          ]
        }
      ]
    },
    {
      "cell_type": "code",
      "source": [
        "# 1.  create base model with tf.keras.applications\n",
        "base_model = tf.keras.applications.ResNet50(include_top=False)\n",
        "\n",
        "# 2. Freeze the base model\n",
        "base_model.trainable = False\n",
        "\n",
        "# 3. create inputs into our model\n",
        "inputs = tf.keras.layers.Input(shape=(224, 224, 3), name=\"input_layer\")\n",
        "\n",
        "# 4. if using ResNet50V2 you will need to normalize inputs\n",
        "# x = tf.keras.layers.experimental.preprocessing.Rescaling(1./255)(inputs)\n",
        "\n",
        "# 5. pass the inputs to the base_model\n",
        "x = base_model(inputs)\n",
        "print(f\"Shape after passing inputs through base model: {x.shape}\")\n",
        "\n",
        "# 6. average pool the outputs of the base model (aggregate all the most important information, reduce number of computations)\n",
        "x = tf.keras.layers.GlobalAveragePooling2D(name=\"global_average_pooling_layer\")(x)\n",
        "print(f\"Shape after GlobalAveragePooling2D: {x.shape}\")\n",
        "\n",
        "# 7. create the output activation layer\n",
        "outputs = tf.keras.layers.Dense(1, activation=\"sigmoid\", name=\"output_layer\")(x)\n",
        "model_0 = tf.keras.Model(inputs, outputs)\n",
        "\n",
        "# 8. compile the model\n",
        "model_0.compile(loss=\"binary_crossentropy\",\n",
        "                optimizer=tf.keras.optimizers.Adam(),\n",
        "                metrics=[\"accuracy\"])\n",
        "\n",
        "# 9. fit the model\n",
        "history_0 = model_0.fit(train_data,\n",
        "                        epochs=40,\n",
        "                        steps_per_epoch=len(train_data),\n",
        "                        validation_data=test_data,\n",
        "                        validation_steps=int(len(test_data)),\n",
        "                        callbacks=[create_tensorboard_callback(dir_name=\"transfer_learning\",\n",
        "                                                              experiment_name=\"10_percent_feature_extraction\")])\n",
        ""
      ],
      "metadata": {
        "colab": {
          "base_uri": "https://localhost:8080/"
        },
        "id": "DXX5hpOs61gx",
        "outputId": "ca6ac3cd-026f-495d-8ffd-f746735f240a"
      },
      "execution_count": 21,
      "outputs": [
        {
          "output_type": "stream",
          "name": "stdout",
          "text": [
            "Downloading data from https://storage.googleapis.com/tensorflow/keras-applications/resnet/resnet50_weights_tf_dim_ordering_tf_kernels_notop.h5\n",
            "94765736/94765736 [==============================] - 3s 0us/step\n",
            "Shape after passing inputs through base model: (None, 7, 7, 2048)\n",
            "Shape after GlobalAveragePooling2D: (None, 2048)\n",
            "Saving TensorBoard log files to: transfer_learning/10_percent_feature_extraction/20240725-222700\n",
            "Epoch 1/40\n",
            "232/232 [==============================] - 36s 128ms/step - loss: 0.6614 - accuracy: 0.6148 - val_loss: 0.6502 - val_accuracy: 0.6550\n",
            "Epoch 2/40\n",
            "232/232 [==============================] - 27s 112ms/step - loss: 0.5965 - accuracy: 0.6750 - val_loss: 0.6402 - val_accuracy: 0.6750\n",
            "Epoch 3/40\n",
            "232/232 [==============================] - 27s 112ms/step - loss: 0.5750 - accuracy: 0.6943 - val_loss: 0.6335 - val_accuracy: 0.6750\n",
            "Epoch 4/40\n",
            "232/232 [==============================] - 27s 113ms/step - loss: 0.5547 - accuracy: 0.7121 - val_loss: 0.6546 - val_accuracy: 0.6750\n",
            "Epoch 5/40\n",
            "232/232 [==============================] - 27s 112ms/step - loss: 0.5382 - accuracy: 0.7212 - val_loss: 0.6280 - val_accuracy: 0.6950\n",
            "Epoch 6/40\n",
            "232/232 [==============================] - 27s 112ms/step - loss: 0.5270 - accuracy: 0.7315 - val_loss: 0.6387 - val_accuracy: 0.6950\n",
            "Epoch 7/40\n",
            "232/232 [==============================] - 27s 113ms/step - loss: 0.5183 - accuracy: 0.7415 - val_loss: 0.6430 - val_accuracy: 0.7000\n",
            "Epoch 8/40\n",
            "232/232 [==============================] - 27s 113ms/step - loss: 0.5085 - accuracy: 0.7457 - val_loss: 0.6414 - val_accuracy: 0.6950\n",
            "Epoch 9/40\n",
            "232/232 [==============================] - 27s 113ms/step - loss: 0.5023 - accuracy: 0.7482 - val_loss: 0.6417 - val_accuracy: 0.6900\n",
            "Epoch 10/40\n",
            "232/232 [==============================] - 27s 113ms/step - loss: 0.4949 - accuracy: 0.7558 - val_loss: 0.6622 - val_accuracy: 0.6700\n",
            "Epoch 11/40\n",
            "232/232 [==============================] - 27s 113ms/step - loss: 0.4877 - accuracy: 0.7649 - val_loss: 0.6497 - val_accuracy: 0.6950\n",
            "Epoch 12/40\n",
            "232/232 [==============================] - 27s 113ms/step - loss: 0.4775 - accuracy: 0.7718 - val_loss: 0.6521 - val_accuracy: 0.7050\n",
            "Epoch 13/40\n",
            "232/232 [==============================] - 27s 114ms/step - loss: 0.4744 - accuracy: 0.7726 - val_loss: 0.6527 - val_accuracy: 0.7050\n",
            "Epoch 14/40\n",
            "232/232 [==============================] - 27s 112ms/step - loss: 0.4688 - accuracy: 0.7787 - val_loss: 0.6757 - val_accuracy: 0.6700\n",
            "Epoch 15/40\n",
            "232/232 [==============================] - 27s 114ms/step - loss: 0.4627 - accuracy: 0.7798 - val_loss: 0.6635 - val_accuracy: 0.7150\n",
            "Epoch 16/40\n",
            "232/232 [==============================] - 27s 113ms/step - loss: 0.4571 - accuracy: 0.7846 - val_loss: 0.6622 - val_accuracy: 0.6800\n",
            "Epoch 17/40\n",
            "232/232 [==============================] - 27s 113ms/step - loss: 0.4562 - accuracy: 0.7852 - val_loss: 0.6695 - val_accuracy: 0.6850\n",
            "Epoch 18/40\n",
            "232/232 [==============================] - 27s 112ms/step - loss: 0.4524 - accuracy: 0.7837 - val_loss: 0.6663 - val_accuracy: 0.7000\n",
            "Epoch 19/40\n",
            "232/232 [==============================] - 27s 113ms/step - loss: 0.4461 - accuracy: 0.7906 - val_loss: 0.6737 - val_accuracy: 0.6850\n",
            "Epoch 20/40\n",
            "232/232 [==============================] - 28s 116ms/step - loss: 0.4468 - accuracy: 0.7875 - val_loss: 0.6935 - val_accuracy: 0.6750\n",
            "Epoch 21/40\n",
            "232/232 [==============================] - 27s 113ms/step - loss: 0.4436 - accuracy: 0.7915 - val_loss: 0.6803 - val_accuracy: 0.6850\n",
            "Epoch 22/40\n",
            "232/232 [==============================] - 27s 113ms/step - loss: 0.4406 - accuracy: 0.7955 - val_loss: 0.6933 - val_accuracy: 0.6750\n",
            "Epoch 23/40\n",
            "232/232 [==============================] - 27s 114ms/step - loss: 0.4319 - accuracy: 0.7988 - val_loss: 0.6964 - val_accuracy: 0.6850\n",
            "Epoch 24/40\n",
            "232/232 [==============================] - 27s 113ms/step - loss: 0.4303 - accuracy: 0.8040 - val_loss: 0.6978 - val_accuracy: 0.6700\n",
            "Epoch 25/40\n",
            "232/232 [==============================] - 27s 113ms/step - loss: 0.4289 - accuracy: 0.8039 - val_loss: 0.6974 - val_accuracy: 0.6950\n",
            "Epoch 26/40\n",
            "232/232 [==============================] - 27s 113ms/step - loss: 0.4226 - accuracy: 0.8101 - val_loss: 0.6996 - val_accuracy: 0.6600\n",
            "Epoch 27/40\n",
            "232/232 [==============================] - 27s 113ms/step - loss: 0.4307 - accuracy: 0.8016 - val_loss: 0.6922 - val_accuracy: 0.7000\n",
            "Epoch 28/40\n",
            "232/232 [==============================] - 27s 114ms/step - loss: 0.4183 - accuracy: 0.8111 - val_loss: 0.6931 - val_accuracy: 0.6700\n",
            "Epoch 29/40\n",
            "232/232 [==============================] - 28s 116ms/step - loss: 0.4179 - accuracy: 0.8043 - val_loss: 0.7510 - val_accuracy: 0.6200\n",
            "Epoch 30/40\n",
            "232/232 [==============================] - 27s 113ms/step - loss: 0.4170 - accuracy: 0.8077 - val_loss: 0.7007 - val_accuracy: 0.6650\n",
            "Epoch 31/40\n",
            "232/232 [==============================] - 27s 113ms/step - loss: 0.4169 - accuracy: 0.8124 - val_loss: 0.6966 - val_accuracy: 0.6750\n",
            "Epoch 32/40\n",
            "232/232 [==============================] - 27s 114ms/step - loss: 0.4061 - accuracy: 0.8185 - val_loss: 0.7078 - val_accuracy: 0.6700\n",
            "Epoch 33/40\n",
            "232/232 [==============================] - 27s 113ms/step - loss: 0.4075 - accuracy: 0.8171 - val_loss: 0.7372 - val_accuracy: 0.6500\n",
            "Epoch 34/40\n",
            "232/232 [==============================] - 27s 112ms/step - loss: 0.4120 - accuracy: 0.8123 - val_loss: 0.7137 - val_accuracy: 0.6750\n",
            "Epoch 35/40\n",
            "232/232 [==============================] - 27s 113ms/step - loss: 0.4025 - accuracy: 0.8217 - val_loss: 0.7130 - val_accuracy: 0.6900\n",
            "Epoch 36/40\n",
            "232/232 [==============================] - 27s 113ms/step - loss: 0.4004 - accuracy: 0.8221 - val_loss: 0.7321 - val_accuracy: 0.6450\n",
            "Epoch 37/40\n",
            "232/232 [==============================] - 27s 113ms/step - loss: 0.4052 - accuracy: 0.8169 - val_loss: 0.7161 - val_accuracy: 0.6850\n",
            "Epoch 38/40\n",
            "232/232 [==============================] - 27s 114ms/step - loss: 0.3991 - accuracy: 0.8217 - val_loss: 0.7197 - val_accuracy: 0.6800\n",
            "Epoch 39/40\n",
            "232/232 [==============================] - 27s 112ms/step - loss: 0.3992 - accuracy: 0.8208 - val_loss: 0.7160 - val_accuracy: 0.6800\n",
            "Epoch 40/40\n",
            "232/232 [==============================] - 27s 112ms/step - loss: 0.3971 - accuracy: 0.8225 - val_loss: 0.7346 - val_accuracy: 0.6500\n"
          ]
        }
      ]
    },
    {
      "cell_type": "code",
      "source": [
        "import matplotlib.pyplot as plt\n",
        "\n",
        "def plot_loss_curves(history):\n",
        "  \"\"\"\n",
        "  Returns separate loss curves for training and validation metrics.\n",
        "  Args:\n",
        "    history: TensorFlow History object.\n",
        "\n",
        "    Returns:\n",
        "    Plots of training/validation loss and accuracy metrics.\n",
        "  \"\"\"\n",
        "  loss = history.history['loss']\n",
        "  val_loss = history.history['val_loss']\n",
        "\n",
        "  accuracy = history.history['accuracy']\n",
        "  val_accuracy = history.history['val_accuracy']\n",
        "\n",
        "  epochs = range(len(history.history['loss']))\n",
        "\n",
        "  #Plot loss\n",
        "\n",
        "  plt.plot(epochs, loss, label='training_loss')\n",
        "  plt.plot(epochs, val_loss, label='val_loss')\n",
        "  plt.title('Loss')\n",
        "  plt.xlabel('Epochs')\n",
        "  plt.legend()\n",
        "\n",
        "  #Plot accuracy\n",
        "  plt.figure()\n",
        "  plt.plot(epochs, accuracy, label='training_accuracy')\n",
        "  plt.plot(epochs, val_accuracy, label='val_accuracy')\n",
        "  plt.title('Accuracy')\n",
        "  plt.xlabel('Epochs')\n",
        "  plt.legend();\n",
        "\n",
        "plot_loss_curves(history_0)"
      ],
      "metadata": {
        "colab": {
          "base_uri": "https://localhost:8080/",
          "height": 927
        },
        "id": "cSQ_yPMD64rw",
        "outputId": "fbc25010-adfe-4b5a-861c-4451bac7b13c"
      },
      "execution_count": 22,
      "outputs": [
        {
          "output_type": "display_data",
          "data": {
            "text/plain": [
              "<Figure size 640x480 with 1 Axes>"
            ],
            "image/png": "[encoded data removed]"
          },
          "metadata": {}
        },
        {
          "output_type": "display_data",
          "data": {
            "text/plain": [
              "<Figure size 640x480 with 1 Axes>"
            ],
            "image/png": "[encoded data removed]"
          },
          "metadata": {}
        }
      ]
    },
    {
      "cell_type": "code",
      "source": [
        "results_feature_extraction = model_0.evaluate(test_data)\n",
        "results_feature_extraction"
      ],
      "metadata": {
        "colab": {
          "base_uri": "https://localhost:8080/"
        },
        "id": "4-Z9Zsa-_2Ss",
        "outputId": "3e730f4a-11f0-44ee-a795-6011b2ee5172"
      },
      "execution_count": 23,
      "outputs": [
        {
          "output_type": "stream",
          "name": "stdout",
          "text": [
            "7/7 [==============================] - 2s 85ms/step - loss: 0.7346 - accuracy: 0.6500\n"
          ]
        },
        {
          "output_type": "execute_result",
          "data": {
            "text/plain": [
              "[0.7346136569976807, 0.6499999761581421]"
            ]
          },
          "metadata": {},
          "execution_count": 23
        }
      ]
    },
    {
      "cell_type": "code",
      "source": [
        "# Get the predicted probabilities for the test set\n",
        "y_pred_probs = model_0.predict(test_data)\n",
        "\n",
        "# Convert probabilities to binary predictions (0 or 1)\n",
        "y_pred = (y_pred_probs > 0.5).astype(int)\n",
        "\n",
        "# Get the true labels for the test set\n",
        "y_true = np.concatenate([y for x, y in test_data], axis=0)\n",
        "\n",
        "# Calculate precision\n",
        "from sklearn.metrics import precision_score\n",
        "precision = precision_score(y_true, y_pred)\n",
        "print(\"Precision:\", precision)"
      ],
      "metadata": {
        "colab": {
          "base_uri": "https://localhost:8080/"
        },
        "id": "PjVRcMRX_4Cf",
        "outputId": "b6d091d1-f4b7-4125-c7d0-bde996475ba4"
      },
      "execution_count": 24,
      "outputs": [
        {
          "output_type": "stream",
          "name": "stdout",
          "text": [
            "7/7 [==============================] - 3s 97ms/step\n",
            "Precision: 0.47674418604651164\n"
          ]
        }
      ]
    },
    {
      "cell_type": "code",
      "source": [
        "from sklearn.metrics import recall_score\n",
        "\n",
        "# Calculate recall\n",
        "recall = recall_score(y_true, y_pred)\n",
        "print(\"Recall:\", recall)"
      ],
      "metadata": {
        "colab": {
          "base_uri": "https://localhost:8080/"
        },
        "id": "trYqnm_W_5sm",
        "outputId": "fe267806-94ca-4e8a-a8bc-cd8b1aca40e8"
      },
      "execution_count": 25,
      "outputs": [
        {
          "output_type": "stream",
          "name": "stdout",
          "text": [
            "Recall: 0.41\n"
          ]
        }
      ]
    },
    {
      "cell_type": "code",
      "source": [
        "from sklearn.metrics import f1_score\n",
        "# Calculate F1-score\n",
        "f1 = f1_score(y_true, y_pred)\n",
        "print(\"F1-score:\", f1)"
      ],
      "metadata": {
        "colab": {
          "base_uri": "https://localhost:8080/"
        },
        "id": "23Hf6u_a_7sJ",
        "outputId": "0790c1f2-7375-4cf6-d67c-5844690c9fa1"
      },
      "execution_count": 26,
      "outputs": [
        {
          "output_type": "stream",
          "name": "stdout",
          "text": [
            "F1-score: 0.44086021505376344\n"
          ]
        }
      ]
    },
    {
      "cell_type": "code",
      "source": [
        "# Eğitim doğruluğunu elde etmek için history_0 nesnesini kullanın\n",
        "train_accuracy = history_0.history['accuracy']\n",
        "\n",
        "# Son epoch'un eğitim doğruluğunu yazdırın\n",
        "print(\"Eğitim doğruluğu:\", train_accuracy[-1])"
      ],
      "metadata": {
        "colab": {
          "base_uri": "https://localhost:8080/"
        },
        "id": "HNleJD9j_9i0",
        "outputId": "2ebbeb31-7e5d-48ad-e4d3-df4f1e13e5db"
      },
      "execution_count": 27,
      "outputs": [
        {
          "output_type": "stream",
          "name": "stdout",
          "text": [
            "Eğitim doğruluğu: 0.8225219249725342\n"
          ]
        }
      ]
    },
    {
      "cell_type": "code",
      "source": [],
      "metadata": {
        "id": "P-RzwW_B__BG"
      },
      "execution_count": null,
      "outputs": []
    }
  ]
}