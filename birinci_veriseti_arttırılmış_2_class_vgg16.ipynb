{
  "nbformat": 4,
  "nbformat_minor": 0,
  "metadata": {
    "colab": {
      "provenance": [],
      "machine_shape": "hm",
      "gpuType": "T4"
    },
    "kernelspec": {
      "name": "python3",
      "display_name": "Python 3"
    },
    "language_info": {
      "name": "python"
    },
    "accelerator": "GPU"
  },
  "cells": [
    {
      "cell_type": "code",
      "execution_count": 1,
      "metadata": {
        "colab": {
          "base_uri": "https://localhost:8080/"
        },
        "id": "7zYufOz9oa_N",
        "outputId": "3f102e2a-2459-44fa-d14b-2bd2f6010740"
      },
      "outputs": [
        {
          "output_type": "stream",
          "name": "stdout",
          "text": [
            "--2024-07-24 07:27:35--  https://raw.githubusercontent.com/mrdbourke/tensorflow-deep-learning/main/extras/helper_functions.py\n",
            "Resolving raw.githubusercontent.com (raw.githubusercontent.com)... 185.199.108.133, 185.199.109.133, 185.199.110.133, ...\n",
            "Connecting to raw.githubusercontent.com (raw.githubusercontent.com)|185.199.108.133|:443... connected.\n",
            "HTTP request sent, awaiting response... 200 OK\n",
            "Length: 10246 (10K) [text/plain]\n",
            "Saving to: ‘helper_functions.py’\n",
            "\n",
            "helper_functions.py 100%[===================>]  10.01K  --.-KB/s    in 0s      \n",
            "\n",
            "2024-07-24 07:27:35 (88.0 MB/s) - ‘helper_functions.py’ saved [10246/10246]\n",
            "\n"
          ]
        }
      ],
      "source": [
        "#Transfer Learning with Tensorflow\n",
        "\n",
        "!wget https://raw.githubusercontent.com/mrdbourke/tensorflow-deep-learning/main/extras/helper_functions.py\n"
      ]
    },
    {
      "cell_type": "code",
      "source": [
        "#import helper functions we're going to use in this notebook\n",
        "\n",
        "from helper_functions import create_tensorboard_callback, plot_loss_curves, unzip_data, walk_through_dir\n"
      ],
      "metadata": {
        "id": "O_qnA4gdo2O8"
      },
      "execution_count": 2,
      "outputs": []
    },
    {
      "cell_type": "code",
      "source": [
        "import os\n",
        "\n",
        "for dirpath, dirnames, filenames in os.walk(\"/content/drive/MyDrive/Tez Dosyaları/birinci veriseti 2 classlı\"):\n",
        "  print(f\"There are {len(dirnames)} directories and {len(filenames)} images in '{dirpath}'.\")\n"
      ],
      "metadata": {
        "colab": {
          "base_uri": "https://localhost:8080/"
        },
        "id": "5UG9jTYqo4WG",
        "outputId": "0a86e57f-5d3d-42a5-b679-62a8f518d515"
      },
      "execution_count": 3,
      "outputs": [
        {
          "output_type": "stream",
          "name": "stdout",
          "text": [
            "There are 2 directories and 0 images in '/content/drive/MyDrive/Tez Dosyaları/birinci veriseti 2 classlı'.\n",
            "There are 2 directories and 0 images in '/content/drive/MyDrive/Tez Dosyaları/birinci veriseti 2 classlı/Test'.\n",
            "There are 0 directories and 66 images in '/content/drive/MyDrive/Tez Dosyaları/birinci veriseti 2 classlı/Test/Malignant'.\n",
            "There are 0 directories and 60 images in '/content/drive/MyDrive/Tez Dosyaları/birinci veriseti 2 classlı/Test/Benign'.\n",
            "There are 2 directories and 0 images in '/content/drive/MyDrive/Tez Dosyaları/birinci veriseti 2 classlı/Train'.\n",
            "There are 0 directories and 527 images in '/content/drive/MyDrive/Tez Dosyaları/birinci veriseti 2 classlı/Train/Benign'.\n",
            "There are 0 directories and 596 images in '/content/drive/MyDrive/Tez Dosyaları/birinci veriseti 2 classlı/Train/Malignant'.\n"
          ]
        }
      ]
    },
    {
      "cell_type": "code",
      "source": [
        "train_dir = \"/content/drive/MyDrive/Tez Dosyaları/birinci veriseti 2 classlı/Train\"\n",
        "test_dir = \"/content/drive/MyDrive/Tez Dosyaları/birinci veriseti 2 classlı/Test\""
      ],
      "metadata": {
        "id": "sUP8hSUbo_uV"
      },
      "execution_count": 5,
      "outputs": []
    },
    {
      "cell_type": "code",
      "source": [
        "import tensorflow as tf\n",
        "BATCH_SIZE = 32\n",
        "IMG_SIZE = (224, 224)\n",
        "train_data= tf.keras.preprocessing.image_dataset_from_directory(train_dir,\n",
        "                                                          label_mode=\"binary\",\n",
        "                                                          batch_size=BATCH_SIZE,\n",
        "                                                          image_size=IMG_SIZE)\n",
        "\n",
        "test_data = tf.keras.preprocessing.image_dataset_from_directory(test_dir,\n",
        "                                                          label_mode=\"binary\",\n",
        "                                                          batch_size=BATCH_SIZE,\n",
        "                                                          image_size=IMG_SIZE)"
      ],
      "metadata": {
        "colab": {
          "base_uri": "https://localhost:8080/"
        },
        "id": "21jyZv6-pC1g",
        "outputId": "ad9c78e5-0292-45d9-9b8b-5bf027c6ac72"
      },
      "execution_count": 6,
      "outputs": [
        {
          "output_type": "stream",
          "name": "stdout",
          "text": [
            "Found 1123 files belonging to 2 classes.\n",
            "Found 126 files belonging to 2 classes.\n"
          ]
        }
      ]
    },
    {
      "cell_type": "code",
      "source": [
        "train_data.class_names"
      ],
      "metadata": {
        "colab": {
          "base_uri": "https://localhost:8080/"
        },
        "id": "evlYqBN4pSZC",
        "outputId": "01a9dd5a-91cc-489a-e858-4a9cc81f7e87"
      },
      "execution_count": 7,
      "outputs": [
        {
          "output_type": "execute_result",
          "data": {
            "text/plain": [
              "['Benign', 'Malignant']"
            ]
          },
          "metadata": {},
          "execution_count": 7
        }
      ]
    },
    {
      "cell_type": "code",
      "source": [
        "\n",
        "from tensorflow.keras.preprocessing.image import ImageDataGenerator\n",
        "from tensorflow.keras.preprocessing.image import img_to_array\n",
        "from tensorflow.keras.preprocessing.image import load_img\n",
        "import numpy as np\n",
        "import random\n",
        "import math\n",
        "import csv\n",
        "import cv2\n",
        "import os"
      ],
      "metadata": {
        "id": "5ZcLeIhapXfH"
      },
      "execution_count": 8,
      "outputs": []
    },
    {
      "cell_type": "code",
      "source": [
        "image_width = 224\n",
        "image_height = 224\n",
        "classes = ['Benign', 'Malignant']\n",
        "datagen = ImageDataGenerator(\n",
        "    rescale=1.0/255,\n",
        "    rotation_range=40,\n",
        "    width_shift_range=0.2,\n",
        "    height_shift_range=0.2,\n",
        "    shear_range=0.2,\n",
        "    zoom_range=0.2,\n",
        "    horizontal_flip=True,\n",
        "    fill_mode='nearest'\n",
        ")\n",
        "\n",
        "# Resimleri yüklemek için flow_from_directory kullanın\n",
        "train_generator = datagen.flow_from_directory(\n",
        "    directory=\"/content/drive/MyDrive/Tez Dosyaları/birinci veriseti 2 classlı/Train\",\n",
        "    target_size=(image_width, image_height),\n",
        "    batch_size=32,\n",
        "    class_mode='categorical',\n",
        "    subset='training'\n",
        ")\n",
        "\n",
        "# Her sınıf için resimleri ayrı ayrı arttırın\n",
        "for cls in classes:\n",
        "    # Sınıfın resimlerini yüklemek için flow_from_directory kullanın\n",
        "    cls_generator = datagen.flow_from_directory(\n",
        "        directory=\"/content/drive/MyDrive/Tez Dosyaları/birinci veriseti 2 classlı/Train\",\n",
        "        target_size=(image_width, image_height),\n",
        "        batch_size=32,\n",
        "        class_mode='categorical',\n",
        "        subset='training',\n",
        "        classes=[cls]\n",
        "    )\n",
        "\n",
        "    # Resimleri arttırın ve kaydedin\n",
        "    i = 0\n",
        "    for batch in cls_generator:\n",
        "        images, labels = batch\n",
        "        for image in images:\n",
        "            # Resmi kaydetmek için imwrite kullanın\n",
        "            cv2.imwrite(os.path.join(\"/content/drive/MyDrive/Tez Dosyaları/birinci veriseti 2 classlı/Train\", cls, f\"augmented_{i}.jpg\"), image * 255)\n",
        "            i += 1\n",
        "            if i >= 3000:  # Maksimum resim sayısına ulaşıldığında döngüyü durdur\n",
        "                break\n",
        "        else:\n",
        "            continue\n",
        "        break"
      ],
      "metadata": {
        "colab": {
          "base_uri": "https://localhost:8080/"
        },
        "id": "PnPkrlO0pZyE",
        "outputId": "4dd1cf52-7cc7-4085-c41b-8a027018c4ee"
      },
      "execution_count": 9,
      "outputs": [
        {
          "output_type": "stream",
          "name": "stdout",
          "text": [
            "Found 1123 images belonging to 2 classes.\n",
            "Found 527 images belonging to 1 classes.\n",
            "Found 596 images belonging to 1 classes.\n"
          ]
        }
      ]
    },
    {
      "cell_type": "code",
      "source": [
        "\n",
        "# Load the augmented images for the malignant class\n",
        "augmented_images = os.listdir(\"/content/drive/MyDrive/Tez Dosyaları/birinci veriseti 2 classlı/Train/Malignant\")\n",
        "\n",
        "# Count the number of augmented images\n",
        "num_malignant_images = len(augmented_images)\n",
        "\n",
        "# Print the number of malignant images\n",
        "print(\"Number of malignant images:\", num_malignant_images)"
      ],
      "metadata": {
        "colab": {
          "base_uri": "https://localhost:8080/"
        },
        "id": "mcQHH8capsOF",
        "outputId": "2cb5bbfe-0377-47d1-9169-14fa52963764"
      },
      "execution_count": 10,
      "outputs": [
        {
          "output_type": "stream",
          "name": "stdout",
          "text": [
            "Number of malignant images: 3596\n"
          ]
        }
      ]
    },
    {
      "cell_type": "code",
      "source": [
        "augmented_images3 = os.listdir(\"/content/drive/MyDrive/Tez Dosyaları/birinci veriseti 2 classlı/Train/Benign\")\n",
        "\n",
        "# Count the number of augmented images\n",
        "num_benign_images = len(augmented_images3)\n",
        "\n",
        "# Print the number of malignant images\n",
        "print(\"Number of benign images:\", num_benign_images)"
      ],
      "metadata": {
        "colab": {
          "base_uri": "https://localhost:8080/"
        },
        "id": "I2xK1CadpxCX",
        "outputId": "d59749ef-adc6-438a-c924-2b5437b2fc5b"
      },
      "execution_count": 11,
      "outputs": [
        {
          "output_type": "stream",
          "name": "stdout",
          "text": [
            "Number of benign images: 3527\n"
          ]
        }
      ]
    },
    {
      "cell_type": "code",
      "source": [
        "import tensorflow as tf\n",
        "BATCH_SIZE = 32\n",
        "IMG_SIZE = (224, 224)\n",
        "train_data= tf.keras.preprocessing.image_dataset_from_directory(train_dir,\n",
        "                                                          label_mode=\"binary\",\n",
        "                                                          batch_size=BATCH_SIZE,\n",
        "                                                          image_size=IMG_SIZE)\n",
        "\n",
        "test_data = tf.keras.preprocessing.image_dataset_from_directory(test_dir,\n",
        "                                                          label_mode=\"binary\",\n",
        "                                                          batch_size=BATCH_SIZE,\n",
        "                                                          image_size=IMG_SIZE)"
      ],
      "metadata": {
        "colab": {
          "base_uri": "https://localhost:8080/"
        },
        "id": "Qy5s7nkMqJHL",
        "outputId": "4d25657a-45bb-4738-b565-99aea1954d15"
      },
      "execution_count": 15,
      "outputs": [
        {
          "output_type": "stream",
          "name": "stdout",
          "text": [
            "Found 7123 files belonging to 2 classes.\n",
            "Found 126 files belonging to 2 classes.\n"
          ]
        }
      ]
    },
    {
      "cell_type": "code",
      "source": [
        "\n",
        "# 1.  create base model with tf.keras.applications\n",
        "base_model = tf.keras.applications.VGG16(include_top=False)\n",
        "\n",
        "# 2. Freeze the base model\n",
        "base_model.trainable = False\n",
        "\n",
        "# 3. create inputs into our model\n",
        "inputs = tf.keras.layers.Input(shape=(224, 224, 3), name=\"input_layer\")\n",
        "\n",
        "# 4. if using ResNet50V2 you will need to normalize inputs\n",
        "# x = tf.keras.layers.experimental.preprocessing.Rescaling(1./255)(inputs)\n",
        "\n",
        "# 5. pass the inputs to the base_model\n",
        "x = base_model(inputs)\n",
        "print(f\"Shape after passing inputs through base model: {x.shape}\")\n",
        "\n",
        "# 6. average pool the outputs of the base model (aggregate all the most important information, reduce number of computations)\n",
        "x = tf.keras.layers.GlobalAveragePooling2D(name=\"global_average_pooling_layer\")(x)\n",
        "print(f\"Shape after GlobalAveragePooling2D: {x.shape}\")\n",
        "\n",
        "# 7. create the output activation layer\n",
        "outputs = tf.keras.layers.Dense(1, activation=\"sigmoid\", name=\"output_layer\")(x)\n",
        "model_0 = tf.keras.Model(inputs, outputs)\n",
        "\n",
        "# 8. compile the model\n",
        "model_0.compile(loss=\"binary_crossentropy\",\n",
        "                optimizer=tf.keras.optimizers.Adam(),\n",
        "                metrics=[\"accuracy\"])\n",
        "\n",
        "# 9. fit the model\n",
        "history_0 = model_0.fit(train_data,\n",
        "                        epochs=40,\n",
        "                        steps_per_epoch=len(train_data),\n",
        "                        validation_data=test_data,\n",
        "                        validation_steps=int(len(test_data)),\n",
        "                        callbacks=[create_tensorboard_callback(dir_name=\"transfer_learning\",\n",
        "                                                              experiment_name=\"10_percent_feature_extraction\")])\n",
        ""
      ],
      "metadata": {
        "colab": {
          "base_uri": "https://localhost:8080/"
        },
        "id": "OfQ9rZKCqPf2",
        "outputId": "314be7ad-c4dc-4db4-a2bc-86b335e590da"
      },
      "execution_count": 38,
      "outputs": [
        {
          "output_type": "stream",
          "name": "stdout",
          "text": [
            "Downloading data from https://storage.googleapis.com/tensorflow/keras-applications/vgg16/vgg16_weights_tf_dim_ordering_tf_kernels_notop.h5\n",
            "58889256/58889256 [==============================] - 3s 0us/step\n",
            "Shape after passing inputs through base model: (None, 7, 7, 512)\n",
            "Shape after GlobalAveragePooling2D: (None, 512)\n",
            "Saving TensorBoard log files to: transfer_learning/10_percent_feature_extraction/20240724-085804\n",
            "Epoch 1/40\n",
            "223/223 [==============================] - 51s 191ms/step - loss: 0.8579 - accuracy: 0.5531 - val_loss: 0.6782 - val_accuracy: 0.5873\n",
            "Epoch 2/40\n",
            "223/223 [==============================] - 30s 132ms/step - loss: 0.6826 - accuracy: 0.6169 - val_loss: 0.6591 - val_accuracy: 0.6111\n",
            "Epoch 3/40\n",
            "223/223 [==============================] - 31s 136ms/step - loss: 0.6314 - accuracy: 0.6563 - val_loss: 0.6173 - val_accuracy: 0.6667\n",
            "Epoch 4/40\n",
            "223/223 [==============================] - 31s 135ms/step - loss: 0.6103 - accuracy: 0.6697 - val_loss: 0.6164 - val_accuracy: 0.6508\n",
            "Epoch 5/40\n",
            "223/223 [==============================] - 31s 134ms/step - loss: 0.5885 - accuracy: 0.6859 - val_loss: 0.6166 - val_accuracy: 0.6667\n",
            "Epoch 6/40\n",
            "223/223 [==============================] - 31s 136ms/step - loss: 0.5803 - accuracy: 0.6907 - val_loss: 0.6251 - val_accuracy: 0.6905\n",
            "Epoch 7/40\n",
            "223/223 [==============================] - 31s 135ms/step - loss: 0.5657 - accuracy: 0.7029 - val_loss: 0.6023 - val_accuracy: 0.6984\n",
            "Epoch 8/40\n",
            "223/223 [==============================] - 31s 135ms/step - loss: 0.5580 - accuracy: 0.7126 - val_loss: 0.6008 - val_accuracy: 0.6905\n",
            "Epoch 9/40\n",
            "223/223 [==============================] - 31s 135ms/step - loss: 0.5528 - accuracy: 0.7159 - val_loss: 0.6310 - val_accuracy: 0.6905\n",
            "Epoch 10/40\n",
            "223/223 [==============================] - 31s 136ms/step - loss: 0.5524 - accuracy: 0.7140 - val_loss: 0.5969 - val_accuracy: 0.6905\n",
            "Epoch 11/40\n",
            "223/223 [==============================] - 31s 135ms/step - loss: 0.5461 - accuracy: 0.7210 - val_loss: 0.6589 - val_accuracy: 0.6429\n",
            "Epoch 12/40\n",
            "223/223 [==============================] - 31s 134ms/step - loss: 0.5463 - accuracy: 0.7157 - val_loss: 0.6041 - val_accuracy: 0.6825\n",
            "Epoch 13/40\n",
            "223/223 [==============================] - 31s 137ms/step - loss: 0.5410 - accuracy: 0.7239 - val_loss: 0.6205 - val_accuracy: 0.6984\n",
            "Epoch 14/40\n",
            "223/223 [==============================] - 31s 135ms/step - loss: 0.5408 - accuracy: 0.7213 - val_loss: 0.6188 - val_accuracy: 0.7063\n",
            "Epoch 15/40\n",
            "223/223 [==============================] - 31s 135ms/step - loss: 0.5394 - accuracy: 0.7262 - val_loss: 0.6183 - val_accuracy: 0.6825\n",
            "Epoch 16/40\n",
            "223/223 [==============================] - 31s 136ms/step - loss: 0.5344 - accuracy: 0.7285 - val_loss: 0.6347 - val_accuracy: 0.6825\n",
            "Epoch 17/40\n",
            "223/223 [==============================] - 31s 135ms/step - loss: 0.5365 - accuracy: 0.7305 - val_loss: 0.6534 - val_accuracy: 0.6746\n",
            "Epoch 18/40\n",
            "223/223 [==============================] - 31s 135ms/step - loss: 0.5338 - accuracy: 0.7313 - val_loss: 0.6199 - val_accuracy: 0.6746\n",
            "Epoch 19/40\n",
            "223/223 [==============================] - 31s 135ms/step - loss: 0.5375 - accuracy: 0.7260 - val_loss: 0.6269 - val_accuracy: 0.6984\n",
            "Epoch 20/40\n",
            "223/223 [==============================] - 31s 136ms/step - loss: 0.5358 - accuracy: 0.7269 - val_loss: 0.6282 - val_accuracy: 0.6905\n",
            "Epoch 21/40\n",
            "223/223 [==============================] - 31s 136ms/step - loss: 0.5349 - accuracy: 0.7257 - val_loss: 0.7709 - val_accuracy: 0.6111\n",
            "Epoch 22/40\n",
            "223/223 [==============================] - 31s 135ms/step - loss: 0.5345 - accuracy: 0.7297 - val_loss: 0.6420 - val_accuracy: 0.6825\n",
            "Epoch 23/40\n",
            "223/223 [==============================] - 31s 135ms/step - loss: 0.5339 - accuracy: 0.7297 - val_loss: 0.6569 - val_accuracy: 0.6667\n",
            "Epoch 24/40\n",
            "223/223 [==============================] - 31s 135ms/step - loss: 0.5299 - accuracy: 0.7341 - val_loss: 0.6310 - val_accuracy: 0.6984\n",
            "Epoch 25/40\n",
            "223/223 [==============================] - 31s 136ms/step - loss: 0.5336 - accuracy: 0.7230 - val_loss: 0.6319 - val_accuracy: 0.6984\n",
            "Epoch 26/40\n",
            "223/223 [==============================] - 31s 136ms/step - loss: 0.5334 - accuracy: 0.7319 - val_loss: 0.6299 - val_accuracy: 0.6984\n",
            "Epoch 27/40\n",
            "223/223 [==============================] - 31s 136ms/step - loss: 0.5290 - accuracy: 0.7338 - val_loss: 0.6447 - val_accuracy: 0.6825\n",
            "Epoch 28/40\n",
            "223/223 [==============================] - 31s 135ms/step - loss: 0.5277 - accuracy: 0.7313 - val_loss: 0.6349 - val_accuracy: 0.6905\n",
            "Epoch 29/40\n",
            "223/223 [==============================] - 31s 136ms/step - loss: 0.5279 - accuracy: 0.7297 - val_loss: 0.6373 - val_accuracy: 0.6746\n",
            "Epoch 30/40\n",
            "223/223 [==============================] - 31s 135ms/step - loss: 0.5272 - accuracy: 0.7305 - val_loss: 0.6476 - val_accuracy: 0.6905\n",
            "Epoch 31/40\n",
            "223/223 [==============================] - 31s 135ms/step - loss: 0.5270 - accuracy: 0.7356 - val_loss: 0.6313 - val_accuracy: 0.6905\n",
            "Epoch 32/40\n",
            "223/223 [==============================] - 31s 135ms/step - loss: 0.5307 - accuracy: 0.7310 - val_loss: 0.6317 - val_accuracy: 0.6984\n",
            "Epoch 33/40\n",
            "223/223 [==============================] - 31s 136ms/step - loss: 0.5255 - accuracy: 0.7327 - val_loss: 0.6525 - val_accuracy: 0.6587\n",
            "Epoch 34/40\n",
            "223/223 [==============================] - 31s 136ms/step - loss: 0.5307 - accuracy: 0.7295 - val_loss: 0.6370 - val_accuracy: 0.6905\n",
            "Epoch 35/40\n",
            "223/223 [==============================] - 31s 135ms/step - loss: 0.5285 - accuracy: 0.7314 - val_loss: 0.6390 - val_accuracy: 0.6746\n",
            "Epoch 36/40\n",
            "223/223 [==============================] - 31s 135ms/step - loss: 0.5325 - accuracy: 0.7331 - val_loss: 0.6350 - val_accuracy: 0.6984\n",
            "Epoch 37/40\n",
            "223/223 [==============================] - 31s 135ms/step - loss: 0.5260 - accuracy: 0.7314 - val_loss: 0.6585 - val_accuracy: 0.6746\n",
            "Epoch 38/40\n",
            "223/223 [==============================] - 31s 135ms/step - loss: 0.5271 - accuracy: 0.7334 - val_loss: 0.6522 - val_accuracy: 0.6825\n",
            "Epoch 39/40\n",
            "223/223 [==============================] - 31s 135ms/step - loss: 0.5263 - accuracy: 0.7338 - val_loss: 0.6592 - val_accuracy: 0.6746\n",
            "Epoch 40/40\n",
            "223/223 [==============================] - 31s 136ms/step - loss: 0.5267 - accuracy: 0.7320 - val_loss: 0.6699 - val_accuracy: 0.6508\n"
          ]
        }
      ]
    },
    {
      "cell_type": "code",
      "source": [
        "import matplotlib.pyplot as plt\n",
        "\n",
        "def plot_loss_curves(history):\n",
        "  \"\"\"\n",
        "  Returns separate loss curves for training and validation metrics.\n",
        "  Args:\n",
        "    history: TensorFlow History object.\n",
        "\n",
        "    Returns:\n",
        "    Plots of training/validation loss and accuracy metrics.\n",
        "  \"\"\"\n",
        "  loss = history.history['loss']\n",
        "  val_loss = history.history['val_loss']\n",
        "\n",
        "  accuracy = history.history['accuracy']\n",
        "  val_accuracy = history.history['val_accuracy']\n",
        "\n",
        "  epochs = range(len(history.history['loss']))\n",
        "\n",
        "  #Plot loss\n",
        "\n",
        "  plt.plot(epochs, loss, label='training_loss')\n",
        "  plt.plot(epochs, val_loss, label='val_loss')\n",
        "  plt.title('Loss')\n",
        "  plt.xlabel('Epochs')\n",
        "  plt.legend()\n",
        "\n",
        "  #Plot accuracy\n",
        "  plt.figure()\n",
        "  plt.plot(epochs, accuracy, label='training_accuracy')\n",
        "  plt.plot(epochs, val_accuracy, label='val_accuracy')\n",
        "  plt.title('Accuracy')\n",
        "  plt.xlabel('Epochs')\n",
        "  plt.legend();\n",
        "\n",
        "plot_loss_curves(history_0)"
      ],
      "metadata": {
        "colab": {
          "base_uri": "https://localhost:8080/",
          "height": 927
        },
        "id": "tte_JyETrL4t",
        "outputId": "0a761ac8-ff49-4176-80a6-40335d0de32f"
      },
      "execution_count": 39,
      "outputs": [
        {
          "output_type": "display_data",
          "data": {
            "text/plain": [
              "<Figure size 640x480 with 1 Axes>"
            ],
            "image/png": "[encoded data removed]"
          },
          "metadata": {}
        },
        {
          "output_type": "display_data",
          "data": {
            "text/plain": [
              "<Figure size 640x480 with 1 Axes>"
            ],
            "image/png": "[encoded data removed]"
          },
          "metadata": {}
        }
      ]
    },
    {
      "cell_type": "code",
      "source": [
        "results_feature_extraction = model_0.evaluate(test_data)\n",
        "results_feature_extraction"
      ],
      "metadata": {
        "colab": {
          "base_uri": "https://localhost:8080/"
        },
        "id": "_DMYml8RrvDL",
        "outputId": "947474cf-3fed-431e-a901-0cbce895da11"
      },
      "execution_count": 40,
      "outputs": [
        {
          "output_type": "stream",
          "name": "stdout",
          "text": [
            "4/4 [==============================] - 1s 129ms/step - loss: 0.6699 - accuracy: 0.6508\n"
          ]
        },
        {
          "output_type": "execute_result",
          "data": {
            "text/plain": [
              "[0.6698893308639526, 0.6507936716079712]"
            ]
          },
          "metadata": {},
          "execution_count": 40
        }
      ]
    },
    {
      "cell_type": "code",
      "source": [
        "# Get the predicted probabilities for the test set\n",
        "y_pred_probs = model_0.predict(test_data)\n",
        "\n",
        "# Convert probabilities to binary predictions (0 or 1)\n",
        "y_pred = (y_pred_probs > 0.5).astype(int)\n",
        "\n",
        "# Get the true labels for the test set\n",
        "y_true = np.concatenate([y for x, y in test_data], axis=0)\n",
        "\n",
        "# Calculate precision\n",
        "from sklearn.metrics import precision_score\n",
        "precision = precision_score(y_true, y_pred)\n",
        "print(\"Precision:\", precision)"
      ],
      "metadata": {
        "colab": {
          "base_uri": "https://localhost:8080/"
        },
        "id": "k2ezfPwarykg",
        "outputId": "44e10100-119c-4d7f-f84e-7cc053fc4a4d"
      },
      "execution_count": 41,
      "outputs": [
        {
          "output_type": "stream",
          "name": "stdout",
          "text": [
            "4/4 [==============================] - 1s 126ms/step\n",
            "Precision: 0.5416666666666666\n"
          ]
        }
      ]
    },
    {
      "cell_type": "code",
      "source": [
        "from sklearn.metrics import recall_score\n",
        "\n",
        "# Calculate recall\n",
        "recall = recall_score(y_true, y_pred)\n",
        "print(\"Recall:\", recall)"
      ],
      "metadata": {
        "colab": {
          "base_uri": "https://localhost:8080/"
        },
        "id": "MKfH1rukr0mL",
        "outputId": "5b0268e5-c94f-4dff-832c-2fd15225948e"
      },
      "execution_count": 42,
      "outputs": [
        {
          "output_type": "stream",
          "name": "stdout",
          "text": [
            "Recall: 0.3939393939393939\n"
          ]
        }
      ]
    },
    {
      "cell_type": "code",
      "source": [
        "\n",
        "\n",
        "from sklearn.metrics import f1_score\n",
        "# Calculate F1-score\n",
        "f1 = f1_score(y_true, y_pred)\n",
        "print(\"F1-score:\", f1)"
      ],
      "metadata": {
        "colab": {
          "base_uri": "https://localhost:8080/"
        },
        "id": "26rnMe33r2LC",
        "outputId": "b605b0fe-c8eb-497a-9af8-22c65d0810ac"
      },
      "execution_count": 43,
      "outputs": [
        {
          "output_type": "stream",
          "name": "stdout",
          "text": [
            "F1-score: 0.45614035087719296\n"
          ]
        }
      ]
    },
    {
      "cell_type": "code",
      "source": [
        "\n",
        "\n",
        "# Eğitim doğruluğunu elde etmek için history_0 nesnesini kullanın\n",
        "train_accuracy = history_0.history['accuracy']\n",
        "\n",
        "# Son epoch'un eğitim doğruluğunu yazdırın\n",
        "print(\"Eğitim doğruluğu:\", train_accuracy[-1])\n"
      ],
      "metadata": {
        "colab": {
          "base_uri": "https://localhost:8080/"
        },
        "id": "LExpMqkfr37k",
        "outputId": "4b964bce-c4e5-466b-b914-0622c127e76a"
      },
      "execution_count": 44,
      "outputs": [
        {
          "output_type": "stream",
          "name": "stdout",
          "text": [
            "Eğitim doğruluğu: 0.7319949269294739\n"
          ]
        }
      ]
    },
    {
      "cell_type": "code",
      "source": [],
      "metadata": {
        "id": "08VAWlOuvm_N"
      },
      "execution_count": 30,
      "outputs": []
    }
  ]
}