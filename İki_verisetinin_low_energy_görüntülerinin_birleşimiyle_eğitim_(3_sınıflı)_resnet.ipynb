{
  "nbformat": 4,
  "nbformat_minor": 0,
  "metadata": {
    "colab": {
      "provenance": [],
      "machine_shape": "hm",
      "gpuType": "T4"
    },
    "kernelspec": {
      "name": "python3",
      "display_name": "Python 3"
    },
    "language_info": {
      "name": "python"
    },
    "accelerator": "GPU"
  },
  "cells": [
    {
      "cell_type": "code",
      "execution_count": 1,
      "metadata": {
        "colab": {
          "base_uri": "https://localhost:8080/"
        },
        "id": "PfOxRH9mjQ_4",
        "outputId": "92c6cf9f-2b89-4d95-9a1d-842945ed45a2"
      },
      "outputs": [
        {
          "output_type": "stream",
          "name": "stdout",
          "text": [
            "Mounted at /content/drive\n"
          ]
        }
      ],
      "source": [
        "from google.colab import drive\n",
        "drive.mount('/content/drive')"
      ]
    },
    {
      "cell_type": "code",
      "source": [
        "from keras.preprocessing.image import ImageDataGenerator, array_to_img, img_to_array, load_img\n",
        "from keras.models import Sequential\n",
        "from keras.layers import Conv2D, MaxPooling2D, Dense\n",
        "from keras.applications.vgg16 import VGG16\n",
        "import numpy as np\n",
        "import os\n",
        "import matplotlib.pyplot as plt\n",
        "from glob import glob\n",
        "import cv2"
      ],
      "metadata": {
        "id": "3DE98Q25kNTU"
      },
      "execution_count": 2,
      "outputs": []
    },
    {
      "cell_type": "code",
      "source": [
        "train_dir = \"/content/drive/MyDrive/Tez Dosyaları/low energy 3 classlı/Train\"\n",
        "test_dir = \"/content/drive/MyDrive/Tez Dosyaları/low energy 3 classlı/Test\""
      ],
      "metadata": {
        "id": "RN8K_FBtkWcR"
      },
      "execution_count": 3,
      "outputs": []
    },
    {
      "cell_type": "code",
      "source": [
        "import tensorflow as tf\n",
        "from tensorflow.keras.applications import EfficientNetB0"
      ],
      "metadata": {
        "id": "DwhEcAB2kgbP"
      },
      "execution_count": 4,
      "outputs": []
    },
    {
      "cell_type": "code",
      "source": [
        "!wget https://raw.githubusercontent.com/mrdbourke/tensorflow-deep-learning/main/extras/helper_functions.py\n"
      ],
      "metadata": {
        "colab": {
          "base_uri": "https://localhost:8080/"
        },
        "id": "ZLg6d12xklVh",
        "outputId": "ad217d33-a30d-47b4-cbf8-52a095ba4548"
      },
      "execution_count": 5,
      "outputs": [
        {
          "output_type": "stream",
          "name": "stdout",
          "text": [
            "--2024-07-30 14:24:08--  https://raw.githubusercontent.com/mrdbourke/tensorflow-deep-learning/main/extras/helper_functions.py\n",
            "Resolving raw.githubusercontent.com (raw.githubusercontent.com)... 185.199.110.133, 185.199.111.133, 185.199.109.133, ...\n",
            "Connecting to raw.githubusercontent.com (raw.githubusercontent.com)|185.199.110.133|:443... connected.\n",
            "HTTP request sent, awaiting response... 200 OK\n",
            "Length: 10246 (10K) [text/plain]\n",
            "Saving to: ‘helper_functions.py’\n",
            "\n",
            "\rhelper_functions.py   0%[                    ]       0  --.-KB/s               \rhelper_functions.py 100%[===================>]  10.01K  --.-KB/s    in 0s      \n",
            "\n",
            "2024-07-30 14:24:08 (19.6 MB/s) - ‘helper_functions.py’ saved [10246/10246]\n",
            "\n"
          ]
        }
      ]
    },
    {
      "cell_type": "code",
      "source": [
        "from helper_functions import create_tensorboard_callback, plot_loss_curves, unzip_data, walk_through_dir\n",
        "\n"
      ],
      "metadata": {
        "id": "v8pJbyY_kmi-"
      },
      "execution_count": 6,
      "outputs": []
    },
    {
      "cell_type": "code",
      "source": [
        "import os\n",
        "\n",
        "for dirpath, dirnames, filenames in os.walk(\"/content/drive/MyDrive/Tez Dosyaları/low energy 3 classlı\"):\n",
        "  print(f\"There are {len(dirnames)} directories and {len(filenames)} images in '{dirpath}'.\")\n"
      ],
      "metadata": {
        "colab": {
          "base_uri": "https://localhost:8080/"
        },
        "id": "yU3MQJatkn_t",
        "outputId": "21e39b96-cc6b-4b7d-f1a6-28331c25371c"
      },
      "execution_count": 7,
      "outputs": [
        {
          "output_type": "stream",
          "name": "stdout",
          "text": [
            "There are 2 directories and 0 images in '/content/drive/MyDrive/Tez Dosyaları/low energy 3 classlı'.\n",
            "There are 3 directories and 0 images in '/content/drive/MyDrive/Tez Dosyaları/low energy 3 classlı/Train'.\n",
            "There are 0 directories and 655 images in '/content/drive/MyDrive/Tez Dosyaları/low energy 3 classlı/Train/Normal'.\n",
            "There are 0 directories and 420 images in '/content/drive/MyDrive/Tez Dosyaları/low energy 3 classlı/Train/Malignant'.\n",
            "There are 0 directories and 325 images in '/content/drive/MyDrive/Tez Dosyaları/low energy 3 classlı/Train/Benign'.\n",
            "There are 3 directories and 0 images in '/content/drive/MyDrive/Tez Dosyaları/low energy 3 classlı/Test'.\n",
            "There are 0 directories and 72 images in '/content/drive/MyDrive/Tez Dosyaları/low energy 3 classlı/Test/Normal'.\n",
            "There are 0 directories and 50 images in '/content/drive/MyDrive/Tez Dosyaları/low energy 3 classlı/Test/Malignant'.\n",
            "There are 0 directories and 50 images in '/content/drive/MyDrive/Tez Dosyaları/low energy 3 classlı/Test/Benign'.\n"
          ]
        }
      ]
    },
    {
      "cell_type": "code",
      "source": [
        "import tensorflow as tf\n",
        "BATCH_SIZE = 32\n",
        "IMG_SIZE = (224, 224)\n",
        "train_data= tf.keras.preprocessing.image_dataset_from_directory(train_dir,\n",
        "                                                          label_mode= \"categorical\",\n",
        "                                                          batch_size=BATCH_SIZE,\n",
        "                                                          image_size=IMG_SIZE)\n",
        "\n",
        "test_data = tf.keras.preprocessing.image_dataset_from_directory(test_dir,\n",
        "                                                          label_mode=\"categorical\",\n",
        "                                                          batch_size=BATCH_SIZE,\n",
        "                                                          image_size=IMG_SIZE)"
      ],
      "metadata": {
        "colab": {
          "base_uri": "https://localhost:8080/"
        },
        "id": "cTyVqJNBktWz",
        "outputId": "c8d0005e-30bc-4898-bcc6-569d8a319107"
      },
      "execution_count": 8,
      "outputs": [
        {
          "output_type": "stream",
          "name": "stdout",
          "text": [
            "Found 1400 files belonging to 3 classes.\n",
            "Found 172 files belonging to 3 classes.\n"
          ]
        }
      ]
    },
    {
      "cell_type": "code",
      "source": [
        "train_data.class_names"
      ],
      "metadata": {
        "colab": {
          "base_uri": "https://localhost:8080/"
        },
        "id": "moXRHMm6kwki",
        "outputId": "8de2e658-a49a-4977-ebc7-f62416d3129f"
      },
      "execution_count": 9,
      "outputs": [
        {
          "output_type": "execute_result",
          "data": {
            "text/plain": [
              "['Benign', 'Malignant', 'Normal']"
            ]
          },
          "metadata": {},
          "execution_count": 9
        }
      ]
    },
    {
      "cell_type": "code",
      "source": [
        "from tensorflow.keras.preprocessing.image import ImageDataGenerator\n",
        "from tensorflow.keras.preprocessing.image import img_to_array\n",
        "from tensorflow.keras.preprocessing.image import load_img\n",
        "import numpy as np\n",
        "import random\n",
        "import math\n",
        "import csv\n",
        "import cv2\n",
        "import os"
      ],
      "metadata": {
        "id": "Pc4XlOh3k1AI"
      },
      "execution_count": 10,
      "outputs": []
    },
    {
      "cell_type": "code",
      "source": [
        "import tensorflow as tf\n",
        "\n",
        "# 1. create base model with tf.keras.applications\n",
        "base_model = tf.keras.applications.ResNet50(include_top=False)\n",
        "\n",
        "# 2. Freeze the base model\n",
        "base_model.trainable = False\n",
        "\n",
        "# 3. create inputs into our model\n",
        "inputs = tf.keras.layers.Input(shape=(224, 224, 3), name=\"input_layer\")\n",
        "\n",
        "# 4. if using ResNet50V2 you will need to normalize inputs\n",
        "# x = tf.keras.layers.experimental.preprocessing.Rescaling(1./255)(inputs)\n",
        "\n",
        "# 5. pass the inputs to the base_model\n",
        "x = base_model(inputs)\n",
        "print(f\"Shape after passing inputs through base model: {x.shape}\")\n",
        "\n",
        "# 6. average pool the outputs of the base model (aggregate all the most important information, reduce number of computations)\n",
        "x = tf.keras.layers.GlobalAveragePooling2D(name=\"global_average_pooling_layer\")(x)\n",
        "print(f\"Shape after GlobalAveragePooling2D: {x.shape}\")\n",
        "\n",
        "# 7. create the output activation layer for 3 classes\n",
        "outputs = tf.keras.layers.Dense(3, activation=\"softmax\", name=\"output_layer\")(x)\n",
        "model_0 = tf.keras.Model(inputs, outputs)\n",
        "\n",
        "# 8. compile the model for 3 classes\n",
        "model_0.compile(loss=\"categorical_crossentropy\",\n",
        "                optimizer=tf.keras.optimizers.Adam(),\n",
        "                metrics=[\"accuracy\"])\n",
        "\n",
        "# Assuming you have already prepared your train_data and test_data\n",
        "# Make sure that train_data and test_data are prepared with class_mode='categorical'\n",
        "\n",
        "# 9. fit the model\n",
        "history_0 = model_0.fit(train_data,\n",
        "                        epochs=40,\n",
        "                        steps_per_epoch=len(train_data),\n",
        "                        validation_data=test_data,\n",
        "                        validation_steps=int(len(test_data)),\n",
        "                        callbacks=[create_tensorboard_callback(dir_name=\"transfer_learning\",\n",
        "                                                               experiment_name=\"3_class_feature_extraction\")])\n",
        "\n"
      ],
      "metadata": {
        "colab": {
          "base_uri": "https://localhost:8080/"
        },
        "id": "dvm9o6LMk3-c",
        "outputId": "a7912666-fd3a-4326-c03a-a0d33bea1864"
      },
      "execution_count": 11,
      "outputs": [
        {
          "output_type": "stream",
          "name": "stdout",
          "text": [
            "Downloading data from https://storage.googleapis.com/tensorflow/keras-applications/resnet/resnet50_weights_tf_dim_ordering_tf_kernels_notop.h5\n",
            "94765736/94765736 [==============================] - 1s 0us/step\n",
            "Shape after passing inputs through base model: (None, 7, 7, 2048)\n",
            "Shape after GlobalAveragePooling2D: (None, 2048)\n",
            "Saving TensorBoard log files to: transfer_learning/3_class_feature_extraction/20240730-142422\n",
            "Epoch 1/40\n",
            "44/44 [==============================] - 104s 2s/step - loss: 1.0472 - accuracy: 0.4850 - val_loss: 1.0411 - val_accuracy: 0.5349\n",
            "Epoch 2/40\n",
            "44/44 [==============================] - 10s 199ms/step - loss: 0.9399 - accuracy: 0.5564 - val_loss: 1.0685 - val_accuracy: 0.4826\n",
            "Epoch 3/40\n",
            "44/44 [==============================] - 10s 201ms/step - loss: 0.8674 - accuracy: 0.5950 - val_loss: 1.0658 - val_accuracy: 0.4826\n",
            "Epoch 4/40\n",
            "44/44 [==============================] - 10s 199ms/step - loss: 0.8461 - accuracy: 0.6064 - val_loss: 1.1144 - val_accuracy: 0.4826\n",
            "Epoch 5/40\n",
            "44/44 [==============================] - 10s 191ms/step - loss: 0.8026 - accuracy: 0.6207 - val_loss: 1.0620 - val_accuracy: 0.4826\n",
            "Epoch 6/40\n",
            "44/44 [==============================] - 10s 201ms/step - loss: 0.7773 - accuracy: 0.6514 - val_loss: 1.0340 - val_accuracy: 0.5000\n",
            "Epoch 7/40\n",
            "44/44 [==============================] - 10s 203ms/step - loss: 0.7746 - accuracy: 0.6543 - val_loss: 1.0604 - val_accuracy: 0.4826\n",
            "Epoch 8/40\n",
            "44/44 [==============================] - 10s 197ms/step - loss: 0.7179 - accuracy: 0.6871 - val_loss: 1.0693 - val_accuracy: 0.4884\n",
            "Epoch 9/40\n",
            "44/44 [==============================] - 10s 193ms/step - loss: 0.7299 - accuracy: 0.6793 - val_loss: 1.2651 - val_accuracy: 0.4826\n",
            "Epoch 10/40\n",
            "44/44 [==============================] - 10s 195ms/step - loss: 0.7087 - accuracy: 0.6814 - val_loss: 1.1238 - val_accuracy: 0.4709\n",
            "Epoch 11/40\n",
            "44/44 [==============================] - 10s 198ms/step - loss: 0.6829 - accuracy: 0.7036 - val_loss: 1.0848 - val_accuracy: 0.5116\n",
            "Epoch 12/40\n",
            "44/44 [==============================] - 10s 199ms/step - loss: 0.6737 - accuracy: 0.7193 - val_loss: 1.0401 - val_accuracy: 0.5174\n",
            "Epoch 13/40\n",
            "44/44 [==============================] - 10s 197ms/step - loss: 0.6904 - accuracy: 0.6879 - val_loss: 1.1424 - val_accuracy: 0.4593\n",
            "Epoch 14/40\n",
            "44/44 [==============================] - 10s 193ms/step - loss: 0.6741 - accuracy: 0.6929 - val_loss: 1.2735 - val_accuracy: 0.4477\n",
            "Epoch 15/40\n",
            "44/44 [==============================] - 10s 196ms/step - loss: 0.6245 - accuracy: 0.7471 - val_loss: 1.1680 - val_accuracy: 0.4942\n",
            "Epoch 16/40\n",
            "44/44 [==============================] - 10s 201ms/step - loss: 0.6127 - accuracy: 0.7621 - val_loss: 1.1583 - val_accuracy: 0.4651\n",
            "Epoch 17/40\n",
            "44/44 [==============================] - 10s 198ms/step - loss: 0.5971 - accuracy: 0.7464 - val_loss: 1.1109 - val_accuracy: 0.4767\n",
            "Epoch 18/40\n",
            "44/44 [==============================] - 10s 192ms/step - loss: 0.5835 - accuracy: 0.7757 - val_loss: 1.1544 - val_accuracy: 0.4709\n",
            "Epoch 19/40\n",
            "44/44 [==============================] - 10s 194ms/step - loss: 0.5735 - accuracy: 0.7879 - val_loss: 1.1622 - val_accuracy: 0.5058\n",
            "Epoch 20/40\n",
            "44/44 [==============================] - 10s 192ms/step - loss: 0.5511 - accuracy: 0.7943 - val_loss: 1.1767 - val_accuracy: 0.4651\n",
            "Epoch 21/40\n",
            "44/44 [==============================] - 10s 200ms/step - loss: 0.5597 - accuracy: 0.7814 - val_loss: 1.3012 - val_accuracy: 0.4709\n",
            "Epoch 22/40\n",
            "44/44 [==============================] - 10s 194ms/step - loss: 0.5703 - accuracy: 0.7671 - val_loss: 1.3156 - val_accuracy: 0.4186\n",
            "Epoch 23/40\n",
            "44/44 [==============================] - 10s 198ms/step - loss: 0.5390 - accuracy: 0.7950 - val_loss: 1.2441 - val_accuracy: 0.4477\n",
            "Epoch 24/40\n",
            "44/44 [==============================] - 10s 191ms/step - loss: 0.5201 - accuracy: 0.8079 - val_loss: 1.2422 - val_accuracy: 0.4826\n",
            "Epoch 25/40\n",
            "44/44 [==============================] - 10s 200ms/step - loss: 0.5176 - accuracy: 0.8093 - val_loss: 1.2857 - val_accuracy: 0.4186\n",
            "Epoch 26/40\n",
            "44/44 [==============================] - 10s 199ms/step - loss: 0.5049 - accuracy: 0.8143 - val_loss: 1.1577 - val_accuracy: 0.4942\n",
            "Epoch 27/40\n",
            "44/44 [==============================] - 10s 196ms/step - loss: 0.4919 - accuracy: 0.8257 - val_loss: 1.2273 - val_accuracy: 0.4884\n",
            "Epoch 28/40\n",
            "44/44 [==============================] - 10s 193ms/step - loss: 0.4922 - accuracy: 0.8321 - val_loss: 1.3377 - val_accuracy: 0.4884\n",
            "Epoch 29/40\n",
            "44/44 [==============================] - 10s 192ms/step - loss: 0.4844 - accuracy: 0.8250 - val_loss: 1.3316 - val_accuracy: 0.4244\n",
            "Epoch 30/40\n",
            "44/44 [==============================] - 10s 200ms/step - loss: 0.4842 - accuracy: 0.8393 - val_loss: 1.2865 - val_accuracy: 0.5058\n",
            "Epoch 31/40\n",
            "44/44 [==============================] - 10s 199ms/step - loss: 0.4663 - accuracy: 0.8386 - val_loss: 1.3812 - val_accuracy: 0.4477\n",
            "Epoch 32/40\n",
            "44/44 [==============================] - 10s 197ms/step - loss: 0.4645 - accuracy: 0.8400 - val_loss: 1.3087 - val_accuracy: 0.4651\n",
            "Epoch 33/40\n",
            "44/44 [==============================] - 10s 192ms/step - loss: 0.4460 - accuracy: 0.8521 - val_loss: 1.3112 - val_accuracy: 0.5058\n",
            "Epoch 34/40\n",
            "44/44 [==============================] - 10s 193ms/step - loss: 0.4540 - accuracy: 0.8464 - val_loss: 1.4128 - val_accuracy: 0.4360\n",
            "Epoch 35/40\n",
            "44/44 [==============================] - 10s 198ms/step - loss: 0.4534 - accuracy: 0.8457 - val_loss: 1.2361 - val_accuracy: 0.4826\n",
            "Epoch 36/40\n",
            "44/44 [==============================] - 10s 198ms/step - loss: 0.4397 - accuracy: 0.8557 - val_loss: 1.3077 - val_accuracy: 0.4767\n",
            "Epoch 37/40\n",
            "44/44 [==============================] - 10s 196ms/step - loss: 0.4321 - accuracy: 0.8600 - val_loss: 1.4584 - val_accuracy: 0.4593\n",
            "Epoch 38/40\n",
            "44/44 [==============================] - 10s 196ms/step - loss: 0.4308 - accuracy: 0.8579 - val_loss: 1.5053 - val_accuracy: 0.4186\n",
            "Epoch 39/40\n",
            "44/44 [==============================] - 10s 194ms/step - loss: 0.4340 - accuracy: 0.8550 - val_loss: 1.3570 - val_accuracy: 0.4419\n",
            "Epoch 40/40\n",
            "44/44 [==============================] - 10s 202ms/step - loss: 0.4084 - accuracy: 0.8779 - val_loss: 1.4069 - val_accuracy: 0.4128\n"
          ]
        }
      ]
    },
    {
      "cell_type": "code",
      "source": [
        "plot_loss_curves(history_0)"
      ],
      "metadata": {
        "colab": {
          "base_uri": "https://localhost:8080/",
          "height": 927
        },
        "id": "LKco6gtek6nb",
        "outputId": "430e3fa7-d5ba-492f-e684-d3d8af2bca68"
      },
      "execution_count": 12,
      "outputs": [
        {
          "output_type": "display_data",
          "data": {
            "text/plain": [
              "<Figure size 640x480 with 1 Axes>"
            ],
            "image/png": "[encoded data removed]"
          },
          "metadata": {}
        },
        {
          "output_type": "display_data",
          "data": {
            "text/plain": [
              "<Figure size 640x480 with 1 Axes>"
            ],
            "image/png": "[encoded data removed]"
          },
          "metadata": {}
        }
      ]
    },
    {
      "cell_type": "code",
      "source": [
        "from sklearn.metrics import classification_report\n",
        "\n",
        "# Assuming you have true labels for your test data stored in y_true\n",
        "# and predictions from your model stored in y_pred\n",
        "\n",
        "# Convert categorical predictions to class labels\n",
        "y_pred_labels = np.argmax(model_0.predict(test_data), axis=1)\n",
        "\n",
        "# Get true labels from the test dataset\n",
        "y_true_labels = np.concatenate([y for x, y in test_data], axis=0)\n",
        "y_true_labels = np.argmax(y_true_labels, axis=1)\n",
        "\n",
        "# Generate classification report\n",
        "report = classification_report(y_true_labels, y_pred_labels)\n",
        "\n",
        "print(report)"
      ],
      "metadata": {
        "colab": {
          "base_uri": "https://localhost:8080/"
        },
        "id": "BoAnGQXmk9MK",
        "outputId": "fab5c303-20b6-4736-f14d-d59f9c914dd7"
      },
      "execution_count": 13,
      "outputs": [
        {
          "output_type": "stream",
          "name": "stdout",
          "text": [
            "6/6 [==============================] - 2s 104ms/step\n",
            "              precision    recall  f1-score   support\n",
            "\n",
            "           0       0.18      0.04      0.07        50\n",
            "           1       0.34      0.52      0.41        50\n",
            "           2       0.44      0.51      0.47        72\n",
            "\n",
            "    accuracy                           0.38       172\n",
            "   macro avg       0.32      0.36      0.32       172\n",
            "weighted avg       0.34      0.38      0.34       172\n",
            "\n"
          ]
        }
      ]
    },
    {
      "cell_type": "code",
      "source": [
        "# Eğitim doğruluğunu geçmiş verilerinden al\n",
        "train_accuracy = history_0.history['accuracy']\n",
        "\n",
        "# Son epoch'un eğitim doğruluğunu yazdır\n",
        "print(\"Eğitim doğruluğu:\", train_accuracy[-1])"
      ],
      "metadata": {
        "colab": {
          "base_uri": "https://localhost:8080/"
        },
        "id": "LQ_vRVDJk-vw",
        "outputId": "97639fef-4217-4ef5-c598-0930ffae6c7a"
      },
      "execution_count": 14,
      "outputs": [
        {
          "output_type": "stream",
          "name": "stdout",
          "text": [
            "Eğitim doğruluğu: 0.8778571486473083\n"
          ]
        }
      ]
    },
    {
      "cell_type": "code",
      "source": [
        "\n",
        "# test verisinin doğruluğunu hesapla\n",
        "test_loss, test_accuracy = model_0.evaluate(test_data)\n",
        "print(\"Test doğruluğu:\", test_accuracy)\n"
      ],
      "metadata": {
        "colab": {
          "base_uri": "https://localhost:8080/"
        },
        "id": "hzfvenEflAAU",
        "outputId": "6d4fc42d-f652-4f27-aaba-bcc536d8373d"
      },
      "execution_count": 15,
      "outputs": [
        {
          "output_type": "stream",
          "name": "stdout",
          "text": [
            "6/6 [==============================] - 2s 87ms/step - loss: 1.4069 - accuracy: 0.4128\n",
            "Test doğruluğu: 0.4127906858921051\n"
          ]
        }
      ]
    },
    {
      "cell_type": "code",
      "source": [],
      "metadata": {
        "id": "iMHl90ivnse4"
      },
      "execution_count": 15,
      "outputs": []
    }
  ]
}