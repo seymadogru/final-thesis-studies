{
  "nbformat": 4,
  "nbformat_minor": 0,
  "metadata": {
    "colab": {
      "provenance": [],
      "machine_shape": "hm",
      "gpuType": "T4"
    },
    "kernelspec": {
      "name": "python3",
      "display_name": "Python 3"
    },
    "language_info": {
      "name": "python"
    },
    "accelerator": "GPU"
  },
  "cells": [
    {
      "cell_type": "code",
      "execution_count": null,
      "metadata": {
        "id": "gY9CcdelZqaK"
      },
      "outputs": [],
      "source": []
    },
    {
      "cell_type": "code",
      "source": [
        "from google.colab import drive\n",
        "drive.mount('/content/drive')"
      ],
      "metadata": {
        "colab": {
          "base_uri": "https://localhost:8080/"
        },
        "id": "yHph3iBUZ1tk",
        "outputId": "bdd19250-b322-433b-898d-6cf206271711"
      },
      "execution_count": 1,
      "outputs": [
        {
          "output_type": "stream",
          "name": "stdout",
          "text": [
            "Mounted at /content/drive\n"
          ]
        }
      ]
    },
    {
      "cell_type": "code",
      "source": [
        "!wget https://raw.githubusercontent.com/mrdbourke/tensorflow-deep-learning/main/extras/helper_functions.py"
      ],
      "metadata": {
        "colab": {
          "base_uri": "https://localhost:8080/"
        },
        "id": "X71Blx8KaClQ",
        "outputId": "cfa96d19-3397-4d4d-8e9a-9e079b0dd935"
      },
      "execution_count": 2,
      "outputs": [
        {
          "output_type": "stream",
          "name": "stdout",
          "text": [
            "--2024-07-24 06:23:26--  https://raw.githubusercontent.com/mrdbourke/tensorflow-deep-learning/main/extras/helper_functions.py\n",
            "Resolving raw.githubusercontent.com (raw.githubusercontent.com)... 185.199.108.133, 185.199.109.133, 185.199.110.133, ...\n",
            "Connecting to raw.githubusercontent.com (raw.githubusercontent.com)|185.199.108.133|:443... connected.\n",
            "HTTP request sent, awaiting response... 200 OK\n",
            "Length: 10246 (10K) [text/plain]\n",
            "Saving to: ‘helper_functions.py’\n",
            "\n",
            "helper_functions.py 100%[===================>]  10.01K  --.-KB/s    in 0.001s  \n",
            "\n",
            "2024-07-24 06:23:27 (11.7 MB/s) - ‘helper_functions.py’ saved [10246/10246]\n",
            "\n"
          ]
        }
      ]
    },
    {
      "cell_type": "code",
      "source": [
        "from helper_functions import create_tensorboard_callback, plot_loss_curves, unzip_data, walk_through_dir"
      ],
      "metadata": {
        "id": "5bEYo6kLaKvz"
      },
      "execution_count": 3,
      "outputs": []
    },
    {
      "cell_type": "code",
      "source": [
        "import os\n",
        "\n",
        "for dirpath, dirnames, filenames in os.walk(\"/content/drive/MyDrive/Tez Dosyaları/birinci veriseti 2 classlı\"):\n",
        "  print(f\"There are {len(dirnames)} directories and {len(filenames)} images in '{dirpath}'.\")"
      ],
      "metadata": {
        "colab": {
          "base_uri": "https://localhost:8080/"
        },
        "id": "k3lcCFCIaMz7",
        "outputId": "3147e2cd-0315-4a02-a6e6-99ba10835819"
      },
      "execution_count": 4,
      "outputs": [
        {
          "output_type": "stream",
          "name": "stdout",
          "text": [
            "There are 2 directories and 0 images in '/content/drive/MyDrive/Tez Dosyaları/birinci veriseti 2 classlı'.\n",
            "There are 2 directories and 0 images in '/content/drive/MyDrive/Tez Dosyaları/birinci veriseti 2 classlı/Test'.\n",
            "There are 0 directories and 66 images in '/content/drive/MyDrive/Tez Dosyaları/birinci veriseti 2 classlı/Test/Malignant'.\n",
            "There are 0 directories and 60 images in '/content/drive/MyDrive/Tez Dosyaları/birinci veriseti 2 classlı/Test/Benign'.\n",
            "There are 2 directories and 0 images in '/content/drive/MyDrive/Tez Dosyaları/birinci veriseti 2 classlı/Train'.\n",
            "There are 0 directories and 527 images in '/content/drive/MyDrive/Tez Dosyaları/birinci veriseti 2 classlı/Train/Benign'.\n",
            "There are 0 directories and 596 images in '/content/drive/MyDrive/Tez Dosyaları/birinci veriseti 2 classlı/Train/Malignant'.\n"
          ]
        }
      ]
    },
    {
      "cell_type": "code",
      "source": [
        "train_dir = \"/content/drive/MyDrive/Tez Dosyaları/birinci veriseti 2 classlı/Train\"\n",
        "test_dir = \"/content/drive/MyDrive/Tez Dosyaları/birinci veriseti 2 classlı/Test\""
      ],
      "metadata": {
        "id": "UN289A1yaejh"
      },
      "execution_count": 5,
      "outputs": []
    },
    {
      "cell_type": "code",
      "source": [
        "import tensorflow as tf\n",
        "BATCH_SIZE = 32\n",
        "IMG_SIZE = (224, 224)\n",
        "train_data= tf.keras.preprocessing.image_dataset_from_directory(train_dir,\n",
        "                                                          label_mode=\"binary\",\n",
        "                                                          batch_size=BATCH_SIZE,\n",
        "                                                          image_size=IMG_SIZE)\n",
        "\n",
        "test_data = tf.keras.preprocessing.image_dataset_from_directory(test_dir,\n",
        "                                                          label_mode=\"binary\",\n",
        "                                                          batch_size=BATCH_SIZE,\n",
        "                                                          image_size=IMG_SIZE)"
      ],
      "metadata": {
        "colab": {
          "base_uri": "https://localhost:8080/"
        },
        "id": "0q0XlYx9avg9",
        "outputId": "e1e2683b-a4e1-461d-b727-b532a9b34212"
      },
      "execution_count": 6,
      "outputs": [
        {
          "output_type": "stream",
          "name": "stdout",
          "text": [
            "Found 1123 files belonging to 2 classes.\n",
            "Found 126 files belonging to 2 classes.\n"
          ]
        }
      ]
    },
    {
      "cell_type": "code",
      "source": [
        "train_data.class_names"
      ],
      "metadata": {
        "colab": {
          "base_uri": "https://localhost:8080/"
        },
        "id": "YgvNv0niayoK",
        "outputId": "d459603c-181d-40a5-ba11-725f05f7ae6f"
      },
      "execution_count": 7,
      "outputs": [
        {
          "output_type": "execute_result",
          "data": {
            "text/plain": [
              "['Benign', 'Malignant']"
            ]
          },
          "metadata": {},
          "execution_count": 7
        }
      ]
    },
    {
      "cell_type": "code",
      "source": [
        "from tensorflow.keras.preprocessing.image import ImageDataGenerator\n",
        "from tensorflow.keras.preprocessing.image import img_to_array\n",
        "from tensorflow.keras.preprocessing.image import load_img\n",
        "import numpy as np\n",
        "import random\n",
        "import math\n",
        "import csv\n",
        "import cv2\n",
        "import os"
      ],
      "metadata": {
        "id": "T7oMf6GQa0Oc"
      },
      "execution_count": 8,
      "outputs": []
    },
    {
      "cell_type": "code",
      "source": [
        "# 1.  create base model with tf.keras.applications\n",
        "base_model = tf.keras.applications.VGG16(include_top=False)\n",
        "\n",
        "# 2. Freeze the base model\n",
        "base_model.trainable = False\n",
        "\n",
        "# 3. create inputs into our model\n",
        "inputs = tf.keras.layers.Input(shape=(224, 224, 3), name=\"input_layer\")\n",
        "\n",
        "# 4. if using ResNet50V2 you will need to normalize inputs\n",
        "# x = tf.keras.layers.experimental.preprocessing.Rescaling(1./255)(inputs)\n",
        "\n",
        "# 5. pass the inputs to the base_model\n",
        "x = base_model(inputs)\n",
        "print(f\"Shape after passing inputs through base model: {x.shape}\")\n",
        "\n",
        "# 6. average pool the outputs of the base model (aggregate all the most important information, reduce number of computations)\n",
        "x = tf.keras.layers.GlobalAveragePooling2D(name=\"global_average_pooling_layer\")(x)\n",
        "print(f\"Shape after GlobalAveragePooling2D: {x.shape}\")\n",
        "\n",
        "# 7. create the output activation layer\n",
        "outputs = tf.keras.layers.Dense(1, activation=\"sigmoid\", name=\"output_layer\")(x)\n",
        "model_0 = tf.keras.Model(inputs, outputs)\n",
        "\n",
        "# 8. compile the model\n",
        "model_0.compile(loss=\"binary_crossentropy\",\n",
        "                optimizer=tf.keras.optimizers.Adam(),\n",
        "                metrics=[\"accuracy\"])\n",
        "\n",
        "# 9. fit the model\n",
        "history_0 = model_0.fit(train_data,\n",
        "                        epochs=40,\n",
        "                        steps_per_epoch=len(train_data),\n",
        "                        validation_data=test_data,\n",
        "                        validation_steps=int(len(test_data)),\n",
        "                        callbacks=[create_tensorboard_callback(dir_name=\"transfer_learning\",\n",
        "                                                              experiment_name=\"10_percent_feature_extraction\")])\n",
        ""
      ],
      "metadata": {
        "colab": {
          "base_uri": "https://localhost:8080/"
        },
        "id": "WMK-rfoUa16P",
        "outputId": "2e1981ff-3c49-4f3a-9159-1f221838fb07"
      },
      "execution_count": 31,
      "outputs": [
        {
          "output_type": "stream",
          "name": "stdout",
          "text": [
            "Downloading data from https://storage.googleapis.com/tensorflow/keras-applications/vgg16/vgg16_weights_tf_dim_ordering_tf_kernels_notop.h5\n",
            "58889256/58889256 [==============================] - 3s 0us/step\n",
            "Shape after passing inputs through base model: (None, 7, 7, 512)\n",
            "Shape after GlobalAveragePooling2D: (None, 512)\n",
            "Saving TensorBoard log files to: transfer_learning/10_percent_feature_extraction/20240724-070342\n",
            "Epoch 1/40\n",
            "36/36 [==============================] - 28s 490ms/step - loss: 1.0210 - accuracy: 0.5298 - val_loss: 0.9564 - val_accuracy: 0.5238\n",
            "Epoch 2/40\n",
            "36/36 [==============================] - 8s 192ms/step - loss: 0.8756 - accuracy: 0.5512 - val_loss: 0.8724 - val_accuracy: 0.5476\n",
            "Epoch 3/40\n",
            "36/36 [==============================] - 8s 187ms/step - loss: 0.7964 - accuracy: 0.5868 - val_loss: 0.8378 - val_accuracy: 0.5952\n",
            "Epoch 4/40\n",
            "36/36 [==============================] - 8s 190ms/step - loss: 0.7420 - accuracy: 0.6100 - val_loss: 0.8130 - val_accuracy: 0.5714\n",
            "Epoch 5/40\n",
            "36/36 [==============================] - 8s 186ms/step - loss: 0.7227 - accuracy: 0.6055 - val_loss: 0.7954 - val_accuracy: 0.5079\n",
            "Epoch 6/40\n",
            "36/36 [==============================] - 8s 183ms/step - loss: 0.6737 - accuracy: 0.6394 - val_loss: 0.7753 - val_accuracy: 0.5714\n",
            "Epoch 7/40\n",
            "36/36 [==============================] - 8s 192ms/step - loss: 0.6458 - accuracy: 0.6509 - val_loss: 0.7771 - val_accuracy: 0.5317\n",
            "Epoch 8/40\n",
            "36/36 [==============================] - 8s 188ms/step - loss: 0.6261 - accuracy: 0.6723 - val_loss: 0.7741 - val_accuracy: 0.5238\n",
            "Epoch 9/40\n",
            "36/36 [==============================] - 8s 189ms/step - loss: 0.6220 - accuracy: 0.6545 - val_loss: 0.7702 - val_accuracy: 0.5000\n",
            "Epoch 10/40\n",
            "36/36 [==============================] - 9s 197ms/step - loss: 0.6074 - accuracy: 0.6696 - val_loss: 0.7861 - val_accuracy: 0.5000\n",
            "Epoch 11/40\n",
            "36/36 [==============================] - 8s 187ms/step - loss: 0.5812 - accuracy: 0.6874 - val_loss: 0.7707 - val_accuracy: 0.5476\n",
            "Epoch 12/40\n",
            "36/36 [==============================] - 8s 191ms/step - loss: 0.5697 - accuracy: 0.7088 - val_loss: 0.7843 - val_accuracy: 0.5317\n",
            "Epoch 13/40\n",
            "36/36 [==============================] - 8s 189ms/step - loss: 0.5724 - accuracy: 0.7017 - val_loss: 0.7726 - val_accuracy: 0.5397\n",
            "Epoch 14/40\n",
            "36/36 [==============================] - 8s 188ms/step - loss: 0.5528 - accuracy: 0.7177 - val_loss: 0.7729 - val_accuracy: 0.5317\n",
            "Epoch 15/40\n",
            "36/36 [==============================] - 8s 191ms/step - loss: 0.5379 - accuracy: 0.7186 - val_loss: 0.7774 - val_accuracy: 0.5397\n",
            "Epoch 16/40\n",
            "36/36 [==============================] - 8s 189ms/step - loss: 0.5372 - accuracy: 0.7373 - val_loss: 0.7738 - val_accuracy: 0.5238\n",
            "Epoch 17/40\n",
            "36/36 [==============================] - 8s 186ms/step - loss: 0.5306 - accuracy: 0.7293 - val_loss: 0.7778 - val_accuracy: 0.5397\n",
            "Epoch 18/40\n",
            "36/36 [==============================] - 8s 194ms/step - loss: 0.5193 - accuracy: 0.7507 - val_loss: 0.7799 - val_accuracy: 0.5476\n",
            "Epoch 19/40\n",
            "36/36 [==============================] - 8s 190ms/step - loss: 0.5172 - accuracy: 0.7524 - val_loss: 0.7714 - val_accuracy: 0.5476\n",
            "Epoch 20/40\n",
            "36/36 [==============================] - 8s 189ms/step - loss: 0.5034 - accuracy: 0.7614 - val_loss: 0.7668 - val_accuracy: 0.5635\n",
            "Epoch 21/40\n",
            "36/36 [==============================] - 9s 196ms/step - loss: 0.5041 - accuracy: 0.7542 - val_loss: 0.8876 - val_accuracy: 0.5714\n",
            "Epoch 22/40\n",
            "36/36 [==============================] - 8s 189ms/step - loss: 0.5208 - accuracy: 0.7391 - val_loss: 0.7913 - val_accuracy: 0.5397\n",
            "Epoch 23/40\n",
            "36/36 [==============================] - 8s 187ms/step - loss: 0.5038 - accuracy: 0.7578 - val_loss: 0.7877 - val_accuracy: 0.5635\n",
            "Epoch 24/40\n",
            "36/36 [==============================] - 8s 196ms/step - loss: 0.4866 - accuracy: 0.7711 - val_loss: 0.7819 - val_accuracy: 0.5635\n",
            "Epoch 25/40\n",
            "36/36 [==============================] - 8s 191ms/step - loss: 0.4833 - accuracy: 0.7658 - val_loss: 0.7938 - val_accuracy: 0.5635\n",
            "Epoch 26/40\n",
            "36/36 [==============================] - 8s 187ms/step - loss: 0.4866 - accuracy: 0.7596 - val_loss: 0.7932 - val_accuracy: 0.5714\n",
            "Epoch 27/40\n",
            "36/36 [==============================] - 8s 192ms/step - loss: 0.4856 - accuracy: 0.7694 - val_loss: 0.8146 - val_accuracy: 0.5476\n",
            "Epoch 28/40\n",
            "36/36 [==============================] - 8s 185ms/step - loss: 0.4776 - accuracy: 0.7676 - val_loss: 0.8194 - val_accuracy: 0.5397\n",
            "Epoch 29/40\n",
            "36/36 [==============================] - 9s 193ms/step - loss: 0.4668 - accuracy: 0.7916 - val_loss: 0.8083 - val_accuracy: 0.5794\n",
            "Epoch 30/40\n",
            "36/36 [==============================] - 8s 193ms/step - loss: 0.4617 - accuracy: 0.7854 - val_loss: 0.8250 - val_accuracy: 0.5476\n",
            "Epoch 31/40\n",
            "36/36 [==============================] - 8s 188ms/step - loss: 0.4584 - accuracy: 0.7934 - val_loss: 0.8094 - val_accuracy: 0.5794\n",
            "Epoch 32/40\n",
            "36/36 [==============================] - 8s 192ms/step - loss: 0.4568 - accuracy: 0.7863 - val_loss: 0.8580 - val_accuracy: 0.5476\n",
            "Epoch 33/40\n",
            "36/36 [==============================] - 8s 193ms/step - loss: 0.4611 - accuracy: 0.7756 - val_loss: 0.8087 - val_accuracy: 0.5476\n",
            "Epoch 34/40\n",
            "36/36 [==============================] - 8s 187ms/step - loss: 0.4548 - accuracy: 0.7863 - val_loss: 0.8555 - val_accuracy: 0.5476\n",
            "Epoch 35/40\n",
            "36/36 [==============================] - 9s 195ms/step - loss: 0.4460 - accuracy: 0.7970 - val_loss: 0.8540 - val_accuracy: 0.5556\n",
            "Epoch 36/40\n",
            "36/36 [==============================] - 8s 188ms/step - loss: 0.4450 - accuracy: 0.8023 - val_loss: 0.8313 - val_accuracy: 0.5476\n",
            "Epoch 37/40\n",
            "36/36 [==============================] - 8s 187ms/step - loss: 0.4397 - accuracy: 0.7979 - val_loss: 0.8417 - val_accuracy: 0.5556\n",
            "Epoch 38/40\n",
            "36/36 [==============================] - 9s 199ms/step - loss: 0.4383 - accuracy: 0.8050 - val_loss: 0.8547 - val_accuracy: 0.5794\n",
            "Epoch 39/40\n",
            "36/36 [==============================] - 8s 192ms/step - loss: 0.4355 - accuracy: 0.8085 - val_loss: 0.8547 - val_accuracy: 0.5556\n",
            "Epoch 40/40\n",
            "36/36 [==============================] - 8s 187ms/step - loss: 0.4385 - accuracy: 0.7988 - val_loss: 0.8449 - val_accuracy: 0.5556\n"
          ]
        }
      ]
    },
    {
      "cell_type": "code",
      "source": [
        "import matplotlib.pyplot as plt\n",
        "\n",
        "def plot_loss_curves(history):\n",
        "  \"\"\"\n",
        "  Returns separate loss curves for training and validation metrics.\n",
        "  Args:\n",
        "    history: TensorFlow History object.\n",
        "\n",
        "    Returns:\n",
        "    Plots of training/validation loss and accuracy metrics.\n",
        "  \"\"\"\n",
        "  loss = history.history['loss']\n",
        "  val_loss = history.history['val_loss']\n",
        "\n",
        "  accuracy = history.history['accuracy']\n",
        "  val_accuracy = history.history['val_accuracy']\n",
        "\n",
        "  epochs = range(len(history.history['loss']))\n",
        "\n",
        "  #Plot loss\n",
        "\n",
        "  plt.plot(epochs, loss, label='training_loss')\n",
        "  plt.plot(epochs, val_loss, label='val_loss')\n",
        "  plt.title('Loss')\n",
        "  plt.xlabel('Epochs')\n",
        "  plt.legend()\n",
        "\n",
        "  #Plot accuracy\n",
        "  plt.figure()\n",
        "  plt.plot(epochs, accuracy, label='training_accuracy')\n",
        "  plt.plot(epochs, val_accuracy, label='val_accuracy')\n",
        "  plt.title('Accuracy')\n",
        "  plt.xlabel('Epochs')\n",
        "  plt.legend();\n",
        "\n",
        "plot_loss_curves(history_0)"
      ],
      "metadata": {
        "colab": {
          "base_uri": "https://localhost:8080/",
          "height": 927
        },
        "id": "q5NuN1NRa6vo",
        "outputId": "f7974960-e8eb-4fa6-aa1b-1556ab99d9cf"
      },
      "execution_count": 32,
      "outputs": [
        {
          "output_type": "display_data",
          "data": {
            "text/plain": [
              "<Figure size 640x480 with 1 Axes>"
            ],
            "image/png": "[encoded data removed]"
          },
          "metadata": {}
        },
        {
          "output_type": "display_data",
          "data": {
            "text/plain": [
              "<Figure size 640x480 with 1 Axes>"
            ],
            "image/png": "[encoded data removed]"
          },
          "metadata": {}
        }
      ]
    },
    {
      "cell_type": "code",
      "source": [
        "results_feature_extraction = model_0.evaluate(test_data)\n",
        "results_feature_extraction"
      ],
      "metadata": {
        "colab": {
          "base_uri": "https://localhost:8080/"
        },
        "id": "mHCVRoDTdbX3",
        "outputId": "7452e7fa-470d-4da9-c286-038853a669ad"
      },
      "execution_count": 33,
      "outputs": [
        {
          "output_type": "stream",
          "name": "stdout",
          "text": [
            "4/4 [==============================] - 1s 132ms/step - loss: 0.8449 - accuracy: 0.5556\n"
          ]
        },
        {
          "output_type": "execute_result",
          "data": {
            "text/plain": [
              "[0.8448767066001892, 0.5555555820465088]"
            ]
          },
          "metadata": {},
          "execution_count": 33
        }
      ]
    },
    {
      "cell_type": "code",
      "source": [
        "\n",
        "# Get the predicted probabilities for the test set\n",
        "y_pred_probs = model_0.predict(test_data)\n",
        "\n",
        "# Convert probabilities to binary predictions (0 or 1)\n",
        "y_pred = (y_pred_probs > 0.5).astype(int)\n",
        "\n",
        "# Get the true labels for the test set\n",
        "y_true = np.concatenate([y for x, y in test_data], axis=0)\n",
        "\n",
        "# Calculate precision\n",
        "from sklearn.metrics import precision_score\n",
        "precision = precision_score(y_true, y_pred)\n",
        "print(\"Precision:\", precision)\n"
      ],
      "metadata": {
        "colab": {
          "base_uri": "https://localhost:8080/"
        },
        "id": "VyXE_k28eUV0",
        "outputId": "2ff43344-4004-431c-dd99-a2e36b6b57b9"
      },
      "execution_count": 34,
      "outputs": [
        {
          "output_type": "stream",
          "name": "stdout",
          "text": [
            "4/4 [==============================] - 1s 131ms/step\n",
            "Precision: 0.5833333333333334\n"
          ]
        }
      ]
    },
    {
      "cell_type": "code",
      "source": [
        "\n",
        "from sklearn.metrics import recall_score\n",
        "\n",
        "# Calculate recall\n",
        "recall = recall_score(y_true, y_pred)\n",
        "print(\"Recall:\", recall)\n"
      ],
      "metadata": {
        "colab": {
          "base_uri": "https://localhost:8080/"
        },
        "id": "b0xf07ioex-O",
        "outputId": "38d882fa-9f66-4fb5-dae7-62be4fbf744c"
      },
      "execution_count": 35,
      "outputs": [
        {
          "output_type": "stream",
          "name": "stdout",
          "text": [
            "Recall: 0.5303030303030303\n"
          ]
        }
      ]
    },
    {
      "cell_type": "code",
      "source": [
        "\n",
        "from sklearn.metrics import f1_score\n",
        "# Calculate F1-score\n",
        "f1 = f1_score(y_true, y_pred)\n",
        "print(\"F1-score:\", f1)\n"
      ],
      "metadata": {
        "colab": {
          "base_uri": "https://localhost:8080/"
        },
        "id": "Oqhrs8PKe2Zi",
        "outputId": "7210d7a9-dcef-4f96-a24b-f4eced07f390"
      },
      "execution_count": 36,
      "outputs": [
        {
          "output_type": "stream",
          "name": "stdout",
          "text": [
            "F1-score: 0.5555555555555556\n"
          ]
        }
      ]
    },
    {
      "cell_type": "code",
      "source": [],
      "metadata": {
        "id": "nuvVCILue6ia"
      },
      "execution_count": 30,
      "outputs": []
    }
  ]
}