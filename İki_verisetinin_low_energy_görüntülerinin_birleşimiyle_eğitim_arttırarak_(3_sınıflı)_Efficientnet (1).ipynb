{
  "nbformat": 4,
  "nbformat_minor": 0,
  "metadata": {
    "colab": {
      "provenance": [],
      "machine_shape": "hm",
      "gpuType": "T4"
    },
    "kernelspec": {
      "name": "python3",
      "display_name": "Python 3"
    },
    "language_info": {
      "name": "python"
    },
    "accelerator": "GPU"
  },
  "cells": [
    {
      "cell_type": "code",
      "execution_count": 1,
      "metadata": {
        "colab": {
          "base_uri": "https://localhost:8080/"
        },
        "id": "ekFImNh3fkMG",
        "outputId": "6791a6ea-b30a-4572-8d85-d9b3e99b2412"
      },
      "outputs": [
        {
          "output_type": "stream",
          "name": "stdout",
          "text": [
            "Mounted at /content/drive\n"
          ]
        }
      ],
      "source": [
        "from google.colab import drive\n",
        "drive.mount('/content/drive')\n"
      ]
    },
    {
      "cell_type": "code",
      "source": [
        "!wget https://raw.githubusercontent.com/mrdbourke/tensorflow-deep-learning/main/extras/helper_functions.py\n",
        ""
      ],
      "metadata": {
        "colab": {
          "base_uri": "https://localhost:8080/"
        },
        "id": "TzNsQDGAu5IM",
        "outputId": "985c9f48-b4c1-4131-b922-e1ce148f2b58"
      },
      "execution_count": 4,
      "outputs": [
        {
          "output_type": "stream",
          "name": "stdout",
          "text": [
            "--2024-07-31 12:19:59--  https://raw.githubusercontent.com/mrdbourke/tensorflow-deep-learning/main/extras/helper_functions.py\n",
            "Resolving raw.githubusercontent.com (raw.githubusercontent.com)... 185.199.109.133, 185.199.108.133, 185.199.111.133, ...\n",
            "Connecting to raw.githubusercontent.com (raw.githubusercontent.com)|185.199.109.133|:443... connected.\n",
            "HTTP request sent, awaiting response... 200 OK\n",
            "Length: 10246 (10K) [text/plain]\n",
            "Saving to: ‘helper_functions.py’\n",
            "\n",
            "\rhelper_functions.py   0%[                    ]       0  --.-KB/s               \rhelper_functions.py 100%[===================>]  10.01K  --.-KB/s    in 0s      \n",
            "\n",
            "2024-07-31 12:19:59 (113 MB/s) - ‘helper_functions.py’ saved [10246/10246]\n",
            "\n"
          ]
        }
      ]
    },
    {
      "cell_type": "code",
      "source": [
        "from helper_functions import create_tensorboard_callback, plot_loss_curves, unzip_data, walk_through_dir"
      ],
      "metadata": {
        "id": "1P3gvy4nuwuU"
      },
      "execution_count": 5,
      "outputs": []
    },
    {
      "cell_type": "code",
      "source": [
        "\n",
        "import os\n",
        "\n",
        "for dirpath, dirnames, filenames in os.walk(\"/content/drive/MyDrive/Tez Dosyaları/low energy 3 classlı\"):\n",
        "  print(f\"There are {len(dirnames)} directories and {len(filenames)} images in '{dirpath}'.\")\n"
      ],
      "metadata": {
        "colab": {
          "base_uri": "https://localhost:8080/"
        },
        "id": "QmtVvbK-u1Vi",
        "outputId": "cf547a5a-1f74-465b-b5d6-5a71c1c6dfc7"
      },
      "execution_count": 6,
      "outputs": [
        {
          "output_type": "stream",
          "name": "stdout",
          "text": [
            "There are 2 directories and 0 images in '/content/drive/MyDrive/Tez Dosyaları/low energy 3 classlı'.\n",
            "There are 3 directories and 0 images in '/content/drive/MyDrive/Tez Dosyaları/low energy 3 classlı/Train'.\n",
            "There are 0 directories and 655 images in '/content/drive/MyDrive/Tez Dosyaları/low energy 3 classlı/Train/Normal'.\n",
            "There are 0 directories and 420 images in '/content/drive/MyDrive/Tez Dosyaları/low energy 3 classlı/Train/Malignant'.\n",
            "There are 0 directories and 325 images in '/content/drive/MyDrive/Tez Dosyaları/low energy 3 classlı/Train/Benign'.\n",
            "There are 3 directories and 0 images in '/content/drive/MyDrive/Tez Dosyaları/low energy 3 classlı/Test'.\n",
            "There are 0 directories and 72 images in '/content/drive/MyDrive/Tez Dosyaları/low energy 3 classlı/Test/Normal'.\n",
            "There are 0 directories and 50 images in '/content/drive/MyDrive/Tez Dosyaları/low energy 3 classlı/Test/Malignant'.\n",
            "There are 0 directories and 50 images in '/content/drive/MyDrive/Tez Dosyaları/low energy 3 classlı/Test/Benign'.\n"
          ]
        }
      ]
    },
    {
      "cell_type": "code",
      "source": [
        "train_dir = \"/content/drive/MyDrive/Tez Dosyaları/low energy 3 classlı/Train\"\n",
        "test_dir = \"/content/drive/MyDrive/Tez Dosyaları/low energy 3 classlı/Test\""
      ],
      "metadata": {
        "id": "arTgIM8RvdlC"
      },
      "execution_count": 7,
      "outputs": []
    },
    {
      "cell_type": "code",
      "source": [
        "\n",
        "import tensorflow as tf\n",
        "BATCH_SIZE = 32\n",
        "IMG_SIZE = (224, 224)\n",
        "train_data= tf.keras.preprocessing.image_dataset_from_directory(train_dir,\n",
        "                                                          label_mode= \"categorical\",\n",
        "                                                          batch_size=BATCH_SIZE,\n",
        "                                                          image_size=IMG_SIZE)\n",
        "\n",
        "test_data = tf.keras.preprocessing.image_dataset_from_directory(test_dir,\n",
        "                                                          label_mode=\"categorical\",\n",
        "                                                          batch_size=BATCH_SIZE,\n",
        "                                                          image_size=IMG_SIZE)"
      ],
      "metadata": {
        "colab": {
          "base_uri": "https://localhost:8080/"
        },
        "id": "s8Pait4ivigJ",
        "outputId": "2906bccb-ab0c-4381-f5f5-553e92b683a4"
      },
      "execution_count": 8,
      "outputs": [
        {
          "output_type": "stream",
          "name": "stdout",
          "text": [
            "Found 1400 files belonging to 3 classes.\n",
            "Found 172 files belonging to 3 classes.\n"
          ]
        }
      ]
    },
    {
      "cell_type": "code",
      "source": [
        "from tensorflow.keras.preprocessing.image import ImageDataGenerator\n",
        "from tensorflow.keras.preprocessing.image import img_to_array\n",
        "from tensorflow.keras.preprocessing.image import load_img\n",
        "import numpy as np\n",
        "import random\n",
        "import math\n",
        "import csv\n",
        "import cv2\n",
        "import os"
      ],
      "metadata": {
        "id": "jtwBhfaTvj5x"
      },
      "execution_count": 9,
      "outputs": []
    },
    {
      "cell_type": "code",
      "source": [
        "image_width = 224\n",
        "image_height = 224\n",
        "classes = ['Benign', 'Malignant', 'Normal']\n",
        "datagen = ImageDataGenerator(\n",
        "    rescale=1.0/255,\n",
        "    rotation_range=40,\n",
        "    width_shift_range=0.2,\n",
        "    height_shift_range=0.2,\n",
        "    shear_range=0.2,\n",
        "    zoom_range=0.2,\n",
        "    horizontal_flip=True,\n",
        "    fill_mode='nearest'\n",
        ")\n",
        "\n",
        "# Resimleri yüklemek için flow_from_directory kullanın\n",
        "train_generator = datagen.flow_from_directory(\n",
        "    directory=\"/content/drive/MyDrive/Tez Dosyaları/low energy 3 classlı/Train\",\n",
        "    target_size=(image_width, image_height),\n",
        "    batch_size=32,\n",
        "    class_mode='categorical',\n",
        "    subset='training'\n",
        ")\n",
        "\n",
        "# Her sınıf için resimleri ayrı ayrı arttırın\n",
        "for cls in classes:\n",
        "    # Sınıfın resimlerini yüklemek için flow_from_directory kullanın\n",
        "    cls_generator = datagen.flow_from_directory(\n",
        "        directory=\"/content/drive/MyDrive/Tez Dosyaları/low energy 3 classlı/Train\",\n",
        "        target_size=(image_width, image_height),\n",
        "        batch_size=32,\n",
        "        class_mode='categorical',\n",
        "        subset='training',\n",
        "        classes=[cls]\n",
        "    )\n",
        "\n",
        "    # Resimleri arttırın ve kaydedin\n",
        "    i = 0\n",
        "    for batch in cls_generator:\n",
        "        images, labels = batch\n",
        "        for image in images:\n",
        "            # Resmi kaydetmek için imwrite kullanın\n",
        "            cv2.imwrite(os.path.join(\"/content/drive/MyDrive/Tez Dosyaları/low energy 3 classlı/Train\", cls, f\"augmented_{i}.jpg\"), image * 255)\n",
        "            i += 1\n",
        "            if i >= 3000:  # Maksimum resim sayısına ulaşıldığında döngüyü durdur\n",
        "                break\n",
        "        else:\n",
        "            continue\n",
        "        break"
      ],
      "metadata": {
        "colab": {
          "base_uri": "https://localhost:8080/"
        },
        "id": "uf5VQMqJvlud",
        "outputId": "939eab83-8a71-4632-c836-3b156624ed6e"
      },
      "execution_count": 10,
      "outputs": [
        {
          "output_type": "stream",
          "name": "stdout",
          "text": [
            "Found 1400 images belonging to 3 classes.\n",
            "Found 325 images belonging to 1 classes.\n",
            "Found 420 images belonging to 1 classes.\n",
            "Found 655 images belonging to 1 classes.\n"
          ]
        }
      ]
    },
    {
      "cell_type": "code",
      "source": [
        "import tensorflow as tf\n",
        "\n",
        "# 1. create base model with tf.keras.applications\n",
        "base_model = tf.keras.applications.EfficientNetB0(include_top=False)\n",
        "\n",
        "# 2. Freeze the base model\n",
        "base_model.trainable = False\n",
        "\n",
        "# 3. create inputs into our model\n",
        "inputs = tf.keras.layers.Input(shape=(224, 224, 3), name=\"input_layer\")\n",
        "\n",
        "# 4. if using ResNet50V2 you will need to normalize inputs\n",
        "# x = tf.keras.layers.experimental.preprocessing.Rescaling(1./255)(inputs)\n",
        "\n",
        "# 5. pass the inputs to the base_model\n",
        "x = base_model(inputs)\n",
        "print(f\"Shape after passing inputs through base model: {x.shape}\")\n",
        "\n",
        "# 6. average pool the outputs of the base model (aggregate all the most important information, reduce number of computations)\n",
        "x = tf.keras.layers.GlobalAveragePooling2D(name=\"global_average_pooling_layer\")(x)\n",
        "print(f\"Shape after GlobalAveragePooling2D: {x.shape}\")\n",
        "\n",
        "# 7. create the output activation layer for 3 classes\n",
        "outputs = tf.keras.layers.Dense(3, activation=\"softmax\", name=\"output_layer\")(x)\n",
        "model_0 = tf.keras.Model(inputs, outputs)\n",
        "\n",
        "# 8. compile the model for 3 classes\n",
        "model_0.compile(loss=\"categorical_crossentropy\",\n",
        "                optimizer=tf.keras.optimizers.Adam(),\n",
        "                metrics=[\"accuracy\"])\n",
        "\n",
        "# Assuming you have already prepared your train_data and test_data\n",
        "# Make sure that train_data and test_data are prepared with class_mode='categorical'\n",
        "\n",
        "# 9. fit the model\n",
        "history_0 = model_0.fit(train_data,\n",
        "                        epochs=40,\n",
        "                        steps_per_epoch=len(train_data),\n",
        "                        validation_data=test_data,\n",
        "                        validation_steps=int(len(test_data)),\n",
        "                        callbacks=[create_tensorboard_callback(dir_name=\"transfer_learning\",\n",
        "                                                               experiment_name=\"3_class_feature_extraction\")])\n",
        ""
      ],
      "metadata": {
        "colab": {
          "base_uri": "https://localhost:8080/"
        },
        "id": "1L686crgvsCC",
        "outputId": "977c8fa0-bf0e-46e0-871a-b04dd010d6bf"
      },
      "execution_count": 16,
      "outputs": [
        {
          "output_type": "stream",
          "name": "stdout",
          "text": [
            "Downloading data from https://storage.googleapis.com/keras-applications/efficientnetb0_notop.h5\n",
            "16705208/16705208 [==============================] - 0s 0us/step\n",
            "Shape after passing inputs through base model: (None, 7, 7, 1280)\n",
            "Shape after GlobalAveragePooling2D: (None, 1280)\n",
            "Saving TensorBoard log files to: transfer_learning/3_class_feature_extraction/20240731-132748\n",
            "Epoch 1/40\n",
            "44/44 [==============================] - 20s 276ms/step - loss: 1.0099 - accuracy: 0.5107 - val_loss: 1.0551 - val_accuracy: 0.4884\n",
            "Epoch 2/40\n",
            "44/44 [==============================] - 10s 195ms/step - loss: 0.9380 - accuracy: 0.5514 - val_loss: 1.0439 - val_accuracy: 0.4942\n",
            "Epoch 3/40\n",
            "44/44 [==============================] - 10s 187ms/step - loss: 0.9014 - accuracy: 0.5829 - val_loss: 1.0219 - val_accuracy: 0.5058\n",
            "Epoch 4/40\n",
            "44/44 [==============================] - 10s 190ms/step - loss: 0.8878 - accuracy: 0.5893 - val_loss: 1.0518 - val_accuracy: 0.5000\n",
            "Epoch 5/40\n",
            "44/44 [==============================] - 10s 185ms/step - loss: 0.8716 - accuracy: 0.5957 - val_loss: 0.9953 - val_accuracy: 0.5349\n",
            "Epoch 6/40\n",
            "44/44 [==============================] - 10s 187ms/step - loss: 0.8576 - accuracy: 0.6100 - val_loss: 1.0246 - val_accuracy: 0.4942\n",
            "Epoch 7/40\n",
            "44/44 [==============================] - 10s 193ms/step - loss: 0.8434 - accuracy: 0.6157 - val_loss: 1.0277 - val_accuracy: 0.4826\n",
            "Epoch 8/40\n",
            "44/44 [==============================] - 10s 192ms/step - loss: 0.8232 - accuracy: 0.6321 - val_loss: 1.0821 - val_accuracy: 0.4884\n",
            "Epoch 9/40\n",
            "44/44 [==============================] - 10s 187ms/step - loss: 0.8148 - accuracy: 0.6407 - val_loss: 0.9948 - val_accuracy: 0.5000\n",
            "Epoch 10/40\n",
            "44/44 [==============================] - 10s 185ms/step - loss: 0.8036 - accuracy: 0.6486 - val_loss: 1.0102 - val_accuracy: 0.5000\n",
            "Epoch 11/40\n",
            "44/44 [==============================] - 10s 193ms/step - loss: 0.7901 - accuracy: 0.6600 - val_loss: 0.9872 - val_accuracy: 0.5058\n",
            "Epoch 12/40\n",
            "44/44 [==============================] - 10s 189ms/step - loss: 0.7984 - accuracy: 0.6564 - val_loss: 0.9841 - val_accuracy: 0.5291\n",
            "Epoch 13/40\n",
            "44/44 [==============================] - 9s 185ms/step - loss: 0.7709 - accuracy: 0.6779 - val_loss: 0.9783 - val_accuracy: 0.5233\n",
            "Epoch 14/40\n",
            "44/44 [==============================] - 10s 186ms/step - loss: 0.7654 - accuracy: 0.6679 - val_loss: 0.9888 - val_accuracy: 0.5233\n",
            "Epoch 15/40\n",
            "44/44 [==============================] - 10s 195ms/step - loss: 0.7652 - accuracy: 0.6743 - val_loss: 0.9808 - val_accuracy: 0.5407\n",
            "Epoch 16/40\n",
            "44/44 [==============================] - 10s 196ms/step - loss: 0.7571 - accuracy: 0.6750 - val_loss: 1.0037 - val_accuracy: 0.5291\n",
            "Epoch 17/40\n",
            "44/44 [==============================] - 10s 184ms/step - loss: 0.7451 - accuracy: 0.6829 - val_loss: 0.9479 - val_accuracy: 0.5465\n",
            "Epoch 18/40\n",
            "44/44 [==============================] - 10s 188ms/step - loss: 0.7491 - accuracy: 0.6736 - val_loss: 0.9593 - val_accuracy: 0.5581\n",
            "Epoch 19/40\n",
            "44/44 [==============================] - 10s 195ms/step - loss: 0.7422 - accuracy: 0.6857 - val_loss: 0.9574 - val_accuracy: 0.5581\n",
            "Epoch 20/40\n",
            "44/44 [==============================] - 10s 194ms/step - loss: 0.7383 - accuracy: 0.6871 - val_loss: 0.9781 - val_accuracy: 0.5581\n",
            "Epoch 21/40\n",
            "44/44 [==============================] - 10s 185ms/step - loss: 0.7288 - accuracy: 0.6921 - val_loss: 0.9787 - val_accuracy: 0.5407\n",
            "Epoch 22/40\n",
            "44/44 [==============================] - 10s 187ms/step - loss: 0.7230 - accuracy: 0.6893 - val_loss: 0.9768 - val_accuracy: 0.5465\n",
            "Epoch 23/40\n",
            "44/44 [==============================] - 10s 194ms/step - loss: 0.7214 - accuracy: 0.6957 - val_loss: 1.0167 - val_accuracy: 0.5233\n",
            "Epoch 24/40\n",
            "44/44 [==============================] - 10s 198ms/step - loss: 0.7171 - accuracy: 0.6993 - val_loss: 1.0097 - val_accuracy: 0.5465\n",
            "Epoch 25/40\n",
            "44/44 [==============================] - 10s 197ms/step - loss: 0.7083 - accuracy: 0.7029 - val_loss: 1.0064 - val_accuracy: 0.5523\n",
            "Epoch 26/40\n",
            "44/44 [==============================] - 10s 193ms/step - loss: 0.7046 - accuracy: 0.7021 - val_loss: 0.9741 - val_accuracy: 0.5291\n",
            "Epoch 27/40\n",
            "44/44 [==============================] - 10s 196ms/step - loss: 0.7097 - accuracy: 0.7136 - val_loss: 0.9926 - val_accuracy: 0.5581\n",
            "Epoch 28/40\n",
            "44/44 [==============================] - 10s 200ms/step - loss: 0.6846 - accuracy: 0.7136 - val_loss: 0.9888 - val_accuracy: 0.5465\n",
            "Epoch 29/40\n",
            "44/44 [==============================] - 10s 195ms/step - loss: 0.6904 - accuracy: 0.7121 - val_loss: 0.9972 - val_accuracy: 0.5523\n",
            "Epoch 30/40\n",
            "44/44 [==============================] - 10s 194ms/step - loss: 0.6814 - accuracy: 0.7243 - val_loss: 1.0387 - val_accuracy: 0.5291\n",
            "Epoch 31/40\n",
            "44/44 [==============================] - 10s 189ms/step - loss: 0.6781 - accuracy: 0.7186 - val_loss: 0.9944 - val_accuracy: 0.5523\n",
            "Epoch 32/40\n",
            "44/44 [==============================] - 10s 192ms/step - loss: 0.6777 - accuracy: 0.7229 - val_loss: 1.0057 - val_accuracy: 0.5465\n",
            "Epoch 33/40\n",
            "44/44 [==============================] - 10s 197ms/step - loss: 0.6694 - accuracy: 0.7314 - val_loss: 1.0300 - val_accuracy: 0.5523\n",
            "Epoch 34/40\n",
            "44/44 [==============================] - 10s 190ms/step - loss: 0.6787 - accuracy: 0.7093 - val_loss: 1.0847 - val_accuracy: 0.5174\n",
            "Epoch 35/40\n",
            "44/44 [==============================] - 10s 188ms/step - loss: 0.6833 - accuracy: 0.7164 - val_loss: 1.0555 - val_accuracy: 0.5349\n",
            "Epoch 36/40\n",
            "44/44 [==============================] - 10s 193ms/step - loss: 0.6598 - accuracy: 0.7221 - val_loss: 1.0196 - val_accuracy: 0.5349\n",
            "Epoch 37/40\n",
            "44/44 [==============================] - 10s 194ms/step - loss: 0.6613 - accuracy: 0.7293 - val_loss: 1.0199 - val_accuracy: 0.5407\n",
            "Epoch 38/40\n",
            "44/44 [==============================] - 10s 195ms/step - loss: 0.6713 - accuracy: 0.7164 - val_loss: 1.0433 - val_accuracy: 0.5407\n",
            "Epoch 39/40\n",
            "44/44 [==============================] - 10s 188ms/step - loss: 0.6546 - accuracy: 0.7357 - val_loss: 1.0294 - val_accuracy: 0.5349\n",
            "Epoch 40/40\n",
            "44/44 [==============================] - 10s 186ms/step - loss: 0.6520 - accuracy: 0.7357 - val_loss: 1.0547 - val_accuracy: 0.5465\n"
          ]
        }
      ]
    },
    {
      "cell_type": "code",
      "source": [
        "# Evaluate the model on the test data\n",
        "results_feature_extraction = model_0.evaluate(test_data)\n",
        "results_feature_extraction"
      ],
      "metadata": {
        "colab": {
          "base_uri": "https://localhost:8080/"
        },
        "id": "1AK-j3Ktvuyc",
        "outputId": "ef94e658-07f0-4689-8b03-483a0278921a"
      },
      "execution_count": 17,
      "outputs": [
        {
          "output_type": "stream",
          "name": "stdout",
          "text": [
            "6/6 [==============================] - 1s 53ms/step - loss: 1.0547 - accuracy: 0.5465\n"
          ]
        },
        {
          "output_type": "execute_result",
          "data": {
            "text/plain": [
              "[1.0547319650650024, 0.5465116500854492]"
            ]
          },
          "metadata": {},
          "execution_count": 17
        }
      ]
    },
    {
      "cell_type": "code",
      "source": [
        "plot_loss_curves(history_0)"
      ],
      "metadata": {
        "colab": {
          "base_uri": "https://localhost:8080/",
          "height": 927
        },
        "id": "k3gmeoENvwI-",
        "outputId": "931a7133-7452-4c62-9c8e-be1497814d53"
      },
      "execution_count": 18,
      "outputs": [
        {
          "output_type": "display_data",
          "data": {
            "text/plain": [
              "<Figure size 640x480 with 1 Axes>"
            ],
            "image/png": "[encoded data removed]"
          },
          "metadata": {}
        },
        {
          "output_type": "display_data",
          "data": {
            "text/plain": [
              "<Figure size 640x480 with 1 Axes>"
            ],
            "image/png": "[encoded data removed]"
          },
          "metadata": {}
        }
      ]
    },
    {
      "cell_type": "code",
      "source": [
        "\n",
        "from sklearn.metrics import classification_report\n",
        "\n",
        "# Assuming you have true labels for your test data stored in y_true\n",
        "# and predictions from your model stored in y_pred\n",
        "\n",
        "# Convert categorical predictions to class labels\n",
        "y_pred_labels = np.argmax(model_0.predict(test_data), axis=1)\n",
        "\n",
        "# Get true labels from the test dataset\n",
        "y_true_labels = np.concatenate([y for x, y in test_data], axis=0)\n",
        "y_true_labels = np.argmax(y_true_labels, axis=1)\n",
        "\n",
        "# Generate classification report\n",
        "report = classification_report(y_true_labels, y_pred_labels)\n",
        "\n",
        "print(report)"
      ],
      "metadata": {
        "colab": {
          "base_uri": "https://localhost:8080/"
        },
        "id": "B0A7M87Pvxcz",
        "outputId": "e787b5fd-326b-4141-afb5-6c3102b35bf4"
      },
      "execution_count": 19,
      "outputs": [
        {
          "output_type": "stream",
          "name": "stdout",
          "text": [
            "6/6 [==============================] - 3s 67ms/step\n",
            "              precision    recall  f1-score   support\n",
            "\n",
            "           0       0.45      0.20      0.28        50\n",
            "           1       0.50      0.34      0.40        50\n",
            "           2       0.48      0.78      0.60        72\n",
            "\n",
            "    accuracy                           0.48       172\n",
            "   macro avg       0.48      0.44      0.43       172\n",
            "weighted avg       0.48      0.48      0.45       172\n",
            "\n"
          ]
        }
      ]
    },
    {
      "cell_type": "code",
      "source": [
        "# Eğitim doğruluğunu geçmiş verilerinden al\n",
        "train_accuracy = history_0.history['accuracy']\n",
        "\n",
        "# Son epoch'un eğitim doğruluğunu yazdır\n",
        "print(\"Eğitim doğruluğu:\", train_accuracy[-1])"
      ],
      "metadata": {
        "colab": {
          "base_uri": "https://localhost:8080/"
        },
        "id": "n6ALXz62vy7W",
        "outputId": "b2e0541e-bfe5-4826-a1db-0946c40432c7"
      },
      "execution_count": 20,
      "outputs": [
        {
          "output_type": "stream",
          "name": "stdout",
          "text": [
            "Eğitim doğruluğu: 0.7357142567634583\n"
          ]
        }
      ]
    },
    {
      "cell_type": "code",
      "source": [],
      "metadata": {
        "id": "SYTEZbD6v0Ln"
      },
      "execution_count": 20,
      "outputs": []
    }
  ]
}