{
  "nbformat": 4,
  "nbformat_minor": 0,
  "metadata": {
    "colab": {
      "provenance": [],
      "machine_shape": "hm",
      "gpuType": "T4"
    },
    "kernelspec": {
      "name": "python3",
      "display_name": "Python 3"
    },
    "language_info": {
      "name": "python"
    },
    "accelerator": "GPU"
  },
  "cells": [
    {
      "cell_type": "code",
      "execution_count": 1,
      "metadata": {
        "id": "Qs2OmG64SRk2",
        "colab": {
          "base_uri": "https://localhost:8080/"
        },
        "outputId": "7e8c4d5c-bb56-4396-fbb3-85924e60cb4d"
      },
      "outputs": [
        {
          "output_type": "stream",
          "name": "stdout",
          "text": [
            "--2024-07-25 19:11:18--  https://raw.githubusercontent.com/mrdbourke/tensorflow-deep-learning/main/extras/helper_functions.py\n",
            "Resolving raw.githubusercontent.com (raw.githubusercontent.com)... 185.199.108.133, 185.199.109.133, 185.199.110.133, ...\n",
            "Connecting to raw.githubusercontent.com (raw.githubusercontent.com)|185.199.108.133|:443... connected.\n",
            "HTTP request sent, awaiting response... 200 OK\n",
            "Length: 10246 (10K) [text/plain]\n",
            "Saving to: ‘helper_functions.py’\n",
            "\n",
            "helper_functions.py 100%[===================>]  10.01K  --.-KB/s    in 0s      \n",
            "\n",
            "2024-07-25 19:11:19 (126 MB/s) - ‘helper_functions.py’ saved [10246/10246]\n",
            "\n"
          ]
        }
      ],
      "source": [
        "!wget https://raw.githubusercontent.com/mrdbourke/tensorflow-deep-learning/main/extras/helper_functions.py"
      ]
    },
    {
      "cell_type": "code",
      "source": [
        "from helper_functions import create_tensorboard_callback, plot_loss_curves, unzip_data, walk_through_dir"
      ],
      "metadata": {
        "id": "fQVctMbsTgiw"
      },
      "execution_count": 2,
      "outputs": []
    },
    {
      "cell_type": "code",
      "source": [
        "import os\n",
        "\n",
        "for dirpath, dirnames, filenames in os.walk(\"/content/drive/MyDrive/Tez Dosyaları/birlesik veriseti 2 classli\"):\n",
        "  print(f\"There are {len(dirnames)} directories and {len(filenames)} images in '{dirpath}'.\")"
      ],
      "metadata": {
        "colab": {
          "base_uri": "https://localhost:8080/"
        },
        "id": "YRmfkAzdUBmz",
        "outputId": "ab943cc2-a449-411b-f5fc-5dce65b812a0"
      },
      "execution_count": 3,
      "outputs": [
        {
          "output_type": "stream",
          "name": "stdout",
          "text": [
            "There are 2 directories and 0 images in '/content/drive/MyDrive/Tez Dosyaları/birlesik veriseti 2 classli'.\n",
            "There are 2 directories and 0 images in '/content/drive/MyDrive/Tez Dosyaları/birlesik veriseti 2 classli/Train'.\n",
            "There are 0 directories and 840 images in '/content/drive/MyDrive/Tez Dosyaları/birlesik veriseti 2 classli/Train/Malignant'.\n",
            "There are 0 directories and 575 images in '/content/drive/MyDrive/Tez Dosyaları/birlesik veriseti 2 classli/Train/Benign'.\n",
            "There are 2 directories and 0 images in '/content/drive/MyDrive/Tez Dosyaları/birlesik veriseti 2 classli/Test'.\n",
            "There are 0 directories and 100 images in '/content/drive/MyDrive/Tez Dosyaları/birlesik veriseti 2 classli/Test/Benign'.\n",
            "There are 0 directories and 100 images in '/content/drive/MyDrive/Tez Dosyaları/birlesik veriseti 2 classli/Test/Malignant'.\n"
          ]
        }
      ]
    },
    {
      "cell_type": "code",
      "source": [
        "train_dir = \"/content/drive/MyDrive/Tez Dosyaları/birlesik veriseti 2 classli/Train\"\n",
        "test_dir = \"/content/drive/MyDrive/Tez Dosyaları/birlesik veriseti 2 classli/Test\""
      ],
      "metadata": {
        "id": "vEtHbifxUQRL"
      },
      "execution_count": 4,
      "outputs": []
    },
    {
      "cell_type": "code",
      "source": [
        "import tensorflow as tf\n",
        "BATCH_SIZE = 32\n",
        "IMG_SIZE = (224, 224)\n",
        "train_data= tf.keras.preprocessing.image_dataset_from_directory(train_dir,\n",
        "                                                          label_mode=\"binary\",\n",
        "                                                          batch_size=BATCH_SIZE,\n",
        "                                                          image_size=IMG_SIZE)\n",
        "\n",
        "test_data = tf.keras.preprocessing.image_dataset_from_directory(test_dir,\n",
        "                                                          label_mode=\"binary\",\n",
        "                                                          batch_size=BATCH_SIZE,\n",
        "                                                          image_size=IMG_SIZE)"
      ],
      "metadata": {
        "colab": {
          "base_uri": "https://localhost:8080/"
        },
        "id": "0yk3vHXOUd5Y",
        "outputId": "8a13c073-fd5c-4f92-83db-073c8b95e817"
      },
      "execution_count": 5,
      "outputs": [
        {
          "output_type": "stream",
          "name": "stdout",
          "text": [
            "Found 1415 files belonging to 2 classes.\n",
            "Found 200 files belonging to 2 classes.\n"
          ]
        }
      ]
    },
    {
      "cell_type": "code",
      "source": [
        "train_data.class_names"
      ],
      "metadata": {
        "colab": {
          "base_uri": "https://localhost:8080/"
        },
        "id": "u5mhg7yqUj70",
        "outputId": "9cd59eaf-1554-47fd-ecd0-8f239061cafb"
      },
      "execution_count": 6,
      "outputs": [
        {
          "output_type": "execute_result",
          "data": {
            "text/plain": [
              "['Benign', 'Malignant']"
            ]
          },
          "metadata": {},
          "execution_count": 6
        }
      ]
    },
    {
      "cell_type": "code",
      "source": [
        "from tensorflow.keras.preprocessing.image import ImageDataGenerator\n",
        "from tensorflow.keras.preprocessing.image import img_to_array\n",
        "from tensorflow.keras.preprocessing.image import load_img\n",
        "import numpy as np\n",
        "import random\n",
        "import math\n",
        "import csv\n",
        "import cv2\n",
        "import os"
      ],
      "metadata": {
        "id": "pchuVhrrUp9V"
      },
      "execution_count": 7,
      "outputs": []
    },
    {
      "cell_type": "code",
      "source": [
        "# 1.  create base model with tf.keras.applications\n",
        "base_model = tf.keras.applications.VGG16(include_top=False)\n",
        "\n",
        "# 2. Freeze the base model\n",
        "base_model.trainable = False\n",
        "\n",
        "# 3. create inputs into our model\n",
        "inputs = tf.keras.layers.Input(shape=(224, 224, 3), name=\"input_layer\")\n",
        "\n",
        "# 4. if using ResNet50V2 you will need to normalize inputs\n",
        "# x = tf.keras.layers.experimental.preprocessing.Rescaling(1./255)(inputs)\n",
        "\n",
        "# 5. pass the inputs to the base_model\n",
        "x = base_model(inputs)\n",
        "print(f\"Shape after passing inputs through base model: {x.shape}\")\n",
        "\n",
        "# 6. average pool the outputs of the base model (aggregate all the most important information, reduce number of computations)\n",
        "x = tf.keras.layers.GlobalAveragePooling2D(name=\"global_average_pooling_layer\")(x)\n",
        "print(f\"Shape after GlobalAveragePooling2D: {x.shape}\")\n",
        "\n",
        "# 7. create the output activation layer\n",
        "outputs = tf.keras.layers.Dense(1, activation=\"sigmoid\", name=\"output_layer\")(x)\n",
        "model_0 = tf.keras.Model(inputs, outputs)\n",
        "\n",
        "# 8. compile the model\n",
        "model_0.compile(loss=\"binary_crossentropy\",\n",
        "                optimizer=tf.keras.optimizers.Adam(),\n",
        "                metrics=[\"accuracy\"])\n",
        "\n",
        "# 9. fit the model\n",
        "history_0 = model_0.fit(train_data,\n",
        "                        epochs=40,\n",
        "                        steps_per_epoch=len(train_data),\n",
        "                        validation_data=test_data,\n",
        "                        validation_steps=int(len(test_data)),\n",
        "                        callbacks=[create_tensorboard_callback(dir_name=\"transfer_learning\",\n",
        "                                                              experiment_name=\"10_percent_feature_extraction\")])\n"
      ],
      "metadata": {
        "colab": {
          "base_uri": "https://localhost:8080/"
        },
        "id": "I3i718QZUsV_",
        "outputId": "a34bebef-7363-48b8-a4ed-466480427e35"
      },
      "execution_count": 29,
      "outputs": [
        {
          "output_type": "stream",
          "name": "stdout",
          "text": [
            "Downloading data from https://storage.googleapis.com/tensorflow/keras-applications/vgg16/vgg16_weights_tf_dim_ordering_tf_kernels_notop.h5\n",
            "58889256/58889256 [==============================] - 4s 0us/step\n",
            "Shape after passing inputs through base model: (None, 7, 7, 512)\n",
            "Shape after GlobalAveragePooling2D: (None, 512)\n",
            "Saving TensorBoard log files to: transfer_learning/10_percent_feature_extraction/20240725-194410\n",
            "Epoch 1/40\n",
            "45/45 [==============================] - 23s 314ms/step - loss: 0.9334 - accuracy: 0.5498 - val_loss: 0.7472 - val_accuracy: 0.6200\n",
            "Epoch 2/40\n",
            "45/45 [==============================] - 11s 210ms/step - loss: 0.7652 - accuracy: 0.5915 - val_loss: 0.7107 - val_accuracy: 0.6250\n",
            "Epoch 3/40\n",
            "45/45 [==============================] - 11s 205ms/step - loss: 0.6959 - accuracy: 0.6254 - val_loss: 0.6765 - val_accuracy: 0.6500\n",
            "Epoch 4/40\n",
            "45/45 [==============================] - 10s 201ms/step - loss: 0.6530 - accuracy: 0.6424 - val_loss: 0.6799 - val_accuracy: 0.6450\n",
            "Epoch 5/40\n",
            "45/45 [==============================] - 10s 201ms/step - loss: 0.6252 - accuracy: 0.6643 - val_loss: 0.6770 - val_accuracy: 0.6450\n",
            "Epoch 6/40\n",
            "45/45 [==============================] - 11s 204ms/step - loss: 0.6147 - accuracy: 0.6650 - val_loss: 0.6611 - val_accuracy: 0.6850\n",
            "Epoch 7/40\n",
            "45/45 [==============================] - 11s 208ms/step - loss: 0.5887 - accuracy: 0.6848 - val_loss: 0.6559 - val_accuracy: 0.6800\n",
            "Epoch 8/40\n",
            "45/45 [==============================] - 11s 206ms/step - loss: 0.5774 - accuracy: 0.7060 - val_loss: 0.6457 - val_accuracy: 0.6900\n",
            "Epoch 9/40\n",
            "45/45 [==============================] - 11s 206ms/step - loss: 0.5658 - accuracy: 0.7046 - val_loss: 0.6423 - val_accuracy: 0.6800\n",
            "Epoch 10/40\n",
            "45/45 [==============================] - 11s 205ms/step - loss: 0.5520 - accuracy: 0.7067 - val_loss: 0.6693 - val_accuracy: 0.6550\n",
            "Epoch 11/40\n",
            "45/45 [==============================] - 11s 202ms/step - loss: 0.5553 - accuracy: 0.6996 - val_loss: 0.6458 - val_accuracy: 0.6700\n",
            "Epoch 12/40\n",
            "45/45 [==============================] - 11s 206ms/step - loss: 0.5334 - accuracy: 0.7314 - val_loss: 0.6527 - val_accuracy: 0.6700\n",
            "Epoch 13/40\n",
            "45/45 [==============================] - 11s 209ms/step - loss: 0.5290 - accuracy: 0.7272 - val_loss: 0.6491 - val_accuracy: 0.6750\n",
            "Epoch 14/40\n",
            "45/45 [==============================] - 11s 207ms/step - loss: 0.5188 - accuracy: 0.7428 - val_loss: 0.6869 - val_accuracy: 0.6300\n",
            "Epoch 15/40\n",
            "45/45 [==============================] - 11s 205ms/step - loss: 0.5073 - accuracy: 0.7385 - val_loss: 0.6756 - val_accuracy: 0.6500\n",
            "Epoch 16/40\n",
            "45/45 [==============================] - 11s 204ms/step - loss: 0.5032 - accuracy: 0.7470 - val_loss: 0.6672 - val_accuracy: 0.6650\n",
            "Epoch 17/40\n",
            "45/45 [==============================] - 11s 202ms/step - loss: 0.4960 - accuracy: 0.7576 - val_loss: 0.6724 - val_accuracy: 0.6550\n",
            "Epoch 18/40\n",
            "45/45 [==============================] - 11s 203ms/step - loss: 0.4952 - accuracy: 0.7569 - val_loss: 0.6719 - val_accuracy: 0.6400\n",
            "Epoch 19/40\n",
            "45/45 [==============================] - 11s 207ms/step - loss: 0.4874 - accuracy: 0.7703 - val_loss: 0.6756 - val_accuracy: 0.6450\n",
            "Epoch 20/40\n",
            "45/45 [==============================] - 11s 205ms/step - loss: 0.4818 - accuracy: 0.7675 - val_loss: 0.7101 - val_accuracy: 0.6200\n",
            "Epoch 21/40\n",
            "45/45 [==============================] - 10s 202ms/step - loss: 0.4772 - accuracy: 0.7731 - val_loss: 0.6983 - val_accuracy: 0.6300\n",
            "Epoch 22/40\n",
            "45/45 [==============================] - 10s 201ms/step - loss: 0.4707 - accuracy: 0.7682 - val_loss: 0.6914 - val_accuracy: 0.6350\n",
            "Epoch 23/40\n",
            "45/45 [==============================] - 10s 199ms/step - loss: 0.4772 - accuracy: 0.7689 - val_loss: 0.6989 - val_accuracy: 0.6450\n",
            "Epoch 24/40\n",
            "45/45 [==============================] - 11s 206ms/step - loss: 0.4651 - accuracy: 0.7739 - val_loss: 0.7110 - val_accuracy: 0.6100\n",
            "Epoch 25/40\n",
            "45/45 [==============================] - 11s 208ms/step - loss: 0.4653 - accuracy: 0.7837 - val_loss: 0.7213 - val_accuracy: 0.6200\n",
            "Epoch 26/40\n",
            "45/45 [==============================] - 11s 204ms/step - loss: 0.4564 - accuracy: 0.7823 - val_loss: 0.7273 - val_accuracy: 0.6150\n",
            "Epoch 27/40\n",
            "45/45 [==============================] - 10s 202ms/step - loss: 0.4569 - accuracy: 0.7823 - val_loss: 0.7236 - val_accuracy: 0.6050\n",
            "Epoch 28/40\n",
            "45/45 [==============================] - 10s 201ms/step - loss: 0.4520 - accuracy: 0.7880 - val_loss: 0.7513 - val_accuracy: 0.5800\n",
            "Epoch 29/40\n",
            "45/45 [==============================] - 11s 203ms/step - loss: 0.4570 - accuracy: 0.7795 - val_loss: 0.7380 - val_accuracy: 0.6050\n",
            "Epoch 30/40\n",
            "45/45 [==============================] - 10s 202ms/step - loss: 0.4504 - accuracy: 0.7936 - val_loss: 0.7533 - val_accuracy: 0.6550\n",
            "Epoch 31/40\n",
            "45/45 [==============================] - 10s 204ms/step - loss: 0.4490 - accuracy: 0.7816 - val_loss: 0.7508 - val_accuracy: 0.6050\n",
            "Epoch 32/40\n",
            "45/45 [==============================] - 10s 200ms/step - loss: 0.4454 - accuracy: 0.7943 - val_loss: 0.7479 - val_accuracy: 0.6050\n",
            "Epoch 33/40\n",
            "45/45 [==============================] - 11s 207ms/step - loss: 0.4544 - accuracy: 0.7859 - val_loss: 0.7505 - val_accuracy: 0.6450\n",
            "Epoch 34/40\n",
            "45/45 [==============================] - 10s 202ms/step - loss: 0.4338 - accuracy: 0.8057 - val_loss: 0.7558 - val_accuracy: 0.6300\n",
            "Epoch 35/40\n",
            "45/45 [==============================] - 10s 202ms/step - loss: 0.4359 - accuracy: 0.7958 - val_loss: 0.7593 - val_accuracy: 0.6000\n",
            "Epoch 36/40\n",
            "45/45 [==============================] - 11s 204ms/step - loss: 0.4346 - accuracy: 0.7972 - val_loss: 0.7719 - val_accuracy: 0.5950\n",
            "Epoch 37/40\n",
            "45/45 [==============================] - 11s 216ms/step - loss: 0.4328 - accuracy: 0.7958 - val_loss: 0.7875 - val_accuracy: 0.5750\n",
            "Epoch 38/40\n",
            "45/45 [==============================] - 11s 208ms/step - loss: 0.4346 - accuracy: 0.8007 - val_loss: 0.7801 - val_accuracy: 0.6500\n",
            "Epoch 39/40\n",
            "45/45 [==============================] - 11s 206ms/step - loss: 0.4268 - accuracy: 0.8113 - val_loss: 0.7744 - val_accuracy: 0.6050\n",
            "Epoch 40/40\n",
            "45/45 [==============================] - 11s 207ms/step - loss: 0.4238 - accuracy: 0.8071 - val_loss: 0.7910 - val_accuracy: 0.5850\n"
          ]
        }
      ]
    },
    {
      "cell_type": "code",
      "source": [
        "import matplotlib.pyplot as plt\n",
        "\n",
        "def plot_loss_curves(history):\n",
        "  \"\"\"\n",
        "  Returns separate loss curves for training and validation metrics.\n",
        "  Args:\n",
        "    history: TensorFlow History object.\n",
        "\n",
        "    Returns:\n",
        "    Plots of training/validation loss and accuracy metrics.\n",
        "  \"\"\"\n",
        "  loss = history.history['loss']\n",
        "  val_loss = history.history['val_loss']\n",
        "\n",
        "  accuracy = history.history['accuracy']\n",
        "  val_accuracy = history.history['val_accuracy']\n",
        "\n",
        "  epochs = range(len(history.history['loss']))\n",
        "\n",
        "  #Plot loss\n",
        "\n",
        "  plt.plot(epochs, loss, label='training_loss')\n",
        "  plt.plot(epochs, val_loss, label='val_loss')\n",
        "  plt.title('Loss')\n",
        "  plt.xlabel('Epochs')\n",
        "  plt.legend()\n",
        "\n",
        "  #Plot accuracy\n",
        "  plt.figure()\n",
        "  plt.plot(epochs, accuracy, label='training_accuracy')\n",
        "  plt.plot(epochs, val_accuracy, label='val_accuracy')\n",
        "  plt.title('Accuracy')\n",
        "  plt.xlabel('Epochs')\n",
        "  plt.legend();\n",
        "\n",
        "plot_loss_curves(history_0)"
      ],
      "metadata": {
        "colab": {
          "base_uri": "https://localhost:8080/",
          "height": 927
        },
        "id": "bZwCrUWUUvW-",
        "outputId": "6289645b-ffb3-49c1-b04f-8fc944868847"
      },
      "execution_count": 30,
      "outputs": [
        {
          "output_type": "display_data",
          "data": {
            "text/plain": [
              "<Figure size 640x480 with 1 Axes>"
            ],
            "image/png": "[encoded data removed]"
          },
          "metadata": {}
        },
        {
          "output_type": "display_data",
          "data": {
            "text/plain": [
              "<Figure size 640x480 with 1 Axes>"
            ],
            "image/png": "[encoded data removed]"
          },
          "metadata": {}
        }
      ]
    },
    {
      "cell_type": "code",
      "source": [
        "\n",
        "results_feature_extraction = model_0.evaluate(test_data)\n",
        "results_feature_extraction"
      ],
      "metadata": {
        "colab": {
          "base_uri": "https://localhost:8080/"
        },
        "id": "_rruvTnTU3v2",
        "outputId": "fa5b5c14-f208-481b-b819-5d5ead5337ee"
      },
      "execution_count": 31,
      "outputs": [
        {
          "output_type": "stream",
          "name": "stdout",
          "text": [
            "7/7 [==============================] - 2s 118ms/step - loss: 0.7910 - accuracy: 0.5850\n"
          ]
        },
        {
          "output_type": "execute_result",
          "data": {
            "text/plain": [
              "[0.7910327911376953, 0.5849999785423279]"
            ]
          },
          "metadata": {},
          "execution_count": 31
        }
      ]
    },
    {
      "cell_type": "code",
      "source": [
        "# Get the predicted probabilities for the test set\n",
        "y_pred_probs = model_0.predict(test_data)\n",
        "\n",
        "# Convert probabilities to binary predictions (0 or 1)\n",
        "y_pred = (y_pred_probs > 0.5).astype(int)\n",
        "\n",
        "# Get the true labels for the test set\n",
        "y_true = np.concatenate([y for x, y in test_data], axis=0)\n",
        "\n",
        "# Calculate precision\n",
        "from sklearn.metrics import precision_score\n",
        "precision = precision_score(y_true, y_pred)\n",
        "print(\"Precision:\", precision)"
      ],
      "metadata": {
        "colab": {
          "base_uri": "https://localhost:8080/"
        },
        "id": "EfoOV83nU5wm",
        "outputId": "d7ff8265-a4e4-4e7c-fc66-e5ab3f4e234f"
      },
      "execution_count": 32,
      "outputs": [
        {
          "output_type": "stream",
          "name": "stdout",
          "text": [
            "7/7 [==============================] - 2s 127ms/step\n",
            "Precision: 0.45794392523364486\n"
          ]
        }
      ]
    },
    {
      "cell_type": "code",
      "source": [
        "\n",
        "from sklearn.metrics import recall_score\n",
        "\n",
        "# Calculate recall\n",
        "recall = recall_score(y_true, y_pred)\n",
        "print(\"Recall:\", recall)\n"
      ],
      "metadata": {
        "colab": {
          "base_uri": "https://localhost:8080/"
        },
        "id": "IV-Ia-8YU7Kb",
        "outputId": "8f9b50fd-8946-48fa-c070-4688d583e617"
      },
      "execution_count": 33,
      "outputs": [
        {
          "output_type": "stream",
          "name": "stdout",
          "text": [
            "Recall: 0.49\n"
          ]
        }
      ]
    },
    {
      "cell_type": "code",
      "source": [
        "from sklearn.metrics import f1_score\n",
        "# Calculate F1-score\n",
        "f1 = f1_score(y_true, y_pred)\n",
        "print(\"F1-score:\", f1)\n"
      ],
      "metadata": {
        "colab": {
          "base_uri": "https://localhost:8080/"
        },
        "id": "rB2akunGU8oO",
        "outputId": "f864c7ec-bc92-4ac8-ddac-ebdd61c87cd9"
      },
      "execution_count": 34,
      "outputs": [
        {
          "output_type": "stream",
          "name": "stdout",
          "text": [
            "F1-score: 0.4734299516908213\n"
          ]
        }
      ]
    },
    {
      "cell_type": "code",
      "source": [
        "# Eğitim doğruluğunu elde etmek için history_0 nesnesini kullanın\n",
        "train_accuracy = history_0.history['accuracy']\n",
        "\n",
        "# Son epoch'un eğitim doğruluğunu yazdırın\n",
        "print(\"Eğitim doğruluğu:\", train_accuracy[-1])"
      ],
      "metadata": {
        "colab": {
          "base_uri": "https://localhost:8080/"
        },
        "id": "6-63WHCpU-Po",
        "outputId": "28276788-12a2-4b1d-f845-fa18b0b809bc"
      },
      "execution_count": 35,
      "outputs": [
        {
          "output_type": "stream",
          "name": "stdout",
          "text": [
            "Eğitim doğruluğu: 0.8070671558380127\n"
          ]
        }
      ]
    },
    {
      "cell_type": "code",
      "source": [],
      "metadata": {
        "id": "BsfWb3mwU_h7"
      },
      "execution_count": 35,
      "outputs": []
    }
  ]
}