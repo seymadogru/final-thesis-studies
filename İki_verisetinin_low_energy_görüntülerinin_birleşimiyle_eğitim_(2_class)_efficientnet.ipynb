{
  "nbformat": 4,
  "nbformat_minor": 0,
  "metadata": {
    "colab": {
      "provenance": [],
      "machine_shape": "hm",
      "gpuType": "T4"
    },
    "kernelspec": {
      "name": "python3",
      "display_name": "Python 3"
    },
    "language_info": {
      "name": "python"
    },
    "accelerator": "GPU"
  },
  "cells": [
    {
      "cell_type": "code",
      "execution_count": 1,
      "metadata": {
        "colab": {
          "base_uri": "https://localhost:8080/"
        },
        "id": "gbnn7I5ppD3v",
        "outputId": "de3acaaa-3607-4426-c299-c3b2c465fc00"
      },
      "outputs": [
        {
          "output_type": "stream",
          "name": "stdout",
          "text": [
            "Mounted at /content/drive\n"
          ]
        }
      ],
      "source": [
        "\n",
        "from google.colab import drive\n",
        "drive.mount('/content/drive')"
      ]
    },
    {
      "cell_type": "code",
      "source": [
        "!wget https://raw.githubusercontent.com/mrdbourke/tensorflow-deep-learning/main/extras/helper_functions.py"
      ],
      "metadata": {
        "colab": {
          "base_uri": "https://localhost:8080/"
        },
        "id": "GEOUS8tkqQ5b",
        "outputId": "f72377aa-d87d-4e4d-a0e2-ae5919bf2f84"
      },
      "execution_count": 2,
      "outputs": [
        {
          "output_type": "stream",
          "name": "stdout",
          "text": [
            "--2024-07-30 17:21:48--  https://raw.githubusercontent.com/mrdbourke/tensorflow-deep-learning/main/extras/helper_functions.py\n",
            "Resolving raw.githubusercontent.com (raw.githubusercontent.com)... 185.199.109.133, 185.199.108.133, 185.199.111.133, ...\n",
            "Connecting to raw.githubusercontent.com (raw.githubusercontent.com)|185.199.109.133|:443... connected.\n",
            "HTTP request sent, awaiting response... 200 OK\n",
            "Length: 10246 (10K) [text/plain]\n",
            "Saving to: ‘helper_functions.py’\n",
            "\n",
            "\rhelper_functions.py   0%[                    ]       0  --.-KB/s               \rhelper_functions.py 100%[===================>]  10.01K  --.-KB/s    in 0s      \n",
            "\n",
            "2024-07-30 17:21:48 (112 MB/s) - ‘helper_functions.py’ saved [10246/10246]\n",
            "\n"
          ]
        }
      ]
    },
    {
      "cell_type": "code",
      "source": [
        "#import helper functions we're going to use in this notebook\n",
        "\n",
        "from helper_functions import create_tensorboard_callback, plot_loss_curves, unzip_data, walk_through_dir\n"
      ],
      "metadata": {
        "id": "hK_l2L0iqZKA"
      },
      "execution_count": 3,
      "outputs": []
    },
    {
      "cell_type": "code",
      "source": [
        "import os\n",
        "\n",
        "for dirpath, dirnames, filenames in os.walk(\"/content/drive/MyDrive/Tez Dosyaları/low energy 2 classlı\"):\n",
        "  print(f\"There are {len(dirnames)} directories and {len(filenames)} images in '{dirpath}'.\")\n",
        "\n",
        ""
      ],
      "metadata": {
        "colab": {
          "base_uri": "https://localhost:8080/"
        },
        "id": "CJUXA2gXqa-A",
        "outputId": "401c3e50-c31a-4125-bb4f-bd964031495f"
      },
      "execution_count": 4,
      "outputs": [
        {
          "output_type": "stream",
          "name": "stdout",
          "text": [
            "There are 2 directories and 0 images in '/content/drive/MyDrive/Tez Dosyaları/low energy 2 classlı'.\n",
            "There are 2 directories and 0 images in '/content/drive/MyDrive/Tez Dosyaları/low energy 2 classlı/Train'.\n",
            "There are 0 directories and 420 images in '/content/drive/MyDrive/Tez Dosyaları/low energy 2 classlı/Train/Malignant'.\n",
            "There are 0 directories and 325 images in '/content/drive/MyDrive/Tez Dosyaları/low energy 2 classlı/Train/Benign'.\n",
            "There are 2 directories and 0 images in '/content/drive/MyDrive/Tez Dosyaları/low energy 2 classlı/Test'.\n",
            "There are 0 directories and 50 images in '/content/drive/MyDrive/Tez Dosyaları/low energy 2 classlı/Test/Malignant'.\n",
            "There are 0 directories and 50 images in '/content/drive/MyDrive/Tez Dosyaları/low energy 2 classlı/Test/Benign'.\n"
          ]
        }
      ]
    },
    {
      "cell_type": "code",
      "source": [
        "\n",
        "train_dir = \"/content/drive/MyDrive/Tez Dosyaları/low energy 2 classlı/Train\"\n",
        "test_dir = \"/content/drive/MyDrive/Tez Dosyaları/low energy 2 classlı/Test\""
      ],
      "metadata": {
        "id": "_NzHZ4XuqhBQ"
      },
      "execution_count": 5,
      "outputs": []
    },
    {
      "cell_type": "code",
      "source": [
        "import tensorflow as tf\n",
        "BATCH_SIZE = 32\n",
        "IMG_SIZE = (224, 224)\n",
        "train_data= tf.keras.preprocessing.image_dataset_from_directory(train_dir,\n",
        "                                                          label_mode=\"binary\",\n",
        "                                                          batch_size=BATCH_SIZE,\n",
        "                                                          image_size=IMG_SIZE)\n",
        "\n",
        "test_data = tf.keras.preprocessing.image_dataset_from_directory(test_dir,\n",
        "                                                          label_mode=\"binary\",\n",
        "                                                          batch_size=BATCH_SIZE,\n",
        "                                                          image_size=IMG_SIZE)"
      ],
      "metadata": {
        "colab": {
          "base_uri": "https://localhost:8080/"
        },
        "id": "JSaT6B8wqmGe",
        "outputId": "c9bb7076-b7f3-4232-ecf8-3721c0530b34"
      },
      "execution_count": 6,
      "outputs": [
        {
          "output_type": "stream",
          "name": "stdout",
          "text": [
            "Found 745 files belonging to 2 classes.\n",
            "Found 100 files belonging to 2 classes.\n"
          ]
        }
      ]
    },
    {
      "cell_type": "code",
      "source": [
        "train_data.class_names"
      ],
      "metadata": {
        "colab": {
          "base_uri": "https://localhost:8080/"
        },
        "id": "z_mae4EUqoa_",
        "outputId": "9eca12c4-a6c1-48fc-dd0c-633e94df3250"
      },
      "execution_count": 7,
      "outputs": [
        {
          "output_type": "execute_result",
          "data": {
            "text/plain": [
              "['Benign', 'Malignant']"
            ]
          },
          "metadata": {},
          "execution_count": 7
        }
      ]
    },
    {
      "cell_type": "code",
      "source": [
        "from tensorflow.keras.preprocessing.image import ImageDataGenerator\n",
        "from tensorflow.keras.preprocessing.image import img_to_array\n",
        "from tensorflow.keras.preprocessing.image import load_img\n",
        "import numpy as np\n",
        "import random\n",
        "import math\n",
        "import csv\n",
        "import cv2\n",
        "import os"
      ],
      "metadata": {
        "id": "Gdc0J2uercAH"
      },
      "execution_count": 8,
      "outputs": []
    },
    {
      "cell_type": "code",
      "source": [
        "# 1.  create base model with tf.keras.applications\n",
        "base_model = tf.keras.applications.EfficientNetB0(include_top=False)\n",
        "\n",
        "# 2. Freeze the base model\n",
        "base_model.trainable = False\n",
        "\n",
        "# 3. create inputs into our model\n",
        "inputs = tf.keras.layers.Input(shape=(224, 224, 3), name=\"input_layer\")\n",
        "\n",
        "# 4. if using ResNet50V2 you will need to normalize inputs\n",
        "# x = tf.keras.layers.experimental.preprocessing.Rescaling(1./255)(inputs)\n",
        "\n",
        "# 5. pass the inputs to the base_model\n",
        "x = base_model(inputs)\n",
        "print(f\"Shape after passing inputs through base model: {x.shape}\")\n",
        "\n",
        "# 6. average pool the outputs of the base model (aggregate all the most important information, reduce number of computations)\n",
        "x = tf.keras.layers.GlobalAveragePooling2D(name=\"global_average_pooling_layer\")(x)\n",
        "print(f\"Shape after GlobalAveragePooling2D: {x.shape}\")\n",
        "\n",
        "# 7. create the output activation layer\n",
        "outputs = tf.keras.layers.Dense(1, activation=\"sigmoid\", name=\"output_layer\")(x)\n",
        "model_0 = tf.keras.Model(inputs, outputs)\n",
        "\n",
        "# 8. compile the model\n",
        "model_0.compile(loss=\"binary_crossentropy\",\n",
        "                optimizer=tf.keras.optimizers.Adam(),\n",
        "                metrics=[\"accuracy\"])\n",
        "\n",
        "# 9. fit the model\n",
        "history_0 = model_0.fit(train_data,\n",
        "                        epochs=40,\n",
        "                        steps_per_epoch=len(train_data),\n",
        "                        validation_data=test_data,\n",
        "                        validation_steps=int(len(test_data)),\n",
        "                        callbacks=[create_tensorboard_callback(dir_name=\"transfer_learning\",\n",
        "                                                              experiment_name=\"10_percent_feature_extraction\")])\n"
      ],
      "metadata": {
        "colab": {
          "base_uri": "https://localhost:8080/"
        },
        "id": "Twe27qyHrh6F",
        "outputId": "f4fd0655-c1c5-4b72-fd67-b2e216e983ea"
      },
      "execution_count": 9,
      "outputs": [
        {
          "output_type": "stream",
          "name": "stdout",
          "text": [
            "Downloading data from https://storage.googleapis.com/keras-applications/efficientnetb0_notop.h5\n",
            "16705208/16705208 [==============================] - 0s 0us/step\n",
            "Shape after passing inputs through base model: (None, 7, 7, 1280)\n",
            "Shape after GlobalAveragePooling2D: (None, 1280)\n",
            "Saving TensorBoard log files to: transfer_learning/10_percent_feature_extraction/20240730-172709\n",
            "Epoch 1/40\n",
            "24/24 [==============================] - 49s 1s/step - loss: 0.6862 - accuracy: 0.5879 - val_loss: 0.6856 - val_accuracy: 0.5800\n",
            "Epoch 2/40\n",
            "24/24 [==============================] - 5s 160ms/step - loss: 0.6398 - accuracy: 0.6362 - val_loss: 0.6692 - val_accuracy: 0.6400\n",
            "Epoch 3/40\n",
            "24/24 [==============================] - 5s 154ms/step - loss: 0.6166 - accuracy: 0.6537 - val_loss: 0.6635 - val_accuracy: 0.6600\n",
            "Epoch 4/40\n",
            "24/24 [==============================] - 5s 155ms/step - loss: 0.6084 - accuracy: 0.6792 - val_loss: 0.7005 - val_accuracy: 0.5700\n",
            "Epoch 5/40\n",
            "24/24 [==============================] - 5s 162ms/step - loss: 0.5893 - accuracy: 0.7074 - val_loss: 0.6700 - val_accuracy: 0.6800\n",
            "Epoch 6/40\n",
            "24/24 [==============================] - 5s 165ms/step - loss: 0.5834 - accuracy: 0.6966 - val_loss: 0.7085 - val_accuracy: 0.6000\n",
            "Epoch 7/40\n",
            "24/24 [==============================] - 5s 164ms/step - loss: 0.5782 - accuracy: 0.6993 - val_loss: 0.6925 - val_accuracy: 0.6100\n",
            "Epoch 8/40\n",
            "24/24 [==============================] - 6s 164ms/step - loss: 0.5709 - accuracy: 0.7074 - val_loss: 0.6859 - val_accuracy: 0.6300\n",
            "Epoch 9/40\n",
            "24/24 [==============================] - 5s 157ms/step - loss: 0.5613 - accuracy: 0.7356 - val_loss: 0.6878 - val_accuracy: 0.6400\n",
            "Epoch 10/40\n",
            "24/24 [==============================] - 5s 150ms/step - loss: 0.5606 - accuracy: 0.7181 - val_loss: 0.6730 - val_accuracy: 0.6500\n",
            "Epoch 11/40\n",
            "24/24 [==============================] - 5s 156ms/step - loss: 0.5544 - accuracy: 0.7342 - val_loss: 0.7309 - val_accuracy: 0.5800\n",
            "Epoch 12/40\n",
            "24/24 [==============================] - 5s 165ms/step - loss: 0.5430 - accuracy: 0.7315 - val_loss: 0.7284 - val_accuracy: 0.6100\n",
            "Epoch 13/40\n",
            "24/24 [==============================] - 5s 154ms/step - loss: 0.5431 - accuracy: 0.7275 - val_loss: 0.6871 - val_accuracy: 0.6500\n",
            "Epoch 14/40\n",
            "24/24 [==============================] - 6s 175ms/step - loss: 0.5389 - accuracy: 0.7315 - val_loss: 0.7003 - val_accuracy: 0.6300\n",
            "Epoch 15/40\n",
            "24/24 [==============================] - 5s 158ms/step - loss: 0.5296 - accuracy: 0.7436 - val_loss: 0.6815 - val_accuracy: 0.6400\n",
            "Epoch 16/40\n",
            "24/24 [==============================] - 5s 156ms/step - loss: 0.5291 - accuracy: 0.7530 - val_loss: 0.6837 - val_accuracy: 0.6400\n",
            "Epoch 17/40\n",
            "24/24 [==============================] - 5s 154ms/step - loss: 0.5298 - accuracy: 0.7329 - val_loss: 0.6986 - val_accuracy: 0.6500\n",
            "Epoch 18/40\n",
            "24/24 [==============================] - 5s 151ms/step - loss: 0.5233 - accuracy: 0.7477 - val_loss: 0.7317 - val_accuracy: 0.6100\n",
            "Epoch 19/40\n",
            "24/24 [==============================] - 5s 163ms/step - loss: 0.5219 - accuracy: 0.7477 - val_loss: 0.7269 - val_accuracy: 0.6200\n",
            "Epoch 20/40\n",
            "24/24 [==============================] - 5s 156ms/step - loss: 0.5090 - accuracy: 0.7691 - val_loss: 0.7062 - val_accuracy: 0.6500\n",
            "Epoch 21/40\n",
            "24/24 [==============================] - 5s 159ms/step - loss: 0.5170 - accuracy: 0.7530 - val_loss: 0.6805 - val_accuracy: 0.6600\n",
            "Epoch 22/40\n",
            "24/24 [==============================] - 5s 157ms/step - loss: 0.4984 - accuracy: 0.7597 - val_loss: 0.7025 - val_accuracy: 0.6400\n",
            "Epoch 23/40\n",
            "24/24 [==============================] - 5s 156ms/step - loss: 0.5038 - accuracy: 0.7718 - val_loss: 0.6994 - val_accuracy: 0.6500\n",
            "Epoch 24/40\n",
            "24/24 [==============================] - 5s 158ms/step - loss: 0.5005 - accuracy: 0.7705 - val_loss: 0.6993 - val_accuracy: 0.6500\n",
            "Epoch 25/40\n",
            "24/24 [==============================] - 5s 154ms/step - loss: 0.5015 - accuracy: 0.7651 - val_loss: 0.7083 - val_accuracy: 0.6400\n",
            "Epoch 26/40\n",
            "24/24 [==============================] - 5s 169ms/step - loss: 0.4951 - accuracy: 0.7597 - val_loss: 0.7243 - val_accuracy: 0.6300\n",
            "Epoch 27/40\n",
            "24/24 [==============================] - 5s 157ms/step - loss: 0.4951 - accuracy: 0.7638 - val_loss: 0.7225 - val_accuracy: 0.6400\n",
            "Epoch 28/40\n",
            "24/24 [==============================] - 5s 153ms/step - loss: 0.4845 - accuracy: 0.7772 - val_loss: 0.7214 - val_accuracy: 0.6500\n",
            "Epoch 29/40\n",
            "24/24 [==============================] - 5s 161ms/step - loss: 0.4899 - accuracy: 0.7718 - val_loss: 0.7139 - val_accuracy: 0.6300\n",
            "Epoch 30/40\n",
            "24/24 [==============================] - 5s 153ms/step - loss: 0.4888 - accuracy: 0.7718 - val_loss: 0.7282 - val_accuracy: 0.6300\n",
            "Epoch 31/40\n",
            "24/24 [==============================] - 5s 162ms/step - loss: 0.4846 - accuracy: 0.7664 - val_loss: 0.7459 - val_accuracy: 0.6300\n",
            "Epoch 32/40\n",
            "24/24 [==============================] - 5s 159ms/step - loss: 0.4877 - accuracy: 0.7691 - val_loss: 0.7054 - val_accuracy: 0.6500\n",
            "Epoch 33/40\n",
            "24/24 [==============================] - 5s 154ms/step - loss: 0.4766 - accuracy: 0.7785 - val_loss: 0.7142 - val_accuracy: 0.6500\n",
            "Epoch 34/40\n",
            "24/24 [==============================] - 5s 158ms/step - loss: 0.4798 - accuracy: 0.7839 - val_loss: 0.7212 - val_accuracy: 0.6500\n",
            "Epoch 35/40\n",
            "24/24 [==============================] - 5s 159ms/step - loss: 0.4796 - accuracy: 0.7785 - val_loss: 0.7032 - val_accuracy: 0.6500\n",
            "Epoch 36/40\n",
            "24/24 [==============================] - 5s 163ms/step - loss: 0.4680 - accuracy: 0.7839 - val_loss: 0.7028 - val_accuracy: 0.6600\n",
            "Epoch 37/40\n",
            "24/24 [==============================] - 5s 154ms/step - loss: 0.4676 - accuracy: 0.7906 - val_loss: 0.7161 - val_accuracy: 0.6500\n",
            "Epoch 38/40\n",
            "24/24 [==============================] - 5s 158ms/step - loss: 0.4690 - accuracy: 0.7839 - val_loss: 0.7121 - val_accuracy: 0.6400\n",
            "Epoch 39/40\n",
            "24/24 [==============================] - 5s 159ms/step - loss: 0.4631 - accuracy: 0.7852 - val_loss: 0.6942 - val_accuracy: 0.6700\n",
            "Epoch 40/40\n",
            "24/24 [==============================] - 5s 153ms/step - loss: 0.4667 - accuracy: 0.7919 - val_loss: 0.7154 - val_accuracy: 0.6600\n"
          ]
        }
      ]
    },
    {
      "cell_type": "code",
      "source": [
        "import matplotlib.pyplot as plt\n",
        "\n",
        "def plot_loss_curves(history):\n",
        "  \"\"\"\n",
        "  Returns separate loss curves for training and validation metrics.\n",
        "  Args:\n",
        "    history: TensorFlow History object.\n",
        "\n",
        "    Returns:\n",
        "    Plots of training/validation loss and accuracy metrics.\n",
        "  \"\"\"\n",
        "  loss = history.history['loss']\n",
        "  val_loss = history.history['val_loss']\n",
        "\n",
        "  accuracy = history.history['accuracy']\n",
        "  val_accuracy = history.history['val_accuracy']\n",
        "\n",
        "  epochs = range(len(history.history['loss']))\n",
        "\n",
        "  #Plot loss\n",
        "\n",
        "  plt.plot(epochs, loss, label='training_loss')\n",
        "  plt.plot(epochs, val_loss, label='val_loss')\n",
        "  plt.title('Loss')\n",
        "  plt.xlabel('Epochs')\n",
        "  plt.legend()\n",
        "\n",
        "  #Plot accuracy\n",
        "  plt.figure()\n",
        "  plt.plot(epochs, accuracy, label='training_accuracy')\n",
        "  plt.plot(epochs, val_accuracy, label='val_accuracy')\n",
        "  plt.title('Accuracy')\n",
        "  plt.xlabel('Epochs')\n",
        "  plt.legend();\n",
        "\n",
        "plot_loss_curves(history_0)"
      ],
      "metadata": {
        "colab": {
          "base_uri": "https://localhost:8080/",
          "height": 927
        },
        "id": "Q-5nt7ajrmxu",
        "outputId": "a58c4a51-51ac-4aaa-8ce1-78ac775c57a1"
      },
      "execution_count": 10,
      "outputs": [
        {
          "output_type": "display_data",
          "data": {
            "text/plain": [
              "<Figure size 640x480 with 1 Axes>"
            ],
            "image/png": "[encoded data removed]"
          },
          "metadata": {}
        },
        {
          "output_type": "display_data",
          "data": {
            "text/plain": [
              "<Figure size 640x480 with 1 Axes>"
            ],
            "image/png": "[encoded data removed]"
          },
          "metadata": {}
        }
      ]
    },
    {
      "cell_type": "code",
      "source": [
        "results_feature_extraction = model_0.evaluate(test_data)\n",
        "results_feature_extraction"
      ],
      "metadata": {
        "colab": {
          "base_uri": "https://localhost:8080/"
        },
        "id": "cG1S28JSrpXa",
        "outputId": "e659bcec-d1a4-42a6-e90c-b6e85ac11eb2"
      },
      "execution_count": 11,
      "outputs": [
        {
          "output_type": "stream",
          "name": "stdout",
          "text": [
            "4/4 [==============================] - 1s 45ms/step - loss: 0.7154 - accuracy: 0.6600\n"
          ]
        },
        {
          "output_type": "execute_result",
          "data": {
            "text/plain": [
              "[0.7154278755187988, 0.6600000262260437]"
            ]
          },
          "metadata": {},
          "execution_count": 11
        }
      ]
    },
    {
      "cell_type": "code",
      "source": [
        "# Get the predicted probabilities for the test set\n",
        "y_pred_probs = model_0.predict(test_data)\n",
        "\n",
        "# Convert probabilities to binary predictions (0 or 1)\n",
        "y_pred = (y_pred_probs > 0.5).astype(int)\n",
        "\n",
        "# Get the true labels for the test set\n",
        "y_true = np.concatenate([y for x, y in test_data], axis=0)\n",
        "\n",
        "# Calculate precision\n",
        "from sklearn.metrics import precision_score\n",
        "precision = precision_score(y_true, y_pred)\n",
        "print(\"Precision:\", precision)\n",
        ""
      ],
      "metadata": {
        "colab": {
          "base_uri": "https://localhost:8080/"
        },
        "id": "Io8ByLm4rq61",
        "outputId": "a1885f57-72be-4723-cdd2-3374f02a6b69"
      },
      "execution_count": 12,
      "outputs": [
        {
          "output_type": "stream",
          "name": "stdout",
          "text": [
            "4/4 [==============================] - 2s 72ms/step\n",
            "Precision: 0.5571428571428572\n"
          ]
        }
      ]
    },
    {
      "cell_type": "code",
      "source": [
        "from sklearn.metrics import recall_score\n",
        "\n",
        "# Calculate recall\n",
        "recall = recall_score(y_true, y_pred)\n",
        "print(\"Recall:\", recall)"
      ],
      "metadata": {
        "colab": {
          "base_uri": "https://localhost:8080/"
        },
        "id": "qUnBlENSrtgL",
        "outputId": "2ba75651-15e3-4ab9-f0d2-94cee5731d3e"
      },
      "execution_count": 13,
      "outputs": [
        {
          "output_type": "stream",
          "name": "stdout",
          "text": [
            "Recall: 0.78\n"
          ]
        }
      ]
    },
    {
      "cell_type": "code",
      "source": [
        "from sklearn.metrics import f1_score\n",
        "# Calculate F1-score\n",
        "f1 = f1_score(y_true, y_pred)\n",
        "print(\"F1-score:\", f1)"
      ],
      "metadata": {
        "colab": {
          "base_uri": "https://localhost:8080/"
        },
        "id": "o9oOP8worvAo",
        "outputId": "34b3ff49-8d18-4f32-e7a5-2bd6f9b6d2d8"
      },
      "execution_count": 14,
      "outputs": [
        {
          "output_type": "stream",
          "name": "stdout",
          "text": [
            "F1-score: 0.65\n"
          ]
        }
      ]
    },
    {
      "cell_type": "code",
      "source": [
        "# Eğitim doğruluğunu elde etmek için history_0 nesnesini kullanın\n",
        "train_accuracy = history_0.history['accuracy']\n",
        "\n",
        "# Son epoch'un eğitim doğruluğunu yazdırın\n",
        "print(\"Eğitim doğruluğu:\", train_accuracy[-1])"
      ],
      "metadata": {
        "colab": {
          "base_uri": "https://localhost:8080/"
        },
        "id": "I1sTbDm7rwf2",
        "outputId": "ab53467b-f14b-4cc0-ba74-9c1847d2c56a"
      },
      "execution_count": 15,
      "outputs": [
        {
          "output_type": "stream",
          "name": "stdout",
          "text": [
            "Eğitim doğruluğu: 0.791946291923523\n"
          ]
        }
      ]
    },
    {
      "cell_type": "code",
      "source": [],
      "metadata": {
        "id": "0RC0fUsCrx8y"
      },
      "execution_count": null,
      "outputs": []
    }
  ]
}