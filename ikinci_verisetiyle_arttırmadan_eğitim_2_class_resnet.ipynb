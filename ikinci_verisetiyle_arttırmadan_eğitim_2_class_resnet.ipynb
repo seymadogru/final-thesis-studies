{
  "nbformat": 4,
  "nbformat_minor": 0,
  "metadata": {
    "colab": {
      "provenance": [],
      "machine_shape": "hm",
      "gpuType": "T4"
    },
    "kernelspec": {
      "name": "python3",
      "display_name": "Python 3"
    },
    "language_info": {
      "name": "python"
    },
    "accelerator": "GPU"
  },
  "cells": [
    {
      "cell_type": "code",
      "execution_count": 1,
      "metadata": {
        "colab": {
          "base_uri": "https://localhost:8080/"
        },
        "id": "Ukn8C3kreVCG",
        "outputId": "864bf3ee-06fa-4e84-edb0-e05151e961c8"
      },
      "outputs": [
        {
          "output_type": "stream",
          "name": "stdout",
          "text": [
            "--2024-07-25 06:01:14--  https://raw.githubusercontent.com/mrdbourke/tensorflow-deep-learning/main/extras/helper_functions.py\n",
            "Resolving raw.githubusercontent.com (raw.githubusercontent.com)... 185.199.108.133, 185.199.109.133, 185.199.110.133, ...\n",
            "Connecting to raw.githubusercontent.com (raw.githubusercontent.com)|185.199.108.133|:443... connected.\n",
            "HTTP request sent, awaiting response... 200 OK\n",
            "Length: 10246 (10K) [text/plain]\n",
            "Saving to: ‘helper_functions.py’\n",
            "\n",
            "\rhelper_functions.py   0%[                    ]       0  --.-KB/s               \rhelper_functions.py 100%[===================>]  10.01K  --.-KB/s    in 0s      \n",
            "\n",
            "2024-07-25 06:01:15 (117 MB/s) - ‘helper_functions.py’ saved [10246/10246]\n",
            "\n"
          ]
        }
      ],
      "source": [
        "!wget https://raw.githubusercontent.com/mrdbourke/tensorflow-deep-learning/main/extras/helper_functions.py\n",
        ""
      ]
    },
    {
      "cell_type": "code",
      "source": [
        "from helper_functions import create_tensorboard_callback, plot_loss_curves, unzip_data, walk_through_dir"
      ],
      "metadata": {
        "id": "PDAERQaverZZ"
      },
      "execution_count": 2,
      "outputs": []
    },
    {
      "cell_type": "code",
      "source": [
        "import os\n",
        "\n",
        "for dirpath, dirnames, filenames in os.walk(\"/content/drive/MyDrive/Tez Dosyaları/ikinci veriseti 2 class\"):\n",
        "  print(f\"There are {len(dirnames)} directories and {len(filenames)} images in '{dirpath}'.\")\n",
        ""
      ],
      "metadata": {
        "colab": {
          "base_uri": "https://localhost:8080/"
        },
        "id": "yClEIe23etR0",
        "outputId": "09b59e16-5f49-4e69-ee47-a23b187f4cfd"
      },
      "execution_count": 3,
      "outputs": [
        {
          "output_type": "stream",
          "name": "stdout",
          "text": [
            "There are 2 directories and 0 images in '/content/drive/MyDrive/Tez Dosyaları/ikinci veriseti 2 class'.\n",
            "There are 2 directories and 0 images in '/content/drive/MyDrive/Tez Dosyaları/ikinci veriseti 2 class/Train'.\n",
            "There are 0 directories and 223 images in '/content/drive/MyDrive/Tez Dosyaları/ikinci veriseti 2 class/Train/Malignant'.\n",
            "There are 0 directories and 70 images in '/content/drive/MyDrive/Tez Dosyaları/ikinci veriseti 2 class/Train/Benign'.\n",
            "There are 2 directories and 0 images in '/content/drive/MyDrive/Tez Dosyaları/ikinci veriseti 2 class/Test'.\n",
            "There are 0 directories and 55 images in '/content/drive/MyDrive/Tez Dosyaları/ikinci veriseti 2 class/Test/Malignant'.\n",
            "There are 0 directories and 18 images in '/content/drive/MyDrive/Tez Dosyaları/ikinci veriseti 2 class/Test/Benign'.\n"
          ]
        }
      ]
    },
    {
      "cell_type": "code",
      "source": [
        "train_dir = \"/content/drive/MyDrive/Tez Dosyaları/ikinci veriseti 2 class/Train\"\n",
        "test_dir = \"/content/drive/MyDrive/Tez Dosyaları/ikinci veriseti 2 class/Test\""
      ],
      "metadata": {
        "id": "TCNPwJsGe1Hc"
      },
      "execution_count": 4,
      "outputs": []
    },
    {
      "cell_type": "code",
      "source": [
        "import tensorflow as tf\n",
        "BATCH_SIZE = 32\n",
        "IMG_SIZE = (224, 224)\n",
        "train_data= tf.keras.preprocessing.image_dataset_from_directory(train_dir,\n",
        "                                                          label_mode=\"binary\",\n",
        "                                                          batch_size=BATCH_SIZE,\n",
        "                                                          image_size=IMG_SIZE)\n",
        "\n",
        "test_data = tf.keras.preprocessing.image_dataset_from_directory(test_dir,\n",
        "                                                          label_mode=\"binary\",\n",
        "                                                          batch_size=BATCH_SIZE,\n",
        "                                                          image_size=IMG_SIZE)"
      ],
      "metadata": {
        "colab": {
          "base_uri": "https://localhost:8080/"
        },
        "id": "mJWiSACdfQAg",
        "outputId": "a28d5d41-0e3a-49b2-cd04-8dcccbeaebf7"
      },
      "execution_count": 5,
      "outputs": [
        {
          "output_type": "stream",
          "name": "stdout",
          "text": [
            "Found 293 files belonging to 2 classes.\n",
            "Found 73 files belonging to 2 classes.\n"
          ]
        }
      ]
    },
    {
      "cell_type": "code",
      "source": [
        "train_data.class_names"
      ],
      "metadata": {
        "colab": {
          "base_uri": "https://localhost:8080/"
        },
        "id": "JDY4Vl-NfSWD",
        "outputId": "f2a1ffce-3401-450f-ba61-261da7c2ee14"
      },
      "execution_count": 6,
      "outputs": [
        {
          "output_type": "execute_result",
          "data": {
            "text/plain": [
              "['Benign', 'Malignant']"
            ]
          },
          "metadata": {},
          "execution_count": 6
        }
      ]
    },
    {
      "cell_type": "code",
      "source": [
        "from tensorflow.keras.preprocessing.image import ImageDataGenerator\n",
        "from tensorflow.keras.preprocessing.image import img_to_array\n",
        "from tensorflow.keras.preprocessing.image import load_img\n",
        "import numpy as np\n",
        "import random\n",
        "import math\n",
        "import csv\n",
        "import cv2\n",
        "import os"
      ],
      "metadata": {
        "id": "rt18y_x9fWMs"
      },
      "execution_count": 7,
      "outputs": []
    },
    {
      "cell_type": "code",
      "source": [
        "# 1.  create base model with tf.keras.applications\n",
        "base_model = tf.keras.applications.ResNet50(include_top=False)\n",
        "\n",
        "# 2. Freeze the base model\n",
        "base_model.trainable = False\n",
        "\n",
        "# 3. create inputs into our model\n",
        "inputs = tf.keras.layers.Input(shape=(224, 224, 3), name=\"input_layer\")\n",
        "\n",
        "# 4. if using ResNet50V2 you will need to normalize inputs\n",
        "# x = tf.keras.layers.experimental.preprocessing.Rescaling(1./255)(inputs)\n",
        "\n",
        "# 5. pass the inputs to the base_model\n",
        "x = base_model(inputs)\n",
        "print(f\"Shape after passing inputs through base model: {x.shape}\")\n",
        "\n",
        "# 6. average pool the outputs of the base model (aggregate all the most important information, reduce number of computations)\n",
        "x = tf.keras.layers.GlobalAveragePooling2D(name=\"global_average_pooling_layer\")(x)\n",
        "print(f\"Shape after GlobalAveragePooling2D: {x.shape}\")\n",
        "\n",
        "# 7. create the output activation layer\n",
        "outputs = tf.keras.layers.Dense(1, activation=\"sigmoid\", name=\"output_layer\")(x)\n",
        "model_0 = tf.keras.Model(inputs, outputs)\n",
        "\n",
        "# 8. compile the model\n",
        "model_0.compile(loss=\"binary_crossentropy\",\n",
        "                optimizer=tf.keras.optimizers.Adam(),\n",
        "                metrics=[\"accuracy\"])\n",
        "\n",
        "# 9. fit the model\n",
        "history_0 = model_0.fit(train_data,\n",
        "                        epochs=40,\n",
        "                        steps_per_epoch=len(train_data),\n",
        "                        validation_data=test_data,\n",
        "                        validation_steps=int(len(test_data)),\n",
        "                        callbacks=[create_tensorboard_callback(dir_name=\"transfer_learning\",\n",
        "                                                              experiment_name=\"10_percent_feature_extraction\")])\n",
        "\n",
        ""
      ],
      "metadata": {
        "colab": {
          "base_uri": "https://localhost:8080/"
        },
        "id": "5tm8T63-fX3G",
        "outputId": "d581be53-94e2-4795-8983-1e9a10c3b945"
      },
      "execution_count": 15,
      "outputs": [
        {
          "output_type": "stream",
          "name": "stdout",
          "text": [
            "Downloading data from https://storage.googleapis.com/tensorflow/keras-applications/resnet/resnet50_weights_tf_dim_ordering_tf_kernels_notop.h5\n",
            "94765736/94765736 [==============================] - 0s 0us/step\n",
            "Shape after passing inputs through base model: (None, 7, 7, 2048)\n",
            "Shape after GlobalAveragePooling2D: (None, 2048)\n",
            "Saving TensorBoard log files to: transfer_learning/10_percent_feature_extraction/20240725-060922\n",
            "Epoch 1/40\n",
            "10/10 [==============================] - 12s 491ms/step - loss: 0.6044 - accuracy: 0.7338 - val_loss: 0.6230 - val_accuracy: 0.7534\n",
            "Epoch 2/40\n",
            "10/10 [==============================] - 4s 177ms/step - loss: 0.5264 - accuracy: 0.7474 - val_loss: 0.6131 - val_accuracy: 0.7534\n",
            "Epoch 3/40\n",
            "10/10 [==============================] - 4s 183ms/step - loss: 0.4971 - accuracy: 0.7679 - val_loss: 0.5995 - val_accuracy: 0.7534\n",
            "Epoch 4/40\n",
            "10/10 [==============================] - 4s 182ms/step - loss: 0.4740 - accuracy: 0.7679 - val_loss: 0.6234 - val_accuracy: 0.7534\n",
            "Epoch 5/40\n",
            "10/10 [==============================] - 4s 190ms/step - loss: 0.4523 - accuracy: 0.7679 - val_loss: 0.5863 - val_accuracy: 0.7534\n",
            "Epoch 6/40\n",
            "10/10 [==============================] - 4s 178ms/step - loss: 0.4182 - accuracy: 0.7850 - val_loss: 0.5878 - val_accuracy: 0.7671\n",
            "Epoch 7/40\n",
            "10/10 [==============================] - 4s 186ms/step - loss: 0.4000 - accuracy: 0.8225 - val_loss: 0.5894 - val_accuracy: 0.7671\n",
            "Epoch 8/40\n",
            "10/10 [==============================] - 4s 184ms/step - loss: 0.3817 - accuracy: 0.8123 - val_loss: 0.5765 - val_accuracy: 0.7671\n",
            "Epoch 9/40\n",
            "10/10 [==============================] - 4s 179ms/step - loss: 0.3707 - accuracy: 0.8532 - val_loss: 0.5956 - val_accuracy: 0.7671\n",
            "Epoch 10/40\n",
            "10/10 [==============================] - 4s 174ms/step - loss: 0.3588 - accuracy: 0.8635 - val_loss: 0.5827 - val_accuracy: 0.7671\n",
            "Epoch 11/40\n",
            "10/10 [==============================] - 4s 182ms/step - loss: 0.3418 - accuracy: 0.8225 - val_loss: 0.5903 - val_accuracy: 0.7534\n",
            "Epoch 12/40\n",
            "10/10 [==============================] - 4s 184ms/step - loss: 0.3361 - accuracy: 0.8737 - val_loss: 0.5914 - val_accuracy: 0.7671\n",
            "Epoch 13/40\n",
            "10/10 [==============================] - 4s 181ms/step - loss: 0.3260 - accuracy: 0.8328 - val_loss: 0.5820 - val_accuracy: 0.7534\n",
            "Epoch 14/40\n",
            "10/10 [==============================] - 4s 182ms/step - loss: 0.3166 - accuracy: 0.8976 - val_loss: 0.6237 - val_accuracy: 0.7534\n",
            "Epoch 15/40\n",
            "10/10 [==============================] - 4s 182ms/step - loss: 0.3005 - accuracy: 0.8737 - val_loss: 0.5927 - val_accuracy: 0.7808\n",
            "Epoch 16/40\n",
            "10/10 [==============================] - 4s 174ms/step - loss: 0.2890 - accuracy: 0.8976 - val_loss: 0.6261 - val_accuracy: 0.7534\n",
            "Epoch 17/40\n",
            "10/10 [==============================] - 4s 180ms/step - loss: 0.2848 - accuracy: 0.8840 - val_loss: 0.5997 - val_accuracy: 0.7534\n",
            "Epoch 18/40\n",
            "10/10 [==============================] - 4s 187ms/step - loss: 0.2706 - accuracy: 0.9113 - val_loss: 0.6242 - val_accuracy: 0.7671\n",
            "Epoch 19/40\n",
            "10/10 [==============================] - 4s 184ms/step - loss: 0.2638 - accuracy: 0.9010 - val_loss: 0.5956 - val_accuracy: 0.7671\n",
            "Epoch 20/40\n",
            "10/10 [==============================] - 4s 181ms/step - loss: 0.2608 - accuracy: 0.9352 - val_loss: 0.6565 - val_accuracy: 0.7671\n",
            "Epoch 21/40\n",
            "10/10 [==============================] - 4s 186ms/step - loss: 0.2535 - accuracy: 0.8942 - val_loss: 0.5897 - val_accuracy: 0.7534\n",
            "Epoch 22/40\n",
            "10/10 [==============================] - 4s 191ms/step - loss: 0.2518 - accuracy: 0.9215 - val_loss: 0.6322 - val_accuracy: 0.7534\n",
            "Epoch 23/40\n",
            "10/10 [==============================] - 4s 179ms/step - loss: 0.2381 - accuracy: 0.9317 - val_loss: 0.6167 - val_accuracy: 0.7534\n",
            "Epoch 24/40\n",
            "10/10 [==============================] - 4s 177ms/step - loss: 0.2273 - accuracy: 0.9249 - val_loss: 0.6299 - val_accuracy: 0.7671\n",
            "Epoch 25/40\n",
            "10/10 [==============================] - 4s 184ms/step - loss: 0.2234 - accuracy: 0.9420 - val_loss: 0.6416 - val_accuracy: 0.7534\n",
            "Epoch 26/40\n",
            "10/10 [==============================] - 4s 183ms/step - loss: 0.2156 - accuracy: 0.9283 - val_loss: 0.6093 - val_accuracy: 0.7671\n",
            "Epoch 27/40\n",
            "10/10 [==============================] - 4s 177ms/step - loss: 0.2105 - accuracy: 0.9420 - val_loss: 0.6458 - val_accuracy: 0.7534\n",
            "Epoch 28/40\n",
            "10/10 [==============================] - 4s 188ms/step - loss: 0.2045 - accuracy: 0.9317 - val_loss: 0.6006 - val_accuracy: 0.7534\n",
            "Epoch 29/40\n",
            "10/10 [==============================] - 4s 179ms/step - loss: 0.2042 - accuracy: 0.9283 - val_loss: 0.6187 - val_accuracy: 0.7671\n",
            "Epoch 30/40\n",
            "10/10 [==============================] - 4s 186ms/step - loss: 0.2049 - accuracy: 0.9693 - val_loss: 0.6632 - val_accuracy: 0.7534\n",
            "Epoch 31/40\n",
            "10/10 [==============================] - 4s 186ms/step - loss: 0.2036 - accuracy: 0.9147 - val_loss: 0.6075 - val_accuracy: 0.7671\n",
            "Epoch 32/40\n",
            "10/10 [==============================] - 4s 180ms/step - loss: 0.1941 - accuracy: 0.9556 - val_loss: 0.6304 - val_accuracy: 0.7671\n",
            "Epoch 33/40\n",
            "10/10 [==============================] - 4s 188ms/step - loss: 0.1813 - accuracy: 0.9693 - val_loss: 0.5989 - val_accuracy: 0.7808\n",
            "Epoch 34/40\n",
            "10/10 [==============================] - 4s 177ms/step - loss: 0.1771 - accuracy: 0.9659 - val_loss: 0.6148 - val_accuracy: 0.7808\n",
            "Epoch 35/40\n",
            "10/10 [==============================] - 4s 187ms/step - loss: 0.1740 - accuracy: 0.9625 - val_loss: 0.6083 - val_accuracy: 0.7808\n",
            "Epoch 36/40\n",
            "10/10 [==============================] - 4s 180ms/step - loss: 0.1709 - accuracy: 0.9556 - val_loss: 0.6354 - val_accuracy: 0.7671\n",
            "Epoch 37/40\n",
            "10/10 [==============================] - 4s 185ms/step - loss: 0.1649 - accuracy: 0.9693 - val_loss: 0.6119 - val_accuracy: 0.7671\n",
            "Epoch 38/40\n",
            "10/10 [==============================] - 4s 192ms/step - loss: 0.1636 - accuracy: 0.9590 - val_loss: 0.6365 - val_accuracy: 0.7808\n",
            "Epoch 39/40\n",
            "10/10 [==============================] - 4s 182ms/step - loss: 0.1634 - accuracy: 0.9727 - val_loss: 0.6193 - val_accuracy: 0.7671\n",
            "Epoch 40/40\n",
            "10/10 [==============================] - 4s 185ms/step - loss: 0.1564 - accuracy: 0.9625 - val_loss: 0.6330 - val_accuracy: 0.7808\n"
          ]
        }
      ]
    },
    {
      "cell_type": "code",
      "source": [
        "import matplotlib.pyplot as plt\n",
        "\n",
        "def plot_loss_curves(history):\n",
        "  \"\"\"\n",
        "  Returns separate loss curves for training and validation metrics.\n",
        "  Args:\n",
        "    history: TensorFlow History object.\n",
        "\n",
        "    Returns:\n",
        "    Plots of training/validation loss and accuracy metrics.\n",
        "  \"\"\"\n",
        "  loss = history.history['loss']\n",
        "  val_loss = history.history['val_loss']\n",
        "\n",
        "  accuracy = history.history['accuracy']\n",
        "  val_accuracy = history.history['val_accuracy']\n",
        "\n",
        "  epochs = range(len(history.history['loss']))\n",
        "\n",
        "  #Plot loss\n",
        "\n",
        "  plt.plot(epochs, loss, label='training_loss')\n",
        "  plt.plot(epochs, val_loss, label='val_loss')\n",
        "  plt.title('Loss')\n",
        "  plt.xlabel('Epochs')\n",
        "  plt.legend()\n",
        "\n",
        "  #Plot accuracy\n",
        "  plt.figure()\n",
        "  plt.plot(epochs, accuracy, label='training_accuracy')\n",
        "  plt.plot(epochs, val_accuracy, label='val_accuracy')\n",
        "  plt.title('Accuracy')\n",
        "  plt.xlabel('Epochs')\n",
        "  plt.legend();\n",
        "\n",
        "plot_loss_curves(history_0)"
      ],
      "metadata": {
        "colab": {
          "base_uri": "https://localhost:8080/",
          "height": 927
        },
        "id": "wN1dWgZyfcgq",
        "outputId": "f3a188fb-4094-430a-bbda-d910124c38e3"
      },
      "execution_count": 16,
      "outputs": [
        {
          "output_type": "display_data",
          "data": {
            "text/plain": [
              "<Figure size 640x480 with 1 Axes>"
            ],
            "image/png": "[encoded data removed]"
          },
          "metadata": {}
        },
        {
          "output_type": "display_data",
          "data": {
            "text/plain": [
              "<Figure size 640x480 with 1 Axes>"
            ],
            "image/png": "[encoded data removed]"
          },
          "metadata": {}
        }
      ]
    },
    {
      "cell_type": "code",
      "source": [
        "results_feature_extraction = model_0.evaluate(test_data)\n",
        "results_feature_extraction"
      ],
      "metadata": {
        "colab": {
          "base_uri": "https://localhost:8080/"
        },
        "id": "pEZ1XDVOffJ8",
        "outputId": "c4d4a1b5-a260-4817-f4fd-30faef55a3e7"
      },
      "execution_count": 17,
      "outputs": [
        {
          "output_type": "stream",
          "name": "stdout",
          "text": [
            "3/3 [==============================] - 1s 67ms/step - loss: 0.6330 - accuracy: 0.7808\n"
          ]
        },
        {
          "output_type": "execute_result",
          "data": {
            "text/plain": [
              "[0.6330116391181946, 0.7808219194412231]"
            ]
          },
          "metadata": {},
          "execution_count": 17
        }
      ]
    },
    {
      "cell_type": "code",
      "source": [
        "\n",
        "# Get the predicted probabilities for the test set\n",
        "y_pred_probs = model_0.predict(test_data)\n",
        "\n",
        "# Convert probabilities to binary predictions (0 or 1)\n",
        "y_pred = (y_pred_probs > 0.5).astype(int)\n",
        "\n",
        "# Get the true labels for the test set\n",
        "y_true = np.concatenate([y for x, y in test_data], axis=0)\n",
        "\n",
        "# Calculate precision\n",
        "from sklearn.metrics import precision_score\n",
        "precision = precision_score(y_true, y_pred)\n",
        "print(\"Precision:\", precision)\n"
      ],
      "metadata": {
        "colab": {
          "base_uri": "https://localhost:8080/"
        },
        "id": "gJJ9TMWhfhIu",
        "outputId": "edbae2e0-e1b8-4035-f522-4a3216739a8f"
      },
      "execution_count": 18,
      "outputs": [
        {
          "output_type": "stream",
          "name": "stdout",
          "text": [
            "3/3 [==============================] - 2s 88ms/step\n",
            "Precision: 0.7536231884057971\n"
          ]
        }
      ]
    },
    {
      "cell_type": "code",
      "source": [
        "from sklearn.metrics import recall_score\n",
        "\n",
        "# Calculate recall\n",
        "recall = recall_score(y_true, y_pred)\n",
        "print(\"Recall:\", recall)\n"
      ],
      "metadata": {
        "colab": {
          "base_uri": "https://localhost:8080/"
        },
        "id": "7hAe1bMAfjDn",
        "outputId": "40aa897a-a106-4fe7-f72b-d5d46f0a0d87"
      },
      "execution_count": 19,
      "outputs": [
        {
          "output_type": "stream",
          "name": "stdout",
          "text": [
            "Recall: 0.9454545454545454\n"
          ]
        }
      ]
    },
    {
      "cell_type": "code",
      "source": [
        "\n",
        "from sklearn.metrics import f1_score\n",
        "# Calculate F1-score\n",
        "f1 = f1_score(y_true, y_pred)\n",
        "print(\"F1-score:\", f1)\n"
      ],
      "metadata": {
        "colab": {
          "base_uri": "https://localhost:8080/"
        },
        "id": "uFvAER5Kfktv",
        "outputId": "6982b218-c236-4536-c6b7-73d65ae66002"
      },
      "execution_count": 20,
      "outputs": [
        {
          "output_type": "stream",
          "name": "stdout",
          "text": [
            "F1-score: 0.8387096774193549\n"
          ]
        }
      ]
    },
    {
      "cell_type": "code",
      "source": [
        "\n",
        "# Eğitim doğruluğunu elde etmek için history_0 nesnesini kullanın\n",
        "train_accuracy = history_0.history['accuracy']\n",
        "\n",
        "# Son epoch'un eğitim doğruluğunu yazdırın\n",
        "print(\"Eğitim doğruluğu:\", train_accuracy[-1])"
      ],
      "metadata": {
        "colab": {
          "base_uri": "https://localhost:8080/"
        },
        "id": "5Bz5SwYNfmjj",
        "outputId": "384881d5-a3e2-40d9-b6ff-d2f957409553"
      },
      "execution_count": 21,
      "outputs": [
        {
          "output_type": "stream",
          "name": "stdout",
          "text": [
            "Eğitim doğruluğu: 0.9624573588371277\n"
          ]
        }
      ]
    },
    {
      "cell_type": "code",
      "source": [],
      "metadata": {
        "id": "mGHiGdz3ft9e"
      },
      "execution_count": null,
      "outputs": []
    }
  ]
}