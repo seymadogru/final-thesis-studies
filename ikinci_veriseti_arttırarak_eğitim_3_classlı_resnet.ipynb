{
  "nbformat": 4,
  "nbformat_minor": 0,
  "metadata": {
    "colab": {
      "provenance": [],
      "machine_shape": "hm",
      "gpuType": "T4"
    },
    "kernelspec": {
      "name": "python3",
      "display_name": "Python 3"
    },
    "language_info": {
      "name": "python"
    },
    "accelerator": "GPU"
  },
  "cells": [
    {
      "cell_type": "code",
      "execution_count": 1,
      "metadata": {
        "colab": {
          "base_uri": "https://localhost:8080/"
        },
        "id": "vi6bPyJwl3AE",
        "outputId": "9091f9ef-6841-4a7f-d470-41425e872140"
      },
      "outputs": [
        {
          "output_type": "stream",
          "name": "stdout",
          "text": [
            "--2024-07-25 06:41:36--  https://raw.githubusercontent.com/mrdbourke/tensorflow-deep-learning/main/extras/helper_functions.py\n",
            "Resolving raw.githubusercontent.com (raw.githubusercontent.com)... 185.199.108.133, 185.199.109.133, 185.199.110.133, ...\n",
            "Connecting to raw.githubusercontent.com (raw.githubusercontent.com)|185.199.108.133|:443... connected.\n",
            "HTTP request sent, awaiting response... 200 OK\n",
            "Length: 10246 (10K) [text/plain]\n",
            "Saving to: ‘helper_functions.py’\n",
            "\n",
            "\rhelper_functions.py   0%[                    ]       0  --.-KB/s               \rhelper_functions.py 100%[===================>]  10.01K  --.-KB/s    in 0s      \n",
            "\n",
            "2024-07-25 06:41:36 (109 MB/s) - ‘helper_functions.py’ saved [10246/10246]\n",
            "\n"
          ]
        }
      ],
      "source": [
        "!wget https://raw.githubusercontent.com/mrdbourke/tensorflow-deep-learning/main/extras/helper_functions.py"
      ]
    },
    {
      "cell_type": "code",
      "source": [
        "from helper_functions import create_tensorboard_callback, plot_loss_curves, unzip_data, walk_through_dir"
      ],
      "metadata": {
        "id": "f9Zfr5gtn6iJ"
      },
      "execution_count": 2,
      "outputs": []
    },
    {
      "cell_type": "code",
      "source": [
        "import os\n",
        "\n",
        "for dirpath, dirnames, filenames in os.walk(\"/content/drive/MyDrive/Tez Dosyaları/ikinci veriseti 3 class\"):\n",
        "  print(f\"There are {len(dirnames)} directories and {len(filenames)} images in '{dirpath}'.\")\n"
      ],
      "metadata": {
        "colab": {
          "base_uri": "https://localhost:8080/"
        },
        "id": "67wKElDWoBxH",
        "outputId": "122ec1ee-f095-40a9-9d4c-e64d2fcf3302"
      },
      "execution_count": 3,
      "outputs": [
        {
          "output_type": "stream",
          "name": "stdout",
          "text": [
            "There are 2 directories and 0 images in '/content/drive/MyDrive/Tez Dosyaları/ikinci veriseti 3 class'.\n",
            "There are 3 directories and 0 images in '/content/drive/MyDrive/Tez Dosyaları/ikinci veriseti 3 class/Train'.\n",
            "There are 0 directories and 70 images in '/content/drive/MyDrive/Tez Dosyaları/ikinci veriseti 3 class/Train/Benign'.\n",
            "There are 0 directories and 617 images in '/content/drive/MyDrive/Tez Dosyaları/ikinci veriseti 3 class/Train/Normal'.\n",
            "There are 0 directories and 223 images in '/content/drive/MyDrive/Tez Dosyaları/ikinci veriseti 3 class/Train/Malignant'.\n",
            "There are 3 directories and 0 images in '/content/drive/MyDrive/Tez Dosyaları/ikinci veriseti 3 class/Test'.\n",
            "There are 0 directories and 155 images in '/content/drive/MyDrive/Tez Dosyaları/ikinci veriseti 3 class/Test/Normal'.\n",
            "There are 0 directories and 18 images in '/content/drive/MyDrive/Tez Dosyaları/ikinci veriseti 3 class/Test/Benign'.\n",
            "There are 0 directories and 55 images in '/content/drive/MyDrive/Tez Dosyaları/ikinci veriseti 3 class/Test/Malignant'.\n"
          ]
        }
      ]
    },
    {
      "cell_type": "code",
      "source": [
        "train_dir = \"/content/drive/MyDrive/Tez Dosyaları/ikinci veriseti 3 class/Train\"\n",
        "test_dir = \"/content/drive/MyDrive/Tez Dosyaları/ikinci veriseti 3 class/Test\""
      ],
      "metadata": {
        "id": "zPRT65AZoRb-"
      },
      "execution_count": 4,
      "outputs": []
    },
    {
      "cell_type": "code",
      "source": [
        "import tensorflow as tf\n",
        "BATCH_SIZE = 32\n",
        "IMG_SIZE = (224, 224)\n",
        "train_data= tf.keras.preprocessing.image_dataset_from_directory(train_dir,\n",
        "                                                          label_mode= \"categorical\",\n",
        "                                                          batch_size=BATCH_SIZE,\n",
        "                                                          image_size=IMG_SIZE)\n",
        "\n",
        "test_data = tf.keras.preprocessing.image_dataset_from_directory(test_dir,\n",
        "                                                          label_mode=\"categorical\",\n",
        "                                                          batch_size=BATCH_SIZE,\n",
        "                                                          image_size=IMG_SIZE)"
      ],
      "metadata": {
        "colab": {
          "base_uri": "https://localhost:8080/"
        },
        "id": "SKx143mioZT-",
        "outputId": "d153417a-8a0f-485d-ddb0-84e49c0b36d9"
      },
      "execution_count": 5,
      "outputs": [
        {
          "output_type": "stream",
          "name": "stdout",
          "text": [
            "Found 910 files belonging to 3 classes.\n",
            "Found 228 files belonging to 3 classes.\n"
          ]
        }
      ]
    },
    {
      "cell_type": "code",
      "source": [
        "train_data.class_names"
      ],
      "metadata": {
        "colab": {
          "base_uri": "https://localhost:8080/"
        },
        "id": "F_dcXMVFoboa",
        "outputId": "e76445d8-c6a2-499f-ba35-43759cf1bdcd"
      },
      "execution_count": 6,
      "outputs": [
        {
          "output_type": "execute_result",
          "data": {
            "text/plain": [
              "['Benign', 'Malignant', 'Normal']"
            ]
          },
          "metadata": {},
          "execution_count": 6
        }
      ]
    },
    {
      "cell_type": "code",
      "source": [
        "from tensorflow.keras.preprocessing.image import ImageDataGenerator\n",
        "from tensorflow.keras.preprocessing.image import img_to_array\n",
        "from tensorflow.keras.preprocessing.image import load_img\n",
        "import numpy as np\n",
        "import random\n",
        "import math\n",
        "import csv\n",
        "import cv2\n",
        "import os"
      ],
      "metadata": {
        "id": "d7dSIeOcodac"
      },
      "execution_count": 7,
      "outputs": []
    },
    {
      "cell_type": "code",
      "source": [
        "image_width = 224\n",
        "image_height = 224\n",
        "classes = ['Benign', 'Malignant', 'Normal']\n",
        "datagen = ImageDataGenerator(\n",
        "    rescale=1.0/255,\n",
        "    rotation_range=40,\n",
        "    width_shift_range=0.2,\n",
        "    height_shift_range=0.2,\n",
        "    shear_range=0.2,\n",
        "    zoom_range=0.2,\n",
        "    horizontal_flip=True,\n",
        "    fill_mode='nearest'\n",
        ")\n",
        "\n",
        "# Resimleri yüklemek için flow_from_directory kullanın\n",
        "train_generator = datagen.flow_from_directory(\n",
        "    directory=\"/content/drive/MyDrive/Tez Dosyaları/ikinci veriseti 3 class/Train\",\n",
        "    target_size=(image_width, image_height),\n",
        "    batch_size=32,\n",
        "    class_mode='categorical',\n",
        "    subset='training'\n",
        ")\n",
        "\n",
        "# Her sınıf için resimleri ayrı ayrı arttırın\n",
        "for cls in classes:\n",
        "    # Sınıfın resimlerini yüklemek için flow_from_directory kullanın\n",
        "    cls_generator = datagen.flow_from_directory(\n",
        "        directory=\"/content/drive/MyDrive/Tez Dosyaları/ikinci veriseti 3 class/Train\",\n",
        "        target_size=(image_width, image_height),\n",
        "        batch_size=32,\n",
        "        class_mode='categorical',\n",
        "        subset='training',\n",
        "        classes=[cls]\n",
        "    )\n",
        "\n",
        "    # Resimleri arttırın ve kaydedin\n",
        "    i = 0\n",
        "    for batch in cls_generator:\n",
        "        images, labels = batch\n",
        "        for image in images:\n",
        "            # Resmi kaydetmek için imwrite kullanın\n",
        "            cv2.imwrite(os.path.join(\"/content/drive/MyDrive/Tez Dosyaları/ikinci veriseti 3 class/Train\", cls, f\"augmented_{i}.jpg\"), image * 255)\n",
        "            i += 1\n",
        "            if i >= 3000:  # Maksimum resim sayısına ulaşıldığında döngüyü durdur\n",
        "                break\n",
        "        else:\n",
        "            continue\n",
        "        break\n",
        ""
      ],
      "metadata": {
        "colab": {
          "base_uri": "https://localhost:8080/"
        },
        "id": "WXSokJcVohei",
        "outputId": "4d4b9402-9d4e-4a45-e21b-b33f1e2e2cc6"
      },
      "execution_count": 9,
      "outputs": [
        {
          "output_type": "stream",
          "name": "stdout",
          "text": [
            "Found 910 images belonging to 3 classes.\n",
            "Found 70 images belonging to 1 classes.\n",
            "Found 223 images belonging to 1 classes.\n",
            "Found 617 images belonging to 1 classes.\n"
          ]
        }
      ]
    },
    {
      "cell_type": "code",
      "source": [
        "augmented_images3 = os.listdir(\"/content/drive/MyDrive/Tez Dosyaları/ikinci veriseti 3 class/Train/Benign\")\n",
        "\n",
        "# Count the number of augmented images\n",
        "num_benign_images = len(augmented_images3)\n",
        "\n",
        "# Print the number of malignant images\n",
        "print(\"Number of benign images:\", num_benign_images)"
      ],
      "metadata": {
        "colab": {
          "base_uri": "https://localhost:8080/"
        },
        "id": "7qqPMd-4qlKt",
        "outputId": "08bac561-f924-4b46-d177-adb9f530fa83"
      },
      "execution_count": 12,
      "outputs": [
        {
          "output_type": "stream",
          "name": "stdout",
          "text": [
            "Number of benign images: 3070\n"
          ]
        }
      ]
    },
    {
      "cell_type": "code",
      "source": [
        "augmented_images2 = os.listdir(\"/content/drive/MyDrive/Tez Dosyaları/ikinci veriseti 3 class/Train/Normal\")\n",
        "\n",
        "# Count the number of augmented images\n",
        "num_normal_images = len(augmented_images2)\n",
        "\n",
        "# Print the number of malignant images\n",
        "print(\"Number of normal images:\", num_normal_images)"
      ],
      "metadata": {
        "colab": {
          "base_uri": "https://localhost:8080/"
        },
        "id": "bS7o-CVIrGTM",
        "outputId": "ae7cc452-07d1-4773-e912-ce4335c23b25"
      },
      "execution_count": 13,
      "outputs": [
        {
          "output_type": "stream",
          "name": "stdout",
          "text": [
            "Number of normal images: 3617\n"
          ]
        }
      ]
    },
    {
      "cell_type": "code",
      "source": [
        "# Load the augmented images for the malignant class\n",
        "augmented_images = os.listdir(\"/content/drive/MyDrive/Tez Dosyaları/ikinci veriseti 3 class/Train/Malignant\")\n",
        "\n",
        "# Count the number of augmented images\n",
        "num_malignant_images = len(augmented_images)\n",
        "\n",
        "# Print the number of malignant images\n",
        "print(\"Number of malignant images:\", num_malignant_images)"
      ],
      "metadata": {
        "colab": {
          "base_uri": "https://localhost:8080/"
        },
        "id": "SyLISaMbrNP4",
        "outputId": "147ea0cf-27b7-4461-f010-aeb21e941e6f"
      },
      "execution_count": 14,
      "outputs": [
        {
          "output_type": "stream",
          "name": "stdout",
          "text": [
            "Number of malignant images: 3223\n"
          ]
        }
      ]
    },
    {
      "cell_type": "code",
      "source": [
        "for dirpath, dirnames, filenames in os.walk(\"/content/drive/MyDrive/Tez Dosyaları/ikinci veriseti 3 class\"):\n",
        "  print(f\"There are {len(dirnames)} directories and {len(filenames)} images in '{dirpath}'.\")"
      ],
      "metadata": {
        "colab": {
          "base_uri": "https://localhost:8080/"
        },
        "id": "cPtqltFPrVr-",
        "outputId": "250c53c8-9d0f-44ba-a563-a671504996bf"
      },
      "execution_count": 15,
      "outputs": [
        {
          "output_type": "stream",
          "name": "stdout",
          "text": [
            "There are 2 directories and 0 images in '/content/drive/MyDrive/Tez Dosyaları/ikinci veriseti 3 class'.\n",
            "There are 3 directories and 0 images in '/content/drive/MyDrive/Tez Dosyaları/ikinci veriseti 3 class/Train'.\n",
            "There are 0 directories and 3070 images in '/content/drive/MyDrive/Tez Dosyaları/ikinci veriseti 3 class/Train/Benign'.\n",
            "There are 0 directories and 3617 images in '/content/drive/MyDrive/Tez Dosyaları/ikinci veriseti 3 class/Train/Normal'.\n",
            "There are 0 directories and 3223 images in '/content/drive/MyDrive/Tez Dosyaları/ikinci veriseti 3 class/Train/Malignant'.\n",
            "There are 3 directories and 0 images in '/content/drive/MyDrive/Tez Dosyaları/ikinci veriseti 3 class/Test'.\n",
            "There are 0 directories and 155 images in '/content/drive/MyDrive/Tez Dosyaları/ikinci veriseti 3 class/Test/Normal'.\n",
            "There are 0 directories and 18 images in '/content/drive/MyDrive/Tez Dosyaları/ikinci veriseti 3 class/Test/Benign'.\n",
            "There are 0 directories and 55 images in '/content/drive/MyDrive/Tez Dosyaları/ikinci veriseti 3 class/Test/Malignant'.\n"
          ]
        }
      ]
    },
    {
      "cell_type": "code",
      "source": [
        "import tensorflow as tf\n",
        "\n",
        "# 1. create base model with tf.keras.applications\n",
        "base_model = tf.keras.applications.ResNet50(include_top=False)\n",
        "\n",
        "# 2. Freeze the base model\n",
        "base_model.trainable = False\n",
        "\n",
        "# 3. create inputs into our model\n",
        "inputs = tf.keras.layers.Input(shape=(224, 224, 3), name=\"input_layer\")\n",
        "\n",
        "# 4. if using ResNet50V2 you will need to normalize inputs\n",
        "# x = tf.keras.layers.experimental.preprocessing.Rescaling(1./255)(inputs)\n",
        "\n",
        "# 5. pass the inputs to the base_model\n",
        "x = base_model(inputs)\n",
        "print(f\"Shape after passing inputs through base model: {x.shape}\")\n",
        "\n",
        "# 6. average pool the outputs of the base model (aggregate all the most important information, reduce number of computations)\n",
        "x = tf.keras.layers.GlobalAveragePooling2D(name=\"global_average_pooling_layer\")(x)\n",
        "print(f\"Shape after GlobalAveragePooling2D: {x.shape}\")\n",
        "\n",
        "# 7. create the output activation layer for 3 classes\n",
        "outputs = tf.keras.layers.Dense(3, activation=\"softmax\", name=\"output_layer\")(x)\n",
        "model_0 = tf.keras.Model(inputs, outputs)\n",
        "\n",
        "# 8. compile the model for 3 classes\n",
        "model_0.compile(loss=\"categorical_crossentropy\",\n",
        "                optimizer=tf.keras.optimizers.Adam(),\n",
        "                metrics=[\"accuracy\"])\n",
        "\n",
        "# Assuming you have already prepared your train_data and test_data\n",
        "# Make sure that train_data and test_data are prepared with class_mode='categorical'\n",
        "\n",
        "# 9. fit the model\n",
        "history_0 = model_0.fit(train_data,\n",
        "                        epochs=40,\n",
        "                        steps_per_epoch=len(train_data),\n",
        "                        validation_data=test_data,\n",
        "                        validation_steps=int(len(test_data)),\n",
        "                        callbacks=[create_tensorboard_callback(dir_name=\"transfer_learning\",\n",
        "                                                               experiment_name=\"3_class_feature_extraction\")])\n"
      ],
      "metadata": {
        "colab": {
          "base_uri": "https://localhost:8080/"
        },
        "id": "VexH60OPraw_",
        "outputId": "3cbded25-06a5-453d-af48-dcecff7cf939"
      },
      "execution_count": 21,
      "outputs": [
        {
          "output_type": "stream",
          "name": "stdout",
          "text": [
            "Downloading data from https://storage.googleapis.com/tensorflow/keras-applications/resnet/resnet50_weights_tf_dim_ordering_tf_kernels_notop.h5\n",
            "94765736/94765736 [==============================] - 0s 0us/step\n",
            "Shape after passing inputs through base model: (None, 7, 7, 2048)\n",
            "Shape after GlobalAveragePooling2D: (None, 2048)\n",
            "Saving TensorBoard log files to: transfer_learning/3_class_feature_extraction/20240725-070544\n",
            "Epoch 1/40\n",
            "29/29 [==============================] - 19s 398ms/step - loss: 0.9607 - accuracy: 0.6022 - val_loss: 0.7834 - val_accuracy: 0.6798\n",
            "Epoch 2/40\n",
            "29/29 [==============================] - 10s 272ms/step - loss: 0.7797 - accuracy: 0.6802 - val_loss: 0.7498 - val_accuracy: 0.7105\n",
            "Epoch 3/40\n",
            "29/29 [==============================] - 11s 295ms/step - loss: 0.7131 - accuracy: 0.7055 - val_loss: 0.7282 - val_accuracy: 0.7149\n",
            "Epoch 4/40\n",
            "29/29 [==============================] - 9s 258ms/step - loss: 0.6486 - accuracy: 0.7451 - val_loss: 0.7279 - val_accuracy: 0.7237\n",
            "Epoch 5/40\n",
            "29/29 [==============================] - 10s 276ms/step - loss: 0.6136 - accuracy: 0.7451 - val_loss: 0.7569 - val_accuracy: 0.6667\n",
            "Epoch 6/40\n",
            "29/29 [==============================] - 10s 272ms/step - loss: 0.5894 - accuracy: 0.7582 - val_loss: 0.6889 - val_accuracy: 0.7456\n",
            "Epoch 7/40\n",
            "29/29 [==============================] - 9s 259ms/step - loss: 0.5605 - accuracy: 0.7769 - val_loss: 0.7198 - val_accuracy: 0.7237\n",
            "Epoch 8/40\n",
            "29/29 [==============================] - 9s 254ms/step - loss: 0.5396 - accuracy: 0.7868 - val_loss: 0.8592 - val_accuracy: 0.6184\n",
            "Epoch 9/40\n",
            "29/29 [==============================] - 10s 282ms/step - loss: 0.5331 - accuracy: 0.7945 - val_loss: 0.7291 - val_accuracy: 0.7018\n",
            "Epoch 10/40\n",
            "29/29 [==============================] - 10s 276ms/step - loss: 0.4927 - accuracy: 0.8132 - val_loss: 0.7286 - val_accuracy: 0.7193\n",
            "Epoch 11/40\n",
            "29/29 [==============================] - 10s 271ms/step - loss: 0.4772 - accuracy: 0.8198 - val_loss: 0.7287 - val_accuracy: 0.6974\n",
            "Epoch 12/40\n",
            "29/29 [==============================] - 10s 265ms/step - loss: 0.4530 - accuracy: 0.8286 - val_loss: 0.7450 - val_accuracy: 0.6930\n",
            "Epoch 13/40\n",
            "29/29 [==============================] - 10s 266ms/step - loss: 0.4368 - accuracy: 0.8308 - val_loss: 0.7415 - val_accuracy: 0.6974\n",
            "Epoch 14/40\n",
            "29/29 [==============================] - 10s 268ms/step - loss: 0.4453 - accuracy: 0.8275 - val_loss: 0.7136 - val_accuracy: 0.7193\n",
            "Epoch 15/40\n",
            "29/29 [==============================] - 9s 260ms/step - loss: 0.4101 - accuracy: 0.8473 - val_loss: 0.8341 - val_accuracy: 0.6360\n",
            "Epoch 16/40\n",
            "29/29 [==============================] - 10s 263ms/step - loss: 0.3985 - accuracy: 0.8527 - val_loss: 0.7346 - val_accuracy: 0.7018\n",
            "Epoch 17/40\n",
            "29/29 [==============================] - 10s 270ms/step - loss: 0.3856 - accuracy: 0.8582 - val_loss: 0.7138 - val_accuracy: 0.7105\n",
            "Epoch 18/40\n",
            "29/29 [==============================] - 10s 267ms/step - loss: 0.3731 - accuracy: 0.8615 - val_loss: 0.7602 - val_accuracy: 0.6974\n",
            "Epoch 19/40\n",
            "29/29 [==============================] - 10s 266ms/step - loss: 0.3578 - accuracy: 0.8791 - val_loss: 0.7677 - val_accuracy: 0.6754\n",
            "Epoch 20/40\n",
            "29/29 [==============================] - 10s 260ms/step - loss: 0.3584 - accuracy: 0.8747 - val_loss: 0.7331 - val_accuracy: 0.7105\n",
            "Epoch 21/40\n",
            "29/29 [==============================] - 10s 285ms/step - loss: 0.3470 - accuracy: 0.8945 - val_loss: 0.7144 - val_accuracy: 0.7149\n",
            "Epoch 22/40\n",
            "29/29 [==============================] - 9s 264ms/step - loss: 0.3395 - accuracy: 0.8879 - val_loss: 0.7358 - val_accuracy: 0.7149\n",
            "Epoch 23/40\n",
            "29/29 [==============================] - 9s 257ms/step - loss: 0.3242 - accuracy: 0.8846 - val_loss: 0.8487 - val_accuracy: 0.6140\n",
            "Epoch 24/40\n",
            "29/29 [==============================] - 10s 269ms/step - loss: 0.3202 - accuracy: 0.8934 - val_loss: 0.8232 - val_accuracy: 0.6667\n",
            "Epoch 25/40\n",
            "29/29 [==============================] - 9s 263ms/step - loss: 0.3076 - accuracy: 0.8868 - val_loss: 0.8718 - val_accuracy: 0.6053\n",
            "Epoch 26/40\n",
            "29/29 [==============================] - 9s 251ms/step - loss: 0.2994 - accuracy: 0.9066 - val_loss: 0.8625 - val_accuracy: 0.6316\n",
            "Epoch 27/40\n",
            "29/29 [==============================] - 10s 273ms/step - loss: 0.2994 - accuracy: 0.8989 - val_loss: 0.7929 - val_accuracy: 0.6886\n",
            "Epoch 28/40\n",
            "29/29 [==============================] - 10s 267ms/step - loss: 0.2865 - accuracy: 0.9110 - val_loss: 0.7646 - val_accuracy: 0.6886\n",
            "Epoch 29/40\n",
            "29/29 [==============================] - 10s 267ms/step - loss: 0.2932 - accuracy: 0.9066 - val_loss: 0.7493 - val_accuracy: 0.7105\n",
            "Epoch 30/40\n",
            "29/29 [==============================] - 9s 261ms/step - loss: 0.2802 - accuracy: 0.9099 - val_loss: 0.8001 - val_accuracy: 0.6798\n",
            "Epoch 31/40\n",
            "29/29 [==============================] - 10s 277ms/step - loss: 0.2631 - accuracy: 0.9099 - val_loss: 0.9062 - val_accuracy: 0.6140\n",
            "Epoch 32/40\n",
            "29/29 [==============================] - 9s 267ms/step - loss: 0.2623 - accuracy: 0.9242 - val_loss: 0.8165 - val_accuracy: 0.6623\n",
            "Epoch 33/40\n",
            "29/29 [==============================] - 9s 246ms/step - loss: 0.2524 - accuracy: 0.9341 - val_loss: 0.8584 - val_accuracy: 0.6316\n",
            "Epoch 34/40\n",
            "29/29 [==============================] - 10s 261ms/step - loss: 0.2419 - accuracy: 0.9396 - val_loss: 0.8085 - val_accuracy: 0.6711\n",
            "Epoch 35/40\n",
            "29/29 [==============================] - 9s 263ms/step - loss: 0.2404 - accuracy: 0.9407 - val_loss: 0.8035 - val_accuracy: 0.6623\n",
            "Epoch 36/40\n",
            "29/29 [==============================] - 10s 266ms/step - loss: 0.2337 - accuracy: 0.9462 - val_loss: 0.8376 - val_accuracy: 0.6491\n",
            "Epoch 37/40\n",
            "29/29 [==============================] - 10s 270ms/step - loss: 0.2256 - accuracy: 0.9516 - val_loss: 0.7979 - val_accuracy: 0.6798\n",
            "Epoch 38/40\n",
            "29/29 [==============================] - 10s 266ms/step - loss: 0.2303 - accuracy: 0.9462 - val_loss: 0.7889 - val_accuracy: 0.6842\n",
            "Epoch 39/40\n",
            "29/29 [==============================] - 10s 269ms/step - loss: 0.2250 - accuracy: 0.9407 - val_loss: 0.8105 - val_accuracy: 0.6798\n",
            "Epoch 40/40\n",
            "29/29 [==============================] - 9s 259ms/step - loss: 0.2109 - accuracy: 0.9582 - val_loss: 0.7785 - val_accuracy: 0.6930\n"
          ]
        }
      ]
    },
    {
      "cell_type": "code",
      "source": [
        "\n",
        "# Evaluate the model on the test data\n",
        "results_feature_extraction = model_0.evaluate(test_data)\n",
        "results_feature_extraction"
      ],
      "metadata": {
        "colab": {
          "base_uri": "https://localhost:8080/"
        },
        "id": "4BMo98Dqrd5b",
        "outputId": "a13e61c0-a273-42c4-e31e-468925345f89"
      },
      "execution_count": 22,
      "outputs": [
        {
          "output_type": "stream",
          "name": "stdout",
          "text": [
            "8/8 [==============================] - 2s 84ms/step - loss: 0.7785 - accuracy: 0.6930\n"
          ]
        },
        {
          "output_type": "execute_result",
          "data": {
            "text/plain": [
              "[0.7784587740898132, 0.6929824352264404]"
            ]
          },
          "metadata": {},
          "execution_count": 22
        }
      ]
    },
    {
      "cell_type": "code",
      "source": [
        "\n",
        "plot_loss_curves(history_0)"
      ],
      "metadata": {
        "colab": {
          "base_uri": "https://localhost:8080/",
          "height": 927
        },
        "id": "IIcm_isNrgIB",
        "outputId": "055811ff-4ac0-4f07-9567-ea188f4df600"
      },
      "execution_count": 23,
      "outputs": [
        {
          "output_type": "display_data",
          "data": {
            "text/plain": [
              "<Figure size 640x480 with 1 Axes>"
            ],
            "image/png": "[encoded data removed]"
          },
          "metadata": {}
        },
        {
          "output_type": "display_data",
          "data": {
            "text/plain": [
              "<Figure size 640x480 with 1 Axes>"
            ],
            "image/png": "[encoded data removed]"
          },
          "metadata": {}
        }
      ]
    },
    {
      "cell_type": "code",
      "source": [
        "from sklearn.metrics import classification_report\n",
        "\n",
        "# Assuming you have true labels for your test data stored in y_true\n",
        "# and predictions from your model stored in y_pred\n",
        "\n",
        "# Convert categorical predictions to class labels\n",
        "y_pred_labels = np.argmax(model_0.predict(test_data), axis=1)\n",
        "\n",
        "# Get true labels from the test dataset\n",
        "y_true_labels = np.concatenate([y for x, y in test_data], axis=0)\n",
        "y_true_labels = np.argmax(y_true_labels, axis=1)\n",
        "\n",
        "# Generate classification report\n",
        "report = classification_report(y_true_labels, y_pred_labels)\n",
        "\n",
        "print(report)"
      ],
      "metadata": {
        "colab": {
          "base_uri": "https://localhost:8080/"
        },
        "id": "Wv5AIlWcrhVm",
        "outputId": "72307422-8aa0-4e4a-bb45-c8b414c0e589"
      },
      "execution_count": 24,
      "outputs": [
        {
          "output_type": "stream",
          "name": "stdout",
          "text": [
            "8/8 [==============================] - 3s 97ms/step\n",
            "              precision    recall  f1-score   support\n",
            "\n",
            "           0       0.00      0.00      0.00        18\n",
            "           1       0.26      0.29      0.27        55\n",
            "           2       0.68      0.71      0.70       155\n",
            "\n",
            "    accuracy                           0.55       228\n",
            "   macro avg       0.31      0.33      0.32       228\n",
            "weighted avg       0.53      0.55      0.54       228\n",
            "\n"
          ]
        }
      ]
    },
    {
      "cell_type": "code",
      "source": [
        "# Eğitim doğruluğunu geçmiş verilerinden al\n",
        "train_accuracy = history_0.history['accuracy']\n",
        "\n",
        "# Son epoch'un eğitim doğruluğunu yazdır\n",
        "print(\"Eğitim doğruluğu:\", train_accuracy[-1])\n"
      ],
      "metadata": {
        "colab": {
          "base_uri": "https://localhost:8080/"
        },
        "id": "0rosPnLTrkg2",
        "outputId": "4c93b558-3a82-4b98-ed03-f0152d73aa36"
      },
      "execution_count": 25,
      "outputs": [
        {
          "output_type": "stream",
          "name": "stdout",
          "text": [
            "Eğitim doğruluğu: 0.9582417607307434\n"
          ]
        }
      ]
    },
    {
      "cell_type": "code",
      "source": [
        "6"
      ],
      "metadata": {
        "colab": {
          "base_uri": "https://localhost:8080/"
        },
        "id": "83_9LYOprq6D",
        "outputId": "eb253e78-b88b-454d-d398-04ed27173149"
      },
      "execution_count": 26,
      "outputs": [
        {
          "output_type": "execute_result",
          "data": {
            "text/plain": [
              "6"
            ]
          },
          "metadata": {},
          "execution_count": 26
        }
      ]
    },
    {
      "cell_type": "code",
      "source": [],
      "metadata": {
        "id": "sOV_I5zCtbr7"
      },
      "execution_count": null,
      "outputs": []
    }
  ]
}