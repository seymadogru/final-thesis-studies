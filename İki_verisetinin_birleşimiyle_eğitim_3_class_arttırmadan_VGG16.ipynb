{
  "nbformat": 4,
  "nbformat_minor": 0,
  "metadata": {
    "colab": {
      "provenance": [],
      "machine_shape": "hm",
      "gpuType": "T4"
    },
    "kernelspec": {
      "name": "python3",
      "display_name": "Python 3"
    },
    "language_info": {
      "name": "python"
    },
    "accelerator": "GPU"
  },
  "cells": [
    {
      "cell_type": "code",
      "execution_count": null,
      "metadata": {
        "id": "uaRXzGb4PGJ1"
      },
      "outputs": [],
      "source": []
    },
    {
      "cell_type": "code",
      "source": [
        "from google.colab import drive\n",
        "drive.mount('/content/drive')"
      ],
      "metadata": {
        "colab": {
          "base_uri": "https://localhost:8080/"
        },
        "id": "JNnIc_fKPpQm",
        "outputId": "4dc6878a-87d3-416a-cad6-c0d5941e85ca"
      },
      "execution_count": 1,
      "outputs": [
        {
          "output_type": "stream",
          "name": "stdout",
          "text": [
            "Drive already mounted at /content/drive; to attempt to forcibly remount, call drive.mount(\"/content/drive\", force_remount=True).\n"
          ]
        }
      ]
    },
    {
      "cell_type": "code",
      "source": [
        "from keras.preprocessing.image import ImageDataGenerator, array_to_img, img_to_array, load_img\n",
        "from keras.models import Sequential\n",
        "from keras.layers import Conv2D, MaxPooling2D, Dense\n",
        "from keras.applications.vgg16 import VGG16\n",
        "import numpy as np\n",
        "import os\n",
        "import matplotlib.pyplot as plt\n",
        "from glob import glob\n",
        "import cv2"
      ],
      "metadata": {
        "id": "9jnqjNZuPq1T"
      },
      "execution_count": 2,
      "outputs": []
    },
    {
      "cell_type": "code",
      "source": [
        "train_dir = \"/content/drive/MyDrive/Tez Dosyaları/birleşik veriseti 3 classlı/Train\"\n",
        "test_dir = \"/content/drive/MyDrive/Tez Dosyaları/birleşik veriseti 3 classlı/Test\""
      ],
      "metadata": {
        "id": "ZF0W7jCbP_iQ"
      },
      "execution_count": 3,
      "outputs": []
    },
    {
      "cell_type": "code",
      "source": [
        "import tensorflow as tf\n",
        "from tensorflow.keras.applications import EfficientNetB0"
      ],
      "metadata": {
        "id": "Q0bT4dz-QIKj"
      },
      "execution_count": 4,
      "outputs": []
    },
    {
      "cell_type": "code",
      "source": [
        "!wget https://raw.githubusercontent.com/mrdbourke/tensorflow-deep-learning/main/extras/helper_functions.py\n"
      ],
      "metadata": {
        "colab": {
          "base_uri": "https://localhost:8080/"
        },
        "id": "tFeoLj9XQLtn",
        "outputId": "fdc44289-174f-40a7-848e-d3f02c5c5f3e"
      },
      "execution_count": 5,
      "outputs": [
        {
          "output_type": "stream",
          "name": "stdout",
          "text": [
            "--2024-07-25 16:08:35--  https://raw.githubusercontent.com/mrdbourke/tensorflow-deep-learning/main/extras/helper_functions.py\n",
            "Resolving raw.githubusercontent.com (raw.githubusercontent.com)... 185.199.108.133, 185.199.109.133, 185.199.110.133, ...\n",
            "Connecting to raw.githubusercontent.com (raw.githubusercontent.com)|185.199.108.133|:443... connected.\n",
            "HTTP request sent, awaiting response... 200 OK\n",
            "Length: 10246 (10K) [text/plain]\n",
            "Saving to: ‘helper_functions.py’\n",
            "\n",
            "\rhelper_functions.py   0%[                    ]       0  --.-KB/s               \rhelper_functions.py 100%[===================>]  10.01K  --.-KB/s    in 0s      \n",
            "\n",
            "2024-07-25 16:08:35 (130 MB/s) - ‘helper_functions.py’ saved [10246/10246]\n",
            "\n"
          ]
        }
      ]
    },
    {
      "cell_type": "code",
      "source": [
        "from helper_functions import create_tensorboard_callback, plot_loss_curves, unzip_data, walk_through_dir\n"
      ],
      "metadata": {
        "id": "n5G_ZzjXQNu3"
      },
      "execution_count": 6,
      "outputs": []
    },
    {
      "cell_type": "code",
      "source": [
        "import os\n",
        "\n",
        "for dirpath, dirnames, filenames in os.walk(\"/content/drive/MyDrive/Tez Dosyaları/birleşik veriseti 3 classlı\"):\n",
        "  print(f\"There are {len(dirnames)} directories and {len(filenames)} images in '{dirpath}'.\")"
      ],
      "metadata": {
        "colab": {
          "base_uri": "https://localhost:8080/"
        },
        "id": "eZKtAzFWQREw",
        "outputId": "427ee9d2-5295-456d-8d48-dad031045440"
      },
      "execution_count": 7,
      "outputs": [
        {
          "output_type": "stream",
          "name": "stdout",
          "text": [
            "There are 2 directories and 0 images in '/content/drive/MyDrive/Tez Dosyaları/birleşik veriseti 3 classlı'.\n",
            "There are 3 directories and 0 images in '/content/drive/MyDrive/Tez Dosyaları/birleşik veriseti 3 classlı/Test'.\n",
            "There are 0 directories and 100 images in '/content/drive/MyDrive/Tez Dosyaları/birleşik veriseti 3 classlı/Test/Malignant'.\n",
            "There are 0 directories and 100 images in '/content/drive/MyDrive/Tez Dosyaları/birleşik veriseti 3 classlı/Test/Normal'.\n",
            "There are 0 directories and 100 images in '/content/drive/MyDrive/Tez Dosyaları/birleşik veriseti 3 classlı/Test/Benign'.\n",
            "There are 3 directories and 0 images in '/content/drive/MyDrive/Tez Dosyaları/birleşik veriseti 3 classlı/Train'.\n",
            "There are 0 directories and 575 images in '/content/drive/MyDrive/Tez Dosyaları/birleşik veriseti 3 classlı/Train/Benign'.\n",
            "There are 0 directories and 1429 images in '/content/drive/MyDrive/Tez Dosyaları/birleşik veriseti 3 classlı/Train/Normal'.\n",
            "There are 0 directories and 840 images in '/content/drive/MyDrive/Tez Dosyaları/birleşik veriseti 3 classlı/Train/Malignant'.\n"
          ]
        }
      ]
    },
    {
      "cell_type": "code",
      "source": [
        "import tensorflow as tf\n",
        "BATCH_SIZE = 32\n",
        "IMG_SIZE = (224, 224)\n",
        "train_data= tf.keras.preprocessing.image_dataset_from_directory(train_dir,\n",
        "                                                          label_mode= \"categorical\",\n",
        "                                                          batch_size=BATCH_SIZE,\n",
        "                                                          image_size=IMG_SIZE)\n",
        "\n",
        "test_data = tf.keras.preprocessing.image_dataset_from_directory(test_dir,\n",
        "                                                          label_mode=\"categorical\",\n",
        "                                                          batch_size=BATCH_SIZE,\n",
        "                                                          image_size=IMG_SIZE)"
      ],
      "metadata": {
        "colab": {
          "base_uri": "https://localhost:8080/"
        },
        "id": "JnwuEUU5QRBS",
        "outputId": "cae74c7d-3d01-4c9c-bf25-0d06151e7771"
      },
      "execution_count": 8,
      "outputs": [
        {
          "output_type": "stream",
          "name": "stdout",
          "text": [
            "Found 2844 files belonging to 3 classes.\n",
            "Found 300 files belonging to 3 classes.\n"
          ]
        }
      ]
    },
    {
      "cell_type": "code",
      "source": [
        "\n",
        "train_data.class_names"
      ],
      "metadata": {
        "colab": {
          "base_uri": "https://localhost:8080/"
        },
        "id": "Wk-T5MHHQQ-2",
        "outputId": "11ce0bed-890b-41cc-fe52-ab80aa7e8827"
      },
      "execution_count": 9,
      "outputs": [
        {
          "output_type": "execute_result",
          "data": {
            "text/plain": [
              "['Benign', 'Malignant', 'Normal']"
            ]
          },
          "metadata": {},
          "execution_count": 9
        }
      ]
    },
    {
      "cell_type": "code",
      "source": [
        "from tensorflow.keras.preprocessing.image import ImageDataGenerator\n",
        "from tensorflow.keras.preprocessing.image import img_to_array\n",
        "from tensorflow.keras.preprocessing.image import load_img\n",
        "import numpy as np\n",
        "import random\n",
        "import math\n",
        "import csv\n",
        "import cv2\n",
        "import os"
      ],
      "metadata": {
        "id": "cf-Mw73qQQ8Q"
      },
      "execution_count": 10,
      "outputs": []
    },
    {
      "cell_type": "code",
      "source": [
        "import tensorflow as tf\n",
        "\n",
        "# 1. create base model with tf.keras.applications\n",
        "base_model = tf.keras.applications.VGG16(include_top=False)\n",
        "\n",
        "# 2. Freeze the base model\n",
        "base_model.trainable = False\n",
        "\n",
        "# 3. create inputs into our model\n",
        "inputs = tf.keras.layers.Input(shape=(224, 224, 3), name=\"input_layer\")\n",
        "\n",
        "# 4. if using ResNet50V2 you will need to normalize inputs\n",
        "# x = tf.keras.layers.experimental.preprocessing.Rescaling(1./255)(inputs)\n",
        "\n",
        "# 5. pass the inputs to the base_model\n",
        "x = base_model(inputs)\n",
        "print(f\"Shape after passing inputs through base model: {x.shape}\")\n",
        "\n",
        "# 6. average pool the outputs of the base model (aggregate all the most important information, reduce number of computations)\n",
        "x = tf.keras.layers.GlobalAveragePooling2D(name=\"global_average_pooling_layer\")(x)\n",
        "print(f\"Shape after GlobalAveragePooling2D: {x.shape}\")\n",
        "\n",
        "# 7. create the output activation layer for 3 classes\n",
        "outputs = tf.keras.layers.Dense(3, activation=\"softmax\", name=\"output_layer\")(x)\n",
        "model_0 = tf.keras.Model(inputs, outputs)\n",
        "\n",
        "# 8. compile the model for 3 classes\n",
        "model_0.compile(loss=\"categorical_crossentropy\",\n",
        "                optimizer=tf.keras.optimizers.Adam(),\n",
        "                metrics=[\"accuracy\"])\n",
        "\n",
        "# Assuming you have already prepared your train_data and test_data\n",
        "# Make sure that train_data and test_data are prepared with class_mode='categorical'\n",
        "\n",
        "# 9. fit the model\n",
        "history_0 = model_0.fit(train_data,\n",
        "                        epochs=40,\n",
        "                        steps_per_epoch=len(train_data),\n",
        "                        validation_data=test_data,\n",
        "                        validation_steps=int(len(test_data)),\n",
        "                        callbacks=[create_tensorboard_callback(dir_name=\"transfer_learning\",\n",
        "                                                               experiment_name=\"3_class_feature_extraction\")])\n",
        "\n"
      ],
      "metadata": {
        "colab": {
          "base_uri": "https://localhost:8080/"
        },
        "id": "mNHQOCQUQQ5d",
        "outputId": "e1fa1b30-7430-4962-d5e8-896402ff6846"
      },
      "execution_count": 21,
      "outputs": [
        {
          "output_type": "stream",
          "name": "stdout",
          "text": [
            "Downloading data from https://storage.googleapis.com/tensorflow/keras-applications/vgg16/vgg16_weights_tf_dim_ordering_tf_kernels_notop.h5\n",
            "58889256/58889256 [==============================] - 0s 0us/step\n",
            "Shape after passing inputs through base model: (None, 7, 7, 512)\n",
            "Shape after GlobalAveragePooling2D: (None, 512)\n",
            "Saving TensorBoard log files to: transfer_learning/3_class_feature_extraction/20240725-164623\n",
            "Epoch 1/40\n",
            "89/89 [==============================] - 37s 321ms/step - loss: 1.7088 - accuracy: 0.4430 - val_loss: 1.6310 - val_accuracy: 0.3833\n",
            "Epoch 2/40\n",
            "89/89 [==============================] - 20s 212ms/step - loss: 1.1831 - accuracy: 0.5155 - val_loss: 1.4209 - val_accuracy: 0.3967\n",
            "Epoch 3/40\n",
            "89/89 [==============================] - 20s 209ms/step - loss: 1.0364 - accuracy: 0.5563 - val_loss: 1.3694 - val_accuracy: 0.4067\n",
            "Epoch 4/40\n",
            "89/89 [==============================] - 20s 211ms/step - loss: 0.9580 - accuracy: 0.5876 - val_loss: 1.3596 - val_accuracy: 0.4233\n",
            "Epoch 5/40\n",
            "89/89 [==============================] - 21s 214ms/step - loss: 0.9035 - accuracy: 0.6027 - val_loss: 1.3546 - val_accuracy: 0.4133\n",
            "Epoch 6/40\n",
            "89/89 [==============================] - 20s 210ms/step - loss: 0.8665 - accuracy: 0.6171 - val_loss: 1.3304 - val_accuracy: 0.4200\n",
            "Epoch 7/40\n",
            "89/89 [==============================] - 20s 207ms/step - loss: 0.8309 - accuracy: 0.6319 - val_loss: 1.2819 - val_accuracy: 0.4133\n",
            "Epoch 8/40\n",
            "89/89 [==============================] - 20s 207ms/step - loss: 0.8184 - accuracy: 0.6392 - val_loss: 1.4486 - val_accuracy: 0.4133\n",
            "Epoch 9/40\n",
            "89/89 [==============================] - 20s 212ms/step - loss: 0.8058 - accuracy: 0.6399 - val_loss: 1.3655 - val_accuracy: 0.4367\n",
            "Epoch 10/40\n",
            "89/89 [==============================] - 20s 206ms/step - loss: 0.7688 - accuracy: 0.6642 - val_loss: 1.4100 - val_accuracy: 0.3900\n",
            "Epoch 11/40\n",
            "89/89 [==============================] - 20s 208ms/step - loss: 0.7662 - accuracy: 0.6663 - val_loss: 1.2858 - val_accuracy: 0.4233\n",
            "Epoch 12/40\n",
            "89/89 [==============================] - 20s 208ms/step - loss: 0.7556 - accuracy: 0.6649 - val_loss: 1.3266 - val_accuracy: 0.4033\n",
            "Epoch 13/40\n",
            "89/89 [==============================] - 20s 206ms/step - loss: 0.7514 - accuracy: 0.6642 - val_loss: 1.4291 - val_accuracy: 0.4200\n",
            "Epoch 14/40\n",
            "89/89 [==============================] - 20s 206ms/step - loss: 0.7340 - accuracy: 0.6804 - val_loss: 1.3723 - val_accuracy: 0.4133\n",
            "Epoch 15/40\n",
            "89/89 [==============================] - 20s 208ms/step - loss: 0.7201 - accuracy: 0.6878 - val_loss: 1.4749 - val_accuracy: 0.4100\n",
            "Epoch 16/40\n",
            "89/89 [==============================] - 20s 206ms/step - loss: 0.7072 - accuracy: 0.6951 - val_loss: 1.3586 - val_accuracy: 0.4167\n",
            "Epoch 17/40\n",
            "89/89 [==============================] - 20s 211ms/step - loss: 0.7106 - accuracy: 0.6909 - val_loss: 1.4206 - val_accuracy: 0.4100\n",
            "Epoch 18/40\n",
            "89/89 [==============================] - 20s 206ms/step - loss: 0.6995 - accuracy: 0.6878 - val_loss: 1.5447 - val_accuracy: 0.3967\n",
            "Epoch 19/40\n",
            "89/89 [==============================] - 20s 205ms/step - loss: 0.6921 - accuracy: 0.7018 - val_loss: 1.3973 - val_accuracy: 0.4200\n",
            "Epoch 20/40\n",
            "89/89 [==============================] - 20s 208ms/step - loss: 0.6953 - accuracy: 0.6983 - val_loss: 1.6385 - val_accuracy: 0.4033\n",
            "Epoch 21/40\n",
            "89/89 [==============================] - 20s 206ms/step - loss: 0.6889 - accuracy: 0.7064 - val_loss: 1.4412 - val_accuracy: 0.4000\n",
            "Epoch 22/40\n",
            "89/89 [==============================] - 20s 212ms/step - loss: 0.6913 - accuracy: 0.6969 - val_loss: 1.3843 - val_accuracy: 0.4267\n",
            "Epoch 23/40\n",
            "89/89 [==============================] - 20s 207ms/step - loss: 0.6904 - accuracy: 0.7053 - val_loss: 1.6264 - val_accuracy: 0.3800\n",
            "Epoch 24/40\n",
            "89/89 [==============================] - 20s 207ms/step - loss: 0.6748 - accuracy: 0.7096 - val_loss: 1.4352 - val_accuracy: 0.4167\n",
            "Epoch 25/40\n",
            "89/89 [==============================] - 20s 210ms/step - loss: 0.6795 - accuracy: 0.7106 - val_loss: 1.4564 - val_accuracy: 0.4167\n",
            "Epoch 26/40\n",
            "89/89 [==============================] - 20s 207ms/step - loss: 0.6692 - accuracy: 0.7152 - val_loss: 1.4918 - val_accuracy: 0.4000\n",
            "Epoch 27/40\n",
            "89/89 [==============================] - 20s 207ms/step - loss: 0.6615 - accuracy: 0.7205 - val_loss: 1.5083 - val_accuracy: 0.3967\n",
            "Epoch 28/40\n",
            "89/89 [==============================] - 20s 208ms/step - loss: 0.6578 - accuracy: 0.7184 - val_loss: 1.5343 - val_accuracy: 0.4067\n",
            "Epoch 29/40\n",
            "89/89 [==============================] - 20s 208ms/step - loss: 0.6520 - accuracy: 0.7194 - val_loss: 1.5931 - val_accuracy: 0.3967\n",
            "Epoch 30/40\n",
            "89/89 [==============================] - 20s 210ms/step - loss: 0.6683 - accuracy: 0.7078 - val_loss: 1.7109 - val_accuracy: 0.3967\n",
            "Epoch 31/40\n",
            "89/89 [==============================] - 20s 210ms/step - loss: 0.6590 - accuracy: 0.7127 - val_loss: 1.4691 - val_accuracy: 0.4300\n",
            "Epoch 32/40\n",
            "89/89 [==============================] - 20s 211ms/step - loss: 0.6449 - accuracy: 0.7212 - val_loss: 1.6012 - val_accuracy: 0.4000\n",
            "Epoch 33/40\n",
            "89/89 [==============================] - 20s 210ms/step - loss: 0.6410 - accuracy: 0.7264 - val_loss: 1.5277 - val_accuracy: 0.4267\n",
            "Epoch 34/40\n",
            "89/89 [==============================] - 20s 208ms/step - loss: 0.6461 - accuracy: 0.7236 - val_loss: 1.6109 - val_accuracy: 0.4000\n",
            "Epoch 35/40\n",
            "89/89 [==============================] - 20s 211ms/step - loss: 0.6386 - accuracy: 0.7331 - val_loss: 1.5965 - val_accuracy: 0.4200\n",
            "Epoch 36/40\n",
            "89/89 [==============================] - 20s 209ms/step - loss: 0.6365 - accuracy: 0.7261 - val_loss: 1.5864 - val_accuracy: 0.4100\n",
            "Epoch 37/40\n",
            "89/89 [==============================] - 20s 210ms/step - loss: 0.6404 - accuracy: 0.7282 - val_loss: 1.5375 - val_accuracy: 0.4233\n",
            "Epoch 38/40\n",
            "89/89 [==============================] - 20s 208ms/step - loss: 0.6450 - accuracy: 0.7278 - val_loss: 1.5942 - val_accuracy: 0.4167\n",
            "Epoch 39/40\n",
            "89/89 [==============================] - 20s 211ms/step - loss: 0.6295 - accuracy: 0.7324 - val_loss: 1.6827 - val_accuracy: 0.3933\n",
            "Epoch 40/40\n",
            "89/89 [==============================] - 20s 212ms/step - loss: 0.6325 - accuracy: 0.7338 - val_loss: 1.4972 - val_accuracy: 0.4333\n"
          ]
        }
      ]
    },
    {
      "cell_type": "code",
      "source": [
        "\n",
        "\n",
        "# Evaluate the model on the test data\n",
        "results_feature_extraction = model_0.evaluate(test_data)\n",
        "results_feature_extraction"
      ],
      "metadata": {
        "colab": {
          "base_uri": "https://localhost:8080/"
        },
        "id": "Ezchl2eQQQ2i",
        "outputId": "7ce2770c-9a7b-4835-9a12-da2df0405230"
      },
      "execution_count": 22,
      "outputs": [
        {
          "output_type": "stream",
          "name": "stdout",
          "text": [
            "10/10 [==============================] - 3s 117ms/step - loss: 1.4972 - accuracy: 0.4333\n"
          ]
        },
        {
          "output_type": "execute_result",
          "data": {
            "text/plain": [
              "[1.4971789121627808, 0.4333333373069763]"
            ]
          },
          "metadata": {},
          "execution_count": 22
        }
      ]
    },
    {
      "cell_type": "code",
      "source": [
        "\n",
        "plot_loss_curves(history_0)"
      ],
      "metadata": {
        "colab": {
          "base_uri": "https://localhost:8080/",
          "height": 927
        },
        "id": "JQc39-NCtKSt",
        "outputId": "12fc9a78-c269-491b-e681-3d58fa24b77c"
      },
      "execution_count": 23,
      "outputs": [
        {
          "output_type": "display_data",
          "data": {
            "text/plain": [
              "<Figure size 640x480 with 1 Axes>"
            ],
            "image/png": "[encoded data removed]"
          },
          "metadata": {}
        },
        {
          "output_type": "display_data",
          "data": {
            "text/plain": [
              "<Figure size 640x480 with 1 Axes>"
            ],
            "image/png": "[encoded data removed]"
          },
          "metadata": {}
        }
      ]
    },
    {
      "cell_type": "code",
      "source": [
        "from sklearn.metrics import classification_report\n",
        "\n",
        "# Assuming you have true labels for your test data stored in y_true\n",
        "# and predictions from your model stored in y_pred\n",
        "\n",
        "# Convert categorical predictions to class labels\n",
        "y_pred_labels = np.argmax(model_0.predict(test_data), axis=1)\n",
        "\n",
        "# Get true labels from the test dataset\n",
        "y_true_labels = np.concatenate([y for x, y in test_data], axis=0)\n",
        "y_true_labels = np.argmax(y_true_labels, axis=1)\n",
        "\n",
        "# Generate classification report\n",
        "report = classification_report(y_true_labels, y_pred_labels)\n",
        "\n",
        "print(report)"
      ],
      "metadata": {
        "colab": {
          "base_uri": "https://localhost:8080/"
        },
        "id": "ledJU35ctLw3",
        "outputId": "79d04445-42d3-427c-a31b-feee588e5970"
      },
      "execution_count": 24,
      "outputs": [
        {
          "output_type": "stream",
          "name": "stdout",
          "text": [
            "10/10 [==============================] - 3s 129ms/step\n",
            "              precision    recall  f1-score   support\n",
            "\n",
            "           0       0.31      0.30      0.31       100\n",
            "           1       0.24      0.14      0.18       100\n",
            "           2       0.34      0.50      0.41       100\n",
            "\n",
            "    accuracy                           0.31       300\n",
            "   macro avg       0.30      0.31      0.30       300\n",
            "weighted avg       0.30      0.31      0.30       300\n",
            "\n"
          ]
        }
      ]
    },
    {
      "cell_type": "code",
      "source": [
        "\n",
        "# Eğitim doğruluğunu geçmiş verilerinden al\n",
        "train_accuracy = history_0.history['accuracy']\n",
        "\n",
        "# Son epoch'un eğitim doğruluğunu yazdır\n",
        "print(\"Eğitim doğruluğu:\", train_accuracy[-1])"
      ],
      "metadata": {
        "colab": {
          "base_uri": "https://localhost:8080/"
        },
        "id": "FnbsnisDtN2M",
        "outputId": "93a50399-7951-400a-e5cb-a440a30750e8"
      },
      "execution_count": 25,
      "outputs": [
        {
          "output_type": "stream",
          "name": "stdout",
          "text": [
            "Eğitim doğruluğu: 0.7338256239891052\n"
          ]
        }
      ]
    },
    {
      "cell_type": "code",
      "source": [],
      "metadata": {
        "id": "3TY3lWLotQLG"
      },
      "execution_count": 25,
      "outputs": []
    }
  ]
}