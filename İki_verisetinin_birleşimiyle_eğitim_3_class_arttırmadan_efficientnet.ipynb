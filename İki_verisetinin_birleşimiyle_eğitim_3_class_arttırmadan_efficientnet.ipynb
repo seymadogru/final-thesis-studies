{
  "nbformat": 4,
  "nbformat_minor": 0,
  "metadata": {
    "colab": {
      "provenance": [],
      "machine_shape": "hm",
      "gpuType": "T4"
    },
    "kernelspec": {
      "name": "python3",
      "display_name": "Python 3"
    },
    "language_info": {
      "name": "python"
    },
    "accelerator": "GPU"
  },
  "cells": [
    {
      "cell_type": "code",
      "execution_count": null,
      "metadata": {
        "id": "uaRXzGb4PGJ1"
      },
      "outputs": [],
      "source": []
    },
    {
      "cell_type": "code",
      "source": [
        "from google.colab import drive\n",
        "drive.mount('/content/drive')"
      ],
      "metadata": {
        "colab": {
          "base_uri": "https://localhost:8080/"
        },
        "id": "JNnIc_fKPpQm",
        "outputId": "4dc6878a-87d3-416a-cad6-c0d5941e85ca"
      },
      "execution_count": 1,
      "outputs": [
        {
          "output_type": "stream",
          "name": "stdout",
          "text": [
            "Drive already mounted at /content/drive; to attempt to forcibly remount, call drive.mount(\"/content/drive\", force_remount=True).\n"
          ]
        }
      ]
    },
    {
      "cell_type": "code",
      "source": [
        "from keras.preprocessing.image import ImageDataGenerator, array_to_img, img_to_array, load_img\n",
        "from keras.models import Sequential\n",
        "from keras.layers import Conv2D, MaxPooling2D, Dense\n",
        "from keras.applications.vgg16 import VGG16\n",
        "import numpy as np\n",
        "import os\n",
        "import matplotlib.pyplot as plt\n",
        "from glob import glob\n",
        "import cv2"
      ],
      "metadata": {
        "id": "9jnqjNZuPq1T"
      },
      "execution_count": 2,
      "outputs": []
    },
    {
      "cell_type": "code",
      "source": [
        "train_dir = \"/content/drive/MyDrive/Tez Dosyaları/birleşik veriseti 3 classlı/Train\"\n",
        "test_dir = \"/content/drive/MyDrive/Tez Dosyaları/birleşik veriseti 3 classlı/Test\""
      ],
      "metadata": {
        "id": "ZF0W7jCbP_iQ"
      },
      "execution_count": 3,
      "outputs": []
    },
    {
      "cell_type": "code",
      "source": [
        "import tensorflow as tf\n",
        "from tensorflow.keras.applications import EfficientNetB0"
      ],
      "metadata": {
        "id": "Q0bT4dz-QIKj"
      },
      "execution_count": 4,
      "outputs": []
    },
    {
      "cell_type": "code",
      "source": [
        "!wget https://raw.githubusercontent.com/mrdbourke/tensorflow-deep-learning/main/extras/helper_functions.py\n"
      ],
      "metadata": {
        "colab": {
          "base_uri": "https://localhost:8080/"
        },
        "id": "tFeoLj9XQLtn",
        "outputId": "fdc44289-174f-40a7-848e-d3f02c5c5f3e"
      },
      "execution_count": 5,
      "outputs": [
        {
          "output_type": "stream",
          "name": "stdout",
          "text": [
            "--2024-07-25 16:08:35--  https://raw.githubusercontent.com/mrdbourke/tensorflow-deep-learning/main/extras/helper_functions.py\n",
            "Resolving raw.githubusercontent.com (raw.githubusercontent.com)... 185.199.108.133, 185.199.109.133, 185.199.110.133, ...\n",
            "Connecting to raw.githubusercontent.com (raw.githubusercontent.com)|185.199.108.133|:443... connected.\n",
            "HTTP request sent, awaiting response... 200 OK\n",
            "Length: 10246 (10K) [text/plain]\n",
            "Saving to: ‘helper_functions.py’\n",
            "\n",
            "\rhelper_functions.py   0%[                    ]       0  --.-KB/s               \rhelper_functions.py 100%[===================>]  10.01K  --.-KB/s    in 0s      \n",
            "\n",
            "2024-07-25 16:08:35 (130 MB/s) - ‘helper_functions.py’ saved [10246/10246]\n",
            "\n"
          ]
        }
      ]
    },
    {
      "cell_type": "code",
      "source": [
        "from helper_functions import create_tensorboard_callback, plot_loss_curves, unzip_data, walk_through_dir\n"
      ],
      "metadata": {
        "id": "n5G_ZzjXQNu3"
      },
      "execution_count": 6,
      "outputs": []
    },
    {
      "cell_type": "code",
      "source": [
        "import os\n",
        "\n",
        "for dirpath, dirnames, filenames in os.walk(\"/content/drive/MyDrive/Tez Dosyaları/birleşik veriseti 3 classlı\"):\n",
        "  print(f\"There are {len(dirnames)} directories and {len(filenames)} images in '{dirpath}'.\")"
      ],
      "metadata": {
        "colab": {
          "base_uri": "https://localhost:8080/"
        },
        "id": "eZKtAzFWQREw",
        "outputId": "427ee9d2-5295-456d-8d48-dad031045440"
      },
      "execution_count": 7,
      "outputs": [
        {
          "output_type": "stream",
          "name": "stdout",
          "text": [
            "There are 2 directories and 0 images in '/content/drive/MyDrive/Tez Dosyaları/birleşik veriseti 3 classlı'.\n",
            "There are 3 directories and 0 images in '/content/drive/MyDrive/Tez Dosyaları/birleşik veriseti 3 classlı/Test'.\n",
            "There are 0 directories and 100 images in '/content/drive/MyDrive/Tez Dosyaları/birleşik veriseti 3 classlı/Test/Malignant'.\n",
            "There are 0 directories and 100 images in '/content/drive/MyDrive/Tez Dosyaları/birleşik veriseti 3 classlı/Test/Normal'.\n",
            "There are 0 directories and 100 images in '/content/drive/MyDrive/Tez Dosyaları/birleşik veriseti 3 classlı/Test/Benign'.\n",
            "There are 3 directories and 0 images in '/content/drive/MyDrive/Tez Dosyaları/birleşik veriseti 3 classlı/Train'.\n",
            "There are 0 directories and 575 images in '/content/drive/MyDrive/Tez Dosyaları/birleşik veriseti 3 classlı/Train/Benign'.\n",
            "There are 0 directories and 1429 images in '/content/drive/MyDrive/Tez Dosyaları/birleşik veriseti 3 classlı/Train/Normal'.\n",
            "There are 0 directories and 840 images in '/content/drive/MyDrive/Tez Dosyaları/birleşik veriseti 3 classlı/Train/Malignant'.\n"
          ]
        }
      ]
    },
    {
      "cell_type": "code",
      "source": [
        "import tensorflow as tf\n",
        "BATCH_SIZE = 32\n",
        "IMG_SIZE = (224, 224)\n",
        "train_data= tf.keras.preprocessing.image_dataset_from_directory(train_dir,\n",
        "                                                          label_mode= \"categorical\",\n",
        "                                                          batch_size=BATCH_SIZE,\n",
        "                                                          image_size=IMG_SIZE)\n",
        "\n",
        "test_data = tf.keras.preprocessing.image_dataset_from_directory(test_dir,\n",
        "                                                          label_mode=\"categorical\",\n",
        "                                                          batch_size=BATCH_SIZE,\n",
        "                                                          image_size=IMG_SIZE)"
      ],
      "metadata": {
        "colab": {
          "base_uri": "https://localhost:8080/"
        },
        "id": "JnwuEUU5QRBS",
        "outputId": "cae74c7d-3d01-4c9c-bf25-0d06151e7771"
      },
      "execution_count": 8,
      "outputs": [
        {
          "output_type": "stream",
          "name": "stdout",
          "text": [
            "Found 2844 files belonging to 3 classes.\n",
            "Found 300 files belonging to 3 classes.\n"
          ]
        }
      ]
    },
    {
      "cell_type": "code",
      "source": [
        "\n",
        "train_data.class_names"
      ],
      "metadata": {
        "colab": {
          "base_uri": "https://localhost:8080/"
        },
        "id": "Wk-T5MHHQQ-2",
        "outputId": "11ce0bed-890b-41cc-fe52-ab80aa7e8827"
      },
      "execution_count": 9,
      "outputs": [
        {
          "output_type": "execute_result",
          "data": {
            "text/plain": [
              "['Benign', 'Malignant', 'Normal']"
            ]
          },
          "metadata": {},
          "execution_count": 9
        }
      ]
    },
    {
      "cell_type": "code",
      "source": [
        "from tensorflow.keras.preprocessing.image import ImageDataGenerator\n",
        "from tensorflow.keras.preprocessing.image import img_to_array\n",
        "from tensorflow.keras.preprocessing.image import load_img\n",
        "import numpy as np\n",
        "import random\n",
        "import math\n",
        "import csv\n",
        "import cv2\n",
        "import os"
      ],
      "metadata": {
        "id": "cf-Mw73qQQ8Q"
      },
      "execution_count": 10,
      "outputs": []
    },
    {
      "cell_type": "code",
      "source": [
        "import tensorflow as tf\n",
        "\n",
        "# 1. create base model with tf.keras.applications\n",
        "base_model = tf.keras.applications.EfficientNetB0(include_top=False)\n",
        "\n",
        "# 2. Freeze the base model\n",
        "base_model.trainable = False\n",
        "\n",
        "# 3. create inputs into our model\n",
        "inputs = tf.keras.layers.Input(shape=(224, 224, 3), name=\"input_layer\")\n",
        "\n",
        "# 4. if using ResNet50V2 you will need to normalize inputs\n",
        "# x = tf.keras.layers.experimental.preprocessing.Rescaling(1./255)(inputs)\n",
        "\n",
        "# 5. pass the inputs to the base_model\n",
        "x = base_model(inputs)\n",
        "print(f\"Shape after passing inputs through base model: {x.shape}\")\n",
        "\n",
        "# 6. average pool the outputs of the base model (aggregate all the most important information, reduce number of computations)\n",
        "x = tf.keras.layers.GlobalAveragePooling2D(name=\"global_average_pooling_layer\")(x)\n",
        "print(f\"Shape after GlobalAveragePooling2D: {x.shape}\")\n",
        "\n",
        "# 7. create the output activation layer for 3 classes\n",
        "outputs = tf.keras.layers.Dense(3, activation=\"softmax\", name=\"output_layer\")(x)\n",
        "model_0 = tf.keras.Model(inputs, outputs)\n",
        "\n",
        "# 8. compile the model for 3 classes\n",
        "model_0.compile(loss=\"categorical_crossentropy\",\n",
        "                optimizer=tf.keras.optimizers.Adam(),\n",
        "                metrics=[\"accuracy\"])\n",
        "\n",
        "# Assuming you have already prepared your train_data and test_data\n",
        "# Make sure that train_data and test_data are prepared with class_mode='categorical'\n",
        "\n",
        "# 9. fit the model\n",
        "history_0 = model_0.fit(train_data,\n",
        "                        epochs=40,\n",
        "                        steps_per_epoch=len(train_data),\n",
        "                        validation_data=test_data,\n",
        "                        validation_steps=int(len(test_data)),\n",
        "                        callbacks=[create_tensorboard_callback(dir_name=\"transfer_learning\",\n",
        "                                                               experiment_name=\"3_class_feature_extraction\")])\n",
        "\n"
      ],
      "metadata": {
        "colab": {
          "base_uri": "https://localhost:8080/"
        },
        "id": "mNHQOCQUQQ5d",
        "outputId": "fd3e91e7-1d14-44fe-8171-0c589895cf90"
      },
      "execution_count": 11,
      "outputs": [
        {
          "output_type": "stream",
          "name": "stdout",
          "text": [
            "Downloading data from https://storage.googleapis.com/keras-applications/efficientnetb0_notop.h5\n",
            "16705208/16705208 [==============================] - 0s 0us/step\n",
            "Shape after passing inputs through base model: (None, 7, 7, 1280)\n",
            "Shape after GlobalAveragePooling2D: (None, 1280)\n",
            "Saving TensorBoard log files to: transfer_learning/3_class_feature_extraction/20240725-160854\n",
            "Epoch 1/40\n",
            "89/89 [==============================] - 146s 1s/step - loss: 0.9529 - accuracy: 0.5471 - val_loss: 1.0977 - val_accuracy: 0.4267\n",
            "Epoch 2/40\n",
            "89/89 [==============================] - 19s 193ms/step - loss: 0.8828 - accuracy: 0.6062 - val_loss: 1.0327 - val_accuracy: 0.4700\n",
            "Epoch 3/40\n",
            "89/89 [==============================] - 19s 201ms/step - loss: 0.8477 - accuracy: 0.6262 - val_loss: 1.0427 - val_accuracy: 0.4633\n",
            "Epoch 4/40\n",
            "89/89 [==============================] - 19s 194ms/step - loss: 0.8276 - accuracy: 0.6308 - val_loss: 1.0802 - val_accuracy: 0.4400\n",
            "Epoch 5/40\n",
            "89/89 [==============================] - 19s 194ms/step - loss: 0.8079 - accuracy: 0.6480 - val_loss: 1.0414 - val_accuracy: 0.4833\n",
            "Epoch 6/40\n",
            "89/89 [==============================] - 19s 193ms/step - loss: 0.8013 - accuracy: 0.6456 - val_loss: 1.0573 - val_accuracy: 0.4633\n",
            "Epoch 7/40\n",
            "89/89 [==============================] - 19s 199ms/step - loss: 0.7874 - accuracy: 0.6663 - val_loss: 1.0400 - val_accuracy: 0.4600\n",
            "Epoch 8/40\n",
            "89/89 [==============================] - 19s 198ms/step - loss: 0.7690 - accuracy: 0.6712 - val_loss: 1.0639 - val_accuracy: 0.4767\n",
            "Epoch 9/40\n",
            "89/89 [==============================] - 18s 191ms/step - loss: 0.7632 - accuracy: 0.6776 - val_loss: 1.0476 - val_accuracy: 0.4867\n",
            "Epoch 10/40\n",
            "89/89 [==============================] - 19s 193ms/step - loss: 0.7565 - accuracy: 0.6821 - val_loss: 1.1372 - val_accuracy: 0.4400\n",
            "Epoch 11/40\n",
            "89/89 [==============================] - 19s 193ms/step - loss: 0.7474 - accuracy: 0.6874 - val_loss: 1.0994 - val_accuracy: 0.4600\n",
            "Epoch 12/40\n",
            "89/89 [==============================] - 18s 191ms/step - loss: 0.7403 - accuracy: 0.6850 - val_loss: 1.0877 - val_accuracy: 0.4800\n",
            "Epoch 13/40\n",
            "89/89 [==============================] - 19s 192ms/step - loss: 0.7338 - accuracy: 0.6927 - val_loss: 1.0929 - val_accuracy: 0.4400\n",
            "Epoch 14/40\n",
            "89/89 [==============================] - 18s 191ms/step - loss: 0.7307 - accuracy: 0.6828 - val_loss: 1.0757 - val_accuracy: 0.4333\n",
            "Epoch 15/40\n",
            "89/89 [==============================] - 19s 195ms/step - loss: 0.7175 - accuracy: 0.6920 - val_loss: 1.0945 - val_accuracy: 0.4633\n",
            "Epoch 16/40\n",
            "89/89 [==============================] - 19s 195ms/step - loss: 0.7185 - accuracy: 0.6934 - val_loss: 1.1230 - val_accuracy: 0.4633\n",
            "Epoch 17/40\n",
            "89/89 [==============================] - 19s 196ms/step - loss: 0.7100 - accuracy: 0.6969 - val_loss: 1.0928 - val_accuracy: 0.4700\n",
            "Epoch 18/40\n",
            "89/89 [==============================] - 19s 193ms/step - loss: 0.7031 - accuracy: 0.7046 - val_loss: 1.1398 - val_accuracy: 0.4667\n",
            "Epoch 19/40\n",
            "89/89 [==============================] - 19s 195ms/step - loss: 0.7055 - accuracy: 0.7106 - val_loss: 1.0905 - val_accuracy: 0.4733\n",
            "Epoch 20/40\n",
            "89/89 [==============================] - 19s 194ms/step - loss: 0.6919 - accuracy: 0.7008 - val_loss: 1.1531 - val_accuracy: 0.4567\n",
            "Epoch 21/40\n",
            "89/89 [==============================] - 19s 193ms/step - loss: 0.6913 - accuracy: 0.7064 - val_loss: 1.1241 - val_accuracy: 0.4467\n",
            "Epoch 22/40\n",
            "89/89 [==============================] - 19s 194ms/step - loss: 0.6903 - accuracy: 0.7082 - val_loss: 1.1527 - val_accuracy: 0.4367\n",
            "Epoch 23/40\n",
            "89/89 [==============================] - 19s 193ms/step - loss: 0.6848 - accuracy: 0.7064 - val_loss: 1.1058 - val_accuracy: 0.4733\n",
            "Epoch 24/40\n",
            "89/89 [==============================] - 19s 196ms/step - loss: 0.6872 - accuracy: 0.7124 - val_loss: 1.1137 - val_accuracy: 0.4600\n",
            "Epoch 25/40\n",
            "89/89 [==============================] - 19s 196ms/step - loss: 0.6775 - accuracy: 0.7268 - val_loss: 1.1022 - val_accuracy: 0.4700\n",
            "Epoch 26/40\n",
            "89/89 [==============================] - 19s 194ms/step - loss: 0.6746 - accuracy: 0.7208 - val_loss: 1.1261 - val_accuracy: 0.4533\n",
            "Epoch 27/40\n",
            "89/89 [==============================] - 18s 190ms/step - loss: 0.6722 - accuracy: 0.7208 - val_loss: 1.1071 - val_accuracy: 0.4500\n",
            "Epoch 28/40\n",
            "89/89 [==============================] - 18s 192ms/step - loss: 0.6736 - accuracy: 0.7145 - val_loss: 1.1532 - val_accuracy: 0.4700\n",
            "Epoch 29/40\n",
            "89/89 [==============================] - 19s 195ms/step - loss: 0.6707 - accuracy: 0.7187 - val_loss: 1.1359 - val_accuracy: 0.4533\n",
            "Epoch 30/40\n",
            "89/89 [==============================] - 19s 193ms/step - loss: 0.6657 - accuracy: 0.7198 - val_loss: 1.1295 - val_accuracy: 0.4533\n",
            "Epoch 31/40\n",
            "89/89 [==============================] - 19s 196ms/step - loss: 0.6627 - accuracy: 0.7155 - val_loss: 1.1743 - val_accuracy: 0.4600\n",
            "Epoch 32/40\n",
            "89/89 [==============================] - 18s 191ms/step - loss: 0.6570 - accuracy: 0.7271 - val_loss: 1.1485 - val_accuracy: 0.4800\n",
            "Epoch 33/40\n",
            "89/89 [==============================] - 19s 196ms/step - loss: 0.6498 - accuracy: 0.7321 - val_loss: 1.1218 - val_accuracy: 0.4733\n",
            "Epoch 34/40\n",
            "89/89 [==============================] - 19s 193ms/step - loss: 0.6504 - accuracy: 0.7321 - val_loss: 1.1306 - val_accuracy: 0.4867\n",
            "Epoch 35/40\n",
            "89/89 [==============================] - 19s 194ms/step - loss: 0.6484 - accuracy: 0.7356 - val_loss: 1.1615 - val_accuracy: 0.4700\n",
            "Epoch 36/40\n",
            "89/89 [==============================] - 19s 193ms/step - loss: 0.6504 - accuracy: 0.7264 - val_loss: 1.2485 - val_accuracy: 0.4633\n",
            "Epoch 37/40\n",
            "89/89 [==============================] - 18s 192ms/step - loss: 0.6528 - accuracy: 0.7282 - val_loss: 1.1496 - val_accuracy: 0.4600\n",
            "Epoch 38/40\n",
            "89/89 [==============================] - 19s 197ms/step - loss: 0.6319 - accuracy: 0.7482 - val_loss: 1.1373 - val_accuracy: 0.4567\n",
            "Epoch 39/40\n",
            "89/89 [==============================] - 19s 194ms/step - loss: 0.6416 - accuracy: 0.7391 - val_loss: 1.1716 - val_accuracy: 0.4400\n",
            "Epoch 40/40\n",
            "89/89 [==============================] - 19s 193ms/step - loss: 0.6480 - accuracy: 0.7215 - val_loss: 1.1988 - val_accuracy: 0.4600\n"
          ]
        }
      ]
    },
    {
      "cell_type": "code",
      "source": [
        "\n",
        "\n",
        "# Evaluate the model on the test data\n",
        "results_feature_extraction = model_0.evaluate(test_data)\n",
        "results_feature_extraction"
      ],
      "metadata": {
        "colab": {
          "base_uri": "https://localhost:8080/"
        },
        "id": "Ezchl2eQQQ2i",
        "outputId": "2bc4b65d-0771-4981-e401-d0b16ac49df5"
      },
      "execution_count": 12,
      "outputs": [
        {
          "output_type": "stream",
          "name": "stdout",
          "text": [
            "10/10 [==============================] - 2s 59ms/step - loss: 1.1988 - accuracy: 0.4600\n"
          ]
        },
        {
          "output_type": "execute_result",
          "data": {
            "text/plain": [
              "[1.1988399028778076, 0.46000000834465027]"
            ]
          },
          "metadata": {},
          "execution_count": 12
        }
      ]
    },
    {
      "cell_type": "code",
      "source": [
        "\n",
        "plot_loss_curves(history_0)"
      ],
      "metadata": {
        "colab": {
          "base_uri": "https://localhost:8080/",
          "height": 927
        },
        "id": "JQc39-NCtKSt",
        "outputId": "479dc322-9d5a-4208-84f0-69271e634351"
      },
      "execution_count": 13,
      "outputs": [
        {
          "output_type": "display_data",
          "data": {
            "text/plain": [
              "<Figure size 640x480 with 1 Axes>"
            ],
            "image/png": "[encoded data removed]"
          },
          "metadata": {}
        },
        {
          "output_type": "display_data",
          "data": {
            "text/plain": [
              "<Figure size 640x480 with 1 Axes>"
            ],
            "image/png": "[encoded data removed]"
          },
          "metadata": {}
        }
      ]
    },
    {
      "cell_type": "code",
      "source": [
        "from sklearn.metrics import classification_report\n",
        "\n",
        "# Assuming you have true labels for your test data stored in y_true\n",
        "# and predictions from your model stored in y_pred\n",
        "\n",
        "# Convert categorical predictions to class labels\n",
        "y_pred_labels = np.argmax(model_0.predict(test_data), axis=1)\n",
        "\n",
        "# Get true labels from the test dataset\n",
        "y_true_labels = np.concatenate([y for x, y in test_data], axis=0)\n",
        "y_true_labels = np.argmax(y_true_labels, axis=1)\n",
        "\n",
        "# Generate classification report\n",
        "report = classification_report(y_true_labels, y_pred_labels)\n",
        "\n",
        "print(report)"
      ],
      "metadata": {
        "colab": {
          "base_uri": "https://localhost:8080/"
        },
        "id": "ledJU35ctLw3",
        "outputId": "67bd7dc9-057c-454b-dd49-b68ca4b284cc"
      },
      "execution_count": 14,
      "outputs": [
        {
          "output_type": "stream",
          "name": "stdout",
          "text": [
            "10/10 [==============================] - 4s 63ms/step\n",
            "              precision    recall  f1-score   support\n",
            "\n",
            "           0       0.38      0.20      0.26       100\n",
            "           1       0.23      0.15      0.18       100\n",
            "           2       0.33      0.60      0.42       100\n",
            "\n",
            "    accuracy                           0.32       300\n",
            "   macro avg       0.31      0.32      0.29       300\n",
            "weighted avg       0.31      0.32      0.29       300\n",
            "\n"
          ]
        }
      ]
    },
    {
      "cell_type": "code",
      "source": [
        "\n",
        "# Eğitim doğruluğunu geçmiş verilerinden al\n",
        "train_accuracy = history_0.history['accuracy']\n",
        "\n",
        "# Son epoch'un eğitim doğruluğunu yazdır\n",
        "print(\"Eğitim doğruluğu:\", train_accuracy[-1])"
      ],
      "metadata": {
        "colab": {
          "base_uri": "https://localhost:8080/"
        },
        "id": "FnbsnisDtN2M",
        "outputId": "45ae8fc9-89d2-44ee-a051-9c21bcd4cf7b"
      },
      "execution_count": 15,
      "outputs": [
        {
          "output_type": "stream",
          "name": "stdout",
          "text": [
            "Eğitim doğruluğu: 0.7215189933776855\n"
          ]
        }
      ]
    },
    {
      "cell_type": "code",
      "source": [],
      "metadata": {
        "id": "3TY3lWLotQLG"
      },
      "execution_count": null,
      "outputs": []
    }
  ]
}