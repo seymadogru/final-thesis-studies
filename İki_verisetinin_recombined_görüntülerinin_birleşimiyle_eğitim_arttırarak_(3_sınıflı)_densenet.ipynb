{
  "nbformat": 4,
  "nbformat_minor": 0,
  "metadata": {
    "colab": {
      "provenance": [],
      "machine_shape": "hm",
      "gpuType": "T4"
    },
    "kernelspec": {
      "name": "python3",
      "display_name": "Python 3"
    },
    "language_info": {
      "name": "python"
    },
    "accelerator": "GPU"
  },
  "cells": [
    {
      "cell_type": "code",
      "execution_count": 1,
      "metadata": {
        "colab": {
          "base_uri": "https://localhost:8080/"
        },
        "id": "ui-zZAPcKz83",
        "outputId": "46ddc0a5-c6ea-4031-a504-ebe6efa4eec5"
      },
      "outputs": [
        {
          "output_type": "stream",
          "name": "stdout",
          "text": [
            "--2024-07-31 14:24:58--  https://raw.githubusercontent.com/mrdbourke/tensorflow-deep-learning/main/extras/helper_functions.py\n",
            "Resolving raw.githubusercontent.com (raw.githubusercontent.com)... 185.199.109.133, 185.199.111.133, 185.199.108.133, ...\n",
            "Connecting to raw.githubusercontent.com (raw.githubusercontent.com)|185.199.109.133|:443... connected.\n",
            "HTTP request sent, awaiting response... 200 OK\n",
            "Length: 10246 (10K) [text/plain]\n",
            "Saving to: ‘helper_functions.py’\n",
            "\n",
            "\rhelper_functions.py   0%[                    ]       0  --.-KB/s               \rhelper_functions.py 100%[===================>]  10.01K  --.-KB/s    in 0s      \n",
            "\n",
            "2024-07-31 14:24:58 (113 MB/s) - ‘helper_functions.py’ saved [10246/10246]\n",
            "\n"
          ]
        }
      ],
      "source": [
        "!wget https://raw.githubusercontent.com/mrdbourke/tensorflow-deep-learning/main/extras/helper_functions.py\n",
        ""
      ]
    },
    {
      "cell_type": "code",
      "source": [
        "from helper_functions import create_tensorboard_callback, plot_loss_curves, unzip_data, walk_through_dir\n",
        ""
      ],
      "metadata": {
        "id": "0t-4zDVMLgSz"
      },
      "execution_count": 2,
      "outputs": []
    },
    {
      "cell_type": "code",
      "source": [
        "import os\n",
        "\n",
        "for dirpath, dirnames, filenames in os.walk(\"/content/drive/MyDrive/Tez Dosyaları/recombined 3 classlı\"):\n",
        "  print(f\"There are {len(dirnames)} directories and {len(filenames)} images in '{dirpath}'.\")\n"
      ],
      "metadata": {
        "colab": {
          "base_uri": "https://localhost:8080/"
        },
        "id": "srKAIl5kLhvA",
        "outputId": "adbd7204-405c-4d97-9bbe-b8a35802989a"
      },
      "execution_count": 3,
      "outputs": [
        {
          "output_type": "stream",
          "name": "stdout",
          "text": [
            "There are 2 directories and 0 images in '/content/drive/MyDrive/Tez Dosyaları/recombined 3 classlı'.\n",
            "There are 3 directories and 0 images in '/content/drive/MyDrive/Tez Dosyaları/recombined 3 classlı/Train'.\n",
            "There are 0 directories and 702 images in '/content/drive/MyDrive/Tez Dosyaları/recombined 3 classlı/Train/Normal'.\n",
            "There are 0 directories and 418 images in '/content/drive/MyDrive/Tez Dosyaları/recombined 3 classlı/Train/Malignant'.\n",
            "There are 0 directories and 250 images in '/content/drive/MyDrive/Tez Dosyaları/recombined 3 classlı/Train/Benign'.\n",
            "There are 3 directories and 0 images in '/content/drive/MyDrive/Tez Dosyaları/recombined 3 classlı/Test'.\n",
            "There are 0 directories and 100 images in '/content/drive/MyDrive/Tez Dosyaları/recombined 3 classlı/Test/Normal'.\n",
            "There are 0 directories and 52 images in '/content/drive/MyDrive/Tez Dosyaları/recombined 3 classlı/Test/Malignant'.\n",
            "There are 0 directories and 50 images in '/content/drive/MyDrive/Tez Dosyaları/recombined 3 classlı/Test/Benign'.\n"
          ]
        }
      ]
    },
    {
      "cell_type": "code",
      "source": [
        "train_dir = \"/content/drive/MyDrive/Tez Dosyaları/recombined 3 classlı/Train\"\n",
        "test_dir = \"/content/drive/MyDrive/Tez Dosyaları/recombined 3 classlı/Test\""
      ],
      "metadata": {
        "id": "L3MFKHtuLna4"
      },
      "execution_count": 4,
      "outputs": []
    },
    {
      "cell_type": "code",
      "source": [
        "\n",
        "import tensorflow as tf\n",
        "BATCH_SIZE = 32\n",
        "IMG_SIZE = (224, 224)\n",
        "train_data= tf.keras.preprocessing.image_dataset_from_directory(train_dir,\n",
        "                                                          label_mode= \"categorical\",\n",
        "                                                          batch_size=BATCH_SIZE,\n",
        "                                                          image_size=IMG_SIZE)\n",
        "\n",
        "test_data = tf.keras.preprocessing.image_dataset_from_directory(test_dir,\n",
        "                                                          label_mode=\"categorical\",\n",
        "                                                          batch_size=BATCH_SIZE,\n",
        "                                                          image_size=IMG_SIZE)"
      ],
      "metadata": {
        "colab": {
          "base_uri": "https://localhost:8080/"
        },
        "id": "erHUZWKWLs1g",
        "outputId": "cab1838d-66e7-4fe8-804d-ee4c41795e59"
      },
      "execution_count": 5,
      "outputs": [
        {
          "output_type": "stream",
          "name": "stdout",
          "text": [
            "Found 1370 files belonging to 3 classes.\n",
            "Found 202 files belonging to 3 classes.\n"
          ]
        }
      ]
    },
    {
      "cell_type": "code",
      "source": [
        "from tensorflow.keras.preprocessing.image import ImageDataGenerator\n",
        "from tensorflow.keras.preprocessing.image import img_to_array\n",
        "from tensorflow.keras.preprocessing.image import load_img\n",
        "import numpy as np\n",
        "import random\n",
        "import math\n",
        "import csv\n",
        "import cv2\n",
        "import os"
      ],
      "metadata": {
        "id": "3mKexcbBLuUu"
      },
      "execution_count": 6,
      "outputs": []
    },
    {
      "cell_type": "code",
      "source": [
        "image_width = 224\n",
        "image_height = 224\n",
        "classes = ['Benign', 'Malignant', 'Normal']\n",
        "datagen = ImageDataGenerator(\n",
        "    rescale=1.0/255,\n",
        "    rotation_range=40,\n",
        "    width_shift_range=0.2,\n",
        "    height_shift_range=0.2,\n",
        "    shear_range=0.2,\n",
        "    zoom_range=0.2,\n",
        "    horizontal_flip=True,\n",
        "    fill_mode='nearest'\n",
        ")\n",
        "\n",
        "# Resimleri yüklemek için flow_from_directory kullanın\n",
        "train_generator = datagen.flow_from_directory(\n",
        "    directory=\"/content/drive/MyDrive/Tez Dosyaları/recombined 3 classlı/Train\",\n",
        "    target_size=(image_width, image_height),\n",
        "    batch_size=32,\n",
        "    class_mode='categorical',\n",
        "    subset='training'\n",
        ")\n",
        "\n",
        "# Her sınıf için resimleri ayrı ayrı arttırın\n",
        "for cls in classes:\n",
        "    # Sınıfın resimlerini yüklemek için flow_from_directory kullanın\n",
        "    cls_generator = datagen.flow_from_directory(\n",
        "        directory=\"/content/drive/MyDrive/Tez Dosyaları/recombined 3 classlı/Train\",\n",
        "        target_size=(image_width, image_height),\n",
        "        batch_size=32,\n",
        "        class_mode='categorical',\n",
        "        subset='training',\n",
        "        classes=[cls]\n",
        "    )\n",
        "\n",
        "    # Resimleri arttırın ve kaydedin\n",
        "    i = 0\n",
        "    for batch in cls_generator:\n",
        "        images, labels = batch\n",
        "        for image in images:\n",
        "            # Resmi kaydetmek için imwrite kullanın\n",
        "            cv2.imwrite(os.path.join(\"/content/drive/MyDrive/Tez Dosyaları/recombined 3 classlı/Train\", cls, f\"augmented_{i}.jpg\"), image * 255)\n",
        "            i += 1\n",
        "            if i >= 3000:  # Maksimum resim sayısına ulaşıldığında döngüyü durdur\n",
        "                break\n",
        "        else:\n",
        "            continue\n",
        "        break"
      ],
      "metadata": {
        "colab": {
          "base_uri": "https://localhost:8080/"
        },
        "id": "jC0OjbNKLyOX",
        "outputId": "38a3202b-ffa9-4aaf-8b33-2e51240df6e2"
      },
      "execution_count": 7,
      "outputs": [
        {
          "output_type": "stream",
          "name": "stdout",
          "text": [
            "Found 1370 images belonging to 3 classes.\n",
            "Found 250 images belonging to 1 classes.\n",
            "Found 418 images belonging to 1 classes.\n",
            "Found 702 images belonging to 1 classes.\n"
          ]
        }
      ]
    },
    {
      "cell_type": "code",
      "source": [
        "augmented_images3 = os.listdir(\"/content/drive/MyDrive/Tez Dosyaları/recombined 3 classlı/Train/Benign\")\n",
        "\n",
        "# Count the number of augmented images\n",
        "num_benign_images = len(augmented_images3)\n",
        "\n",
        "# Print the number of malignant images\n",
        "print(\"Number of benign images:\", num_benign_images)"
      ],
      "metadata": {
        "colab": {
          "base_uri": "https://localhost:8080/"
        },
        "id": "Q0skfbqNL4Jq",
        "outputId": "408a56a2-0301-4dd3-c1f6-2102030f17e9"
      },
      "execution_count": 8,
      "outputs": [
        {
          "output_type": "stream",
          "name": "stdout",
          "text": [
            "Number of benign images: 3250\n"
          ]
        }
      ]
    },
    {
      "cell_type": "code",
      "source": [
        "augmented_images2 = os.listdir(\"/content/drive/MyDrive/Tez Dosyaları/recombined 3 classlı/Train/Normal\")\n",
        "\n",
        "# Count the number of augmented images\n",
        "num_normal_images = len(augmented_images2)\n",
        "\n",
        "# Print the number of malignant images\n",
        "print(\"Number of normal images:\", num_normal_images)"
      ],
      "metadata": {
        "colab": {
          "base_uri": "https://localhost:8080/"
        },
        "id": "_BKEGTWjL8V0",
        "outputId": "d88bd91e-2208-41d3-95c9-acac92c36c10"
      },
      "execution_count": 9,
      "outputs": [
        {
          "output_type": "stream",
          "name": "stdout",
          "text": [
            "Number of normal images: 3702\n"
          ]
        }
      ]
    },
    {
      "cell_type": "code",
      "source": [
        "\n",
        "# Load the augmented images for the malignant class\n",
        "augmented_images = os.listdir(\"/content/drive/MyDrive/Tez Dosyaları/recombined 3 classlı/Train/Malignant\")\n",
        "\n",
        "# Count the number of augmented images\n",
        "num_malignant_images = len(augmented_images)\n",
        "\n",
        "# Print the number of malignant images\n",
        "print(\"Number of malignant images:\", num_malignant_images)"
      ],
      "metadata": {
        "colab": {
          "base_uri": "https://localhost:8080/"
        },
        "id": "4n5Y7WorL_N3",
        "outputId": "a2445e2c-99b3-4aa2-b495-e0db8a893436"
      },
      "execution_count": 10,
      "outputs": [
        {
          "output_type": "stream",
          "name": "stdout",
          "text": [
            "Number of malignant images: 3418\n"
          ]
        }
      ]
    },
    {
      "cell_type": "code",
      "source": [
        "\n",
        "import tensorflow as tf\n",
        "\n",
        "# 1. create base model with tf.keras.applications\n",
        "base_model = tf.keras.applications.DenseNet121(include_top=False)\n",
        "\n",
        "# 2. Freeze the base model\n",
        "base_model.trainable = False\n",
        "\n",
        "# 3. create inputs into our model\n",
        "inputs = tf.keras.layers.Input(shape=(224, 224, 3), name=\"input_layer\")\n",
        "\n",
        "# 4. if using ResNet50V2 you will need to normalize inputs\n",
        "# x = tf.keras.layers.experimental.preprocessing.Rescaling(1./255)(inputs)\n",
        "\n",
        "# 5. pass the inputs to the base_model\n",
        "x = base_model(inputs)\n",
        "print(f\"Shape after passing inputs through base model: {x.shape}\")\n",
        "\n",
        "# 6. average pool the outputs of the base model (aggregate all the most important information, reduce number of computations)\n",
        "x = tf.keras.layers.GlobalAveragePooling2D(name=\"global_average_pooling_layer\")(x)\n",
        "print(f\"Shape after GlobalAveragePooling2D: {x.shape}\")\n",
        "\n",
        "# 7. create the output activation layer for 3 classes\n",
        "outputs = tf.keras.layers.Dense(3, activation=\"softmax\", name=\"output_layer\")(x)\n",
        "model_0 = tf.keras.Model(inputs, outputs)\n",
        "\n",
        "# 8. compile the model for 3 classes\n",
        "model_0.compile(loss=\"categorical_crossentropy\",\n",
        "                optimizer=tf.keras.optimizers.Adam(),\n",
        "                metrics=[\"accuracy\"])\n",
        "\n",
        "# Assuming you have already prepared your train_data and test_data\n",
        "# Make sure that train_data and test_data are prepared with class_mode='categorical'\n",
        "\n",
        "# 9. fit the model\n",
        "history_0 = model_0.fit(train_data,\n",
        "                        epochs=40,\n",
        "                        steps_per_epoch=len(train_data),\n",
        "                        validation_data=test_data,\n",
        "                        validation_steps=int(len(test_data)),\n",
        "                        callbacks=[create_tensorboard_callback(dir_name=\"transfer_learning\",\n",
        "                                                               experiment_name=\"3_class_feature_extraction\")])\n",
        ""
      ],
      "metadata": {
        "colab": {
          "base_uri": "https://localhost:8080/"
        },
        "id": "Sqt37xV8MEAa",
        "outputId": "7a69f243-d328-4c78-a2ef-f1121be3239d"
      },
      "execution_count": 16,
      "outputs": [
        {
          "output_type": "stream",
          "name": "stdout",
          "text": [
            "Downloading data from https://storage.googleapis.com/tensorflow/keras-applications/densenet/densenet121_weights_tf_dim_ordering_tf_kernels_notop.h5\n",
            "29084464/29084464 [==============================] - 2s 0us/step\n",
            "Shape after passing inputs through base model: (None, 7, 7, 1024)\n",
            "Shape after GlobalAveragePooling2D: (None, 1024)\n",
            "Saving TensorBoard log files to: transfer_learning/3_class_feature_extraction/20240731-144518\n",
            "Epoch 1/40\n",
            "43/43 [==============================] - 28s 388ms/step - loss: 1.4713 - accuracy: 0.4248 - val_loss: 1.1674 - val_accuracy: 0.5050\n",
            "Epoch 2/40\n",
            "43/43 [==============================] - 10s 198ms/step - loss: 1.0659 - accuracy: 0.5292 - val_loss: 1.1238 - val_accuracy: 0.5347\n",
            "Epoch 3/40\n",
            "43/43 [==============================] - 10s 194ms/step - loss: 0.9924 - accuracy: 0.5533 - val_loss: 1.0900 - val_accuracy: 0.5644\n",
            "Epoch 4/40\n",
            "43/43 [==============================] - 10s 192ms/step - loss: 0.9536 - accuracy: 0.5635 - val_loss: 1.0123 - val_accuracy: 0.5446\n",
            "Epoch 5/40\n",
            "43/43 [==============================] - 10s 193ms/step - loss: 0.9188 - accuracy: 0.5876 - val_loss: 1.0335 - val_accuracy: 0.5693\n",
            "Epoch 6/40\n",
            "43/43 [==============================] - 10s 200ms/step - loss: 0.9104 - accuracy: 0.5942 - val_loss: 1.0834 - val_accuracy: 0.5594\n",
            "Epoch 7/40\n",
            "43/43 [==============================] - 9s 189ms/step - loss: 0.8993 - accuracy: 0.5993 - val_loss: 1.0061 - val_accuracy: 0.5495\n",
            "Epoch 8/40\n",
            "43/43 [==============================] - 9s 187ms/step - loss: 0.8530 - accuracy: 0.6197 - val_loss: 0.9878 - val_accuracy: 0.5693\n",
            "Epoch 9/40\n",
            "43/43 [==============================] - 10s 201ms/step - loss: 0.8255 - accuracy: 0.6343 - val_loss: 1.0486 - val_accuracy: 0.5990\n",
            "Epoch 10/40\n",
            "43/43 [==============================] - 10s 196ms/step - loss: 0.8212 - accuracy: 0.6307 - val_loss: 0.9905 - val_accuracy: 0.5792\n",
            "Epoch 11/40\n",
            "43/43 [==============================] - 9s 191ms/step - loss: 0.8058 - accuracy: 0.6474 - val_loss: 1.0385 - val_accuracy: 0.5990\n",
            "Epoch 12/40\n",
            "43/43 [==============================] - 9s 184ms/step - loss: 0.8203 - accuracy: 0.6358 - val_loss: 0.9770 - val_accuracy: 0.5792\n",
            "Epoch 13/40\n",
            "43/43 [==============================] - 10s 194ms/step - loss: 0.7857 - accuracy: 0.6504 - val_loss: 1.0766 - val_accuracy: 0.4802\n",
            "Epoch 14/40\n",
            "43/43 [==============================] - 10s 193ms/step - loss: 0.8026 - accuracy: 0.6460 - val_loss: 0.9920 - val_accuracy: 0.5495\n",
            "Epoch 15/40\n",
            "43/43 [==============================] - 9s 189ms/step - loss: 0.7745 - accuracy: 0.6635 - val_loss: 1.0554 - val_accuracy: 0.5842\n",
            "Epoch 16/40\n",
            "43/43 [==============================] - 10s 191ms/step - loss: 0.7684 - accuracy: 0.6577 - val_loss: 1.0420 - val_accuracy: 0.5248\n",
            "Epoch 17/40\n",
            "43/43 [==============================] - 10s 195ms/step - loss: 0.7648 - accuracy: 0.6599 - val_loss: 0.9906 - val_accuracy: 0.5644\n",
            "Epoch 18/40\n",
            "43/43 [==============================] - 10s 192ms/step - loss: 0.7434 - accuracy: 0.6839 - val_loss: 1.0045 - val_accuracy: 0.5495\n",
            "Epoch 19/40\n",
            "43/43 [==============================] - 10s 195ms/step - loss: 0.7376 - accuracy: 0.6832 - val_loss: 0.9824 - val_accuracy: 0.5644\n",
            "Epoch 20/40\n",
            "43/43 [==============================] - 10s 192ms/step - loss: 0.7276 - accuracy: 0.6876 - val_loss: 0.9917 - val_accuracy: 0.5842\n",
            "Epoch 21/40\n",
            "43/43 [==============================] - 10s 193ms/step - loss: 0.7266 - accuracy: 0.6818 - val_loss: 1.0242 - val_accuracy: 0.5248\n",
            "Epoch 22/40\n",
            "43/43 [==============================] - 10s 191ms/step - loss: 0.7315 - accuracy: 0.6818 - val_loss: 1.0938 - val_accuracy: 0.5792\n",
            "Epoch 23/40\n",
            "43/43 [==============================] - 9s 189ms/step - loss: 0.7402 - accuracy: 0.6861 - val_loss: 1.0080 - val_accuracy: 0.5792\n",
            "Epoch 24/40\n",
            "43/43 [==============================] - 10s 193ms/step - loss: 0.7123 - accuracy: 0.7000 - val_loss: 0.9873 - val_accuracy: 0.5594\n",
            "Epoch 25/40\n",
            "43/43 [==============================] - 10s 192ms/step - loss: 0.7338 - accuracy: 0.6730 - val_loss: 1.0009 - val_accuracy: 0.5891\n",
            "Epoch 26/40\n",
            "43/43 [==============================] - 9s 189ms/step - loss: 0.7035 - accuracy: 0.6949 - val_loss: 1.0510 - val_accuracy: 0.6139\n",
            "Epoch 27/40\n",
            "43/43 [==============================] - 10s 190ms/step - loss: 0.7281 - accuracy: 0.6905 - val_loss: 1.0363 - val_accuracy: 0.5198\n",
            "Epoch 28/40\n",
            "43/43 [==============================] - 10s 195ms/step - loss: 0.6972 - accuracy: 0.7102 - val_loss: 1.0150 - val_accuracy: 0.5248\n",
            "Epoch 29/40\n",
            "43/43 [==============================] - 9s 191ms/step - loss: 0.6966 - accuracy: 0.7139 - val_loss: 1.0049 - val_accuracy: 0.5693\n",
            "Epoch 30/40\n",
            "43/43 [==============================] - 9s 187ms/step - loss: 0.6843 - accuracy: 0.7109 - val_loss: 1.0021 - val_accuracy: 0.5693\n",
            "Epoch 31/40\n",
            "43/43 [==============================] - 10s 189ms/step - loss: 0.6957 - accuracy: 0.7131 - val_loss: 1.0208 - val_accuracy: 0.5149\n",
            "Epoch 32/40\n",
            "43/43 [==============================] - 10s 197ms/step - loss: 0.6665 - accuracy: 0.7255 - val_loss: 1.0808 - val_accuracy: 0.5149\n",
            "Epoch 33/40\n",
            "43/43 [==============================] - 10s 192ms/step - loss: 0.6710 - accuracy: 0.7190 - val_loss: 1.0207 - val_accuracy: 0.5743\n",
            "Epoch 34/40\n",
            "43/43 [==============================] - 9s 188ms/step - loss: 0.6737 - accuracy: 0.7139 - val_loss: 0.9965 - val_accuracy: 0.5396\n",
            "Epoch 35/40\n",
            "43/43 [==============================] - 10s 194ms/step - loss: 0.6603 - accuracy: 0.7285 - val_loss: 1.0118 - val_accuracy: 0.5792\n",
            "Epoch 36/40\n",
            "43/43 [==============================] - 10s 195ms/step - loss: 0.6606 - accuracy: 0.7161 - val_loss: 1.0957 - val_accuracy: 0.5297\n",
            "Epoch 37/40\n",
            "43/43 [==============================] - 9s 189ms/step - loss: 0.6797 - accuracy: 0.7058 - val_loss: 1.0117 - val_accuracy: 0.5248\n",
            "Epoch 38/40\n",
            "43/43 [==============================] - 9s 187ms/step - loss: 0.6704 - accuracy: 0.7139 - val_loss: 1.0187 - val_accuracy: 0.5495\n",
            "Epoch 39/40\n",
            "43/43 [==============================] - 10s 194ms/step - loss: 0.6622 - accuracy: 0.7212 - val_loss: 1.1278 - val_accuracy: 0.5990\n",
            "Epoch 40/40\n",
            "43/43 [==============================] - 10s 192ms/step - loss: 0.6799 - accuracy: 0.7146 - val_loss: 1.0112 - val_accuracy: 0.5693\n"
          ]
        }
      ]
    },
    {
      "cell_type": "code",
      "source": [
        "# Evaluate the model on the test data\n",
        "results_feature_extraction = model_0.evaluate(test_data)\n",
        "results_feature_extraction"
      ],
      "metadata": {
        "colab": {
          "base_uri": "https://localhost:8080/"
        },
        "id": "3RyQKC5aMK8c",
        "outputId": "232b6431-ea17-4a9d-952f-0f5e6e726670"
      },
      "execution_count": 17,
      "outputs": [
        {
          "output_type": "stream",
          "name": "stdout",
          "text": [
            "7/7 [==============================] - 2s 84ms/step - loss: 1.0112 - accuracy: 0.5693\n"
          ]
        },
        {
          "output_type": "execute_result",
          "data": {
            "text/plain": [
              "[1.0112155675888062, 0.5693069100379944]"
            ]
          },
          "metadata": {},
          "execution_count": 17
        }
      ]
    },
    {
      "cell_type": "code",
      "source": [
        "\n",
        "plot_loss_curves(history_0)"
      ],
      "metadata": {
        "colab": {
          "base_uri": "https://localhost:8080/",
          "height": 927
        },
        "id": "mO3v1RY0MM8b",
        "outputId": "fb6ffe3d-de8d-40b6-e6b3-be87057f45b5"
      },
      "execution_count": 18,
      "outputs": [
        {
          "output_type": "display_data",
          "data": {
            "text/plain": [
              "<Figure size 640x480 with 1 Axes>"
            ],
            "image/png": "[encoded data removed]"
          },
          "metadata": {}
        },
        {
          "output_type": "display_data",
          "data": {
            "text/plain": [
              "<Figure size 640x480 with 1 Axes>"
            ],
            "image/png": "[encoded data removed]"
          },
          "metadata": {}
        }
      ]
    },
    {
      "cell_type": "code",
      "source": [
        "from sklearn.metrics import classification_report\n",
        "\n",
        "# Assuming you have true labels for your test data stored in y_true\n",
        "# and predictions from your model stored in y_pred\n",
        "\n",
        "# Convert categorical predictions to class labels\n",
        "y_pred_labels = np.argmax(model_0.predict(test_data), axis=1)\n",
        "\n",
        "# Get true labels from the test dataset\n",
        "y_true_labels = np.concatenate([y for x, y in test_data], axis=0)\n",
        "y_true_labels = np.argmax(y_true_labels, axis=1)\n",
        "\n",
        "# Generate classification report\n",
        "report = classification_report(y_true_labels, y_pred_labels)\n",
        "\n",
        "print(report)"
      ],
      "metadata": {
        "colab": {
          "base_uri": "https://localhost:8080/"
        },
        "id": "ZSTS-0jDMN5u",
        "outputId": "bafcb1d1-3819-4d81-f648-66c461c24e63"
      },
      "execution_count": 19,
      "outputs": [
        {
          "output_type": "stream",
          "name": "stdout",
          "text": [
            "7/7 [==============================] - 4s 96ms/step\n",
            "              precision    recall  f1-score   support\n",
            "\n",
            "           0       0.35      0.12      0.18        50\n",
            "           1       0.28      0.21      0.24        52\n",
            "           2       0.50      0.73      0.60       100\n",
            "\n",
            "    accuracy                           0.45       202\n",
            "   macro avg       0.38      0.35      0.34       202\n",
            "weighted avg       0.41      0.45      0.40       202\n",
            "\n"
          ]
        }
      ]
    },
    {
      "cell_type": "code",
      "source": [
        "\n",
        "# Eğitim doğruluğunu geçmiş verilerinden al\n",
        "train_accuracy = history_0.history['accuracy']\n",
        "\n",
        "# Son epoch'un eğitim doğruluğunu yazdır\n",
        "print(\"Eğitim doğruluğu:\", train_accuracy[-1])\n",
        ""
      ],
      "metadata": {
        "colab": {
          "base_uri": "https://localhost:8080/"
        },
        "id": "1Bq9h55OMPjJ",
        "outputId": "51ca7848-3f3e-44fc-951f-29fd506d2f9a"
      },
      "execution_count": 20,
      "outputs": [
        {
          "output_type": "stream",
          "name": "stdout",
          "text": [
            "Eğitim doğruluğu: 0.714598536491394\n"
          ]
        }
      ]
    },
    {
      "cell_type": "code",
      "source": [],
      "metadata": {
        "id": "rFI8nEd2MQsf"
      },
      "execution_count": 20,
      "outputs": []
    }
  ]
}