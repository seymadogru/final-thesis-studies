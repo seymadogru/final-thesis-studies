{
  "nbformat": 4,
  "nbformat_minor": 0,
  "metadata": {
    "colab": {
      "provenance": [],
      "machine_shape": "hm",
      "gpuType": "T4"
    },
    "kernelspec": {
      "name": "python3",
      "display_name": "Python 3"
    },
    "language_info": {
      "name": "python"
    },
    "accelerator": "GPU"
  },
  "cells": [
    {
      "cell_type": "code",
      "execution_count": 1,
      "metadata": {
        "colab": {
          "base_uri": "https://localhost:8080/"
        },
        "id": "yKi2a1q6Ydq9",
        "outputId": "d16a4004-4a71-4c91-e905-80737105dce3"
      },
      "outputs": [
        {
          "output_type": "stream",
          "name": "stdout",
          "text": [
            "--2024-07-23 17:12:47--  https://raw.githubusercontent.com/mrdbourke/tensorflow-deep-learning/main/extras/helper_functions.py\n",
            "Resolving raw.githubusercontent.com (raw.githubusercontent.com)... 185.199.108.133, 185.199.109.133, 185.199.110.133, ...\n",
            "Connecting to raw.githubusercontent.com (raw.githubusercontent.com)|185.199.108.133|:443... connected.\n",
            "HTTP request sent, awaiting response... 200 OK\n",
            "Length: 10246 (10K) [text/plain]\n",
            "Saving to: ‘helper_functions.py’\n",
            "\n",
            "\rhelper_functions.py   0%[                    ]       0  --.-KB/s               \rhelper_functions.py 100%[===================>]  10.01K  --.-KB/s    in 0s      \n",
            "\n",
            "2024-07-23 17:12:47 (98.9 MB/s) - ‘helper_functions.py’ saved [10246/10246]\n",
            "\n"
          ]
        }
      ],
      "source": [
        "#Transfer Learning with Tensorflow\n",
        "\n",
        "!wget https://raw.githubusercontent.com/mrdbourke/tensorflow-deep-learning/main/extras/helper_functions.py\n",
        ""
      ]
    },
    {
      "cell_type": "code",
      "source": [
        "#import helper functions we're going to use in this notebook\n",
        "\n",
        "from helper_functions import create_tensorboard_callback, plot_loss_curves, unzip_data, walk_through_dir\n"
      ],
      "metadata": {
        "id": "j7AEXwQplM7n"
      },
      "execution_count": 2,
      "outputs": []
    },
    {
      "cell_type": "code",
      "source": [
        "import os\n",
        "\n",
        "for dirpath, dirnames, filenames in os.walk(\"/content/drive/MyDrive/Tez Dosyaları/birinci veriseti 3 classlı\"):\n",
        "  print(f\"There are {len(dirnames)} directories and {len(filenames)} images in '{dirpath}'.\")\n"
      ],
      "metadata": {
        "colab": {
          "base_uri": "https://localhost:8080/"
        },
        "id": "T_btgoqRlOfL",
        "outputId": "0052a581-2b2d-41ab-aa41-e34ff03e1fdb"
      },
      "execution_count": 3,
      "outputs": [
        {
          "output_type": "stream",
          "name": "stdout",
          "text": [
            "There are 2 directories and 0 images in '/content/drive/MyDrive/Tez Dosyaları/birinci veriseti 3 classlı'.\n",
            "There are 3 directories and 0 images in '/content/drive/MyDrive/Tez Dosyaları/birinci veriseti 3 classlı/Train'.\n",
            "There are 0 directories and 680 images in '/content/drive/MyDrive/Tez Dosyaları/birinci veriseti 3 classlı/Train/Normal'.\n",
            "There are 0 directories and 596 images in '/content/drive/MyDrive/Tez Dosyaları/birinci veriseti 3 classlı/Train/Malignant'.\n",
            "There are 0 directories and 527 images in '/content/drive/MyDrive/Tez Dosyaları/birinci veriseti 3 classlı/Train/Benign'.\n",
            "There are 3 directories and 0 images in '/content/drive/MyDrive/Tez Dosyaları/birinci veriseti 3 classlı/Test'.\n",
            "There are 0 directories and 60 images in '/content/drive/MyDrive/Tez Dosyaları/birinci veriseti 3 classlı/Test/Benign'.\n",
            "There are 0 directories and 66 images in '/content/drive/MyDrive/Tez Dosyaları/birinci veriseti 3 classlı/Test/Malignant'.\n",
            "There are 0 directories and 77 images in '/content/drive/MyDrive/Tez Dosyaları/birinci veriseti 3 classlı/Test/Normal'.\n"
          ]
        }
      ]
    },
    {
      "cell_type": "code",
      "source": [
        "train_dir = \"/content/drive/MyDrive/Tez Dosyaları/birinci veriseti 3 classlı/Train\"\n",
        "test_dir = \"/content/drive/MyDrive/Tez Dosyaları/birinci veriseti 3 classlı/Test\""
      ],
      "metadata": {
        "id": "vGypJVM3lUUe"
      },
      "execution_count": 4,
      "outputs": []
    },
    {
      "cell_type": "code",
      "source": [
        "import tensorflow as tf\n",
        "BATCH_SIZE = 32\n",
        "IMG_SIZE = (224, 224)\n",
        "train_data= tf.keras.preprocessing.image_dataset_from_directory(train_dir,\n",
        "                                                          label_mode= \"categorical\",\n",
        "                                                          batch_size=BATCH_SIZE,\n",
        "                                                          image_size=IMG_SIZE)\n",
        "\n",
        "test_data = tf.keras.preprocessing.image_dataset_from_directory(test_dir,\n",
        "                                                          label_mode=\"categorical\",\n",
        "                                                          batch_size=BATCH_SIZE,\n",
        "                                                          image_size=IMG_SIZE)"
      ],
      "metadata": {
        "colab": {
          "base_uri": "https://localhost:8080/"
        },
        "id": "IDwd54rclbm-",
        "outputId": "3722c713-545d-4309-dd5e-b82205068748"
      },
      "execution_count": 5,
      "outputs": [
        {
          "output_type": "stream",
          "name": "stdout",
          "text": [
            "Found 1803 files belonging to 3 classes.\n",
            "Found 203 files belonging to 3 classes.\n"
          ]
        }
      ]
    },
    {
      "cell_type": "code",
      "source": [
        "train_data.class_names"
      ],
      "metadata": {
        "colab": {
          "base_uri": "https://localhost:8080/"
        },
        "id": "pZ76Tffol9WA",
        "outputId": "bbaa6963-8a2c-4a35-f739-196915ddba99"
      },
      "execution_count": 6,
      "outputs": [
        {
          "output_type": "execute_result",
          "data": {
            "text/plain": [
              "['Benign', 'Malignant', 'Normal']"
            ]
          },
          "metadata": {},
          "execution_count": 6
        }
      ]
    },
    {
      "cell_type": "code",
      "source": [
        "from tensorflow.keras.preprocessing.image import ImageDataGenerator\n",
        "from tensorflow.keras.preprocessing.image import img_to_array\n",
        "from tensorflow.keras.preprocessing.image import load_img\n",
        "import numpy as np\n",
        "import random\n",
        "import math\n",
        "import csv\n",
        "import cv2\n",
        "import os"
      ],
      "metadata": {
        "id": "E5doEQczm2C7"
      },
      "execution_count": 7,
      "outputs": []
    },
    {
      "cell_type": "code",
      "source": [
        "image_width = 224\n",
        "image_height = 224\n",
        "classes = ['Benign', 'Malignant', 'Normal']\n",
        "datagen = ImageDataGenerator(\n",
        "    rescale=1.0/255,\n",
        "    rotation_range=40,\n",
        "    width_shift_range=0.2,\n",
        "    height_shift_range=0.2,\n",
        "    shear_range=0.2,\n",
        "    zoom_range=0.2,\n",
        "    horizontal_flip=True,\n",
        "    fill_mode='nearest'\n",
        ")\n",
        "\n",
        "# Resimleri yüklemek için flow_from_directory kullanın\n",
        "train_generator = datagen.flow_from_directory(\n",
        "    directory=\"/content/drive/MyDrive/Tez Dosyaları/birinci veriseti 3 classlı/Train\",\n",
        "    target_size=(image_width, image_height),\n",
        "    batch_size=32,\n",
        "    class_mode='categorical',\n",
        "    subset='training'\n",
        ")\n",
        "\n",
        "# Her sınıf için resimleri ayrı ayrı arttırın\n",
        "for cls in classes:\n",
        "    # Sınıfın resimlerini yüklemek için flow_from_directory kullanın\n",
        "    cls_generator = datagen.flow_from_directory(\n",
        "        directory=\"/content/drive/MyDrive/Tez Dosyaları/birinci veriseti 3 classlı/Train\",\n",
        "        target_size=(image_width, image_height),\n",
        "        batch_size=32,\n",
        "        class_mode='categorical',\n",
        "        subset='training',\n",
        "        classes=[cls]\n",
        "    )\n",
        "\n",
        "    # Resimleri arttırın ve kaydedin\n",
        "    i = 0\n",
        "    for batch in cls_generator:\n",
        "        images, labels = batch\n",
        "        for image in images:\n",
        "            # Resmi kaydetmek için imwrite kullanın\n",
        "            cv2.imwrite(os.path.join(\"/content/drive/MyDrive/Tez Dosyaları/birinci veriseti 3 classlı/Train\", cls, f\"augmented_{i}.jpg\"), image * 255)\n",
        "            i += 1\n",
        "            if i >= 3000:  # Maksimum resim sayısına ulaşıldığında döngüyü durdur\n",
        "                break\n",
        "        else:\n",
        "            continue\n",
        "        break"
      ],
      "metadata": {
        "colab": {
          "base_uri": "https://localhost:8080/"
        },
        "id": "j-Fm0PR7m4vT",
        "outputId": "6ecc1acc-7dae-4214-988f-59dd1c60016d"
      },
      "execution_count": 8,
      "outputs": [
        {
          "output_type": "stream",
          "name": "stdout",
          "text": [
            "Found 1803 images belonging to 3 classes.\n",
            "Found 527 images belonging to 1 classes.\n",
            "Found 596 images belonging to 1 classes.\n",
            "Found 680 images belonging to 1 classes.\n"
          ]
        }
      ]
    },
    {
      "cell_type": "code",
      "source": [
        "# Load the augmented images for the malignant class\n",
        "augmented_images = os.listdir(\"/content/drive/MyDrive/Tez Dosyaları/birinci veriseti 3 classlı/Train/Malignant\")\n",
        "\n",
        "# Count the number of augmented images\n",
        "num_malignant_images = len(augmented_images)\n",
        "\n",
        "# Print the number of malignant images\n",
        "print(\"Number of malignant images:\", num_malignant_images)"
      ],
      "metadata": {
        "colab": {
          "base_uri": "https://localhost:8080/"
        },
        "id": "RWUGEwkAnLHH",
        "outputId": "9359428d-493f-47c3-d3f3-acfe7b9d70b6"
      },
      "execution_count": 9,
      "outputs": [
        {
          "output_type": "stream",
          "name": "stdout",
          "text": [
            "Number of malignant images: 3596\n"
          ]
        }
      ]
    },
    {
      "cell_type": "code",
      "source": [
        "augmented_images3 = os.listdir(\"/content/drive/MyDrive/Tez Dosyaları/birinci veriseti 3 classlı/Train/Benign\")\n",
        "\n",
        "# Count the number of augmented images\n",
        "num_benign_images = len(augmented_images3)\n",
        "\n",
        "# Print the number of malignant images\n",
        "print(\"Number of benign images:\", num_benign_images)"
      ],
      "metadata": {
        "colab": {
          "base_uri": "https://localhost:8080/"
        },
        "id": "emzTVsQmpoiy",
        "outputId": "9754a601-92e6-4b9d-87b5-c543651d99ab"
      },
      "execution_count": 10,
      "outputs": [
        {
          "output_type": "stream",
          "name": "stdout",
          "text": [
            "Number of benign images: 3527\n"
          ]
        }
      ]
    },
    {
      "cell_type": "code",
      "source": [
        "augmented_images2 = os.listdir(\"/content/drive/MyDrive/Tez Dosyaları/birinci veriseti 3 classlı/Train/Normal\")\n",
        "\n",
        "# Count the number of augmented images\n",
        "num_normal_images = len(augmented_images2)\n",
        "\n",
        "# Print the number of malignant images\n",
        "print(\"Number of normal images:\", num_normal_images)"
      ],
      "metadata": {
        "colab": {
          "base_uri": "https://localhost:8080/"
        },
        "id": "iaydGNdyptHs",
        "outputId": "155933e3-f418-422a-d5ca-be7fdd5752f1"
      },
      "execution_count": 11,
      "outputs": [
        {
          "output_type": "stream",
          "name": "stdout",
          "text": [
            "Number of normal images: 3680\n"
          ]
        }
      ]
    },
    {
      "cell_type": "code",
      "source": [
        "for dirpath, dirnames, filenames in os.walk(\"/content/drive/MyDrive/Tez Dosyaları/birinci veriseti 3 classlı\"):\n",
        "  print(f\"There are {len(dirnames)} directories and {len(filenames)} images in '{dirpath}'.\")"
      ],
      "metadata": {
        "colab": {
          "base_uri": "https://localhost:8080/"
        },
        "id": "ZDUcaih5p76z",
        "outputId": "4c2fb54f-feb4-4f08-d1ec-7d38ce81e5e9"
      },
      "execution_count": 12,
      "outputs": [
        {
          "output_type": "stream",
          "name": "stdout",
          "text": [
            "There are 2 directories and 0 images in '/content/drive/MyDrive/Tez Dosyaları/birinci veriseti 3 classlı'.\n",
            "There are 3 directories and 0 images in '/content/drive/MyDrive/Tez Dosyaları/birinci veriseti 3 classlı/Train'.\n",
            "There are 0 directories and 3680 images in '/content/drive/MyDrive/Tez Dosyaları/birinci veriseti 3 classlı/Train/Normal'.\n",
            "There are 0 directories and 3596 images in '/content/drive/MyDrive/Tez Dosyaları/birinci veriseti 3 classlı/Train/Malignant'.\n",
            "There are 0 directories and 3527 images in '/content/drive/MyDrive/Tez Dosyaları/birinci veriseti 3 classlı/Train/Benign'.\n",
            "There are 3 directories and 0 images in '/content/drive/MyDrive/Tez Dosyaları/birinci veriseti 3 classlı/Test'.\n",
            "There are 0 directories and 60 images in '/content/drive/MyDrive/Tez Dosyaları/birinci veriseti 3 classlı/Test/Benign'.\n",
            "There are 0 directories and 66 images in '/content/drive/MyDrive/Tez Dosyaları/birinci veriseti 3 classlı/Test/Malignant'.\n",
            "There are 0 directories and 77 images in '/content/drive/MyDrive/Tez Dosyaları/birinci veriseti 3 classlı/Test/Normal'.\n"
          ]
        }
      ]
    },
    {
      "cell_type": "code",
      "source": [
        "import tensorflow as tf\n",
        "\n",
        "# 1. create base model with tf.keras.applications\n",
        "base_model = tf.keras.applications.EfficientNetB0(include_top=False)\n",
        "\n",
        "# 2. Freeze the base model\n",
        "base_model.trainable = False\n",
        "\n",
        "# 3. create inputs into our model\n",
        "inputs = tf.keras.layers.Input(shape=(224, 224, 3), name=\"input_layer\")\n",
        "\n",
        "# 4. if using ResNet50V2 you will need to normalize inputs\n",
        "# x = tf.keras.layers.experimental.preprocessing.Rescaling(1./255)(inputs)\n",
        "\n",
        "# 5. pass the inputs to the base_model\n",
        "x = base_model(inputs)\n",
        "print(f\"Shape after passing inputs through base model: {x.shape}\")\n",
        "\n",
        "# 6. average pool the outputs of the base model (aggregate all the most important information, reduce number of computations)\n",
        "x = tf.keras.layers.GlobalAveragePooling2D(name=\"global_average_pooling_layer\")(x)\n",
        "print(f\"Shape after GlobalAveragePooling2D: {x.shape}\")\n",
        "\n",
        "# 7. create the output activation layer for 3 classes\n",
        "outputs = tf.keras.layers.Dense(3, activation=\"softmax\", name=\"output_layer\")(x)\n",
        "model_0 = tf.keras.Model(inputs, outputs)\n",
        "\n",
        "# 8. compile the model for 3 classes\n",
        "model_0.compile(loss=\"categorical_crossentropy\",\n",
        "                optimizer=tf.keras.optimizers.Adam(),\n",
        "                metrics=[\"accuracy\"])\n",
        "\n",
        "# Assuming you have already prepared your train_data and test_data\n",
        "# Make sure that train_data and test_data are prepared with class_mode='categorical'\n",
        "\n",
        "# 9. fit the model\n",
        "history_0 = model_0.fit(train_data,\n",
        "                        epochs=40,\n",
        "                        steps_per_epoch=len(train_data),\n",
        "                        validation_data=test_data,\n",
        "                        validation_steps=int(len(test_data)),\n",
        "                        callbacks=[create_tensorboard_callback(dir_name=\"transfer_learning\",\n",
        "                                                               experiment_name=\"3_class_feature_extraction\")])\n"
      ],
      "metadata": {
        "colab": {
          "base_uri": "https://localhost:8080/"
        },
        "id": "vx0mRmu5qCV2",
        "outputId": "a42b57e8-aee8-4dbb-9de4-40ac7c6fb332"
      },
      "execution_count": 13,
      "outputs": [
        {
          "output_type": "stream",
          "name": "stdout",
          "text": [
            "Downloading data from https://storage.googleapis.com/keras-applications/efficientnetb0_notop.h5\n",
            "16705208/16705208 [==============================] - 0s 0us/step\n",
            "Shape after passing inputs through base model: (None, 7, 7, 1280)\n",
            "Shape after GlobalAveragePooling2D: (None, 1280)\n",
            "Saving TensorBoard log files to: transfer_learning/3_class_feature_extraction/20240723-173504\n",
            "Epoch 1/40\n",
            "57/57 [==============================] - 70s 372ms/step - loss: 1.0868 - accuracy: 0.4398 - val_loss: 1.0445 - val_accuracy: 0.4729\n",
            "Epoch 2/40\n",
            "57/57 [==============================] - 12s 187ms/step - loss: 0.9857 - accuracy: 0.5047 - val_loss: 1.0304 - val_accuracy: 0.4631\n",
            "Epoch 3/40\n",
            "57/57 [==============================] - 12s 193ms/step - loss: 0.9434 - accuracy: 0.5419 - val_loss: 1.0077 - val_accuracy: 0.4680\n",
            "Epoch 4/40\n",
            "57/57 [==============================] - 12s 189ms/step - loss: 0.9124 - accuracy: 0.5624 - val_loss: 1.0020 - val_accuracy: 0.5271\n",
            "Epoch 5/40\n",
            "57/57 [==============================] - 12s 185ms/step - loss: 0.8862 - accuracy: 0.5824 - val_loss: 0.9990 - val_accuracy: 0.4828\n",
            "Epoch 6/40\n",
            "57/57 [==============================] - 12s 183ms/step - loss: 0.8696 - accuracy: 0.5951 - val_loss: 0.9918 - val_accuracy: 0.5074\n",
            "Epoch 7/40\n",
            "57/57 [==============================] - 12s 180ms/step - loss: 0.8587 - accuracy: 0.6018 - val_loss: 0.9915 - val_accuracy: 0.4926\n",
            "Epoch 8/40\n",
            "57/57 [==============================] - 12s 179ms/step - loss: 0.8543 - accuracy: 0.6068 - val_loss: 0.9953 - val_accuracy: 0.4975\n",
            "Epoch 9/40\n",
            "57/57 [==============================] - 12s 179ms/step - loss: 0.8314 - accuracy: 0.6284 - val_loss: 0.9803 - val_accuracy: 0.5074\n",
            "Epoch 10/40\n",
            "57/57 [==============================] - 12s 184ms/step - loss: 0.8357 - accuracy: 0.6201 - val_loss: 0.9826 - val_accuracy: 0.5025\n",
            "Epoch 11/40\n",
            "57/57 [==============================] - 12s 187ms/step - loss: 0.8214 - accuracy: 0.6234 - val_loss: 0.9826 - val_accuracy: 0.5123\n",
            "Epoch 12/40\n",
            "57/57 [==============================] - 12s 185ms/step - loss: 0.8057 - accuracy: 0.6423 - val_loss: 0.9789 - val_accuracy: 0.5271\n",
            "Epoch 13/40\n",
            "57/57 [==============================] - 12s 186ms/step - loss: 0.8027 - accuracy: 0.6367 - val_loss: 0.9762 - val_accuracy: 0.5320\n",
            "Epoch 14/40\n",
            "57/57 [==============================] - 12s 182ms/step - loss: 0.7938 - accuracy: 0.6423 - val_loss: 0.9763 - val_accuracy: 0.5320\n",
            "Epoch 15/40\n",
            "57/57 [==============================] - 12s 181ms/step - loss: 0.7901 - accuracy: 0.6489 - val_loss: 0.9855 - val_accuracy: 0.4975\n",
            "Epoch 16/40\n",
            "57/57 [==============================] - 12s 183ms/step - loss: 0.7951 - accuracy: 0.6328 - val_loss: 0.9760 - val_accuracy: 0.4975\n",
            "Epoch 17/40\n",
            "57/57 [==============================] - 12s 180ms/step - loss: 0.7784 - accuracy: 0.6550 - val_loss: 0.9732 - val_accuracy: 0.5567\n",
            "Epoch 18/40\n",
            "57/57 [==============================] - 12s 182ms/step - loss: 0.7729 - accuracy: 0.6578 - val_loss: 0.9860 - val_accuracy: 0.5074\n",
            "Epoch 19/40\n",
            "57/57 [==============================] - 12s 185ms/step - loss: 0.7731 - accuracy: 0.6700 - val_loss: 0.9935 - val_accuracy: 0.4926\n",
            "Epoch 20/40\n",
            "57/57 [==============================] - 12s 180ms/step - loss: 0.7551 - accuracy: 0.6711 - val_loss: 0.9894 - val_accuracy: 0.4975\n",
            "Epoch 21/40\n",
            "57/57 [==============================] - 12s 191ms/step - loss: 0.7507 - accuracy: 0.6739 - val_loss: 0.9873 - val_accuracy: 0.5025\n",
            "Epoch 22/40\n",
            "57/57 [==============================] - 12s 181ms/step - loss: 0.7490 - accuracy: 0.6828 - val_loss: 0.9855 - val_accuracy: 0.5320\n",
            "Epoch 23/40\n",
            "57/57 [==============================] - 12s 183ms/step - loss: 0.7496 - accuracy: 0.6739 - val_loss: 0.9949 - val_accuracy: 0.5025\n",
            "Epoch 24/40\n",
            "57/57 [==============================] - 12s 182ms/step - loss: 0.7453 - accuracy: 0.6650 - val_loss: 0.9887 - val_accuracy: 0.5222\n",
            "Epoch 25/40\n",
            "57/57 [==============================] - 12s 187ms/step - loss: 0.7442 - accuracy: 0.6778 - val_loss: 1.0131 - val_accuracy: 0.4828\n",
            "Epoch 26/40\n",
            "57/57 [==============================] - 12s 184ms/step - loss: 0.7259 - accuracy: 0.6983 - val_loss: 0.9937 - val_accuracy: 0.5320\n",
            "Epoch 27/40\n",
            "57/57 [==============================] - 13s 209ms/step - loss: 0.7282 - accuracy: 0.6950 - val_loss: 0.9969 - val_accuracy: 0.5172\n",
            "Epoch 28/40\n",
            "57/57 [==============================] - 12s 178ms/step - loss: 0.7227 - accuracy: 0.6922 - val_loss: 0.9971 - val_accuracy: 0.5172\n",
            "Epoch 29/40\n",
            "57/57 [==============================] - 12s 179ms/step - loss: 0.7174 - accuracy: 0.6961 - val_loss: 1.0039 - val_accuracy: 0.5025\n",
            "Epoch 30/40\n",
            "57/57 [==============================] - 12s 180ms/step - loss: 0.7172 - accuracy: 0.7055 - val_loss: 1.0185 - val_accuracy: 0.4877\n",
            "Epoch 31/40\n",
            "57/57 [==============================] - 12s 183ms/step - loss: 0.7198 - accuracy: 0.6883 - val_loss: 1.0045 - val_accuracy: 0.5271\n",
            "Epoch 32/40\n",
            "57/57 [==============================] - 12s 184ms/step - loss: 0.6998 - accuracy: 0.6999 - val_loss: 1.0213 - val_accuracy: 0.4828\n",
            "Epoch 33/40\n",
            "57/57 [==============================] - 12s 182ms/step - loss: 0.7028 - accuracy: 0.7066 - val_loss: 1.0192 - val_accuracy: 0.4926\n",
            "Epoch 34/40\n",
            "57/57 [==============================] - 12s 181ms/step - loss: 0.7028 - accuracy: 0.7077 - val_loss: 1.0160 - val_accuracy: 0.5025\n",
            "Epoch 35/40\n",
            "57/57 [==============================] - 12s 183ms/step - loss: 0.7011 - accuracy: 0.7060 - val_loss: 1.0018 - val_accuracy: 0.5074\n",
            "Epoch 36/40\n",
            "57/57 [==============================] - 12s 180ms/step - loss: 0.6971 - accuracy: 0.7083 - val_loss: 1.0067 - val_accuracy: 0.5172\n",
            "Epoch 37/40\n",
            "57/57 [==============================] - 12s 180ms/step - loss: 0.7102 - accuracy: 0.6844 - val_loss: 1.0138 - val_accuracy: 0.5123\n",
            "Epoch 38/40\n",
            "57/57 [==============================] - 12s 185ms/step - loss: 0.6940 - accuracy: 0.7116 - val_loss: 1.0152 - val_accuracy: 0.5025\n",
            "Epoch 39/40\n",
            "57/57 [==============================] - 12s 176ms/step - loss: 0.6974 - accuracy: 0.7022 - val_loss: 1.0099 - val_accuracy: 0.5025\n",
            "Epoch 40/40\n",
            "57/57 [==============================] - 12s 179ms/step - loss: 0.6808 - accuracy: 0.7188 - val_loss: 1.0268 - val_accuracy: 0.4926\n"
          ]
        }
      ]
    },
    {
      "cell_type": "code",
      "source": [
        "# Evaluate the model on the test data\n",
        "results_feature_extraction = model_0.evaluate(test_data)\n",
        "results_feature_extraction"
      ],
      "metadata": {
        "colab": {
          "base_uri": "https://localhost:8080/"
        },
        "id": "FNzQbZuKqScs",
        "outputId": "a6981627-c608-4cc4-e139-f334ad5c1f47"
      },
      "execution_count": 14,
      "outputs": [
        {
          "output_type": "stream",
          "name": "stdout",
          "text": [
            "7/7 [==============================] - 1s 56ms/step - loss: 1.0268 - accuracy: 0.4926\n"
          ]
        },
        {
          "output_type": "execute_result",
          "data": {
            "text/plain": [
              "[1.0267704725265503, 0.4926108419895172]"
            ]
          },
          "metadata": {},
          "execution_count": 14
        }
      ]
    },
    {
      "cell_type": "code",
      "source": [
        "plot_loss_curves(history_0)\n"
      ],
      "metadata": {
        "colab": {
          "base_uri": "https://localhost:8080/",
          "height": 927
        },
        "id": "Bu0TgYt7rp9m",
        "outputId": "895d774e-37ba-41b7-f4a3-376dbeceb072"
      },
      "execution_count": 15,
      "outputs": [
        {
          "output_type": "display_data",
          "data": {
            "text/plain": [
              "<Figure size 640x480 with 1 Axes>"
            ],
            "image/png": "[encoded data removed]"
          },
          "metadata": {}
        },
        {
          "output_type": "display_data",
          "data": {
            "text/plain": [
              "<Figure size 640x480 with 1 Axes>"
            ],
            "image/png": "[encoded data removed]"
          },
          "metadata": {}
        }
      ]
    },
    {
      "cell_type": "code",
      "source": [
        "from sklearn.metrics import classification_report\n",
        "\n",
        "# Assuming you have true labels for your test data stored in y_true\n",
        "# and predictions from your model stored in y_pred\n",
        "\n",
        "# Convert categorical predictions to class labels\n",
        "y_pred_labels = np.argmax(model_0.predict(test_data), axis=1)\n",
        "\n",
        "# Get true labels from the test dataset\n",
        "y_true_labels = np.concatenate([y for x, y in test_data], axis=0)\n",
        "y_true_labels = np.argmax(y_true_labels, axis=1)\n",
        "\n",
        "# Generate classification report\n",
        "report = classification_report(y_true_labels, y_pred_labels)\n",
        "\n",
        "print(report)"
      ],
      "metadata": {
        "colab": {
          "base_uri": "https://localhost:8080/"
        },
        "id": "f8CqlTN4rscA",
        "outputId": "7786a53b-e1c6-44e5-b484-e473dd40275b"
      },
      "execution_count": 16,
      "outputs": [
        {
          "output_type": "stream",
          "name": "stdout",
          "text": [
            "7/7 [==============================] - 3s 66ms/step\n",
            "              precision    recall  f1-score   support\n",
            "\n",
            "           0       0.31      0.37      0.33        60\n",
            "           1       0.36      0.35      0.35        66\n",
            "           2       0.33      0.29      0.31        77\n",
            "\n",
            "    accuracy                           0.33       203\n",
            "   macro avg       0.33      0.33      0.33       203\n",
            "weighted avg       0.33      0.33      0.33       203\n",
            "\n"
          ]
        }
      ]
    },
    {
      "cell_type": "code",
      "source": [],
      "metadata": {
        "id": "pHhqiBtiruTa"
      },
      "execution_count": null,
      "outputs": []
    }
  ]
}