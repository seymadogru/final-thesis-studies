{
  "nbformat": 4,
  "nbformat_minor": 0,
  "metadata": {
    "colab": {
      "provenance": [],
      "machine_shape": "hm",
      "gpuType": "T4"
    },
    "kernelspec": {
      "name": "python3",
      "display_name": "Python 3"
    },
    "language_info": {
      "name": "python"
    },
    "accelerator": "GPU"
  },
  "cells": [
    {
      "cell_type": "code",
      "execution_count": 1,
      "metadata": {
        "colab": {
          "base_uri": "https://localhost:8080/"
        },
        "id": "TKfDB0C4LjO-",
        "outputId": "b0842b41-820b-4b81-8685-59b77aeadce1"
      },
      "outputs": [
        {
          "output_type": "stream",
          "name": "stdout",
          "text": [
            "--2024-07-25 14:00:17--  https://raw.githubusercontent.com/mrdbourke/tensorflow-deep-learning/main/extras/helper_functions.py\n",
            "Resolving raw.githubusercontent.com (raw.githubusercontent.com)... 185.199.108.133, 185.199.109.133, 185.199.110.133, ...\n",
            "Connecting to raw.githubusercontent.com (raw.githubusercontent.com)|185.199.108.133|:443... connected.\n",
            "HTTP request sent, awaiting response... 200 OK\n",
            "Length: 10246 (10K) [text/plain]\n",
            "Saving to: ‘helper_functions.py’\n",
            "\n",
            "helper_functions.py 100%[===================>]  10.01K  --.-KB/s    in 0s      \n",
            "\n",
            "2024-07-25 14:00:17 (126 MB/s) - ‘helper_functions.py’ saved [10246/10246]\n",
            "\n"
          ]
        }
      ],
      "source": [
        "!wget https://raw.githubusercontent.com/mrdbourke/tensorflow-deep-learning/main/extras/helper_functions.py"
      ]
    },
    {
      "cell_type": "code",
      "source": [
        "#import helper functions we're going to use in this notebook\n",
        "\n",
        "from helper_functions import create_tensorboard_callback, plot_loss_curves, unzip_data, walk_through_dir\n"
      ],
      "metadata": {
        "id": "dSoktlWSMUTj"
      },
      "execution_count": 2,
      "outputs": []
    },
    {
      "cell_type": "code",
      "source": [
        "import os\n",
        "\n",
        "for dirpath, dirnames, filenames in os.walk(\"/content/drive/MyDrive/Tez Dosyaları/ikinci veriseti 2 class\"):\n",
        "  print(f\"There are {len(dirnames)} directories and {len(filenames)} images in '{dirpath}'.\")\n"
      ],
      "metadata": {
        "colab": {
          "base_uri": "https://localhost:8080/"
        },
        "id": "ZUP_XHxgMWzu",
        "outputId": "abe2d522-ad8b-4c0f-ea97-d23e3314d0ef"
      },
      "execution_count": 3,
      "outputs": [
        {
          "output_type": "stream",
          "name": "stdout",
          "text": [
            "There are 2 directories and 0 images in '/content/drive/MyDrive/Tez Dosyaları/ikinci veriseti 2 class'.\n",
            "There are 2 directories and 0 images in '/content/drive/MyDrive/Tez Dosyaları/ikinci veriseti 2 class/Train'.\n",
            "There are 0 directories and 223 images in '/content/drive/MyDrive/Tez Dosyaları/ikinci veriseti 2 class/Train/Malignant'.\n",
            "There are 0 directories and 70 images in '/content/drive/MyDrive/Tez Dosyaları/ikinci veriseti 2 class/Train/Benign'.\n",
            "There are 2 directories and 0 images in '/content/drive/MyDrive/Tez Dosyaları/ikinci veriseti 2 class/Test'.\n",
            "There are 0 directories and 55 images in '/content/drive/MyDrive/Tez Dosyaları/ikinci veriseti 2 class/Test/Malignant'.\n",
            "There are 0 directories and 18 images in '/content/drive/MyDrive/Tez Dosyaları/ikinci veriseti 2 class/Test/Benign'.\n"
          ]
        }
      ]
    },
    {
      "cell_type": "code",
      "source": [
        "train_dir = \"/content/drive/MyDrive/Tez Dosyaları/ikinci veriseti 2 class/Train\"\n",
        "test_dir = \"/content/drive/MyDrive/Tez Dosyaları/ikinci veriseti 2 class/Test\""
      ],
      "metadata": {
        "id": "QYwDJW1pMgLH"
      },
      "execution_count": 4,
      "outputs": []
    },
    {
      "cell_type": "code",
      "source": [
        "import tensorflow as tf\n",
        "BATCH_SIZE = 32\n",
        "IMG_SIZE = (224, 224)\n",
        "train_data= tf.keras.preprocessing.image_dataset_from_directory(train_dir,\n",
        "                                                          label_mode=\"binary\",\n",
        "                                                          batch_size=BATCH_SIZE,\n",
        "                                                          image_size=IMG_SIZE)\n",
        "\n",
        "test_data = tf.keras.preprocessing.image_dataset_from_directory(test_dir,\n",
        "                                                          label_mode=\"binary\",\n",
        "                                                          batch_size=BATCH_SIZE,\n",
        "                                                          image_size=IMG_SIZE)"
      ],
      "metadata": {
        "colab": {
          "base_uri": "https://localhost:8080/"
        },
        "id": "TJ4l3_DaMp_4",
        "outputId": "a734aa88-3e9a-4dae-8c89-e1f20a1bfe08"
      },
      "execution_count": 5,
      "outputs": [
        {
          "output_type": "stream",
          "name": "stdout",
          "text": [
            "Found 293 files belonging to 2 classes.\n",
            "Found 73 files belonging to 2 classes.\n"
          ]
        }
      ]
    },
    {
      "cell_type": "code",
      "source": [
        "train_data.class_names"
      ],
      "metadata": {
        "colab": {
          "base_uri": "https://localhost:8080/"
        },
        "id": "6_e-yBAFMsrV",
        "outputId": "e8bc1a3a-969c-41f3-eefd-0d9a97bd8d20"
      },
      "execution_count": 6,
      "outputs": [
        {
          "output_type": "execute_result",
          "data": {
            "text/plain": [
              "['Benign', 'Malignant']"
            ]
          },
          "metadata": {},
          "execution_count": 6
        }
      ]
    },
    {
      "cell_type": "code",
      "source": [
        "from tensorflow.keras.preprocessing.image import ImageDataGenerator\n",
        "from tensorflow.keras.preprocessing.image import img_to_array\n",
        "from tensorflow.keras.preprocessing.image import load_img\n",
        "import numpy as np\n",
        "import random\n",
        "import math\n",
        "import csv\n",
        "import cv2\n",
        "import os"
      ],
      "metadata": {
        "id": "RDuShM4lMvBT"
      },
      "execution_count": 7,
      "outputs": []
    },
    {
      "cell_type": "code",
      "source": [
        "image_width = 224\n",
        "image_height = 224\n",
        "classes = ['Benign', 'Malignant']\n",
        "datagen = ImageDataGenerator(\n",
        "    rescale=1.0/255,\n",
        "    rotation_range=40,\n",
        "    width_shift_range=0.2,\n",
        "    height_shift_range=0.2,\n",
        "    shear_range=0.2,\n",
        "    zoom_range=0.2,\n",
        "    horizontal_flip=True,\n",
        "    fill_mode='nearest'\n",
        ")\n",
        "\n",
        "# Resimleri yüklemek için flow_from_directory kullanın\n",
        "train_generator = datagen.flow_from_directory(\n",
        "    directory=\"/content/drive/MyDrive/Tez Dosyaları/ikinci veriseti 2 class/Train\",\n",
        "    target_size=(image_width, image_height),\n",
        "    batch_size=32,\n",
        "    class_mode='categorical',\n",
        "    subset='training'\n",
        ")\n",
        "\n",
        "# Her sınıf için resimleri ayrı ayrı arttırın\n",
        "for cls in classes:\n",
        "    # Sınıfın resimlerini yüklemek için flow_from_directory kullanın\n",
        "    cls_generator = datagen.flow_from_directory(\n",
        "        directory=\"/content/drive/MyDrive/Tez Dosyaları/ikinci veriseti 2 class/Train\",\n",
        "        target_size=(image_width, image_height),\n",
        "        batch_size=32,\n",
        "        class_mode='categorical',\n",
        "        subset='training',\n",
        "        classes=[cls]\n",
        "    )\n",
        "\n",
        "    # Resimleri arttırın ve kaydedin\n",
        "    i = 0\n",
        "    for batch in cls_generator:\n",
        "        images, labels = batch\n",
        "        for image in images:\n",
        "            # Resmi kaydetmek için imwrite kullanın\n",
        "            cv2.imwrite(os.path.join(\"/content/drive/MyDrive/Tez Dosyaları/ikinci veriseti 2 class/Train\", cls, f\"augmented_{i}.jpg\"), image * 255)\n",
        "            i += 1\n",
        "            if i >= 3000:  # Maksimum resim sayısına ulaşıldığında döngüyü durdur\n",
        "                break\n",
        "        else:\n",
        "            continue\n",
        "        break"
      ],
      "metadata": {
        "colab": {
          "base_uri": "https://localhost:8080/"
        },
        "id": "3m4eao6OMxRZ",
        "outputId": "9f2be923-ba22-41be-ac90-6ad8e7c91837"
      },
      "execution_count": 8,
      "outputs": [
        {
          "output_type": "stream",
          "name": "stdout",
          "text": [
            "Found 293 images belonging to 2 classes.\n",
            "Found 70 images belonging to 1 classes.\n",
            "Found 223 images belonging to 1 classes.\n"
          ]
        }
      ]
    },
    {
      "cell_type": "code",
      "source": [
        "# Load the augmented images for the malignant class\n",
        "augmented_images = os.listdir(\"/content/drive/MyDrive/Tez Dosyaları/ikinci veriseti 2 class/Train/Malignant\")\n",
        "\n",
        "# Count the number of augmented images\n",
        "num_malignant_images = len(augmented_images)\n",
        "\n",
        "# Print the number of malignant images\n",
        "print(\"Number of malignant images:\", num_malignant_images)"
      ],
      "metadata": {
        "colab": {
          "base_uri": "https://localhost:8080/"
        },
        "id": "vqPXeQQlM9Fl",
        "outputId": "a6619da8-8b3e-4f90-9e6f-5a5a8c7dd647"
      },
      "execution_count": 9,
      "outputs": [
        {
          "output_type": "stream",
          "name": "stdout",
          "text": [
            "Number of malignant images: 3223\n"
          ]
        }
      ]
    },
    {
      "cell_type": "code",
      "source": [
        "augmented_images3 = os.listdir(\"/content/drive/MyDrive/Tez Dosyaları/ikinci veriseti 2 class/Train/Benign\")\n",
        "\n",
        "# Count the number of augmented images\n",
        "num_benign_images = len(augmented_images3)\n",
        "\n",
        "# Print the number of malignant images\n",
        "print(\"Number of benign images:\", num_benign_images)"
      ],
      "metadata": {
        "colab": {
          "base_uri": "https://localhost:8080/"
        },
        "id": "NFinnKe0NkS0",
        "outputId": "c9ad3be5-d2bf-4a17-f35b-1d28680f020c"
      },
      "execution_count": 10,
      "outputs": [
        {
          "output_type": "stream",
          "name": "stdout",
          "text": [
            "Number of benign images: 3070\n"
          ]
        }
      ]
    },
    {
      "cell_type": "code",
      "source": [
        "import tensorflow as tf\n",
        "BATCH_SIZE = 32\n",
        "IMG_SIZE = (224, 224)\n",
        "train_data= tf.keras.preprocessing.image_dataset_from_directory(train_dir,\n",
        "                                                          label_mode=\"binary\",\n",
        "                                                          batch_size=BATCH_SIZE,\n",
        "                                                          image_size=IMG_SIZE)\n",
        "\n",
        "test_data = tf.keras.preprocessing.image_dataset_from_directory(test_dir,\n",
        "                                                          label_mode=\"binary\",\n",
        "                                                          batch_size=BATCH_SIZE,\n",
        "                                                          image_size=IMG_SIZE)"
      ],
      "metadata": {
        "colab": {
          "base_uri": "https://localhost:8080/"
        },
        "id": "kMwLF8RUNph8",
        "outputId": "4773c1ce-1256-4095-91a6-b7f7eb6c2cb0"
      },
      "execution_count": 11,
      "outputs": [
        {
          "output_type": "stream",
          "name": "stdout",
          "text": [
            "Found 6293 files belonging to 2 classes.\n",
            "Found 73 files belonging to 2 classes.\n"
          ]
        }
      ]
    },
    {
      "cell_type": "code",
      "source": [
        "# 1.  create base model with tf.keras.applications\n",
        "base_model = tf.keras.applications.ResNet50(include_top=False)\n",
        "\n",
        "# 2. Freeze the base model\n",
        "base_model.trainable = False\n",
        "\n",
        "# 3. create inputs into our model\n",
        "inputs = tf.keras.layers.Input(shape=(224, 224, 3), name=\"input_layer\")\n",
        "\n",
        "# 4. if using ResNet50V2 you will need to normalize inputs\n",
        "# x = tf.keras.layers.experimental.preprocessing.Rescaling(1./255)(inputs)\n",
        "\n",
        "# 5. pass the inputs to the base_model\n",
        "x = base_model(inputs)\n",
        "print(f\"Shape after passing inputs through base model: {x.shape}\")\n",
        "\n",
        "# 6. average pool the outputs of the base model (aggregate all the most important information, reduce number of computations)\n",
        "x = tf.keras.layers.GlobalAveragePooling2D(name=\"global_average_pooling_layer\")(x)\n",
        "print(f\"Shape after GlobalAveragePooling2D: {x.shape}\")\n",
        "\n",
        "# 7. create the output activation layer\n",
        "outputs = tf.keras.layers.Dense(1, activation=\"sigmoid\", name=\"output_layer\")(x)\n",
        "model_0 = tf.keras.Model(inputs, outputs)\n",
        "\n",
        "# 8. compile the model\n",
        "model_0.compile(loss=\"binary_crossentropy\",\n",
        "                optimizer=tf.keras.optimizers.Adam(),\n",
        "                metrics=[\"accuracy\"])\n",
        "\n",
        "# 9. fit the model\n",
        "history_0 = model_0.fit(train_data,\n",
        "                        epochs=40,\n",
        "                        steps_per_epoch=len(train_data),\n",
        "                        validation_data=test_data,\n",
        "                        validation_steps=int(len(test_data)),\n",
        "                        callbacks=[create_tensorboard_callback(dir_name=\"transfer_learning\",\n",
        "                                                              experiment_name=\"10_percent_feature_extraction\")])"
      ],
      "metadata": {
        "colab": {
          "base_uri": "https://localhost:8080/"
        },
        "id": "os8M6ER8NscB",
        "outputId": "ee473b38-412d-4738-a965-df77ac83ddd5"
      },
      "execution_count": 19,
      "outputs": [
        {
          "output_type": "stream",
          "name": "stdout",
          "text": [
            "Downloading data from https://storage.googleapis.com/tensorflow/keras-applications/resnet/resnet50_weights_tf_dim_ordering_tf_kernels_notop.h5\n",
            "94765736/94765736 [==============================] - 5s 0us/step\n",
            "Shape after passing inputs through base model: (None, 7, 7, 2048)\n",
            "Shape after GlobalAveragePooling2D: (None, 2048)\n",
            "Saving TensorBoard log files to: transfer_learning/10_percent_feature_extraction/20240725-145355\n",
            "Epoch 1/40\n",
            "197/197 [==============================] - 30s 125ms/step - loss: 0.6100 - accuracy: 0.6518 - val_loss: 0.6118 - val_accuracy: 0.7260\n",
            "Epoch 2/40\n",
            "197/197 [==============================] - 21s 102ms/step - loss: 0.5077 - accuracy: 0.7512 - val_loss: 0.7459 - val_accuracy: 0.6027\n",
            "Epoch 3/40\n",
            "197/197 [==============================] - 20s 100ms/step - loss: 0.4598 - accuracy: 0.7893 - val_loss: 0.6293 - val_accuracy: 0.7123\n",
            "Epoch 4/40\n",
            "197/197 [==============================] - 21s 101ms/step - loss: 0.4244 - accuracy: 0.8201 - val_loss: 0.6498 - val_accuracy: 0.7123\n",
            "Epoch 5/40\n",
            "197/197 [==============================] - 21s 102ms/step - loss: 0.3985 - accuracy: 0.8303 - val_loss: 0.6047 - val_accuracy: 0.7671\n",
            "Epoch 6/40\n",
            "197/197 [==============================] - 21s 102ms/step - loss: 0.3748 - accuracy: 0.8462 - val_loss: 0.6177 - val_accuracy: 0.7397\n",
            "Epoch 7/40\n",
            "197/197 [==============================] - 21s 101ms/step - loss: 0.3593 - accuracy: 0.8567 - val_loss: 0.5977 - val_accuracy: 0.7397\n",
            "Epoch 8/40\n",
            "197/197 [==============================] - 21s 101ms/step - loss: 0.3461 - accuracy: 0.8616 - val_loss: 0.5819 - val_accuracy: 0.7671\n",
            "Epoch 9/40\n",
            "197/197 [==============================] - 21s 102ms/step - loss: 0.3296 - accuracy: 0.8711 - val_loss: 0.6020 - val_accuracy: 0.7534\n",
            "Epoch 10/40\n",
            "197/197 [==============================] - 21s 102ms/step - loss: 0.3198 - accuracy: 0.8761 - val_loss: 0.5828 - val_accuracy: 0.7534\n",
            "Epoch 11/40\n",
            "197/197 [==============================] - 21s 102ms/step - loss: 0.3084 - accuracy: 0.8786 - val_loss: 0.6173 - val_accuracy: 0.7808\n",
            "Epoch 12/40\n",
            "197/197 [==============================] - 21s 101ms/step - loss: 0.2999 - accuracy: 0.8846 - val_loss: 0.6188 - val_accuracy: 0.7808\n",
            "Epoch 13/40\n",
            "197/197 [==============================] - 21s 101ms/step - loss: 0.2875 - accuracy: 0.8945 - val_loss: 0.6271 - val_accuracy: 0.7534\n",
            "Epoch 14/40\n",
            "197/197 [==============================] - 21s 101ms/step - loss: 0.2797 - accuracy: 0.8967 - val_loss: 0.6070 - val_accuracy: 0.7397\n",
            "Epoch 15/40\n",
            "197/197 [==============================] - 21s 101ms/step - loss: 0.2761 - accuracy: 0.8981 - val_loss: 0.6174 - val_accuracy: 0.7534\n",
            "Epoch 16/40\n",
            "197/197 [==============================] - 21s 101ms/step - loss: 0.2709 - accuracy: 0.9004 - val_loss: 0.6029 - val_accuracy: 0.7260\n",
            "Epoch 17/40\n",
            "197/197 [==============================] - 21s 102ms/step - loss: 0.2621 - accuracy: 0.9045 - val_loss: 0.6167 - val_accuracy: 0.7534\n",
            "Epoch 18/40\n",
            "197/197 [==============================] - 21s 101ms/step - loss: 0.2537 - accuracy: 0.9074 - val_loss: 0.6182 - val_accuracy: 0.7397\n",
            "Epoch 19/40\n",
            "197/197 [==============================] - 21s 101ms/step - loss: 0.2496 - accuracy: 0.9082 - val_loss: 0.6114 - val_accuracy: 0.7397\n",
            "Epoch 20/40\n",
            "197/197 [==============================] - 21s 102ms/step - loss: 0.2444 - accuracy: 0.9096 - val_loss: 0.6722 - val_accuracy: 0.7808\n",
            "Epoch 21/40\n",
            "197/197 [==============================] - 21s 102ms/step - loss: 0.2401 - accuracy: 0.9115 - val_loss: 0.6277 - val_accuracy: 0.7534\n",
            "Epoch 22/40\n",
            "197/197 [==============================] - 21s 101ms/step - loss: 0.2359 - accuracy: 0.9163 - val_loss: 0.6256 - val_accuracy: 0.7397\n",
            "Epoch 23/40\n",
            "197/197 [==============================] - 21s 102ms/step - loss: 0.2313 - accuracy: 0.9158 - val_loss: 0.6354 - val_accuracy: 0.7397\n",
            "Epoch 24/40\n",
            "197/197 [==============================] - 21s 101ms/step - loss: 0.2256 - accuracy: 0.9205 - val_loss: 0.6507 - val_accuracy: 0.7534\n",
            "Epoch 25/40\n",
            "197/197 [==============================] - 21s 101ms/step - loss: 0.2220 - accuracy: 0.9190 - val_loss: 0.6415 - val_accuracy: 0.7397\n",
            "Epoch 26/40\n",
            "197/197 [==============================] - 20s 101ms/step - loss: 0.2161 - accuracy: 0.9210 - val_loss: 0.6496 - val_accuracy: 0.7397\n",
            "Epoch 27/40\n",
            "197/197 [==============================] - 21s 102ms/step - loss: 0.2139 - accuracy: 0.9240 - val_loss: 0.6531 - val_accuracy: 0.7397\n",
            "Epoch 28/40\n",
            "197/197 [==============================] - 21s 102ms/step - loss: 0.2125 - accuracy: 0.9283 - val_loss: 0.6941 - val_accuracy: 0.7808\n",
            "Epoch 29/40\n",
            "197/197 [==============================] - 21s 102ms/step - loss: 0.2114 - accuracy: 0.9240 - val_loss: 0.6795 - val_accuracy: 0.7534\n",
            "Epoch 30/40\n",
            "197/197 [==============================] - 21s 101ms/step - loss: 0.2021 - accuracy: 0.9315 - val_loss: 0.6761 - val_accuracy: 0.7397\n",
            "Epoch 31/40\n",
            "197/197 [==============================] - 21s 101ms/step - loss: 0.2033 - accuracy: 0.9314 - val_loss: 0.6702 - val_accuracy: 0.7397\n",
            "Epoch 32/40\n",
            "197/197 [==============================] - 21s 102ms/step - loss: 0.1986 - accuracy: 0.9288 - val_loss: 0.6749 - val_accuracy: 0.7397\n",
            "Epoch 33/40\n",
            "197/197 [==============================] - 21s 101ms/step - loss: 0.1937 - accuracy: 0.9317 - val_loss: 0.6662 - val_accuracy: 0.7671\n",
            "Epoch 34/40\n",
            "197/197 [==============================] - 21s 101ms/step - loss: 0.1917 - accuracy: 0.9342 - val_loss: 0.6750 - val_accuracy: 0.7534\n",
            "Epoch 35/40\n",
            "197/197 [==============================] - 21s 101ms/step - loss: 0.1889 - accuracy: 0.9352 - val_loss: 0.6745 - val_accuracy: 0.7534\n",
            "Epoch 36/40\n",
            "197/197 [==============================] - 21s 102ms/step - loss: 0.1908 - accuracy: 0.9341 - val_loss: 0.6847 - val_accuracy: 0.7397\n",
            "Epoch 37/40\n",
            "197/197 [==============================] - 21s 102ms/step - loss: 0.1837 - accuracy: 0.9379 - val_loss: 0.6903 - val_accuracy: 0.7397\n",
            "Epoch 38/40\n",
            "197/197 [==============================] - 21s 101ms/step - loss: 0.1806 - accuracy: 0.9387 - val_loss: 0.6820 - val_accuracy: 0.7397\n",
            "Epoch 39/40\n",
            "197/197 [==============================] - 21s 102ms/step - loss: 0.1814 - accuracy: 0.9404 - val_loss: 0.6912 - val_accuracy: 0.7397\n",
            "Epoch 40/40\n",
            "197/197 [==============================] - 21s 101ms/step - loss: 0.1749 - accuracy: 0.9426 - val_loss: 0.6962 - val_accuracy: 0.7397\n"
          ]
        }
      ]
    },
    {
      "cell_type": "code",
      "source": [
        "import matplotlib.pyplot as plt\n",
        "\n",
        "def plot_loss_curves(history):\n",
        "  \"\"\"\n",
        "  Returns separate loss curves for training and validation metrics.\n",
        "  Args:\n",
        "    history: TensorFlow History object.\n",
        "\n",
        "    Returns:\n",
        "    Plots of training/validation loss and accuracy metrics.\n",
        "  \"\"\"\n",
        "  loss = history.history['loss']\n",
        "  val_loss = history.history['val_loss']\n",
        "\n",
        "  accuracy = history.history['accuracy']\n",
        "  val_accuracy = history.history['val_accuracy']\n",
        "\n",
        "  epochs = range(len(history.history['loss']))\n",
        "\n",
        "  #Plot loss\n",
        "\n",
        "  plt.plot(epochs, loss, label='training_loss')\n",
        "  plt.plot(epochs, val_loss, label='val_loss')\n",
        "  plt.title('Loss')\n",
        "  plt.xlabel('Epochs')\n",
        "  plt.legend()\n",
        "\n",
        "  #Plot accuracy\n",
        "  plt.figure()\n",
        "  plt.plot(epochs, accuracy, label='training_accuracy')\n",
        "  plt.plot(epochs, val_accuracy, label='val_accuracy')\n",
        "  plt.title('Accuracy')\n",
        "  plt.xlabel('Epochs')\n",
        "  plt.legend();\n",
        "\n",
        "plot_loss_curves(history_0)"
      ],
      "metadata": {
        "colab": {
          "base_uri": "https://localhost:8080/",
          "height": 927
        },
        "id": "i_jGghbjNwx9",
        "outputId": "8ad57514-ee41-48b8-def2-e514115fe2c6"
      },
      "execution_count": 20,
      "outputs": [
        {
          "output_type": "display_data",
          "data": {
            "text/plain": [
              "<Figure size 640x480 with 1 Axes>"
            ],
            "image/png": "[encoded data removed]"
          },
          "metadata": {}
        },
        {
          "output_type": "display_data",
          "data": {
            "text/plain": [
              "<Figure size 640x480 with 1 Axes>"
            ],
            "image/png": "[encoded data removed]"
          },
          "metadata": {}
        }
      ]
    },
    {
      "cell_type": "code",
      "source": [
        "results_feature_extraction = model_0.evaluate(test_data)\n",
        "results_feature_extraction"
      ],
      "metadata": {
        "colab": {
          "base_uri": "https://localhost:8080/"
        },
        "id": "h9t4Ez5jNzkD",
        "outputId": "33c88be9-c735-4fe7-f81c-76f9f686edd0"
      },
      "execution_count": 21,
      "outputs": [
        {
          "output_type": "stream",
          "name": "stdout",
          "text": [
            "3/3 [==============================] - 1s 69ms/step - loss: 0.6962 - accuracy: 0.7397\n"
          ]
        },
        {
          "output_type": "execute_result",
          "data": {
            "text/plain": [
              "[0.6961567401885986, 0.7397260069847107]"
            ]
          },
          "metadata": {},
          "execution_count": 21
        }
      ]
    },
    {
      "cell_type": "code",
      "source": [
        "# Get the predicted probabilities for the test set\n",
        "y_pred_probs = model_0.predict(test_data)\n",
        "\n",
        "# Convert probabilities to binary predictions (0 or 1)\n",
        "y_pred = (y_pred_probs > 0.5).astype(int)\n",
        "\n",
        "# Get the true labels for the test set\n",
        "y_true = np.concatenate([y for x, y in test_data], axis=0)\n",
        "\n",
        "# Calculate precision\n",
        "from sklearn.metrics import precision_score\n",
        "precision = precision_score(y_true, y_pred)\n",
        "print(\"Precision:\", precision)"
      ],
      "metadata": {
        "colab": {
          "base_uri": "https://localhost:8080/"
        },
        "id": "uglZxXduN1wv",
        "outputId": "4f1f9a88-d1d2-4b9e-9d6c-b18a395cf5ac"
      },
      "execution_count": 22,
      "outputs": [
        {
          "output_type": "stream",
          "name": "stdout",
          "text": [
            "3/3 [==============================] - 1s 89ms/step\n",
            "Precision: 0.7222222222222222\n"
          ]
        }
      ]
    },
    {
      "cell_type": "code",
      "source": [
        "from sklearn.metrics import recall_score\n",
        "\n",
        "# Calculate recall\n",
        "recall = recall_score(y_true, y_pred)\n",
        "print(\"Recall:\", recall)"
      ],
      "metadata": {
        "colab": {
          "base_uri": "https://localhost:8080/"
        },
        "id": "_NOWLRLZN306",
        "outputId": "6adbf466-6aa2-4834-eb6c-9a247d1da134"
      },
      "execution_count": 23,
      "outputs": [
        {
          "output_type": "stream",
          "name": "stdout",
          "text": [
            "Recall: 0.7090909090909091\n"
          ]
        }
      ]
    },
    {
      "cell_type": "code",
      "source": [
        "from sklearn.metrics import f1_score\n",
        "# Calculate F1-score\n",
        "f1 = f1_score(y_true, y_pred)\n",
        "print(\"F1-score:\", f1)"
      ],
      "metadata": {
        "colab": {
          "base_uri": "https://localhost:8080/"
        },
        "id": "oyvMVrfON5tc",
        "outputId": "3d0d1a59-c07e-4c08-b6a2-2544b12c4b58"
      },
      "execution_count": 24,
      "outputs": [
        {
          "output_type": "stream",
          "name": "stdout",
          "text": [
            "F1-score: 0.7155963302752293\n"
          ]
        }
      ]
    },
    {
      "cell_type": "code",
      "source": [
        "# Eğitim doğruluğunu elde etmek için history_0 nesnesini kullanın\n",
        "train_accuracy = history_0.history['accuracy']\n",
        "\n",
        "# Son epoch'un eğitim doğruluğunu yazdırın\n",
        "print(\"Eğitim doğruluğu:\", train_accuracy[-1])"
      ],
      "metadata": {
        "colab": {
          "base_uri": "https://localhost:8080/"
        },
        "id": "N27ZVDkYN7oz",
        "outputId": "3a03ae0e-9a1e-4ef5-d88a-b8e7efcb24d6"
      },
      "execution_count": 25,
      "outputs": [
        {
          "output_type": "stream",
          "name": "stdout",
          "text": [
            "Eğitim doğruluğu: 0.9426347017288208\n"
          ]
        }
      ]
    },
    {
      "cell_type": "code",
      "source": [
        "*"
      ],
      "metadata": {
        "id": "zSViiCJRN-PU"
      },
      "execution_count": 25,
      "outputs": []
    }
  ]
}