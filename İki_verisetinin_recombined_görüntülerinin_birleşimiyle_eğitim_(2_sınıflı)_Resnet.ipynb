{
  "nbformat": 4,
  "nbformat_minor": 0,
  "metadata": {
    "colab": {
      "provenance": [],
      "machine_shape": "hm",
      "gpuType": "T4"
    },
    "kernelspec": {
      "name": "python3",
      "display_name": "Python 3"
    },
    "language_info": {
      "name": "python"
    },
    "accelerator": "GPU"
  },
  "cells": [
    {
      "cell_type": "code",
      "execution_count": 1,
      "metadata": {
        "colab": {
          "base_uri": "https://localhost:8080/"
        },
        "id": "FwQZwRqhZBeY",
        "outputId": "db9d1b5a-54f2-4cb1-cb7f-c93d5890cd95"
      },
      "outputs": [
        {
          "output_type": "stream",
          "name": "stdout",
          "text": [
            "Mounted at /content/drive\n"
          ]
        }
      ],
      "source": [
        "from google.colab import drive\n",
        "drive.mount('/content/drive')"
      ]
    },
    {
      "cell_type": "code",
      "source": [
        "!wget https://raw.githubusercontent.com/mrdbourke/tensorflow-deep-learning/main/extras/helper_functions.py"
      ],
      "metadata": {
        "colab": {
          "base_uri": "https://localhost:8080/"
        },
        "id": "RjJAGDkrZdKW",
        "outputId": "cb6ab471-8276-4d41-eb5d-9a6635d199bd"
      },
      "execution_count": 2,
      "outputs": [
        {
          "output_type": "stream",
          "name": "stdout",
          "text": [
            "--2024-07-31 10:47:04--  https://raw.githubusercontent.com/mrdbourke/tensorflow-deep-learning/main/extras/helper_functions.py\n",
            "Resolving raw.githubusercontent.com (raw.githubusercontent.com)... 185.199.108.133, 185.199.109.133, 185.199.110.133, ...\n",
            "Connecting to raw.githubusercontent.com (raw.githubusercontent.com)|185.199.108.133|:443... connected.\n",
            "HTTP request sent, awaiting response... 200 OK\n",
            "Length: 10246 (10K) [text/plain]\n",
            "Saving to: ‘helper_functions.py’\n",
            "\n",
            "helper_functions.py 100%[===================>]  10.01K  --.-KB/s    in 0.001s  \n",
            "\n",
            "2024-07-31 10:47:04 (10.4 MB/s) - ‘helper_functions.py’ saved [10246/10246]\n",
            "\n"
          ]
        }
      ]
    },
    {
      "cell_type": "code",
      "source": [
        "#import helper functions we're going to use in this notebook\n",
        "\n",
        "from helper_functions import create_tensorboard_callback, plot_loss_curves, unzip_data, walk_through_dir\n"
      ],
      "metadata": {
        "id": "6sBn0RMfZoW9"
      },
      "execution_count": 3,
      "outputs": []
    },
    {
      "cell_type": "code",
      "source": [
        "import os\n",
        "\n",
        "for dirpath, dirnames, filenames in os.walk(\"/content/drive/MyDrive/Tez Dosyaları/recombined 2 classlı\"):\n",
        "  print(f\"There are {len(dirnames)} directories and {len(filenames)} images in '{dirpath}'.\")\n"
      ],
      "metadata": {
        "colab": {
          "base_uri": "https://localhost:8080/"
        },
        "id": "RAm--8T3Zp73",
        "outputId": "7e496f15-5552-4b6b-d220-f61accd5165d"
      },
      "execution_count": 4,
      "outputs": [
        {
          "output_type": "stream",
          "name": "stdout",
          "text": [
            "There are 2 directories and 0 images in '/content/drive/MyDrive/Tez Dosyaları/recombined 2 classlı'.\n",
            "There are 2 directories and 0 images in '/content/drive/MyDrive/Tez Dosyaları/recombined 2 classlı/Test'.\n",
            "There are 0 directories and 50 images in '/content/drive/MyDrive/Tez Dosyaları/recombined 2 classlı/Test/Malignant'.\n",
            "There are 0 directories and 50 images in '/content/drive/MyDrive/Tez Dosyaları/recombined 2 classlı/Test/Benign'.\n",
            "There are 2 directories and 0 images in '/content/drive/MyDrive/Tez Dosyaları/recombined 2 classlı/Train'.\n",
            "There are 0 directories and 420 images in '/content/drive/MyDrive/Tez Dosyaları/recombined 2 classlı/Train/Malignant'.\n",
            "There are 0 directories and 250 images in '/content/drive/MyDrive/Tez Dosyaları/recombined 2 classlı/Train/Benign'.\n"
          ]
        }
      ]
    },
    {
      "cell_type": "code",
      "source": [
        "train_dir = \"/content/drive/MyDrive/Tez Dosyaları/recombined 2 classlı/Train\"\n",
        "test_dir = \"/content/drive/MyDrive/Tez Dosyaları/recombined 2 classlı/Test\""
      ],
      "metadata": {
        "id": "6riLqEDnZwiF"
      },
      "execution_count": 5,
      "outputs": []
    },
    {
      "cell_type": "code",
      "source": [
        "import tensorflow as tf\n",
        "BATCH_SIZE = 32\n",
        "IMG_SIZE = (224, 224)\n",
        "train_data= tf.keras.preprocessing.image_dataset_from_directory(train_dir,\n",
        "                                                          label_mode=\"binary\",\n",
        "                                                          batch_size=BATCH_SIZE,\n",
        "                                                          image_size=IMG_SIZE)\n",
        "\n",
        "test_data = tf.keras.preprocessing.image_dataset_from_directory(test_dir,\n",
        "                                                          label_mode=\"binary\",\n",
        "                                                          batch_size=BATCH_SIZE,\n",
        "                                                          image_size=IMG_SIZE)"
      ],
      "metadata": {
        "colab": {
          "base_uri": "https://localhost:8080/"
        },
        "id": "6QVvqopmZ0zV",
        "outputId": "89908eb4-14fc-4401-b329-e97bd71b0e22"
      },
      "execution_count": 6,
      "outputs": [
        {
          "output_type": "stream",
          "name": "stdout",
          "text": [
            "Found 670 files belonging to 2 classes.\n",
            "Found 100 files belonging to 2 classes.\n"
          ]
        }
      ]
    },
    {
      "cell_type": "code",
      "source": [
        "train_data.class_names"
      ],
      "metadata": {
        "colab": {
          "base_uri": "https://localhost:8080/"
        },
        "id": "Nc4UzCRAZ2ci",
        "outputId": "dc5d1e31-0996-4cfc-a53c-3e95604004c8"
      },
      "execution_count": 7,
      "outputs": [
        {
          "output_type": "execute_result",
          "data": {
            "text/plain": [
              "['Benign', 'Malignant']"
            ]
          },
          "metadata": {},
          "execution_count": 7
        }
      ]
    },
    {
      "cell_type": "code",
      "source": [
        "from tensorflow.keras.preprocessing.image import ImageDataGenerator\n",
        "from tensorflow.keras.preprocessing.image import img_to_array\n",
        "from tensorflow.keras.preprocessing.image import load_img\n",
        "import numpy as np\n",
        "import random\n",
        "import math\n",
        "import csv\n",
        "import cv2\n",
        "import os"
      ],
      "metadata": {
        "id": "lLxBnhpLZ311"
      },
      "execution_count": 8,
      "outputs": []
    },
    {
      "cell_type": "code",
      "source": [
        "# 1.  create base model with tf.keras.applications\n",
        "base_model = tf.keras.applications.ResNet50(include_top=False)\n",
        "\n",
        "# 2. Freeze the base model\n",
        "base_model.trainable = False\n",
        "\n",
        "# 3. create inputs into our model\n",
        "inputs = tf.keras.layers.Input(shape=(224, 224, 3), name=\"input_layer\")\n",
        "\n",
        "# 4. if using ResNet50V2 you will need to normalize inputs\n",
        "# x = tf.keras.layers.experimental.preprocessing.Rescaling(1./255)(inputs)\n",
        "\n",
        "# 5. pass the inputs to the base_model\n",
        "x = base_model(inputs)\n",
        "print(f\"Shape after passing inputs through base model: {x.shape}\")\n",
        "\n",
        "# 6. average pool the outputs of the base model (aggregate all the most important information, reduce number of computations)\n",
        "x = tf.keras.layers.GlobalAveragePooling2D(name=\"global_average_pooling_layer\")(x)\n",
        "print(f\"Shape after GlobalAveragePooling2D: {x.shape}\")\n",
        "\n",
        "# 7. create the output activation layer\n",
        "outputs = tf.keras.layers.Dense(1, activation=\"sigmoid\", name=\"output_layer\")(x)\n",
        "model_0 = tf.keras.Model(inputs, outputs)\n",
        "\n",
        "# 8. compile the model\n",
        "model_0.compile(loss=\"binary_crossentropy\",\n",
        "                optimizer=tf.keras.optimizers.Adam(),\n",
        "                metrics=[\"accuracy\"])\n",
        "\n",
        "# 9. fit the model\n",
        "history_0 = model_0.fit(train_data,\n",
        "                        epochs=40,\n",
        "                        steps_per_epoch=len(train_data),\n",
        "                        validation_data=test_data,\n",
        "                        validation_steps=int(len(test_data)),\n",
        "                        callbacks=[create_tensorboard_callback(dir_name=\"transfer_learning\",\n",
        "                                                              experiment_name=\"10_percent_feature_extraction\")])\n",
        "\n",
        ""
      ],
      "metadata": {
        "colab": {
          "base_uri": "https://localhost:8080/"
        },
        "id": "WUCMRH9QZ5Jv",
        "outputId": "3c383977-c180-4c0b-d142-0d7e07edb9de"
      },
      "execution_count": 23,
      "outputs": [
        {
          "output_type": "stream",
          "name": "stdout",
          "text": [
            "Downloading data from https://storage.googleapis.com/tensorflow/keras-applications/resnet/resnet50_weights_tf_dim_ordering_tf_kernels_notop.h5\n",
            "94765736/94765736 [==============================] - 4s 0us/step\n",
            "Shape after passing inputs through base model: (None, 7, 7, 2048)\n",
            "Shape after GlobalAveragePooling2D: (None, 2048)\n",
            "Saving TensorBoard log files to: transfer_learning/10_percent_feature_extraction/20240731-105819\n",
            "Epoch 1/40\n",
            "21/21 [==============================] - 14s 348ms/step - loss: 0.7053 - accuracy: 0.6060 - val_loss: 0.6120 - val_accuracy: 0.6900\n",
            "Epoch 2/40\n",
            "21/21 [==============================] - 5s 175ms/step - loss: 0.5791 - accuracy: 0.6866 - val_loss: 0.6597 - val_accuracy: 0.6300\n",
            "Epoch 3/40\n",
            "21/21 [==============================] - 5s 183ms/step - loss: 0.5314 - accuracy: 0.7254 - val_loss: 0.5953 - val_accuracy: 0.6900\n",
            "Epoch 4/40\n",
            "21/21 [==============================] - 5s 175ms/step - loss: 0.5245 - accuracy: 0.7269 - val_loss: 0.6763 - val_accuracy: 0.6300\n",
            "Epoch 5/40\n",
            "21/21 [==============================] - 5s 183ms/step - loss: 0.5103 - accuracy: 0.7299 - val_loss: 0.6119 - val_accuracy: 0.6700\n",
            "Epoch 6/40\n",
            "21/21 [==============================] - 5s 182ms/step - loss: 0.4914 - accuracy: 0.7493 - val_loss: 0.6108 - val_accuracy: 0.6700\n",
            "Epoch 7/40\n",
            "21/21 [==============================] - 5s 181ms/step - loss: 0.4769 - accuracy: 0.7627 - val_loss: 0.6698 - val_accuracy: 0.6300\n",
            "Epoch 8/40\n",
            "21/21 [==============================] - 5s 178ms/step - loss: 0.4620 - accuracy: 0.7731 - val_loss: 0.7324 - val_accuracy: 0.6300\n",
            "Epoch 9/40\n",
            "21/21 [==============================] - 5s 172ms/step - loss: 0.4454 - accuracy: 0.7866 - val_loss: 0.6375 - val_accuracy: 0.6300\n",
            "Epoch 10/40\n",
            "21/21 [==============================] - 5s 181ms/step - loss: 0.4541 - accuracy: 0.7910 - val_loss: 0.8333 - val_accuracy: 0.6100\n",
            "Epoch 11/40\n",
            "21/21 [==============================] - 5s 173ms/step - loss: 0.4320 - accuracy: 0.7970 - val_loss: 0.6417 - val_accuracy: 0.6200\n",
            "Epoch 12/40\n",
            "21/21 [==============================] - 5s 175ms/step - loss: 0.4209 - accuracy: 0.8060 - val_loss: 0.6352 - val_accuracy: 0.6300\n",
            "Epoch 13/40\n",
            "21/21 [==============================] - 5s 179ms/step - loss: 0.4269 - accuracy: 0.8075 - val_loss: 0.7595 - val_accuracy: 0.6300\n",
            "Epoch 14/40\n",
            "21/21 [==============================] - 5s 175ms/step - loss: 0.4002 - accuracy: 0.8179 - val_loss: 0.6761 - val_accuracy: 0.6100\n",
            "Epoch 15/40\n",
            "21/21 [==============================] - 5s 179ms/step - loss: 0.3963 - accuracy: 0.8269 - val_loss: 0.7067 - val_accuracy: 0.6600\n",
            "Epoch 16/40\n",
            "21/21 [==============================] - 5s 175ms/step - loss: 0.3916 - accuracy: 0.8388 - val_loss: 0.6382 - val_accuracy: 0.6300\n",
            "Epoch 17/40\n",
            "21/21 [==============================] - 5s 176ms/step - loss: 0.3902 - accuracy: 0.8209 - val_loss: 0.7138 - val_accuracy: 0.6700\n",
            "Epoch 18/40\n",
            "21/21 [==============================] - 5s 193ms/step - loss: 0.3745 - accuracy: 0.8358 - val_loss: 0.7358 - val_accuracy: 0.6600\n",
            "Epoch 19/40\n",
            "21/21 [==============================] - 5s 175ms/step - loss: 0.3655 - accuracy: 0.8552 - val_loss: 0.7088 - val_accuracy: 0.6600\n",
            "Epoch 20/40\n",
            "21/21 [==============================] - 5s 184ms/step - loss: 0.3601 - accuracy: 0.8597 - val_loss: 0.6675 - val_accuracy: 0.6500\n",
            "Epoch 21/40\n",
            "21/21 [==============================] - 5s 179ms/step - loss: 0.3618 - accuracy: 0.8567 - val_loss: 0.6883 - val_accuracy: 0.6300\n",
            "Epoch 22/40\n",
            "21/21 [==============================] - 5s 176ms/step - loss: 0.3499 - accuracy: 0.8627 - val_loss: 0.8124 - val_accuracy: 0.6300\n",
            "Epoch 23/40\n",
            "21/21 [==============================] - 5s 186ms/step - loss: 0.3476 - accuracy: 0.8687 - val_loss: 0.6979 - val_accuracy: 0.6300\n",
            "Epoch 24/40\n",
            "21/21 [==============================] - 5s 175ms/step - loss: 0.3374 - accuracy: 0.8910 - val_loss: 0.8288 - val_accuracy: 0.6400\n",
            "Epoch 25/40\n",
            "21/21 [==============================] - 5s 176ms/step - loss: 0.3375 - accuracy: 0.8731 - val_loss: 0.7918 - val_accuracy: 0.6600\n",
            "Epoch 26/40\n",
            "21/21 [==============================] - 5s 174ms/step - loss: 0.3324 - accuracy: 0.8806 - val_loss: 0.6848 - val_accuracy: 0.6400\n",
            "Epoch 27/40\n",
            "21/21 [==============================] - 5s 174ms/step - loss: 0.3335 - accuracy: 0.8746 - val_loss: 0.6998 - val_accuracy: 0.6400\n",
            "Epoch 28/40\n",
            "21/21 [==============================] - 5s 186ms/step - loss: 0.3184 - accuracy: 0.8925 - val_loss: 0.7139 - val_accuracy: 0.6400\n",
            "Epoch 29/40\n",
            "21/21 [==============================] - 5s 173ms/step - loss: 0.3110 - accuracy: 0.8985 - val_loss: 0.7361 - val_accuracy: 0.6300\n",
            "Epoch 30/40\n",
            "21/21 [==============================] - 5s 176ms/step - loss: 0.3052 - accuracy: 0.8761 - val_loss: 0.6733 - val_accuracy: 0.6500\n",
            "Epoch 31/40\n",
            "21/21 [==============================] - 5s 182ms/step - loss: 0.3121 - accuracy: 0.8881 - val_loss: 0.7599 - val_accuracy: 0.6700\n",
            "Epoch 32/40\n",
            "21/21 [==============================] - 5s 177ms/step - loss: 0.3131 - accuracy: 0.8821 - val_loss: 0.8347 - val_accuracy: 0.6600\n",
            "Epoch 33/40\n",
            "21/21 [==============================] - 5s 184ms/step - loss: 0.2916 - accuracy: 0.9045 - val_loss: 0.6978 - val_accuracy: 0.6300\n",
            "Epoch 34/40\n",
            "21/21 [==============================] - 5s 177ms/step - loss: 0.2928 - accuracy: 0.8925 - val_loss: 0.6857 - val_accuracy: 0.6400\n",
            "Epoch 35/40\n",
            "21/21 [==============================] - 5s 178ms/step - loss: 0.3012 - accuracy: 0.8925 - val_loss: 0.8952 - val_accuracy: 0.6400\n",
            "Epoch 36/40\n",
            "21/21 [==============================] - 5s 179ms/step - loss: 0.2826 - accuracy: 0.9164 - val_loss: 0.7113 - val_accuracy: 0.6300\n",
            "Epoch 37/40\n",
            "21/21 [==============================] - 5s 175ms/step - loss: 0.2839 - accuracy: 0.9119 - val_loss: 0.7185 - val_accuracy: 0.6400\n",
            "Epoch 38/40\n",
            "21/21 [==============================] - 5s 183ms/step - loss: 0.2828 - accuracy: 0.9045 - val_loss: 0.8546 - val_accuracy: 0.6600\n",
            "Epoch 39/40\n",
            "21/21 [==============================] - 5s 180ms/step - loss: 0.2783 - accuracy: 0.9104 - val_loss: 0.7734 - val_accuracy: 0.6400\n",
            "Epoch 40/40\n",
            "21/21 [==============================] - 5s 182ms/step - loss: 0.2681 - accuracy: 0.9343 - val_loss: 0.8378 - val_accuracy: 0.6500\n"
          ]
        }
      ]
    },
    {
      "cell_type": "code",
      "source": [
        "import matplotlib.pyplot as plt\n",
        "\n",
        "def plot_loss_curves(history):\n",
        "  \"\"\"\n",
        "  Returns separate loss curves for training and validation metrics.\n",
        "  Args:\n",
        "    history: TensorFlow History object.\n",
        "\n",
        "    Returns:\n",
        "    Plots of training/validation loss and accuracy metrics.\n",
        "  \"\"\"\n",
        "  loss = history.history['loss']\n",
        "  val_loss = history.history['val_loss']\n",
        "\n",
        "  accuracy = history.history['accuracy']\n",
        "  val_accuracy = history.history['val_accuracy']\n",
        "\n",
        "  epochs = range(len(history.history['loss']))\n",
        "\n",
        "  #Plot loss\n",
        "\n",
        "  plt.plot(epochs, loss, label='training_loss')\n",
        "  plt.plot(epochs, val_loss, label='val_loss')\n",
        "  plt.title('Loss')\n",
        "  plt.xlabel('Epochs')\n",
        "  plt.legend()\n",
        "\n",
        "  #Plot accuracy\n",
        "  plt.figure()\n",
        "  plt.plot(epochs, accuracy, label='training_accuracy')\n",
        "  plt.plot(epochs, val_accuracy, label='val_accuracy')\n",
        "  plt.title('Accuracy')\n",
        "  plt.xlabel('Epochs')\n",
        "  plt.legend();\n",
        "\n",
        "plot_loss_curves(history_0)\n",
        ""
      ],
      "metadata": {
        "colab": {
          "base_uri": "https://localhost:8080/",
          "height": 927
        },
        "id": "CiLh22PHZ6yV",
        "outputId": "3d7bc84b-c66b-444f-97c7-2b5ee3b0d704"
      },
      "execution_count": 24,
      "outputs": [
        {
          "output_type": "display_data",
          "data": {
            "text/plain": [
              "<Figure size 640x480 with 1 Axes>"
            ],
            "image/png": "[encoded data removed]"
          },
          "metadata": {}
        },
        {
          "output_type": "display_data",
          "data": {
            "text/plain": [
              "<Figure size 640x480 with 1 Axes>"
            ],
            "image/png": "[encoded data removed]"
          },
          "metadata": {}
        }
      ]
    },
    {
      "cell_type": "code",
      "source": [
        "\n",
        "results_feature_extraction = model_0.evaluate(test_data)\n",
        "results_feature_extraction"
      ],
      "metadata": {
        "colab": {
          "base_uri": "https://localhost:8080/"
        },
        "id": "mO6SYZ8cZ80a",
        "outputId": "8a752792-b462-46a3-ff03-d80690be8432"
      },
      "execution_count": 25,
      "outputs": [
        {
          "output_type": "stream",
          "name": "stdout",
          "text": [
            "4/4 [==============================] - 1s 74ms/step - loss: 0.8378 - accuracy: 0.6500\n"
          ]
        },
        {
          "output_type": "execute_result",
          "data": {
            "text/plain": [
              "[0.8378328680992126, 0.6499999761581421]"
            ]
          },
          "metadata": {},
          "execution_count": 25
        }
      ]
    },
    {
      "cell_type": "code",
      "source": [
        "# Get the predicted probabilities for the test set\n",
        "y_pred_probs = model_0.predict(test_data)\n",
        "\n",
        "# Convert probabilities to binary predictions (0 or 1)\n",
        "y_pred = (y_pred_probs > 0.5).astype(int)\n",
        "\n",
        "# Get the true labels for the test set\n",
        "y_true = np.concatenate([y for x, y in test_data], axis=0)\n",
        "\n",
        "# Calculate precision\n",
        "from sklearn.metrics import precision_score\n",
        "precision = precision_score(y_true, y_pred)\n",
        "print(\"Precision:\", precision)"
      ],
      "metadata": {
        "colab": {
          "base_uri": "https://localhost:8080/"
        },
        "id": "cgS46QYoZ-Q-",
        "outputId": "52b86936-3b97-4aab-d114-810ebabb4621"
      },
      "execution_count": 26,
      "outputs": [
        {
          "output_type": "stream",
          "name": "stdout",
          "text": [
            "4/4 [==============================] - 2s 89ms/step\n",
            "Precision: 0.4935064935064935\n"
          ]
        }
      ]
    },
    {
      "cell_type": "code",
      "source": [
        "from sklearn.metrics import recall_score\n",
        "\n",
        "# Calculate recall\n",
        "recall = recall_score(y_true, y_pred)\n",
        "print(\"Recall:\", recall)"
      ],
      "metadata": {
        "colab": {
          "base_uri": "https://localhost:8080/"
        },
        "id": "eHBu7bz0aADC",
        "outputId": "dc6089e6-543f-40e9-b1e9-a7bffc99dce2"
      },
      "execution_count": 27,
      "outputs": [
        {
          "output_type": "stream",
          "name": "stdout",
          "text": [
            "Recall: 0.76\n"
          ]
        }
      ]
    },
    {
      "cell_type": "code",
      "source": [
        "from sklearn.metrics import f1_score\n",
        "# Calculate F1-score\n",
        "f1 = f1_score(y_true, y_pred)\n",
        "print(\"F1-score:\", f1)\n",
        ""
      ],
      "metadata": {
        "colab": {
          "base_uri": "https://localhost:8080/"
        },
        "id": "ECJSkSRVaBSe",
        "outputId": "04baa216-b5b3-4d32-f1a0-2e125765247e"
      },
      "execution_count": 28,
      "outputs": [
        {
          "output_type": "stream",
          "name": "stdout",
          "text": [
            "F1-score: 0.5984251968503937\n"
          ]
        }
      ]
    },
    {
      "cell_type": "code",
      "source": [
        "\n",
        "# Eğitim doğruluğunu elde etmek için history_0 nesnesini kullanın\n",
        "train_accuracy = history_0.history['accuracy']\n",
        "\n",
        "# Son epoch'un eğitim doğruluğunu yazdırın\n",
        "print(\"Eğitim doğruluğu:\", train_accuracy[-1])\n",
        ""
      ],
      "metadata": {
        "colab": {
          "base_uri": "https://localhost:8080/"
        },
        "id": "VlHbt-AMaCX6",
        "outputId": "1089fde8-5476-48e9-8a8b-61f5300b4a30"
      },
      "execution_count": 29,
      "outputs": [
        {
          "output_type": "stream",
          "name": "stdout",
          "text": [
            "Eğitim doğruluğu: 0.9343283772468567\n"
          ]
        }
      ]
    },
    {
      "cell_type": "code",
      "source": [],
      "metadata": {
        "id": "t3vcbM96aECn"
      },
      "execution_count": 22,
      "outputs": []
    },
    {
      "cell_type": "code",
      "source": [],
      "metadata": {
        "id": "QT_vFS9bdIck"
      },
      "execution_count": null,
      "outputs": []
    }
  ]
}