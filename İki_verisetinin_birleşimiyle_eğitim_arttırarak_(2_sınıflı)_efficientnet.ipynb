{
  "nbformat": 4,
  "nbformat_minor": 0,
  "metadata": {
    "colab": {
      "provenance": [],
      "machine_shape": "hm",
      "gpuType": "T4"
    },
    "kernelspec": {
      "name": "python3",
      "display_name": "Python 3"
    },
    "language_info": {
      "name": "python"
    },
    "accelerator": "GPU"
  },
  "cells": [
    {
      "cell_type": "code",
      "source": [
        "from google.colab import drive\n",
        "drive.mount('/content/drive')\n"
      ],
      "metadata": {
        "colab": {
          "base_uri": "https://localhost:8080/"
        },
        "id": "HAaqQEtk5DEc",
        "outputId": "f5e14526-3610-4c3a-f76d-233486124627"
      },
      "execution_count": 1,
      "outputs": [
        {
          "output_type": "stream",
          "name": "stdout",
          "text": [
            "Mounted at /content/drive\n"
          ]
        }
      ]
    },
    {
      "cell_type": "code",
      "execution_count": 2,
      "metadata": {
        "colab": {
          "base_uri": "https://localhost:8080/"
        },
        "id": "3TyQmDKo38Yi",
        "outputId": "88b384f8-cbd6-4332-dc4a-cebbd390657d"
      },
      "outputs": [
        {
          "output_type": "stream",
          "name": "stdout",
          "text": [
            "--2024-07-25 21:56:59--  https://raw.githubusercontent.com/mrdbourke/tensorflow-deep-learning/main/extras/helper_functions.py\n",
            "Resolving raw.githubusercontent.com (raw.githubusercontent.com)... 185.199.108.133, 185.199.109.133, 185.199.110.133, ...\n",
            "Connecting to raw.githubusercontent.com (raw.githubusercontent.com)|185.199.108.133|:443... connected.\n",
            "HTTP request sent, awaiting response... 200 OK\n",
            "Length: 10246 (10K) [text/plain]\n",
            "Saving to: ‘helper_functions.py’\n",
            "\n",
            "\rhelper_functions.py   0%[                    ]       0  --.-KB/s               \rhelper_functions.py 100%[===================>]  10.01K  --.-KB/s    in 0s      \n",
            "\n",
            "2024-07-25 21:56:59 (80.9 MB/s) - ‘helper_functions.py’ saved [10246/10246]\n",
            "\n"
          ]
        }
      ],
      "source": [
        "!wget https://raw.githubusercontent.com/mrdbourke/tensorflow-deep-learning/main/extras/helper_functions.py"
      ]
    },
    {
      "cell_type": "code",
      "source": [
        "#import helper functions we're going to use in this notebook\n",
        "\n",
        "from helper_functions import create_tensorboard_callback, plot_loss_curves, unzip_data, walk_through_dir\n"
      ],
      "metadata": {
        "id": "kzvTfhWY4wSk"
      },
      "execution_count": 3,
      "outputs": []
    },
    {
      "cell_type": "code",
      "source": [
        "import os\n",
        "\n",
        "for dirpath, dirnames, filenames in os.walk(\"/content/drive/MyDrive/Tez Dosyaları/birlesik veriseti 2 classli\"):\n",
        "  print(f\"There are {len(dirnames)} directories and {len(filenames)} images in '{dirpath}'.\")\n"
      ],
      "metadata": {
        "colab": {
          "base_uri": "https://localhost:8080/"
        },
        "id": "n4b6E7wd4y-u",
        "outputId": "af411ca2-f385-4343-f6bd-362c6bb89250"
      },
      "execution_count": 4,
      "outputs": [
        {
          "output_type": "stream",
          "name": "stdout",
          "text": [
            "There are 2 directories and 0 images in '/content/drive/MyDrive/Tez Dosyaları/birlesik veriseti 2 classli'.\n",
            "There are 2 directories and 0 images in '/content/drive/MyDrive/Tez Dosyaları/birlesik veriseti 2 classli/Train'.\n",
            "There are 0 directories and 840 images in '/content/drive/MyDrive/Tez Dosyaları/birlesik veriseti 2 classli/Train/Malignant'.\n",
            "There are 0 directories and 575 images in '/content/drive/MyDrive/Tez Dosyaları/birlesik veriseti 2 classli/Train/Benign'.\n",
            "There are 2 directories and 0 images in '/content/drive/MyDrive/Tez Dosyaları/birlesik veriseti 2 classli/Test'.\n",
            "There are 0 directories and 100 images in '/content/drive/MyDrive/Tez Dosyaları/birlesik veriseti 2 classli/Test/Benign'.\n",
            "There are 0 directories and 100 images in '/content/drive/MyDrive/Tez Dosyaları/birlesik veriseti 2 classli/Test/Malignant'.\n"
          ]
        }
      ]
    },
    {
      "cell_type": "code",
      "source": [
        "train_dir = \"/content/drive/MyDrive/Tez Dosyaları/birlesik veriseti 2 classli/Train\"\n",
        "test_dir = \"/content/drive/MyDrive/Tez Dosyaları/birlesik veriseti 2 classli/Test\""
      ],
      "metadata": {
        "id": "h6b_5PUj5lKD"
      },
      "execution_count": 5,
      "outputs": []
    },
    {
      "cell_type": "code",
      "source": [
        "import tensorflow as tf\n",
        "BATCH_SIZE = 32\n",
        "IMG_SIZE = (224, 224)\n",
        "train_data= tf.keras.preprocessing.image_dataset_from_directory(train_dir,\n",
        "                                                          label_mode=\"binary\",\n",
        "                                                          batch_size=BATCH_SIZE,\n",
        "                                                          image_size=IMG_SIZE)\n",
        "\n",
        "test_data = tf.keras.preprocessing.image_dataset_from_directory(test_dir,\n",
        "                                                          label_mode=\"binary\",\n",
        "                                                          batch_size=BATCH_SIZE,\n",
        "                                                          image_size=IMG_SIZE)\n",
        ""
      ],
      "metadata": {
        "colab": {
          "base_uri": "https://localhost:8080/"
        },
        "id": "79Ad5a0G54NR",
        "outputId": "b02b2314-11e8-4aa1-b27f-371690a66de2"
      },
      "execution_count": 6,
      "outputs": [
        {
          "output_type": "stream",
          "name": "stdout",
          "text": [
            "Found 1415 files belonging to 2 classes.\n",
            "Found 200 files belonging to 2 classes.\n"
          ]
        }
      ]
    },
    {
      "cell_type": "code",
      "source": [
        "\n",
        "train_data.class_names"
      ],
      "metadata": {
        "colab": {
          "base_uri": "https://localhost:8080/"
        },
        "id": "WV-Zhdec56Bt",
        "outputId": "6d9e6c6a-91c5-4071-86a2-27a1d2f98a47"
      },
      "execution_count": 7,
      "outputs": [
        {
          "output_type": "execute_result",
          "data": {
            "text/plain": [
              "['Benign', 'Malignant']"
            ]
          },
          "metadata": {},
          "execution_count": 7
        }
      ]
    },
    {
      "cell_type": "code",
      "source": [
        "from tensorflow.keras.preprocessing.image import ImageDataGenerator\n",
        "from tensorflow.keras.preprocessing.image import img_to_array\n",
        "from tensorflow.keras.preprocessing.image import load_img\n",
        "import numpy as np\n",
        "import random\n",
        "import math\n",
        "import csv\n",
        "import cv2\n",
        "import os"
      ],
      "metadata": {
        "id": "s8Oei0l158Ny"
      },
      "execution_count": 8,
      "outputs": []
    },
    {
      "cell_type": "code",
      "source": [
        "image_width = 224\n",
        "image_height = 224\n",
        "classes = ['Benign', 'Malignant']\n",
        "datagen = ImageDataGenerator(\n",
        "    rescale=1.0/255,\n",
        "    rotation_range=40,\n",
        "    width_shift_range=0.2,\n",
        "    height_shift_range=0.2,\n",
        "    shear_range=0.2,\n",
        "    zoom_range=0.2,\n",
        "    horizontal_flip=True,\n",
        "    fill_mode='nearest'\n",
        ")\n",
        "\n",
        "# Resimleri yüklemek için flow_from_directory kullanın\n",
        "train_generator = datagen.flow_from_directory(\n",
        "    directory=\"/content/drive/MyDrive/Tez Dosyaları/birlesik veriseti 2 classli/Train\",\n",
        "    target_size=(image_width, image_height),\n",
        "    batch_size=32,\n",
        "    class_mode='categorical',\n",
        "    subset='training'\n",
        ")\n",
        "\n",
        "# Her sınıf için resimleri ayrı ayrı arttırın\n",
        "for cls in classes:\n",
        "    # Sınıfın resimlerini yüklemek için flow_from_directory kullanın\n",
        "    cls_generator = datagen.flow_from_directory(\n",
        "        directory=\"/content/drive/MyDrive/Tez Dosyaları/birlesik veriseti 2 classli/Train\",\n",
        "        target_size=(image_width, image_height),\n",
        "        batch_size=32,\n",
        "        class_mode='categorical',\n",
        "        subset='training',\n",
        "        classes=[cls]\n",
        "    )\n",
        "\n",
        "    # Resimleri arttırın ve kaydedin\n",
        "    i = 0\n",
        "    for batch in cls_generator:\n",
        "        images, labels = batch\n",
        "        for image in images:\n",
        "            # Resmi kaydetmek için imwrite kullanın\n",
        "            cv2.imwrite(os.path.join(\"/content/drive/MyDrive/Tez Dosyaları/birlesik veriseti 2 classli/Train\", cls, f\"augmented_{i}.jpg\"), image * 255)\n",
        "            i += 1\n",
        "            if i >= 3000:  # Maksimum resim sayısına ulaşıldığında döngüyü durdur\n",
        "                break\n",
        "        else:\n",
        "            continue\n",
        "        break"
      ],
      "metadata": {
        "colab": {
          "base_uri": "https://localhost:8080/"
        },
        "id": "o9J17lKK6ZVF",
        "outputId": "4f578dbb-9d5c-4fe0-827f-6e6af4728865"
      },
      "execution_count": 10,
      "outputs": [
        {
          "output_type": "stream",
          "name": "stdout",
          "text": [
            "Found 1415 images belonging to 2 classes.\n",
            "Found 575 images belonging to 1 classes.\n",
            "Found 840 images belonging to 1 classes.\n"
          ]
        }
      ]
    },
    {
      "cell_type": "code",
      "source": [
        "# Load the augmented images for the malignant class\n",
        "augmented_images = os.listdir(\"/content/drive/MyDrive/Tez Dosyaları/birlesik veriseti 2 classli/Train/Malignant\")\n",
        "\n",
        "# Count the number of augmented images\n",
        "num_malignant_images = len(augmented_images)\n",
        "\n",
        "# Print the number of malignant images\n",
        "print(\"Number of malignant images:\", num_malignant_images)"
      ],
      "metadata": {
        "colab": {
          "base_uri": "https://localhost:8080/"
        },
        "id": "N6pedKVd6pUp",
        "outputId": "17334b86-1675-44cf-df01-59058bb675f2"
      },
      "execution_count": 11,
      "outputs": [
        {
          "output_type": "stream",
          "name": "stdout",
          "text": [
            "Number of malignant images: 3840\n"
          ]
        }
      ]
    },
    {
      "cell_type": "code",
      "source": [
        "augmented_images3 = os.listdir(\"/content/drive/MyDrive/Tez Dosyaları/birlesik veriseti 2 classli/Train/Benign\")\n",
        "\n",
        "# Count the number of augmented images\n",
        "num_benign_images = len(augmented_images3)\n",
        "\n",
        "# Print the number of malignant images\n",
        "print(\"Number of benign images:\", num_benign_images)"
      ],
      "metadata": {
        "colab": {
          "base_uri": "https://localhost:8080/"
        },
        "id": "km4NgH1x6uN6",
        "outputId": "7b24d003-2f82-453c-83ff-d876a25a6973"
      },
      "execution_count": 12,
      "outputs": [
        {
          "output_type": "stream",
          "name": "stdout",
          "text": [
            "Number of benign images: 3575\n"
          ]
        }
      ]
    },
    {
      "cell_type": "code",
      "source": [
        "import tensorflow as tf\n",
        "BATCH_SIZE = 32\n",
        "IMG_SIZE = (224, 224)\n",
        "train_data= tf.keras.preprocessing.image_dataset_from_directory(train_dir,\n",
        "                                                          label_mode=\"binary\",\n",
        "                                                          batch_size=BATCH_SIZE,\n",
        "                                                          image_size=IMG_SIZE)\n",
        "\n",
        "test_data = tf.keras.preprocessing.image_dataset_from_directory(test_dir,\n",
        "                                                          label_mode=\"binary\",\n",
        "                                                          batch_size=BATCH_SIZE,\n",
        "                                                          image_size=IMG_SIZE)"
      ],
      "metadata": {
        "colab": {
          "base_uri": "https://localhost:8080/"
        },
        "id": "3V4aJFaE6ysQ",
        "outputId": "c4202ffd-e95f-4dc8-c6e8-401b70eb0d7e"
      },
      "execution_count": 13,
      "outputs": [
        {
          "output_type": "stream",
          "name": "stdout",
          "text": [
            "Found 7415 files belonging to 2 classes.\n",
            "Found 200 files belonging to 2 classes.\n"
          ]
        }
      ]
    },
    {
      "cell_type": "code",
      "source": [
        "# 1.  create base model with tf.keras.applications\n",
        "base_model = tf.keras.applications.EfficientNetB0(include_top=False)\n",
        "\n",
        "# 2. Freeze the base model\n",
        "base_model.trainable = False\n",
        "\n",
        "# 3. create inputs into our model\n",
        "inputs = tf.keras.layers.Input(shape=(224, 224, 3), name=\"input_layer\")\n",
        "\n",
        "# 4. if using ResNet50V2 you will need to normalize inputs\n",
        "# x = tf.keras.layers.experimental.preprocessing.Rescaling(1./255)(inputs)\n",
        "\n",
        "# 5. pass the inputs to the base_model\n",
        "x = base_model(inputs)\n",
        "print(f\"Shape after passing inputs through base model: {x.shape}\")\n",
        "\n",
        "# 6. average pool the outputs of the base model (aggregate all the most important information, reduce number of computations)\n",
        "x = tf.keras.layers.GlobalAveragePooling2D(name=\"global_average_pooling_layer\")(x)\n",
        "print(f\"Shape after GlobalAveragePooling2D: {x.shape}\")\n",
        "\n",
        "# 7. create the output activation layer\n",
        "outputs = tf.keras.layers.Dense(1, activation=\"sigmoid\", name=\"output_layer\")(x)\n",
        "model_0 = tf.keras.Model(inputs, outputs)\n",
        "\n",
        "# 8. compile the model\n",
        "model_0.compile(loss=\"binary_crossentropy\",\n",
        "                optimizer=tf.keras.optimizers.Adam(),\n",
        "                metrics=[\"accuracy\"])\n",
        "\n",
        "# 9. fit the model\n",
        "history_0 = model_0.fit(train_data,\n",
        "                        epochs=40,\n",
        "                        steps_per_epoch=len(train_data),\n",
        "                        validation_data=test_data,\n",
        "                        validation_steps=int(len(test_data)),\n",
        "                        callbacks=[create_tensorboard_callback(dir_name=\"transfer_learning\",\n",
        "                                                              experiment_name=\"10_percent_feature_extraction\")])\n",
        ""
      ],
      "metadata": {
        "colab": {
          "base_uri": "https://localhost:8080/"
        },
        "id": "DXX5hpOs61gx",
        "outputId": "0d879fea-8010-4eb4-c916-9b19aface88c"
      },
      "execution_count": 14,
      "outputs": [
        {
          "output_type": "stream",
          "name": "stdout",
          "text": [
            "Downloading data from https://storage.googleapis.com/keras-applications/efficientnetb0_notop.h5\n",
            "16705208/16705208 [==============================] - 1s 0us/step\n",
            "Shape after passing inputs through base model: (None, 7, 7, 1280)\n",
            "Shape after GlobalAveragePooling2D: (None, 1280)\n",
            "Saving TensorBoard log files to: transfer_learning/10_percent_feature_extraction/20240725-220657\n",
            "Epoch 1/40\n",
            "232/232 [==============================] - 92s 186ms/step - loss: 0.6430 - accuracy: 0.6259 - val_loss: 0.6347 - val_accuracy: 0.6000\n",
            "Epoch 2/40\n",
            "232/232 [==============================] - 27s 114ms/step - loss: 0.6039 - accuracy: 0.6720 - val_loss: 0.6335 - val_accuracy: 0.5950\n",
            "Epoch 3/40\n",
            "232/232 [==============================] - 27s 113ms/step - loss: 0.5850 - accuracy: 0.6917 - val_loss: 0.6225 - val_accuracy: 0.6300\n",
            "Epoch 4/40\n",
            "232/232 [==============================] - 27s 113ms/step - loss: 0.5700 - accuracy: 0.7055 - val_loss: 0.6224 - val_accuracy: 0.6200\n",
            "Epoch 5/40\n",
            "232/232 [==============================] - 28s 115ms/step - loss: 0.5641 - accuracy: 0.7064 - val_loss: 0.6208 - val_accuracy: 0.6350\n",
            "Epoch 6/40\n",
            "232/232 [==============================] - 27s 113ms/step - loss: 0.5544 - accuracy: 0.7191 - val_loss: 0.6247 - val_accuracy: 0.6450\n",
            "Epoch 7/40\n",
            "232/232 [==============================] - 27s 112ms/step - loss: 0.5514 - accuracy: 0.7199 - val_loss: 0.6191 - val_accuracy: 0.6500\n",
            "Epoch 8/40\n",
            "232/232 [==============================] - 27s 113ms/step - loss: 0.5456 - accuracy: 0.7281 - val_loss: 0.6223 - val_accuracy: 0.6450\n",
            "Epoch 9/40\n",
            "232/232 [==============================] - 27s 113ms/step - loss: 0.5405 - accuracy: 0.7289 - val_loss: 0.6355 - val_accuracy: 0.6350\n",
            "Epoch 10/40\n",
            "232/232 [==============================] - 27s 113ms/step - loss: 0.5346 - accuracy: 0.7326 - val_loss: 0.6185 - val_accuracy: 0.6500\n",
            "Epoch 11/40\n",
            "232/232 [==============================] - 27s 112ms/step - loss: 0.5302 - accuracy: 0.7377 - val_loss: 0.6327 - val_accuracy: 0.6450\n",
            "Epoch 12/40\n",
            "232/232 [==============================] - 27s 113ms/step - loss: 0.5265 - accuracy: 0.7324 - val_loss: 0.6360 - val_accuracy: 0.6450\n",
            "Epoch 13/40\n",
            "232/232 [==============================] - 27s 112ms/step - loss: 0.5241 - accuracy: 0.7362 - val_loss: 0.6354 - val_accuracy: 0.6450\n",
            "Epoch 14/40\n",
            "232/232 [==============================] - 27s 112ms/step - loss: 0.5205 - accuracy: 0.7448 - val_loss: 0.6386 - val_accuracy: 0.6200\n",
            "Epoch 15/40\n",
            "232/232 [==============================] - 27s 111ms/step - loss: 0.5218 - accuracy: 0.7421 - val_loss: 0.6365 - val_accuracy: 0.6350\n",
            "Epoch 16/40\n",
            "232/232 [==============================] - 27s 111ms/step - loss: 0.5178 - accuracy: 0.7425 - val_loss: 0.6350 - val_accuracy: 0.6550\n",
            "Epoch 17/40\n",
            "232/232 [==============================] - 26s 110ms/step - loss: 0.5131 - accuracy: 0.7489 - val_loss: 0.6368 - val_accuracy: 0.6450\n",
            "Epoch 18/40\n",
            "232/232 [==============================] - 27s 111ms/step - loss: 0.5135 - accuracy: 0.7486 - val_loss: 0.6401 - val_accuracy: 0.6500\n",
            "Epoch 19/40\n",
            "232/232 [==============================] - 26s 110ms/step - loss: 0.5091 - accuracy: 0.7506 - val_loss: 0.6419 - val_accuracy: 0.6400\n",
            "Epoch 20/40\n",
            "232/232 [==============================] - 26s 110ms/step - loss: 0.5087 - accuracy: 0.7481 - val_loss: 0.6379 - val_accuracy: 0.6500\n",
            "Epoch 21/40\n",
            "232/232 [==============================] - 27s 110ms/step - loss: 0.5039 - accuracy: 0.7508 - val_loss: 0.6524 - val_accuracy: 0.6250\n",
            "Epoch 22/40\n",
            "232/232 [==============================] - 26s 110ms/step - loss: 0.5020 - accuracy: 0.7546 - val_loss: 0.6420 - val_accuracy: 0.6700\n",
            "Epoch 23/40\n",
            "232/232 [==============================] - 27s 112ms/step - loss: 0.4986 - accuracy: 0.7559 - val_loss: 0.6535 - val_accuracy: 0.6300\n",
            "Epoch 24/40\n",
            "232/232 [==============================] - 27s 112ms/step - loss: 0.5003 - accuracy: 0.7547 - val_loss: 0.6531 - val_accuracy: 0.6450\n",
            "Epoch 25/40\n",
            "232/232 [==============================] - 26s 110ms/step - loss: 0.4995 - accuracy: 0.7544 - val_loss: 0.6501 - val_accuracy: 0.6500\n",
            "Epoch 26/40\n",
            "232/232 [==============================] - 27s 111ms/step - loss: 0.4986 - accuracy: 0.7558 - val_loss: 0.6590 - val_accuracy: 0.6300\n",
            "Epoch 27/40\n",
            "232/232 [==============================] - 26s 110ms/step - loss: 0.4987 - accuracy: 0.7552 - val_loss: 0.6508 - val_accuracy: 0.6550\n",
            "Epoch 28/40\n",
            "232/232 [==============================] - 26s 110ms/step - loss: 0.4923 - accuracy: 0.7610 - val_loss: 0.6560 - val_accuracy: 0.6400\n",
            "Epoch 29/40\n",
            "232/232 [==============================] - 26s 110ms/step - loss: 0.4928 - accuracy: 0.7605 - val_loss: 0.6497 - val_accuracy: 0.6600\n",
            "Epoch 30/40\n",
            "232/232 [==============================] - 26s 110ms/step - loss: 0.4928 - accuracy: 0.7579 - val_loss: 0.6549 - val_accuracy: 0.6550\n",
            "Epoch 31/40\n",
            "232/232 [==============================] - 26s 109ms/step - loss: 0.4861 - accuracy: 0.7657 - val_loss: 0.6655 - val_accuracy: 0.6250\n",
            "Epoch 32/40\n",
            "232/232 [==============================] - 26s 109ms/step - loss: 0.4859 - accuracy: 0.7636 - val_loss: 0.6559 - val_accuracy: 0.6600\n",
            "Epoch 33/40\n",
            "232/232 [==============================] - 26s 109ms/step - loss: 0.4861 - accuracy: 0.7594 - val_loss: 0.6648 - val_accuracy: 0.6550\n",
            "Epoch 34/40\n",
            "232/232 [==============================] - 26s 109ms/step - loss: 0.4871 - accuracy: 0.7648 - val_loss: 0.6648 - val_accuracy: 0.6400\n",
            "Epoch 35/40\n",
            "232/232 [==============================] - 27s 111ms/step - loss: 0.4885 - accuracy: 0.7644 - val_loss: 0.6609 - val_accuracy: 0.6500\n",
            "Epoch 36/40\n",
            "232/232 [==============================] - 26s 110ms/step - loss: 0.4877 - accuracy: 0.7602 - val_loss: 0.6699 - val_accuracy: 0.6450\n",
            "Epoch 37/40\n",
            "232/232 [==============================] - 26s 109ms/step - loss: 0.4839 - accuracy: 0.7683 - val_loss: 0.6654 - val_accuracy: 0.6550\n",
            "Epoch 38/40\n",
            "232/232 [==============================] - 26s 109ms/step - loss: 0.4824 - accuracy: 0.7698 - val_loss: 0.6752 - val_accuracy: 0.6450\n",
            "Epoch 39/40\n",
            "232/232 [==============================] - 28s 119ms/step - loss: 0.4807 - accuracy: 0.7705 - val_loss: 0.6699 - val_accuracy: 0.6550\n",
            "Epoch 40/40\n",
            "232/232 [==============================] - 27s 112ms/step - loss: 0.4818 - accuracy: 0.7694 - val_loss: 0.6657 - val_accuracy: 0.6450\n"
          ]
        }
      ]
    },
    {
      "cell_type": "code",
      "source": [
        "import matplotlib.pyplot as plt\n",
        "\n",
        "def plot_loss_curves(history):\n",
        "  \"\"\"\n",
        "  Returns separate loss curves for training and validation metrics.\n",
        "  Args:\n",
        "    history: TensorFlow History object.\n",
        "\n",
        "    Returns:\n",
        "    Plots of training/validation loss and accuracy metrics.\n",
        "  \"\"\"\n",
        "  loss = history.history['loss']\n",
        "  val_loss = history.history['val_loss']\n",
        "\n",
        "  accuracy = history.history['accuracy']\n",
        "  val_accuracy = history.history['val_accuracy']\n",
        "\n",
        "  epochs = range(len(history.history['loss']))\n",
        "\n",
        "  #Plot loss\n",
        "\n",
        "  plt.plot(epochs, loss, label='training_loss')\n",
        "  plt.plot(epochs, val_loss, label='val_loss')\n",
        "  plt.title('Loss')\n",
        "  plt.xlabel('Epochs')\n",
        "  plt.legend()\n",
        "\n",
        "  #Plot accuracy\n",
        "  plt.figure()\n",
        "  plt.plot(epochs, accuracy, label='training_accuracy')\n",
        "  plt.plot(epochs, val_accuracy, label='val_accuracy')\n",
        "  plt.title('Accuracy')\n",
        "  plt.xlabel('Epochs')\n",
        "  plt.legend();\n",
        "\n",
        "plot_loss_curves(history_0)"
      ],
      "metadata": {
        "colab": {
          "base_uri": "https://localhost:8080/",
          "height": 927
        },
        "id": "cSQ_yPMD64rw",
        "outputId": "2420ee34-dccb-462a-b154-5cd12550b560"
      },
      "execution_count": 15,
      "outputs": [
        {
          "output_type": "display_data",
          "data": {
            "text/plain": [
              "<Figure size 640x480 with 1 Axes>"
            ],
            "image/png": "[encoded data removed]"
          },
          "metadata": {}
        },
        {
          "output_type": "display_data",
          "data": {
            "text/plain": [
              "<Figure size 640x480 with 1 Axes>"
            ],
            "image/png": "[encoded data removed]"
          },
          "metadata": {}
        }
      ]
    },
    {
      "cell_type": "code",
      "source": [
        "results_feature_extraction = model_0.evaluate(test_data)\n",
        "results_feature_extraction"
      ],
      "metadata": {
        "colab": {
          "base_uri": "https://localhost:8080/"
        },
        "id": "4-Z9Zsa-_2Ss",
        "outputId": "f690d802-4cce-4121-88e9-46e29e579276"
      },
      "execution_count": 16,
      "outputs": [
        {
          "output_type": "stream",
          "name": "stdout",
          "text": [
            "7/7 [==============================] - 2s 61ms/step - loss: 0.6657 - accuracy: 0.6450\n"
          ]
        },
        {
          "output_type": "execute_result",
          "data": {
            "text/plain": [
              "[0.6657447218894958, 0.6449999809265137]"
            ]
          },
          "metadata": {},
          "execution_count": 16
        }
      ]
    },
    {
      "cell_type": "code",
      "source": [
        "# Get the predicted probabilities for the test set\n",
        "y_pred_probs = model_0.predict(test_data)\n",
        "\n",
        "# Convert probabilities to binary predictions (0 or 1)\n",
        "y_pred = (y_pred_probs > 0.5).astype(int)\n",
        "\n",
        "# Get the true labels for the test set\n",
        "y_true = np.concatenate([y for x, y in test_data], axis=0)\n",
        "\n",
        "# Calculate precision\n",
        "from sklearn.metrics import precision_score\n",
        "precision = precision_score(y_true, y_pred)\n",
        "print(\"Precision:\", precision)"
      ],
      "metadata": {
        "colab": {
          "base_uri": "https://localhost:8080/"
        },
        "id": "PjVRcMRX_4Cf",
        "outputId": "cdd86c51-0aae-4915-e26c-0f32aaa56e32"
      },
      "execution_count": 17,
      "outputs": [
        {
          "output_type": "stream",
          "name": "stdout",
          "text": [
            "7/7 [==============================] - 3s 65ms/step\n",
            "Precision: 0.5051546391752577\n"
          ]
        }
      ]
    },
    {
      "cell_type": "code",
      "source": [
        "from sklearn.metrics import recall_score\n",
        "\n",
        "# Calculate recall\n",
        "recall = recall_score(y_true, y_pred)\n",
        "print(\"Recall:\", recall)"
      ],
      "metadata": {
        "colab": {
          "base_uri": "https://localhost:8080/"
        },
        "id": "trYqnm_W_5sm",
        "outputId": "3d9b5189-20d6-4e09-c641-36efe4359281"
      },
      "execution_count": 18,
      "outputs": [
        {
          "output_type": "stream",
          "name": "stdout",
          "text": [
            "Recall: 0.49\n"
          ]
        }
      ]
    },
    {
      "cell_type": "code",
      "source": [
        "from sklearn.metrics import f1_score\n",
        "# Calculate F1-score\n",
        "f1 = f1_score(y_true, y_pred)\n",
        "print(\"F1-score:\", f1)"
      ],
      "metadata": {
        "colab": {
          "base_uri": "https://localhost:8080/"
        },
        "id": "23Hf6u_a_7sJ",
        "outputId": "fddf97da-6710-42e4-9357-d989ff7bdb93"
      },
      "execution_count": 19,
      "outputs": [
        {
          "output_type": "stream",
          "name": "stdout",
          "text": [
            "F1-score: 0.4974619289340101\n"
          ]
        }
      ]
    },
    {
      "cell_type": "code",
      "source": [
        "# Eğitim doğruluğunu elde etmek için history_0 nesnesini kullanın\n",
        "train_accuracy = history_0.history['accuracy']\n",
        "\n",
        "# Son epoch'un eğitim doğruluğunu yazdırın\n",
        "print(\"Eğitim doğruluğu:\", train_accuracy[-1])"
      ],
      "metadata": {
        "colab": {
          "base_uri": "https://localhost:8080/"
        },
        "id": "HNleJD9j_9i0",
        "outputId": "8a0d9a31-5575-4891-f176-20eb55844e94"
      },
      "execution_count": 20,
      "outputs": [
        {
          "output_type": "stream",
          "name": "stdout",
          "text": [
            "Eğitim doğruluğu: 0.769386351108551\n"
          ]
        }
      ]
    },
    {
      "cell_type": "code",
      "source": [],
      "metadata": {
        "id": "P-RzwW_B__BG"
      },
      "execution_count": null,
      "outputs": []
    }
  ]
}