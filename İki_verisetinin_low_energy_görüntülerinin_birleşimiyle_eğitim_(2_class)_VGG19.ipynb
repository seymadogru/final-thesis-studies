{
  "nbformat": 4,
  "nbformat_minor": 0,
  "metadata": {
    "colab": {
      "provenance": [],
      "machine_shape": "hm",
      "gpuType": "T4"
    },
    "kernelspec": {
      "name": "python3",
      "display_name": "Python 3"
    },
    "language_info": {
      "name": "python"
    },
    "accelerator": "GPU"
  },
  "cells": [
    {
      "cell_type": "code",
      "execution_count": 1,
      "metadata": {
        "colab": {
          "base_uri": "https://localhost:8080/"
        },
        "id": "gbnn7I5ppD3v",
        "outputId": "44d67125-7115-46e1-f8d1-0b9e3d62b1b4"
      },
      "outputs": [
        {
          "output_type": "stream",
          "name": "stdout",
          "text": [
            "Mounted at /content/drive\n"
          ]
        }
      ],
      "source": [
        "\n",
        "from google.colab import drive\n",
        "drive.mount('/content/drive')"
      ]
    },
    {
      "cell_type": "code",
      "source": [
        "!wget https://raw.githubusercontent.com/mrdbourke/tensorflow-deep-learning/main/extras/helper_functions.py"
      ],
      "metadata": {
        "colab": {
          "base_uri": "https://localhost:8080/"
        },
        "id": "GEOUS8tkqQ5b",
        "outputId": "e6a0152c-6eee-44b5-e715-bd8d757b78d1"
      },
      "execution_count": 2,
      "outputs": [
        {
          "output_type": "stream",
          "name": "stdout",
          "text": [
            "--2024-07-30 20:08:31--  https://raw.githubusercontent.com/mrdbourke/tensorflow-deep-learning/main/extras/helper_functions.py\n",
            "Resolving raw.githubusercontent.com (raw.githubusercontent.com)... 185.199.108.133, 185.199.109.133, 185.199.110.133, ...\n",
            "Connecting to raw.githubusercontent.com (raw.githubusercontent.com)|185.199.108.133|:443... connected.\n",
            "HTTP request sent, awaiting response... 200 OK\n",
            "Length: 10246 (10K) [text/plain]\n",
            "Saving to: ‘helper_functions.py’\n",
            "\n",
            "helper_functions.py 100%[===================>]  10.01K  --.-KB/s    in 0s      \n",
            "\n",
            "2024-07-30 20:08:32 (126 MB/s) - ‘helper_functions.py’ saved [10246/10246]\n",
            "\n"
          ]
        }
      ]
    },
    {
      "cell_type": "code",
      "source": [
        "#import helper functions we're going to use in this notebook\n",
        "\n",
        "from helper_functions import create_tensorboard_callback, plot_loss_curves, unzip_data, walk_through_dir\n"
      ],
      "metadata": {
        "id": "hK_l2L0iqZKA"
      },
      "execution_count": 3,
      "outputs": []
    },
    {
      "cell_type": "code",
      "source": [
        "import os\n",
        "\n",
        "for dirpath, dirnames, filenames in os.walk(\"/content/drive/MyDrive/Tez Dosyaları/low energy 2 classlı\"):\n",
        "  print(f\"There are {len(dirnames)} directories and {len(filenames)} images in '{dirpath}'.\")\n",
        "\n",
        ""
      ],
      "metadata": {
        "colab": {
          "base_uri": "https://localhost:8080/"
        },
        "id": "CJUXA2gXqa-A",
        "outputId": "3907fc57-0852-4676-91d8-505f489d0b7e"
      },
      "execution_count": 4,
      "outputs": [
        {
          "output_type": "stream",
          "name": "stdout",
          "text": [
            "There are 2 directories and 0 images in '/content/drive/MyDrive/Tez Dosyaları/low energy 2 classlı'.\n",
            "There are 2 directories and 0 images in '/content/drive/MyDrive/Tez Dosyaları/low energy 2 classlı/Train'.\n",
            "There are 0 directories and 420 images in '/content/drive/MyDrive/Tez Dosyaları/low energy 2 classlı/Train/Malignant'.\n",
            "There are 0 directories and 325 images in '/content/drive/MyDrive/Tez Dosyaları/low energy 2 classlı/Train/Benign'.\n",
            "There are 2 directories and 0 images in '/content/drive/MyDrive/Tez Dosyaları/low energy 2 classlı/Test'.\n",
            "There are 0 directories and 50 images in '/content/drive/MyDrive/Tez Dosyaları/low energy 2 classlı/Test/Malignant'.\n",
            "There are 0 directories and 50 images in '/content/drive/MyDrive/Tez Dosyaları/low energy 2 classlı/Test/Benign'.\n"
          ]
        }
      ]
    },
    {
      "cell_type": "code",
      "source": [
        "\n",
        "train_dir = \"/content/drive/MyDrive/Tez Dosyaları/low energy 2 classlı/Train\"\n",
        "test_dir = \"/content/drive/MyDrive/Tez Dosyaları/low energy 2 classlı/Test\""
      ],
      "metadata": {
        "id": "_NzHZ4XuqhBQ"
      },
      "execution_count": 5,
      "outputs": []
    },
    {
      "cell_type": "code",
      "source": [
        "import tensorflow as tf\n",
        "BATCH_SIZE = 32\n",
        "IMG_SIZE = (224, 224)\n",
        "train_data= tf.keras.preprocessing.image_dataset_from_directory(train_dir,\n",
        "                                                          label_mode=\"binary\",\n",
        "                                                          batch_size=BATCH_SIZE,\n",
        "                                                          image_size=IMG_SIZE)\n",
        "\n",
        "test_data = tf.keras.preprocessing.image_dataset_from_directory(test_dir,\n",
        "                                                          label_mode=\"binary\",\n",
        "                                                          batch_size=BATCH_SIZE,\n",
        "                                                          image_size=IMG_SIZE)"
      ],
      "metadata": {
        "colab": {
          "base_uri": "https://localhost:8080/"
        },
        "id": "JSaT6B8wqmGe",
        "outputId": "603f3743-d2c2-40bd-c2b0-8605726a340e"
      },
      "execution_count": 6,
      "outputs": [
        {
          "output_type": "stream",
          "name": "stdout",
          "text": [
            "Found 745 files belonging to 2 classes.\n",
            "Found 100 files belonging to 2 classes.\n"
          ]
        }
      ]
    },
    {
      "cell_type": "code",
      "source": [
        "train_data.class_names"
      ],
      "metadata": {
        "colab": {
          "base_uri": "https://localhost:8080/"
        },
        "id": "z_mae4EUqoa_",
        "outputId": "37e325e8-ec83-4325-ce57-4960afa1b9fb"
      },
      "execution_count": 7,
      "outputs": [
        {
          "output_type": "execute_result",
          "data": {
            "text/plain": [
              "['Benign', 'Malignant']"
            ]
          },
          "metadata": {},
          "execution_count": 7
        }
      ]
    },
    {
      "cell_type": "code",
      "source": [
        "from tensorflow.keras.preprocessing.image import ImageDataGenerator\n",
        "from tensorflow.keras.preprocessing.image import img_to_array\n",
        "from tensorflow.keras.preprocessing.image import load_img\n",
        "import numpy as np\n",
        "import random\n",
        "import math\n",
        "import csv\n",
        "import cv2\n",
        "import os"
      ],
      "metadata": {
        "id": "Gdc0J2uercAH"
      },
      "execution_count": 8,
      "outputs": []
    },
    {
      "cell_type": "code",
      "source": [
        "# 1.  create base model with tf.keras.applications\n",
        "base_model = tf.keras.applications.VGG19(include_top=False)\n",
        "\n",
        "# 2. Freeze the base model\n",
        "base_model.trainable = False\n",
        "\n",
        "# 3. create inputs into our model\n",
        "inputs = tf.keras.layers.Input(shape=(224, 224, 3), name=\"input_layer\")\n",
        "\n",
        "# 4. if using ResNet50V2 you will need to normalize inputs\n",
        "# x = tf.keras.layers.experimental.preprocessing.Rescaling(1./255)(inputs)\n",
        "\n",
        "# 5. pass the inputs to the base_model\n",
        "x = base_model(inputs)\n",
        "print(f\"Shape after passing inputs through base model: {x.shape}\")\n",
        "\n",
        "# 6. average pool the outputs of the base model (aggregate all the most important information, reduce number of computations)\n",
        "x = tf.keras.layers.GlobalAveragePooling2D(name=\"global_average_pooling_layer\")(x)\n",
        "print(f\"Shape after GlobalAveragePooling2D: {x.shape}\")\n",
        "\n",
        "# 7. create the output activation layer\n",
        "outputs = tf.keras.layers.Dense(1, activation=\"sigmoid\", name=\"output_layer\")(x)\n",
        "model_0 = tf.keras.Model(inputs, outputs)\n",
        "\n",
        "# 8. compile the model\n",
        "model_0.compile(loss=\"binary_crossentropy\",\n",
        "                optimizer=tf.keras.optimizers.Adam(),\n",
        "                metrics=[\"accuracy\"])\n",
        "\n",
        "# 9. fit the model\n",
        "history_0 = model_0.fit(train_data,\n",
        "                        epochs=40,\n",
        "                        steps_per_epoch=len(train_data),\n",
        "                        validation_data=test_data,\n",
        "                        validation_steps=int(len(test_data)),\n",
        "                        callbacks=[create_tensorboard_callback(dir_name=\"transfer_learning\",\n",
        "                                                              experiment_name=\"10_percent_feature_extraction\")])\n"
      ],
      "metadata": {
        "colab": {
          "base_uri": "https://localhost:8080/"
        },
        "id": "Twe27qyHrh6F",
        "outputId": "6fa572b5-5f1c-40d1-80e3-66b688ba1904"
      },
      "execution_count": 16,
      "outputs": [
        {
          "output_type": "stream",
          "name": "stdout",
          "text": [
            "Downloading data from https://storage.googleapis.com/tensorflow/keras-applications/vgg19/vgg19_weights_tf_dim_ordering_tf_kernels_notop.h5\n",
            "80134624/80134624 [==============================] - 3s 0us/step\n",
            "Shape after passing inputs through base model: (None, 7, 7, 512)\n",
            "Shape after GlobalAveragePooling2D: (None, 512)\n",
            "Saving TensorBoard log files to: transfer_learning/10_percent_feature_extraction/20240730-202155\n",
            "Epoch 1/40\n",
            "24/24 [==============================] - 8s 222ms/step - loss: 1.1712 - accuracy: 0.4792 - val_loss: 0.9267 - val_accuracy: 0.5400\n",
            "Epoch 2/40\n",
            "24/24 [==============================] - 7s 219ms/step - loss: 0.9152 - accuracy: 0.5248 - val_loss: 0.8657 - val_accuracy: 0.5300\n",
            "Epoch 3/40\n",
            "24/24 [==============================] - 7s 209ms/step - loss: 0.7901 - accuracy: 0.5436 - val_loss: 0.8848 - val_accuracy: 0.5900\n",
            "Epoch 4/40\n",
            "24/24 [==============================] - 7s 218ms/step - loss: 0.7253 - accuracy: 0.5866 - val_loss: 0.8101 - val_accuracy: 0.6300\n",
            "Epoch 5/40\n",
            "24/24 [==============================] - 6s 208ms/step - loss: 0.6898 - accuracy: 0.6255 - val_loss: 0.8192 - val_accuracy: 0.6700\n",
            "Epoch 6/40\n",
            "24/24 [==============================] - 7s 215ms/step - loss: 0.6582 - accuracy: 0.6416 - val_loss: 0.8044 - val_accuracy: 0.6600\n",
            "Epoch 7/40\n",
            "24/24 [==============================] - 7s 209ms/step - loss: 0.6306 - accuracy: 0.6591 - val_loss: 0.8163 - val_accuracy: 0.6800\n",
            "Epoch 8/40\n",
            "24/24 [==============================] - 7s 218ms/step - loss: 0.6075 - accuracy: 0.6779 - val_loss: 0.8809 - val_accuracy: 0.6500\n",
            "Epoch 9/40\n",
            "24/24 [==============================] - 7s 212ms/step - loss: 0.5959 - accuracy: 0.6752 - val_loss: 0.8696 - val_accuracy: 0.6600\n",
            "Epoch 10/40\n",
            "24/24 [==============================] - 7s 216ms/step - loss: 0.5802 - accuracy: 0.6966 - val_loss: 0.9049 - val_accuracy: 0.6000\n",
            "Epoch 11/40\n",
            "24/24 [==============================] - 6s 207ms/step - loss: 0.5718 - accuracy: 0.6966 - val_loss: 0.8460 - val_accuracy: 0.6700\n",
            "Epoch 12/40\n",
            "24/24 [==============================] - 7s 216ms/step - loss: 0.5573 - accuracy: 0.7181 - val_loss: 0.8654 - val_accuracy: 0.6500\n",
            "Epoch 13/40\n",
            "24/24 [==============================] - 7s 210ms/step - loss: 0.5610 - accuracy: 0.7181 - val_loss: 1.0142 - val_accuracy: 0.6000\n",
            "Epoch 14/40\n",
            "24/24 [==============================] - 7s 215ms/step - loss: 0.5563 - accuracy: 0.6953 - val_loss: 0.9106 - val_accuracy: 0.6300\n",
            "Epoch 15/40\n",
            "24/24 [==============================] - 6s 207ms/step - loss: 0.5320 - accuracy: 0.7248 - val_loss: 0.8554 - val_accuracy: 0.6700\n",
            "Epoch 16/40\n",
            "24/24 [==============================] - 7s 205ms/step - loss: 0.5245 - accuracy: 0.7369 - val_loss: 0.8698 - val_accuracy: 0.6800\n",
            "Epoch 17/40\n",
            "24/24 [==============================] - 7s 211ms/step - loss: 0.5192 - accuracy: 0.7342 - val_loss: 0.8448 - val_accuracy: 0.6700\n",
            "Epoch 18/40\n",
            "24/24 [==============================] - 7s 206ms/step - loss: 0.5245 - accuracy: 0.7302 - val_loss: 1.0128 - val_accuracy: 0.6100\n",
            "Epoch 19/40\n",
            "24/24 [==============================] - 7s 211ms/step - loss: 0.5070 - accuracy: 0.7450 - val_loss: 0.9324 - val_accuracy: 0.6300\n",
            "Epoch 20/40\n",
            "24/24 [==============================] - 7s 209ms/step - loss: 0.4967 - accuracy: 0.7530 - val_loss: 0.9094 - val_accuracy: 0.6400\n",
            "Epoch 21/40\n",
            "24/24 [==============================] - 7s 213ms/step - loss: 0.4891 - accuracy: 0.7570 - val_loss: 0.8587 - val_accuracy: 0.6500\n",
            "Epoch 22/40\n",
            "24/24 [==============================] - 7s 212ms/step - loss: 0.4826 - accuracy: 0.7624 - val_loss: 0.8585 - val_accuracy: 0.6700\n",
            "Epoch 23/40\n",
            "24/24 [==============================] - 6s 209ms/step - loss: 0.4769 - accuracy: 0.7785 - val_loss: 0.8387 - val_accuracy: 0.6400\n",
            "Epoch 24/40\n",
            "24/24 [==============================] - 7s 210ms/step - loss: 0.4768 - accuracy: 0.7785 - val_loss: 0.9985 - val_accuracy: 0.6100\n",
            "Epoch 25/40\n",
            "24/24 [==============================] - 7s 215ms/step - loss: 0.4764 - accuracy: 0.7638 - val_loss: 0.8715 - val_accuracy: 0.6500\n",
            "Epoch 26/40\n",
            "24/24 [==============================] - 7s 209ms/step - loss: 0.4665 - accuracy: 0.7866 - val_loss: 0.8652 - val_accuracy: 0.6300\n",
            "Epoch 27/40\n",
            "24/24 [==============================] - 7s 214ms/step - loss: 0.4595 - accuracy: 0.7919 - val_loss: 0.9182 - val_accuracy: 0.6400\n",
            "Epoch 28/40\n",
            "24/24 [==============================] - 6s 207ms/step - loss: 0.4506 - accuracy: 0.8013 - val_loss: 0.9246 - val_accuracy: 0.6400\n",
            "Epoch 29/40\n",
            "24/24 [==============================] - 7s 209ms/step - loss: 0.4516 - accuracy: 0.7879 - val_loss: 0.9032 - val_accuracy: 0.6300\n",
            "Epoch 30/40\n",
            "24/24 [==============================] - 7s 211ms/step - loss: 0.4443 - accuracy: 0.7919 - val_loss: 0.9405 - val_accuracy: 0.6400\n",
            "Epoch 31/40\n",
            "24/24 [==============================] - 7s 218ms/step - loss: 0.4460 - accuracy: 0.7893 - val_loss: 0.9121 - val_accuracy: 0.6400\n",
            "Epoch 32/40\n",
            "24/24 [==============================] - 6s 207ms/step - loss: 0.4370 - accuracy: 0.8027 - val_loss: 0.8998 - val_accuracy: 0.6300\n",
            "Epoch 33/40\n",
            "24/24 [==============================] - 7s 218ms/step - loss: 0.4293 - accuracy: 0.8148 - val_loss: 0.9051 - val_accuracy: 0.6300\n",
            "Epoch 34/40\n",
            "24/24 [==============================] - 7s 210ms/step - loss: 0.4351 - accuracy: 0.8054 - val_loss: 1.0008 - val_accuracy: 0.6300\n",
            "Epoch 35/40\n",
            "24/24 [==============================] - 7s 219ms/step - loss: 0.4270 - accuracy: 0.8081 - val_loss: 0.9403 - val_accuracy: 0.6100\n",
            "Epoch 36/40\n",
            "24/24 [==============================] - 6s 207ms/step - loss: 0.4202 - accuracy: 0.8107 - val_loss: 0.9568 - val_accuracy: 0.6300\n",
            "Epoch 37/40\n",
            "24/24 [==============================] - 7s 217ms/step - loss: 0.4189 - accuracy: 0.8148 - val_loss: 0.9337 - val_accuracy: 0.6200\n",
            "Epoch 38/40\n",
            "24/24 [==============================] - 7s 210ms/step - loss: 0.4330 - accuracy: 0.7919 - val_loss: 0.8784 - val_accuracy: 0.6300\n",
            "Epoch 39/40\n",
            "24/24 [==============================] - 7s 214ms/step - loss: 0.4291 - accuracy: 0.7960 - val_loss: 0.8840 - val_accuracy: 0.6200\n",
            "Epoch 40/40\n",
            "24/24 [==============================] - 7s 207ms/step - loss: 0.4095 - accuracy: 0.8201 - val_loss: 0.9307 - val_accuracy: 0.6300\n"
          ]
        }
      ]
    },
    {
      "cell_type": "code",
      "source": [
        "import matplotlib.pyplot as plt\n",
        "\n",
        "def plot_loss_curves(history):\n",
        "  \"\"\"\n",
        "  Returns separate loss curves for training and validation metrics.\n",
        "  Args:\n",
        "    history: TensorFlow History object.\n",
        "\n",
        "    Returns:\n",
        "    Plots of training/validation loss and accuracy metrics.\n",
        "  \"\"\"\n",
        "  loss = history.history['loss']\n",
        "  val_loss = history.history['val_loss']\n",
        "\n",
        "  accuracy = history.history['accuracy']\n",
        "  val_accuracy = history.history['val_accuracy']\n",
        "\n",
        "  epochs = range(len(history.history['loss']))\n",
        "\n",
        "  #Plot loss\n",
        "\n",
        "  plt.plot(epochs, loss, label='training_loss')\n",
        "  plt.plot(epochs, val_loss, label='val_loss')\n",
        "  plt.title('Loss')\n",
        "  plt.xlabel('Epochs')\n",
        "  plt.legend()\n",
        "\n",
        "  #Plot accuracy\n",
        "  plt.figure()\n",
        "  plt.plot(epochs, accuracy, label='training_accuracy')\n",
        "  plt.plot(epochs, val_accuracy, label='val_accuracy')\n",
        "  plt.title('Accuracy')\n",
        "  plt.xlabel('Epochs')\n",
        "  plt.legend();\n",
        "\n",
        "plot_loss_curves(history_0)"
      ],
      "metadata": {
        "colab": {
          "base_uri": "https://localhost:8080/",
          "height": 927
        },
        "id": "Q-5nt7ajrmxu",
        "outputId": "a968cdac-3a86-4ef7-b2af-45292a111b99"
      },
      "execution_count": 17,
      "outputs": [
        {
          "output_type": "display_data",
          "data": {
            "text/plain": [
              "<Figure size 640x480 with 1 Axes>"
            ],
            "image/png": "[encoded data removed]"
          },
          "metadata": {}
        },
        {
          "output_type": "display_data",
          "data": {
            "text/plain": [
              "<Figure size 640x480 with 1 Axes>"
            ],
            "image/png": "[encoded data removed]"
          },
          "metadata": {}
        }
      ]
    },
    {
      "cell_type": "code",
      "source": [
        "results_feature_extraction = model_0.evaluate(test_data)\n",
        "results_feature_extraction"
      ],
      "metadata": {
        "colab": {
          "base_uri": "https://localhost:8080/"
        },
        "id": "cG1S28JSrpXa",
        "outputId": "09019741-7ba0-4ffa-a58c-b41067ee2208"
      },
      "execution_count": 18,
      "outputs": [
        {
          "output_type": "stream",
          "name": "stdout",
          "text": [
            "4/4 [==============================] - 1s 106ms/step - loss: 0.9307 - accuracy: 0.6300\n"
          ]
        },
        {
          "output_type": "execute_result",
          "data": {
            "text/plain": [
              "[0.9307348132133484, 0.6299999952316284]"
            ]
          },
          "metadata": {},
          "execution_count": 18
        }
      ]
    },
    {
      "cell_type": "code",
      "source": [
        "# Get the predicted probabilities for the test set\n",
        "y_pred_probs = model_0.predict(test_data)\n",
        "\n",
        "# Convert probabilities to binary predictions (0 or 1)\n",
        "y_pred = (y_pred_probs > 0.5).astype(int)\n",
        "\n",
        "# Get the true labels for the test set\n",
        "y_true = np.concatenate([y for x, y in test_data], axis=0)\n",
        "\n",
        "# Calculate precision\n",
        "from sklearn.metrics import precision_score\n",
        "precision = precision_score(y_true, y_pred)\n",
        "print(\"Precision:\", precision)\n",
        ""
      ],
      "metadata": {
        "colab": {
          "base_uri": "https://localhost:8080/"
        },
        "id": "Io8ByLm4rq61",
        "outputId": "ff9faffe-781c-416d-aa08-12ce79cf3772"
      },
      "execution_count": 19,
      "outputs": [
        {
          "output_type": "stream",
          "name": "stdout",
          "text": [
            "4/4 [==============================] - 1s 134ms/step\n",
            "Precision: 0.5068493150684932\n"
          ]
        }
      ]
    },
    {
      "cell_type": "code",
      "source": [
        "from sklearn.metrics import recall_score\n",
        "\n",
        "# Calculate recall\n",
        "recall = recall_score(y_true, y_pred)\n",
        "print(\"Recall:\", recall)"
      ],
      "metadata": {
        "colab": {
          "base_uri": "https://localhost:8080/"
        },
        "id": "qUnBlENSrtgL",
        "outputId": "3a28ab64-9d60-403b-a132-b54b2a8328b3"
      },
      "execution_count": 20,
      "outputs": [
        {
          "output_type": "stream",
          "name": "stdout",
          "text": [
            "Recall: 0.74\n"
          ]
        }
      ]
    },
    {
      "cell_type": "code",
      "source": [
        "from sklearn.metrics import f1_score\n",
        "# Calculate F1-score\n",
        "f1 = f1_score(y_true, y_pred)\n",
        "print(\"F1-score:\", f1)"
      ],
      "metadata": {
        "colab": {
          "base_uri": "https://localhost:8080/"
        },
        "id": "o9oOP8worvAo",
        "outputId": "2650afa1-9c69-42cc-c6a8-0cb457c82040"
      },
      "execution_count": 21,
      "outputs": [
        {
          "output_type": "stream",
          "name": "stdout",
          "text": [
            "F1-score: 0.6016260162601627\n"
          ]
        }
      ]
    },
    {
      "cell_type": "code",
      "source": [
        "# Eğitim doğruluğunu elde etmek için history_0 nesnesini kullanın\n",
        "train_accuracy = history_0.history['accuracy']\n",
        "\n",
        "# Son epoch'un eğitim doğruluğunu yazdırın\n",
        "print(\"Eğitim doğruluğu:\", train_accuracy[-1])"
      ],
      "metadata": {
        "colab": {
          "base_uri": "https://localhost:8080/"
        },
        "id": "I1sTbDm7rwf2",
        "outputId": "1be742d2-e9b3-4a02-b576-5c2963191ea5"
      },
      "execution_count": 22,
      "outputs": [
        {
          "output_type": "stream",
          "name": "stdout",
          "text": [
            "Eğitim doğruluğu: 0.8201342225074768\n"
          ]
        }
      ]
    },
    {
      "cell_type": "code",
      "source": [],
      "metadata": {
        "id": "0RC0fUsCrx8y"
      },
      "execution_count": 22,
      "outputs": []
    }
  ]
}